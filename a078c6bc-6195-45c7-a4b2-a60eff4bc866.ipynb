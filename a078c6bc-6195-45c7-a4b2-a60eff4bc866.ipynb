{
 "cells": [
  {
   "cell_type": "markdown",
   "id": "386f2ae7",
   "metadata": {
    "deletable": false,
    "editable": false,
    "id": "386f2ae7"
   },
   "source": [
    "# Исследование надежности заемщиков\n"
   ]
  },
  {
   "cell_type": "markdown",
   "id": "402e873e",
   "metadata": {
    "editable": false,
    "id": "ffe86f65"
   },
   "source": [
    "Во второй части проекта вы выполните шаги 3 и 4. Их вручную проверит ревьюер.\n",
    "Чтобы вам не пришлось писать код заново для шагов 1 и 2, мы добавили авторские решения в ячейки с кодом. \n",
    "\n"
   ]
  },
  {
   "cell_type": "markdown",
   "id": "ffe86f65",
   "metadata": {
    "deletable": false,
    "editable": false,
    "id": "ffe86f65"
   },
   "source": [
    "Во второй части проекта вы выполните шаги 3 и 4. Их вручную проверит ревьюер.\n",
    "Чтобы вам не пришлось писать код заново для шагов 1 и 2, мы добавили авторские решения в ячейки с кодом. \n",
    "\n"
   ]
  },
  {
   "cell_type": "markdown",
   "id": "26613308",
   "metadata": {
    "deletable": false,
    "editable": false,
    "id": "26613308"
   },
   "source": [
    "## Откройте таблицу и изучите общую информацию о данных"
   ]
  },
  {
   "cell_type": "markdown",
   "id": "3c9f838e",
   "metadata": {
    "deletable": false,
    "editable": false,
    "id": "3c9f838e"
   },
   "source": [
    "**Задание 1. Импортируйте библиотеку pandas. Считайте данные из csv-файла в датафрейм и сохраните в переменную `data`. Путь к файлу:**\n",
    "\n",
    "`/datasets/data.csv`"
   ]
  },
  {
   "cell_type": "code",
   "execution_count": 1,
   "id": "77a68a90",
   "metadata": {
    "deletable": false,
    "id": "77a68a90"
   },
   "outputs": [],
   "source": [
    "import pandas as pd\n",
    "\n",
    "try:\n",
    "    data = pd.read_csv('/datasets/data.csv')\n",
    "except:\n",
    "    data = pd.read_csv('https://code.s3.yandex.net/datasets/data.csv')"
   ]
  },
  {
   "cell_type": "markdown",
   "id": "45365635",
   "metadata": {
    "deletable": false,
    "editable": false,
    "id": "45365635"
   },
   "source": [
    "**Задание 2. Выведите первые 20 строчек датафрейма `data` на экран.**"
   ]
  },
  {
   "cell_type": "code",
   "execution_count": 2,
   "id": "b0451a9a",
   "metadata": {
    "deletable": false,
    "id": "b0451a9a",
    "outputId": "1a8f3ef2-d323-4ec2-ddf7-89670b5944c4"
   },
   "outputs": [
    {
     "data": {
      "text/html": [
       "<div>\n",
       "<style scoped>\n",
       "    .dataframe tbody tr th:only-of-type {\n",
       "        vertical-align: middle;\n",
       "    }\n",
       "\n",
       "    .dataframe tbody tr th {\n",
       "        vertical-align: top;\n",
       "    }\n",
       "\n",
       "    .dataframe thead th {\n",
       "        text-align: right;\n",
       "    }\n",
       "</style>\n",
       "<table border=\"1\" class=\"dataframe\">\n",
       "  <thead>\n",
       "    <tr style=\"text-align: right;\">\n",
       "      <th></th>\n",
       "      <th>children</th>\n",
       "      <th>days_employed</th>\n",
       "      <th>dob_years</th>\n",
       "      <th>education</th>\n",
       "      <th>education_id</th>\n",
       "      <th>family_status</th>\n",
       "      <th>family_status_id</th>\n",
       "      <th>gender</th>\n",
       "      <th>income_type</th>\n",
       "      <th>debt</th>\n",
       "      <th>total_income</th>\n",
       "      <th>purpose</th>\n",
       "    </tr>\n",
       "  </thead>\n",
       "  <tbody>\n",
       "    <tr>\n",
       "      <th>0</th>\n",
       "      <td>1</td>\n",
       "      <td>-8437.673028</td>\n",
       "      <td>42</td>\n",
       "      <td>высшее</td>\n",
       "      <td>0</td>\n",
       "      <td>женат / замужем</td>\n",
       "      <td>0</td>\n",
       "      <td>F</td>\n",
       "      <td>сотрудник</td>\n",
       "      <td>0</td>\n",
       "      <td>253875.639453</td>\n",
       "      <td>покупка жилья</td>\n",
       "    </tr>\n",
       "    <tr>\n",
       "      <th>1</th>\n",
       "      <td>1</td>\n",
       "      <td>-4024.803754</td>\n",
       "      <td>36</td>\n",
       "      <td>среднее</td>\n",
       "      <td>1</td>\n",
       "      <td>женат / замужем</td>\n",
       "      <td>0</td>\n",
       "      <td>F</td>\n",
       "      <td>сотрудник</td>\n",
       "      <td>0</td>\n",
       "      <td>112080.014102</td>\n",
       "      <td>приобретение автомобиля</td>\n",
       "    </tr>\n",
       "    <tr>\n",
       "      <th>2</th>\n",
       "      <td>0</td>\n",
       "      <td>-5623.422610</td>\n",
       "      <td>33</td>\n",
       "      <td>Среднее</td>\n",
       "      <td>1</td>\n",
       "      <td>женат / замужем</td>\n",
       "      <td>0</td>\n",
       "      <td>M</td>\n",
       "      <td>сотрудник</td>\n",
       "      <td>0</td>\n",
       "      <td>145885.952297</td>\n",
       "      <td>покупка жилья</td>\n",
       "    </tr>\n",
       "    <tr>\n",
       "      <th>3</th>\n",
       "      <td>3</td>\n",
       "      <td>-4124.747207</td>\n",
       "      <td>32</td>\n",
       "      <td>среднее</td>\n",
       "      <td>1</td>\n",
       "      <td>женат / замужем</td>\n",
       "      <td>0</td>\n",
       "      <td>M</td>\n",
       "      <td>сотрудник</td>\n",
       "      <td>0</td>\n",
       "      <td>267628.550329</td>\n",
       "      <td>дополнительное образование</td>\n",
       "    </tr>\n",
       "    <tr>\n",
       "      <th>4</th>\n",
       "      <td>0</td>\n",
       "      <td>340266.072047</td>\n",
       "      <td>53</td>\n",
       "      <td>среднее</td>\n",
       "      <td>1</td>\n",
       "      <td>гражданский брак</td>\n",
       "      <td>1</td>\n",
       "      <td>F</td>\n",
       "      <td>пенсионер</td>\n",
       "      <td>0</td>\n",
       "      <td>158616.077870</td>\n",
       "      <td>сыграть свадьбу</td>\n",
       "    </tr>\n",
       "    <tr>\n",
       "      <th>5</th>\n",
       "      <td>0</td>\n",
       "      <td>-926.185831</td>\n",
       "      <td>27</td>\n",
       "      <td>высшее</td>\n",
       "      <td>0</td>\n",
       "      <td>гражданский брак</td>\n",
       "      <td>1</td>\n",
       "      <td>M</td>\n",
       "      <td>компаньон</td>\n",
       "      <td>0</td>\n",
       "      <td>255763.565419</td>\n",
       "      <td>покупка жилья</td>\n",
       "    </tr>\n",
       "    <tr>\n",
       "      <th>6</th>\n",
       "      <td>0</td>\n",
       "      <td>-2879.202052</td>\n",
       "      <td>43</td>\n",
       "      <td>высшее</td>\n",
       "      <td>0</td>\n",
       "      <td>женат / замужем</td>\n",
       "      <td>0</td>\n",
       "      <td>F</td>\n",
       "      <td>компаньон</td>\n",
       "      <td>0</td>\n",
       "      <td>240525.971920</td>\n",
       "      <td>операции с жильем</td>\n",
       "    </tr>\n",
       "    <tr>\n",
       "      <th>7</th>\n",
       "      <td>0</td>\n",
       "      <td>-152.779569</td>\n",
       "      <td>50</td>\n",
       "      <td>СРЕДНЕЕ</td>\n",
       "      <td>1</td>\n",
       "      <td>женат / замужем</td>\n",
       "      <td>0</td>\n",
       "      <td>M</td>\n",
       "      <td>сотрудник</td>\n",
       "      <td>0</td>\n",
       "      <td>135823.934197</td>\n",
       "      <td>образование</td>\n",
       "    </tr>\n",
       "    <tr>\n",
       "      <th>8</th>\n",
       "      <td>2</td>\n",
       "      <td>-6929.865299</td>\n",
       "      <td>35</td>\n",
       "      <td>ВЫСШЕЕ</td>\n",
       "      <td>0</td>\n",
       "      <td>гражданский брак</td>\n",
       "      <td>1</td>\n",
       "      <td>F</td>\n",
       "      <td>сотрудник</td>\n",
       "      <td>0</td>\n",
       "      <td>95856.832424</td>\n",
       "      <td>на проведение свадьбы</td>\n",
       "    </tr>\n",
       "    <tr>\n",
       "      <th>9</th>\n",
       "      <td>0</td>\n",
       "      <td>-2188.756445</td>\n",
       "      <td>41</td>\n",
       "      <td>среднее</td>\n",
       "      <td>1</td>\n",
       "      <td>женат / замужем</td>\n",
       "      <td>0</td>\n",
       "      <td>M</td>\n",
       "      <td>сотрудник</td>\n",
       "      <td>0</td>\n",
       "      <td>144425.938277</td>\n",
       "      <td>покупка жилья для семьи</td>\n",
       "    </tr>\n",
       "    <tr>\n",
       "      <th>10</th>\n",
       "      <td>2</td>\n",
       "      <td>-4171.483647</td>\n",
       "      <td>36</td>\n",
       "      <td>высшее</td>\n",
       "      <td>0</td>\n",
       "      <td>женат / замужем</td>\n",
       "      <td>0</td>\n",
       "      <td>M</td>\n",
       "      <td>компаньон</td>\n",
       "      <td>0</td>\n",
       "      <td>113943.491460</td>\n",
       "      <td>покупка недвижимости</td>\n",
       "    </tr>\n",
       "    <tr>\n",
       "      <th>11</th>\n",
       "      <td>0</td>\n",
       "      <td>-792.701887</td>\n",
       "      <td>40</td>\n",
       "      <td>среднее</td>\n",
       "      <td>1</td>\n",
       "      <td>женат / замужем</td>\n",
       "      <td>0</td>\n",
       "      <td>F</td>\n",
       "      <td>сотрудник</td>\n",
       "      <td>0</td>\n",
       "      <td>77069.234271</td>\n",
       "      <td>покупка коммерческой недвижимости</td>\n",
       "    </tr>\n",
       "    <tr>\n",
       "      <th>12</th>\n",
       "      <td>0</td>\n",
       "      <td>NaN</td>\n",
       "      <td>65</td>\n",
       "      <td>среднее</td>\n",
       "      <td>1</td>\n",
       "      <td>гражданский брак</td>\n",
       "      <td>1</td>\n",
       "      <td>M</td>\n",
       "      <td>пенсионер</td>\n",
       "      <td>0</td>\n",
       "      <td>NaN</td>\n",
       "      <td>сыграть свадьбу</td>\n",
       "    </tr>\n",
       "    <tr>\n",
       "      <th>13</th>\n",
       "      <td>0</td>\n",
       "      <td>-1846.641941</td>\n",
       "      <td>54</td>\n",
       "      <td>неоконченное высшее</td>\n",
       "      <td>2</td>\n",
       "      <td>женат / замужем</td>\n",
       "      <td>0</td>\n",
       "      <td>F</td>\n",
       "      <td>сотрудник</td>\n",
       "      <td>0</td>\n",
       "      <td>130458.228857</td>\n",
       "      <td>приобретение автомобиля</td>\n",
       "    </tr>\n",
       "    <tr>\n",
       "      <th>14</th>\n",
       "      <td>0</td>\n",
       "      <td>-1844.956182</td>\n",
       "      <td>56</td>\n",
       "      <td>высшее</td>\n",
       "      <td>0</td>\n",
       "      <td>гражданский брак</td>\n",
       "      <td>1</td>\n",
       "      <td>F</td>\n",
       "      <td>компаньон</td>\n",
       "      <td>1</td>\n",
       "      <td>165127.911772</td>\n",
       "      <td>покупка жилой недвижимости</td>\n",
       "    </tr>\n",
       "    <tr>\n",
       "      <th>15</th>\n",
       "      <td>1</td>\n",
       "      <td>-972.364419</td>\n",
       "      <td>26</td>\n",
       "      <td>среднее</td>\n",
       "      <td>1</td>\n",
       "      <td>женат / замужем</td>\n",
       "      <td>0</td>\n",
       "      <td>F</td>\n",
       "      <td>сотрудник</td>\n",
       "      <td>0</td>\n",
       "      <td>116820.904450</td>\n",
       "      <td>строительство собственной недвижимости</td>\n",
       "    </tr>\n",
       "    <tr>\n",
       "      <th>16</th>\n",
       "      <td>0</td>\n",
       "      <td>-1719.934226</td>\n",
       "      <td>35</td>\n",
       "      <td>среднее</td>\n",
       "      <td>1</td>\n",
       "      <td>женат / замужем</td>\n",
       "      <td>0</td>\n",
       "      <td>F</td>\n",
       "      <td>сотрудник</td>\n",
       "      <td>0</td>\n",
       "      <td>289202.704229</td>\n",
       "      <td>недвижимость</td>\n",
       "    </tr>\n",
       "    <tr>\n",
       "      <th>17</th>\n",
       "      <td>0</td>\n",
       "      <td>-2369.999720</td>\n",
       "      <td>33</td>\n",
       "      <td>высшее</td>\n",
       "      <td>0</td>\n",
       "      <td>гражданский брак</td>\n",
       "      <td>1</td>\n",
       "      <td>M</td>\n",
       "      <td>сотрудник</td>\n",
       "      <td>0</td>\n",
       "      <td>90410.586745</td>\n",
       "      <td>строительство недвижимости</td>\n",
       "    </tr>\n",
       "    <tr>\n",
       "      <th>18</th>\n",
       "      <td>0</td>\n",
       "      <td>400281.136913</td>\n",
       "      <td>53</td>\n",
       "      <td>среднее</td>\n",
       "      <td>1</td>\n",
       "      <td>вдовец / вдова</td>\n",
       "      <td>2</td>\n",
       "      <td>F</td>\n",
       "      <td>пенсионер</td>\n",
       "      <td>0</td>\n",
       "      <td>56823.777243</td>\n",
       "      <td>на покупку подержанного автомобиля</td>\n",
       "    </tr>\n",
       "    <tr>\n",
       "      <th>19</th>\n",
       "      <td>0</td>\n",
       "      <td>-10038.818549</td>\n",
       "      <td>48</td>\n",
       "      <td>СРЕДНЕЕ</td>\n",
       "      <td>1</td>\n",
       "      <td>в разводе</td>\n",
       "      <td>3</td>\n",
       "      <td>F</td>\n",
       "      <td>сотрудник</td>\n",
       "      <td>0</td>\n",
       "      <td>242831.107982</td>\n",
       "      <td>на покупку своего автомобиля</td>\n",
       "    </tr>\n",
       "  </tbody>\n",
       "</table>\n",
       "</div>"
      ],
      "text/plain": [
       "    children  days_employed  dob_years            education  education_id  \\\n",
       "0          1   -8437.673028         42               высшее             0   \n",
       "1          1   -4024.803754         36              среднее             1   \n",
       "2          0   -5623.422610         33              Среднее             1   \n",
       "3          3   -4124.747207         32              среднее             1   \n",
       "4          0  340266.072047         53              среднее             1   \n",
       "5          0    -926.185831         27               высшее             0   \n",
       "6          0   -2879.202052         43               высшее             0   \n",
       "7          0    -152.779569         50              СРЕДНЕЕ             1   \n",
       "8          2   -6929.865299         35               ВЫСШЕЕ             0   \n",
       "9          0   -2188.756445         41              среднее             1   \n",
       "10         2   -4171.483647         36               высшее             0   \n",
       "11         0    -792.701887         40              среднее             1   \n",
       "12         0            NaN         65              среднее             1   \n",
       "13         0   -1846.641941         54  неоконченное высшее             2   \n",
       "14         0   -1844.956182         56               высшее             0   \n",
       "15         1    -972.364419         26              среднее             1   \n",
       "16         0   -1719.934226         35              среднее             1   \n",
       "17         0   -2369.999720         33               высшее             0   \n",
       "18         0  400281.136913         53              среднее             1   \n",
       "19         0  -10038.818549         48              СРЕДНЕЕ             1   \n",
       "\n",
       "       family_status  family_status_id gender income_type  debt  \\\n",
       "0    женат / замужем                 0      F   сотрудник     0   \n",
       "1    женат / замужем                 0      F   сотрудник     0   \n",
       "2    женат / замужем                 0      M   сотрудник     0   \n",
       "3    женат / замужем                 0      M   сотрудник     0   \n",
       "4   гражданский брак                 1      F   пенсионер     0   \n",
       "5   гражданский брак                 1      M   компаньон     0   \n",
       "6    женат / замужем                 0      F   компаньон     0   \n",
       "7    женат / замужем                 0      M   сотрудник     0   \n",
       "8   гражданский брак                 1      F   сотрудник     0   \n",
       "9    женат / замужем                 0      M   сотрудник     0   \n",
       "10   женат / замужем                 0      M   компаньон     0   \n",
       "11   женат / замужем                 0      F   сотрудник     0   \n",
       "12  гражданский брак                 1      M   пенсионер     0   \n",
       "13   женат / замужем                 0      F   сотрудник     0   \n",
       "14  гражданский брак                 1      F   компаньон     1   \n",
       "15   женат / замужем                 0      F   сотрудник     0   \n",
       "16   женат / замужем                 0      F   сотрудник     0   \n",
       "17  гражданский брак                 1      M   сотрудник     0   \n",
       "18    вдовец / вдова                 2      F   пенсионер     0   \n",
       "19         в разводе                 3      F   сотрудник     0   \n",
       "\n",
       "     total_income                                 purpose  \n",
       "0   253875.639453                           покупка жилья  \n",
       "1   112080.014102                 приобретение автомобиля  \n",
       "2   145885.952297                           покупка жилья  \n",
       "3   267628.550329              дополнительное образование  \n",
       "4   158616.077870                         сыграть свадьбу  \n",
       "5   255763.565419                           покупка жилья  \n",
       "6   240525.971920                       операции с жильем  \n",
       "7   135823.934197                             образование  \n",
       "8    95856.832424                   на проведение свадьбы  \n",
       "9   144425.938277                 покупка жилья для семьи  \n",
       "10  113943.491460                    покупка недвижимости  \n",
       "11   77069.234271       покупка коммерческой недвижимости  \n",
       "12            NaN                         сыграть свадьбу  \n",
       "13  130458.228857                 приобретение автомобиля  \n",
       "14  165127.911772              покупка жилой недвижимости  \n",
       "15  116820.904450  строительство собственной недвижимости  \n",
       "16  289202.704229                            недвижимость  \n",
       "17   90410.586745              строительство недвижимости  \n",
       "18   56823.777243      на покупку подержанного автомобиля  \n",
       "19  242831.107982            на покупку своего автомобиля  "
      ]
     },
     "execution_count": 2,
     "metadata": {},
     "output_type": "execute_result"
    }
   ],
   "source": [
    "data.head(20)"
   ]
  },
  {
   "cell_type": "markdown",
   "id": "0ed8f27f",
   "metadata": {
    "deletable": false,
    "editable": false,
    "id": "0ed8f27f"
   },
   "source": [
    "**Задание 3. Выведите основную информацию о датафрейме с помощью метода `info()`.**"
   ]
  },
  {
   "cell_type": "code",
   "execution_count": 3,
   "id": "ab3f863b",
   "metadata": {
    "deletable": false,
    "id": "ab3f863b",
    "outputId": "15376089-8dad-46c9-b520-c05248d43158"
   },
   "outputs": [
    {
     "name": "stdout",
     "output_type": "stream",
     "text": [
      "<class 'pandas.core.frame.DataFrame'>\n",
      "RangeIndex: 21525 entries, 0 to 21524\n",
      "Data columns (total 12 columns):\n",
      " #   Column            Non-Null Count  Dtype  \n",
      "---  ------            --------------  -----  \n",
      " 0   children          21525 non-null  int64  \n",
      " 1   days_employed     19351 non-null  float64\n",
      " 2   dob_years         21525 non-null  int64  \n",
      " 3   education         21525 non-null  object \n",
      " 4   education_id      21525 non-null  int64  \n",
      " 5   family_status     21525 non-null  object \n",
      " 6   family_status_id  21525 non-null  int64  \n",
      " 7   gender            21525 non-null  object \n",
      " 8   income_type       21525 non-null  object \n",
      " 9   debt              21525 non-null  int64  \n",
      " 10  total_income      19351 non-null  float64\n",
      " 11  purpose           21525 non-null  object \n",
      "dtypes: float64(2), int64(5), object(5)\n",
      "memory usage: 2.0+ MB\n"
     ]
    }
   ],
   "source": [
    "data.info()"
   ]
  },
  {
   "cell_type": "markdown",
   "id": "60e3e22d",
   "metadata": {
    "deletable": false,
    "editable": false,
    "id": "60e3e22d"
   },
   "source": [
    "## Предобработка данных"
   ]
  },
  {
   "cell_type": "markdown",
   "id": "03dc170c",
   "metadata": {
    "deletable": false,
    "editable": false,
    "id": "03dc170c"
   },
   "source": [
    "### Удаление пропусков"
   ]
  },
  {
   "cell_type": "markdown",
   "id": "a4f54eef",
   "metadata": {
    "deletable": false,
    "editable": false,
    "id": "a4f54eef"
   },
   "source": [
    "**Задание 4. Выведите количество пропущенных значений для каждого столбца. Используйте комбинацию двух методов.**"
   ]
  },
  {
   "cell_type": "code",
   "execution_count": 4,
   "id": "2dc372b2",
   "metadata": {
    "deletable": false,
    "id": "2dc372b2",
    "outputId": "81f4d817-781c-465c-ed15-91ce4446810d"
   },
   "outputs": [
    {
     "data": {
      "text/plain": [
       "children               0\n",
       "days_employed       2174\n",
       "dob_years              0\n",
       "education              0\n",
       "education_id           0\n",
       "family_status          0\n",
       "family_status_id       0\n",
       "gender                 0\n",
       "income_type            0\n",
       "debt                   0\n",
       "total_income        2174\n",
       "purpose                0\n",
       "dtype: int64"
      ]
     },
     "execution_count": 4,
     "metadata": {},
     "output_type": "execute_result"
    }
   ],
   "source": [
    "data.isna().sum()"
   ]
  },
  {
   "cell_type": "markdown",
   "id": "14f011b1",
   "metadata": {
    "deletable": false,
    "editable": false,
    "id": "14f011b1"
   },
   "source": [
    "**Задание 5. В двух столбцах есть пропущенные значения. Один из них — `days_employed`. Пропуски в этом столбце вы обработаете на следующем этапе. Другой столбец с пропущенными значениями — `total_income` — хранит данные о доходах. На сумму дохода сильнее всего влияет тип занятости, поэтому заполнить пропуски в этом столбце нужно медианным значением по каждому типу из столбца `income_type`. Например, у человека с типом занятости `сотрудник` пропуск в столбце `total_income` должен быть заполнен медианным доходом среди всех записей с тем же типом.**"
   ]
  },
  {
   "cell_type": "code",
   "execution_count": 5,
   "id": "bdabfb6e",
   "metadata": {
    "deletable": false,
    "id": "bdabfb6e"
   },
   "outputs": [],
   "source": [
    "for t in data['income_type'].unique():\n",
    "    data.loc[(data['income_type'] == t) & (data['total_income'].isna()), 'total_income'] = \\\n",
    "    data.loc[(data['income_type'] == t), 'total_income'].median()"
   ]
  },
  {
   "cell_type": "markdown",
   "id": "5be34059",
   "metadata": {
    "deletable": false,
    "editable": false,
    "id": "5be34059"
   },
   "source": [
    "### Обработка аномальных значений"
   ]
  },
  {
   "cell_type": "markdown",
   "id": "a87606cb",
   "metadata": {
    "deletable": false,
    "editable": false,
    "id": "a87606cb"
   },
   "source": [
    "**Задание 6. В данных могут встречаться артефакты (аномалии) — значения, которые не отражают действительность и появились по какой-то ошибке. таким артефактом будет отрицательное количество дней трудового стажа в столбце `days_employed`. Для реальных данных это нормально. Обработайте значения в этом столбце: замените все отрицательные значения положительными с помощью метода `abs()`.**"
   ]
  },
  {
   "cell_type": "code",
   "execution_count": 6,
   "id": "020c46cc",
   "metadata": {
    "deletable": false,
    "id": "020c46cc"
   },
   "outputs": [],
   "source": [
    "data['days_employed'] = data['days_employed'].abs()"
   ]
  },
  {
   "cell_type": "markdown",
   "id": "45538a3a",
   "metadata": {
    "deletable": false,
    "editable": false,
    "id": "45538a3a"
   },
   "source": [
    "**Задание 7. Для каждого типа занятости выведите медианное значение трудового стажа `days_employed` в днях.**"
   ]
  },
  {
   "cell_type": "code",
   "execution_count": 7,
   "id": "cd3e6328",
   "metadata": {
    "deletable": false,
    "id": "cd3e6328",
    "outputId": "801ef80e-522b-4668-f34e-565af7432bcf"
   },
   "outputs": [
    {
     "data": {
      "text/plain": [
       "income_type\n",
       "безработный        366413.652744\n",
       "в декрете            3296.759962\n",
       "госслужащий          2689.368353\n",
       "компаньон            1547.382223\n",
       "пенсионер          365213.306266\n",
       "предприниматель       520.848083\n",
       "сотрудник            1574.202821\n",
       "студент               578.751554\n",
       "Name: days_employed, dtype: float64"
      ]
     },
     "execution_count": 7,
     "metadata": {},
     "output_type": "execute_result"
    }
   ],
   "source": [
    "data.groupby('income_type')['days_employed'].agg('median')"
   ]
  },
  {
   "cell_type": "markdown",
   "id": "90c5f058",
   "metadata": {
    "deletable": false,
    "editable": false,
    "id": "90c5f058"
   },
   "source": [
    "У двух типов (безработные и пенсионеры) получатся аномально большие значения. Исправить такие значения сложно, поэтому оставьте их как есть."
   ]
  },
  {
   "cell_type": "markdown",
   "id": "9652e50d",
   "metadata": {
    "deletable": false,
    "editable": false,
    "id": "9652e50d"
   },
   "source": [
    "**Задание 8. Выведите перечень уникальных значений столбца `children`.**"
   ]
  },
  {
   "cell_type": "code",
   "execution_count": 8,
   "id": "dbb37b8e",
   "metadata": {
    "deletable": false,
    "id": "dbb37b8e",
    "outputId": "6975b15c-7f95-4697-d16d-a0c79b657b03"
   },
   "outputs": [
    {
     "data": {
      "text/plain": [
       "array([ 1,  0,  3,  2, -1,  4, 20,  5])"
      ]
     },
     "execution_count": 8,
     "metadata": {},
     "output_type": "execute_result"
    }
   ],
   "source": [
    "data['children'].unique()"
   ]
  },
  {
   "cell_type": "markdown",
   "id": "2b8b0715",
   "metadata": {
    "deletable": false,
    "editable": false,
    "id": "2b8b0715"
   },
   "source": [
    "**Задание 9. В столбце `children` есть два аномальных значения. Удалите строки, в которых встречаются такие аномальные значения из датафрейма `data`.**"
   ]
  },
  {
   "cell_type": "code",
   "execution_count": 9,
   "id": "20009df8",
   "metadata": {
    "deletable": false,
    "id": "20009df8"
   },
   "outputs": [],
   "source": [
    "data = data[(data['children'] != -1) & (data['children'] != 20)]"
   ]
  },
  {
   "cell_type": "markdown",
   "id": "8c6ac9f1",
   "metadata": {
    "deletable": false,
    "editable": false,
    "id": "8c6ac9f1"
   },
   "source": [
    "**Задание 10. Ещё раз выведите перечень уникальных значений столбца `children`, чтобы убедиться, что артефакты удалены.**"
   ]
  },
  {
   "cell_type": "code",
   "execution_count": 10,
   "id": "07337b81",
   "metadata": {
    "deletable": false,
    "id": "07337b81",
    "outputId": "b2097101-d49d-44d9-901b-32a65c9463d1"
   },
   "outputs": [
    {
     "data": {
      "text/plain": [
       "array([1, 0, 3, 2, 4, 5])"
      ]
     },
     "execution_count": 10,
     "metadata": {},
     "output_type": "execute_result"
    }
   ],
   "source": [
    "data['children'].unique()"
   ]
  },
  {
   "cell_type": "markdown",
   "id": "ee3f52d4",
   "metadata": {
    "deletable": false,
    "editable": false,
    "id": "ee3f52d4"
   },
   "source": [
    "### Удаление пропусков (продолжение)"
   ]
  },
  {
   "cell_type": "markdown",
   "id": "a700b0e4",
   "metadata": {
    "deletable": false,
    "editable": false,
    "id": "a700b0e4"
   },
   "source": [
    "**Задание 11. Заполните пропуски в столбце `days_employed` медианными значениями по каждого типа занятости `income_type`.**"
   ]
  },
  {
   "cell_type": "code",
   "execution_count": 11,
   "id": "61946b83",
   "metadata": {
    "deletable": false,
    "id": "61946b83"
   },
   "outputs": [],
   "source": [
    "for t in data['income_type'].unique():\n",
    "    data.loc[(data['income_type'] == t) & (data['days_employed'].isna()), 'days_employed'] = \\\n",
    "    data.loc[(data['income_type'] == t), 'days_employed'].median()"
   ]
  },
  {
   "cell_type": "markdown",
   "id": "550dcd9b",
   "metadata": {
    "deletable": false,
    "editable": false,
    "id": "550dcd9b"
   },
   "source": [
    "**Задание 12. Убедитесь, что все пропуски заполнены. Проверьте себя и ещё раз выведите количество пропущенных значений для каждого столбца с помощью двух методов.**"
   ]
  },
  {
   "cell_type": "code",
   "execution_count": 12,
   "id": "937c7014",
   "metadata": {
    "deletable": false,
    "id": "937c7014",
    "outputId": "8da1e4e1-358e-4e87-98c9-f261bce0a7b2"
   },
   "outputs": [
    {
     "data": {
      "text/plain": [
       "children            0\n",
       "days_employed       0\n",
       "dob_years           0\n",
       "education           0\n",
       "education_id        0\n",
       "family_status       0\n",
       "family_status_id    0\n",
       "gender              0\n",
       "income_type         0\n",
       "debt                0\n",
       "total_income        0\n",
       "purpose             0\n",
       "dtype: int64"
      ]
     },
     "execution_count": 12,
     "metadata": {},
     "output_type": "execute_result"
    }
   ],
   "source": [
    "data.isna().sum()"
   ]
  },
  {
   "cell_type": "markdown",
   "id": "d522e295",
   "metadata": {
    "deletable": false,
    "editable": false,
    "id": "d522e295"
   },
   "source": [
    "### Изменение типов данных"
   ]
  },
  {
   "cell_type": "markdown",
   "id": "c229c581",
   "metadata": {
    "deletable": false,
    "editable": false,
    "id": "c229c581"
   },
   "source": [
    "**Задание 13. Замените вещественный тип данных в столбце `total_income` на целочисленный с помощью метода `astype()`.**"
   ]
  },
  {
   "cell_type": "code",
   "execution_count": 13,
   "id": "31036462",
   "metadata": {
    "deletable": false,
    "id": "31036462"
   },
   "outputs": [],
   "source": [
    "data['total_income'] = data['total_income'].astype(int)"
   ]
  },
  {
   "cell_type": "markdown",
   "id": "b8e3d1d9",
   "metadata": {
    "deletable": false,
    "editable": false,
    "id": "b8e3d1d9"
   },
   "source": [
    "### Обработка дубликатов"
   ]
  },
  {
   "cell_type": "markdown",
   "id": "9be53c49",
   "metadata": {
    "deletable": false,
    "editable": false,
    "id": "9be53c49"
   },
   "source": [
    "**Задание 14. Обработайте неявные дубликаты в столбце `education`. В этом столбце есть одни и те же значения, но записанные по-разному: с использованием заглавных и строчных букв. Приведите их к нижнему регистру.**"
   ]
  },
  {
   "cell_type": "code",
   "execution_count": 14,
   "id": "d89e73e1",
   "metadata": {
    "deletable": false,
    "id": "d89e73e1"
   },
   "outputs": [],
   "source": [
    "data['education'] = data['education'].str.lower()"
   ]
  },
  {
   "cell_type": "markdown",
   "id": "01d4500e",
   "metadata": {
    "deletable": false,
    "editable": false,
    "id": "01d4500e"
   },
   "source": [
    "**Задание 15. Выведите на экран количество строк-дубликатов в данных. Если такие строки присутствуют, удалите их.**"
   ]
  },
  {
   "cell_type": "code",
   "execution_count": 15,
   "id": "e10efb23",
   "metadata": {
    "deletable": false,
    "id": "e10efb23",
    "outputId": "9684deba-1934-42d1-99e1-cda61740f822"
   },
   "outputs": [
    {
     "data": {
      "text/plain": [
       "71"
      ]
     },
     "execution_count": 15,
     "metadata": {},
     "output_type": "execute_result"
    }
   ],
   "source": [
    "data.duplicated().sum()"
   ]
  },
  {
   "cell_type": "code",
   "execution_count": 16,
   "id": "df853f20",
   "metadata": {
    "deletable": false,
    "id": "df853f20"
   },
   "outputs": [],
   "source": [
    "data = data.drop_duplicates()"
   ]
  },
  {
   "cell_type": "markdown",
   "id": "627be38f",
   "metadata": {
    "deletable": false,
    "editable": false,
    "id": "627be38f"
   },
   "source": [
    "### Категоризация данных"
   ]
  },
  {
   "cell_type": "markdown",
   "id": "4684c3e0",
   "metadata": {
    "deletable": false,
    "editable": false,
    "id": "4684c3e0"
   },
   "source": [
    "**Задание 16. На основании диапазонов, указанных ниже, создайте в датафрейме `data` столбец `total_income_category` с категориями:**\n",
    "\n",
    "- 0–30000 — `'E'`;\n",
    "- 30001–50000 — `'D'`;\n",
    "- 50001–200000 — `'C'`;\n",
    "- 200001–1000000 — `'B'`;\n",
    "- 1000001 и выше — `'A'`.\n",
    "\n",
    "\n",
    "**Например, кредитополучателю с доходом 25000 нужно назначить категорию `'E'`, а клиенту, получающему 235000, — `'B'`. Используйте собственную функцию с именем `categorize_income()` и метод `apply()`.**"
   ]
  },
  {
   "cell_type": "code",
   "execution_count": 17,
   "id": "78965238",
   "metadata": {
    "deletable": false,
    "id": "78965238"
   },
   "outputs": [],
   "source": [
    "def categorize_income(income):\n",
    "    try:\n",
    "        if 0 <= income <= 30000:\n",
    "            return 'до 30 тыс'\n",
    "        elif 30001 <= income <= 50000:\n",
    "            return 'до 50 тыс'\n",
    "        elif 50001 <= income <= 200000:\n",
    "            return 'до 200 тыс'\n",
    "        elif 200001 <= income <= 1000000:\n",
    "            return 'до миллиона'\n",
    "        elif income >= 1000001:\n",
    "            return 'более миллиона'\n",
    "    except:\n",
    "        pass"
   ]
  },
  {
   "cell_type": "code",
   "execution_count": 18,
   "id": "0980ada1",
   "metadata": {
    "deletable": false,
    "id": "0980ada1"
   },
   "outputs": [
    {
     "data": {
      "text/html": [
       "<div>\n",
       "<style scoped>\n",
       "    .dataframe tbody tr th:only-of-type {\n",
       "        vertical-align: middle;\n",
       "    }\n",
       "\n",
       "    .dataframe tbody tr th {\n",
       "        vertical-align: top;\n",
       "    }\n",
       "\n",
       "    .dataframe thead th {\n",
       "        text-align: right;\n",
       "    }\n",
       "</style>\n",
       "<table border=\"1\" class=\"dataframe\">\n",
       "  <thead>\n",
       "    <tr style=\"text-align: right;\">\n",
       "      <th></th>\n",
       "      <th>children</th>\n",
       "      <th>days_employed</th>\n",
       "      <th>dob_years</th>\n",
       "      <th>education</th>\n",
       "      <th>education_id</th>\n",
       "      <th>family_status</th>\n",
       "      <th>family_status_id</th>\n",
       "      <th>gender</th>\n",
       "      <th>income_type</th>\n",
       "      <th>debt</th>\n",
       "      <th>total_income</th>\n",
       "      <th>purpose</th>\n",
       "      <th>total_income_category</th>\n",
       "    </tr>\n",
       "  </thead>\n",
       "  <tbody>\n",
       "    <tr>\n",
       "      <th>0</th>\n",
       "      <td>1</td>\n",
       "      <td>8437.673028</td>\n",
       "      <td>42</td>\n",
       "      <td>высшее</td>\n",
       "      <td>0</td>\n",
       "      <td>женат / замужем</td>\n",
       "      <td>0</td>\n",
       "      <td>F</td>\n",
       "      <td>сотрудник</td>\n",
       "      <td>0</td>\n",
       "      <td>253875</td>\n",
       "      <td>покупка жилья</td>\n",
       "      <td>до миллиона</td>\n",
       "    </tr>\n",
       "    <tr>\n",
       "      <th>1</th>\n",
       "      <td>1</td>\n",
       "      <td>4024.803754</td>\n",
       "      <td>36</td>\n",
       "      <td>среднее</td>\n",
       "      <td>1</td>\n",
       "      <td>женат / замужем</td>\n",
       "      <td>0</td>\n",
       "      <td>F</td>\n",
       "      <td>сотрудник</td>\n",
       "      <td>0</td>\n",
       "      <td>112080</td>\n",
       "      <td>приобретение автомобиля</td>\n",
       "      <td>до 200 тыс</td>\n",
       "    </tr>\n",
       "    <tr>\n",
       "      <th>2</th>\n",
       "      <td>0</td>\n",
       "      <td>5623.422610</td>\n",
       "      <td>33</td>\n",
       "      <td>среднее</td>\n",
       "      <td>1</td>\n",
       "      <td>женат / замужем</td>\n",
       "      <td>0</td>\n",
       "      <td>M</td>\n",
       "      <td>сотрудник</td>\n",
       "      <td>0</td>\n",
       "      <td>145885</td>\n",
       "      <td>покупка жилья</td>\n",
       "      <td>до 200 тыс</td>\n",
       "    </tr>\n",
       "    <tr>\n",
       "      <th>3</th>\n",
       "      <td>3</td>\n",
       "      <td>4124.747207</td>\n",
       "      <td>32</td>\n",
       "      <td>среднее</td>\n",
       "      <td>1</td>\n",
       "      <td>женат / замужем</td>\n",
       "      <td>0</td>\n",
       "      <td>M</td>\n",
       "      <td>сотрудник</td>\n",
       "      <td>0</td>\n",
       "      <td>267628</td>\n",
       "      <td>дополнительное образование</td>\n",
       "      <td>до миллиона</td>\n",
       "    </tr>\n",
       "    <tr>\n",
       "      <th>4</th>\n",
       "      <td>0</td>\n",
       "      <td>340266.072047</td>\n",
       "      <td>53</td>\n",
       "      <td>среднее</td>\n",
       "      <td>1</td>\n",
       "      <td>гражданский брак</td>\n",
       "      <td>1</td>\n",
       "      <td>F</td>\n",
       "      <td>пенсионер</td>\n",
       "      <td>0</td>\n",
       "      <td>158616</td>\n",
       "      <td>сыграть свадьбу</td>\n",
       "      <td>до 200 тыс</td>\n",
       "    </tr>\n",
       "    <tr>\n",
       "      <th>...</th>\n",
       "      <td>...</td>\n",
       "      <td>...</td>\n",
       "      <td>...</td>\n",
       "      <td>...</td>\n",
       "      <td>...</td>\n",
       "      <td>...</td>\n",
       "      <td>...</td>\n",
       "      <td>...</td>\n",
       "      <td>...</td>\n",
       "      <td>...</td>\n",
       "      <td>...</td>\n",
       "      <td>...</td>\n",
       "      <td>...</td>\n",
       "    </tr>\n",
       "    <tr>\n",
       "      <th>21520</th>\n",
       "      <td>1</td>\n",
       "      <td>4529.316663</td>\n",
       "      <td>43</td>\n",
       "      <td>среднее</td>\n",
       "      <td>1</td>\n",
       "      <td>гражданский брак</td>\n",
       "      <td>1</td>\n",
       "      <td>F</td>\n",
       "      <td>компаньон</td>\n",
       "      <td>0</td>\n",
       "      <td>224791</td>\n",
       "      <td>операции с жильем</td>\n",
       "      <td>до миллиона</td>\n",
       "    </tr>\n",
       "    <tr>\n",
       "      <th>21521</th>\n",
       "      <td>0</td>\n",
       "      <td>343937.404131</td>\n",
       "      <td>67</td>\n",
       "      <td>среднее</td>\n",
       "      <td>1</td>\n",
       "      <td>женат / замужем</td>\n",
       "      <td>0</td>\n",
       "      <td>F</td>\n",
       "      <td>пенсионер</td>\n",
       "      <td>0</td>\n",
       "      <td>155999</td>\n",
       "      <td>сделка с автомобилем</td>\n",
       "      <td>до 200 тыс</td>\n",
       "    </tr>\n",
       "    <tr>\n",
       "      <th>21522</th>\n",
       "      <td>1</td>\n",
       "      <td>2113.346888</td>\n",
       "      <td>38</td>\n",
       "      <td>среднее</td>\n",
       "      <td>1</td>\n",
       "      <td>гражданский брак</td>\n",
       "      <td>1</td>\n",
       "      <td>M</td>\n",
       "      <td>сотрудник</td>\n",
       "      <td>1</td>\n",
       "      <td>89672</td>\n",
       "      <td>недвижимость</td>\n",
       "      <td>до 200 тыс</td>\n",
       "    </tr>\n",
       "    <tr>\n",
       "      <th>21523</th>\n",
       "      <td>3</td>\n",
       "      <td>3112.481705</td>\n",
       "      <td>38</td>\n",
       "      <td>среднее</td>\n",
       "      <td>1</td>\n",
       "      <td>женат / замужем</td>\n",
       "      <td>0</td>\n",
       "      <td>M</td>\n",
       "      <td>сотрудник</td>\n",
       "      <td>1</td>\n",
       "      <td>244093</td>\n",
       "      <td>на покупку своего автомобиля</td>\n",
       "      <td>до миллиона</td>\n",
       "    </tr>\n",
       "    <tr>\n",
       "      <th>21524</th>\n",
       "      <td>2</td>\n",
       "      <td>1984.507589</td>\n",
       "      <td>40</td>\n",
       "      <td>среднее</td>\n",
       "      <td>1</td>\n",
       "      <td>женат / замужем</td>\n",
       "      <td>0</td>\n",
       "      <td>F</td>\n",
       "      <td>сотрудник</td>\n",
       "      <td>0</td>\n",
       "      <td>82047</td>\n",
       "      <td>на покупку автомобиля</td>\n",
       "      <td>до 200 тыс</td>\n",
       "    </tr>\n",
       "  </tbody>\n",
       "</table>\n",
       "<p>21331 rows × 13 columns</p>\n",
       "</div>"
      ],
      "text/plain": [
       "       children  days_employed  dob_years education  education_id  \\\n",
       "0             1    8437.673028         42    высшее             0   \n",
       "1             1    4024.803754         36   среднее             1   \n",
       "2             0    5623.422610         33   среднее             1   \n",
       "3             3    4124.747207         32   среднее             1   \n",
       "4             0  340266.072047         53   среднее             1   \n",
       "...         ...            ...        ...       ...           ...   \n",
       "21520         1    4529.316663         43   среднее             1   \n",
       "21521         0  343937.404131         67   среднее             1   \n",
       "21522         1    2113.346888         38   среднее             1   \n",
       "21523         3    3112.481705         38   среднее             1   \n",
       "21524         2    1984.507589         40   среднее             1   \n",
       "\n",
       "          family_status  family_status_id gender income_type  debt  \\\n",
       "0       женат / замужем                 0      F   сотрудник     0   \n",
       "1       женат / замужем                 0      F   сотрудник     0   \n",
       "2       женат / замужем                 0      M   сотрудник     0   \n",
       "3       женат / замужем                 0      M   сотрудник     0   \n",
       "4      гражданский брак                 1      F   пенсионер     0   \n",
       "...                 ...               ...    ...         ...   ...   \n",
       "21520  гражданский брак                 1      F   компаньон     0   \n",
       "21521   женат / замужем                 0      F   пенсионер     0   \n",
       "21522  гражданский брак                 1      M   сотрудник     1   \n",
       "21523   женат / замужем                 0      M   сотрудник     1   \n",
       "21524   женат / замужем                 0      F   сотрудник     0   \n",
       "\n",
       "       total_income                       purpose total_income_category  \n",
       "0            253875                 покупка жилья           до миллиона  \n",
       "1            112080       приобретение автомобиля            до 200 тыс  \n",
       "2            145885                 покупка жилья            до 200 тыс  \n",
       "3            267628    дополнительное образование           до миллиона  \n",
       "4            158616               сыграть свадьбу            до 200 тыс  \n",
       "...             ...                           ...                   ...  \n",
       "21520        224791             операции с жильем           до миллиона  \n",
       "21521        155999          сделка с автомобилем            до 200 тыс  \n",
       "21522         89672                  недвижимость            до 200 тыс  \n",
       "21523        244093  на покупку своего автомобиля           до миллиона  \n",
       "21524         82047         на покупку автомобиля            до 200 тыс  \n",
       "\n",
       "[21331 rows x 13 columns]"
      ]
     },
     "execution_count": 18,
     "metadata": {},
     "output_type": "execute_result"
    }
   ],
   "source": [
    "data['total_income_category'] = data['total_income'].apply(categorize_income)\n",
    "data"
   ]
  },
  {
   "cell_type": "markdown",
   "id": "9917bba0",
   "metadata": {
    "deletable": false,
    "editable": false,
    "id": "9917bba0"
   },
   "source": [
    "**Задание 17. Выведите на экран перечень уникальных целей взятия кредита из столбца `purpose`.**"
   ]
  },
  {
   "cell_type": "code",
   "execution_count": 19,
   "id": "ee07b65e",
   "metadata": {
    "deletable": false,
    "id": "ee07b65e",
    "outputId": "673c12d9-7d7e-4ae0-9812-c622c89dd244"
   },
   "outputs": [
    {
     "data": {
      "text/plain": [
       "array(['покупка жилья', 'приобретение автомобиля',\n",
       "       'дополнительное образование', 'сыграть свадьбу',\n",
       "       'операции с жильем', 'образование', 'на проведение свадьбы',\n",
       "       'покупка жилья для семьи', 'покупка недвижимости',\n",
       "       'покупка коммерческой недвижимости', 'покупка жилой недвижимости',\n",
       "       'строительство собственной недвижимости', 'недвижимость',\n",
       "       'строительство недвижимости', 'на покупку подержанного автомобиля',\n",
       "       'на покупку своего автомобиля',\n",
       "       'операции с коммерческой недвижимостью',\n",
       "       'строительство жилой недвижимости', 'жилье',\n",
       "       'операции со своей недвижимостью', 'автомобили',\n",
       "       'заняться образованием', 'сделка с подержанным автомобилем',\n",
       "       'получение образования', 'автомобиль', 'свадьба',\n",
       "       'получение дополнительного образования', 'покупка своего жилья',\n",
       "       'операции с недвижимостью', 'получение высшего образования',\n",
       "       'свой автомобиль', 'сделка с автомобилем',\n",
       "       'профильное образование', 'высшее образование',\n",
       "       'покупка жилья для сдачи', 'на покупку автомобиля', 'ремонт жилью',\n",
       "       'заняться высшим образованием'], dtype=object)"
      ]
     },
     "execution_count": 19,
     "metadata": {},
     "output_type": "execute_result"
    }
   ],
   "source": [
    "data['purpose'].unique()"
   ]
  },
  {
   "cell_type": "markdown",
   "id": "52b79d56",
   "metadata": {
    "deletable": false,
    "editable": false,
    "id": "52b79d56"
   },
   "source": [
    "**Задание 18. Создайте функцию, которая на основании данных из столбца `purpose` сформирует новый столбец `purpose_category`, в который войдут следующие категории:**\n",
    "\n",
    "- `'операции с автомобилем'`,\n",
    "- `'операции с недвижимостью'`,\n",
    "- `'проведение свадьбы'`,\n",
    "- `'получение образования'`.\n",
    "\n",
    "**Например, если в столбце `purpose` находится подстрока `'на покупку автомобиля'`, то в столбце `purpose_category` должна появиться строка `'операции с автомобилем'`.**\n",
    "\n",
    "**Используйте собственную функцию с именем `categorize_purpose()` и метод `apply()`. Изучите данные в столбце `purpose` и определите, какие подстроки помогут вам правильно определить категорию.**"
   ]
  },
  {
   "cell_type": "code",
   "execution_count": 20,
   "id": "be41da5d",
   "metadata": {
    "deletable": false,
    "id": "be41da5d"
   },
   "outputs": [],
   "source": [
    "def categorize_purpose(row):\n",
    "    try:\n",
    "        if 'автом' in row:\n",
    "            return 'операции с автомобилем'\n",
    "        elif 'жил' in row or 'недвиж' in row:\n",
    "            return 'операции с недвижимостью'\n",
    "        elif 'свад' in row:\n",
    "            return 'проведение свадьбы'\n",
    "        elif 'образов' in row:\n",
    "            return 'получение образования'\n",
    "    except:\n",
    "        return 'нет категории'"
   ]
  },
  {
   "cell_type": "code",
   "execution_count": 21,
   "id": "94c4a19a",
   "metadata": {
    "deletable": false,
    "id": "94c4a19a"
   },
   "outputs": [],
   "source": [
    "data['purpose_category'] = data['purpose'].apply(categorize_purpose)"
   ]
  },
  {
   "cell_type": "markdown",
   "id": "3d596c34",
   "metadata": {
    "deletable": false,
    "editable": false,
    "id": "3d596c34"
   },
   "source": [
    "### Шаг 3. Исследуйте данные и ответьте на вопросы"
   ]
  },
  {
   "cell_type": "markdown",
   "id": "648db036",
   "metadata": {
    "deletable": false,
    "editable": false,
    "id": "648db036"
   },
   "source": [
    "#### 3.1 Есть ли зависимость между количеством детей и возвратом кредита в срок?"
   ]
  },
  {
   "cell_type": "code",
   "execution_count": null,
   "id": "7fcff25e",
   "metadata": {
    "deletable": false,
    "id": "7fcff25e"
   },
   "outputs": [],
   "source": []
  },
  {
   "cell_type": "code",
   "execution_count": 22,
   "id": "c8367553",
   "metadata": {},
   "outputs": [],
   "source": [
    "data_group = data.groupby('children', as_index = False).agg({'debt':['count', 'sum', 'mean']})"
   ]
  },
  {
   "cell_type": "code",
   "execution_count": 23,
   "id": "569c7c01",
   "metadata": {},
   "outputs": [],
   "source": [
    "data_group.columns = ['Количество детей', 'Число заёмщиков', 'Число должников', 'Доля должников']"
   ]
  },
  {
   "cell_type": "code",
   "execution_count": 24,
   "id": "03139c2b",
   "metadata": {
    "scrolled": true
   },
   "outputs": [
    {
     "data": {
      "text/html": [
       "<div>\n",
       "<style scoped>\n",
       "    .dataframe tbody tr th:only-of-type {\n",
       "        vertical-align: middle;\n",
       "    }\n",
       "\n",
       "    .dataframe tbody tr th {\n",
       "        vertical-align: top;\n",
       "    }\n",
       "\n",
       "    .dataframe thead th {\n",
       "        text-align: right;\n",
       "    }\n",
       "</style>\n",
       "<table border=\"1\" class=\"dataframe\">\n",
       "  <thead>\n",
       "    <tr style=\"text-align: right;\">\n",
       "      <th></th>\n",
       "      <th>Количество детей</th>\n",
       "      <th>Число заёмщиков</th>\n",
       "      <th>Число должников</th>\n",
       "      <th>Доля должников</th>\n",
       "    </tr>\n",
       "  </thead>\n",
       "  <tbody>\n",
       "    <tr>\n",
       "      <th>5</th>\n",
       "      <td>5</td>\n",
       "      <td>9</td>\n",
       "      <td>0</td>\n",
       "      <td>0.000000</td>\n",
       "    </tr>\n",
       "    <tr>\n",
       "      <th>0</th>\n",
       "      <td>0</td>\n",
       "      <td>14091</td>\n",
       "      <td>1063</td>\n",
       "      <td>0.075438</td>\n",
       "    </tr>\n",
       "    <tr>\n",
       "      <th>3</th>\n",
       "      <td>3</td>\n",
       "      <td>330</td>\n",
       "      <td>27</td>\n",
       "      <td>0.081818</td>\n",
       "    </tr>\n",
       "    <tr>\n",
       "      <th>1</th>\n",
       "      <td>1</td>\n",
       "      <td>4808</td>\n",
       "      <td>444</td>\n",
       "      <td>0.092346</td>\n",
       "    </tr>\n",
       "    <tr>\n",
       "      <th>2</th>\n",
       "      <td>2</td>\n",
       "      <td>2052</td>\n",
       "      <td>194</td>\n",
       "      <td>0.094542</td>\n",
       "    </tr>\n",
       "    <tr>\n",
       "      <th>4</th>\n",
       "      <td>4</td>\n",
       "      <td>41</td>\n",
       "      <td>4</td>\n",
       "      <td>0.097561</td>\n",
       "    </tr>\n",
       "  </tbody>\n",
       "</table>\n",
       "</div>"
      ],
      "text/plain": [
       "   Количество детей  Число заёмщиков  Число должников  Доля должников\n",
       "5                 5                9                0        0.000000\n",
       "0                 0            14091             1063        0.075438\n",
       "3                 3              330               27        0.081818\n",
       "1                 1             4808              444        0.092346\n",
       "2                 2             2052              194        0.094542\n",
       "4                 4               41                4        0.097561"
      ]
     },
     "execution_count": 24,
     "metadata": {},
     "output_type": "execute_result"
    }
   ],
   "source": [
    "data_sort = data_group.sort_values(by='Доля должников')\n",
    "data_sort"
   ]
  },
  {
   "cell_type": "markdown",
   "id": "85073ad0",
   "metadata": {},
   "source": [
    "<font color='DarkBlue'><b>Комментарий ревьюера</b></font><br>\n",
    "<font color='DarkMagenta'>👉 Можно сделать вот так, через функцию.</font>"
   ]
  },
  {
   "cell_type": "code",
   "execution_count": 25,
   "id": "4c8fcc61",
   "metadata": {},
   "outputs": [
    {
     "data": {
      "text/html": [
       "<style  type=\"text/css\" >\n",
       "#T_25167_row0_col0,#T_25167_row0_col1,#T_25167_row4_col2{\n",
       "            background-color:  #08306b;\n",
       "            color:  #f1f1f1;\n",
       "        }#T_25167_row0_col2{\n",
       "            background-color:  #1c6bb0;\n",
       "            color:  #f1f1f1;\n",
       "        }#T_25167_row1_col0{\n",
       "            background-color:  #a9cfe5;\n",
       "            color:  #000000;\n",
       "        }#T_25167_row1_col1{\n",
       "            background-color:  #8dc1dd;\n",
       "            color:  #000000;\n",
       "        }#T_25167_row1_col2{\n",
       "            background-color:  #083d7f;\n",
       "            color:  #f1f1f1;\n",
       "        }#T_25167_row2_col0{\n",
       "            background-color:  #dae8f6;\n",
       "            color:  #000000;\n",
       "        }#T_25167_row2_col1{\n",
       "            background-color:  #d3e4f3;\n",
       "            color:  #000000;\n",
       "        }#T_25167_row2_col2{\n",
       "            background-color:  #083776;\n",
       "            color:  #f1f1f1;\n",
       "        }#T_25167_row3_col0{\n",
       "            background-color:  #f3f8fe;\n",
       "            color:  #000000;\n",
       "        }#T_25167_row3_col1{\n",
       "            background-color:  #f2f8fd;\n",
       "            color:  #000000;\n",
       "        }#T_25167_row3_col2{\n",
       "            background-color:  #0f5aa3;\n",
       "            color:  #f1f1f1;\n",
       "        }#T_25167_row4_col0,#T_25167_row4_col1,#T_25167_row5_col0,#T_25167_row5_col1,#T_25167_row5_col2{\n",
       "            background-color:  #f7fbff;\n",
       "            color:  #000000;\n",
       "        }</style><table id=\"T_25167_\" ><thead>    <tr>        <th class=\"blank level0\" ></th>        <th class=\"col_heading level0 col0\" >Всего кредитополучателей</th>        <th class=\"col_heading level0 col1\" >Всего должников</th>        <th class=\"col_heading level0 col2\" >Доля должников</th>    </tr>    <tr>        <th class=\"index_name level0\" >children</th>        <th class=\"blank\" ></th>        <th class=\"blank\" ></th>        <th class=\"blank\" ></th>    </tr></thead><tbody>\n",
       "                <tr>\n",
       "                        <th id=\"T_25167_level0_row0\" class=\"row_heading level0 row0\" >0</th>\n",
       "                        <td id=\"T_25167_row0_col0\" class=\"data row0 col0\" >14091.000</td>\n",
       "                        <td id=\"T_25167_row0_col1\" class=\"data row0 col1\" >1063.000</td>\n",
       "                        <td id=\"T_25167_row0_col2\" class=\"data row0 col2\" >0.075</td>\n",
       "            </tr>\n",
       "            <tr>\n",
       "                        <th id=\"T_25167_level0_row1\" class=\"row_heading level0 row1\" >1</th>\n",
       "                        <td id=\"T_25167_row1_col0\" class=\"data row1 col0\" >4808.000</td>\n",
       "                        <td id=\"T_25167_row1_col1\" class=\"data row1 col1\" >444.000</td>\n",
       "                        <td id=\"T_25167_row1_col2\" class=\"data row1 col2\" >0.092</td>\n",
       "            </tr>\n",
       "            <tr>\n",
       "                        <th id=\"T_25167_level0_row2\" class=\"row_heading level0 row2\" >2</th>\n",
       "                        <td id=\"T_25167_row2_col0\" class=\"data row2 col0\" >2052.000</td>\n",
       "                        <td id=\"T_25167_row2_col1\" class=\"data row2 col1\" >194.000</td>\n",
       "                        <td id=\"T_25167_row2_col2\" class=\"data row2 col2\" >0.095</td>\n",
       "            </tr>\n",
       "            <tr>\n",
       "                        <th id=\"T_25167_level0_row3\" class=\"row_heading level0 row3\" >3</th>\n",
       "                        <td id=\"T_25167_row3_col0\" class=\"data row3 col0\" >330.000</td>\n",
       "                        <td id=\"T_25167_row3_col1\" class=\"data row3 col1\" >27.000</td>\n",
       "                        <td id=\"T_25167_row3_col2\" class=\"data row3 col2\" >0.082</td>\n",
       "            </tr>\n",
       "            <tr>\n",
       "                        <th id=\"T_25167_level0_row4\" class=\"row_heading level0 row4\" >4</th>\n",
       "                        <td id=\"T_25167_row4_col0\" class=\"data row4 col0\" >41.000</td>\n",
       "                        <td id=\"T_25167_row4_col1\" class=\"data row4 col1\" >4.000</td>\n",
       "                        <td id=\"T_25167_row4_col2\" class=\"data row4 col2\" >0.098</td>\n",
       "            </tr>\n",
       "            <tr>\n",
       "                        <th id=\"T_25167_level0_row5\" class=\"row_heading level0 row5\" >5</th>\n",
       "                        <td id=\"T_25167_row5_col0\" class=\"data row5 col0\" >9.000</td>\n",
       "                        <td id=\"T_25167_row5_col1\" class=\"data row5 col1\" >0.000</td>\n",
       "                        <td id=\"T_25167_row5_col2\" class=\"data row5 col2\" >0.000</td>\n",
       "            </tr>\n",
       "    </tbody></table>"
      ],
      "text/plain": [
       "<pandas.io.formats.style.Styler at 0x7f591587c610>"
      ]
     },
     "metadata": {},
     "output_type": "display_data"
    }
   ],
   "source": [
    "# Комментарий ревьюера\n",
    "# Создаем копию датасета, что бы не работать с исходным\n",
    "temp = data.copy()\n",
    "# Напишем функцию, так как все задачи аналогичны\n",
    "def que(category):\n",
    "    data_temp = temp.pivot_table(index=category, values='debt', aggfunc=['count', 'sum', 'mean'])\n",
    "    data_temp.columns = ['Всего кредитополучателей', 'Всего должников', 'Доля должников']\n",
    "    # Оформим таблицу цветным градиентом, но можно ее вывести и просто display(data_temp)\n",
    "    display(data_temp.style.format(\"{:.3f}\").background_gradient(cmap='Blues', axis=0))\n",
    "    \n",
    "que('children')"
   ]
  },
  {
   "cell_type": "markdown",
   "id": "2eb9088e",
   "metadata": {
    "deletable": false,
    "id": "2eb9088e"
   },
   "source": [
    "**Вывод:** если отбросить малочисленные группы в которых 4 и более детей, из таблицы видно, что лучше всего кредитные обязательства выполняют заёмщики без детей, скорее всего, это связано с меньшим количеством непредвиденных трат по сравнению с заёмщиками у которых есть дети, однако, на втором месте в рейтенге стоят заёмщики в тремя детьми, возможно эта группа уже опытных и состоявшихся семейных людей, которые научились планировать бюджет с учетом трат и всех непредвиденных расходов на всех детей. Хуже всего кредиты выплачивают группы с одним и двумя детьми, скорее всего, эти группы еще не научились планировать бюджет с учетом трат на детей и непредвиденных расходов или дети появились уже после взятия кредита, таким образом финансовая нагрузка резко возросла и платежи стали слишкои трудными для таких категорий заёмщиков, так же это может быть связанно с уходом в декрет заёмщика или его партнера."
   ]
  },
  {
   "cell_type": "markdown",
   "id": "74c9b3a7",
   "metadata": {
    "deletable": false,
    "editable": false,
    "id": "74c9b3a7"
   },
   "source": [
    "#### 3.2 Есть ли зависимость между семейным положением и возвратом кредита в срок?"
   ]
  },
  {
   "cell_type": "code",
   "execution_count": 26,
   "id": "8098ab3b",
   "metadata": {
    "deletable": false,
    "id": "8098ab3b"
   },
   "outputs": [
    {
     "data": {
      "text/html": [
       "<div>\n",
       "<style scoped>\n",
       "    .dataframe tbody tr th:only-of-type {\n",
       "        vertical-align: middle;\n",
       "    }\n",
       "\n",
       "    .dataframe tbody tr th {\n",
       "        vertical-align: top;\n",
       "    }\n",
       "\n",
       "    .dataframe thead th {\n",
       "        text-align: right;\n",
       "    }\n",
       "</style>\n",
       "<table border=\"1\" class=\"dataframe\">\n",
       "  <thead>\n",
       "    <tr style=\"text-align: right;\">\n",
       "      <th></th>\n",
       "      <th>Семейное положение</th>\n",
       "      <th>Число заёмщиков</th>\n",
       "      <th>Число должников</th>\n",
       "      <th>Доля должников</th>\n",
       "    </tr>\n",
       "  </thead>\n",
       "  <tbody>\n",
       "    <tr>\n",
       "      <th>2</th>\n",
       "      <td>вдовец / вдова</td>\n",
       "      <td>951</td>\n",
       "      <td>63</td>\n",
       "      <td>0.066246</td>\n",
       "    </tr>\n",
       "    <tr>\n",
       "      <th>1</th>\n",
       "      <td>в разводе</td>\n",
       "      <td>1189</td>\n",
       "      <td>84</td>\n",
       "      <td>0.070648</td>\n",
       "    </tr>\n",
       "    <tr>\n",
       "      <th>4</th>\n",
       "      <td>женат / замужем</td>\n",
       "      <td>12261</td>\n",
       "      <td>927</td>\n",
       "      <td>0.075606</td>\n",
       "    </tr>\n",
       "    <tr>\n",
       "      <th>3</th>\n",
       "      <td>гражданский брак</td>\n",
       "      <td>4134</td>\n",
       "      <td>385</td>\n",
       "      <td>0.093130</td>\n",
       "    </tr>\n",
       "    <tr>\n",
       "      <th>0</th>\n",
       "      <td>Не женат / не замужем</td>\n",
       "      <td>2796</td>\n",
       "      <td>273</td>\n",
       "      <td>0.097639</td>\n",
       "    </tr>\n",
       "  </tbody>\n",
       "</table>\n",
       "</div>"
      ],
      "text/plain": [
       "      Семейное положение  Число заёмщиков  Число должников  Доля должников\n",
       "2         вдовец / вдова              951               63        0.066246\n",
       "1              в разводе             1189               84        0.070648\n",
       "4        женат / замужем            12261              927        0.075606\n",
       "3       гражданский брак             4134              385        0.093130\n",
       "0  Не женат / не замужем             2796              273        0.097639"
      ]
     },
     "execution_count": 26,
     "metadata": {},
     "output_type": "execute_result"
    }
   ],
   "source": [
    "data_status = data.groupby('family_status', as_index = False).agg({'debt':['count', 'sum', 'mean']})\n",
    "data_status.columns = ['Семейное положение','Число заёмщиков','Число должников','Доля должников']\n",
    "data_status.sort_values(by='Доля должников')"
   ]
  },
  {
   "cell_type": "code",
   "execution_count": null,
   "id": "01596a2f",
   "metadata": {},
   "outputs": [],
   "source": []
  },
  {
   "cell_type": "markdown",
   "id": "c389ca63",
   "metadata": {
    "deletable": false,
    "id": "c389ca63"
   },
   "source": [
    "**Вывод:** наличие серьезных узаконенных отношений на текущий момент или в прошлом дисциплинирует людей и способствует серьезному отношению к их кредитным обязательствам, кроме того, вдовцы и разведенные люди самые лучшие кредитоплательщики потому что привыкли расчитывать на себя и четко знают свои финансовые возможности. Поэтому не женатые и люди живущие в гражданском браке выполняют обязательство перед банком хуже всего."
   ]
  },
  {
   "cell_type": "markdown",
   "id": "76f400b8",
   "metadata": {},
   "source": [
    "<font color='DarkBlue'><b>Комментарий ревьюера</b></font><br>\n",
    "<font color='DarkGreen'>👌 Действительно, оформленные семейные отношения или их прошлый опыт налагают определенную ответственность и приучают к финансовой дисциплине.</font>"
   ]
  },
  {
   "cell_type": "markdown",
   "id": "9529de68",
   "metadata": {
    "deletable": false,
    "editable": false,
    "id": "9529de68"
   },
   "source": [
    "#### 3.3 Есть ли зависимость между уровнем дохода и возвратом кредита в срок?"
   ]
  },
  {
   "cell_type": "code",
   "execution_count": 27,
   "id": "8787f44a",
   "metadata": {
    "deletable": false,
    "id": "8787f44a"
   },
   "outputs": [
    {
     "data": {
      "text/html": [
       "<div>\n",
       "<style scoped>\n",
       "    .dataframe tbody tr th:only-of-type {\n",
       "        vertical-align: middle;\n",
       "    }\n",
       "\n",
       "    .dataframe tbody tr th {\n",
       "        vertical-align: top;\n",
       "    }\n",
       "\n",
       "    .dataframe thead th {\n",
       "        text-align: right;\n",
       "    }\n",
       "</style>\n",
       "<table border=\"1\" class=\"dataframe\">\n",
       "  <thead>\n",
       "    <tr style=\"text-align: right;\">\n",
       "      <th></th>\n",
       "      <th>Уровень дохода</th>\n",
       "      <th>Число заёмщиков</th>\n",
       "      <th>Число должников</th>\n",
       "      <th>Доля должников</th>\n",
       "    </tr>\n",
       "  </thead>\n",
       "  <tbody>\n",
       "    <tr>\n",
       "      <th>3</th>\n",
       "      <td>до 50 тыс</td>\n",
       "      <td>349</td>\n",
       "      <td>21</td>\n",
       "      <td>0.060172</td>\n",
       "    </tr>\n",
       "    <tr>\n",
       "      <th>4</th>\n",
       "      <td>до миллиона</td>\n",
       "      <td>5014</td>\n",
       "      <td>354</td>\n",
       "      <td>0.070602</td>\n",
       "    </tr>\n",
       "    <tr>\n",
       "      <th>0</th>\n",
       "      <td>более миллиона</td>\n",
       "      <td>25</td>\n",
       "      <td>2</td>\n",
       "      <td>0.080000</td>\n",
       "    </tr>\n",
       "    <tr>\n",
       "      <th>1</th>\n",
       "      <td>до 200 тыс</td>\n",
       "      <td>15921</td>\n",
       "      <td>1353</td>\n",
       "      <td>0.084982</td>\n",
       "    </tr>\n",
       "    <tr>\n",
       "      <th>2</th>\n",
       "      <td>до 30 тыс</td>\n",
       "      <td>22</td>\n",
       "      <td>2</td>\n",
       "      <td>0.090909</td>\n",
       "    </tr>\n",
       "  </tbody>\n",
       "</table>\n",
       "</div>"
      ],
      "text/plain": [
       "   Уровень дохода  Число заёмщиков  Число должников  Доля должников\n",
       "3       до 50 тыс              349               21        0.060172\n",
       "4     до миллиона             5014              354        0.070602\n",
       "0  более миллиона               25                2        0.080000\n",
       "1      до 200 тыс            15921             1353        0.084982\n",
       "2       до 30 тыс               22                2        0.090909"
      ]
     },
     "execution_count": 27,
     "metadata": {},
     "output_type": "execute_result"
    }
   ],
   "source": [
    "data_income = data.groupby('total_income_category', as_index = False).agg({'debt':['count', 'sum', 'mean']})\n",
    "data_income.columns = ['Уровень дохода','Число заёмщиков','Число должников','Доля должников']\n",
    "data_income.sort_values(by='Доля должников')"
   ]
  },
  {
   "cell_type": "markdown",
   "id": "6dd14b57",
   "metadata": {
    "deletable": false,
    "id": "6dd14b57"
   },
   "source": [
    "**Вывод:** Как мы видим, количество заёмщиков в группах, где доход более миллиона  и менее 30 тысяч рублей, не превышает 100 человек, поэтому этих заемщиков мы учитывать при анализе таблицы не будем, так как каждый человек даёт сильный разброс в процентном соотношении. Исходя из данных таблицы можно сделать вывод, что меньше всего просрочек по кредитам у клиентов с уровнем дохода от 30 000 до 50 000 руб в месяц (6.02%), больше всего у клиентов с уровнем дохода от 200 000 до 1 000 000 руб в месяц (8.50%). Эта же категория (от 200 000 до 1 000 000) является наиболее массовой в выборке."
   ]
  },
  {
   "cell_type": "markdown",
   "id": "f31894c2",
   "metadata": {},
   "source": [
    "<font color='DarkBlue'><b>Комментарий ревьюера</b></font><br>\n",
    "<font color='DarkGreen'>👌 Хорошо, что обратили внимание на то, что представленные выборки несбалансированы и какой-то вывод можно делать только по двум категориям с достаточным размером выборок.</font>\n",
    "<br><font color='DarkMagenta'>👉 В задачах, где требуется анализировать несбалансированные выборки можно, делать дополнительный анализ, разбив данные на равные выборки методом `.qcut`. Подробнее можно прочитать тут: <br>https://dfedorov.spb.ru/pandas/Разделение%20данных%20в%20Pandas%20с%20помощью%20qcut%20и%20cut.html.</font>"
   ]
  },
  {
   "cell_type": "markdown",
   "id": "e97acf6d",
   "metadata": {},
   "source": [
    "<font color='DarkBlue'><b>Комментарий ревьюера 2</b></font><br>\n",
    "<font color='DarkMagenta'>👉 Можно сделать цикл с перебором количества категорий.</font>"
   ]
  },
  {
   "cell_type": "code",
   "execution_count": 29,
   "id": "3f1999db",
   "metadata": {},
   "outputs": [
    {
     "data": {
      "text/html": [
       "<style  type=\"text/css\" >\n",
       "#T_e0da7_row0_col0{\n",
       "            background-color:  #69add5;\n",
       "            color:  #000000;\n",
       "        }#T_e0da7_row0_col1{\n",
       "            background-color:  #5da5d1;\n",
       "            color:  #000000;\n",
       "        }#T_e0da7_row0_col2{\n",
       "            background-color:  #58a1cf;\n",
       "            color:  #000000;\n",
       "        }#T_e0da7_row1_col0,#T_e0da7_row1_col1,#T_e0da7_row1_col2{\n",
       "            background-color:  #08306b;\n",
       "            color:  #f1f1f1;\n",
       "        }#T_e0da7_row2_col0,#T_e0da7_row2_col1,#T_e0da7_row2_col2{\n",
       "            background-color:  #f7fbff;\n",
       "            color:  #000000;\n",
       "        }</style><table id=\"T_e0da7_\" ><thead>    <tr>        <th class=\"blank level0\" ></th>        <th class=\"col_heading level0 col0\" >Всего кредитополучателей</th>        <th class=\"col_heading level0 col1\" >Всего должников</th>        <th class=\"col_heading level0 col2\" >Доля должников</th>    </tr>    <tr>        <th class=\"index_name level0\" >new_category</th>        <th class=\"blank\" ></th>        <th class=\"blank\" ></th>        <th class=\"blank\" ></th>    </tr></thead><tbody>\n",
       "                <tr>\n",
       "                        <th id=\"T_e0da7_level0_row0\" class=\"row_heading level0 row0\" >(20666.0, 119218.0]</th>\n",
       "                        <td id=\"T_e0da7_row0_col0\" class=\"data row0 col0\" >7111.000</td>\n",
       "                        <td id=\"T_e0da7_row0_col1\" class=\"data row0 col1\" >580.000</td>\n",
       "                        <td id=\"T_e0da7_row0_col2\" class=\"data row0 col2\" >0.082</td>\n",
       "            </tr>\n",
       "            <tr>\n",
       "                        <th id=\"T_e0da7_level0_row1\" class=\"row_heading level0 row1\" >(119218.0, 172357.0]</th>\n",
       "                        <td id=\"T_e0da7_row1_col0\" class=\"data row1 col0\" >7238.000</td>\n",
       "                        <td id=\"T_e0da7_row1_col1\" class=\"data row1 col1\" >627.000</td>\n",
       "                        <td id=\"T_e0da7_row1_col2\" class=\"data row1 col2\" >0.087</td>\n",
       "            </tr>\n",
       "            <tr>\n",
       "                        <th id=\"T_e0da7_level0_row2\" class=\"row_heading level0 row2\" >(172357.0, 2265604.0]</th>\n",
       "                        <td id=\"T_e0da7_row2_col0\" class=\"data row2 col0\" >6982.000</td>\n",
       "                        <td id=\"T_e0da7_row2_col1\" class=\"data row2 col1\" >525.000</td>\n",
       "                        <td id=\"T_e0da7_row2_col2\" class=\"data row2 col2\" >0.075</td>\n",
       "            </tr>\n",
       "    </tbody></table>"
      ],
      "text/plain": [
       "<pandas.io.formats.style.Styler at 0x7f5910273a00>"
      ]
     },
     "metadata": {},
     "output_type": "display_data"
    },
    {
     "data": {
      "text/html": [
       "<style  type=\"text/css\" >\n",
       "#T_6cf15_row0_col0{\n",
       "            background-color:  #6aaed6;\n",
       "            color:  #000000;\n",
       "        }#T_6cf15_row0_col1{\n",
       "            background-color:  #7ab6d9;\n",
       "            color:  #000000;\n",
       "        }#T_6cf15_row0_col2{\n",
       "            background-color:  #65aad4;\n",
       "            color:  #000000;\n",
       "        }#T_6cf15_row1_col0,#T_6cf15_row1_col1,#T_6cf15_row1_col2{\n",
       "            background-color:  #08306b;\n",
       "            color:  #f1f1f1;\n",
       "        }#T_6cf15_row2_col0,#T_6cf15_row3_col1,#T_6cf15_row3_col2{\n",
       "            background-color:  #f7fbff;\n",
       "            color:  #000000;\n",
       "        }#T_6cf15_row2_col1{\n",
       "            background-color:  #3f8fc5;\n",
       "            color:  #000000;\n",
       "        }#T_6cf15_row2_col2{\n",
       "            background-color:  #125ea6;\n",
       "            color:  #f1f1f1;\n",
       "        }#T_6cf15_row3_col0{\n",
       "            background-color:  #6dafd7;\n",
       "            color:  #000000;\n",
       "        }</style><table id=\"T_6cf15_\" ><thead>    <tr>        <th class=\"blank level0\" ></th>        <th class=\"col_heading level0 col0\" >Всего кредитополучателей</th>        <th class=\"col_heading level0 col1\" >Всего должников</th>        <th class=\"col_heading level0 col2\" >Доля должников</th>    </tr>    <tr>        <th class=\"index_name level0\" >new_category</th>        <th class=\"blank\" ></th>        <th class=\"blank\" ></th>        <th class=\"blank\" ></th>    </tr></thead><tbody>\n",
       "                <tr>\n",
       "                        <th id=\"T_6cf15_level0_row0\" class=\"row_heading level0 row0\" >(20666.0, 107507.0]</th>\n",
       "                        <td id=\"T_6cf15_row0_col0\" class=\"data row0 col0\" >5333.000</td>\n",
       "                        <td id=\"T_6cf15_row0_col1\" class=\"data row0 col1\" >427.000</td>\n",
       "                        <td id=\"T_6cf15_row0_col2\" class=\"data row0 col2\" >0.080</td>\n",
       "            </tr>\n",
       "            <tr>\n",
       "                        <th id=\"T_6cf15_level0_row1\" class=\"row_heading level0 row1\" >(107507.0, 142594.0]</th>\n",
       "                        <td id=\"T_6cf15_row1_col0\" class=\"data row1 col0\" >5450.000</td>\n",
       "                        <td id=\"T_6cf15_row1_col1\" class=\"data row1 col1\" >480.000</td>\n",
       "                        <td id=\"T_6cf15_row1_col2\" class=\"data row1 col2\" >0.088</td>\n",
       "            </tr>\n",
       "            <tr>\n",
       "                        <th id=\"T_6cf15_level0_row2\" class=\"row_heading level0 row2\" >(142594.0, 195842.0]</th>\n",
       "                        <td id=\"T_6cf15_row2_col0\" class=\"data row2 col0\" >5216.000</td>\n",
       "                        <td id=\"T_6cf15_row2_col1\" class=\"data row2 col1\" >444.000</td>\n",
       "                        <td id=\"T_6cf15_row2_col2\" class=\"data row2 col2\" >0.085</td>\n",
       "            </tr>\n",
       "            <tr>\n",
       "                        <th id=\"T_6cf15_level0_row3\" class=\"row_heading level0 row3\" >(195842.0, 2265604.0]</th>\n",
       "                        <td id=\"T_6cf15_row3_col0\" class=\"data row3 col0\" >5332.000</td>\n",
       "                        <td id=\"T_6cf15_row3_col1\" class=\"data row3 col1\" >381.000</td>\n",
       "                        <td id=\"T_6cf15_row3_col2\" class=\"data row3 col2\" >0.071</td>\n",
       "            </tr>\n",
       "    </tbody></table>"
      ],
      "text/plain": [
       "<pandas.io.formats.style.Styler at 0x7f5914b0c3a0>"
      ]
     },
     "metadata": {},
     "output_type": "display_data"
    },
    {
     "data": {
      "text/html": [
       "<style  type=\"text/css\" >\n",
       "#T_9f066_row0_col0,#T_9f066_row2_col1,#T_9f066_row2_col2{\n",
       "            background-color:  #08306b;\n",
       "            color:  #f1f1f1;\n",
       "        }#T_9f066_row0_col1,#T_9f066_row0_col2{\n",
       "            background-color:  #4896c8;\n",
       "            color:  #000000;\n",
       "        }#T_9f066_row1_col0,#T_9f066_row2_col0,#T_9f066_row3_col0,#T_9f066_row4_col0,#T_9f066_row4_col1,#T_9f066_row4_col2{\n",
       "            background-color:  #f7fbff;\n",
       "            color:  #000000;\n",
       "        }#T_9f066_row1_col1,#T_9f066_row1_col2,#T_9f066_row3_col1,#T_9f066_row3_col2{\n",
       "            background-color:  #1764ab;\n",
       "            color:  #f1f1f1;\n",
       "        }</style><table id=\"T_9f066_\" ><thead>    <tr>        <th class=\"blank level0\" ></th>        <th class=\"col_heading level0 col0\" >Всего кредитополучателей</th>        <th class=\"col_heading level0 col1\" >Всего должников</th>        <th class=\"col_heading level0 col2\" >Доля должников</th>    </tr>    <tr>        <th class=\"index_name level0\" >new_category</th>        <th class=\"blank\" ></th>        <th class=\"blank\" ></th>        <th class=\"blank\" ></th>    </tr></thead><tbody>\n",
       "                <tr>\n",
       "                        <th id=\"T_9f066_level0_row0\" class=\"row_heading level0 row0\" >(20666.0, 98514.0]</th>\n",
       "                        <td id=\"T_9f066_row0_col0\" class=\"data row0 col0\" >4267.000</td>\n",
       "                        <td id=\"T_9f066_row0_col1\" class=\"data row0 col1\" >344.000</td>\n",
       "                        <td id=\"T_9f066_row0_col2\" class=\"data row0 col2\" >0.081</td>\n",
       "            </tr>\n",
       "            <tr>\n",
       "                        <th id=\"T_9f066_level0_row1\" class=\"row_heading level0 row1\" >(98514.0, 132113.0]</th>\n",
       "                        <td id=\"T_9f066_row1_col0\" class=\"data row1 col0\" >4266.000</td>\n",
       "                        <td id=\"T_9f066_row1_col1\" class=\"data row1 col1\" >358.000</td>\n",
       "                        <td id=\"T_9f066_row1_col2\" class=\"data row1 col2\" >0.084</td>\n",
       "            </tr>\n",
       "            <tr>\n",
       "                        <th id=\"T_9f066_level0_row2\" class=\"row_heading level0 row2\" >(132113.0, 161380.0]</th>\n",
       "                        <td id=\"T_9f066_row2_col0\" class=\"data row2 col0\" >4266.000</td>\n",
       "                        <td id=\"T_9f066_row2_col1\" class=\"data row2 col1\" >373.000</td>\n",
       "                        <td id=\"T_9f066_row2_col2\" class=\"data row2 col2\" >0.087</td>\n",
       "            </tr>\n",
       "            <tr>\n",
       "                        <th id=\"T_9f066_level0_row3\" class=\"row_heading level0 row3\" >(161380.0, 214604.0]</th>\n",
       "                        <td id=\"T_9f066_row3_col0\" class=\"data row3 col0\" >4266.000</td>\n",
       "                        <td id=\"T_9f066_row3_col1\" class=\"data row3 col1\" >358.000</td>\n",
       "                        <td id=\"T_9f066_row3_col2\" class=\"data row3 col2\" >0.084</td>\n",
       "            </tr>\n",
       "            <tr>\n",
       "                        <th id=\"T_9f066_level0_row4\" class=\"row_heading level0 row4\" >(214604.0, 2265604.0]</th>\n",
       "                        <td id=\"T_9f066_row4_col0\" class=\"data row4 col0\" >4266.000</td>\n",
       "                        <td id=\"T_9f066_row4_col1\" class=\"data row4 col1\" >299.000</td>\n",
       "                        <td id=\"T_9f066_row4_col2\" class=\"data row4 col2\" >0.070</td>\n",
       "            </tr>\n",
       "    </tbody></table>"
      ],
      "text/plain": [
       "<pandas.io.formats.style.Styler at 0x7f591587c430>"
      ]
     },
     "metadata": {},
     "output_type": "display_data"
    },
    {
     "data": {
      "text/html": [
       "<style  type=\"text/css\" >\n",
       "#T_7812e_row0_col0{\n",
       "            background-color:  #63a8d3;\n",
       "            color:  #000000;\n",
       "        }#T_7812e_row0_col1{\n",
       "            background-color:  #7ab6d9;\n",
       "            color:  #000000;\n",
       "        }#T_7812e_row0_col2{\n",
       "            background-color:  #60a7d2;\n",
       "            color:  #000000;\n",
       "        }#T_7812e_row1_col0,#T_7812e_row5_col0{\n",
       "            background-color:  #64a9d3;\n",
       "            color:  #000000;\n",
       "        }#T_7812e_row1_col1{\n",
       "            background-color:  #4e9acb;\n",
       "            color:  #000000;\n",
       "        }#T_7812e_row1_col2{\n",
       "            background-color:  #3383be;\n",
       "            color:  #000000;\n",
       "        }#T_7812e_row2_col0,#T_7812e_row2_col1,#T_7812e_row2_col2{\n",
       "            background-color:  #08306b;\n",
       "            color:  #f1f1f1;\n",
       "        }#T_7812e_row3_col0{\n",
       "            background-color:  #549fcd;\n",
       "            color:  #000000;\n",
       "        }#T_7812e_row3_col1{\n",
       "            background-color:  #3a8ac2;\n",
       "            color:  #000000;\n",
       "        }#T_7812e_row3_col2{\n",
       "            background-color:  #2373b6;\n",
       "            color:  #f1f1f1;\n",
       "        }#T_7812e_row4_col0,#T_7812e_row5_col1,#T_7812e_row5_col2{\n",
       "            background-color:  #f7fbff;\n",
       "            color:  #000000;\n",
       "        }#T_7812e_row4_col1{\n",
       "            background-color:  #a8cee4;\n",
       "            color:  #000000;\n",
       "        }#T_7812e_row4_col2{\n",
       "            background-color:  #5aa2cf;\n",
       "            color:  #000000;\n",
       "        }</style><table id=\"T_7812e_\" ><thead>    <tr>        <th class=\"blank level0\" ></th>        <th class=\"col_heading level0 col0\" >Всего кредитополучателей</th>        <th class=\"col_heading level0 col1\" >Всего должников</th>        <th class=\"col_heading level0 col2\" >Доля должников</th>    </tr>    <tr>        <th class=\"index_name level0\" >new_category</th>        <th class=\"blank\" ></th>        <th class=\"blank\" ></th>        <th class=\"blank\" ></th>    </tr></thead><tbody>\n",
       "                <tr>\n",
       "                        <th id=\"T_7812e_level0_row0\" class=\"row_heading level0 row0\" >(20666.0, 92092.0]</th>\n",
       "                        <td id=\"T_7812e_row0_col0\" class=\"data row0 col0\" >3556.000</td>\n",
       "                        <td id=\"T_7812e_row0_col1\" class=\"data row0 col1\" >285.000</td>\n",
       "                        <td id=\"T_7812e_row0_col2\" class=\"data row0 col2\" >0.080</td>\n",
       "            </tr>\n",
       "            <tr>\n",
       "                        <th id=\"T_7812e_level0_row1\" class=\"row_heading level0 row1\" >(92092.0, 119218.0]</th>\n",
       "                        <td id=\"T_7812e_row1_col0\" class=\"data row1 col0\" >3555.000</td>\n",
       "                        <td id=\"T_7812e_row1_col1\" class=\"data row1 col1\" >295.000</td>\n",
       "                        <td id=\"T_7812e_row1_col2\" class=\"data row1 col2\" >0.083</td>\n",
       "            </tr>\n",
       "            <tr>\n",
       "                        <th id=\"T_7812e_level0_row2\" class=\"row_heading level0 row2\" >(119218.0, 142594.0]</th>\n",
       "                        <td id=\"T_7812e_row2_col0\" class=\"data row2 col0\" >3672.000</td>\n",
       "                        <td id=\"T_7812e_row2_col1\" class=\"data row2 col1\" >327.000</td>\n",
       "                        <td id=\"T_7812e_row2_col2\" class=\"data row2 col2\" >0.089</td>\n",
       "            </tr>\n",
       "            <tr>\n",
       "                        <th id=\"T_7812e_level0_row3\" class=\"row_heading level0 row3\" >(142594.0, 172357.0]</th>\n",
       "                        <td id=\"T_7812e_row3_col0\" class=\"data row3 col0\" >3566.000</td>\n",
       "                        <td id=\"T_7812e_row3_col1\" class=\"data row3 col1\" >300.000</td>\n",
       "                        <td id=\"T_7812e_row3_col2\" class=\"data row3 col2\" >0.084</td>\n",
       "            </tr>\n",
       "            <tr>\n",
       "                        <th id=\"T_7812e_level0_row4\" class=\"row_heading level0 row4\" >(172357.0, 228893.0]</th>\n",
       "                        <td id=\"T_7812e_row4_col0\" class=\"data row4 col0\" >3427.000</td>\n",
       "                        <td id=\"T_7812e_row4_col1\" class=\"data row4 col1\" >276.000</td>\n",
       "                        <td id=\"T_7812e_row4_col2\" class=\"data row4 col2\" >0.081</td>\n",
       "            </tr>\n",
       "            <tr>\n",
       "                        <th id=\"T_7812e_level0_row5\" class=\"row_heading level0 row5\" >(228893.0, 2265604.0]</th>\n",
       "                        <td id=\"T_7812e_row5_col0\" class=\"data row5 col0\" >3555.000</td>\n",
       "                        <td id=\"T_7812e_row5_col1\" class=\"data row5 col1\" >249.000</td>\n",
       "                        <td id=\"T_7812e_row5_col2\" class=\"data row5 col2\" >0.070</td>\n",
       "            </tr>\n",
       "    </tbody></table>"
      ],
      "text/plain": [
       "<pandas.io.formats.style.Styler at 0x7f58a901d2b0>"
      ]
     },
     "metadata": {},
     "output_type": "display_data"
    },
    {
     "data": {
      "text/html": [
       "<style  type=\"text/css\" >\n",
       "#T_71e43_row0_col0,#T_71e43_row3_col1,#T_71e43_row3_col2,#T_71e43_row6_col0{\n",
       "            background-color:  #08306b;\n",
       "            color:  #f1f1f1;\n",
       "        }#T_71e43_row0_col1,#T_71e43_row0_col2{\n",
       "            background-color:  #8dc1dd;\n",
       "            color:  #000000;\n",
       "        }#T_71e43_row1_col0,#T_71e43_row2_col0,#T_71e43_row3_col0,#T_71e43_row4_col0,#T_71e43_row5_col0,#T_71e43_row6_col1,#T_71e43_row6_col2{\n",
       "            background-color:  #f7fbff;\n",
       "            color:  #000000;\n",
       "        }#T_71e43_row1_col1,#T_71e43_row1_col2{\n",
       "            background-color:  #083979;\n",
       "            color:  #f1f1f1;\n",
       "        }#T_71e43_row2_col1,#T_71e43_row2_col2{\n",
       "            background-color:  #083471;\n",
       "            color:  #f1f1f1;\n",
       "        }#T_71e43_row4_col1,#T_71e43_row4_col2{\n",
       "            background-color:  #09529d;\n",
       "            color:  #f1f1f1;\n",
       "        }#T_71e43_row5_col1,#T_71e43_row5_col2{\n",
       "            background-color:  #4f9bcb;\n",
       "            color:  #000000;\n",
       "        }</style><table id=\"T_71e43_\" ><thead>    <tr>        <th class=\"blank level0\" ></th>        <th class=\"col_heading level0 col0\" >Всего кредитополучателей</th>        <th class=\"col_heading level0 col1\" >Всего должников</th>        <th class=\"col_heading level0 col2\" >Доля должников</th>    </tr>    <tr>        <th class=\"index_name level0\" >new_category</th>        <th class=\"blank\" ></th>        <th class=\"blank\" ></th>        <th class=\"blank\" ></th>    </tr></thead><tbody>\n",
       "                <tr>\n",
       "                        <th id=\"T_71e43_level0_row0\" class=\"row_heading level0 row0\" >(20666.0, 87287.0]</th>\n",
       "                        <td id=\"T_71e43_row0_col0\" class=\"data row0 col0\" >3048.000</td>\n",
       "                        <td id=\"T_71e43_row0_col1\" class=\"data row0 col1\" >233.000</td>\n",
       "                        <td id=\"T_71e43_row0_col2\" class=\"data row0 col2\" >0.076</td>\n",
       "            </tr>\n",
       "            <tr>\n",
       "                        <th id=\"T_71e43_level0_row1\" class=\"row_heading level0 row1\" >(87287.0, 113563.0]</th>\n",
       "                        <td id=\"T_71e43_row1_col0\" class=\"data row1 col0\" >3047.000</td>\n",
       "                        <td id=\"T_71e43_row1_col1\" class=\"data row1 col1\" >262.000</td>\n",
       "                        <td id=\"T_71e43_row1_col2\" class=\"data row1 col2\" >0.086</td>\n",
       "            </tr>\n",
       "            <tr>\n",
       "                        <th id=\"T_71e43_level0_row2\" class=\"row_heading level0 row2\" >(113563.0, 137465.0]</th>\n",
       "                        <td id=\"T_71e43_row2_col0\" class=\"data row2 col0\" >3047.000</td>\n",
       "                        <td id=\"T_71e43_row2_col1\" class=\"data row2 col1\" >263.000</td>\n",
       "                        <td id=\"T_71e43_row2_col2\" class=\"data row2 col2\" >0.086</td>\n",
       "            </tr>\n",
       "            <tr>\n",
       "                        <th id=\"T_71e43_level0_row3\" class=\"row_heading level0 row3\" >(137465.0, 155314.0]</th>\n",
       "                        <td id=\"T_71e43_row3_col0\" class=\"data row3 col0\" >3047.000</td>\n",
       "                        <td id=\"T_71e43_row3_col1\" class=\"data row3 col1\" >264.000</td>\n",
       "                        <td id=\"T_71e43_row3_col2\" class=\"data row3 col2\" >0.087</td>\n",
       "            </tr>\n",
       "            <tr>\n",
       "                        <th id=\"T_71e43_level0_row4\" class=\"row_heading level0 row4\" >(155314.0, 184554.0]</th>\n",
       "                        <td id=\"T_71e43_row4_col0\" class=\"data row4 col0\" >3047.000</td>\n",
       "                        <td id=\"T_71e43_row4_col1\" class=\"data row4 col1\" >257.000</td>\n",
       "                        <td id=\"T_71e43_row4_col2\" class=\"data row4 col2\" >0.084</td>\n",
       "            </tr>\n",
       "            <tr>\n",
       "                        <th id=\"T_71e43_level0_row5\" class=\"row_heading level0 row5\" >(184554.0, 242009.0]</th>\n",
       "                        <td id=\"T_71e43_row5_col0\" class=\"data row5 col0\" >3047.000</td>\n",
       "                        <td id=\"T_71e43_row5_col1\" class=\"data row5 col1\" >242.000</td>\n",
       "                        <td id=\"T_71e43_row5_col2\" class=\"data row5 col2\" >0.079</td>\n",
       "            </tr>\n",
       "            <tr>\n",
       "                        <th id=\"T_71e43_level0_row6\" class=\"row_heading level0 row6\" >(242009.0, 2265604.0]</th>\n",
       "                        <td id=\"T_71e43_row6_col0\" class=\"data row6 col0\" >3048.000</td>\n",
       "                        <td id=\"T_71e43_row6_col1\" class=\"data row6 col1\" >211.000</td>\n",
       "                        <td id=\"T_71e43_row6_col2\" class=\"data row6 col2\" >0.069</td>\n",
       "            </tr>\n",
       "    </tbody></table>"
      ],
      "text/plain": [
       "<pandas.io.formats.style.Styler at 0x7f58aad13460>"
      ]
     },
     "metadata": {},
     "output_type": "display_data"
    },
    {
     "data": {
      "text/html": [
       "<style  type=\"text/css\" >\n",
       "#T_d65a3_row0_col0,#T_d65a3_row5_col0,#T_d65a3_row7_col0{\n",
       "            background-color:  #6aaed6;\n",
       "            color:  #000000;\n",
       "        }#T_d65a3_row0_col1{\n",
       "            background-color:  #aacfe5;\n",
       "            color:  #000000;\n",
       "        }#T_d65a3_row0_col2{\n",
       "            background-color:  #91c3de;\n",
       "            color:  #000000;\n",
       "        }#T_d65a3_row1_col0,#T_d65a3_row2_col0{\n",
       "            background-color:  #6caed6;\n",
       "            color:  #000000;\n",
       "        }#T_d65a3_row1_col1,#T_d65a3_row5_col1{\n",
       "            background-color:  #519ccc;\n",
       "            color:  #000000;\n",
       "        }#T_d65a3_row1_col2,#T_d65a3_row5_col2{\n",
       "            background-color:  #2f7fbc;\n",
       "            color:  #000000;\n",
       "        }#T_d65a3_row2_col1{\n",
       "            background-color:  #1c6ab0;\n",
       "            color:  #f1f1f1;\n",
       "        }#T_d65a3_row2_col2{\n",
       "            background-color:  #084285;\n",
       "            color:  #f1f1f1;\n",
       "        }#T_d65a3_row3_col0,#T_d65a3_row3_col1,#T_d65a3_row3_col2{\n",
       "            background-color:  #08306b;\n",
       "            color:  #f1f1f1;\n",
       "        }#T_d65a3_row4_col0,#T_d65a3_row7_col1,#T_d65a3_row7_col2{\n",
       "            background-color:  #f7fbff;\n",
       "            color:  #000000;\n",
       "        }#T_d65a3_row4_col1{\n",
       "            background-color:  #4695c8;\n",
       "            color:  #000000;\n",
       "        }#T_d65a3_row4_col2{\n",
       "            background-color:  #084184;\n",
       "            color:  #f1f1f1;\n",
       "        }#T_d65a3_row6_col0{\n",
       "            background-color:  #6dafd7;\n",
       "            color:  #000000;\n",
       "        }#T_d65a3_row6_col1{\n",
       "            background-color:  #d4e4f4;\n",
       "            color:  #000000;\n",
       "        }#T_d65a3_row6_col2{\n",
       "            background-color:  #cddff1;\n",
       "            color:  #000000;\n",
       "        }</style><table id=\"T_d65a3_\" ><thead>    <tr>        <th class=\"blank level0\" ></th>        <th class=\"col_heading level0 col0\" >Всего кредитополучателей</th>        <th class=\"col_heading level0 col1\" >Всего должников</th>        <th class=\"col_heading level0 col2\" >Доля должников</th>    </tr>    <tr>        <th class=\"index_name level0\" >new_category</th>        <th class=\"blank\" ></th>        <th class=\"blank\" ></th>        <th class=\"blank\" ></th>    </tr></thead><tbody>\n",
       "                <tr>\n",
       "                        <th id=\"T_d65a3_level0_row0\" class=\"row_heading level0 row0\" >(20666.0, 83837.0]</th>\n",
       "                        <td id=\"T_d65a3_row0_col0\" class=\"data row0 col0\" >2667.000</td>\n",
       "                        <td id=\"T_d65a3_row0_col1\" class=\"data row0 col1\" >206.000</td>\n",
       "                        <td id=\"T_d65a3_row0_col2\" class=\"data row0 col2\" >0.077</td>\n",
       "            </tr>\n",
       "            <tr>\n",
       "                        <th id=\"T_d65a3_level0_row1\" class=\"row_heading level0 row1\" >(83837.0, 107507.0]</th>\n",
       "                        <td id=\"T_d65a3_row1_col0\" class=\"data row1 col0\" >2666.000</td>\n",
       "                        <td id=\"T_d65a3_row1_col1\" class=\"data row1 col1\" >221.000</td>\n",
       "                        <td id=\"T_d65a3_row1_col2\" class=\"data row1 col2\" >0.083</td>\n",
       "            </tr>\n",
       "            <tr>\n",
       "                        <th id=\"T_d65a3_level0_row2\" class=\"row_heading level0 row2\" >(107507.0, 127546.0]</th>\n",
       "                        <td id=\"T_d65a3_row2_col0\" class=\"data row2 col0\" >2666.000</td>\n",
       "                        <td id=\"T_d65a3_row2_col1\" class=\"data row2 col1\" >233.000</td>\n",
       "                        <td id=\"T_d65a3_row2_col2\" class=\"data row2 col2\" >0.087</td>\n",
       "            </tr>\n",
       "            <tr>\n",
       "                        <th id=\"T_d65a3_level0_row3\" class=\"row_heading level0 row3\" >(127546.0, 142594.0]</th>\n",
       "                        <td id=\"T_d65a3_row3_col0\" class=\"data row3 col0\" >2784.000</td>\n",
       "                        <td id=\"T_d65a3_row3_col1\" class=\"data row3 col1\" >247.000</td>\n",
       "                        <td id=\"T_d65a3_row3_col2\" class=\"data row3 col2\" >0.089</td>\n",
       "            </tr>\n",
       "            <tr>\n",
       "                        <th id=\"T_d65a3_level0_row4\" class=\"row_heading level0 row4\" >(142594.0, 166525.0]</th>\n",
       "                        <td id=\"T_d65a3_row4_col0\" class=\"data row4 col0\" >2549.000</td>\n",
       "                        <td id=\"T_d65a3_row4_col1\" class=\"data row4 col1\" >223.000</td>\n",
       "                        <td id=\"T_d65a3_row4_col2\" class=\"data row4 col2\" >0.087</td>\n",
       "            </tr>\n",
       "            <tr>\n",
       "                        <th id=\"T_d65a3_level0_row5\" class=\"row_heading level0 row5\" >(166525.0, 195842.0]</th>\n",
       "                        <td id=\"T_d65a3_row5_col0\" class=\"data row5 col0\" >2667.000</td>\n",
       "                        <td id=\"T_d65a3_row5_col1\" class=\"data row5 col1\" >221.000</td>\n",
       "                        <td id=\"T_d65a3_row5_col2\" class=\"data row5 col2\" >0.083</td>\n",
       "            </tr>\n",
       "            <tr>\n",
       "                        <th id=\"T_d65a3_level0_row6\" class=\"row_heading level0 row6\" >(195842.0, 254250.0]</th>\n",
       "                        <td id=\"T_d65a3_row6_col0\" class=\"data row6 col0\" >2665.000</td>\n",
       "                        <td id=\"T_d65a3_row6_col1\" class=\"data row6 col1\" >196.000</td>\n",
       "                        <td id=\"T_d65a3_row6_col2\" class=\"data row6 col2\" >0.074</td>\n",
       "            </tr>\n",
       "            <tr>\n",
       "                        <th id=\"T_d65a3_level0_row7\" class=\"row_heading level0 row7\" >(254250.0, 2265604.0]</th>\n",
       "                        <td id=\"T_d65a3_row7_col0\" class=\"data row7 col0\" >2667.000</td>\n",
       "                        <td id=\"T_d65a3_row7_col1\" class=\"data row7 col1\" >185.000</td>\n",
       "                        <td id=\"T_d65a3_row7_col2\" class=\"data row7 col2\" >0.069</td>\n",
       "            </tr>\n",
       "    </tbody></table>"
      ],
      "text/plain": [
       "<pandas.io.formats.style.Styler at 0x7f591026d160>"
      ]
     },
     "metadata": {},
     "output_type": "display_data"
    }
   ],
   "source": [
    "# Комментарий ревьюера 2\n",
    "temp = data.copy()\n",
    "start, stop = 3, 8 # начальное и конечное количество категорий\n",
    "while start <= stop:\n",
    "    temp['new_category'] = pd.qcut(temp['total_income'], q=start, precision=0)\n",
    "    que('new_category')\n",
    "    start += 1"
   ]
  },
  {
   "cell_type": "markdown",
   "id": "65d90b8c",
   "metadata": {},
   "source": [
    "<font color='DarkBlue'><b>Комментарий ревьюера 2</b></font><br>\n",
    "<font color='DarkMagenta'>👉 Вот, нашлась самая кредито-опасная категория дохода заемщиков, повод для более глубокого анализа.</font>"
   ]
  },
  {
   "cell_type": "markdown",
   "id": "1dcc9b12",
   "metadata": {
    "deletable": false,
    "editable": false,
    "id": "1dcc9b12"
   },
   "source": [
    "#### 3.4 Как разные цели кредита влияют на его возврат в срок?"
   ]
  },
  {
   "cell_type": "code",
   "execution_count": 28,
   "id": "c602bc8b",
   "metadata": {
    "deletable": false,
    "id": "c602bc8b"
   },
   "outputs": [
    {
     "data": {
      "text/html": [
       "<div>\n",
       "<style scoped>\n",
       "    .dataframe tbody tr th:only-of-type {\n",
       "        vertical-align: middle;\n",
       "    }\n",
       "\n",
       "    .dataframe tbody tr th {\n",
       "        vertical-align: top;\n",
       "    }\n",
       "\n",
       "    .dataframe thead th {\n",
       "        text-align: right;\n",
       "    }\n",
       "</style>\n",
       "<table border=\"1\" class=\"dataframe\">\n",
       "  <thead>\n",
       "    <tr style=\"text-align: right;\">\n",
       "      <th></th>\n",
       "      <th>Цель Кредита</th>\n",
       "      <th>Число заёмщиков</th>\n",
       "      <th>Число должников</th>\n",
       "      <th>Доля должников</th>\n",
       "    </tr>\n",
       "  </thead>\n",
       "  <tbody>\n",
       "    <tr>\n",
       "      <th>1</th>\n",
       "      <td>операции с недвижимостью</td>\n",
       "      <td>10751</td>\n",
       "      <td>780</td>\n",
       "      <td>0.072551</td>\n",
       "    </tr>\n",
       "    <tr>\n",
       "      <th>3</th>\n",
       "      <td>проведение свадьбы</td>\n",
       "      <td>2313</td>\n",
       "      <td>183</td>\n",
       "      <td>0.079118</td>\n",
       "    </tr>\n",
       "    <tr>\n",
       "      <th>2</th>\n",
       "      <td>получение образования</td>\n",
       "      <td>3988</td>\n",
       "      <td>369</td>\n",
       "      <td>0.092528</td>\n",
       "    </tr>\n",
       "    <tr>\n",
       "      <th>0</th>\n",
       "      <td>операции с автомобилем</td>\n",
       "      <td>4279</td>\n",
       "      <td>400</td>\n",
       "      <td>0.093480</td>\n",
       "    </tr>\n",
       "  </tbody>\n",
       "</table>\n",
       "</div>"
      ],
      "text/plain": [
       "               Цель Кредита  Число заёмщиков  Число должников  Доля должников\n",
       "1  операции с недвижимостью            10751              780        0.072551\n",
       "3        проведение свадьбы             2313              183        0.079118\n",
       "2     получение образования             3988              369        0.092528\n",
       "0    операции с автомобилем             4279              400        0.093480"
      ]
     },
     "execution_count": 28,
     "metadata": {},
     "output_type": "execute_result"
    }
   ],
   "source": [
    "data_purpose = data.groupby('purpose_category', as_index = False).agg({'debt':['count', 'sum', 'mean']})\n",
    "data_purpose.columns = ['Цель Кредита','Число заёмщиков','Число должников','Доля должников']\n",
    "data_purpose.sort_values(by='Доля должников')"
   ]
  },
  {
   "cell_type": "markdown",
   "id": "cf05ed63",
   "metadata": {
    "deletable": false,
    "id": "cf05ed63"
   },
   "source": [
    "**Вывод:** кредиты взятые с целью операций с недвижимостью отдают исправнее всех, хуже всего выплачивают кредиты заёмщики из группы \"операции с автомобилем\" скорее всего это связано с тем, что покупка недвижимости или ремонт это чаще всего тщательно спланированное и рассчитанное действие "
   ]
  },
  {
   "cell_type": "markdown",
   "id": "ab379e8a",
   "metadata": {},
   "source": [
    "<font color='DarkBlue'><b>Комментарий ревьюера</b></font><br>\n",
    "<font color='DarkGreen'>👌 Видимо, кредиты на автомобиль и обучение несут дополнительные риски связанные или с возможной аварией, или с проблемами трудоустройства после обучения.</font>"
   ]
  },
  {
   "cell_type": "markdown",
   "id": "46c1f10b",
   "metadata": {
    "deletable": false,
    "editable": false,
    "id": "46c1f10b"
   },
   "source": [
    "#### 3.5 Приведите возможные причины появления пропусков в исходных данных."
   ]
  },
  {
   "cell_type": "markdown",
   "id": "3697d2a9",
   "metadata": {
    "deletable": false,
    "id": "3697d2a9"
   },
   "source": [
    "*Ответ:* Так как пропусков у нас было ровно 2174 и только лишь в категориях days_employed и total_income, то можно сделать вывод, что скорее всего данные не учитывались при заполнении или были пропущены. Также можно предположить, что именно по этим категориям произошёл сбой при выгрузке данных.\n"
   ]
  },
  {
   "cell_type": "markdown",
   "id": "4919465d",
   "metadata": {},
   "source": [
    "<font color='DarkBlue'><b>Комментарий ревьюера</b></font><br>\n",
    "<font color='DarkMagenta'>👉 Существует несколько причин отсутствия данных в датасетах, в том числе:<br>\n",
    "- Человеческий фактор: Ошибки ввода данных, не желание отвечать на определенные вопросы.\n",
    "- Технические проблемы: Возможны сбои с оборудованием или программным обеспечением для сбора данных. Отсутствующие данные могут быть удалены в процессе обработки или очистки данных.\n",
    "- Организационные: Конфиденциальность, могут отсутствовать данные, идентифицирующие отдельных лиц или компании.</font>"
   ]
  },
  {
   "cell_type": "markdown",
   "id": "3137d257",
   "metadata": {
    "deletable": false,
    "editable": false,
    "id": "3137d257"
   },
   "source": [
    "#### 3.6 Объясните, почему заполнить пропуски медианным значением — лучшее решение для количественных переменных."
   ]
  },
  {
   "cell_type": "markdown",
   "id": "cf40012a",
   "metadata": {
    "deletable": false,
    "id": "cf40012a"
   },
   "source": [
    "*Ответ:* Пустые значения можно заменить медианным или средним значением, но Среднеарифметическое значение не подходит при слиьном разбросе данных и всвязи с этим не всегда отображает реальность. Медианное значение отображает более достоверную картину распределения по пользователям, даже если имеется сильный разброс по максимальным и минимальным значениям."
   ]
  },
  {
   "cell_type": "markdown",
   "id": "87ab3053",
   "metadata": {},
   "source": [
    "<font color='DarkBlue'><b>Комментарий ревьюера</b></font><br>\n",
    "<font color='DarkGreen'>👌 Правильно, у средних более высокая чувствительность к выбросам, чем у медиан.<br>Можно попробовать посчитать и сравнить среднюю и медиану для колонки с выбросами, например `days_employed`.</font>"
   ]
  },
  {
   "cell_type": "markdown",
   "id": "57bc304e",
   "metadata": {
    "deletable": false,
    "editable": false,
    "id": "57bc304e"
   },
   "source": [
    "### Шаг 4: общий вывод."
   ]
  },
  {
   "cell_type": "markdown",
   "id": "1ab75d1c",
   "metadata": {
    "deletable": false,
    "id": "1ab75d1c"
   },
   "source": [
    "Напишите ваш общий вывод.\n",
    "В ходе данного исследования была проанализирована выборка текущих клиентов и их задолженностей по платежам.\n",
    "Для проведения исследования по надежности заёмщиков нам были предоставлены данные с информацией об образовании, семейном положении, уровне образования, цели кредита, общего рабочего стажа, пола, наличия детей, уровня и типа дохода и количестве дней задолженности.\n",
    "\n",
    "При обработке данных группы с количеством до 100 человек мы не учитывали при анализе, так как в таких группах невозможно вывести достоверную статистику. Также столкнулись с отсутсвием данных в разделе общей прибыли и количестве дней задолженности по кредиту, эти пропуски мы заполнили медианными значениями так как среднеарифметическое значение не подходит при слиьном разбросе данных и всвязи с этим не всегда отображает реальность. Медианное значение отображает более достоверную картину распределения по пользователям, даже если имеется сильный разброс по максимальным и минимальным значениям. Также при предобработке данных мы отсортировали все цели кредита по 4 категориям: Обучение, операции с недвижимостью, автокредитование и свадьба.\n",
    "Целью анализа данных был поиск оптимального по совокупности факторов клиента на выдачу кредита.\n",
    "\n",
    "В рамках анализа были проверены следующие гипотезы:\n",
    "\n",
    "Есть ли зависимость между количеством детей и возвратом кредита в срок?\n",
    "\n",
    "В рамках данного исследования не удалось оценить группы клиентов с 4 и 5 детьми - выборка оказалась слишком малой для анализа. Категория клиентов без детей оказалась самой многочисленной и процент задержек по кредиту самый низкий - 7.54%. Самый высокий процент задержек по оплатам оказался у клиентов с двумя детьми и составляет 9.45%.\n",
    "Есть ли зависимость между семейным положением и возвратом кредита в срок?\n",
    "\n",
    "По результатам проверки данной гипотезы выявлена следующая закономерность - меньше всего просрочек по кредитам у вдов/вдовцев (6.62%), больше всего у клиентов, не состоящих в отношениях (9.76%). Самой массовой категорией являются клиенты в браке, процент просрочек по данной категории составляет 7.56%\n",
    "Есть ли зависимость между уровнем дохода и возвратом кредита в срок?\n",
    "\n",
    "По результатам проверки данной гипотезы выявлена следующая закономерность - меньше всего просрочек по кредитам у клиентов с уровнем дохода от 30 000 до 50 000 руб в месяц (6.02%), больше всего у клиентов с уровнем дохода от 200 000 до 1 000 000 руб в месяц (8.50%). Эта же категория (от 200 000 до 1 000 000) является наиболее массовой в выборке.\n",
    "Категория клиентов с экстремальными значениями доходов (ниже 30 000 руб или выше 1 000 000 руб) являются слишком малой. Достоверно говорить о вероятностях просрочек от этих клиентов нельзя.\n",
    "\n",
    "Как разные цели кредита влияют на его возврат в срок?\n",
    "\n",
    "По результатам проверки данной гипотезы выявлена следующая закономерность - меньше всего просрочек по кредитам по займам на недвижимость (7.26%), больше всего по займам на автомобиль (9.35%). Самой массовой категорией являются займы на недвижимость.\n",
    "Помимо проведенного анализа, возможно стоило бы провести ещё анализ по количеству дней просрочки и объемам просрочек. Этот анализ позволит определить более точно группу которая, с точки зрения задолженности, порождает наибольшие финансовые проблемы.\n",
    "\n",
    "Итак, самым оптимальным кандидатом на одобрение кредита в банке является клиент без детей, который имел серьезные узаконенные отношения в прошлом или состоит в них сейчай, с уровнем дохода от 30 до 50 тыс. руб., и целью кредитования которого являются любые операции с недвижимостью.\n",
    "Клиенты, которым нужно выдавать кредиты с особой осторожнсотью и уделить особое внимание при скоринге- это группа людей с детьми, не состоявшие в серьезных узаконенных отношениях, с доходом от 50 до 200 тыс. руб., и чей займ связан с автокредитованием."
   ]
  }
 ],
 "metadata": {
  "ExecuteTimeLog": [
   {
    "duration": 42,
    "start_time": "2023-09-24T10:47:01.455Z"
   },
   {
    "duration": 6,
    "start_time": "2023-09-24T10:47:19.685Z"
   },
   {
    "duration": 521,
    "start_time": "2023-09-24T10:47:32.630Z"
   },
   {
    "duration": 20,
    "start_time": "2023-09-24T10:47:33.152Z"
   },
   {
    "duration": 15,
    "start_time": "2023-09-24T10:47:33.324Z"
   },
   {
    "duration": 14,
    "start_time": "2023-09-24T10:47:34.115Z"
   },
   {
    "duration": 32,
    "start_time": "2023-09-24T10:47:34.480Z"
   },
   {
    "duration": 4,
    "start_time": "2023-09-24T10:47:35.064Z"
   },
   {
    "duration": 8,
    "start_time": "2023-09-24T10:47:35.425Z"
   },
   {
    "duration": 5,
    "start_time": "2023-09-24T10:47:36.344Z"
   },
   {
    "duration": 7,
    "start_time": "2023-09-24T10:47:36.791Z"
   },
   {
    "duration": 6,
    "start_time": "2023-09-24T10:47:37.152Z"
   },
   {
    "duration": 33,
    "start_time": "2023-09-24T10:47:37.852Z"
   },
   {
    "duration": 13,
    "start_time": "2023-09-24T10:47:38.254Z"
   },
   {
    "duration": 5,
    "start_time": "2023-09-24T10:47:38.834Z"
   },
   {
    "duration": 12,
    "start_time": "2023-09-24T10:47:39.456Z"
   },
   {
    "duration": 19,
    "start_time": "2023-09-24T10:47:39.839Z"
   },
   {
    "duration": 15,
    "start_time": "2023-09-24T10:47:40.046Z"
   },
   {
    "duration": 4,
    "start_time": "2023-09-24T10:47:41.725Z"
   },
   {
    "duration": 10,
    "start_time": "2023-09-24T10:47:42.170Z"
   },
   {
    "duration": 5,
    "start_time": "2023-09-24T10:47:43.079Z"
   },
   {
    "duration": 3,
    "start_time": "2023-09-24T10:47:44.969Z"
   },
   {
    "duration": 9,
    "start_time": "2023-09-24T10:47:45.729Z"
   },
   {
    "duration": 19,
    "start_time": "2023-09-24T10:47:47.320Z"
   },
   {
    "duration": 5,
    "start_time": "2023-09-24T10:55:52.609Z"
   },
   {
    "duration": 4,
    "start_time": "2023-09-24T11:00:00.982Z"
   },
   {
    "duration": 72,
    "start_time": "2023-09-24T11:00:17.213Z"
   },
   {
    "duration": 14,
    "start_time": "2023-09-24T11:00:17.594Z"
   },
   {
    "duration": 13,
    "start_time": "2023-09-24T11:00:18.113Z"
   },
   {
    "duration": 10,
    "start_time": "2023-09-24T11:00:18.956Z"
   },
   {
    "duration": 31,
    "start_time": "2023-09-24T11:00:19.294Z"
   },
   {
    "duration": 4,
    "start_time": "2023-09-24T11:00:20.404Z"
   },
   {
    "duration": 7,
    "start_time": "2023-09-24T11:00:20.774Z"
   },
   {
    "duration": 4,
    "start_time": "2023-09-24T11:00:21.340Z"
   },
   {
    "duration": 5,
    "start_time": "2023-09-24T11:00:21.794Z"
   },
   {
    "duration": 4,
    "start_time": "2023-09-24T11:00:22.235Z"
   },
   {
    "duration": 31,
    "start_time": "2023-09-24T11:00:22.904Z"
   },
   {
    "duration": 10,
    "start_time": "2023-09-24T11:00:23.329Z"
   },
   {
    "duration": 3,
    "start_time": "2023-09-24T11:00:23.945Z"
   },
   {
    "duration": 11,
    "start_time": "2023-09-24T11:00:24.746Z"
   },
   {
    "duration": 18,
    "start_time": "2023-09-24T11:00:25.196Z"
   },
   {
    "duration": 16,
    "start_time": "2023-09-24T11:00:25.424Z"
   },
   {
    "duration": 4,
    "start_time": "2023-09-24T11:00:26.066Z"
   },
   {
    "duration": 11,
    "start_time": "2023-09-24T11:00:26.289Z"
   },
   {
    "duration": 5,
    "start_time": "2023-09-24T11:00:27.136Z"
   },
   {
    "duration": 3,
    "start_time": "2023-09-24T11:00:28.326Z"
   },
   {
    "duration": 8,
    "start_time": "2023-09-24T11:00:28.796Z"
   },
   {
    "duration": 5,
    "start_time": "2023-09-24T11:00:30.255Z"
   },
   {
    "duration": 4,
    "start_time": "2023-09-24T11:00:53.532Z"
   },
   {
    "duration": 27,
    "start_time": "2023-09-24T11:01:02.158Z"
   },
   {
    "duration": 7,
    "start_time": "2023-09-24T11:01:34.708Z"
   },
   {
    "duration": 71,
    "start_time": "2023-09-24T11:01:53.111Z"
   },
   {
    "duration": 13,
    "start_time": "2023-09-24T11:01:53.460Z"
   },
   {
    "duration": 14,
    "start_time": "2023-09-24T11:01:53.842Z"
   },
   {
    "duration": 9,
    "start_time": "2023-09-24T11:01:54.758Z"
   },
   {
    "duration": 32,
    "start_time": "2023-09-24T11:01:55.113Z"
   },
   {
    "duration": 4,
    "start_time": "2023-09-24T11:01:56.043Z"
   },
   {
    "duration": 8,
    "start_time": "2023-09-24T11:01:56.411Z"
   },
   {
    "duration": 5,
    "start_time": "2023-09-24T11:01:57.459Z"
   },
   {
    "duration": 5,
    "start_time": "2023-09-24T11:01:57.839Z"
   },
   {
    "duration": 4,
    "start_time": "2023-09-24T11:01:58.203Z"
   },
   {
    "duration": 33,
    "start_time": "2023-09-24T11:01:58.914Z"
   },
   {
    "duration": 10,
    "start_time": "2023-09-24T11:01:59.476Z"
   },
   {
    "duration": 5,
    "start_time": "2023-09-24T11:02:00.294Z"
   },
   {
    "duration": 12,
    "start_time": "2023-09-24T11:02:01.094Z"
   },
   {
    "duration": 19,
    "start_time": "2023-09-24T11:02:01.812Z"
   },
   {
    "duration": 17,
    "start_time": "2023-09-24T11:02:01.992Z"
   },
   {
    "duration": 3,
    "start_time": "2023-09-24T11:02:02.883Z"
   },
   {
    "duration": 10,
    "start_time": "2023-09-24T11:02:03.359Z"
   },
   {
    "duration": 7,
    "start_time": "2023-09-24T11:02:04.107Z"
   },
   {
    "duration": 3,
    "start_time": "2023-09-24T11:02:05.058Z"
   },
   {
    "duration": 8,
    "start_time": "2023-09-24T11:02:05.573Z"
   },
   {
    "duration": 4,
    "start_time": "2023-09-24T11:02:07.075Z"
   },
   {
    "duration": 115,
    "start_time": "2023-09-24T12:21:03.999Z"
   },
   {
    "duration": 105,
    "start_time": "2023-09-24T12:21:20.245Z"
   },
   {
    "duration": 108,
    "start_time": "2023-09-24T12:21:39.133Z"
   },
   {
    "duration": 115,
    "start_time": "2023-09-24T12:22:08.875Z"
   },
   {
    "duration": 70,
    "start_time": "2023-09-24T12:22:22.932Z"
   },
   {
    "duration": 13,
    "start_time": "2023-09-24T12:22:23.233Z"
   },
   {
    "duration": 14,
    "start_time": "2023-09-24T12:22:23.541Z"
   },
   {
    "duration": 10,
    "start_time": "2023-09-24T12:22:24.628Z"
   },
   {
    "duration": 33,
    "start_time": "2023-09-24T12:22:24.989Z"
   },
   {
    "duration": 3,
    "start_time": "2023-09-24T12:22:25.675Z"
   },
   {
    "duration": 7,
    "start_time": "2023-09-24T12:22:26.008Z"
   },
   {
    "duration": 4,
    "start_time": "2023-09-24T12:22:26.534Z"
   },
   {
    "duration": 5,
    "start_time": "2023-09-24T12:22:26.882Z"
   },
   {
    "duration": 5,
    "start_time": "2023-09-24T12:22:27.407Z"
   },
   {
    "duration": 33,
    "start_time": "2023-09-24T12:22:27.937Z"
   },
   {
    "duration": 10,
    "start_time": "2023-09-24T12:22:28.246Z"
   },
   {
    "duration": 4,
    "start_time": "2023-09-24T12:22:29.671Z"
   },
   {
    "duration": 11,
    "start_time": "2023-09-24T12:22:30.555Z"
   },
   {
    "duration": 19,
    "start_time": "2023-09-24T12:22:31.035Z"
   },
   {
    "duration": 17,
    "start_time": "2023-09-24T12:22:31.293Z"
   },
   {
    "duration": 3,
    "start_time": "2023-09-24T12:22:32.426Z"
   },
   {
    "duration": 10,
    "start_time": "2023-09-24T12:22:32.841Z"
   },
   {
    "duration": 6,
    "start_time": "2023-09-24T12:22:35.585Z"
   },
   {
    "duration": 4,
    "start_time": "2023-09-24T12:22:37.693Z"
   },
   {
    "duration": 8,
    "start_time": "2023-09-24T12:22:38.289Z"
   },
   {
    "duration": 158,
    "start_time": "2023-09-24T12:22:39.972Z"
   },
   {
    "duration": 109,
    "start_time": "2023-09-24T12:23:14.113Z"
   },
   {
    "duration": 7,
    "start_time": "2023-09-24T12:23:19.706Z"
   },
   {
    "duration": 9,
    "start_time": "2023-09-24T12:23:25.780Z"
   },
   {
    "duration": 10,
    "start_time": "2023-09-24T12:24:16.781Z"
   },
   {
    "duration": 10,
    "start_time": "2023-09-24T12:24:47.594Z"
   },
   {
    "duration": 18,
    "start_time": "2023-09-24T12:25:24.748Z"
   },
   {
    "duration": 13,
    "start_time": "2023-09-24T12:25:31.237Z"
   },
   {
    "duration": 9,
    "start_time": "2023-09-24T12:25:43.901Z"
   },
   {
    "duration": 11,
    "start_time": "2023-09-24T12:26:12.411Z"
   },
   {
    "duration": 9,
    "start_time": "2023-09-24T12:28:26.952Z"
   },
   {
    "duration": 12,
    "start_time": "2023-09-24T12:31:23.513Z"
   },
   {
    "duration": 12,
    "start_time": "2023-09-24T12:31:37.828Z"
   },
   {
    "duration": 9,
    "start_time": "2023-09-24T12:31:42.769Z"
   },
   {
    "duration": 27,
    "start_time": "2023-09-24T12:31:58.258Z"
   },
   {
    "duration": 11,
    "start_time": "2023-09-24T12:32:11.582Z"
   },
   {
    "duration": 8,
    "start_time": "2023-09-24T12:32:29.237Z"
   },
   {
    "duration": 10,
    "start_time": "2023-09-24T12:34:19.498Z"
   },
   {
    "duration": 9,
    "start_time": "2023-09-24T12:38:12.700Z"
   },
   {
    "duration": 8,
    "start_time": "2023-09-24T12:38:46.216Z"
   },
   {
    "duration": 10,
    "start_time": "2023-09-24T12:39:22.313Z"
   },
   {
    "duration": 3,
    "start_time": "2023-09-24T12:39:30.135Z"
   },
   {
    "duration": 3,
    "start_time": "2023-09-24T12:39:35.951Z"
   },
   {
    "duration": 98,
    "start_time": "2023-09-24T12:51:44.541Z"
   },
   {
    "duration": 124,
    "start_time": "2023-09-24T12:52:12.646Z"
   },
   {
    "duration": 7,
    "start_time": "2023-09-24T12:52:19.832Z"
   },
   {
    "duration": 10,
    "start_time": "2023-09-24T12:52:25.635Z"
   },
   {
    "duration": 11,
    "start_time": "2023-09-24T12:54:05.083Z"
   },
   {
    "duration": 13,
    "start_time": "2023-09-24T12:54:51.979Z"
   },
   {
    "duration": 3,
    "start_time": "2023-09-24T13:00:56.466Z"
   },
   {
    "duration": 660,
    "start_time": "2023-09-24T13:02:48.240Z"
   },
   {
    "duration": 2,
    "start_time": "2023-09-24T13:03:02.140Z"
   },
   {
    "duration": 71,
    "start_time": "2023-09-24T13:03:17.188Z"
   },
   {
    "duration": 15,
    "start_time": "2023-09-24T13:03:17.502Z"
   },
   {
    "duration": 16,
    "start_time": "2023-09-24T13:03:17.826Z"
   },
   {
    "duration": 11,
    "start_time": "2023-09-24T13:03:18.461Z"
   },
   {
    "duration": 32,
    "start_time": "2023-09-24T13:03:18.787Z"
   },
   {
    "duration": 3,
    "start_time": "2023-09-24T13:03:19.318Z"
   },
   {
    "duration": 7,
    "start_time": "2023-09-24T13:03:19.668Z"
   },
   {
    "duration": 5,
    "start_time": "2023-09-24T13:03:20.182Z"
   },
   {
    "duration": 7,
    "start_time": "2023-09-24T13:03:20.539Z"
   },
   {
    "duration": 5,
    "start_time": "2023-09-24T13:03:20.916Z"
   },
   {
    "duration": 32,
    "start_time": "2023-09-24T13:03:21.449Z"
   },
   {
    "duration": 15,
    "start_time": "2023-09-24T13:03:21.807Z"
   },
   {
    "duration": 3,
    "start_time": "2023-09-24T13:03:22.533Z"
   },
   {
    "duration": 17,
    "start_time": "2023-09-24T13:03:23.096Z"
   },
   {
    "duration": 29,
    "start_time": "2023-09-24T13:03:23.465Z"
   },
   {
    "duration": 24,
    "start_time": "2023-09-24T13:03:23.654Z"
   },
   {
    "duration": 5,
    "start_time": "2023-09-24T13:03:24.174Z"
   },
   {
    "duration": 10,
    "start_time": "2023-09-24T13:03:24.364Z"
   },
   {
    "duration": 5,
    "start_time": "2023-09-24T13:03:24.829Z"
   },
   {
    "duration": 3,
    "start_time": "2023-09-24T13:03:25.219Z"
   },
   {
    "duration": 8,
    "start_time": "2023-09-24T13:03:25.386Z"
   },
   {
    "duration": 3,
    "start_time": "2023-09-24T13:03:26.089Z"
   },
   {
    "duration": 625,
    "start_time": "2023-09-24T13:03:26.676Z"
   },
   {
    "duration": 23,
    "start_time": "2023-09-24T13:03:57.012Z"
   },
   {
    "duration": 7,
    "start_time": "2023-09-24T13:05:32.170Z"
   },
   {
    "duration": 7,
    "start_time": "2023-09-24T13:05:35.437Z"
   },
   {
    "duration": 12,
    "start_time": "2023-09-24T13:05:45.351Z"
   },
   {
    "duration": 7,
    "start_time": "2023-09-24T13:06:10.346Z"
   },
   {
    "duration": 9,
    "start_time": "2023-09-24T13:06:14.979Z"
   },
   {
    "duration": 8,
    "start_time": "2023-09-24T13:06:15.559Z"
   },
   {
    "duration": 7,
    "start_time": "2023-09-24T13:06:21.602Z"
   },
   {
    "duration": 8,
    "start_time": "2023-09-24T13:06:22.738Z"
   },
   {
    "duration": 8,
    "start_time": "2023-09-24T13:09:15.248Z"
   },
   {
    "duration": 9,
    "start_time": "2023-09-24T13:09:16.153Z"
   },
   {
    "duration": 1138,
    "start_time": "2023-09-24T13:09:37.499Z"
   },
   {
    "duration": 12,
    "start_time": "2023-09-24T13:09:52.978Z"
   },
   {
    "duration": 3,
    "start_time": "2023-09-24T13:13:25.153Z"
   },
   {
    "duration": 11,
    "start_time": "2023-09-24T13:13:43.150Z"
   },
   {
    "duration": 4,
    "start_time": "2023-09-24T13:15:24.492Z"
   },
   {
    "duration": 10,
    "start_time": "2023-09-24T13:15:25.075Z"
   },
   {
    "duration": 104,
    "start_time": "2023-09-24T13:17:49.916Z"
   },
   {
    "duration": 4,
    "start_time": "2023-09-24T13:18:02.797Z"
   },
   {
    "duration": 8,
    "start_time": "2023-09-24T13:18:14.659Z"
   },
   {
    "duration": 6,
    "start_time": "2023-09-24T13:20:18.544Z"
   },
   {
    "duration": 3,
    "start_time": "2023-09-24T13:20:28.442Z"
   },
   {
    "duration": 8,
    "start_time": "2023-09-24T13:20:33.305Z"
   },
   {
    "duration": 1120,
    "start_time": "2023-09-24T15:45:03.397Z"
   },
   {
    "duration": 30,
    "start_time": "2023-09-24T15:45:04.519Z"
   },
   {
    "duration": 15,
    "start_time": "2023-09-24T15:45:04.551Z"
   },
   {
    "duration": 11,
    "start_time": "2023-09-24T15:45:04.769Z"
   },
   {
    "duration": 35,
    "start_time": "2023-09-24T15:45:05.165Z"
   },
   {
    "duration": 5,
    "start_time": "2023-09-24T15:45:05.878Z"
   },
   {
    "duration": 9,
    "start_time": "2023-09-24T15:45:06.245Z"
   },
   {
    "duration": 5,
    "start_time": "2023-09-24T15:45:08.387Z"
   },
   {
    "duration": 8,
    "start_time": "2023-09-24T15:45:09.663Z"
   },
   {
    "duration": 15,
    "start_time": "2023-09-24T15:45:10.023Z"
   },
   {
    "duration": 35,
    "start_time": "2023-09-24T15:45:10.752Z"
   },
   {
    "duration": 11,
    "start_time": "2023-09-24T15:45:11.115Z"
   },
   {
    "duration": 4,
    "start_time": "2023-09-24T15:45:11.936Z"
   },
   {
    "duration": 16,
    "start_time": "2023-09-24T15:45:12.886Z"
   },
   {
    "duration": 36,
    "start_time": "2023-09-24T15:45:13.920Z"
   },
   {
    "duration": 20,
    "start_time": "2023-09-24T15:45:14.098Z"
   },
   {
    "duration": 3,
    "start_time": "2023-09-24T15:45:14.675Z"
   },
   {
    "duration": 11,
    "start_time": "2023-09-24T15:45:14.896Z"
   },
   {
    "duration": 8,
    "start_time": "2023-09-24T15:45:15.737Z"
   },
   {
    "duration": 4,
    "start_time": "2023-09-24T15:45:16.169Z"
   },
   {
    "duration": 10,
    "start_time": "2023-09-24T15:45:16.367Z"
   },
   {
    "duration": 10,
    "start_time": "2023-09-24T15:45:19.542Z"
   },
   {
    "duration": 6,
    "start_time": "2023-09-24T15:59:23.669Z"
   },
   {
    "duration": 6,
    "start_time": "2023-09-24T15:59:40.383Z"
   },
   {
    "duration": 8,
    "start_time": "2023-09-24T15:59:49.892Z"
   },
   {
    "duration": 4,
    "start_time": "2023-09-24T16:02:39.707Z"
   },
   {
    "duration": 6,
    "start_time": "2023-09-24T16:02:49.190Z"
   },
   {
    "duration": 10,
    "start_time": "2023-09-24T16:13:49.827Z"
   },
   {
    "duration": 10,
    "start_time": "2023-09-24T16:14:09.650Z"
   },
   {
    "duration": 11,
    "start_time": "2023-09-24T16:15:36.890Z"
   },
   {
    "duration": 10,
    "start_time": "2023-09-24T16:15:40.447Z"
   },
   {
    "duration": 5,
    "start_time": "2023-09-24T16:15:59.699Z"
   },
   {
    "duration": 5,
    "start_time": "2023-09-24T16:16:19.775Z"
   },
   {
    "duration": 16,
    "start_time": "2023-09-24T16:16:30.226Z"
   },
   {
    "duration": 5,
    "start_time": "2023-09-24T16:16:32.678Z"
   },
   {
    "duration": 4,
    "start_time": "2023-09-24T16:16:49.075Z"
   },
   {
    "duration": 9,
    "start_time": "2023-09-24T16:17:38.840Z"
   },
   {
    "duration": 5,
    "start_time": "2023-09-24T16:17:38.998Z"
   },
   {
    "duration": 5,
    "start_time": "2023-09-24T16:18:23.033Z"
   },
   {
    "duration": 4,
    "start_time": "2023-09-24T16:18:31.429Z"
   },
   {
    "duration": 6,
    "start_time": "2023-09-24T16:19:29.705Z"
   },
   {
    "duration": 6,
    "start_time": "2023-09-24T16:20:05.860Z"
   },
   {
    "duration": 22,
    "start_time": "2023-09-24T17:47:02.208Z"
   },
   {
    "duration": 11,
    "start_time": "2023-09-24T17:47:32.935Z"
   },
   {
    "duration": 28,
    "start_time": "2023-09-24T17:47:38.316Z"
   },
   {
    "duration": 5,
    "start_time": "2023-09-24T17:53:01.492Z"
   },
   {
    "duration": 13,
    "start_time": "2023-09-24T17:54:20.261Z"
   },
   {
    "duration": 10,
    "start_time": "2023-09-24T17:54:43.561Z"
   },
   {
    "duration": 3,
    "start_time": "2023-09-24T17:59:09.658Z"
   },
   {
    "duration": 28,
    "start_time": "2023-09-24T17:59:10.180Z"
   },
   {
    "duration": 6,
    "start_time": "2023-09-24T17:59:11.345Z"
   },
   {
    "duration": 3,
    "start_time": "2023-09-24T17:59:12.493Z"
   },
   {
    "duration": 8,
    "start_time": "2023-09-24T17:59:13.060Z"
   },
   {
    "duration": 9,
    "start_time": "2023-09-24T17:59:15.301Z"
   },
   {
    "duration": 5,
    "start_time": "2023-09-24T17:59:15.815Z"
   },
   {
    "duration": 11,
    "start_time": "2023-09-24T17:59:16.391Z"
   },
   {
    "duration": 9,
    "start_time": "2023-09-24T17:59:18.628Z"
   },
   {
    "duration": 4,
    "start_time": "2023-09-24T17:59:19.242Z"
   },
   {
    "duration": 12,
    "start_time": "2023-09-24T17:59:21.151Z"
   },
   {
    "duration": 9,
    "start_time": "2023-09-24T18:15:45.017Z"
   },
   {
    "duration": 16,
    "start_time": "2023-09-24T18:16:09.484Z"
   },
   {
    "duration": 15,
    "start_time": "2023-09-24T18:25:26.210Z"
   },
   {
    "duration": 13,
    "start_time": "2023-09-24T18:27:06.386Z"
   },
   {
    "duration": 9,
    "start_time": "2023-09-24T18:27:07.545Z"
   },
   {
    "duration": 14,
    "start_time": "2023-09-24T18:28:32.941Z"
   },
   {
    "duration": 11,
    "start_time": "2023-09-24T18:28:34.006Z"
   },
   {
    "duration": 113,
    "start_time": "2023-09-24T18:29:04.891Z"
   },
   {
    "duration": 18,
    "start_time": "2023-09-24T18:29:32.819Z"
   },
   {
    "duration": 8,
    "start_time": "2023-09-24T18:29:40.052Z"
   },
   {
    "duration": 15,
    "start_time": "2023-09-24T18:31:07.042Z"
   },
   {
    "duration": 23,
    "start_time": "2023-09-24T18:32:48.012Z"
   },
   {
    "duration": 24,
    "start_time": "2023-09-24T18:33:17.411Z"
   },
   {
    "duration": 16,
    "start_time": "2023-09-24T18:34:39.878Z"
   },
   {
    "duration": 720,
    "start_time": "2023-09-25T21:33:37.083Z"
   },
   {
    "duration": 23,
    "start_time": "2023-09-25T21:33:37.804Z"
   },
   {
    "duration": 15,
    "start_time": "2023-09-25T21:33:37.829Z"
   },
   {
    "duration": 27,
    "start_time": "2023-09-25T21:33:37.846Z"
   },
   {
    "duration": 52,
    "start_time": "2023-09-25T21:33:37.875Z"
   },
   {
    "duration": 3,
    "start_time": "2023-09-25T21:33:37.929Z"
   },
   {
    "duration": 34,
    "start_time": "2023-09-25T21:33:37.934Z"
   },
   {
    "duration": 8,
    "start_time": "2023-09-25T21:33:37.970Z"
   },
   {
    "duration": 8,
    "start_time": "2023-09-25T21:33:37.980Z"
   },
   {
    "duration": 8,
    "start_time": "2023-09-25T21:33:37.990Z"
   },
   {
    "duration": 52,
    "start_time": "2023-09-25T21:33:38.001Z"
   },
   {
    "duration": 13,
    "start_time": "2023-09-25T21:33:38.055Z"
   },
   {
    "duration": 23,
    "start_time": "2023-09-25T21:33:38.070Z"
   },
   {
    "duration": 27,
    "start_time": "2023-09-25T21:33:38.097Z"
   },
   {
    "duration": 43,
    "start_time": "2023-09-25T21:33:38.125Z"
   },
   {
    "duration": 25,
    "start_time": "2023-09-25T21:33:38.170Z"
   },
   {
    "duration": 5,
    "start_time": "2023-09-25T21:33:38.197Z"
   },
   {
    "duration": 33,
    "start_time": "2023-09-25T21:33:38.204Z"
   },
   {
    "duration": 13,
    "start_time": "2023-09-25T21:33:38.239Z"
   },
   {
    "duration": 17,
    "start_time": "2023-09-25T21:33:38.253Z"
   },
   {
    "duration": 44,
    "start_time": "2023-09-25T21:33:38.272Z"
   },
   {
    "duration": 27,
    "start_time": "2023-09-25T21:33:38.318Z"
   },
   {
    "duration": 20,
    "start_time": "2023-09-25T21:33:38.347Z"
   },
   {
    "duration": 35,
    "start_time": "2023-09-25T21:33:38.369Z"
   },
   {
    "duration": 33,
    "start_time": "2023-09-25T21:33:38.406Z"
   },
   {
    "duration": 41,
    "start_time": "2023-09-25T21:33:38.441Z"
   },
   {
    "duration": 33,
    "start_time": "2023-09-25T21:33:38.484Z"
   },
   {
    "duration": 770,
    "start_time": "2023-09-26T20:34:53.529Z"
   },
   {
    "duration": 30,
    "start_time": "2023-09-26T20:34:54.301Z"
   },
   {
    "duration": 26,
    "start_time": "2023-09-26T20:34:54.332Z"
   },
   {
    "duration": 29,
    "start_time": "2023-09-26T20:34:54.361Z"
   },
   {
    "duration": 66,
    "start_time": "2023-09-26T20:34:54.393Z"
   },
   {
    "duration": 3,
    "start_time": "2023-09-26T20:34:54.461Z"
   },
   {
    "duration": 68,
    "start_time": "2023-09-26T20:34:54.466Z"
   },
   {
    "duration": 26,
    "start_time": "2023-09-26T20:34:54.536Z"
   },
   {
    "duration": 28,
    "start_time": "2023-09-26T20:34:54.564Z"
   },
   {
    "duration": 6,
    "start_time": "2023-09-26T20:34:54.596Z"
   },
   {
    "duration": 58,
    "start_time": "2023-09-26T20:34:54.603Z"
   },
   {
    "duration": 11,
    "start_time": "2023-09-26T20:34:54.663Z"
   },
   {
    "duration": 24,
    "start_time": "2023-09-26T20:34:54.676Z"
   },
   {
    "duration": 34,
    "start_time": "2023-09-26T20:34:54.701Z"
   },
   {
    "duration": 26,
    "start_time": "2023-09-26T20:34:54.737Z"
   },
   {
    "duration": 50,
    "start_time": "2023-09-26T20:34:54.765Z"
   },
   {
    "duration": 5,
    "start_time": "2023-09-26T20:34:54.823Z"
   },
   {
    "duration": 37,
    "start_time": "2023-09-26T20:34:54.829Z"
   },
   {
    "duration": 8,
    "start_time": "2023-09-26T20:34:54.867Z"
   },
   {
    "duration": 46,
    "start_time": "2023-09-26T20:34:54.877Z"
   },
   {
    "duration": 57,
    "start_time": "2023-09-26T20:34:54.925Z"
   },
   {
    "duration": 14,
    "start_time": "2023-09-26T20:34:54.984Z"
   },
   {
    "duration": 26,
    "start_time": "2023-09-26T20:34:55.000Z"
   },
   {
    "duration": 19,
    "start_time": "2023-09-26T20:34:55.028Z"
   },
   {
    "duration": 49,
    "start_time": "2023-09-26T20:34:55.049Z"
   },
   {
    "duration": 34,
    "start_time": "2023-09-26T20:34:55.100Z"
   },
   {
    "duration": 21,
    "start_time": "2023-09-26T20:34:55.136Z"
   },
   {
    "duration": 370,
    "start_time": "2023-09-26T20:46:03.350Z"
   },
   {
    "duration": 536,
    "start_time": "2023-10-01T23:05:50.700Z"
   },
   {
    "duration": 21,
    "start_time": "2023-10-01T23:05:51.240Z"
   },
   {
    "duration": 20,
    "start_time": "2023-10-01T23:05:51.262Z"
   },
   {
    "duration": 28,
    "start_time": "2023-10-01T23:05:51.283Z"
   },
   {
    "duration": 57,
    "start_time": "2023-10-01T23:05:51.316Z"
   },
   {
    "duration": 3,
    "start_time": "2023-10-01T23:05:51.375Z"
   },
   {
    "duration": 12,
    "start_time": "2023-10-01T23:05:51.380Z"
   },
   {
    "duration": 9,
    "start_time": "2023-10-01T23:05:51.393Z"
   },
   {
    "duration": 19,
    "start_time": "2023-10-01T23:05:51.404Z"
   },
   {
    "duration": 15,
    "start_time": "2023-10-01T23:05:51.425Z"
   },
   {
    "duration": 45,
    "start_time": "2023-10-01T23:05:51.442Z"
   },
   {
    "duration": 10,
    "start_time": "2023-10-01T23:05:51.489Z"
   },
   {
    "duration": 9,
    "start_time": "2023-10-01T23:05:51.501Z"
   },
   {
    "duration": 25,
    "start_time": "2023-10-01T23:05:51.514Z"
   },
   {
    "duration": 20,
    "start_time": "2023-10-01T23:05:51.541Z"
   },
   {
    "duration": 16,
    "start_time": "2023-10-01T23:05:51.562Z"
   },
   {
    "duration": 36,
    "start_time": "2023-10-01T23:05:51.602Z"
   },
   {
    "duration": 6,
    "start_time": "2023-10-01T23:05:51.640Z"
   },
   {
    "duration": 11,
    "start_time": "2023-10-01T23:05:51.647Z"
   },
   {
    "duration": 21,
    "start_time": "2023-10-01T23:05:51.659Z"
   },
   {
    "duration": 38,
    "start_time": "2023-10-01T23:05:51.682Z"
   },
   {
    "duration": 5,
    "start_time": "2023-10-01T23:05:51.722Z"
   },
   {
    "duration": 24,
    "start_time": "2023-10-01T23:05:51.728Z"
   },
   {
    "duration": 370,
    "start_time": "2023-10-01T23:05:51.753Z"
   },
   {
    "duration": 14,
    "start_time": "2023-10-01T23:05:52.124Z"
   },
   {
    "duration": 27,
    "start_time": "2023-10-01T23:05:52.140Z"
   },
   {
    "duration": 53,
    "start_time": "2023-10-01T23:05:52.169Z"
   },
   {
    "duration": 490,
    "start_time": "2023-10-01T23:06:10.561Z"
   },
   {
    "duration": 24,
    "start_time": "2023-10-01T23:06:11.053Z"
   },
   {
    "duration": 39,
    "start_time": "2023-10-01T23:06:11.082Z"
   },
   {
    "duration": 28,
    "start_time": "2023-10-01T23:06:11.123Z"
   },
   {
    "duration": 40,
    "start_time": "2023-10-01T23:06:11.152Z"
   },
   {
    "duration": 4,
    "start_time": "2023-10-01T23:06:11.193Z"
   },
   {
    "duration": 45,
    "start_time": "2023-10-01T23:06:11.198Z"
   },
   {
    "duration": 75,
    "start_time": "2023-10-01T23:06:11.245Z"
   },
   {
    "duration": 30,
    "start_time": "2023-10-01T23:06:11.325Z"
   },
   {
    "duration": 9,
    "start_time": "2023-10-01T23:06:11.357Z"
   },
   {
    "duration": 44,
    "start_time": "2023-10-01T23:06:11.368Z"
   },
   {
    "duration": 12,
    "start_time": "2023-10-01T23:06:11.414Z"
   },
   {
    "duration": 36,
    "start_time": "2023-10-01T23:06:11.428Z"
   },
   {
    "duration": 39,
    "start_time": "2023-10-01T23:06:11.466Z"
   },
   {
    "duration": 56,
    "start_time": "2023-10-01T23:06:11.506Z"
   },
   {
    "duration": 20,
    "start_time": "2023-10-01T23:06:11.564Z"
   },
   {
    "duration": 6,
    "start_time": "2023-10-01T23:06:11.586Z"
   },
   {
    "duration": 35,
    "start_time": "2023-10-01T23:06:11.593Z"
   },
   {
    "duration": 7,
    "start_time": "2023-10-01T23:06:11.630Z"
   },
   {
    "duration": 19,
    "start_time": "2023-10-01T23:06:11.639Z"
   },
   {
    "duration": 21,
    "start_time": "2023-10-01T23:06:11.660Z"
   },
   {
    "duration": 23,
    "start_time": "2023-10-01T23:06:11.683Z"
   },
   {
    "duration": 16,
    "start_time": "2023-10-01T23:06:11.708Z"
   },
   {
    "duration": 27,
    "start_time": "2023-10-01T23:06:11.725Z"
   },
   {
    "duration": 368,
    "start_time": "2023-10-01T23:06:11.753Z"
   },
   {
    "duration": 14,
    "start_time": "2023-10-01T23:06:12.123Z"
   },
   {
    "duration": 14,
    "start_time": "2023-10-01T23:06:12.140Z"
   },
   {
    "duration": 27,
    "start_time": "2023-10-01T23:06:12.155Z"
   },
   {
    "duration": 255,
    "start_time": "2023-10-01T23:07:22.800Z"
   }
  ],
  "colab": {
   "provenance": []
  },
  "kernelspec": {
   "display_name": "Python 3 (ipykernel)",
   "language": "python",
   "name": "python3"
  },
  "language_info": {
   "codemirror_mode": {
    "name": "ipython",
    "version": 3
   },
   "file_extension": ".py",
   "mimetype": "text/x-python",
   "name": "python",
   "nbconvert_exporter": "python",
   "pygments_lexer": "ipython3",
   "version": "3.9.5"
  },
  "toc": {
   "base_numbering": 1,
   "nav_menu": {},
   "number_sections": true,
   "sideBar": true,
   "skip_h1_title": true,
   "title_cell": "Table of Contents",
   "title_sidebar": "Contents",
   "toc_cell": false,
   "toc_position": {},
   "toc_section_display": true,
   "toc_window_display": true
  }
 },
 "nbformat": 4,
 "nbformat_minor": 5
}
