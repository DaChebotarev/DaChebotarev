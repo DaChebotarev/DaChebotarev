{
 "cells": [
  {
   "cell_type": "markdown",
   "id": "bb0ae116",
   "metadata": {},
   "source": [
    "<div class=\"alert alert-success\">\n",
    "<font size=\"5\", color= \"seagreen\"><b>✔️ Комментарий ревьюера в3</b></font>\n",
    "    <br /> \n",
    "    <font size=\"3\", color = \"black\">\n",
    "<br />  Привет, Мария :)\n",
    "        \n",
    "Спасибо за все исправления и комментарии\n",
    "        \n",
    "Основные навыки, тестируемые на проекте:\n",
    "        \n",
    " + внимательное чтение технического задания проекта \n",
    " + объединение разных таблиц в единый датасет, — на рабочих проектах стоит уделить особое внимание на способы объединения (left или inner, можно кого-нить забыть, значение параметра how по умолчанию), на пропуски и возможные дубликаты\n",
    " + формирование, чтение и сравнение показателей на графике двух выборок, \n",
    " + формирование выводов о данных по статистическим показателям,\n",
    " + <b>формулирование и проверку односторонних и двусторонних гипотез, интерпретацию значения p-value - можно повторить недели через две </b>(для профилактики :) )\n",
    " + формирование рекомендаций для бизнеса \n",
    "        \n",
    "        \n",
    "<b>Поздравляю со сданным проектом на факультете дата-аналитики Я.Практикум</b>\n",
    "\n",
    "<div class=\"alert alert-success\">\n",
    "    <font size=\"5\", color= \"seagreen\"><b>Успехов в дальнейшей учебе 🤝</b></font><br />\n",
    "    \n",
    "\n",
    "    \n",
    "добавил бонус    "
   ]
  },
  {
   "cell_type": "markdown",
   "id": "79151fc1",
   "metadata": {},
   "source": [
    "<div class=\"alert alert-success\">\n",
    "<font size=\"5\", color= \"seagreen\"><b>✔️ Комментарий ревьюера в2</b></font>\n",
    "    <br /> \n",
    "    <font size=\"3\", color = \"black\">\n",
    "<br /> Привет, Мария :) Спасибо за доработки\n",
    "        \n",
    "Критические ❌ комментарии: \n",
    " \n",
    " + поправить график       \n",
    " + в разделе проверки гипотез поправить формулировки\n",
    " + добавить рекомендацию в итоговый вывод\n",
    " \n",
    "подсказки добавил        "
   ]
  },
  {
   "cell_type": "markdown",
   "id": "86ee12c5",
   "metadata": {},
   "source": [
    "<div class=\"alert alert-success\">\n",
    "<font size=\"4\"><b>Комментарий ревьюера</b></font>\n",
    "    <br /> \n",
    "    <font size=\"3\", color = \"black\">\n",
    "<br />\n",
    "    Привет, Мария :) Спасибо, что прислала задание 🤝 Меня зовут Ринат Хисамов и я буду проверять твой проект. Предлагаю обращаться друг к другу на ты. Так нам будет гораздо проще и удобней общаться\n",
    "\n",
    "Мои комментарии обозначены пометкой <b>Комментарий ревьюера</b>. Далее в файле сможешь найти их в похожих ячейках (если фон комментария зелёный — всё сделано правильно (✔️), рекомендации таким же цветом. Отдельным цветом — блок ссылок (примеры ниже, 🍕). Оранжевым или светло желтым рекомендации, которые, хоть и не обязательны, но точно сделают ревью лучше. (⚠️); <u> красный комментарий</u>: код, график или вывод стоит переделать (❌)). \n",
    "\n",
    "Не удаляй все эти комментарии и постарайся учесть их в ходе выполнения данного проекта. \n",
    "Будет замечательно, если добавишь свои комментарии и пояснения✍\n",
    "        \n",
    "Поехали 🚀\n",
    "    <br />\n",
    "    </font>\n",
    "\n",
    "</div>"
   ]
  },
  {
   "cell_type": "markdown",
   "id": "512f0146",
   "metadata": {},
   "source": [
    "<div style=\"border:solid steelblue 1px; padding: 20px\">\n",
    "    \n",
    "<font size=\"4\"><p style=\"text-align:center\"><b>Примеры комментариев </b></p></font>\n",
    "    \n",
    "<div style=\"border:solid steelblue 3px; padding: 20px\">\n",
    "<font size=\"4\"><b>🍕 Пример комментария - совета, здесь м.б. просто ссылка</b></font>\n",
    "    <br /> \n",
    "        <font size=\"3\", color = \"black\">\n",
    "<br />\n",
    "    Тут всего такого разного и вкусного :), есть способы прокачать проект визуализациями (ценит большинство \"боссов\")  <br /><br />\n",
    "        <a href=\"https://devpractice.ru/matplotlib-book/\">“Библиотека Matplotlib” доступна для скачивания БЕСПЛАТНО!</a>\n",
    "        На сайте много полезных материалов, мне самому очень помогло в свое время, до сих пор подсматриваю :)\n",
    "\n",
    "\n",
    "</div>\n",
    "    \n",
    "<div class=\"alert alert-warning\", style=\"border:solid coral 3px; padding: 20px\">\n",
    "    <font size=\"3\"><b>⚠️ Пример оформления некритичного комментария</b>\n",
    "    <br /> \n",
    "    <font size=\"2\", color = \"black\">\n",
    "<br />\n",
    "    Рекомендации, которые, хоть и не обязательны, но точно сделают ревью лучше\n",
    "    <br />\n",
    "    </font>\n",
    "\n",
    "</div>\n",
    "    \n",
    "<div class=\"alert alert-danger\">\n",
    "<font size=\"3\"><b>❌ Пример оформления комментария к блоку(строке) программного кода (или выводу), который стоит переделать</b></font>\n",
    "    <br /> \n",
    "    <font size=\"2\", color = \"black\">\n",
    "<br />\n",
    "    Отправлен не тот проект, напиши в своих комментариях, что случилось? жду — <b>это пример</b>\n",
    "    <br />\n",
    "    </font>\n",
    "\n",
    "</div>\n",
    "    \n",
    "<div class=\"alert alert-success\">\n",
    "<font size=\"4\"><b>✔️ Пример оформления комментария, который нравится большинству студентов</b></font>\n",
    "    <br /> \n",
    "    <font size=\"3\", color = \"black\">\n",
    "<br />\n",
    "    Круто, молодец, отлично, логично, или — 👌, 👍, или — выводы отвечают на все вопросы к данным и проекту\n",
    "    <br />\n",
    "    </font>\n",
    "\n",
    "</div>"
   ]
  },
  {
   "cell_type": "markdown",
   "id": "bdb95c9f",
   "metadata": {},
   "source": [
    "# Для твоих вопросов или комментариев оставлю такую ячейку, чтобы было удобнее взаимодействовать на проекте"
   ]
  },
  {
   "cell_type": "markdown",
   "id": "3db7b79b",
   "metadata": {},
   "source": [
    "<div class=\"alert alert-info\">\n",
    "<font size=\"4\", color = \"black\"><b>✍ Комментарий студента</b></font>\n",
    "    <br /> \n",
    "    <font size=\"3\", color = \"black\">\n",
    "<br /> ... , вот мой вопрос ...\n",
    "        \n",
    "        "
   ]
  },
  {
   "cell_type": "code",
   "execution_count": null,
   "id": "f7643d26",
   "metadata": {},
   "outputs": [],
   "source": []
  },
  {
   "cell_type": "code",
   "execution_count": null,
   "id": "de6e3105",
   "metadata": {},
   "outputs": [],
   "source": []
  },
  {
   "cell_type": "markdown",
   "id": "e879cf66",
   "metadata": {},
   "source": [
    "<div class=\"alert alert-dang er\">\n",
    "<font size=\"4\"><b>❌ Комментарий ревьюера</b></font>\n",
    "    <br /> \n",
    "    <font size=\"3\", color = \"black\">\n",
    "<br />\n",
    "Название придаст вес проекту\n",
    "        \n",
    "а подробности выполнения проекта дадут возможность вспомнить через полгода — что мы тут делали "
   ]
  },
  {
   "cell_type": "markdown",
   "id": "df7c123d",
   "metadata": {},
   "source": [
    "<div class=\"alert alert-info\">\n",
    "<b>Комментарий студента:</b>\n",
    "<br> исправлено)\n",
    "</div>"
   ]
  },
  {
   "cell_type": "markdown",
   "id": "426e5a6f",
   "metadata": {},
   "source": [
    "**Анализ сервиса аренды самокатов GoFast**"
   ]
  },
  {
   "cell_type": "markdown",
   "id": "ea745dde",
   "metadata": {},
   "source": [
    "**План работы:**\n",
    "\n",
    " - Загрузка и предпросмотр данных\n",
    " - Оценка общей информации данных\n",
    " - Предобработка данных\n",
    " - Проведение исследовательского анализа данных\n",
    " - Объединение данных и подсчёт выручки\n",
    " - Проверка гипотез\n",
    " - Общий вывод"
   ]
  },
  {
   "cell_type": "markdown",
   "id": "1794d60b",
   "metadata": {},
   "source": [
    "<div class=\"alert alert-warning\", style=\"border:solid coral 3px; padding: 20px\">\n",
    "<font size=\"4\", color = \"DimGrey\"><b>⚠️ Комментарий ревьюера в2</b></font>\n",
    "    <br /> \n",
    "    <font size=\"3\", color = \"black\">\n",
    "<br /> Стоит добавить подробностей, без которых тяжело будет вспомнить через полгода суть проекта (без отдельного брифа проекта)"
   ]
  },
  {
   "cell_type": "code",
   "execution_count": 1,
   "id": "72576667",
   "metadata": {},
   "outputs": [],
   "source": [
    "import pandas as pd\n",
    "from scipy import stats as st\n",
    "import matplotlib.pyplot as plt\n",
    "import seaborn as sns\n",
    "import numpy as np"
   ]
  },
  {
   "cell_type": "markdown",
   "id": "c42cbe00",
   "metadata": {},
   "source": [
    "#### Шаг 1. Загрузка данных"
   ]
  },
  {
   "cell_type": "code",
   "execution_count": 2,
   "id": "eff9f206",
   "metadata": {},
   "outputs": [],
   "source": [
    "data_1 = pd.read_csv('/datasets/users_go.csv')\n",
    "data_2 = pd.read_csv('/datasets/rides_go.csv', parse_dates=['date'])\n",
    "data_3 = pd.read_csv('/datasets/subscriptions_go.csv')"
   ]
  },
  {
   "cell_type": "markdown",
   "id": "f8548849",
   "metadata": {},
   "source": [
    "<div class=\"alert alert-warning\", style=\"border:solid coral 3px; padding: 20px\">\n",
    "<font size=\"4\"><b>⚠️ Комментарий ревьюера</b></font>\n",
    "    <br /> \n",
    "    <font size=\"3\", color = \"black\">\n",
    "<br />\n",
    "        \n",
    "Если при загрузке данных добавить параметр `parse_dates: parse_dates=['date']` то тип данных автоматически переведется в даты. Подробнее про это можно прочитать по ссылке ниже\n",
    "\n",
    "https://newtechaudit.ru/gruzi-daty-krasivo/"
   ]
  },
  {
   "cell_type": "markdown",
   "id": "0ad2e959",
   "metadata": {},
   "source": [
    "<div class=\"alert alert-info\">\n",
    "<b>Комментарий студента:</b>\n",
    "<br> о, это очень крутая подсказка, спасибо))\n",
    "</div>"
   ]
  },
  {
   "cell_type": "code",
   "execution_count": 3,
   "id": "49b63172",
   "metadata": {},
   "outputs": [
    {
     "name": "stdout",
     "output_type": "stream",
     "text": [
      "<class 'pandas.core.frame.DataFrame'>\n",
      "RangeIndex: 1565 entries, 0 to 1564\n",
      "Data columns (total 5 columns):\n",
      " #   Column             Non-Null Count  Dtype \n",
      "---  ------             --------------  ----- \n",
      " 0   user_id            1565 non-null   int64 \n",
      " 1   name               1565 non-null   object\n",
      " 2   age                1565 non-null   int64 \n",
      " 3   city               1565 non-null   object\n",
      " 4   subscription_type  1565 non-null   object\n",
      "dtypes: int64(2), object(3)\n",
      "memory usage: 61.3+ KB\n"
     ]
    },
    {
     "data": {
      "text/html": [
       "<div>\n",
       "<style scoped>\n",
       "    .dataframe tbody tr th:only-of-type {\n",
       "        vertical-align: middle;\n",
       "    }\n",
       "\n",
       "    .dataframe tbody tr th {\n",
       "        vertical-align: top;\n",
       "    }\n",
       "\n",
       "    .dataframe thead th {\n",
       "        text-align: right;\n",
       "    }\n",
       "</style>\n",
       "<table border=\"1\" class=\"dataframe\">\n",
       "  <thead>\n",
       "    <tr style=\"text-align: right;\">\n",
       "      <th></th>\n",
       "      <th>user_id</th>\n",
       "      <th>name</th>\n",
       "      <th>age</th>\n",
       "      <th>city</th>\n",
       "      <th>subscription_type</th>\n",
       "    </tr>\n",
       "  </thead>\n",
       "  <tbody>\n",
       "    <tr>\n",
       "      <th>0</th>\n",
       "      <td>1</td>\n",
       "      <td>Кира</td>\n",
       "      <td>22</td>\n",
       "      <td>Тюмень</td>\n",
       "      <td>ultra</td>\n",
       "    </tr>\n",
       "    <tr>\n",
       "      <th>1</th>\n",
       "      <td>2</td>\n",
       "      <td>Станислав</td>\n",
       "      <td>31</td>\n",
       "      <td>Омск</td>\n",
       "      <td>ultra</td>\n",
       "    </tr>\n",
       "    <tr>\n",
       "      <th>2</th>\n",
       "      <td>3</td>\n",
       "      <td>Алексей</td>\n",
       "      <td>20</td>\n",
       "      <td>Москва</td>\n",
       "      <td>ultra</td>\n",
       "    </tr>\n",
       "    <tr>\n",
       "      <th>3</th>\n",
       "      <td>4</td>\n",
       "      <td>Константин</td>\n",
       "      <td>26</td>\n",
       "      <td>Ростов-на-Дону</td>\n",
       "      <td>ultra</td>\n",
       "    </tr>\n",
       "    <tr>\n",
       "      <th>4</th>\n",
       "      <td>5</td>\n",
       "      <td>Адель</td>\n",
       "      <td>28</td>\n",
       "      <td>Омск</td>\n",
       "      <td>ultra</td>\n",
       "    </tr>\n",
       "    <tr>\n",
       "      <th>...</th>\n",
       "      <td>...</td>\n",
       "      <td>...</td>\n",
       "      <td>...</td>\n",
       "      <td>...</td>\n",
       "      <td>...</td>\n",
       "    </tr>\n",
       "    <tr>\n",
       "      <th>1560</th>\n",
       "      <td>829</td>\n",
       "      <td>Федор</td>\n",
       "      <td>29</td>\n",
       "      <td>Пятигорск</td>\n",
       "      <td>free</td>\n",
       "    </tr>\n",
       "    <tr>\n",
       "      <th>1561</th>\n",
       "      <td>809</td>\n",
       "      <td>Юрий</td>\n",
       "      <td>26</td>\n",
       "      <td>Сочи</td>\n",
       "      <td>free</td>\n",
       "    </tr>\n",
       "    <tr>\n",
       "      <th>1562</th>\n",
       "      <td>307</td>\n",
       "      <td>Ясмина</td>\n",
       "      <td>19</td>\n",
       "      <td>Краснодар</td>\n",
       "      <td>ultra</td>\n",
       "    </tr>\n",
       "    <tr>\n",
       "      <th>1563</th>\n",
       "      <td>47</td>\n",
       "      <td>Юрий</td>\n",
       "      <td>28</td>\n",
       "      <td>Тюмень</td>\n",
       "      <td>ultra</td>\n",
       "    </tr>\n",
       "    <tr>\n",
       "      <th>1564</th>\n",
       "      <td>1045</td>\n",
       "      <td>Артемий</td>\n",
       "      <td>28</td>\n",
       "      <td>Ростов-на-Дону</td>\n",
       "      <td>free</td>\n",
       "    </tr>\n",
       "  </tbody>\n",
       "</table>\n",
       "<p>1565 rows × 5 columns</p>\n",
       "</div>"
      ],
      "text/plain": [
       "      user_id        name  age            city subscription_type\n",
       "0           1        Кира   22          Тюмень             ultra\n",
       "1           2   Станислав   31            Омск             ultra\n",
       "2           3     Алексей   20          Москва             ultra\n",
       "3           4  Константин   26  Ростов-на-Дону             ultra\n",
       "4           5       Адель   28            Омск             ultra\n",
       "...       ...         ...  ...             ...               ...\n",
       "1560      829       Федор   29       Пятигорск              free\n",
       "1561      809        Юрий   26            Сочи              free\n",
       "1562      307      Ясмина   19       Краснодар             ultra\n",
       "1563       47        Юрий   28          Тюмень             ultra\n",
       "1564     1045     Артемий   28  Ростов-на-Дону              free\n",
       "\n",
       "[1565 rows x 5 columns]"
      ]
     },
     "execution_count": 3,
     "metadata": {},
     "output_type": "execute_result"
    }
   ],
   "source": [
    "data_1.info()\n",
    "data_1"
   ]
  },
  {
   "cell_type": "markdown",
   "id": "37ecfa6f",
   "metadata": {},
   "source": [
    "В датафрейме отсутствуют пропущенные значения, Типы данных соответсвуют содержанию."
   ]
  },
  {
   "cell_type": "code",
   "execution_count": 4,
   "id": "c422c6fd",
   "metadata": {},
   "outputs": [
    {
     "name": "stdout",
     "output_type": "stream",
     "text": [
      "<class 'pandas.core.frame.DataFrame'>\n",
      "RangeIndex: 18068 entries, 0 to 18067\n",
      "Data columns (total 4 columns):\n",
      " #   Column    Non-Null Count  Dtype         \n",
      "---  ------    --------------  -----         \n",
      " 0   user_id   18068 non-null  int64         \n",
      " 1   distance  18068 non-null  float64       \n",
      " 2   duration  18068 non-null  float64       \n",
      " 3   date      18068 non-null  datetime64[ns]\n",
      "dtypes: datetime64[ns](1), float64(2), int64(1)\n",
      "memory usage: 564.8 KB\n"
     ]
    },
    {
     "data": {
      "text/html": [
       "<div>\n",
       "<style scoped>\n",
       "    .dataframe tbody tr th:only-of-type {\n",
       "        vertical-align: middle;\n",
       "    }\n",
       "\n",
       "    .dataframe tbody tr th {\n",
       "        vertical-align: top;\n",
       "    }\n",
       "\n",
       "    .dataframe thead th {\n",
       "        text-align: right;\n",
       "    }\n",
       "</style>\n",
       "<table border=\"1\" class=\"dataframe\">\n",
       "  <thead>\n",
       "    <tr style=\"text-align: right;\">\n",
       "      <th></th>\n",
       "      <th>user_id</th>\n",
       "      <th>distance</th>\n",
       "      <th>duration</th>\n",
       "      <th>date</th>\n",
       "    </tr>\n",
       "  </thead>\n",
       "  <tbody>\n",
       "    <tr>\n",
       "      <th>0</th>\n",
       "      <td>1</td>\n",
       "      <td>4409.919140</td>\n",
       "      <td>25.599769</td>\n",
       "      <td>2021-01-01</td>\n",
       "    </tr>\n",
       "    <tr>\n",
       "      <th>1</th>\n",
       "      <td>1</td>\n",
       "      <td>2617.592153</td>\n",
       "      <td>15.816871</td>\n",
       "      <td>2021-01-18</td>\n",
       "    </tr>\n",
       "    <tr>\n",
       "      <th>2</th>\n",
       "      <td>1</td>\n",
       "      <td>754.159807</td>\n",
       "      <td>6.232113</td>\n",
       "      <td>2021-04-20</td>\n",
       "    </tr>\n",
       "    <tr>\n",
       "      <th>3</th>\n",
       "      <td>1</td>\n",
       "      <td>2694.783254</td>\n",
       "      <td>18.511000</td>\n",
       "      <td>2021-08-11</td>\n",
       "    </tr>\n",
       "    <tr>\n",
       "      <th>4</th>\n",
       "      <td>1</td>\n",
       "      <td>4028.687306</td>\n",
       "      <td>26.265803</td>\n",
       "      <td>2021-08-28</td>\n",
       "    </tr>\n",
       "    <tr>\n",
       "      <th>...</th>\n",
       "      <td>...</td>\n",
       "      <td>...</td>\n",
       "      <td>...</td>\n",
       "      <td>...</td>\n",
       "    </tr>\n",
       "    <tr>\n",
       "      <th>18063</th>\n",
       "      <td>1534</td>\n",
       "      <td>3781.098080</td>\n",
       "      <td>19.822962</td>\n",
       "      <td>2021-11-04</td>\n",
       "    </tr>\n",
       "    <tr>\n",
       "      <th>18064</th>\n",
       "      <td>1534</td>\n",
       "      <td>2840.423057</td>\n",
       "      <td>21.409799</td>\n",
       "      <td>2021-11-16</td>\n",
       "    </tr>\n",
       "    <tr>\n",
       "      <th>18065</th>\n",
       "      <td>1534</td>\n",
       "      <td>3826.185507</td>\n",
       "      <td>18.435051</td>\n",
       "      <td>2021-11-18</td>\n",
       "    </tr>\n",
       "    <tr>\n",
       "      <th>18066</th>\n",
       "      <td>1534</td>\n",
       "      <td>2902.308661</td>\n",
       "      <td>16.674362</td>\n",
       "      <td>2021-11-27</td>\n",
       "    </tr>\n",
       "    <tr>\n",
       "      <th>18067</th>\n",
       "      <td>1534</td>\n",
       "      <td>2371.711192</td>\n",
       "      <td>15.893917</td>\n",
       "      <td>2021-12-29</td>\n",
       "    </tr>\n",
       "  </tbody>\n",
       "</table>\n",
       "<p>18068 rows × 4 columns</p>\n",
       "</div>"
      ],
      "text/plain": [
       "       user_id     distance   duration       date\n",
       "0            1  4409.919140  25.599769 2021-01-01\n",
       "1            1  2617.592153  15.816871 2021-01-18\n",
       "2            1   754.159807   6.232113 2021-04-20\n",
       "3            1  2694.783254  18.511000 2021-08-11\n",
       "4            1  4028.687306  26.265803 2021-08-28\n",
       "...        ...          ...        ...        ...\n",
       "18063     1534  3781.098080  19.822962 2021-11-04\n",
       "18064     1534  2840.423057  21.409799 2021-11-16\n",
       "18065     1534  3826.185507  18.435051 2021-11-18\n",
       "18066     1534  2902.308661  16.674362 2021-11-27\n",
       "18067     1534  2371.711192  15.893917 2021-12-29\n",
       "\n",
       "[18068 rows x 4 columns]"
      ]
     },
     "execution_count": 4,
     "metadata": {},
     "output_type": "execute_result"
    }
   ],
   "source": [
    "data_2.info()\n",
    "data_2"
   ]
  },
  {
   "cell_type": "markdown",
   "id": "ba7ead80",
   "metadata": {},
   "source": [
    "В датафрейме отсутствуют пропущенные значения, столбец 'date' имеет тип object, сменим его далее в разделе 'предобработка данных'"
   ]
  },
  {
   "cell_type": "code",
   "execution_count": 5,
   "id": "f1017b13",
   "metadata": {},
   "outputs": [
    {
     "name": "stdout",
     "output_type": "stream",
     "text": [
      "<class 'pandas.core.frame.DataFrame'>\n",
      "RangeIndex: 2 entries, 0 to 1\n",
      "Data columns (total 4 columns):\n",
      " #   Column             Non-Null Count  Dtype \n",
      "---  ------             --------------  ----- \n",
      " 0   subscription_type  2 non-null      object\n",
      " 1   minute_price       2 non-null      int64 \n",
      " 2   start_ride_price   2 non-null      int64 \n",
      " 3   subscription_fee   2 non-null      int64 \n",
      "dtypes: int64(3), object(1)\n",
      "memory usage: 192.0+ bytes\n"
     ]
    },
    {
     "data": {
      "text/html": [
       "<div>\n",
       "<style scoped>\n",
       "    .dataframe tbody tr th:only-of-type {\n",
       "        vertical-align: middle;\n",
       "    }\n",
       "\n",
       "    .dataframe tbody tr th {\n",
       "        vertical-align: top;\n",
       "    }\n",
       "\n",
       "    .dataframe thead th {\n",
       "        text-align: right;\n",
       "    }\n",
       "</style>\n",
       "<table border=\"1\" class=\"dataframe\">\n",
       "  <thead>\n",
       "    <tr style=\"text-align: right;\">\n",
       "      <th></th>\n",
       "      <th>subscription_type</th>\n",
       "      <th>minute_price</th>\n",
       "      <th>start_ride_price</th>\n",
       "      <th>subscription_fee</th>\n",
       "    </tr>\n",
       "  </thead>\n",
       "  <tbody>\n",
       "    <tr>\n",
       "      <th>0</th>\n",
       "      <td>free</td>\n",
       "      <td>8</td>\n",
       "      <td>50</td>\n",
       "      <td>0</td>\n",
       "    </tr>\n",
       "    <tr>\n",
       "      <th>1</th>\n",
       "      <td>ultra</td>\n",
       "      <td>6</td>\n",
       "      <td>0</td>\n",
       "      <td>199</td>\n",
       "    </tr>\n",
       "  </tbody>\n",
       "</table>\n",
       "</div>"
      ],
      "text/plain": [
       "  subscription_type  minute_price  start_ride_price  subscription_fee\n",
       "0              free             8                50                 0\n",
       "1             ultra             6                 0               199"
      ]
     },
     "execution_count": 5,
     "metadata": {},
     "output_type": "execute_result"
    }
   ],
   "source": [
    "data_3.info()\n",
    "data_3"
   ]
  },
  {
   "cell_type": "markdown",
   "id": "e89ace23",
   "metadata": {},
   "source": [
    "маленький датафрейм, пропусков и несоответствий нет"
   ]
  },
  {
   "cell_type": "markdown",
   "id": "45f4f56b",
   "metadata": {},
   "source": [
    "<div class=\"alert alert-success\">\n",
    "<font size=\"4\", color= \"seagreen\"><b>✔️ Комментарий ревьюера</b></font>\n",
    "    <br /> \n",
    "    <font size=\"3\", color = \"black\">\n",
    "<br /> Обзор данных проведен корректно, применены методы .head() и .info(), промежуточный вывод добавлен, молодец "
   ]
  },
  {
   "cell_type": "markdown",
   "id": "e95ebca7",
   "metadata": {},
   "source": [
    "#### Шаг 2. Предобработка данных"
   ]
  },
  {
   "cell_type": "code",
   "execution_count": 6,
   "id": "af6d202c",
   "metadata": {},
   "outputs": [],
   "source": [
    "#изменим данные в data_2 в столбце 'date'\n",
    "data_2['date'] = pd.to_datetime(data_2['date'], format='%Y-%m-%d')"
   ]
  },
  {
   "cell_type": "code",
   "execution_count": 7,
   "id": "da450e14",
   "metadata": {},
   "outputs": [
    {
     "data": {
      "text/html": [
       "<div>\n",
       "<style scoped>\n",
       "    .dataframe tbody tr th:only-of-type {\n",
       "        vertical-align: middle;\n",
       "    }\n",
       "\n",
       "    .dataframe tbody tr th {\n",
       "        vertical-align: top;\n",
       "    }\n",
       "\n",
       "    .dataframe thead th {\n",
       "        text-align: right;\n",
       "    }\n",
       "</style>\n",
       "<table border=\"1\" class=\"dataframe\">\n",
       "  <thead>\n",
       "    <tr style=\"text-align: right;\">\n",
       "      <th></th>\n",
       "      <th>user_id</th>\n",
       "      <th>distance</th>\n",
       "      <th>duration</th>\n",
       "      <th>date</th>\n",
       "      <th>month</th>\n",
       "    </tr>\n",
       "  </thead>\n",
       "  <tbody>\n",
       "    <tr>\n",
       "      <th>0</th>\n",
       "      <td>1</td>\n",
       "      <td>4409.919140</td>\n",
       "      <td>25.599769</td>\n",
       "      <td>2021-01-01</td>\n",
       "      <td>1</td>\n",
       "    </tr>\n",
       "    <tr>\n",
       "      <th>1</th>\n",
       "      <td>1</td>\n",
       "      <td>2617.592153</td>\n",
       "      <td>15.816871</td>\n",
       "      <td>2021-01-18</td>\n",
       "      <td>1</td>\n",
       "    </tr>\n",
       "    <tr>\n",
       "      <th>2</th>\n",
       "      <td>1</td>\n",
       "      <td>754.159807</td>\n",
       "      <td>6.232113</td>\n",
       "      <td>2021-04-20</td>\n",
       "      <td>4</td>\n",
       "    </tr>\n",
       "    <tr>\n",
       "      <th>3</th>\n",
       "      <td>1</td>\n",
       "      <td>2694.783254</td>\n",
       "      <td>18.511000</td>\n",
       "      <td>2021-08-11</td>\n",
       "      <td>8</td>\n",
       "    </tr>\n",
       "    <tr>\n",
       "      <th>4</th>\n",
       "      <td>1</td>\n",
       "      <td>4028.687306</td>\n",
       "      <td>26.265803</td>\n",
       "      <td>2021-08-28</td>\n",
       "      <td>8</td>\n",
       "    </tr>\n",
       "    <tr>\n",
       "      <th>...</th>\n",
       "      <td>...</td>\n",
       "      <td>...</td>\n",
       "      <td>...</td>\n",
       "      <td>...</td>\n",
       "      <td>...</td>\n",
       "    </tr>\n",
       "    <tr>\n",
       "      <th>18063</th>\n",
       "      <td>1534</td>\n",
       "      <td>3781.098080</td>\n",
       "      <td>19.822962</td>\n",
       "      <td>2021-11-04</td>\n",
       "      <td>11</td>\n",
       "    </tr>\n",
       "    <tr>\n",
       "      <th>18064</th>\n",
       "      <td>1534</td>\n",
       "      <td>2840.423057</td>\n",
       "      <td>21.409799</td>\n",
       "      <td>2021-11-16</td>\n",
       "      <td>11</td>\n",
       "    </tr>\n",
       "    <tr>\n",
       "      <th>18065</th>\n",
       "      <td>1534</td>\n",
       "      <td>3826.185507</td>\n",
       "      <td>18.435051</td>\n",
       "      <td>2021-11-18</td>\n",
       "      <td>11</td>\n",
       "    </tr>\n",
       "    <tr>\n",
       "      <th>18066</th>\n",
       "      <td>1534</td>\n",
       "      <td>2902.308661</td>\n",
       "      <td>16.674362</td>\n",
       "      <td>2021-11-27</td>\n",
       "      <td>11</td>\n",
       "    </tr>\n",
       "    <tr>\n",
       "      <th>18067</th>\n",
       "      <td>1534</td>\n",
       "      <td>2371.711192</td>\n",
       "      <td>15.893917</td>\n",
       "      <td>2021-12-29</td>\n",
       "      <td>12</td>\n",
       "    </tr>\n",
       "  </tbody>\n",
       "</table>\n",
       "<p>18068 rows × 5 columns</p>\n",
       "</div>"
      ],
      "text/plain": [
       "       user_id     distance   duration       date  month\n",
       "0            1  4409.919140  25.599769 2021-01-01      1\n",
       "1            1  2617.592153  15.816871 2021-01-18      1\n",
       "2            1   754.159807   6.232113 2021-04-20      4\n",
       "3            1  2694.783254  18.511000 2021-08-11      8\n",
       "4            1  4028.687306  26.265803 2021-08-28      8\n",
       "...        ...          ...        ...        ...    ...\n",
       "18063     1534  3781.098080  19.822962 2021-11-04     11\n",
       "18064     1534  2840.423057  21.409799 2021-11-16     11\n",
       "18065     1534  3826.185507  18.435051 2021-11-18     11\n",
       "18066     1534  2902.308661  16.674362 2021-11-27     11\n",
       "18067     1534  2371.711192  15.893917 2021-12-29     12\n",
       "\n",
       "[18068 rows x 5 columns]"
      ]
     },
     "execution_count": 7,
     "metadata": {},
     "output_type": "execute_result"
    }
   ],
   "source": [
    "#Создайте новый столбец с номером месяца на основе столбца date\n",
    "data_2['month'] = pd.DatetimeIndex(data_2['date']).month\n",
    "data_2"
   ]
  },
  {
   "cell_type": "code",
   "execution_count": 8,
   "id": "3f8a5b79",
   "metadata": {},
   "outputs": [
    {
     "data": {
      "text/plain": [
       "Timestamp('2021-01-01 00:00:00')"
      ]
     },
     "execution_count": 8,
     "metadata": {},
     "output_type": "execute_result"
    }
   ],
   "source": [
    "data_2['date'].min()"
   ]
  },
  {
   "cell_type": "code",
   "execution_count": 9,
   "id": "b5ec4cbc",
   "metadata": {},
   "outputs": [
    {
     "data": {
      "text/plain": [
       "Timestamp('2021-12-30 00:00:00')"
      ]
     },
     "execution_count": 9,
     "metadata": {},
     "output_type": "execute_result"
    }
   ],
   "source": [
    "data_2['date'].max()"
   ]
  },
  {
   "attachments": {
    "image-2.png": {
     "image/png": "[encoded data removed]"
    }
   },
   "cell_type": "markdown",
   "id": "d5ae9746",
   "metadata": {},
   "source": [
    "<div class=\"alert alert-warning\", style=\"border:solid coral 3px; padding: 20px\">\n",
    "<font size=\"4\", color = \"DimGrey\"><b>⚠️ Комментарий ревьюера</b></font>\n",
    "    <br /> \n",
    "    <font size=\"3\", color = \"black\">\n",
    "<br /> Стоит проверить — за какой период (год или несколько лет) у нас собраны данные\n",
    "        \n",
    "![image-2.png](attachment:image-2.png)       "
   ]
  },
  {
   "cell_type": "markdown",
   "id": "b8c5b47e",
   "metadata": {},
   "source": [
    "<div class=\"alert alert-info\">\n",
    "<b>Комментарий студента:</b>\n",
    "<br> Данные собраны за 1 год с 1го января по 30е декабря 2021 года\n",
    "</div>"
   ]
  },
  {
   "cell_type": "markdown",
   "id": "f799aea8",
   "metadata": {},
   "source": [
    "<div style>\n",
    "<font size=\"4\"><b></b></font>\n",
    "<font size=\"5\", color = \"black\">\n",
    "👍"
   ]
  },
  {
   "cell_type": "code",
   "execution_count": 10,
   "id": "01358a15",
   "metadata": {},
   "outputs": [
    {
     "data": {
      "text/plain": [
       "user_id              0\n",
       "name                 0\n",
       "age                  0\n",
       "city                 0\n",
       "subscription_type    0\n",
       "dtype: int64"
      ]
     },
     "execution_count": 10,
     "metadata": {},
     "output_type": "execute_result"
    }
   ],
   "source": [
    "#проверяем наличие пропущенных значений \n",
    "data_1.isna().sum()"
   ]
  },
  {
   "cell_type": "code",
   "execution_count": 11,
   "id": "7fa1f3cb",
   "metadata": {},
   "outputs": [
    {
     "data": {
      "text/plain": [
       "user_id     0\n",
       "distance    0\n",
       "duration    0\n",
       "date        0\n",
       "month       0\n",
       "dtype: int64"
      ]
     },
     "execution_count": 11,
     "metadata": {},
     "output_type": "execute_result"
    }
   ],
   "source": [
    "data_2.isna().sum()"
   ]
  },
  {
   "cell_type": "code",
   "execution_count": 12,
   "id": "ca99bfc7",
   "metadata": {},
   "outputs": [
    {
     "data": {
      "text/plain": [
       "subscription_type    0\n",
       "minute_price         0\n",
       "start_ride_price     0\n",
       "subscription_fee     0\n",
       "dtype: int64"
      ]
     },
     "execution_count": 12,
     "metadata": {},
     "output_type": "execute_result"
    }
   ],
   "source": [
    "data_3.isna().sum()"
   ]
  },
  {
   "cell_type": "markdown",
   "id": "9ddd4d0b",
   "metadata": {},
   "source": [
    "пропущенных значений в датафреймах нет "
   ]
  },
  {
   "cell_type": "code",
   "execution_count": 13,
   "id": "91e9c53c",
   "metadata": {},
   "outputs": [
    {
     "data": {
      "text/plain": [
       "31"
      ]
     },
     "execution_count": 13,
     "metadata": {},
     "output_type": "execute_result"
    }
   ],
   "source": [
    "#Проверяем дубликаты \n",
    "data_1.duplicated().sum()"
   ]
  },
  {
   "cell_type": "code",
   "execution_count": 14,
   "id": "1a4b251c",
   "metadata": {},
   "outputs": [
    {
     "data": {
      "text/html": [
       "<div>\n",
       "<style scoped>\n",
       "    .dataframe tbody tr th:only-of-type {\n",
       "        vertical-align: middle;\n",
       "    }\n",
       "\n",
       "    .dataframe tbody tr th {\n",
       "        vertical-align: top;\n",
       "    }\n",
       "\n",
       "    .dataframe thead th {\n",
       "        text-align: right;\n",
       "    }\n",
       "</style>\n",
       "<table border=\"1\" class=\"dataframe\">\n",
       "  <thead>\n",
       "    <tr style=\"text-align: right;\">\n",
       "      <th></th>\n",
       "      <th>user_id</th>\n",
       "      <th>name</th>\n",
       "      <th>age</th>\n",
       "      <th>city</th>\n",
       "      <th>subscription_type</th>\n",
       "    </tr>\n",
       "  </thead>\n",
       "  <tbody>\n",
       "    <tr>\n",
       "      <th>0</th>\n",
       "      <td>1</td>\n",
       "      <td>Кира</td>\n",
       "      <td>22</td>\n",
       "      <td>Тюмень</td>\n",
       "      <td>ultra</td>\n",
       "    </tr>\n",
       "    <tr>\n",
       "      <th>1</th>\n",
       "      <td>2</td>\n",
       "      <td>Станислав</td>\n",
       "      <td>31</td>\n",
       "      <td>Омск</td>\n",
       "      <td>ultra</td>\n",
       "    </tr>\n",
       "    <tr>\n",
       "      <th>2</th>\n",
       "      <td>3</td>\n",
       "      <td>Алексей</td>\n",
       "      <td>20</td>\n",
       "      <td>Москва</td>\n",
       "      <td>ultra</td>\n",
       "    </tr>\n",
       "    <tr>\n",
       "      <th>3</th>\n",
       "      <td>4</td>\n",
       "      <td>Константин</td>\n",
       "      <td>26</td>\n",
       "      <td>Ростов-на-Дону</td>\n",
       "      <td>ultra</td>\n",
       "    </tr>\n",
       "    <tr>\n",
       "      <th>4</th>\n",
       "      <td>5</td>\n",
       "      <td>Адель</td>\n",
       "      <td>28</td>\n",
       "      <td>Омск</td>\n",
       "      <td>ultra</td>\n",
       "    </tr>\n",
       "    <tr>\n",
       "      <th>...</th>\n",
       "      <td>...</td>\n",
       "      <td>...</td>\n",
       "      <td>...</td>\n",
       "      <td>...</td>\n",
       "      <td>...</td>\n",
       "    </tr>\n",
       "    <tr>\n",
       "      <th>1529</th>\n",
       "      <td>1530</td>\n",
       "      <td>Ростислав</td>\n",
       "      <td>29</td>\n",
       "      <td>Сочи</td>\n",
       "      <td>free</td>\n",
       "    </tr>\n",
       "    <tr>\n",
       "      <th>1530</th>\n",
       "      <td>1531</td>\n",
       "      <td>Никита</td>\n",
       "      <td>25</td>\n",
       "      <td>Пятигорск</td>\n",
       "      <td>free</td>\n",
       "    </tr>\n",
       "    <tr>\n",
       "      <th>1531</th>\n",
       "      <td>1532</td>\n",
       "      <td>Алексей</td>\n",
       "      <td>26</td>\n",
       "      <td>Тюмень</td>\n",
       "      <td>free</td>\n",
       "    </tr>\n",
       "    <tr>\n",
       "      <th>1532</th>\n",
       "      <td>1533</td>\n",
       "      <td>Степан</td>\n",
       "      <td>22</td>\n",
       "      <td>Краснодар</td>\n",
       "      <td>free</td>\n",
       "    </tr>\n",
       "    <tr>\n",
       "      <th>1533</th>\n",
       "      <td>1534</td>\n",
       "      <td>Альберт</td>\n",
       "      <td>25</td>\n",
       "      <td>Краснодар</td>\n",
       "      <td>free</td>\n",
       "    </tr>\n",
       "  </tbody>\n",
       "</table>\n",
       "<p>1534 rows × 5 columns</p>\n",
       "</div>"
      ],
      "text/plain": [
       "      user_id        name  age            city subscription_type\n",
       "0           1        Кира   22          Тюмень             ultra\n",
       "1           2   Станислав   31            Омск             ultra\n",
       "2           3     Алексей   20          Москва             ultra\n",
       "3           4  Константин   26  Ростов-на-Дону             ultra\n",
       "4           5       Адель   28            Омск             ultra\n",
       "...       ...         ...  ...             ...               ...\n",
       "1529     1530   Ростислав   29            Сочи              free\n",
       "1530     1531      Никита   25       Пятигорск              free\n",
       "1531     1532     Алексей   26          Тюмень              free\n",
       "1532     1533      Степан   22       Краснодар              free\n",
       "1533     1534     Альберт   25       Краснодар              free\n",
       "\n",
       "[1534 rows x 5 columns]"
      ]
     },
     "execution_count": 14,
     "metadata": {},
     "output_type": "execute_result"
    }
   ],
   "source": [
    "#Удаляем дубликаты \n",
    "data_1 = data_1.drop_duplicates()\n",
    "data_1"
   ]
  },
  {
   "cell_type": "code",
   "execution_count": 15,
   "id": "80fc48a7",
   "metadata": {},
   "outputs": [
    {
     "data": {
      "text/plain": [
       "0"
      ]
     },
     "execution_count": 15,
     "metadata": {},
     "output_type": "execute_result"
    }
   ],
   "source": [
    "#Проверяем дубликаты \n",
    "data_2.duplicated().sum()"
   ]
  },
  {
   "cell_type": "code",
   "execution_count": 16,
   "id": "2a8f1a4c",
   "metadata": {},
   "outputs": [
    {
     "data": {
      "text/plain": [
       "0"
      ]
     },
     "execution_count": 16,
     "metadata": {},
     "output_type": "execute_result"
    }
   ],
   "source": [
    "#Проверяем дубликаты \n",
    "data_3.duplicated().sum()"
   ]
  },
  {
   "cell_type": "markdown",
   "id": "07c64800",
   "metadata": {},
   "source": [
    "**Пропусков в данных нет, дубликаты удалены**"
   ]
  },
  {
   "cell_type": "markdown",
   "id": "cd6934cb",
   "metadata": {},
   "source": [
    "<div class=\"alert alert-success\">\n",
    "<font size=\"4\", color= \"seagreen\"><b>✔️ Комментарий ревьюера</b></font>\n",
    "    <br /> \n",
    "    <font size=\"3\", color = \"black\">\n",
    "<br />Проверка на поиск дубликатов выполнена, молодец\n",
    "        \n",
    "Особенно это станет важным, когда мы перейдем к более сложным задачам на втором модуле курса\n",
    "          "
   ]
  },
  {
   "cell_type": "markdown",
   "id": "212593c7",
   "metadata": {},
   "source": [
    "#### Шаг 3. Исследовательский анализ данных"
   ]
  },
  {
   "cell_type": "code",
   "execution_count": 17,
   "id": "e3a4274c",
   "metadata": {
    "scrolled": false
   },
   "outputs": [
    {
     "data": {
      "text/html": [
       "<div>\n",
       "<style scoped>\n",
       "    .dataframe tbody tr th:only-of-type {\n",
       "        vertical-align: middle;\n",
       "    }\n",
       "\n",
       "    .dataframe tbody tr th {\n",
       "        vertical-align: top;\n",
       "    }\n",
       "\n",
       "    .dataframe thead th {\n",
       "        text-align: right;\n",
       "    }\n",
       "</style>\n",
       "<table border=\"1\" class=\"dataframe\">\n",
       "  <thead>\n",
       "    <tr style=\"text-align: right;\">\n",
       "      <th></th>\n",
       "      <th>user_id</th>\n",
       "      <th>age</th>\n",
       "    </tr>\n",
       "  </thead>\n",
       "  <tbody>\n",
       "    <tr>\n",
       "      <th>count</th>\n",
       "      <td>1534.000000</td>\n",
       "      <td>1534.000000</td>\n",
       "    </tr>\n",
       "    <tr>\n",
       "      <th>mean</th>\n",
       "      <td>767.500000</td>\n",
       "      <td>24.903520</td>\n",
       "    </tr>\n",
       "    <tr>\n",
       "      <th>std</th>\n",
       "      <td>442.971971</td>\n",
       "      <td>4.572367</td>\n",
       "    </tr>\n",
       "    <tr>\n",
       "      <th>min</th>\n",
       "      <td>1.000000</td>\n",
       "      <td>12.000000</td>\n",
       "    </tr>\n",
       "    <tr>\n",
       "      <th>25%</th>\n",
       "      <td>384.250000</td>\n",
       "      <td>22.000000</td>\n",
       "    </tr>\n",
       "    <tr>\n",
       "      <th>50%</th>\n",
       "      <td>767.500000</td>\n",
       "      <td>25.000000</td>\n",
       "    </tr>\n",
       "    <tr>\n",
       "      <th>75%</th>\n",
       "      <td>1150.750000</td>\n",
       "      <td>28.000000</td>\n",
       "    </tr>\n",
       "    <tr>\n",
       "      <th>max</th>\n",
       "      <td>1534.000000</td>\n",
       "      <td>43.000000</td>\n",
       "    </tr>\n",
       "  </tbody>\n",
       "</table>\n",
       "</div>"
      ],
      "text/plain": [
       "           user_id          age\n",
       "count  1534.000000  1534.000000\n",
       "mean    767.500000    24.903520\n",
       "std     442.971971     4.572367\n",
       "min       1.000000    12.000000\n",
       "25%     384.250000    22.000000\n",
       "50%     767.500000    25.000000\n",
       "75%    1150.750000    28.000000\n",
       "max    1534.000000    43.000000"
      ]
     },
     "execution_count": 17,
     "metadata": {},
     "output_type": "execute_result"
    }
   ],
   "source": [
    "#изучим параметры датафреймов\n",
    "data_1.describe()"
   ]
  },
  {
   "cell_type": "code",
   "execution_count": 18,
   "id": "ff81627c",
   "metadata": {},
   "outputs": [
    {
     "data": {
      "text/html": [
       "<div>\n",
       "<style scoped>\n",
       "    .dataframe tbody tr th:only-of-type {\n",
       "        vertical-align: middle;\n",
       "    }\n",
       "\n",
       "    .dataframe tbody tr th {\n",
       "        vertical-align: top;\n",
       "    }\n",
       "\n",
       "    .dataframe thead th {\n",
       "        text-align: right;\n",
       "    }\n",
       "</style>\n",
       "<table border=\"1\" class=\"dataframe\">\n",
       "  <thead>\n",
       "    <tr style=\"text-align: right;\">\n",
       "      <th></th>\n",
       "      <th>user_id</th>\n",
       "      <th>distance</th>\n",
       "      <th>duration</th>\n",
       "      <th>month</th>\n",
       "    </tr>\n",
       "  </thead>\n",
       "  <tbody>\n",
       "    <tr>\n",
       "      <th>count</th>\n",
       "      <td>18068.000000</td>\n",
       "      <td>18068.000000</td>\n",
       "      <td>18068.000000</td>\n",
       "      <td>18068.000000</td>\n",
       "    </tr>\n",
       "    <tr>\n",
       "      <th>mean</th>\n",
       "      <td>842.869936</td>\n",
       "      <td>3070.659976</td>\n",
       "      <td>17.805011</td>\n",
       "      <td>6.486772</td>\n",
       "    </tr>\n",
       "    <tr>\n",
       "      <th>std</th>\n",
       "      <td>434.734317</td>\n",
       "      <td>1116.831209</td>\n",
       "      <td>6.091051</td>\n",
       "      <td>3.437410</td>\n",
       "    </tr>\n",
       "    <tr>\n",
       "      <th>min</th>\n",
       "      <td>1.000000</td>\n",
       "      <td>0.855683</td>\n",
       "      <td>0.500000</td>\n",
       "      <td>1.000000</td>\n",
       "    </tr>\n",
       "    <tr>\n",
       "      <th>25%</th>\n",
       "      <td>487.000000</td>\n",
       "      <td>2543.226360</td>\n",
       "      <td>13.597563</td>\n",
       "      <td>4.000000</td>\n",
       "    </tr>\n",
       "    <tr>\n",
       "      <th>50%</th>\n",
       "      <td>889.000000</td>\n",
       "      <td>3133.609994</td>\n",
       "      <td>17.678395</td>\n",
       "      <td>6.000000</td>\n",
       "    </tr>\n",
       "    <tr>\n",
       "      <th>75%</th>\n",
       "      <td>1213.250000</td>\n",
       "      <td>3776.222735</td>\n",
       "      <td>21.724800</td>\n",
       "      <td>9.000000</td>\n",
       "    </tr>\n",
       "    <tr>\n",
       "      <th>max</th>\n",
       "      <td>1534.000000</td>\n",
       "      <td>7211.007745</td>\n",
       "      <td>40.823963</td>\n",
       "      <td>12.000000</td>\n",
       "    </tr>\n",
       "  </tbody>\n",
       "</table>\n",
       "</div>"
      ],
      "text/plain": [
       "            user_id      distance      duration         month\n",
       "count  18068.000000  18068.000000  18068.000000  18068.000000\n",
       "mean     842.869936   3070.659976     17.805011      6.486772\n",
       "std      434.734317   1116.831209      6.091051      3.437410\n",
       "min        1.000000      0.855683      0.500000      1.000000\n",
       "25%      487.000000   2543.226360     13.597563      4.000000\n",
       "50%      889.000000   3133.609994     17.678395      6.000000\n",
       "75%     1213.250000   3776.222735     21.724800      9.000000\n",
       "max     1534.000000   7211.007745     40.823963     12.000000"
      ]
     },
     "execution_count": 18,
     "metadata": {},
     "output_type": "execute_result"
    }
   ],
   "source": [
    "data_2.describe()"
   ]
  },
  {
   "cell_type": "code",
   "execution_count": 19,
   "id": "177044ef",
   "metadata": {},
   "outputs": [
    {
     "data": {
      "text/html": [
       "<div>\n",
       "<style scoped>\n",
       "    .dataframe tbody tr th:only-of-type {\n",
       "        vertical-align: middle;\n",
       "    }\n",
       "\n",
       "    .dataframe tbody tr th {\n",
       "        vertical-align: top;\n",
       "    }\n",
       "\n",
       "    .dataframe thead th {\n",
       "        text-align: right;\n",
       "    }\n",
       "</style>\n",
       "<table border=\"1\" class=\"dataframe\">\n",
       "  <thead>\n",
       "    <tr style=\"text-align: right;\">\n",
       "      <th></th>\n",
       "      <th>minute_price</th>\n",
       "      <th>start_ride_price</th>\n",
       "      <th>subscription_fee</th>\n",
       "    </tr>\n",
       "  </thead>\n",
       "  <tbody>\n",
       "    <tr>\n",
       "      <th>count</th>\n",
       "      <td>2.000000</td>\n",
       "      <td>2.000000</td>\n",
       "      <td>2.000000</td>\n",
       "    </tr>\n",
       "    <tr>\n",
       "      <th>mean</th>\n",
       "      <td>7.000000</td>\n",
       "      <td>25.000000</td>\n",
       "      <td>99.500000</td>\n",
       "    </tr>\n",
       "    <tr>\n",
       "      <th>std</th>\n",
       "      <td>1.414214</td>\n",
       "      <td>35.355339</td>\n",
       "      <td>140.714249</td>\n",
       "    </tr>\n",
       "    <tr>\n",
       "      <th>min</th>\n",
       "      <td>6.000000</td>\n",
       "      <td>0.000000</td>\n",
       "      <td>0.000000</td>\n",
       "    </tr>\n",
       "    <tr>\n",
       "      <th>25%</th>\n",
       "      <td>6.500000</td>\n",
       "      <td>12.500000</td>\n",
       "      <td>49.750000</td>\n",
       "    </tr>\n",
       "    <tr>\n",
       "      <th>50%</th>\n",
       "      <td>7.000000</td>\n",
       "      <td>25.000000</td>\n",
       "      <td>99.500000</td>\n",
       "    </tr>\n",
       "    <tr>\n",
       "      <th>75%</th>\n",
       "      <td>7.500000</td>\n",
       "      <td>37.500000</td>\n",
       "      <td>149.250000</td>\n",
       "    </tr>\n",
       "    <tr>\n",
       "      <th>max</th>\n",
       "      <td>8.000000</td>\n",
       "      <td>50.000000</td>\n",
       "      <td>199.000000</td>\n",
       "    </tr>\n",
       "  </tbody>\n",
       "</table>\n",
       "</div>"
      ],
      "text/plain": [
       "       minute_price  start_ride_price  subscription_fee\n",
       "count      2.000000          2.000000          2.000000\n",
       "mean       7.000000         25.000000         99.500000\n",
       "std        1.414214         35.355339        140.714249\n",
       "min        6.000000          0.000000          0.000000\n",
       "25%        6.500000         12.500000         49.750000\n",
       "50%        7.000000         25.000000         99.500000\n",
       "75%        7.500000         37.500000        149.250000\n",
       "max        8.000000         50.000000        199.000000"
      ]
     },
     "execution_count": 19,
     "metadata": {},
     "output_type": "execute_result"
    }
   ],
   "source": [
    "data_3.describe()"
   ]
  },
  {
   "cell_type": "markdown",
   "id": "e4cdbce2",
   "metadata": {},
   "source": [
    "**Опишание и визуализация общей информации о пользователях и поездках:**"
   ]
  },
  {
   "cell_type": "markdown",
   "id": "cd368118",
   "metadata": {},
   "source": [
    "частота встречаемости городов"
   ]
  },
  {
   "cell_type": "code",
   "execution_count": 20,
   "id": "78c97915",
   "metadata": {},
   "outputs": [
    {
     "data": {
      "text/plain": [
       "Text(0, 0.5, 'число пользователей')"
      ]
     },
     "execution_count": 20,
     "metadata": {},
     "output_type": "execute_result"
    },
    {
     "data": {
      "image/png": "[encoded data removed]",
      "text/plain": [
       "<Figure size 432x288 with 1 Axes>"
      ]
     },
     "metadata": {
      "needs_background": "light"
     },
     "output_type": "display_data"
    }
   ],
   "source": [
    "data_city = data_1['city'].value_counts().reset_index();\n",
    "data_city.columns = ['город', 'число пользователей'];\n",
    "data_city.plot.bar(x='город', y='число пользователей');\n",
    "plt.title('количество пользователей');\n",
    "plt.xlabel('Название города');\n",
    "plt.ylabel('число пользователей')"
   ]
  },
  {
   "cell_type": "markdown",
   "id": "5a02579c",
   "metadata": {},
   "source": [
    "<div class=\"alert alert-warning\", style=\"border:solid coral 3px; padding: 20px\">\n",
    "<font size=\"4\"><b>⚠️ Комментарий ревьюера в2</b></font>\n",
    "    <br /> \n",
    "    <font size=\"3\", color = \"black\">\n",
    "<br /> Стоит убрать легенду, она не несет никакой полезной информации  "
   ]
  },
  {
   "cell_type": "markdown",
   "id": "569c1b59",
   "metadata": {},
   "source": [
    "<div class=\"alert alert-dang er\">\n",
    "<font size=\"4\"><b>❌ Комментарий ревьюера в2</b></font>\n",
    "    <br /> \n",
    "    <font size=\"3\", color = \"black\">\n",
    "<br /> Осталось добавить название для оси У\n",
    "        \n",
    "        Стоит полностью оформить все графики на проекте (все надписи у графиков оформляются на языке выполнения проекта)\n"
   ]
  },
  {
   "cell_type": "code",
   "execution_count": null,
   "id": "3b757d43",
   "metadata": {},
   "outputs": [],
   "source": []
  },
  {
   "cell_type": "code",
   "execution_count": null,
   "id": "6e52eb32",
   "metadata": {},
   "outputs": [],
   "source": []
  },
  {
   "cell_type": "markdown",
   "id": "a3a81956",
   "metadata": {},
   "source": [
    "<div class=\"alert alert-warning\", style=\"border:solid coral 3px; padding: 20px\">\n",
    "<font size=\"4\", color = \"DimGrey\"><b>⚠️Комментарий ревьюера</b></font>\n",
    "    <br /> \n",
    "    <font size=\"3\", color = \"black\">\n",
    "<br /> Стоит указать на сколько %-ов отличается кол-во пользователей в разных городах, стоит ли говорить о такой разнице?"
   ]
  },
  {
   "cell_type": "markdown",
   "id": "59e19f8b",
   "metadata": {},
   "source": [
    "<div class=\"alert alert-info\">\n",
    "<b>Комментарий студента:</b>\n",
    "<br> ниже добавила и дописала вывод\n",
    "</div>"
   ]
  },
  {
   "cell_type": "markdown",
   "id": "673515b6",
   "metadata": {},
   "source": [
    "<div class=\"alert alert-da nger\">\n",
    "<font size=\"4\"><b>❌ Комментарий ревьюера</b></font>\n",
    "    <br />\n",
    "    <font size=\"3\", color = \"black\">\n",
    "<br /> Стоит привести данные о численности пользователей в городах, или на графике, или в отдельной таблице\n",
    "        "
   ]
  },
  {
   "cell_type": "code",
   "execution_count": 21,
   "id": "17fde70b",
   "metadata": {},
   "outputs": [
    {
     "data": {
      "text/html": [
       "<div>\n",
       "<style scoped>\n",
       "    .dataframe tbody tr th:only-of-type {\n",
       "        vertical-align: middle;\n",
       "    }\n",
       "\n",
       "    .dataframe tbody tr th {\n",
       "        vertical-align: top;\n",
       "    }\n",
       "\n",
       "    .dataframe thead th {\n",
       "        text-align: right;\n",
       "    }\n",
       "</style>\n",
       "<table border=\"1\" class=\"dataframe\">\n",
       "  <thead>\n",
       "    <tr style=\"text-align: right;\">\n",
       "      <th></th>\n",
       "      <th>город</th>\n",
       "      <th>число пользователей</th>\n",
       "      <th>%</th>\n",
       "    </tr>\n",
       "  </thead>\n",
       "  <tbody>\n",
       "    <tr>\n",
       "      <th>0</th>\n",
       "      <td>Пятигорск</td>\n",
       "      <td>219</td>\n",
       "      <td>14.3</td>\n",
       "    </tr>\n",
       "    <tr>\n",
       "      <th>1</th>\n",
       "      <td>Екатеринбург</td>\n",
       "      <td>204</td>\n",
       "      <td>13.3</td>\n",
       "    </tr>\n",
       "    <tr>\n",
       "      <th>2</th>\n",
       "      <td>Ростов-на-Дону</td>\n",
       "      <td>198</td>\n",
       "      <td>12.9</td>\n",
       "    </tr>\n",
       "    <tr>\n",
       "      <th>3</th>\n",
       "      <td>Краснодар</td>\n",
       "      <td>193</td>\n",
       "      <td>12.6</td>\n",
       "    </tr>\n",
       "    <tr>\n",
       "      <th>4</th>\n",
       "      <td>Сочи</td>\n",
       "      <td>189</td>\n",
       "      <td>12.3</td>\n",
       "    </tr>\n",
       "    <tr>\n",
       "      <th>5</th>\n",
       "      <td>Омск</td>\n",
       "      <td>183</td>\n",
       "      <td>11.9</td>\n",
       "    </tr>\n",
       "    <tr>\n",
       "      <th>6</th>\n",
       "      <td>Тюмень</td>\n",
       "      <td>180</td>\n",
       "      <td>11.7</td>\n",
       "    </tr>\n",
       "    <tr>\n",
       "      <th>7</th>\n",
       "      <td>Москва</td>\n",
       "      <td>168</td>\n",
       "      <td>11.0</td>\n",
       "    </tr>\n",
       "  </tbody>\n",
       "</table>\n",
       "</div>"
      ],
      "text/plain": [
       "            город  число пользователей     %\n",
       "0       Пятигорск                  219  14.3\n",
       "1    Екатеринбург                  204  13.3\n",
       "2  Ростов-на-Дону                  198  12.9\n",
       "3       Краснодар                  193  12.6\n",
       "4            Сочи                  189  12.3\n",
       "5            Омск                  183  11.9\n",
       "6          Тюмень                  180  11.7\n",
       "7          Москва                  168  11.0"
      ]
     },
     "execution_count": 21,
     "metadata": {},
     "output_type": "execute_result"
    }
   ],
   "source": [
    "data_city['%']= data_city['число пользователей'] / data_city['число пользователей'].sum()*100\n",
    "data_city['%']=data_city['%'].round(1)\n",
    "data_city"
   ]
  },
  {
   "cell_type": "markdown",
   "id": "4f1fb57b",
   "metadata": {},
   "source": [
    "Первые три места по количеству пользователей в городе занимают Пятигорск, Екатеринбург и Ростов на Дону соответственно, меньше всего самокатов в Москве, в целом разбег между этими значениями не существенный, разница между первым городом в рейтинге и последним составляет всего 3,3%"
   ]
  },
  {
   "cell_type": "markdown",
   "id": "3f7d712e",
   "metadata": {},
   "source": [
    "<div class=\"alert alert-warning\", style=\"border:solid coral 3px; padding: 20px\">\n",
    "<font size=\"4\", color = \"DimGrey\"><b>⚠️ Комментарий ревьюера в2</b></font>\n",
    "    <br /> \n",
    "    <font size=\"3\", color = \"black\">\n",
    "<br /> В Пятигорске на 30% больше пользователей чем в Москве \n",
    "        \n",
    "        219/168\n",
    "        \n",
    "и это вызывает вопросы для бизнеса, почему столь разные города имеют такую разницу и не в пользу Москвы        "
   ]
  },
  {
   "cell_type": "code",
   "execution_count": null,
   "id": "066c1f08",
   "metadata": {},
   "outputs": [],
   "source": []
  },
  {
   "cell_type": "markdown",
   "id": "998c020e",
   "metadata": {},
   "source": [
    "<div class=\"alert alert-warning\", style=\"border:solid coral 3px; padding: 20px\">\n",
    "<font size=\"4\", color = \"DimGrey\"><b>⚠️ Комментарий ревьюера</b></font>\n",
    "    <br />  \n",
    "    <font size=\"3\", color = \"black\">\n",
    "<br /> Молодец, построила график с барами\n",
    "        \n",
    "Стоит развернуть график в горизонтальные бары, если надписи оси Х не умещаются в горизонтальном виде\n",
    "        "
   ]
  },
  {
   "cell_type": "markdown",
   "id": "2b6640f1",
   "metadata": {},
   "source": [
    "<div class=\"alert alert-dan ger\">\n",
    "<font size=\"4\"><b>❌ Комментарий ревьюера</b></font>\n",
    "    <br /> \n",
    "    <font size=\"3\", color = \"black\">\n",
    "<br /> Стоит полностью оформить все графики на проекте (все надписи у графиков оформляются на языке выполнения проекта)\n",
    "\n",
    "Подписи осей на графиках и название добавят ясности и читабельности.\n",
    "Это важные элементы любой визуализации. Как добавить подписи и названия, смотри [здесь](https://proproprogs.ru/modules/matplotlib-razmeshchaem-standartnye-tekstovye-elementy-na-grafike?ysclid=l6agtioc6f299002507)"
   ]
  },
  {
   "cell_type": "markdown",
   "id": "3d98bda5",
   "metadata": {},
   "source": [
    "<div class=\"alert alert-info\">\n",
    "<b>Комментарий студента:</b>\n",
    "<br> сделано\n",
    "</div>"
   ]
  },
  {
   "cell_type": "markdown",
   "id": "3832e005",
   "metadata": {},
   "source": [
    "Соотношение пользователей с подпиской и без подписки;"
   ]
  },
  {
   "cell_type": "code",
   "execution_count": 22,
   "id": "bdab232e",
   "metadata": {},
   "outputs": [
    {
     "data": {
      "text/plain": [
       "free     835\n",
       "ultra    699\n",
       "Name: subscription_type, dtype: int64"
      ]
     },
     "execution_count": 22,
     "metadata": {},
     "output_type": "execute_result"
    }
   ],
   "source": [
    "data_1['subscription_type'].value_counts()"
   ]
  },
  {
   "cell_type": "code",
   "execution_count": 23,
   "id": "5d9ff12c",
   "metadata": {},
   "outputs": [
    {
     "data": {
      "text/plain": [
       "free     0.544329\n",
       "ultra    0.455671\n",
       "Name: subscription_type, dtype: float64"
      ]
     },
     "execution_count": 23,
     "metadata": {},
     "output_type": "execute_result"
    }
   ],
   "source": [
    "data_1['subscription_type'].value_counts(normalize=True)"
   ]
  },
  {
   "cell_type": "code",
   "execution_count": 24,
   "id": "8eebd9cb",
   "metadata": {},
   "outputs": [
    {
     "data": {
      "image/png": "[encoded data removed]",
      "text/plain": [
       "<Figure size 360x360 with 1 Axes>"
      ]
     },
     "metadata": {},
     "output_type": "display_data"
    }
   ],
   "source": [
    "data_1.groupby(by='subscription_type')['subscription_type'].count().plot(\n",
    "    kind='pie', \n",
    "    y=data_1['subscription_type'].value_counts(),\n",
    "    autopct = '%1.0f%%', \n",
    "    figsize=(5,5),\n",
    "    title = 'Процентное соотношение пользователей в зависимости от тарифа');\n"
   ]
  },
  {
   "cell_type": "markdown",
   "id": "388c04e0",
   "metadata": {},
   "source": [
    "на даграмме видно, что польвателей без подписки чуть больше половины, их количество составляет 54,4%; остальные пользовтелей обладают подпиской -(45,6%)"
   ]
  },
  {
   "cell_type": "markdown",
   "id": "6cd407fe",
   "metadata": {},
   "source": [
    "<div class=\"alert alert-warning\", style=\"border:solid coral 3px; padding: 20px\">\n",
    "<font size=\"4\"><b>⚠️ Комментарий ревьюера</b></font>\n",
    "    <br /> \n",
    "    <font size=\"3\", color = \"black\">\n",
    "<br /> Можно использовать круговую диаграмму для отображения разности в доле клиентов"
   ]
  },
  {
   "cell_type": "markdown",
   "id": "148b5b4c",
   "metadata": {},
   "source": [
    "<div class=\"alert alert-info\">\n",
    "<b>Комментарий студента:</b>\n",
    "<br> сделано\n",
    "</div>"
   ]
  },
  {
   "cell_type": "markdown",
   "id": "680b9138",
   "metadata": {},
   "source": [
    "возраст пользователей;"
   ]
  },
  {
   "cell_type": "code",
   "execution_count": 25,
   "id": "5a16de0a",
   "metadata": {},
   "outputs": [
    {
     "data": {
      "image/png": "[encoded data removed]",
      "text/plain": [
       "<Figure size 432x288 with 1 Axes>"
      ]
     },
     "metadata": {
      "needs_background": "light"
     },
     "output_type": "display_data"
    }
   ],
   "source": [
    "data_1['age'].hist(bins=30,grid=True)\n",
    "plt.title('возраст пользователей');"
   ]
  },
  {
   "cell_type": "markdown",
   "id": "2b48fb67",
   "metadata": {},
   "source": [
    "больше всего пользователей самокатов возрастом 25 лет +/-3 года, меньше всего пользователей старше 37 лет"
   ]
  },
  {
   "cell_type": "markdown",
   "id": "b2a4934c",
   "metadata": {},
   "source": [
    "<div style=\"border:solid steelblue 3px; padding: 20px\">\n",
    "<font size=\"4\">🍕<b> Комментарий ревьюера</b></font>\n",
    "<br /> \n",
    "<font size=\"3\", color = \"black\">\n",
    "<br />\n",
    "Убрать служ. информацию поможет точка с запятой на посл. строке кода\n",
    "\n",
    "        Text(0.5, 1.0, 'возраст пользователей')\n",
    "\n",
    "plt.title('возраст пользователей');            "
   ]
  },
  {
   "cell_type": "markdown",
   "id": "e0078940",
   "metadata": {},
   "source": [
    "<div class=\"alert alert-info\">\n",
    "<b>Комментарий студента:</b>\n",
    "<br> спасибо\n",
    "</div>"
   ]
  },
  {
   "cell_type": "markdown",
   "id": "b9ac7671",
   "metadata": {},
   "source": [
    "расстояние, которое пользователь преодолел за одну поездку;"
   ]
  },
  {
   "cell_type": "code",
   "execution_count": 26,
   "id": "0aaa1a11",
   "metadata": {},
   "outputs": [
    {
     "data": {
      "image/png": "[encoded data removed]",
      "text/plain": [
       "<Figure size 432x288 with 1 Axes>"
      ]
     },
     "metadata": {
      "needs_background": "light"
     },
     "output_type": "display_data"
    }
   ],
   "source": [
    "data_2['distance'].hist(bins=50,grid=True)\n",
    "plt.title('Расстояние');"
   ]
  },
  {
   "cell_type": "markdown",
   "id": "712a0c17",
   "metadata": {},
   "source": [
    "из диаграммы видно, самая популярная дистанция среди пользователей равна 3 км; также пользователи относительно часто берут самокат, чтобы преодолеть дистанцию до 1 км"
   ]
  },
  {
   "cell_type": "markdown",
   "id": "c142ad1f",
   "metadata": {},
   "source": [
    "продолжительность поездок"
   ]
  },
  {
   "cell_type": "code",
   "execution_count": 27,
   "id": "03b8fdf9",
   "metadata": {},
   "outputs": [
    {
     "data": {
      "image/png": "[encoded data removed]",
      "text/plain": [
       "<Figure size 432x288 with 1 Axes>"
      ]
     },
     "metadata": {
      "needs_background": "light"
     },
     "output_type": "display_data"
    }
   ],
   "source": [
    "data_2['duration'].hist(bins=50,grid=True);\n",
    "plt.title('Продолжительность поездки');"
   ]
  },
  {
   "cell_type": "markdown",
   "id": "61286f53",
   "metadata": {},
   "source": [
    "Больше всего поездок с продолжительность от 13 до 22 минут"
   ]
  },
  {
   "cell_type": "markdown",
   "id": "3b92c537",
   "metadata": {},
   "source": [
    "**Первые три места по количеству пользователей в городе занимают Пятигорск, Екатеринбург и Ростов на Дону соответственно, подписку имеет большая часть пользователей(54,4%), средний возраст пользователя составляет 25 лет, +/- 3 года, самые популярные расстояния для поездок до 1 км и 3км; Средняя продолжительнось поездок составляет от 15 до 20 минут **"
   ]
  },
  {
   "cell_type": "markdown",
   "id": "f189ca3b",
   "metadata": {},
   "source": [
    "<div class=\"alert alert-success\">\n",
    "<font size=\"4\", color= \"seagreen\"><b>✔️ Комментарий ревьюера</b></font>\n",
    "    <br /> \n",
    "    <font size=\"3\", color = \"black\">\n",
    "<br /> Исследование данных в целом выполнено корректно, молодец, стоит поправить нюансы"
   ]
  },
  {
   "cell_type": "markdown",
   "id": "5424c74e",
   "metadata": {},
   "source": [
    "<div class=\"alert alert-warning\", style=\"border:solid coral 3px; padding: 20px\">\n",
    "<font size=\"4\", color = \"DimGrey\"><b>⚠️ Комментарий ревьюера</b></font>\n",
    "    <br /> \n",
    "    <font size=\"3\", color = \"black\">\n",
    "<br />    Стоит больше кода посвятить изучению самих данных, возможных аномалий, редких значений ... Например проверить колонку длительности на наличие аномалий — но удалять их не стоит, т.к. и за эти поездки начислялась оплата"
   ]
  },
  {
   "cell_type": "markdown",
   "id": "1a19cf3b",
   "metadata": {},
   "source": [
    "<div class=\"alert alert-warning\", style=\"border:solid coral 3px; padding: 20px\">\n",
    "<font size=\"4\", color = \"DimGrey\"><b>⚠️ Комментарий ревьюера</b></font>\n",
    "    <br />\n",
    "<font size=\"3\", color = \"black\">\n",
    "<br />Можно добавить свои предположения, по какой причине у нас пользователи разделились на две части: совершают короткие и длинные поездки, с пиками около 700-а и 3100-а метров \n",
    "    \n",
    "Можно описать вид распределения (данных) на гистограммах    "
   ]
  },
  {
   "attachments": {
    "image.png": {
     "image/png": "[encoded data removed]"
    }
   },
   "cell_type": "markdown",
   "id": "554076e2",
   "metadata": {},
   "source": [
    "<div class=\"alert alert-warning\", style=\"border:solid coral 3px; padding: 20px\">\n",
    "<font size=\"4\", color = \"DimGrey\"><b>⚠️ Комментарий ревьюера</b></font>\n",
    "    <br /> \n",
    "    <font size=\"3\", color = \"black\">\n",
    "<br /> Стоит добавить первичную рекомендацию бизнесу (о развитии сервиса) по статистическим данным, полученным на этапе исследования\n",
    "        \n",
    "+ определить межквартильный размах и обозначить промежуток в который попадают 99% пользователей по возрасту, длительности использования самоката и расстоянию, которое они проехали\n",
    "        \n",
    "![image.png](attachment:image.png)        \n",
    "        "
   ]
  },
  {
   "cell_type": "markdown",
   "id": "4ef51331",
   "metadata": {},
   "source": [
    "#### Шаг 4. Объединение данных"
   ]
  },
  {
   "cell_type": "code",
   "execution_count": 28,
   "id": "6bf288b5",
   "metadata": {},
   "outputs": [
    {
     "data": {
      "text/html": [
       "<div>\n",
       "<style scoped>\n",
       "    .dataframe tbody tr th:only-of-type {\n",
       "        vertical-align: middle;\n",
       "    }\n",
       "\n",
       "    .dataframe tbody tr th {\n",
       "        vertical-align: top;\n",
       "    }\n",
       "\n",
       "    .dataframe thead th {\n",
       "        text-align: right;\n",
       "    }\n",
       "</style>\n",
       "<table border=\"1\" class=\"dataframe\">\n",
       "  <thead>\n",
       "    <tr style=\"text-align: right;\">\n",
       "      <th></th>\n",
       "      <th>user_id</th>\n",
       "      <th>name</th>\n",
       "      <th>age</th>\n",
       "      <th>city</th>\n",
       "      <th>subscription_type</th>\n",
       "      <th>distance</th>\n",
       "      <th>duration</th>\n",
       "      <th>date</th>\n",
       "      <th>month</th>\n",
       "    </tr>\n",
       "  </thead>\n",
       "  <tbody>\n",
       "    <tr>\n",
       "      <th>0</th>\n",
       "      <td>1</td>\n",
       "      <td>Кира</td>\n",
       "      <td>22</td>\n",
       "      <td>Тюмень</td>\n",
       "      <td>ultra</td>\n",
       "      <td>4409.919140</td>\n",
       "      <td>25.599769</td>\n",
       "      <td>2021-01-01</td>\n",
       "      <td>1</td>\n",
       "    </tr>\n",
       "    <tr>\n",
       "      <th>1</th>\n",
       "      <td>1</td>\n",
       "      <td>Кира</td>\n",
       "      <td>22</td>\n",
       "      <td>Тюмень</td>\n",
       "      <td>ultra</td>\n",
       "      <td>2617.592153</td>\n",
       "      <td>15.816871</td>\n",
       "      <td>2021-01-18</td>\n",
       "      <td>1</td>\n",
       "    </tr>\n",
       "    <tr>\n",
       "      <th>2</th>\n",
       "      <td>1</td>\n",
       "      <td>Кира</td>\n",
       "      <td>22</td>\n",
       "      <td>Тюмень</td>\n",
       "      <td>ultra</td>\n",
       "      <td>754.159807</td>\n",
       "      <td>6.232113</td>\n",
       "      <td>2021-04-20</td>\n",
       "      <td>4</td>\n",
       "    </tr>\n",
       "    <tr>\n",
       "      <th>3</th>\n",
       "      <td>1</td>\n",
       "      <td>Кира</td>\n",
       "      <td>22</td>\n",
       "      <td>Тюмень</td>\n",
       "      <td>ultra</td>\n",
       "      <td>2694.783254</td>\n",
       "      <td>18.511000</td>\n",
       "      <td>2021-08-11</td>\n",
       "      <td>8</td>\n",
       "    </tr>\n",
       "    <tr>\n",
       "      <th>4</th>\n",
       "      <td>1</td>\n",
       "      <td>Кира</td>\n",
       "      <td>22</td>\n",
       "      <td>Тюмень</td>\n",
       "      <td>ultra</td>\n",
       "      <td>4028.687306</td>\n",
       "      <td>26.265803</td>\n",
       "      <td>2021-08-28</td>\n",
       "      <td>8</td>\n",
       "    </tr>\n",
       "    <tr>\n",
       "      <th>...</th>\n",
       "      <td>...</td>\n",
       "      <td>...</td>\n",
       "      <td>...</td>\n",
       "      <td>...</td>\n",
       "      <td>...</td>\n",
       "      <td>...</td>\n",
       "      <td>...</td>\n",
       "      <td>...</td>\n",
       "      <td>...</td>\n",
       "    </tr>\n",
       "    <tr>\n",
       "      <th>18063</th>\n",
       "      <td>1534</td>\n",
       "      <td>Альберт</td>\n",
       "      <td>25</td>\n",
       "      <td>Краснодар</td>\n",
       "      <td>free</td>\n",
       "      <td>3781.098080</td>\n",
       "      <td>19.822962</td>\n",
       "      <td>2021-11-04</td>\n",
       "      <td>11</td>\n",
       "    </tr>\n",
       "    <tr>\n",
       "      <th>18064</th>\n",
       "      <td>1534</td>\n",
       "      <td>Альберт</td>\n",
       "      <td>25</td>\n",
       "      <td>Краснодар</td>\n",
       "      <td>free</td>\n",
       "      <td>2840.423057</td>\n",
       "      <td>21.409799</td>\n",
       "      <td>2021-11-16</td>\n",
       "      <td>11</td>\n",
       "    </tr>\n",
       "    <tr>\n",
       "      <th>18065</th>\n",
       "      <td>1534</td>\n",
       "      <td>Альберт</td>\n",
       "      <td>25</td>\n",
       "      <td>Краснодар</td>\n",
       "      <td>free</td>\n",
       "      <td>3826.185507</td>\n",
       "      <td>18.435051</td>\n",
       "      <td>2021-11-18</td>\n",
       "      <td>11</td>\n",
       "    </tr>\n",
       "    <tr>\n",
       "      <th>18066</th>\n",
       "      <td>1534</td>\n",
       "      <td>Альберт</td>\n",
       "      <td>25</td>\n",
       "      <td>Краснодар</td>\n",
       "      <td>free</td>\n",
       "      <td>2902.308661</td>\n",
       "      <td>16.674362</td>\n",
       "      <td>2021-11-27</td>\n",
       "      <td>11</td>\n",
       "    </tr>\n",
       "    <tr>\n",
       "      <th>18067</th>\n",
       "      <td>1534</td>\n",
       "      <td>Альберт</td>\n",
       "      <td>25</td>\n",
       "      <td>Краснодар</td>\n",
       "      <td>free</td>\n",
       "      <td>2371.711192</td>\n",
       "      <td>15.893917</td>\n",
       "      <td>2021-12-29</td>\n",
       "      <td>12</td>\n",
       "    </tr>\n",
       "  </tbody>\n",
       "</table>\n",
       "<p>18068 rows × 9 columns</p>\n",
       "</div>"
      ],
      "text/plain": [
       "       user_id     name  age       city subscription_type     distance  \\\n",
       "0            1     Кира   22     Тюмень             ultra  4409.919140   \n",
       "1            1     Кира   22     Тюмень             ultra  2617.592153   \n",
       "2            1     Кира   22     Тюмень             ultra   754.159807   \n",
       "3            1     Кира   22     Тюмень             ultra  2694.783254   \n",
       "4            1     Кира   22     Тюмень             ultra  4028.687306   \n",
       "...        ...      ...  ...        ...               ...          ...   \n",
       "18063     1534  Альберт   25  Краснодар              free  3781.098080   \n",
       "18064     1534  Альберт   25  Краснодар              free  2840.423057   \n",
       "18065     1534  Альберт   25  Краснодар              free  3826.185507   \n",
       "18066     1534  Альберт   25  Краснодар              free  2902.308661   \n",
       "18067     1534  Альберт   25  Краснодар              free  2371.711192   \n",
       "\n",
       "        duration       date  month  \n",
       "0      25.599769 2021-01-01      1  \n",
       "1      15.816871 2021-01-18      1  \n",
       "2       6.232113 2021-04-20      4  \n",
       "3      18.511000 2021-08-11      8  \n",
       "4      26.265803 2021-08-28      8  \n",
       "...          ...        ...    ...  \n",
       "18063  19.822962 2021-11-04     11  \n",
       "18064  21.409799 2021-11-16     11  \n",
       "18065  18.435051 2021-11-18     11  \n",
       "18066  16.674362 2021-11-27     11  \n",
       "18067  15.893917 2021-12-29     12  \n",
       "\n",
       "[18068 rows x 9 columns]"
      ]
     },
     "execution_count": 28,
     "metadata": {},
     "output_type": "execute_result"
    }
   ],
   "source": [
    "#Объединим данные о пользователях, поездках и подписках в один датафрейм\n",
    "data_1_2 = pd.merge(data_1, data_2, on='user_id')\n",
    "data_1_2"
   ]
  },
  {
   "cell_type": "code",
   "execution_count": 29,
   "id": "c46014e4",
   "metadata": {
    "scrolled": true
   },
   "outputs": [
    {
     "name": "stdout",
     "output_type": "stream",
     "text": [
      "<class 'pandas.core.frame.DataFrame'>\n",
      "Int64Index: 18068 entries, 0 to 18067\n",
      "Data columns (total 12 columns):\n",
      " #   Column             Non-Null Count  Dtype         \n",
      "---  ------             --------------  -----         \n",
      " 0   user_id            18068 non-null  int64         \n",
      " 1   name               18068 non-null  object        \n",
      " 2   age                18068 non-null  int64         \n",
      " 3   city               18068 non-null  object        \n",
      " 4   subscription_type  18068 non-null  object        \n",
      " 5   distance           18068 non-null  float64       \n",
      " 6   duration           18068 non-null  float64       \n",
      " 7   date               18068 non-null  datetime64[ns]\n",
      " 8   month              18068 non-null  int64         \n",
      " 9   minute_price       18068 non-null  int64         \n",
      " 10  start_ride_price   18068 non-null  int64         \n",
      " 11  subscription_fee   18068 non-null  int64         \n",
      "dtypes: datetime64[ns](1), float64(2), int64(6), object(3)\n",
      "memory usage: 1.8+ MB\n"
     ]
    },
    {
     "data": {
      "text/html": [
       "<div>\n",
       "<style scoped>\n",
       "    .dataframe tbody tr th:only-of-type {\n",
       "        vertical-align: middle;\n",
       "    }\n",
       "\n",
       "    .dataframe tbody tr th {\n",
       "        vertical-align: top;\n",
       "    }\n",
       "\n",
       "    .dataframe thead th {\n",
       "        text-align: right;\n",
       "    }\n",
       "</style>\n",
       "<table border=\"1\" class=\"dataframe\">\n",
       "  <thead>\n",
       "    <tr style=\"text-align: right;\">\n",
       "      <th></th>\n",
       "      <th>user_id</th>\n",
       "      <th>name</th>\n",
       "      <th>age</th>\n",
       "      <th>city</th>\n",
       "      <th>subscription_type</th>\n",
       "      <th>distance</th>\n",
       "      <th>duration</th>\n",
       "      <th>date</th>\n",
       "      <th>month</th>\n",
       "      <th>minute_price</th>\n",
       "      <th>start_ride_price</th>\n",
       "      <th>subscription_fee</th>\n",
       "    </tr>\n",
       "  </thead>\n",
       "  <tbody>\n",
       "    <tr>\n",
       "      <th>0</th>\n",
       "      <td>1</td>\n",
       "      <td>Кира</td>\n",
       "      <td>22</td>\n",
       "      <td>Тюмень</td>\n",
       "      <td>ultra</td>\n",
       "      <td>4409.919140</td>\n",
       "      <td>25.599769</td>\n",
       "      <td>2021-01-01</td>\n",
       "      <td>1</td>\n",
       "      <td>6</td>\n",
       "      <td>0</td>\n",
       "      <td>199</td>\n",
       "    </tr>\n",
       "    <tr>\n",
       "      <th>1</th>\n",
       "      <td>1</td>\n",
       "      <td>Кира</td>\n",
       "      <td>22</td>\n",
       "      <td>Тюмень</td>\n",
       "      <td>ultra</td>\n",
       "      <td>2617.592153</td>\n",
       "      <td>15.816871</td>\n",
       "      <td>2021-01-18</td>\n",
       "      <td>1</td>\n",
       "      <td>6</td>\n",
       "      <td>0</td>\n",
       "      <td>199</td>\n",
       "    </tr>\n",
       "    <tr>\n",
       "      <th>2</th>\n",
       "      <td>1</td>\n",
       "      <td>Кира</td>\n",
       "      <td>22</td>\n",
       "      <td>Тюмень</td>\n",
       "      <td>ultra</td>\n",
       "      <td>754.159807</td>\n",
       "      <td>6.232113</td>\n",
       "      <td>2021-04-20</td>\n",
       "      <td>4</td>\n",
       "      <td>6</td>\n",
       "      <td>0</td>\n",
       "      <td>199</td>\n",
       "    </tr>\n",
       "    <tr>\n",
       "      <th>3</th>\n",
       "      <td>1</td>\n",
       "      <td>Кира</td>\n",
       "      <td>22</td>\n",
       "      <td>Тюмень</td>\n",
       "      <td>ultra</td>\n",
       "      <td>2694.783254</td>\n",
       "      <td>18.511000</td>\n",
       "      <td>2021-08-11</td>\n",
       "      <td>8</td>\n",
       "      <td>6</td>\n",
       "      <td>0</td>\n",
       "      <td>199</td>\n",
       "    </tr>\n",
       "    <tr>\n",
       "      <th>4</th>\n",
       "      <td>1</td>\n",
       "      <td>Кира</td>\n",
       "      <td>22</td>\n",
       "      <td>Тюмень</td>\n",
       "      <td>ultra</td>\n",
       "      <td>4028.687306</td>\n",
       "      <td>26.265803</td>\n",
       "      <td>2021-08-28</td>\n",
       "      <td>8</td>\n",
       "      <td>6</td>\n",
       "      <td>0</td>\n",
       "      <td>199</td>\n",
       "    </tr>\n",
       "    <tr>\n",
       "      <th>...</th>\n",
       "      <td>...</td>\n",
       "      <td>...</td>\n",
       "      <td>...</td>\n",
       "      <td>...</td>\n",
       "      <td>...</td>\n",
       "      <td>...</td>\n",
       "      <td>...</td>\n",
       "      <td>...</td>\n",
       "      <td>...</td>\n",
       "      <td>...</td>\n",
       "      <td>...</td>\n",
       "      <td>...</td>\n",
       "    </tr>\n",
       "    <tr>\n",
       "      <th>18063</th>\n",
       "      <td>1534</td>\n",
       "      <td>Альберт</td>\n",
       "      <td>25</td>\n",
       "      <td>Краснодар</td>\n",
       "      <td>free</td>\n",
       "      <td>3781.098080</td>\n",
       "      <td>19.822962</td>\n",
       "      <td>2021-11-04</td>\n",
       "      <td>11</td>\n",
       "      <td>8</td>\n",
       "      <td>50</td>\n",
       "      <td>0</td>\n",
       "    </tr>\n",
       "    <tr>\n",
       "      <th>18064</th>\n",
       "      <td>1534</td>\n",
       "      <td>Альберт</td>\n",
       "      <td>25</td>\n",
       "      <td>Краснодар</td>\n",
       "      <td>free</td>\n",
       "      <td>2840.423057</td>\n",
       "      <td>21.409799</td>\n",
       "      <td>2021-11-16</td>\n",
       "      <td>11</td>\n",
       "      <td>8</td>\n",
       "      <td>50</td>\n",
       "      <td>0</td>\n",
       "    </tr>\n",
       "    <tr>\n",
       "      <th>18065</th>\n",
       "      <td>1534</td>\n",
       "      <td>Альберт</td>\n",
       "      <td>25</td>\n",
       "      <td>Краснодар</td>\n",
       "      <td>free</td>\n",
       "      <td>3826.185507</td>\n",
       "      <td>18.435051</td>\n",
       "      <td>2021-11-18</td>\n",
       "      <td>11</td>\n",
       "      <td>8</td>\n",
       "      <td>50</td>\n",
       "      <td>0</td>\n",
       "    </tr>\n",
       "    <tr>\n",
       "      <th>18066</th>\n",
       "      <td>1534</td>\n",
       "      <td>Альберт</td>\n",
       "      <td>25</td>\n",
       "      <td>Краснодар</td>\n",
       "      <td>free</td>\n",
       "      <td>2902.308661</td>\n",
       "      <td>16.674362</td>\n",
       "      <td>2021-11-27</td>\n",
       "      <td>11</td>\n",
       "      <td>8</td>\n",
       "      <td>50</td>\n",
       "      <td>0</td>\n",
       "    </tr>\n",
       "    <tr>\n",
       "      <th>18067</th>\n",
       "      <td>1534</td>\n",
       "      <td>Альберт</td>\n",
       "      <td>25</td>\n",
       "      <td>Краснодар</td>\n",
       "      <td>free</td>\n",
       "      <td>2371.711192</td>\n",
       "      <td>15.893917</td>\n",
       "      <td>2021-12-29</td>\n",
       "      <td>12</td>\n",
       "      <td>8</td>\n",
       "      <td>50</td>\n",
       "      <td>0</td>\n",
       "    </tr>\n",
       "  </tbody>\n",
       "</table>\n",
       "<p>18068 rows × 12 columns</p>\n",
       "</div>"
      ],
      "text/plain": [
       "       user_id     name  age       city subscription_type     distance  \\\n",
       "0            1     Кира   22     Тюмень             ultra  4409.919140   \n",
       "1            1     Кира   22     Тюмень             ultra  2617.592153   \n",
       "2            1     Кира   22     Тюмень             ultra   754.159807   \n",
       "3            1     Кира   22     Тюмень             ultra  2694.783254   \n",
       "4            1     Кира   22     Тюмень             ultra  4028.687306   \n",
       "...        ...      ...  ...        ...               ...          ...   \n",
       "18063     1534  Альберт   25  Краснодар              free  3781.098080   \n",
       "18064     1534  Альберт   25  Краснодар              free  2840.423057   \n",
       "18065     1534  Альберт   25  Краснодар              free  3826.185507   \n",
       "18066     1534  Альберт   25  Краснодар              free  2902.308661   \n",
       "18067     1534  Альберт   25  Краснодар              free  2371.711192   \n",
       "\n",
       "        duration       date  month  minute_price  start_ride_price  \\\n",
       "0      25.599769 2021-01-01      1             6                 0   \n",
       "1      15.816871 2021-01-18      1             6                 0   \n",
       "2       6.232113 2021-04-20      4             6                 0   \n",
       "3      18.511000 2021-08-11      8             6                 0   \n",
       "4      26.265803 2021-08-28      8             6                 0   \n",
       "...          ...        ...    ...           ...               ...   \n",
       "18063  19.822962 2021-11-04     11             8                50   \n",
       "18064  21.409799 2021-11-16     11             8                50   \n",
       "18065  18.435051 2021-11-18     11             8                50   \n",
       "18066  16.674362 2021-11-27     11             8                50   \n",
       "18067  15.893917 2021-12-29     12             8                50   \n",
       "\n",
       "       subscription_fee  \n",
       "0                   199  \n",
       "1                   199  \n",
       "2                   199  \n",
       "3                   199  \n",
       "4                   199  \n",
       "...                 ...  \n",
       "18063                 0  \n",
       "18064                 0  \n",
       "18065                 0  \n",
       "18066                 0  \n",
       "18067                 0  \n",
       "\n",
       "[18068 rows x 12 columns]"
      ]
     },
     "execution_count": 29,
     "metadata": {},
     "output_type": "execute_result"
    }
   ],
   "source": [
    "data = pd.merge(data_1_2, data_3, on='subscription_type')\n",
    "data.info()\n",
    "data"
   ]
  },
  {
   "cell_type": "markdown",
   "id": "bc4115e6",
   "metadata": {},
   "source": [
    "<div class=\"alert alert-success\">\n",
    "<font size=\"4\", color= \"seagreen\"><b>✔️ Комментарий ревьюера</b></font>\n",
    "    <br /> \n",
    "    <font size=\"3\", color = \"black\">\n",
    "<br /> Объединение данных прошло по плану, молодец\n",
    "         \n",
    "        \n",
    "        \n",
    "Обрати внимание на параметры, которые пандас выставляет по умолчанию при merge (для справки в join такая же «засада» по характеру, но другая по исполнению)\n",
    "        \n",
    "Использование параметров по умолчанию может привести к потере данных при объединении        \n",
    "     \n",
    "        \n",
    "[Примеры объединения таблиц, merge](https://pandas.pydata.org/pandas-docs/version/1.5/reference/api/pandas.DataFrame.merge.html?highlight=merge#pandas.DataFrame.merge)  \n",
    "        \n",
    "[Примеры объединения таблиц, join](https://pandas.pydata.org/pandas-docs/version/1.5/reference/api/pandas.DataFrame.join.html?highlight=join#pandas.DataFrame.join)          "
   ]
  },
  {
   "cell_type": "code",
   "execution_count": 30,
   "id": "f6a05279",
   "metadata": {},
   "outputs": [
    {
     "data": {
      "text/plain": [
       "(18068, 9)"
      ]
     },
     "execution_count": 30,
     "metadata": {},
     "output_type": "execute_result"
    }
   ],
   "source": [
    "data_1_2.shape"
   ]
  },
  {
   "cell_type": "code",
   "execution_count": 31,
   "id": "b5ddfd5c",
   "metadata": {},
   "outputs": [
    {
     "data": {
      "text/plain": [
       "(18068, 12)"
      ]
     },
     "execution_count": 31,
     "metadata": {},
     "output_type": "execute_result"
    }
   ],
   "source": [
    "data.shape"
   ]
  },
  {
   "cell_type": "code",
   "execution_count": 32,
   "id": "d339d8f4",
   "metadata": {},
   "outputs": [
    {
     "data": {
      "text/plain": [
       "user_id              0\n",
       "name                 0\n",
       "age                  0\n",
       "city                 0\n",
       "subscription_type    0\n",
       "distance             0\n",
       "duration             0\n",
       "date                 0\n",
       "month                0\n",
       "minute_price         0\n",
       "start_ride_price     0\n",
       "subscription_fee     0\n",
       "dtype: int64"
      ]
     },
     "execution_count": 32,
     "metadata": {},
     "output_type": "execute_result"
    }
   ],
   "source": [
    "data.isna().sum()"
   ]
  },
  {
   "cell_type": "markdown",
   "id": "b259f25e",
   "metadata": {},
   "source": [
    "после объединения количество строк осталось таким же, как до него, пропусков не появилось, значит объединение прошло корректно"
   ]
  },
  {
   "cell_type": "markdown",
   "id": "f5461189",
   "metadata": {},
   "source": [
    "<div class=\"alert alert-da nger\">\n",
    "<font size=\"4\"><b>❌ Комментарий ревьюера</b></font>\n",
    "    <br /> \n",
    "    <font size=\"3\", color = \"black\">\n",
    "<br />  Стоит проверить размерность  до объединения и после у полученной таблицы, чтобы размерность ДО == размерности после (по кол-ву строк), и наличие пропусков после объединения.\n",
    "        \n",
    "Можно добавить минивывод о результатах этой важной операции\n",
    "        \n",
    " "
   ]
  },
  {
   "cell_type": "markdown",
   "id": "6328ed14",
   "metadata": {},
   "source": [
    "<div class=\"alert alert-info\">\n",
    "<b>Комментарий студента:</b>\n",
    "<br> исправила\n",
    "</div>"
   ]
  },
  {
   "cell_type": "code",
   "execution_count": 33,
   "id": "2eda5efd",
   "metadata": {},
   "outputs": [],
   "source": [
    "#создадим датафреймы c данными о пользователях  с подпиской и без подписки\n",
    "data_ultra = data.query(\"subscription_type == 'ultra'\")\n",
    "data_free = data.query(\"subscription_type == 'free'\")"
   ]
  },
  {
   "cell_type": "code",
   "execution_count": 34,
   "id": "3d78e528",
   "metadata": {},
   "outputs": [
    {
     "data": {
      "text/plain": [
       "(6500, 12)"
      ]
     },
     "execution_count": 34,
     "metadata": {},
     "output_type": "execute_result"
    }
   ],
   "source": [
    "data_ultra.shape"
   ]
  },
  {
   "cell_type": "code",
   "execution_count": 35,
   "id": "4b68cba6",
   "metadata": {},
   "outputs": [
    {
     "data": {
      "text/plain": [
       "(11568, 12)"
      ]
     },
     "execution_count": 35,
     "metadata": {},
     "output_type": "execute_result"
    }
   ],
   "source": [
    "data_free.shape"
   ]
  },
  {
   "cell_type": "code",
   "execution_count": 36,
   "id": "107170ca",
   "metadata": {},
   "outputs": [
    {
     "data": {
      "text/plain": [
       "(18068, 12)"
      ]
     },
     "execution_count": 36,
     "metadata": {},
     "output_type": "execute_result"
    }
   ],
   "source": [
    "data.shape"
   ]
  },
  {
   "cell_type": "code",
   "execution_count": 37,
   "id": "13b52b77",
   "metadata": {},
   "outputs": [
    {
     "data": {
      "text/plain": [
       "18068"
      ]
     },
     "execution_count": 37,
     "metadata": {},
     "output_type": "execute_result"
    }
   ],
   "source": [
    "data_ultra.shape[0] + data_free.shape[0]"
   ]
  },
  {
   "cell_type": "code",
   "execution_count": 38,
   "id": "02ea1ddd",
   "metadata": {},
   "outputs": [
    {
     "data": {
      "text/plain": [
       "user_id              0\n",
       "name                 0\n",
       "age                  0\n",
       "city                 0\n",
       "subscription_type    0\n",
       "distance             0\n",
       "duration             0\n",
       "date                 0\n",
       "month                0\n",
       "minute_price         0\n",
       "start_ride_price     0\n",
       "subscription_fee     0\n",
       "dtype: int64"
      ]
     },
     "execution_count": 38,
     "metadata": {},
     "output_type": "execute_result"
    }
   ],
   "source": [
    "data_ultra.isna().sum()"
   ]
  },
  {
   "cell_type": "code",
   "execution_count": 39,
   "id": "fc0ed464",
   "metadata": {},
   "outputs": [
    {
     "data": {
      "text/plain": [
       "user_id              0\n",
       "name                 0\n",
       "age                  0\n",
       "city                 0\n",
       "subscription_type    0\n",
       "distance             0\n",
       "duration             0\n",
       "date                 0\n",
       "month                0\n",
       "minute_price         0\n",
       "start_ride_price     0\n",
       "subscription_fee     0\n",
       "dtype: int64"
      ]
     },
     "execution_count": 39,
     "metadata": {},
     "output_type": "execute_result"
    }
   ],
   "source": [
    "data_free.isna().sum()"
   ]
  },
  {
   "cell_type": "markdown",
   "id": "9eb85919",
   "metadata": {},
   "source": [
    "После сортировки и разделения общего датасрейма по признаку наличия подписки ultra, пропусков не повилось и сумма столбцов в двух новых датафреймах равна сумме столбцов в исходном, разделение прошло корректно"
   ]
  },
  {
   "cell_type": "markdown",
   "id": "9c7e9984",
   "metadata": {},
   "source": [
    "<div class=\"alert alert-da nger\">\n",
    "<font size=\"4\"><b>❌ Комментарий ревьюера</b></font>\n",
    "    <br /> \n",
    "    <font size=\"3\", color = \"black\">\n",
    "<br />  Стоит проверить наличие пропусков и размерность полученных таблиц после разделения"
   ]
  },
  {
   "cell_type": "markdown",
   "id": "2b96a724",
   "metadata": {},
   "source": [
    "<div class=\"alert alert-info\">\n",
    "<b>Комментарий студента:</b>\n",
    "<br> исправила\n",
    "</div>"
   ]
  },
  {
   "cell_type": "code",
   "execution_count": 40,
   "id": "3dde4bb9",
   "metadata": {},
   "outputs": [
    {
     "data": {
      "image/png": "[encoded data removed]",
      "text/plain": [
       "<Figure size 504x360 with 1 Axes>"
      ]
     },
     "metadata": {
      "needs_background": "light"
     },
     "output_type": "display_data"
    },
    {
     "data": {
      "image/png": "[encoded data removed]",
      "text/plain": [
       "<Figure size 504x360 with 1 Axes>"
      ]
     },
     "metadata": {
      "needs_background": "light"
     },
     "output_type": "display_data"
    }
   ],
   "source": [
    "#визуализируем информацию о дистанции поездок для пользователей с платной подпиской\n",
    "data_ultra['distance'].hist(bins=100, figsize = (7,5),grid=True);\n",
    "plt.title('дистанция поездок с подпиской ultra');\n",
    "plt.xlabel('Расстояние, м.');\n",
    "plt.show()\n",
    "#визуализируем информацию о дистанции поездок для пользователей без подписки\n",
    "data_free['distance'].hist(bins=100, figsize = (7,5),grid=True);\n",
    "plt.title('дистанция поездок без подписки');\n",
    "plt.xlabel('Расстояние, м.');"
   ]
  },
  {
   "cell_type": "code",
   "execution_count": 41,
   "id": "83dbdf97",
   "metadata": {},
   "outputs": [
    {
     "data": {
      "text/plain": [
       "count    6500.000000\n",
       "mean     3115.445388\n",
       "std       836.895330\n",
       "min       244.210438\n",
       "25%      2785.444017\n",
       "50%      3148.637229\n",
       "75%      3560.574425\n",
       "max      5699.769662\n",
       "Name: distance, dtype: float64"
      ]
     },
     "execution_count": 41,
     "metadata": {},
     "output_type": "execute_result"
    }
   ],
   "source": [
    "data_ultra['distance'].describe()"
   ]
  },
  {
   "cell_type": "code",
   "execution_count": 42,
   "id": "c6416200",
   "metadata": {},
   "outputs": [
    {
     "data": {
      "text/plain": [
       "count    11568.000000\n",
       "mean      3045.495282\n",
       "std       1246.173806\n",
       "min          0.855683\n",
       "25%       2366.562689\n",
       "50%       3114.648465\n",
       "75%       3905.697894\n",
       "max       7211.007745\n",
       "Name: distance, dtype: float64"
      ]
     },
     "execution_count": 42,
     "metadata": {},
     "output_type": "execute_result"
    }
   ],
   "source": [
    "data_free['distance'].describe()"
   ]
  },
  {
   "cell_type": "markdown",
   "id": "17185a10",
   "metadata": {},
   "source": [
    "дистанция поездок для пользователей с подпиской составляет в среднем от 3 до 3,5 км;\n",
    "преобладающая дистанция поездок для пользователей без подписки составляет в среднем от 2,5 до 3,5 км, также видно, что есть часть пользователей без подписки, которая берет самокат для дистанции до 1 км"
   ]
  },
  {
   "cell_type": "code",
   "execution_count": 43,
   "id": "5b5f62e8",
   "metadata": {},
   "outputs": [
    {
     "data": {
      "image/png": "[encoded data removed]",
      "text/plain": [
       "<Figure size 504x360 with 1 Axes>"
      ]
     },
     "metadata": {
      "needs_background": "light"
     },
     "output_type": "display_data"
    },
    {
     "data": {
      "image/png": "[encoded data removed]",
      "text/plain": [
       "<Figure size 504x360 with 1 Axes>"
      ]
     },
     "metadata": {
      "needs_background": "light"
     },
     "output_type": "display_data"
    }
   ],
   "source": [
    "#визуализируем информацию о длительности поездок для пользователей с платной подпиской\n",
    "data_ultra['duration'].hist(bins=100, figsize = (7,5),grid=True);\n",
    "plt.title('длительность поездок с подпиской ultra');\n",
    "plt.xlabel('Время, мин.');\n",
    "plt.show()\n",
    "#визуализируем информацию о длительности поездок для пользователей без подписки\n",
    "data_free['duration'].hist(bins=100, figsize = (7,5),grid=True);\n",
    "plt.title('длительность поездок без подписки');\n",
    "plt.xlabel('Время, мин.');"
   ]
  },
  {
   "cell_type": "code",
   "execution_count": 44,
   "id": "d86349e2",
   "metadata": {},
   "outputs": [
    {
     "data": {
      "text/plain": [
       "count    6500.000000\n",
       "mean       18.541985\n",
       "std         5.572048\n",
       "min         3.760353\n",
       "25%        14.524654\n",
       "50%        18.178153\n",
       "75%        21.884129\n",
       "max        40.823963\n",
       "Name: duration, dtype: float64"
      ]
     },
     "execution_count": 44,
     "metadata": {},
     "output_type": "execute_result"
    }
   ],
   "source": [
    "data_ultra['duration'].describe()"
   ]
  },
  {
   "cell_type": "code",
   "execution_count": 45,
   "id": "7e1725f3",
   "metadata": {},
   "outputs": [
    {
     "data": {
      "text/plain": [
       "count    11568.000000\n",
       "mean        17.390909\n",
       "std          6.326803\n",
       "min          0.500000\n",
       "25%         12.958437\n",
       "50%         17.326890\n",
       "75%         21.594071\n",
       "max         34.948498\n",
       "Name: duration, dtype: float64"
      ]
     },
     "execution_count": 45,
     "metadata": {},
     "output_type": "execute_result"
    }
   ],
   "source": [
    "data_free['duration'].describe()"
   ]
  },
  {
   "cell_type": "markdown",
   "id": "f0abd4dd",
   "metadata": {},
   "source": [
    "в целос гистограммы длительности пользователей без подписки и с подпиской довольно похожи, средняя продолжительност на обоих от 15 до 20 минут. "
   ]
  },
  {
   "cell_type": "markdown",
   "id": "d9f4879a",
   "metadata": {},
   "source": [
    "<div class=\"alert alert-warning\", style=\"border:solid coral 3px; padding: 20px\">\n",
    "<font size=\"4\", color = \"DimGrey\"><b>⚠️ Комментарий ревьюера</b></font>\n",
    "    <br /> \n",
    "    <font size=\"3\", color = \"black\">\n",
    "<br /> Стоит совместить гистограммы на одном виде, по две гистограммы для каждого параметра, чтобы появилась возможность визуально сравнить параметры у двух разных групп клиентов"
   ]
  },
  {
   "cell_type": "markdown",
   "id": "e6083084",
   "metadata": {},
   "source": [
    "<div class=\"alert alert-dan ger\">\n",
    "<font size=\"4\"><b>❌ Комментарий ревьюера</b></font>\n",
    "    <br /> \n",
    "    <font size=\"3\", color = \"black\">\n",
    "<br /> Стоит  добавить для сравнения двух групп — исследование статистик при помощи метода \n",
    "        \n",
    "        .describe()"
   ]
  },
  {
   "cell_type": "markdown",
   "id": "052557bb",
   "metadata": {},
   "source": [
    "<div class=\"alert alert-info\">\n",
    "<b>Комментарий студента:</b>\n",
    "<br> исправила\n",
    "</div>"
   ]
  },
  {
   "cell_type": "markdown",
   "id": "402d620f",
   "metadata": {},
   "source": [
    "#### Шаг 5. Подсчёт выручки"
   ]
  },
  {
   "cell_type": "code",
   "execution_count": 46,
   "id": "63d25d52",
   "metadata": {},
   "outputs": [],
   "source": [
    "# Округлим до следующего целого значения\n",
    "data['duration'] = np.ceil(data['duration'])"
   ]
  },
  {
   "cell_type": "markdown",
   "id": "05691bbf",
   "metadata": {},
   "source": [
    "<div class=\"alert alert-success\">\n",
    "<font size=\"4\", color= \"seagreen\"><b>✔️ Комментарий ревьюера</b></font>\n",
    "    <br /> \n",
    "    <font size=\"3\", color = \"black\">\n",
    "<br />Округление длительности прошло по плану проекта, молодец\n",
    "          "
   ]
  },
  {
   "cell_type": "markdown",
   "id": "ea1b130f",
   "metadata": {},
   "source": [
    "<div class=\"alert alert-warning\", style=\"border:solid coral 3px; padding: 20px\">\n",
    "<font size=\"4\"><b>⚠️ Комментарий ревьюера</b></font>\n",
    "    <br /> \n",
    "    <font size=\"3\", color = \"black\">\n",
    "<br />\n",
    "Для красоты («продаваемости») всего проекта не стоит выходить за видимую ширину тетради юпитер ноутбука, коллеги ценят удобство прочтения кода. Широкие строки кода рекомендуется — делить <a href=\"https://qastack.ru/programming/53162/how-can-i-do-a-line-break-line-continuation-in-python\">Перенос длинных строк кода</a>. ⬇⬇⬇\n",
    "    \n",
    "</div>"
   ]
  },
  {
   "cell_type": "code",
   "execution_count": 47,
   "id": "53049e0a",
   "metadata": {},
   "outputs": [
    {
     "data": {
      "text/html": [
       "<div>\n",
       "<style scoped>\n",
       "    .dataframe tbody tr th:only-of-type {\n",
       "        vertical-align: middle;\n",
       "    }\n",
       "\n",
       "    .dataframe tbody tr th {\n",
       "        vertical-align: top;\n",
       "    }\n",
       "\n",
       "    .dataframe thead th {\n",
       "        text-align: right;\n",
       "    }\n",
       "</style>\n",
       "<table border=\"1\" class=\"dataframe\">\n",
       "  <thead>\n",
       "    <tr style=\"text-align: right;\">\n",
       "      <th></th>\n",
       "      <th></th>\n",
       "      <th>distance</th>\n",
       "      <th>duration</th>\n",
       "      <th>count</th>\n",
       "      <th>subscription_type</th>\n",
       "    </tr>\n",
       "    <tr>\n",
       "      <th>user_id</th>\n",
       "      <th>month</th>\n",
       "      <th></th>\n",
       "      <th></th>\n",
       "      <th></th>\n",
       "      <th></th>\n",
       "    </tr>\n",
       "  </thead>\n",
       "  <tbody>\n",
       "    <tr>\n",
       "      <th rowspan=\"5\" valign=\"top\">1</th>\n",
       "      <th>1</th>\n",
       "      <td>7027.511294</td>\n",
       "      <td>42.0</td>\n",
       "      <td>2</td>\n",
       "      <td>ultra</td>\n",
       "    </tr>\n",
       "    <tr>\n",
       "      <th>4</th>\n",
       "      <td>754.159807</td>\n",
       "      <td>7.0</td>\n",
       "      <td>1</td>\n",
       "      <td>ultra</td>\n",
       "    </tr>\n",
       "    <tr>\n",
       "      <th>8</th>\n",
       "      <td>6723.470560</td>\n",
       "      <td>46.0</td>\n",
       "      <td>2</td>\n",
       "      <td>ultra</td>\n",
       "    </tr>\n",
       "    <tr>\n",
       "      <th>10</th>\n",
       "      <td>5809.911100</td>\n",
       "      <td>32.0</td>\n",
       "      <td>2</td>\n",
       "      <td>ultra</td>\n",
       "    </tr>\n",
       "    <tr>\n",
       "      <th>11</th>\n",
       "      <td>7003.499363</td>\n",
       "      <td>56.0</td>\n",
       "      <td>3</td>\n",
       "      <td>ultra</td>\n",
       "    </tr>\n",
       "    <tr>\n",
       "      <th>...</th>\n",
       "      <th>...</th>\n",
       "      <td>...</td>\n",
       "      <td>...</td>\n",
       "      <td>...</td>\n",
       "      <td>...</td>\n",
       "    </tr>\n",
       "    <tr>\n",
       "      <th rowspan=\"5\" valign=\"top\">1534</th>\n",
       "      <th>6</th>\n",
       "      <td>3409.468534</td>\n",
       "      <td>26.0</td>\n",
       "      <td>2</td>\n",
       "      <td>free</td>\n",
       "    </tr>\n",
       "    <tr>\n",
       "      <th>8</th>\n",
       "      <td>7622.453034</td>\n",
       "      <td>48.0</td>\n",
       "      <td>2</td>\n",
       "      <td>free</td>\n",
       "    </tr>\n",
       "    <tr>\n",
       "      <th>9</th>\n",
       "      <td>4928.173852</td>\n",
       "      <td>23.0</td>\n",
       "      <td>1</td>\n",
       "      <td>free</td>\n",
       "    </tr>\n",
       "    <tr>\n",
       "      <th>11</th>\n",
       "      <td>13350.015305</td>\n",
       "      <td>78.0</td>\n",
       "      <td>4</td>\n",
       "      <td>free</td>\n",
       "    </tr>\n",
       "    <tr>\n",
       "      <th>12</th>\n",
       "      <td>2371.711192</td>\n",
       "      <td>16.0</td>\n",
       "      <td>1</td>\n",
       "      <td>free</td>\n",
       "    </tr>\n",
       "  </tbody>\n",
       "</table>\n",
       "<p>11331 rows × 4 columns</p>\n",
       "</div>"
      ],
      "text/plain": [
       "                   distance  duration  count subscription_type\n",
       "user_id month                                                 \n",
       "1       1       7027.511294      42.0      2             ultra\n",
       "        4        754.159807       7.0      1             ultra\n",
       "        8       6723.470560      46.0      2             ultra\n",
       "        10      5809.911100      32.0      2             ultra\n",
       "        11      7003.499363      56.0      3             ultra\n",
       "...                     ...       ...    ...               ...\n",
       "1534    6       3409.468534      26.0      2              free\n",
       "        8       7622.453034      48.0      2              free\n",
       "        9       4928.173852      23.0      1              free\n",
       "        11     13350.015305      78.0      4              free\n",
       "        12      2371.711192      16.0      1              free\n",
       "\n",
       "[11331 rows x 4 columns]"
      ]
     },
     "execution_count": 47,
     "metadata": {},
     "output_type": "execute_result"
    }
   ],
   "source": [
    "#найдем суммарное расстояние, количество поездок и суммарное время для каждого пользователя за каждый месяц\n",
    "data_sum = data.pivot_table(index=['user_id', 'month'], values = \\\n",
    "                            ['distance', 'duration', 'name', 'subscription_type'], aggfunc=\\\n",
    "                            {'distance':'sum', 'duration':'sum', 'name':'count', 'subscription_type': 'min'})\n",
    "data_sum = data_sum.rename(columns={'name':'count'})\n",
    "data_sum"
   ]
  },
  {
   "cell_type": "markdown",
   "id": "10c20aef",
   "metadata": {},
   "source": [
    "<div class=\"alert alert-dan ger\">\n",
    "<font size=\"4\"><b>❌ Комментарий ревьюера</b></font>\n",
    "    <br /> \n",
    "    <font size=\"3\", color = \"black\">\n",
    "<br /> Стоит проверить агрегированные данные на пропуски"
   ]
  },
  {
   "cell_type": "code",
   "execution_count": 48,
   "id": "1fa0c70d",
   "metadata": {},
   "outputs": [
    {
     "data": {
      "text/plain": [
       "distance             0\n",
       "duration             0\n",
       "count                0\n",
       "subscription_type    0\n",
       "dtype: int64"
      ]
     },
     "execution_count": 48,
     "metadata": {},
     "output_type": "execute_result"
    }
   ],
   "source": [
    "data_sum.isna().sum()"
   ]
  },
  {
   "cell_type": "markdown",
   "id": "5d0ec97d",
   "metadata": {},
   "source": [
    "<div class=\"alert alert-info\">\n",
    "<b>Комментарий студента:</b>\n",
    "<br> в агрегированных данных пропусков нет\n",
    "</div>"
   ]
  },
  {
   "cell_type": "code",
   "execution_count": 49,
   "id": "cc105f17",
   "metadata": {},
   "outputs": [],
   "source": [
    "#добавим столбцы с оплатой за каждую минуту в зависимости от подписки \n",
    "data_sum.loc[data_sum['subscription_type'] == 'ultra', '1min_pay'] = 6"
   ]
  },
  {
   "cell_type": "code",
   "execution_count": 50,
   "id": "118ded65",
   "metadata": {},
   "outputs": [],
   "source": [
    "\n",
    "data_sum.loc[data_sum['subscription_type'] == 'free', '1min_pay'] = 8"
   ]
  },
  {
   "cell_type": "markdown",
   "id": "c285f54e",
   "metadata": {},
   "source": [
    "<div class=\"alert alert-warning\", style=\"border:solid coral 3px; padding: 20px\">\n",
    "<font size=\"4\", color = \"DimGrey\"><b>⚠️ Комментарий ревьюера</b></font>\n",
    "    <br /> \n",
    "    <font size=\"3\", color = \"black\">\n",
    "<br /> Стоит исключать «ручные коэффициенты» в расчетах\n",
    "        \n",
    "        (6 * data_sum['duration']) + 199\n",
    "        \n",
    "и оптимальнее использовать функцию для расчета выручки        "
   ]
  },
  {
   "cell_type": "code",
   "execution_count": 51,
   "id": "5c8453f4",
   "metadata": {},
   "outputs": [],
   "source": [
    "#добавим столбец с оплатой за старт \n",
    "data_sum.loc[data_sum['subscription_type'] == 'free', 'start_pay'] = 50\n"
   ]
  },
  {
   "cell_type": "code",
   "execution_count": 52,
   "id": "16674682",
   "metadata": {},
   "outputs": [],
   "source": [
    "#добавим столбец с ежемесячной оплатой подписки\n",
    "data_sum.loc[data_sum['subscription_type'] == 'ultra', 'subscription_pay'] = 199"
   ]
  },
  {
   "cell_type": "code",
   "execution_count": 53,
   "id": "f5180114",
   "metadata": {},
   "outputs": [
    {
     "data": {
      "text/html": [
       "<div>\n",
       "<style scoped>\n",
       "    .dataframe tbody tr th:only-of-type {\n",
       "        vertical-align: middle;\n",
       "    }\n",
       "\n",
       "    .dataframe tbody tr th {\n",
       "        vertical-align: top;\n",
       "    }\n",
       "\n",
       "    .dataframe thead th {\n",
       "        text-align: right;\n",
       "    }\n",
       "</style>\n",
       "<table border=\"1\" class=\"dataframe\">\n",
       "  <thead>\n",
       "    <tr style=\"text-align: right;\">\n",
       "      <th></th>\n",
       "      <th></th>\n",
       "      <th>distance</th>\n",
       "      <th>duration</th>\n",
       "      <th>count</th>\n",
       "      <th>subscription_type</th>\n",
       "      <th>1min_pay</th>\n",
       "      <th>start_pay</th>\n",
       "      <th>subscription_pay</th>\n",
       "    </tr>\n",
       "    <tr>\n",
       "      <th>user_id</th>\n",
       "      <th>month</th>\n",
       "      <th></th>\n",
       "      <th></th>\n",
       "      <th></th>\n",
       "      <th></th>\n",
       "      <th></th>\n",
       "      <th></th>\n",
       "      <th></th>\n",
       "    </tr>\n",
       "  </thead>\n",
       "  <tbody>\n",
       "    <tr>\n",
       "      <th rowspan=\"5\" valign=\"top\">1</th>\n",
       "      <th>1</th>\n",
       "      <td>7027.511294</td>\n",
       "      <td>42.0</td>\n",
       "      <td>2</td>\n",
       "      <td>ultra</td>\n",
       "      <td>6.0</td>\n",
       "      <td>NaN</td>\n",
       "      <td>199.0</td>\n",
       "    </tr>\n",
       "    <tr>\n",
       "      <th>4</th>\n",
       "      <td>754.159807</td>\n",
       "      <td>7.0</td>\n",
       "      <td>1</td>\n",
       "      <td>ultra</td>\n",
       "      <td>6.0</td>\n",
       "      <td>NaN</td>\n",
       "      <td>199.0</td>\n",
       "    </tr>\n",
       "    <tr>\n",
       "      <th>8</th>\n",
       "      <td>6723.470560</td>\n",
       "      <td>46.0</td>\n",
       "      <td>2</td>\n",
       "      <td>ultra</td>\n",
       "      <td>6.0</td>\n",
       "      <td>NaN</td>\n",
       "      <td>199.0</td>\n",
       "    </tr>\n",
       "    <tr>\n",
       "      <th>10</th>\n",
       "      <td>5809.911100</td>\n",
       "      <td>32.0</td>\n",
       "      <td>2</td>\n",
       "      <td>ultra</td>\n",
       "      <td>6.0</td>\n",
       "      <td>NaN</td>\n",
       "      <td>199.0</td>\n",
       "    </tr>\n",
       "    <tr>\n",
       "      <th>11</th>\n",
       "      <td>7003.499363</td>\n",
       "      <td>56.0</td>\n",
       "      <td>3</td>\n",
       "      <td>ultra</td>\n",
       "      <td>6.0</td>\n",
       "      <td>NaN</td>\n",
       "      <td>199.0</td>\n",
       "    </tr>\n",
       "    <tr>\n",
       "      <th>...</th>\n",
       "      <th>...</th>\n",
       "      <td>...</td>\n",
       "      <td>...</td>\n",
       "      <td>...</td>\n",
       "      <td>...</td>\n",
       "      <td>...</td>\n",
       "      <td>...</td>\n",
       "      <td>...</td>\n",
       "    </tr>\n",
       "    <tr>\n",
       "      <th rowspan=\"5\" valign=\"top\">1534</th>\n",
       "      <th>6</th>\n",
       "      <td>3409.468534</td>\n",
       "      <td>26.0</td>\n",
       "      <td>2</td>\n",
       "      <td>free</td>\n",
       "      <td>8.0</td>\n",
       "      <td>50.0</td>\n",
       "      <td>NaN</td>\n",
       "    </tr>\n",
       "    <tr>\n",
       "      <th>8</th>\n",
       "      <td>7622.453034</td>\n",
       "      <td>48.0</td>\n",
       "      <td>2</td>\n",
       "      <td>free</td>\n",
       "      <td>8.0</td>\n",
       "      <td>50.0</td>\n",
       "      <td>NaN</td>\n",
       "    </tr>\n",
       "    <tr>\n",
       "      <th>9</th>\n",
       "      <td>4928.173852</td>\n",
       "      <td>23.0</td>\n",
       "      <td>1</td>\n",
       "      <td>free</td>\n",
       "      <td>8.0</td>\n",
       "      <td>50.0</td>\n",
       "      <td>NaN</td>\n",
       "    </tr>\n",
       "    <tr>\n",
       "      <th>11</th>\n",
       "      <td>13350.015305</td>\n",
       "      <td>78.0</td>\n",
       "      <td>4</td>\n",
       "      <td>free</td>\n",
       "      <td>8.0</td>\n",
       "      <td>50.0</td>\n",
       "      <td>NaN</td>\n",
       "    </tr>\n",
       "    <tr>\n",
       "      <th>12</th>\n",
       "      <td>2371.711192</td>\n",
       "      <td>16.0</td>\n",
       "      <td>1</td>\n",
       "      <td>free</td>\n",
       "      <td>8.0</td>\n",
       "      <td>50.0</td>\n",
       "      <td>NaN</td>\n",
       "    </tr>\n",
       "  </tbody>\n",
       "</table>\n",
       "<p>11331 rows × 7 columns</p>\n",
       "</div>"
      ],
      "text/plain": [
       "                   distance  duration  count subscription_type  1min_pay  \\\n",
       "user_id month                                                              \n",
       "1       1       7027.511294      42.0      2             ultra       6.0   \n",
       "        4        754.159807       7.0      1             ultra       6.0   \n",
       "        8       6723.470560      46.0      2             ultra       6.0   \n",
       "        10      5809.911100      32.0      2             ultra       6.0   \n",
       "        11      7003.499363      56.0      3             ultra       6.0   \n",
       "...                     ...       ...    ...               ...       ...   \n",
       "1534    6       3409.468534      26.0      2              free       8.0   \n",
       "        8       7622.453034      48.0      2              free       8.0   \n",
       "        9       4928.173852      23.0      1              free       8.0   \n",
       "        11     13350.015305      78.0      4              free       8.0   \n",
       "        12      2371.711192      16.0      1              free       8.0   \n",
       "\n",
       "               start_pay  subscription_pay  \n",
       "user_id month                               \n",
       "1       1            NaN             199.0  \n",
       "        4            NaN             199.0  \n",
       "        8            NaN             199.0  \n",
       "        10           NaN             199.0  \n",
       "        11           NaN             199.0  \n",
       "...                  ...               ...  \n",
       "1534    6           50.0               NaN  \n",
       "        8           50.0               NaN  \n",
       "        9           50.0               NaN  \n",
       "        11          50.0               NaN  \n",
       "        12          50.0               NaN  \n",
       "\n",
       "[11331 rows x 7 columns]"
      ]
     },
     "execution_count": 53,
     "metadata": {},
     "output_type": "execute_result"
    }
   ],
   "source": [
    "data_sum"
   ]
  },
  {
   "cell_type": "markdown",
   "id": "915f088d",
   "metadata": {},
   "source": [
    "<div class=\"alert alert-info\">\n",
    "<b>Комментарий студента:</b>\n",
    "<br> закомментировала прошлое решенеи, написала для расчета функцию\n",
    "</div>"
   ]
  },
  {
   "cell_type": "code",
   "execution_count": 54,
   "id": "bdcb787a",
   "metadata": {},
   "outputs": [],
   "source": [
    "def proceeds(row):\n",
    "    \n",
    "    if row['subscription_type'] == 'ultra':\n",
    "        return row['1min_pay'] * row['duration'] + row['subscription_pay']\n",
    "    elif row['subscription_type'] == 'free':\n",
    "        return row['1min_pay'] * row['duration'] + row['start_pay'] * row['count']"
   ]
  },
  {
   "cell_type": "markdown",
   "id": "270800fc",
   "metadata": {},
   "source": [
    "<div class=\"alert alert-d anger\">\n",
    "<font size=\"4\"><b>❌ Комментарий ревьюера в2</b></font>\n",
    "    <br /> \n",
    "    <font size=\"3\", color = \"black\">\n",
    "<br /> К сожалению данная версия кода содержит ручные коэффициенты\n",
    "        \n",
    "            if row['subscription_type'] == 'ultra':\n",
    "                return 6 * row['duration'] + 199\n",
    "            elif row['subscription_type'] == 'free':\n",
    "                return 8 * row['duration'] + 50 * row['count']\n",
    "        \n",
    "Стоит добавить данные о параметрах оплаты в таблицу, чтобы избежать ручных коэффициентов (50, 8, 6, 199)"
   ]
  },
  {
   "cell_type": "markdown",
   "id": "6a8e44fb",
   "metadata": {},
   "source": [
    "<div class=\"alert alert-info\">\n",
    "<b>Комментарий студента:</b>\n",
    "<br> добавила данные о параметрах в таблицу, в функции теперь нет ручных коэффициентов\n",
    "</div>"
   ]
  },
  {
   "cell_type": "markdown",
   "id": "5b673a42",
   "metadata": {},
   "source": [
    "<div class=\"alert alert-success\">\n",
    "<font size=\"4\", color= \"seagreen\"><b>✔️ Комментарий ревьюера в3</b></font>\n",
    "    <br /> \n",
    "    <font size=\"3\", color = \"black\">\n",
    "<br />Отлично, молодец"
   ]
  },
  {
   "cell_type": "code",
   "execution_count": 55,
   "id": "c1d9a40c",
   "metadata": {},
   "outputs": [],
   "source": [
    "data_sum['proceeds'] = data_sum.apply(proceeds, axis=1)"
   ]
  },
  {
   "cell_type": "code",
   "execution_count": 56,
   "id": "cdcaae05",
   "metadata": {},
   "outputs": [
    {
     "data": {
      "text/html": [
       "<div>\n",
       "<style scoped>\n",
       "    .dataframe tbody tr th:only-of-type {\n",
       "        vertical-align: middle;\n",
       "    }\n",
       "\n",
       "    .dataframe tbody tr th {\n",
       "        vertical-align: top;\n",
       "    }\n",
       "\n",
       "    .dataframe thead th {\n",
       "        text-align: right;\n",
       "    }\n",
       "</style>\n",
       "<table border=\"1\" class=\"dataframe\">\n",
       "  <thead>\n",
       "    <tr style=\"text-align: right;\">\n",
       "      <th></th>\n",
       "      <th></th>\n",
       "      <th>distance</th>\n",
       "      <th>duration</th>\n",
       "      <th>count</th>\n",
       "      <th>subscription_type</th>\n",
       "      <th>1min_pay</th>\n",
       "      <th>start_pay</th>\n",
       "      <th>subscription_pay</th>\n",
       "      <th>proceeds</th>\n",
       "    </tr>\n",
       "    <tr>\n",
       "      <th>user_id</th>\n",
       "      <th>month</th>\n",
       "      <th></th>\n",
       "      <th></th>\n",
       "      <th></th>\n",
       "      <th></th>\n",
       "      <th></th>\n",
       "      <th></th>\n",
       "      <th></th>\n",
       "      <th></th>\n",
       "    </tr>\n",
       "  </thead>\n",
       "  <tbody>\n",
       "    <tr>\n",
       "      <th rowspan=\"5\" valign=\"top\">1</th>\n",
       "      <th>1</th>\n",
       "      <td>7027.511294</td>\n",
       "      <td>42.0</td>\n",
       "      <td>2</td>\n",
       "      <td>ultra</td>\n",
       "      <td>6.0</td>\n",
       "      <td>NaN</td>\n",
       "      <td>199.0</td>\n",
       "      <td>451.0</td>\n",
       "    </tr>\n",
       "    <tr>\n",
       "      <th>4</th>\n",
       "      <td>754.159807</td>\n",
       "      <td>7.0</td>\n",
       "      <td>1</td>\n",
       "      <td>ultra</td>\n",
       "      <td>6.0</td>\n",
       "      <td>NaN</td>\n",
       "      <td>199.0</td>\n",
       "      <td>241.0</td>\n",
       "    </tr>\n",
       "    <tr>\n",
       "      <th>8</th>\n",
       "      <td>6723.470560</td>\n",
       "      <td>46.0</td>\n",
       "      <td>2</td>\n",
       "      <td>ultra</td>\n",
       "      <td>6.0</td>\n",
       "      <td>NaN</td>\n",
       "      <td>199.0</td>\n",
       "      <td>475.0</td>\n",
       "    </tr>\n",
       "    <tr>\n",
       "      <th>10</th>\n",
       "      <td>5809.911100</td>\n",
       "      <td>32.0</td>\n",
       "      <td>2</td>\n",
       "      <td>ultra</td>\n",
       "      <td>6.0</td>\n",
       "      <td>NaN</td>\n",
       "      <td>199.0</td>\n",
       "      <td>391.0</td>\n",
       "    </tr>\n",
       "    <tr>\n",
       "      <th>11</th>\n",
       "      <td>7003.499363</td>\n",
       "      <td>56.0</td>\n",
       "      <td>3</td>\n",
       "      <td>ultra</td>\n",
       "      <td>6.0</td>\n",
       "      <td>NaN</td>\n",
       "      <td>199.0</td>\n",
       "      <td>535.0</td>\n",
       "    </tr>\n",
       "    <tr>\n",
       "      <th>...</th>\n",
       "      <th>...</th>\n",
       "      <td>...</td>\n",
       "      <td>...</td>\n",
       "      <td>...</td>\n",
       "      <td>...</td>\n",
       "      <td>...</td>\n",
       "      <td>...</td>\n",
       "      <td>...</td>\n",
       "      <td>...</td>\n",
       "    </tr>\n",
       "    <tr>\n",
       "      <th rowspan=\"5\" valign=\"top\">1534</th>\n",
       "      <th>6</th>\n",
       "      <td>3409.468534</td>\n",
       "      <td>26.0</td>\n",
       "      <td>2</td>\n",
       "      <td>free</td>\n",
       "      <td>8.0</td>\n",
       "      <td>50.0</td>\n",
       "      <td>NaN</td>\n",
       "      <td>308.0</td>\n",
       "    </tr>\n",
       "    <tr>\n",
       "      <th>8</th>\n",
       "      <td>7622.453034</td>\n",
       "      <td>48.0</td>\n",
       "      <td>2</td>\n",
       "      <td>free</td>\n",
       "      <td>8.0</td>\n",
       "      <td>50.0</td>\n",
       "      <td>NaN</td>\n",
       "      <td>484.0</td>\n",
       "    </tr>\n",
       "    <tr>\n",
       "      <th>9</th>\n",
       "      <td>4928.173852</td>\n",
       "      <td>23.0</td>\n",
       "      <td>1</td>\n",
       "      <td>free</td>\n",
       "      <td>8.0</td>\n",
       "      <td>50.0</td>\n",
       "      <td>NaN</td>\n",
       "      <td>234.0</td>\n",
       "    </tr>\n",
       "    <tr>\n",
       "      <th>11</th>\n",
       "      <td>13350.015305</td>\n",
       "      <td>78.0</td>\n",
       "      <td>4</td>\n",
       "      <td>free</td>\n",
       "      <td>8.0</td>\n",
       "      <td>50.0</td>\n",
       "      <td>NaN</td>\n",
       "      <td>824.0</td>\n",
       "    </tr>\n",
       "    <tr>\n",
       "      <th>12</th>\n",
       "      <td>2371.711192</td>\n",
       "      <td>16.0</td>\n",
       "      <td>1</td>\n",
       "      <td>free</td>\n",
       "      <td>8.0</td>\n",
       "      <td>50.0</td>\n",
       "      <td>NaN</td>\n",
       "      <td>178.0</td>\n",
       "    </tr>\n",
       "  </tbody>\n",
       "</table>\n",
       "<p>11331 rows × 8 columns</p>\n",
       "</div>"
      ],
      "text/plain": [
       "                   distance  duration  count subscription_type  1min_pay  \\\n",
       "user_id month                                                              \n",
       "1       1       7027.511294      42.0      2             ultra       6.0   \n",
       "        4        754.159807       7.0      1             ultra       6.0   \n",
       "        8       6723.470560      46.0      2             ultra       6.0   \n",
       "        10      5809.911100      32.0      2             ultra       6.0   \n",
       "        11      7003.499363      56.0      3             ultra       6.0   \n",
       "...                     ...       ...    ...               ...       ...   \n",
       "1534    6       3409.468534      26.0      2              free       8.0   \n",
       "        8       7622.453034      48.0      2              free       8.0   \n",
       "        9       4928.173852      23.0      1              free       8.0   \n",
       "        11     13350.015305      78.0      4              free       8.0   \n",
       "        12      2371.711192      16.0      1              free       8.0   \n",
       "\n",
       "               start_pay  subscription_pay  proceeds  \n",
       "user_id month                                         \n",
       "1       1            NaN             199.0     451.0  \n",
       "        4            NaN             199.0     241.0  \n",
       "        8            NaN             199.0     475.0  \n",
       "        10           NaN             199.0     391.0  \n",
       "        11           NaN             199.0     535.0  \n",
       "...                  ...               ...       ...  \n",
       "1534    6           50.0               NaN     308.0  \n",
       "        8           50.0               NaN     484.0  \n",
       "        9           50.0               NaN     234.0  \n",
       "        11          50.0               NaN     824.0  \n",
       "        12          50.0               NaN     178.0  \n",
       "\n",
       "[11331 rows x 8 columns]"
      ]
     },
     "execution_count": 56,
     "metadata": {},
     "output_type": "execute_result"
    }
   ],
   "source": [
    "data_sum"
   ]
  },
  {
   "cell_type": "markdown",
   "id": "e7faeea6",
   "metadata": {},
   "source": [
    "Вывод: Создали датафрейм с агрегированными данными о поездках и нашли суммарное расстояние, количество поездок и суммарное время для каждого пользователя за каждый месяц. Также Добавили столбец с помесячной выручкой по каждому пользователю."
   ]
  },
  {
   "cell_type": "code",
   "execution_count": 57,
   "id": "2b0d96d3",
   "metadata": {},
   "outputs": [
    {
     "data": {
      "text/plain": [
       "3878641.0"
      ]
     },
     "execution_count": 57,
     "metadata": {},
     "output_type": "execute_result"
    }
   ],
   "source": [
    "data_sum['proceeds'].sum()"
   ]
  },
  {
   "cell_type": "markdown",
   "id": "8e4dd979",
   "metadata": {},
   "source": [
    "<div class=\"alert alert-success\">\n",
    "<font size=\"4\", color= \"seagreen\"><b>✔️ Комментарий ревьюера</b></font>\n",
    "    <br /> \n",
    "    <font size=\"3\", color = \"black\">\n",
    "<br /> Алгоритм расчета выручки выполнен правильно, молодец"
   ]
  },
  {
   "cell_type": "markdown",
   "id": "41545ac0",
   "metadata": {},
   "source": [
    "#### Шаг 6. Проверка гипотез"
   ]
  },
  {
   "cell_type": "markdown",
   "id": "11e3b9a2",
   "metadata": {},
   "source": [
    "6.1\n",
    "Нулевая гипотеза: Количество проведенного времени в поездках пользователей с подпиской и без подписки равны.\n",
    "Альтернативная гипотеза: Пользователи с подпиской проводят больше времени в поездке чем пользователи без подписки\n",
    "При проверке гипотезы мы будем рассматривать две независимые выборки"
   ]
  },
  {
   "cell_type": "markdown",
   "id": "e0b6ab88",
   "metadata": {},
   "source": [
    "<div class=\"alert alert-dan ger\">\n",
    "<font size=\"4\"><b>❌ Комментарий ревьюера</b></font>\n",
    "    <br /> \n",
    "    <font size=\"3\", color = \"black\">\n",
    "<br />Стоит поправить, имеются лишние слова в формулировке\n",
    "        \n",
    "        6.1 Нулевая гипотеза: Количество проведенного времени в поездках пользователей с подпиской меньше чем без подписки равны. Альтернативная гипотеза: Пользователи с подпиской проводят больше времени в поездке чем пользователи без подписки"
   ]
  },
  {
   "cell_type": "markdown",
   "id": "b5fdbe59",
   "metadata": {},
   "source": [
    "<div class=\"alert alert-info\">\n",
    "<b>Комментарий студента:</b>\n",
    "<br> исправила\n",
    "</div>"
   ]
  },
  {
   "cell_type": "code",
   "execution_count": 58,
   "id": "b2abbbc2",
   "metadata": {},
   "outputs": [
    {
     "name": "stdout",
     "output_type": "stream",
     "text": [
      "p-значение: 1.2804098316645618e-34\n",
      "Отвергаем нулевую гипотезу\n"
     ]
    }
   ],
   "source": [
    "alpha = 0.05\n",
    "results = st.ttest_ind(data_ultra['duration'], data_free['duration'], alternative='greater')\n",
    "print('p-значение:', results.pvalue)\n",
    "if results.pvalue < alpha:\n",
    "    print('Отвергаем нулевую гипотезу')\n",
    "else:\n",
    "    print('Не получилось отвергнуть нулевую гипотезу')"
   ]
  },
  {
   "cell_type": "markdown",
   "id": "ec7b5f86",
   "metadata": {},
   "source": [
    "<div class=\"alert alert-dan ger\">\n",
    "<font size=\"4\"><b>❌ Комментарий ревьюера</b></font>\n",
    "    <br /> \n",
    "    <font size=\"3\", color = \"black\">\n",
    "<br />Если у нас Н1\n",
    "        \n",
    "        Альтернативная гипотеза: Пользователи с подпиской проводят больше времени в поездке чем пользователи без подписки\n",
    "        \n",
    "то по какой причине мы используем доп. параметр —  alternative='less'?\n",
    "        \n",
    "        results = st.ttest_ind(data_free['duration'], data_ultra['duration'], alternative='less')"
   ]
  },
  {
   "cell_type": "markdown",
   "id": "f5a364eb",
   "metadata": {},
   "source": [
    "<div class=\"alert alert-da nger\">\n",
    "<font size=\"4\"><b>❌ Комментарий ревьюера</b></font>\n",
    "    <br /> \n",
    "    <font size=\"3\", color = \"black\">\n",
    "<br />Стоит поправить порядок выборок в стат тесте, он очень важен в случае использования доп. параметра alternative, т.к. мы ищем ответ на вопрос: какое среднее больше или меньше\n",
    "        \n",
    "        results = st.ttest_ind(data_free['duration'], data_ultra['duration'], alternative='less')"
   ]
  },
  {
   "cell_type": "markdown",
   "id": "09c708c6",
   "metadata": {},
   "source": [
    "<div class=\"alert alert-info\">\n",
    "<b>Комментарий студента:</b>\n",
    "<br> исправила\n",
    "</div>"
   ]
  },
  {
   "cell_type": "code",
   "execution_count": 59,
   "id": "d32fbd9e",
   "metadata": {},
   "outputs": [
    {
     "data": {
      "text/plain": [
       "count    11568.000000\n",
       "mean        17.390909\n",
       "std          6.326803\n",
       "min          0.500000\n",
       "25%         12.958437\n",
       "50%         17.326890\n",
       "75%         21.594071\n",
       "max         34.948498\n",
       "Name: duration, dtype: float64"
      ]
     },
     "execution_count": 59,
     "metadata": {},
     "output_type": "execute_result"
    }
   ],
   "source": [
    "data_free['duration'].describe()"
   ]
  },
  {
   "cell_type": "code",
   "execution_count": 60,
   "id": "84f786af",
   "metadata": {
    "scrolled": true
   },
   "outputs": [
    {
     "data": {
      "text/plain": [
       "count    6500.000000\n",
       "mean       18.541985\n",
       "std         5.572048\n",
       "min         3.760353\n",
       "25%        14.524654\n",
       "50%        18.178153\n",
       "75%        21.884129\n",
       "max        40.823963\n",
       "Name: duration, dtype: float64"
      ]
     },
     "execution_count": 60,
     "metadata": {},
     "output_type": "execute_result"
    }
   ],
   "source": [
    "data_ultra['duration'].describe()"
   ]
  },
  {
   "cell_type": "markdown",
   "id": "4a3e31c9",
   "metadata": {},
   "source": [
    "Средняя продолжительность аренды у пользователей с подпиской: 18.54 минут, а у пользователей без подписки 17.39 минут. В среднем пользователи с подпиской арендуют самокат на 1.15 минут больше, чем пользователи без подписки.\n",
    "Следовательно можно сделать вывод, что пользователи с подпиской выгоднее, чем пользователи без подписки."
   ]
  },
  {
   "cell_type": "markdown",
   "id": "d9975d57",
   "metadata": {},
   "source": [
    "<div class=\"alert alert-success\">\n",
    "<font size=\"4\", color= \"seagreen\"><b>✔️ Комментарий ревьюера в3</b></font>\n",
    "    <br /> \n",
    "    <font size=\"3\", color = \"black\">\n",
    "<br />ок"
   ]
  },
  {
   "cell_type": "markdown",
   "id": "113c65cb",
   "metadata": {},
   "source": [
    "<div class=\"alert alert-dang er\">\n",
    "<font size=\"4\"><b>❌ Комментарий ревьюера в2</b></font>\n",
    "    <br /> \n",
    "    <font size=\"3\", color = \"black\">\n",
    "<br />\n",
    "Стоит дополнить вывод\n",
    "        \n",
    "        Средняя продолжительность аренды у пользователей с подпиской: 18.54 минут, а у пользователей без подписки 17.39 минут. В среднем пользователи с подпиской арендуют самокат на 1.15 минут больше, чем пользователи без подписки.\n",
    "        \n",
    "выгодно ли это бизнесу или нет        "
   ]
  },
  {
   "cell_type": "markdown",
   "id": "867d3352",
   "metadata": {},
   "source": [
    "<div class=\"alert alert-info\">\n",
    "<b>Комментарий студента:</b>\n",
    "<br> добавила\n",
    "</div>"
   ]
  },
  {
   "cell_type": "markdown",
   "id": "a80a4651",
   "metadata": {},
   "source": [
    "<div class=\"alert alert-dan ger\">\n",
    "<font size=\"4\"><b>❌ Комментарий ревьюера</b></font>\n",
    "    <br /> \n",
    "    <font size=\"3\", color = \"black\">\n",
    "<br /> \n",
    "Стоит подправить все подобные моменты\n",
    "        \n",
    "        и принимаем альтернативную гипотезу\n",
    "        \n",
    "        Наша нулевая гипотеза оказалась верна\n",
    "\n",
    "<b>Из теории на тренажере</b>\n",
    "        \n",
    "Формулирование двусторонних гипотез. <br>\n",
    "        \n",
    "<b>Никакие экспериментально полученные данные никогда не подтвердят какую-либо гипотезу. Это наше фундаментальное ограничение. </b>Данные могут лишь не противоречить ей или, наоборот, показывать крайне маловероятные результаты (при условии, что гипотеза верна). Но и в том, и в другом случае нет оснований утверждать, что выдвинутая гипотеза доказана.\n",
    "Допустим, данные гипотезе не противоречат, тогда мы её не отвергаем. Если же мы приходим к выводу, что получить такие данные в рамках этой гипотезы вряд ли возможно, у нас появляется основание отбросить эту гипотезу.\n",
    "        \n",
    "https://allatambov.github.io/psms/pdf/hypo-test.pdf\n"
   ]
  },
  {
   "cell_type": "markdown",
   "id": "d18fbf15",
   "metadata": {},
   "source": [
    "6.2\n",
    "Нулевая гипотеза: среднее расстояние, которое проезжают пользователи с подпиской за одну поездку равно 3130 метров.\n",
    "Альтернативная гипотеза: среднее расстояние, которое проезжают пользователи с подпиской за одну поездку больше 3130 метров."
   ]
  },
  {
   "cell_type": "markdown",
   "id": "5fee594b",
   "metadata": {},
   "source": [
    "<div class=\"alert alert-da nger\">\n",
    "<font size=\"4\"><b>❌ Комментарий ревьюера в2</b></font>\n",
    "    <br /> \n",
    "    <font size=\"3\", color = \"black\">\n",
    "<br />В данном случае стоит использовать параметр alternative = 'greater'. Поскольку оптимальное расстояние по износу составляет 3130 м, значит большее расстояние приводит к повышенному износу самоката. Следовательно, имеет смысл сформулировать альтернативную гипотезу \"Подписчики в среднем проезжают расстояние больше оптимального\"\n",
    "</div>"
   ]
  },
  {
   "cell_type": "markdown",
   "id": "08130825",
   "metadata": {},
   "source": [
    "<div class=\"alert alert-info\">\n",
    "<b>Комментарий студента:</b>\n",
    "<br> постаралсь исправить\n",
    "</div>"
   ]
  },
  {
   "attachments": {
    "image.png": {
     "image/png": "[encoded data removed]"
    }
   },
   "cell_type": "markdown",
   "id": "36ac786d",
   "metadata": {},
   "source": [
    "<div class=\"alert alert-d anger\">\n",
    "<font size=\"4\"><b>❌ Комментарий ревьюера </b></font>\n",
    "    <br /> \n",
    "    <font size=\"3\", color = \"black\">\n",
    "<br />  Стоит поправить формулировку Н0\n",
    "        \n",
    "        Нулевая гипотеза: среднее расстояние, которое проезжают пользователи с подпиской за одну поездку менее 3130 метров. Альтернативная гипотеза: среднее расстояние, которое проезжают пользователи с подпиской за одну поездку превышает 3130 метров.\n",
    "        \n",
    "![image.png](attachment:image.png)        "
   ]
  },
  {
   "cell_type": "code",
   "execution_count": 61,
   "id": "12d148e8",
   "metadata": {},
   "outputs": [
    {
     "name": "stdout",
     "output_type": "stream",
     "text": [
      "p-значение: 0.9195368847849785\n",
      "Не получилось отвергнуть нулевую гипотезу\n"
     ]
    }
   ],
   "source": [
    "normal = 3130\n",
    "alfa = 0.05\n",
    "\n",
    "results = st.ttest_1samp(\n",
    "    data_ultra['distance'],\n",
    "    normal,\n",
    "      alternative='greater')\n",
    "\n",
    "print('p-значение:', results.pvalue) \n",
    "if (results.pvalue < alpha):\n",
    "    print('Отвергаем нулевую гипотезу')\n",
    "else:\n",
    "    print('Не получилось отвергнуть нулевую гипотезу')\n"
   ]
  },
  {
   "cell_type": "code",
   "execution_count": 62,
   "id": "6aa2afb1",
   "metadata": {},
   "outputs": [
    {
     "data": {
      "text/plain": [
       "count    6500.000000\n",
       "mean     3115.445388\n",
       "std       836.895330\n",
       "min       244.210438\n",
       "25%      2785.444017\n",
       "50%      3148.637229\n",
       "75%      3560.574425\n",
       "max      5699.769662\n",
       "Name: distance, dtype: float64"
      ]
     },
     "execution_count": 62,
     "metadata": {},
     "output_type": "execute_result"
    }
   ],
   "source": [
    "data_ultra['distance'].describe()"
   ]
  },
  {
   "cell_type": "markdown",
   "id": "386bc39c",
   "metadata": {},
   "source": [
    "Проверили гипотезу и так как пользователи с подпиской ultra проезжают не более оптимально расстояния с точки зрения износа самоката мы можем сказать, что эти пользователи выгодны компании, посколько самокаты не изнашиваются сверх нормы "
   ]
  },
  {
   "cell_type": "markdown",
   "id": "0f7cf601",
   "metadata": {},
   "source": [
    "<div class=\"alert alert-dan ger\">\n",
    "<font size=\"4\"><b>❌ Комментарий ревьюера в2</b></font>\n",
    "    <br /> \n",
    "    <font size=\"3\", color = \"black\">\n",
    "<br />\n",
    "        \n",
    "Стоит поправить вывод\n",
    "        \n",
    "        Проверили гипотезу, и мы не можем утверждать, что расстояние, которое проехали пользователи на тарифе ultra не превышает 3130 метров.\n",
    "        \n",
    "[Закон двойного отрицания](https://ru.wikipedia.org/wiki/%D0%97%D0%B0%D0%BA%D0%BE%D0%BD_%D0%B4%D0%B2%D0%BE%D0%B9%D0%BD%D0%BE%D0%B3%D0%BE_%D0%BE%D1%82%D1%80%D0%B8%D1%86%D0%B0%D0%BD%D0%B8%D1%8F)\n",
    "        \n",
    "Логика двойного отрицания превращает твое предложение в \n",
    "        \n",
    "        Проверили гипотезу, и мы можем утверждать, что расстояние, которое проехали пользователи на тарифе ultra превышает 3130 метров."
   ]
  },
  {
   "cell_type": "markdown",
   "id": "2012d4c8",
   "metadata": {},
   "source": [
    "<div class=\"alert alert-info\">\n",
    "<b>Комментарий студента:</b>\n",
    "<br> постаралсь исправить \n",
    "</div>"
   ]
  },
  {
   "cell_type": "markdown",
   "id": "f09928d5",
   "metadata": {},
   "source": [
    "<div class=\"alert alert-d anger\">\n",
    "<font size=\"4\"><b>❌ Комментарий ревьюера</b></font>\n",
    "    <br /> \n",
    "    <font size=\"3\", color = \"black\">\n",
    "<br />\n",
    "        \n",
    "Стоит поправить все выводы, добавить акценты с точки зрения бизнеса"
   ]
  },
  {
   "cell_type": "markdown",
   "id": "c3bf68d0",
   "metadata": {},
   "source": [
    "<div class=\"alert alert-info\">\n",
    "<b>Комментарий студента:</b>\n",
    "<br> исправила\n",
    "</div>"
   ]
  },
  {
   "cell_type": "markdown",
   "id": "5361c98c",
   "metadata": {},
   "source": [
    "6.3\n",
    "Нулевая гипотеза: помесячная выручка от пользователей с подпиской по месяцам равна выручке от пользователей без подписки.\n",
    "Альтернативная гипотеза: помесячная выручка от пользователей с подпиской по месяцам больше, чем выручка от пользователей без подписки."
   ]
  },
  {
   "cell_type": "markdown",
   "id": "12daca0d",
   "metadata": {},
   "source": [
    "<div class=\"alert alert-da nger\">\n",
    "<font size=\"4\"><b>❌ Комментарий ревьюера </b></font>\n",
    "    <br /> \n",
    "    <font size=\"3\", color = \"black\">\n",
    "<br />  Стоит поправить формулировку Н0 \n",
    "        \n",
    "        Нулевая гипотеза: помесячная выручка от пользователей с подпиской по месяцам меньше, чем выручка от пользователей без подписки."
   ]
  },
  {
   "cell_type": "markdown",
   "id": "61a8d4ef",
   "metadata": {},
   "source": [
    "<div class=\"alert alert-info\">\n",
    "<b>Комментарий студента:</b>\n",
    "<br> исправила\n",
    "</div>"
   ]
  },
  {
   "cell_type": "code",
   "execution_count": 63,
   "id": "c80b50f6",
   "metadata": {},
   "outputs": [
    {
     "name": "stdout",
     "output_type": "stream",
     "text": [
      "p-значение: 1.8850394384715216e-31\n",
      "Отвергаем нулевую гипотезу\n"
     ]
    }
   ],
   "source": [
    "alfa = 0.05\n",
    "\n",
    "results = st.ttest_ind(data_sum.loc[data_sum['subscription_type'] == 'ultra']['proceeds'],\\\n",
    "                       data_sum.loc[data_sum['subscription_type'] == 'free']['proceeds'], \\\n",
    "                       alternative = 'greater')\n",
    "\n",
    "print('p-значение:', results.pvalue)\n",
    "\n",
    "if results.pvalue < alpha:\n",
    "    print('Отвергаем нулевую гипотезу')\n",
    "else:\n",
    "    print('Не получилось отвергнуть нулевую гипотезу')"
   ]
  },
  {
   "cell_type": "markdown",
   "id": "cd05866d",
   "metadata": {},
   "source": [
    "<div class=\"alert alert-warning\", style=\"border:solid coral 3px; padding: 20px\">\n",
    "<font size=\"4\"><b>⚠️ Комментарий ревьюера</b></font>\n",
    "    <br /> \n",
    "    <font size=\"3\", color = \"black\">\n",
    "<br />\n",
    "Широкие строки кода рекомендуется делить на всем проекте\n",
    "        \n",
    "<a href=\"https://qastack.ru/programming/53162/how-can-i-do-a-line-break-line-continuation-in-python\">Перенос длинных строк кода</a>. \n",
    "    \n",
    "</div>"
   ]
  },
  {
   "cell_type": "markdown",
   "id": "09931252",
   "metadata": {},
   "source": [
    "<div class=\"alert alert-da nger\">\n",
    "<font size=\"4\"><b>❌ Комментарий ревьюера</b></font>\n",
    "    <br /> \n",
    "    <font size=\"3\", color = \"black\">\n",
    "<br />Если у нас Н1\n",
    "        \n",
    "        Альтернативная гипотеза: помесячная выручка от пользователей с подпиской по месяцам выше, чем выручка от пользователей без подписки.\n",
    "        \n",
    "то по какой причине мы используем доп. параметр —  alternative='less'?\n",
    "        \n",
    "         "
   ]
  },
  {
   "cell_type": "markdown",
   "id": "a4269904",
   "metadata": {},
   "source": [
    "<div class=\"alert alert-dan ger\">\n",
    "<font size=\"4\"><b>❌ Комментарий ревьюера</b></font>\n",
    "    <br /> \n",
    "    <font size=\"3\", color = \"black\">\n",
    "<br />Стоит поправить порядок выборок в стат тесте, он очень важен в случае использования доп. параметра alternative, т.к. мы ищем ответ на вопрос: какое среднее больше или меньше\n",
    "        \n",
    "        data_sum.loc[data_sum['subscription_type'] == 'free']['proceeds'], data_sum.loc[data_sum['subscription_type'] == 'ultra']['proceeds'], alternative = 'less')"
   ]
  },
  {
   "cell_type": "markdown",
   "id": "4fed66a2",
   "metadata": {},
   "source": [
    "<div class=\"alert alert-info\">\n",
    "<b>Комментарий студента:</b>\n",
    "<br> исправила\n",
    "</div>"
   ]
  },
  {
   "cell_type": "code",
   "execution_count": 64,
   "id": "f740da39",
   "metadata": {},
   "outputs": [
    {
     "data": {
      "text/plain": [
       "count    4533.000000\n",
       "mean      362.792191\n",
       "std        88.262737\n",
       "min       223.000000\n",
       "25%       301.000000\n",
       "50%       337.000000\n",
       "75%       409.000000\n",
       "max       955.000000\n",
       "Name: proceeds, dtype: float64"
      ]
     },
     "execution_count": 64,
     "metadata": {},
     "output_type": "execute_result"
    }
   ],
   "source": [
    "data_sum.loc[data_sum['subscription_type'] == 'ultra']['proceeds'].describe()"
   ]
  },
  {
   "cell_type": "code",
   "execution_count": 65,
   "id": "fab445e5",
   "metadata": {},
   "outputs": [
    {
     "data": {
      "text/plain": [
       "count    6798.000000\n",
       "mean      328.641365\n",
       "std       183.868330\n",
       "min        58.000000\n",
       "25%       194.000000\n",
       "50%       274.000000\n",
       "75%       428.000000\n",
       "max      1444.000000\n",
       "Name: proceeds, dtype: float64"
      ]
     },
     "execution_count": 65,
     "metadata": {},
     "output_type": "execute_result"
    }
   ],
   "source": [
    "data_sum.loc[data_sum['subscription_type'] == 'free']['proceeds'].describe()"
   ]
  },
  {
   "cell_type": "markdown",
   "id": "d0666bcc",
   "metadata": {},
   "source": [
    "Проверили гипотезу -  маловероятно, что пользователи с подпиской ультра и без неё приносят компании одинаковую прибыль и в целом у нас появляется основание отбросить эту гипотезу. Исходя из наших данных и проверки гипотезы, предположительно пользователи с подпиской ultra выгоднее для компании "
   ]
  },
  {
   "cell_type": "markdown",
   "id": "f1a36719",
   "metadata": {},
   "source": [
    "<div style>\n",
    "<font size=\"4\"><b></b></font>\n",
    "<font size=\"5\", color = \"black\">\n",
    "👍"
   ]
  },
  {
   "cell_type": "markdown",
   "id": "f2175f32",
   "metadata": {},
   "source": [
    "<div class=\"alert alert-dan ger\">\n",
    "<font size=\"4\"><b>❌ Комментарий ревьюера в2</b></font>\n",
    "    <br /> \n",
    "    <font size=\"3\", color = \"black\">\n",
    "<br /> \n",
    "Стоит подправить все подобные моменты во всех выводах\n",
    "        \n",
    "        Проверили гипотезу, соответственно, мы можем утверждать,\n",
    "\n",
    "<b>Из теории на тренажере</b>\n",
    "        \n",
    "Формулирование двусторонних гипотез. <br>\n",
    "        \n",
    "<b>Никакие экспериментально полученные данные никогда не подтвердят какую-либо гипотезу. Это наше фундаментальное ограничение. </b>Данные могут лишь не противоречить ей или, наоборот, показывать крайне маловероятные результаты (при условии, что гипотеза верна). Но и в том, и в другом случае нет оснований утверждать, что выдвинутая гипотеза доказана.\n",
    "Допустим, данные гипотезе не противоречат, тогда мы её не отвергаем. Если же мы приходим к выводу, что получить такие данные в рамках этой гипотезы вряд ли возможно, у нас появляется основание отбросить эту гипотезу.\n",
    "        \n",
    "https://allatambov.github.io/psms/pdf/hypo-test.pdf\n"
   ]
  },
  {
   "cell_type": "markdown",
   "id": "2f773b3f",
   "metadata": {},
   "source": [
    "<div class=\"alert alert-info\">\n",
    "<b>Комментарий студента:</b>\n",
    "<br> постаралсь исправить \n",
    "</div>"
   ]
  },
  {
   "cell_type": "markdown",
   "id": "74193543",
   "metadata": {},
   "source": [
    "<div class=\"alert alert-dan ger\">\n",
    "<font size=\"4\"><b>❌ Комментарий ревьюера </b></font>\n",
    "    <br /> \n",
    "    <font size=\"3\", color = \"black\">\n",
    "<br />  Стоит поправить вывод\n",
    "        \n",
    "        p-значение: 1.8850394384715216e-31\n",
    "        Отвергаем нулевую гипотезу\n",
    "\n",
    "результат стат теста ⬆⬆⬆        \n",
    "        \n",
    "        У нас не получилось отвергнуть нулевую нулевую гипотезу,"
   ]
  },
  {
   "cell_type": "markdown",
   "id": "024ed244",
   "metadata": {},
   "source": [
    "<div class=\"alert alert-info\">\n",
    "<b>Комментарий студента:</b>\n",
    "<br> исправила\n",
    "</div>"
   ]
  },
  {
   "cell_type": "markdown",
   "id": "5af7868f",
   "metadata": {},
   "source": [
    "6.4\n",
    "Поскольку мы будем иметь дело с двумя зависимыми выборками и будет проверяться гипотеза о равенстве среднего значения генеральной совокупности до и после изменения для проверки этой гипотезы нам бы понадобился тест scipy.stats.ttest_rel. Аргументами были бы наборы данных — парные выборки до и после изменения"
   ]
  },
  {
   "cell_type": "markdown",
   "id": "56fddac2",
   "metadata": {},
   "source": [
    "<div class=\"alert alert-warning\", style=\"border:solid coral 3px; padding: 20px\">\n",
    "<font size=\"4\", color = \"DimGrey\"><b>⚠️ Комментарий ревьюера</b></font>\n",
    "    <br /> \n",
    "    <font size=\"3\", color = \"black\">\n",
    "<br />  Стоит уточнить какую гипотезу будешь проверять: одностороннюю или двустороннюю\n",
    "        \n",
    "Подсказка\n",
    "        \n",
    "        ... Она надеется, что из-за этого количество обращений в техподдержку значимо снизилось. ..."
   ]
  },
  {
   "cell_type": "markdown",
   "id": "5c82c999",
   "metadata": {},
   "source": [
    "**Общий вывод**\n",
    "Для проекта были предоставлены 3 датафрейма, в которых отсутствуют пропуски и практически все типы данных соответствуют содержанию. в ходе проекта мы:\n",
    "Считали данные\n",
    "Сделали предобработку данных\n",
    "Провели исследовательский анализ\n",
    "Объеденили данные\n",
    "Подсчитали выручку\n",
    "Проверили ряд гипотез\n",
    "\n",
    "В ходе проекта мы привели столбец date к типу даты pandas, создали новый столбец с номером месяца на основе столбца date, обработали пропуски и дубликаты. Выяснили, что больше всего пользователей самокатов в городах Пятигорск, Екатеринбург и Ростов на Дону, меньше всего в Москве. Пользователи в возрасте 25 лет +/- больше всего пользуются услугами самокатов. Самое большое расстояние, которое пользователь преодолел за одну поездку - примерно 3000 метро.\n",
    "\n",
    "В ходе визуализации информации о расстоянии и времени поездок для пользователей обеих категорий определили, что средняя дистанция почти одинаковая - 3115 и 3045 метров, а среднее продолжительности также схоже - 18 и 17 минут.Создали датафрейм с агрегированными данными о поездках и нашли суммарное расстояние, количество поездок и суммарное время для каждого пользователя за каждый месяц. Также Добавили столбец с помесячной выручкой для пользователей с подпиской и без.\n",
    "В ходе проекта мы проверили 3 гипотезы:\n",
    "\n",
    "\n",
    "Пользователей, использующих бесплатную подписку больше - 835 человек, что является ~54% от общего числа пользователей. Платную подписку используют 699 пользователей, что соответственно является ~46%.\n",
    "\n",
    "Рекомендую продумать стратегию перевода пользователей на подписку ultra, так как пользователи с платной подпиской приносят прибыли больше и пользуются самокатами чаще, "
   ]
  },
  {
   "cell_type": "markdown",
   "id": "cfd8ff02",
   "metadata": {},
   "source": [
    "<div class=\"alert alert-dan ger\">\n",
    "<font size=\"4\"><b>❌ Комментарий ревьюера</b></font>\n",
    "    <br /> \n",
    "    <font size=\"3\", color = \"black\">\n",
    "<br />Итоговый вывод технически составлен грамотно\n",
    "        \n",
    "стоит перепроверить результаты после исправления всех комментариев, можно добавить  итоговую рекомендацию бизнесу и другие стат показатели по двум группам пользователей\n",
    "        \n",
    "        Исходя из данных можно сказать, что число пользователей с подпиской ultra и без подписки не сильно отличаются.\n",
    "        \n",
    "без подписки пользователей больше почти на 20%, а суммарную выручку они приносят на сколько процентов больше?       \n",
    "        "
   ]
  },
  {
   "cell_type": "markdown",
   "id": "b9cafaee",
   "metadata": {},
   "source": [
    "<div class=\"alert alert-info\">\n",
    "<b>Комментарий студента:</b>\n",
    "<br> исправила\n",
    "</div>"
   ]
  },
  {
   "cell_type": "markdown",
   "id": "d1382629",
   "metadata": {},
   "source": [
    "<div class=\"alert alert-da nger\">\n",
    "<font size=\"4\"><b>❌ Комментарий ревьюера в2</b></font>\n",
    "    <br /> \n",
    "    <font size=\"3\", color = \"black\">\n",
    "<br />Стоит добавить  итоговую рекомендацию бизнесу "
   ]
  },
  {
   "cell_type": "markdown",
   "id": "f30da68f",
   "metadata": {},
   "source": [
    "<div class=\"alert alert-info\">\n",
    "<b>Комментарий студента:</b>\n",
    "<br> постаралась добавить\n",
    "</div>"
   ]
  },
  {
   "cell_type": "markdown",
   "id": "0d74b560",
   "metadata": {},
   "source": [
    "<div class=\"alert alert-success\">\n",
    "<font size=\"5\", color= \"seagreen\"><b>✔️ Комментарий ревьюера</b></font>\n",
    "    <br /> \n",
    "    <font size=\"3\", color = \"black\">\n",
    "<br />   \n",
    "Ты выполнила практически все пункты проекта, молодец! Проведен значительный объем исследования деятельности компании \n",
    "        \n",
    "Критические ❌ комментарии: \n",
    " \n",
    " + добавить название и план проекту  \n",
    " + поправить графики        \n",
    " + проверить размерность таблиц и  пропуски после объединения таблиц\n",
    " + в разделе проверки гипотез поправить формулировки\n",
    " + добавить статистики в промежуточные выводы        \n",
    " + прочие        \n",
    "        \n",
    "Стоит обратить внимание на ⚠️ комментарии...        \n",
    "                \n",
    " \n",
    "Если будут вопросы про мои комментарии - задавай, если какой-то формат взаимодействия не устраивает или есть какие-то другие пожелания - пиши :)\n",
    "\n",
    "<div class=\"alert alert-success\">\n",
    "    <font size=\"5\", color= \"seagreen\"><b>Жду твой проект и твои комментарии 🤝</b></font><br />"
   ]
  },
  {
   "cell_type": "markdown",
   "id": "2ac4ff3b",
   "metadata": {},
   "source": [
    "<div class=\"alert alert-info\">\n",
    "<b>Комментарий студента:</b>\n",
    "<br> Большое спасибо за ревью, оно было самое лучшее за все 3 проекта , которые я делала) очень ценно, что не \n",
    "    просто указываешь на ошибки, а направляешь как их решить, подсказываешь инструменты для решения, это действительно очень круто) И Большое спасибо за все ссылки и материалы, это очень полезно и нужно для меня!\n",
    "</div>"
   ]
  },
  {
   "cell_type": "markdown",
   "id": "1e58a5f8",
   "metadata": {},
   "source": [
    "<div style>\n",
    "<font size=\"4\"><b></b></font>\n",
    "<font size=\"5\", color = \"black\">\n",
    "😉🤝🤝🤝🤝"
   ]
  },
  {
   "cell_type": "markdown",
   "id": "58573a3b",
   "metadata": {},
   "source": [
    "<div style=\"border:solid steelblue 3px; padding: 20px\">\n",
    "<font size=\"4\">🍕<b> Комментарий ревьюера</b></font>\n",
    "<br /> \n",
    "<font size=\"3\", color = \"black\">\n",
    "<br />\n",
    "    \n",
    "[Подробное руководство по группировке и агрегированию с помощью pandas](https://dfedorov.spb.ru/pandas/%D0%9F%D0%BE%D0%B4%D1%80%D0%BE%D0%B1%D0%BD%D0%BE%D0%B5%20%D1%80%D1%83%D0%BA%D0%BE%D0%B2%D0%BE%D0%B4%D1%81%D1%82%D0%B2%D0%BE%20%D0%BF%D0%BE%20%D0%B3%D1%80%D1%83%D0%BF%D0%BF%D0%B8%D1%80%D0%BE%D0%B2%D0%BA%D0%B5%20%D0%B8%20%D0%B0%D0%B3%D1%80%D0%B5%D0%B3%D0%B8%D1%80%D0%BE%D0%B2%D0%B0%D0%BD%D0%B8%D1%8E%20%D1%81%20%D0%BF%D0%BE%D0%BC%D0%BE%D1%89%D1%8C%D1%8E%20pandas.html)    \n",
    "    \n",
    "[Примеры объединения таблиц, общая справка](https://pandas.pydata.org/pandas-docs/stable/user_guide/merging.html)      \n",
    "\n",
    "[Примеры объединения таблиц, Федоров Д.](https://dfedorov.spb.ru/pandas/08.%20%D0%9A%D0%B0%D0%BA%20%D0%BE%D0%B1%D1%8A%D0%B5%D0%B4%D0%B8%D0%BD%D0%B8%D1%82%D1%8C%20%D0%B4%D0%B0%D0%BD%D0%BD%D1%8B%D0%B5%20%D0%B8%D0%B7%20%D0%BD%D0%B5%D1%81%D0%BA%D0%BE%D0%BB%D1%8C%D0%BA%D0%B8%D1%85%20%D1%82%D0%B0%D0%B1%D0%BB%D0%B8%D1%86_.html?ysclid=lklv5hyic8790467123)\n",
    "    \n",
    "    \n",
    "    \n",
    "[Искусство статистики](https://www.mann-ivanov-ferber.ru/books/iskusstvo-statistiki/)\n",
    "        \n",
    "    \n",
    "В помощь — как реализовать интерактивный план проекта вручную, смотри по <a href=\"https://stackoverflow.com/questions/49535664/how-to-hyperlink-in-a-jupyter-notebook/49717704\">ссылке</a>\n",
    "    \n",
    "пара ссылок и по разделам проекта можно будет переходить без пролистывания всего кода, особенно актуально на проектах длина которых >  10 страниц (и там где не установлен плагин TOC)\n",
    "     \n",
    "    \n",
    "[Базовый обзор распределений в статистике](https://qwertybox.ru/articles/242302/)\n",
    "    \n",
    "[Как использовать биномиальное распределение в Python](https://www.codecamp.ru/blog/binomial-distribution-python/?ysclid=lmjbdt49de135513011)       \n",
    "    \n",
    "[Объяснение P-значений и статистической значимости](https://www.codecamp.ru/blog/p-values-statistical-significance/?ysclid=lm88qnc76l397155692)     "
   ]
  },
  {
   "cell_type": "markdown",
   "id": "61213c5e",
   "metadata": {},
   "source": [
    "#### Шаг 7. Распределения"
   ]
  },
  {
   "cell_type": "markdown",
   "id": "efdca7e4",
   "metadata": {},
   "source": [
    "###### Задача 7.1 — декомпозиция\n",
    "\n",
    "+ Отделу маркетинга GoFast поставили задачу: нужно провести акцию с раздачей промокодов на один бесплатный месяц подписки, в рамках которой как минимум 100 существующих клиентов должны продлить эту подписку. \n",
    "\n",
    "+ То есть по завершении периода действия подписки пользователь может либо отказаться от неё, либо продлить, совершив соответствующий платёж. \n",
    "\n",
    "+ Эта акция уже проводилась ранее и по итогу выяснилось, что после бесплатного пробного периода подписку продлевают 10 % пользователей. \n",
    "\n",
    "+ Выясните, какое минимальное количество промокодов нужно разослать, чтобы вероятность не выполнить план была примерно 5 %. \n",
    "\n",
    "+ Подберите параметры распределения, описывающего эту ситуацию, постройте график распределения и сформулируйте ответ на вопрос о количестве промокодов."
   ]
  },
  {
   "cell_type": "markdown",
   "id": "9d7e343e",
   "metadata": {},
   "source": [
    "+ 100 существующих клиентов должны продлить эту подписку.\n",
    " + т.е. мы ищем х - кол-во промокодов, которое мы раздадим, чтобы сохранить 100 клиентов"
   ]
  },
  {
   "cell_type": "markdown",
   "id": "2b3e92a1",
   "metadata": {},
   "source": [
    "+ может либо отказаться от неё, либо продлить\n",
    " + т.е. два исхода"
   ]
  },
  {
   "cell_type": "markdown",
   "id": "52f9ee97",
   "metadata": {},
   "source": [
    "+ подписку продлевают 10 % пользователей\n",
    " + т.е. из кол-ва Х, которое мы найдем и по которому разошлем промокоды, полагаясь на предыдущий опыт, продлят подписку 10%"
   ]
  },
  {
   "cell_type": "markdown",
   "id": "4f5bebf8",
   "metadata": {},
   "source": [
    "+ вероятность не выполнить план была примерно 5 %\n",
    " + т.е. мы должны найти вероятность успеха нашей акции 1-0,05 = 95%\n",
    " + этот план будет иметь свою вероятность исполнения при разном кол-ве Х, т.е. если мы выберем Х = 1000, вероятность успеха будет равна А, при 2000 промокодах, вероятность будет равна В. Но, увеличивая кол-во промокодов, мы увеличиваем трудозатраты ... По этой причине нас устроит вероятность успеха 95%, для которой и предстоит рассчитать кол-во промокодов Х"
   ]
  },
  {
   "cell_type": "markdown",
   "id": "f7ac0ec5",
   "metadata": {},
   "source": [
    "Получается задача делиться на две части\n",
    "\n",
    "+ число положительных исходов должно быть равно 100-ам\n",
    "\n",
    "+ но вероятность такого события должна быть равна 95% \n",
    "\n"
   ]
  },
  {
   "cell_type": "markdown",
   "id": "ab0329b1",
   "metadata": {},
   "source": [
    "Урок\n",
    "\n",
    "Percent Point Function для нормального распределения\n",
    "+ Ранее вы познакомились с функцией распределения, или кумулятивной функцией распределения.\n",
    "\n"
   ]
  },
  {
   "attachments": {
    "image-3.png": {
     "image/png": "[encoded data removed]"
    },
    "image-4.png": {
     "image/png": "[encoded data removed]"
    }
   },
   "cell_type": "markdown",
   "id": "57285e81",
   "metadata": {},
   "source": [
    "![image-3.png](attachment:image-3.png)\n",
    "\n",
    "![image-4.png](attachment:image-4.png)"
   ]
  },
  {
   "cell_type": "markdown",
   "id": "cb071d15",
   "metadata": {},
   "source": [
    "<div class=\"alert alert-success\">\n",
    "<font size=\"4\", color= \"seagreen\"><b>✔️ Комментарий ревьюера </b></font>\n",
    "    <br /> \n",
    "    <font size=\"3\", color = \"black\">\n",
    "<br />меняем norm на binom\n",
    "             \n",
    "        \n",
    "https://www.statology.org/binompdf-vs-binomcdf/        \n",
    "        \n",
    "немного перефразируем известный сайт\n",
    "        \n",
    "    1 - binom.cdf(k, n, p): \n",
    "        \n",
    "Разность ⬆⬆⬆ находит вероятность того, что k успешных попыток или меньше произойдет в течение n испытаний, где вероятность успеха в данном испытании равна p.        "
   ]
  },
  {
   "cell_type": "code",
   "execution_count": 66,
   "id": "45113c6e",
   "metadata": {},
   "outputs": [
    {
     "data": {
      "text/plain": [
       "0.4734009187048347"
      ]
     },
     "execution_count": 66,
     "metadata": {},
     "output_type": "execute_result"
    }
   ],
   "source": [
    "from scipy.stats import binom\n",
    "\n",
    "#calculate binomial probability\n",
    "1 - binom.cdf(k=100, n=1000 , p=0.1)"
   ]
  },
  {
   "cell_type": "markdown",
   "id": "d23bfe07",
   "metadata": {},
   "source": [
    "<div class=\"alert alert-success\">\n",
    "<font size=\"4\", color= \"seagreen\"><b>✔️ Комментарий ревьюера</b></font>\n",
    "    <br /> \n",
    "    <font size=\"3\", color = \"black\">\n",
    "<br />Получается вероятность успеха при раздаче 1000 промокодов, будет равна 47,3%\n",
    "        \n",
    "Остается дотянуть до 95%"
   ]
  },
  {
   "cell_type": "markdown",
   "id": "eaa84b19",
   "metadata": {},
   "source": [
    "#### Бонус"
   ]
  },
  {
   "cell_type": "markdown",
   "id": "3aa823b4",
   "metadata": {},
   "source": [
    "<div class=\"alert alert-success\">\n",
    "<font size=\"4\", color= \"seagreen\"><b>✔️ Комментарий ревьюера в3</b></font>\n",
    "    <br /> \n",
    "    <font size=\"3\", color = \"black\">\n",
    "<br /> Примеры особенности объединения, в т.ч. с параметрами по умолчанию при merge (для справки в join такая же «засада» по характеру, но другая по исполнению)\n",
    "        \n",
    "Использование параметров по умолчанию может привести к потере данных при объединении        \n",
    "     \n",
    "         "
   ]
  },
  {
   "cell_type": "code",
   "execution_count": 67,
   "id": "35ac75d9",
   "metadata": {},
   "outputs": [],
   "source": [
    "dfg1 = pd.DataFrame(\n",
    "    {\n",
    "        \"A\": [\"A0\", \"A1\", \"A2\", \"A3\"],\n",
    "        \"B\": [\"B0\", \"B1\", \"B2\", \"B3\"],\n",
    "        \"C\": [\"C0\", \"C1\", \"C2\", \"C3\"],\n",
    "        \"D\": [\"D0\", \"D1\", \"D2\", \"D3\"],\n",
    "    },\n",
    "    index=[0, 1, 2, 3],\n",
    ")\n",
    "\n",
    "dfr4 = pd.DataFrame(\n",
    "    {\n",
    "        \"B\": [\"B2\", \"B3\", \"B6\", \"B7\"],\n",
    "        \"D\": [\"D2\", \"D3\", \"D6\", \"D7\"],\n",
    "        \"F\": [\"F2\", \"F3\", \"F6\", \"F7\"],\n",
    "    },\n",
    "    index=[2, 3, 6, 7],\n",
    ")"
   ]
  },
  {
   "cell_type": "code",
   "execution_count": 68,
   "id": "91282ad0",
   "metadata": {
    "scrolled": true
   },
   "outputs": [
    {
     "data": {
      "text/html": [
       "<div>\n",
       "<style scoped>\n",
       "    .dataframe tbody tr th:only-of-type {\n",
       "        vertical-align: middle;\n",
       "    }\n",
       "\n",
       "    .dataframe tbody tr th {\n",
       "        vertical-align: top;\n",
       "    }\n",
       "\n",
       "    .dataframe thead th {\n",
       "        text-align: right;\n",
       "    }\n",
       "</style>\n",
       "<table border=\"1\" class=\"dataframe\">\n",
       "  <thead>\n",
       "    <tr style=\"text-align: right;\">\n",
       "      <th></th>\n",
       "      <th>A</th>\n",
       "      <th>B</th>\n",
       "      <th>C</th>\n",
       "      <th>D</th>\n",
       "    </tr>\n",
       "  </thead>\n",
       "  <tbody>\n",
       "    <tr>\n",
       "      <th>0</th>\n",
       "      <td>A0</td>\n",
       "      <td>B0</td>\n",
       "      <td>C0</td>\n",
       "      <td>D0</td>\n",
       "    </tr>\n",
       "    <tr>\n",
       "      <th>1</th>\n",
       "      <td>A1</td>\n",
       "      <td>B1</td>\n",
       "      <td>C1</td>\n",
       "      <td>D1</td>\n",
       "    </tr>\n",
       "    <tr>\n",
       "      <th>2</th>\n",
       "      <td>A2</td>\n",
       "      <td>B2</td>\n",
       "      <td>C2</td>\n",
       "      <td>D2</td>\n",
       "    </tr>\n",
       "    <tr>\n",
       "      <th>3</th>\n",
       "      <td>A3</td>\n",
       "      <td>B3</td>\n",
       "      <td>C3</td>\n",
       "      <td>D3</td>\n",
       "    </tr>\n",
       "  </tbody>\n",
       "</table>\n",
       "</div>"
      ],
      "text/plain": [
       "    A   B   C   D\n",
       "0  A0  B0  C0  D0\n",
       "1  A1  B1  C1  D1\n",
       "2  A2  B2  C2  D2\n",
       "3  A3  B3  C3  D3"
      ]
     },
     "metadata": {},
     "output_type": "display_data"
    },
    {
     "data": {
      "text/html": [
       "<div>\n",
       "<style scoped>\n",
       "    .dataframe tbody tr th:only-of-type {\n",
       "        vertical-align: middle;\n",
       "    }\n",
       "\n",
       "    .dataframe tbody tr th {\n",
       "        vertical-align: top;\n",
       "    }\n",
       "\n",
       "    .dataframe thead th {\n",
       "        text-align: right;\n",
       "    }\n",
       "</style>\n",
       "<table border=\"1\" class=\"dataframe\">\n",
       "  <thead>\n",
       "    <tr style=\"text-align: right;\">\n",
       "      <th></th>\n",
       "      <th>B</th>\n",
       "      <th>D</th>\n",
       "      <th>F</th>\n",
       "    </tr>\n",
       "  </thead>\n",
       "  <tbody>\n",
       "    <tr>\n",
       "      <th>2</th>\n",
       "      <td>B2</td>\n",
       "      <td>D2</td>\n",
       "      <td>F2</td>\n",
       "    </tr>\n",
       "    <tr>\n",
       "      <th>3</th>\n",
       "      <td>B3</td>\n",
       "      <td>D3</td>\n",
       "      <td>F3</td>\n",
       "    </tr>\n",
       "    <tr>\n",
       "      <th>6</th>\n",
       "      <td>B6</td>\n",
       "      <td>D6</td>\n",
       "      <td>F6</td>\n",
       "    </tr>\n",
       "    <tr>\n",
       "      <th>7</th>\n",
       "      <td>B7</td>\n",
       "      <td>D7</td>\n",
       "      <td>F7</td>\n",
       "    </tr>\n",
       "  </tbody>\n",
       "</table>\n",
       "</div>"
      ],
      "text/plain": [
       "    B   D   F\n",
       "2  B2  D2  F2\n",
       "3  B3  D3  F3\n",
       "6  B6  D6  F6\n",
       "7  B7  D7  F7"
      ]
     },
     "metadata": {},
     "output_type": "display_data"
    }
   ],
   "source": [
    "display(dfg1, dfr4)"
   ]
  },
  {
   "cell_type": "code",
   "execution_count": 69,
   "id": "9f818f7c",
   "metadata": {},
   "outputs": [
    {
     "data": {
      "text/html": [
       "<div>\n",
       "<style scoped>\n",
       "    .dataframe tbody tr th:only-of-type {\n",
       "        vertical-align: middle;\n",
       "    }\n",
       "\n",
       "    .dataframe tbody tr th {\n",
       "        vertical-align: top;\n",
       "    }\n",
       "\n",
       "    .dataframe thead th {\n",
       "        text-align: right;\n",
       "    }\n",
       "</style>\n",
       "<table border=\"1\" class=\"dataframe\">\n",
       "  <thead>\n",
       "    <tr style=\"text-align: right;\">\n",
       "      <th></th>\n",
       "      <th>key_0</th>\n",
       "      <th>A</th>\n",
       "      <th>B_x</th>\n",
       "      <th>C</th>\n",
       "      <th>D_x</th>\n",
       "      <th>B_y</th>\n",
       "      <th>D_y</th>\n",
       "      <th>F</th>\n",
       "    </tr>\n",
       "  </thead>\n",
       "  <tbody>\n",
       "    <tr>\n",
       "      <th>0</th>\n",
       "      <td>0</td>\n",
       "      <td>A0</td>\n",
       "      <td>B0</td>\n",
       "      <td>C0</td>\n",
       "      <td>D0</td>\n",
       "      <td>NaN</td>\n",
       "      <td>NaN</td>\n",
       "      <td>NaN</td>\n",
       "    </tr>\n",
       "    <tr>\n",
       "      <th>1</th>\n",
       "      <td>1</td>\n",
       "      <td>A1</td>\n",
       "      <td>B1</td>\n",
       "      <td>C1</td>\n",
       "      <td>D1</td>\n",
       "      <td>NaN</td>\n",
       "      <td>NaN</td>\n",
       "      <td>NaN</td>\n",
       "    </tr>\n",
       "    <tr>\n",
       "      <th>2</th>\n",
       "      <td>2</td>\n",
       "      <td>A2</td>\n",
       "      <td>B2</td>\n",
       "      <td>C2</td>\n",
       "      <td>D2</td>\n",
       "      <td>B2</td>\n",
       "      <td>D2</td>\n",
       "      <td>F2</td>\n",
       "    </tr>\n",
       "    <tr>\n",
       "      <th>3</th>\n",
       "      <td>3</td>\n",
       "      <td>A3</td>\n",
       "      <td>B3</td>\n",
       "      <td>C3</td>\n",
       "      <td>D3</td>\n",
       "      <td>B3</td>\n",
       "      <td>D3</td>\n",
       "      <td>F3</td>\n",
       "    </tr>\n",
       "    <tr>\n",
       "      <th>4</th>\n",
       "      <td>6</td>\n",
       "      <td>NaN</td>\n",
       "      <td>NaN</td>\n",
       "      <td>NaN</td>\n",
       "      <td>NaN</td>\n",
       "      <td>B6</td>\n",
       "      <td>D6</td>\n",
       "      <td>F6</td>\n",
       "    </tr>\n",
       "    <tr>\n",
       "      <th>5</th>\n",
       "      <td>7</td>\n",
       "      <td>NaN</td>\n",
       "      <td>NaN</td>\n",
       "      <td>NaN</td>\n",
       "      <td>NaN</td>\n",
       "      <td>B7</td>\n",
       "      <td>D7</td>\n",
       "      <td>F7</td>\n",
       "    </tr>\n",
       "  </tbody>\n",
       "</table>\n",
       "</div>"
      ],
      "text/plain": [
       "   key_0    A  B_x    C  D_x  B_y  D_y    F\n",
       "0      0   A0   B0   C0   D0  NaN  NaN  NaN\n",
       "1      1   A1   B1   C1   D1  NaN  NaN  NaN\n",
       "2      2   A2   B2   C2   D2   B2   D2   F2\n",
       "3      3   A3   B3   C3   D3   B3   D3   F3\n",
       "4      6  NaN  NaN  NaN  NaN   B6   D6   F6\n",
       "5      7  NaN  NaN  NaN  NaN   B7   D7   F7"
      ]
     },
     "execution_count": 69,
     "metadata": {},
     "output_type": "execute_result"
    }
   ],
   "source": [
    "dfg1.merge(dfr4, left_on=dfg1.index, right_on=dfr4.index, how='outer')"
   ]
  },
  {
   "cell_type": "code",
   "execution_count": 70,
   "id": "7c10fa4e",
   "metadata": {
    "scrolled": true
   },
   "outputs": [
    {
     "data": {
      "text/html": [
       "<div>\n",
       "<style scoped>\n",
       "    .dataframe tbody tr th:only-of-type {\n",
       "        vertical-align: middle;\n",
       "    }\n",
       "\n",
       "    .dataframe tbody tr th {\n",
       "        vertical-align: top;\n",
       "    }\n",
       "\n",
       "    .dataframe thead th {\n",
       "        text-align: right;\n",
       "    }\n",
       "</style>\n",
       "<table border=\"1\" class=\"dataframe\">\n",
       "  <thead>\n",
       "    <tr style=\"text-align: right;\">\n",
       "      <th></th>\n",
       "      <th>A</th>\n",
       "      <th>B</th>\n",
       "      <th>C</th>\n",
       "      <th>D</th>\n",
       "      <th>F</th>\n",
       "    </tr>\n",
       "  </thead>\n",
       "  <tbody>\n",
       "    <tr>\n",
       "      <th>0</th>\n",
       "      <td>A0</td>\n",
       "      <td>B0</td>\n",
       "      <td>C0</td>\n",
       "      <td>D0</td>\n",
       "      <td>NaN</td>\n",
       "    </tr>\n",
       "    <tr>\n",
       "      <th>1</th>\n",
       "      <td>A1</td>\n",
       "      <td>B1</td>\n",
       "      <td>C1</td>\n",
       "      <td>D1</td>\n",
       "      <td>NaN</td>\n",
       "    </tr>\n",
       "    <tr>\n",
       "      <th>2</th>\n",
       "      <td>A2</td>\n",
       "      <td>B2</td>\n",
       "      <td>C2</td>\n",
       "      <td>D2</td>\n",
       "      <td>F2</td>\n",
       "    </tr>\n",
       "    <tr>\n",
       "      <th>3</th>\n",
       "      <td>A3</td>\n",
       "      <td>B3</td>\n",
       "      <td>C3</td>\n",
       "      <td>D3</td>\n",
       "      <td>F3</td>\n",
       "    </tr>\n",
       "    <tr>\n",
       "      <th>4</th>\n",
       "      <td>NaN</td>\n",
       "      <td>B6</td>\n",
       "      <td>NaN</td>\n",
       "      <td>D6</td>\n",
       "      <td>F6</td>\n",
       "    </tr>\n",
       "    <tr>\n",
       "      <th>5</th>\n",
       "      <td>NaN</td>\n",
       "      <td>B7</td>\n",
       "      <td>NaN</td>\n",
       "      <td>D7</td>\n",
       "      <td>F7</td>\n",
       "    </tr>\n",
       "  </tbody>\n",
       "</table>\n",
       "</div>"
      ],
      "text/plain": [
       "     A   B    C   D    F\n",
       "0   A0  B0   C0  D0  NaN\n",
       "1   A1  B1   C1  D1  NaN\n",
       "2   A2  B2   C2  D2   F2\n",
       "3   A3  B3   C3  D3   F3\n",
       "4  NaN  B6  NaN  D6   F6\n",
       "5  NaN  B7  NaN  D7   F7"
      ]
     },
     "execution_count": 70,
     "metadata": {},
     "output_type": "execute_result"
    }
   ],
   "source": [
    "dfg1.merge(dfr4, 'outer')"
   ]
  },
  {
   "cell_type": "code",
   "execution_count": 71,
   "id": "3d737181",
   "metadata": {
    "scrolled": false
   },
   "outputs": [
    {
     "data": {
      "text/html": [
       "<div>\n",
       "<style scoped>\n",
       "    .dataframe tbody tr th:only-of-type {\n",
       "        vertical-align: middle;\n",
       "    }\n",
       "\n",
       "    .dataframe tbody tr th {\n",
       "        vertical-align: top;\n",
       "    }\n",
       "\n",
       "    .dataframe thead th {\n",
       "        text-align: right;\n",
       "    }\n",
       "</style>\n",
       "<table border=\"1\" class=\"dataframe\">\n",
       "  <thead>\n",
       "    <tr style=\"text-align: right;\">\n",
       "      <th></th>\n",
       "      <th>A</th>\n",
       "      <th>B</th>\n",
       "      <th>C</th>\n",
       "      <th>D</th>\n",
       "      <th>F</th>\n",
       "    </tr>\n",
       "  </thead>\n",
       "  <tbody>\n",
       "    <tr>\n",
       "      <th>0</th>\n",
       "      <td>A2</td>\n",
       "      <td>B2</td>\n",
       "      <td>C2</td>\n",
       "      <td>D2</td>\n",
       "      <td>F2</td>\n",
       "    </tr>\n",
       "    <tr>\n",
       "      <th>1</th>\n",
       "      <td>A3</td>\n",
       "      <td>B3</td>\n",
       "      <td>C3</td>\n",
       "      <td>D3</td>\n",
       "      <td>F3</td>\n",
       "    </tr>\n",
       "  </tbody>\n",
       "</table>\n",
       "</div>"
      ],
      "text/plain": [
       "    A   B   C   D   F\n",
       "0  A2  B2  C2  D2  F2\n",
       "1  A3  B3  C3  D3  F3"
      ]
     },
     "execution_count": 71,
     "metadata": {},
     "output_type": "execute_result"
    }
   ],
   "source": [
    "dfg1.merge(dfr4)"
   ]
  },
  {
   "cell_type": "code",
   "execution_count": null,
   "id": "95cd1d51",
   "metadata": {},
   "outputs": [],
   "source": []
  }
 ],
 "metadata": {
  "ExecuteTimeLog": [
   {
    "duration": 41,
    "start_time": "2023-10-24T10:03:06.200Z"
   },
   {
    "duration": 1285,
    "start_time": "2023-10-24T10:03:34.361Z"
   },
   {
    "duration": 191,
    "start_time": "2023-10-24T10:03:35.648Z"
   },
   {
    "duration": 23,
    "start_time": "2023-10-24T10:03:35.840Z"
   },
   {
    "duration": 17,
    "start_time": "2023-10-24T10:04:56.886Z"
   },
   {
    "duration": 13,
    "start_time": "2023-10-24T10:05:32.630Z"
   },
   {
    "duration": 6,
    "start_time": "2023-10-24T10:12:27.231Z"
   },
   {
    "duration": 4,
    "start_time": "2023-10-24T10:13:33.622Z"
   },
   {
    "duration": 14,
    "start_time": "2023-10-24T10:13:44.611Z"
   },
   {
    "duration": 105,
    "start_time": "2023-10-24T10:14:46.284Z"
   },
   {
    "duration": 1161,
    "start_time": "2023-10-24T10:14:54.920Z"
   },
   {
    "duration": 64,
    "start_time": "2023-10-24T10:14:56.083Z"
   },
   {
    "duration": 21,
    "start_time": "2023-10-24T10:14:56.148Z"
   },
   {
    "duration": 21,
    "start_time": "2023-10-24T10:14:56.171Z"
   },
   {
    "duration": 12,
    "start_time": "2023-10-24T10:14:56.193Z"
   },
   {
    "duration": 7,
    "start_time": "2023-10-24T10:14:56.206Z"
   },
   {
    "duration": 59,
    "start_time": "2023-10-24T10:14:56.214Z"
   },
   {
    "duration": 112,
    "start_time": "2023-10-24T10:14:56.275Z"
   },
   {
    "duration": 5,
    "start_time": "2023-10-24T10:15:02.399Z"
   },
   {
    "duration": 6,
    "start_time": "2023-10-24T10:15:18.168Z"
   },
   {
    "duration": 5,
    "start_time": "2023-10-24T10:15:27.967Z"
   },
   {
    "duration": 6,
    "start_time": "2023-10-24T10:16:50.658Z"
   },
   {
    "duration": 3,
    "start_time": "2023-10-24T10:17:39.759Z"
   },
   {
    "duration": 7,
    "start_time": "2023-10-24T10:18:11.500Z"
   },
   {
    "duration": 4,
    "start_time": "2023-10-24T10:18:22.670Z"
   },
   {
    "duration": 8,
    "start_time": "2023-10-24T10:21:08.225Z"
   },
   {
    "duration": 1047,
    "start_time": "2023-10-24T10:21:30.897Z"
   },
   {
    "duration": 74,
    "start_time": "2023-10-24T10:21:31.945Z"
   },
   {
    "duration": 27,
    "start_time": "2023-10-24T10:21:32.021Z"
   },
   {
    "duration": 16,
    "start_time": "2023-10-24T10:21:32.050Z"
   },
   {
    "duration": 13,
    "start_time": "2023-10-24T10:21:32.067Z"
   },
   {
    "duration": 12,
    "start_time": "2023-10-24T10:21:32.082Z"
   },
   {
    "duration": 17,
    "start_time": "2023-10-24T10:21:32.096Z"
   },
   {
    "duration": 28,
    "start_time": "2023-10-24T10:21:32.115Z"
   },
   {
    "duration": 7,
    "start_time": "2023-10-24T10:21:32.145Z"
   },
   {
    "duration": 4,
    "start_time": "2023-10-24T10:21:32.154Z"
   },
   {
    "duration": 29,
    "start_time": "2023-10-24T10:21:32.160Z"
   },
   {
    "duration": 3,
    "start_time": "2023-10-24T10:21:32.190Z"
   },
   {
    "duration": 12,
    "start_time": "2023-10-24T10:21:32.194Z"
   },
   {
    "duration": 5,
    "start_time": "2023-10-24T10:21:32.207Z"
   },
   {
    "duration": 100,
    "start_time": "2023-10-24T10:21:32.213Z"
   },
   {
    "duration": 8,
    "start_time": "2023-10-24T10:21:34.663Z"
   },
   {
    "duration": 6,
    "start_time": "2023-10-24T10:21:59.783Z"
   },
   {
    "duration": 9,
    "start_time": "2023-10-24T10:22:12.670Z"
   },
   {
    "duration": 7,
    "start_time": "2023-10-24T10:22:28.422Z"
   },
   {
    "duration": 8,
    "start_time": "2023-10-24T10:22:35.812Z"
   },
   {
    "duration": 1048,
    "start_time": "2023-10-24T10:22:54.399Z"
   },
   {
    "duration": 66,
    "start_time": "2023-10-24T10:22:55.449Z"
   },
   {
    "duration": 23,
    "start_time": "2023-10-24T10:22:55.516Z"
   },
   {
    "duration": 21,
    "start_time": "2023-10-24T10:22:55.541Z"
   },
   {
    "duration": 87,
    "start_time": "2023-10-24T10:22:55.563Z"
   },
   {
    "duration": 20,
    "start_time": "2023-10-24T10:22:55.652Z"
   },
   {
    "duration": 19,
    "start_time": "2023-10-24T10:22:55.674Z"
   },
   {
    "duration": 7,
    "start_time": "2023-10-24T10:22:55.695Z"
   },
   {
    "duration": 11,
    "start_time": "2023-10-24T10:22:55.704Z"
   },
   {
    "duration": 5,
    "start_time": "2023-10-24T10:22:55.716Z"
   },
   {
    "duration": 21,
    "start_time": "2023-10-24T10:22:55.723Z"
   },
   {
    "duration": 8,
    "start_time": "2023-10-24T10:22:55.745Z"
   },
   {
    "duration": 26,
    "start_time": "2023-10-24T10:22:55.754Z"
   },
   {
    "duration": 18,
    "start_time": "2023-10-24T10:22:55.782Z"
   },
   {
    "duration": 91,
    "start_time": "2023-10-24T10:22:55.801Z"
   },
   {
    "duration": 7,
    "start_time": "2023-10-24T10:23:17.296Z"
   },
   {
    "duration": 7,
    "start_time": "2023-10-24T10:23:31.188Z"
   },
   {
    "duration": 1083,
    "start_time": "2023-10-24T10:23:49.860Z"
   },
   {
    "duration": 65,
    "start_time": "2023-10-24T10:23:50.944Z"
   },
   {
    "duration": 21,
    "start_time": "2023-10-24T10:23:51.011Z"
   },
   {
    "duration": 17,
    "start_time": "2023-10-24T10:23:51.034Z"
   },
   {
    "duration": 13,
    "start_time": "2023-10-24T10:23:51.053Z"
   },
   {
    "duration": 24,
    "start_time": "2023-10-24T10:23:51.067Z"
   },
   {
    "duration": 16,
    "start_time": "2023-10-24T10:23:51.093Z"
   },
   {
    "duration": 6,
    "start_time": "2023-10-24T10:23:51.110Z"
   },
   {
    "duration": 24,
    "start_time": "2023-10-24T10:23:51.117Z"
   },
   {
    "duration": 20,
    "start_time": "2023-10-24T10:23:51.144Z"
   },
   {
    "duration": 7,
    "start_time": "2023-10-24T10:23:51.165Z"
   },
   {
    "duration": 21,
    "start_time": "2023-10-24T10:23:51.174Z"
   },
   {
    "duration": 7,
    "start_time": "2023-10-24T10:23:51.196Z"
   },
   {
    "duration": 4,
    "start_time": "2023-10-24T10:23:51.205Z"
   },
   {
    "duration": 31,
    "start_time": "2023-10-24T10:23:51.210Z"
   },
   {
    "duration": 17,
    "start_time": "2023-10-24T10:27:13.123Z"
   },
   {
    "duration": 14,
    "start_time": "2023-10-24T10:27:20.976Z"
   },
   {
    "duration": 99,
    "start_time": "2023-10-24T10:30:03.831Z"
   },
   {
    "duration": 141,
    "start_time": "2023-10-24T10:30:11.080Z"
   },
   {
    "duration": 12,
    "start_time": "2023-10-24T10:34:20.469Z"
   },
   {
    "duration": 7,
    "start_time": "2023-10-24T10:34:34.838Z"
   },
   {
    "duration": 4,
    "start_time": "2023-10-24T10:34:50.770Z"
   },
   {
    "duration": 4,
    "start_time": "2023-10-24T10:35:11.141Z"
   },
   {
    "duration": 7,
    "start_time": "2023-10-24T10:36:10.938Z"
   },
   {
    "duration": 6,
    "start_time": "2023-10-24T10:36:15.237Z"
   },
   {
    "duration": 8,
    "start_time": "2023-10-24T10:36:47.596Z"
   },
   {
    "duration": 59,
    "start_time": "2023-10-24T10:36:52.009Z"
   },
   {
    "duration": 4,
    "start_time": "2023-10-24T10:40:26.381Z"
   },
   {
    "duration": 117,
    "start_time": "2023-10-24T10:40:39.540Z"
   },
   {
    "duration": 135,
    "start_time": "2023-10-24T10:40:59.979Z"
   },
   {
    "duration": 130,
    "start_time": "2023-10-24T10:41:11.211Z"
   },
   {
    "duration": 134,
    "start_time": "2023-10-24T10:41:36.013Z"
   },
   {
    "duration": 128,
    "start_time": "2023-10-24T10:41:40.757Z"
   },
   {
    "duration": 131,
    "start_time": "2023-10-24T10:41:44.131Z"
   },
   {
    "duration": 1251,
    "start_time": "2023-10-24T10:45:56.373Z"
   },
   {
    "duration": 1168,
    "start_time": "2023-10-24T10:46:25.131Z"
   },
   {
    "duration": 68,
    "start_time": "2023-10-24T10:46:26.301Z"
   },
   {
    "duration": 21,
    "start_time": "2023-10-24T10:46:26.370Z"
   },
   {
    "duration": 17,
    "start_time": "2023-10-24T10:46:26.393Z"
   },
   {
    "duration": 11,
    "start_time": "2023-10-24T10:46:26.412Z"
   },
   {
    "duration": 16,
    "start_time": "2023-10-24T10:46:26.424Z"
   },
   {
    "duration": 12,
    "start_time": "2023-10-24T10:46:26.442Z"
   },
   {
    "duration": 5,
    "start_time": "2023-10-24T10:46:26.455Z"
   },
   {
    "duration": 9,
    "start_time": "2023-10-24T10:46:26.461Z"
   },
   {
    "duration": 7,
    "start_time": "2023-10-24T10:46:26.471Z"
   },
   {
    "duration": 8,
    "start_time": "2023-10-24T10:46:26.480Z"
   },
   {
    "duration": 11,
    "start_time": "2023-10-24T10:46:26.490Z"
   },
   {
    "duration": 6,
    "start_time": "2023-10-24T10:46:26.502Z"
   },
   {
    "duration": 4,
    "start_time": "2023-10-24T10:46:26.539Z"
   },
   {
    "duration": 18,
    "start_time": "2023-10-24T10:46:26.545Z"
   },
   {
    "duration": 29,
    "start_time": "2023-10-24T10:46:26.564Z"
   },
   {
    "duration": 13,
    "start_time": "2023-10-24T10:46:26.594Z"
   },
   {
    "duration": 154,
    "start_time": "2023-10-24T10:46:26.608Z"
   },
   {
    "duration": 5,
    "start_time": "2023-10-24T10:46:26.763Z"
   },
   {
    "duration": 9,
    "start_time": "2023-10-24T10:46:26.769Z"
   },
   {
    "duration": 75,
    "start_time": "2023-10-24T10:46:26.779Z"
   },
   {
    "duration": 133,
    "start_time": "2023-10-24T10:46:26.855Z"
   },
   {
    "duration": 1719,
    "start_time": "2023-10-24T10:46:26.989Z"
   },
   {
    "duration": 203,
    "start_time": "2023-10-24T10:46:33.929Z"
   },
   {
    "duration": 156,
    "start_time": "2023-10-24T10:46:50.574Z"
   },
   {
    "duration": 131,
    "start_time": "2023-10-24T10:48:47.854Z"
   },
   {
    "duration": 153,
    "start_time": "2023-10-24T10:49:10.552Z"
   },
   {
    "duration": 136,
    "start_time": "2023-10-24T10:53:36.751Z"
   },
   {
    "duration": 19,
    "start_time": "2023-10-24T10:54:08.280Z"
   },
   {
    "duration": 5,
    "start_time": "2023-10-24T10:54:37.328Z"
   },
   {
    "duration": 212,
    "start_time": "2023-10-24T10:58:04.490Z"
   },
   {
    "duration": 159,
    "start_time": "2023-10-24T10:58:09.524Z"
   },
   {
    "duration": 176,
    "start_time": "2023-10-24T10:58:12.637Z"
   },
   {
    "duration": 186,
    "start_time": "2023-10-24T10:58:16.271Z"
   },
   {
    "duration": 162,
    "start_time": "2023-10-24T10:58:23.629Z"
   },
   {
    "duration": 136,
    "start_time": "2023-10-24T11:00:49.661Z"
   },
   {
    "duration": 144,
    "start_time": "2023-10-24T11:01:05.857Z"
   },
   {
    "duration": 154,
    "start_time": "2023-10-24T11:04:56.264Z"
   },
   {
    "duration": 129,
    "start_time": "2023-10-24T11:05:48.773Z"
   },
   {
    "duration": 12,
    "start_time": "2023-10-24T11:11:59.179Z"
   },
   {
    "duration": 22,
    "start_time": "2023-10-24T11:12:07.291Z"
   },
   {
    "duration": 21,
    "start_time": "2023-10-24T11:12:30.588Z"
   },
   {
    "duration": 23,
    "start_time": "2023-10-24T11:15:02.850Z"
   },
   {
    "duration": 22,
    "start_time": "2023-10-24T11:15:17.150Z"
   },
   {
    "duration": 26,
    "start_time": "2023-10-24T11:16:46.102Z"
   },
   {
    "duration": 119,
    "start_time": "2023-10-24T11:16:52.682Z"
   },
   {
    "duration": 30,
    "start_time": "2023-10-24T11:16:55.749Z"
   },
   {
    "duration": 7,
    "start_time": "2023-10-24T11:25:27.128Z"
   },
   {
    "duration": 7,
    "start_time": "2023-10-24T11:25:37.310Z"
   },
   {
    "duration": 85,
    "start_time": "2023-10-24T11:25:40.994Z"
   },
   {
    "duration": 1244,
    "start_time": "2023-10-24T11:25:51.740Z"
   },
   {
    "duration": 7,
    "start_time": "2023-10-24T13:26:02.659Z"
   },
   {
    "duration": 9,
    "start_time": "2023-10-24T13:26:24.218Z"
   },
   {
    "duration": 7,
    "start_time": "2023-10-24T13:26:47.452Z"
   },
   {
    "duration": 10,
    "start_time": "2023-10-24T13:26:58.865Z"
   },
   {
    "duration": 7,
    "start_time": "2023-10-24T13:27:04.963Z"
   },
   {
    "duration": 10,
    "start_time": "2023-10-24T13:27:16.827Z"
   },
   {
    "duration": 8,
    "start_time": "2023-10-24T13:27:42.388Z"
   },
   {
    "duration": 1418,
    "start_time": "2023-10-24T13:27:56.859Z"
   },
   {
    "duration": 187,
    "start_time": "2023-10-24T13:27:58.280Z"
   },
   {
    "duration": 30,
    "start_time": "2023-10-24T13:27:58.469Z"
   },
   {
    "duration": 23,
    "start_time": "2023-10-24T13:27:58.501Z"
   },
   {
    "duration": 16,
    "start_time": "2023-10-24T13:27:58.525Z"
   },
   {
    "duration": 31,
    "start_time": "2023-10-24T13:27:58.542Z"
   },
   {
    "duration": 33,
    "start_time": "2023-10-24T13:27:58.575Z"
   },
   {
    "duration": 5,
    "start_time": "2023-10-24T13:27:58.610Z"
   },
   {
    "duration": 43,
    "start_time": "2023-10-24T13:27:58.617Z"
   },
   {
    "duration": 13,
    "start_time": "2023-10-24T13:27:58.662Z"
   },
   {
    "duration": 33,
    "start_time": "2023-10-24T13:27:58.676Z"
   },
   {
    "duration": 34,
    "start_time": "2023-10-24T13:27:58.711Z"
   },
   {
    "duration": 9,
    "start_time": "2023-10-24T13:27:58.747Z"
   },
   {
    "duration": 5,
    "start_time": "2023-10-24T13:27:58.757Z"
   },
   {
    "duration": 21,
    "start_time": "2023-10-24T13:27:58.764Z"
   },
   {
    "duration": 40,
    "start_time": "2023-10-24T13:27:58.787Z"
   },
   {
    "duration": 17,
    "start_time": "2023-10-24T13:27:58.828Z"
   },
   {
    "duration": 200,
    "start_time": "2023-10-24T13:27:58.847Z"
   },
   {
    "duration": 6,
    "start_time": "2023-10-24T13:27:59.049Z"
   },
   {
    "duration": 11,
    "start_time": "2023-10-24T13:27:59.057Z"
   },
   {
    "duration": 89,
    "start_time": "2023-10-24T13:27:59.070Z"
   },
   {
    "duration": 171,
    "start_time": "2023-10-24T13:27:59.161Z"
   },
   {
    "duration": 200,
    "start_time": "2023-10-24T13:27:59.334Z"
   },
   {
    "duration": 199,
    "start_time": "2023-10-24T13:27:59.535Z"
   },
   {
    "duration": 32,
    "start_time": "2023-10-24T13:27:59.736Z"
   },
   {
    "duration": 56,
    "start_time": "2023-10-24T13:27:59.769Z"
   },
   {
    "duration": 27,
    "start_time": "2023-10-24T13:27:59.827Z"
   },
   {
    "duration": 619,
    "start_time": "2023-10-24T13:27:59.857Z"
   },
   {
    "duration": 12,
    "start_time": "2023-10-24T13:28:12.353Z"
   },
   {
    "duration": 667,
    "start_time": "2023-10-24T13:28:13.265Z"
   },
   {
    "duration": 514,
    "start_time": "2023-10-24T13:28:21.745Z"
   },
   {
    "duration": 693,
    "start_time": "2023-10-24T13:28:55.984Z"
   },
   {
    "duration": 525,
    "start_time": "2023-10-24T13:30:52.746Z"
   },
   {
    "duration": 203,
    "start_time": "2023-10-24T13:31:35.531Z"
   },
   {
    "duration": 160,
    "start_time": "2023-10-24T13:31:59.525Z"
   },
   {
    "duration": 169,
    "start_time": "2023-10-24T13:32:05.592Z"
   },
   {
    "duration": 283,
    "start_time": "2023-10-24T13:32:48.398Z"
   },
   {
    "duration": 407,
    "start_time": "2023-10-24T13:33:01.076Z"
   },
   {
    "duration": 304,
    "start_time": "2023-10-24T13:35:20.366Z"
   },
   {
    "duration": 282,
    "start_time": "2023-10-24T13:35:20.971Z"
   },
   {
    "duration": 277,
    "start_time": "2023-10-24T13:35:22.120Z"
   },
   {
    "duration": 270,
    "start_time": "2023-10-24T13:35:22.771Z"
   },
   {
    "duration": 844,
    "start_time": "2023-10-24T13:48:01.619Z"
   },
   {
    "duration": 918,
    "start_time": "2023-10-24T13:48:09.383Z"
   },
   {
    "duration": 167,
    "start_time": "2023-10-24T13:49:33.358Z"
   },
   {
    "duration": 154,
    "start_time": "2023-10-24T13:49:59.935Z"
   },
   {
    "duration": 985,
    "start_time": "2023-10-24T13:51:17.740Z"
   },
   {
    "duration": 25,
    "start_time": "2023-10-24T13:51:48.190Z"
   },
   {
    "duration": 867,
    "start_time": "2023-10-24T13:52:44.397Z"
   },
   {
    "duration": 919,
    "start_time": "2023-10-24T13:53:43.019Z"
   },
   {
    "duration": 872,
    "start_time": "2023-10-24T13:56:12.551Z"
   },
   {
    "duration": 977,
    "start_time": "2023-10-24T13:57:17.244Z"
   },
   {
    "duration": 788,
    "start_time": "2023-10-24T14:03:04.743Z"
   },
   {
    "duration": 823,
    "start_time": "2023-10-24T14:03:16.428Z"
   },
   {
    "duration": 896,
    "start_time": "2023-10-24T14:03:36.573Z"
   },
   {
    "duration": 869,
    "start_time": "2023-10-24T14:03:45.039Z"
   },
   {
    "duration": 820,
    "start_time": "2023-10-24T14:04:29.754Z"
   },
   {
    "duration": 894,
    "start_time": "2023-10-24T14:04:36.630Z"
   },
   {
    "duration": 840,
    "start_time": "2023-10-24T14:06:37.490Z"
   },
   {
    "duration": 806,
    "start_time": "2023-10-24T14:06:49.448Z"
   },
   {
    "duration": 10,
    "start_time": "2023-10-24T14:08:32.204Z"
   },
   {
    "duration": 887,
    "start_time": "2023-10-24T14:08:32.961Z"
   },
   {
    "duration": 8,
    "start_time": "2023-10-24T14:08:39.292Z"
   },
   {
    "duration": 9,
    "start_time": "2023-10-24T14:08:43.073Z"
   },
   {
    "duration": 4,
    "start_time": "2023-10-24T14:08:48.753Z"
   },
   {
    "duration": 866,
    "start_time": "2023-10-24T14:08:51.343Z"
   },
   {
    "duration": 85,
    "start_time": "2023-10-24T14:32:01.292Z"
   },
   {
    "duration": 5,
    "start_time": "2023-10-24T14:32:09.874Z"
   },
   {
    "duration": 179,
    "start_time": "2023-10-24T14:33:17.766Z"
   },
   {
    "duration": 1588,
    "start_time": "2023-10-24T14:33:22.998Z"
   },
   {
    "duration": 3,
    "start_time": "2023-10-24T14:34:50.470Z"
   },
   {
    "duration": 0,
    "start_time": "2023-10-24T14:35:09.705Z"
   },
   {
    "duration": 1185,
    "start_time": "2023-10-24T14:35:14.523Z"
   },
   {
    "duration": 69,
    "start_time": "2023-10-24T14:35:15.710Z"
   },
   {
    "duration": 22,
    "start_time": "2023-10-24T14:35:15.781Z"
   },
   {
    "duration": 27,
    "start_time": "2023-10-24T14:35:15.805Z"
   },
   {
    "duration": 31,
    "start_time": "2023-10-24T14:35:15.834Z"
   },
   {
    "duration": 50,
    "start_time": "2023-10-24T14:35:15.866Z"
   },
   {
    "duration": 31,
    "start_time": "2023-10-24T14:35:15.917Z"
   },
   {
    "duration": 10,
    "start_time": "2023-10-24T14:35:15.950Z"
   },
   {
    "duration": 23,
    "start_time": "2023-10-24T14:35:15.961Z"
   },
   {
    "duration": 12,
    "start_time": "2023-10-24T14:35:15.987Z"
   },
   {
    "duration": 21,
    "start_time": "2023-10-24T14:35:16.000Z"
   },
   {
    "duration": 49,
    "start_time": "2023-10-24T14:35:16.023Z"
   },
   {
    "duration": 43,
    "start_time": "2023-10-24T14:35:16.073Z"
   },
   {
    "duration": 6,
    "start_time": "2023-10-24T14:35:16.117Z"
   },
   {
    "duration": 30,
    "start_time": "2023-10-24T14:35:16.125Z"
   },
   {
    "duration": 72,
    "start_time": "2023-10-24T14:35:16.157Z"
   },
   {
    "duration": 52,
    "start_time": "2023-10-24T14:35:16.232Z"
   },
   {
    "duration": 228,
    "start_time": "2023-10-24T14:35:16.286Z"
   },
   {
    "duration": 6,
    "start_time": "2023-10-24T14:35:16.516Z"
   },
   {
    "duration": 61,
    "start_time": "2023-10-24T14:35:16.524Z"
   },
   {
    "duration": 75,
    "start_time": "2023-10-24T14:35:16.586Z"
   },
   {
    "duration": 184,
    "start_time": "2023-10-24T14:35:16.663Z"
   },
   {
    "duration": 259,
    "start_time": "2023-10-24T14:35:16.849Z"
   },
   {
    "duration": 249,
    "start_time": "2023-10-24T14:35:17.110Z"
   },
   {
    "duration": 22,
    "start_time": "2023-10-24T14:35:17.361Z"
   },
   {
    "duration": 53,
    "start_time": "2023-10-24T14:35:17.385Z"
   },
   {
    "duration": 13,
    "start_time": "2023-10-24T14:35:17.440Z"
   },
   {
    "duration": 279,
    "start_time": "2023-10-24T14:35:17.456Z"
   },
   {
    "duration": 269,
    "start_time": "2023-10-24T14:35:17.737Z"
   },
   {
    "duration": 341,
    "start_time": "2023-10-24T14:35:18.008Z"
   },
   {
    "duration": 277,
    "start_time": "2023-10-24T14:35:18.351Z"
   },
   {
    "duration": 73,
    "start_time": "2023-10-24T14:35:18.630Z"
   },
   {
    "duration": 0,
    "start_time": "2023-10-24T14:35:18.705Z"
   },
   {
    "duration": 0,
    "start_time": "2023-10-24T14:35:18.706Z"
   },
   {
    "duration": 0,
    "start_time": "2023-10-24T14:35:18.707Z"
   },
   {
    "duration": 0,
    "start_time": "2023-10-24T14:35:18.708Z"
   },
   {
    "duration": 103,
    "start_time": "2023-10-24T14:35:23.696Z"
   },
   {
    "duration": 821,
    "start_time": "2023-10-24T14:35:32.064Z"
   },
   {
    "duration": 4,
    "start_time": "2023-10-24T14:35:36.191Z"
   },
   {
    "duration": 16078,
    "start_time": "2023-10-24T14:35:37.165Z"
   },
   {
    "duration": 0,
    "start_time": "2023-10-24T14:35:53.244Z"
   },
   {
    "duration": 5,
    "start_time": "2023-10-24T14:37:31.907Z"
   },
   {
    "duration": 19,
    "start_time": "2023-10-24T14:37:32.591Z"
   },
   {
    "duration": 3,
    "start_time": "2023-10-24T14:39:22.767Z"
   },
   {
    "duration": 25,
    "start_time": "2023-10-24T14:39:23.409Z"
   },
   {
    "duration": 16428,
    "start_time": "2023-10-24T14:39:32.995Z"
   },
   {
    "duration": 0,
    "start_time": "2023-10-24T14:39:49.426Z"
   },
   {
    "duration": 0,
    "start_time": "2023-10-24T14:39:49.427Z"
   },
   {
    "duration": 1191,
    "start_time": "2023-10-24T14:40:00.834Z"
   },
   {
    "duration": 68,
    "start_time": "2023-10-24T14:40:02.027Z"
   },
   {
    "duration": 31,
    "start_time": "2023-10-24T14:40:02.097Z"
   },
   {
    "duration": 107,
    "start_time": "2023-10-24T14:40:02.130Z"
   },
   {
    "duration": 129,
    "start_time": "2023-10-24T14:40:02.240Z"
   },
   {
    "duration": 49,
    "start_time": "2023-10-24T14:40:02.371Z"
   },
   {
    "duration": 65,
    "start_time": "2023-10-24T14:40:02.422Z"
   },
   {
    "duration": 27,
    "start_time": "2023-10-24T14:40:02.489Z"
   },
   {
    "duration": 35,
    "start_time": "2023-10-24T14:40:02.519Z"
   },
   {
    "duration": 36,
    "start_time": "2023-10-24T14:40:02.555Z"
   },
   {
    "duration": 14,
    "start_time": "2023-10-24T14:40:02.593Z"
   },
   {
    "duration": 32,
    "start_time": "2023-10-24T14:40:02.608Z"
   },
   {
    "duration": 27,
    "start_time": "2023-10-24T14:40:02.641Z"
   },
   {
    "duration": 30,
    "start_time": "2023-10-24T14:40:02.671Z"
   },
   {
    "duration": 41,
    "start_time": "2023-10-24T14:40:02.703Z"
   },
   {
    "duration": 42,
    "start_time": "2023-10-24T14:40:02.746Z"
   },
   {
    "duration": 21,
    "start_time": "2023-10-24T14:40:02.790Z"
   },
   {
    "duration": 261,
    "start_time": "2023-10-24T14:40:02.813Z"
   },
   {
    "duration": 7,
    "start_time": "2023-10-24T14:40:03.076Z"
   },
   {
    "duration": 62,
    "start_time": "2023-10-24T14:40:03.085Z"
   },
   {
    "duration": 291,
    "start_time": "2023-10-24T14:40:03.148Z"
   },
   {
    "duration": 197,
    "start_time": "2023-10-24T14:40:03.442Z"
   },
   {
    "duration": 208,
    "start_time": "2023-10-24T14:40:03.640Z"
   },
   {
    "duration": 206,
    "start_time": "2023-10-24T14:40:03.849Z"
   },
   {
    "duration": 23,
    "start_time": "2023-10-24T14:40:04.057Z"
   },
   {
    "duration": 74,
    "start_time": "2023-10-24T14:40:04.081Z"
   },
   {
    "duration": 11,
    "start_time": "2023-10-24T14:40:04.157Z"
   },
   {
    "duration": 269,
    "start_time": "2023-10-24T14:40:04.169Z"
   },
   {
    "duration": 288,
    "start_time": "2023-10-24T14:40:04.440Z"
   },
   {
    "duration": 373,
    "start_time": "2023-10-24T14:40:04.730Z"
   },
   {
    "duration": 279,
    "start_time": "2023-10-24T14:40:05.104Z"
   },
   {
    "duration": 93,
    "start_time": "2023-10-24T14:40:05.384Z"
   },
   {
    "duration": 0,
    "start_time": "2023-10-24T14:40:05.478Z"
   },
   {
    "duration": 0,
    "start_time": "2023-10-24T14:40:05.480Z"
   },
   {
    "duration": 0,
    "start_time": "2023-10-24T14:40:05.481Z"
   },
   {
    "duration": 0,
    "start_time": "2023-10-24T14:40:05.482Z"
   },
   {
    "duration": 0,
    "start_time": "2023-10-24T14:40:05.483Z"
   },
   {
    "duration": 824,
    "start_time": "2023-10-24T14:40:10.630Z"
   },
   {
    "duration": 3,
    "start_time": "2023-10-24T14:40:11.456Z"
   },
   {
    "duration": 4,
    "start_time": "2023-10-24T14:40:16.939Z"
   },
   {
    "duration": 17883,
    "start_time": "2023-10-24T14:40:17.702Z"
   },
   {
    "duration": 0,
    "start_time": "2023-10-24T14:40:35.587Z"
   },
   {
    "duration": 1228,
    "start_time": "2023-10-24T14:41:05.882Z"
   },
   {
    "duration": 0,
    "start_time": "2023-10-24T14:41:07.112Z"
   },
   {
    "duration": 4,
    "start_time": "2023-10-24T14:42:52.207Z"
   },
   {
    "duration": 1245,
    "start_time": "2023-10-24T14:42:52.846Z"
   },
   {
    "duration": 5,
    "start_time": "2023-10-24T14:43:25.408Z"
   },
   {
    "duration": 18,
    "start_time": "2023-10-24T14:43:26.150Z"
   },
   {
    "duration": 16,
    "start_time": "2023-10-24T14:43:27.134Z"
   },
   {
    "duration": 17,
    "start_time": "2023-10-24T14:44:27.385Z"
   },
   {
    "duration": 9,
    "start_time": "2023-10-24T14:44:42.679Z"
   },
   {
    "duration": 24,
    "start_time": "2023-10-24T14:45:42.158Z"
   },
   {
    "duration": 1215,
    "start_time": "2023-10-24T14:47:11.166Z"
   },
   {
    "duration": 68,
    "start_time": "2023-10-24T14:47:12.383Z"
   },
   {
    "duration": 26,
    "start_time": "2023-10-24T14:47:12.452Z"
   },
   {
    "duration": 20,
    "start_time": "2023-10-24T14:47:12.480Z"
   },
   {
    "duration": 13,
    "start_time": "2023-10-24T14:47:12.506Z"
   },
   {
    "duration": 23,
    "start_time": "2023-10-24T14:47:12.521Z"
   },
   {
    "duration": 24,
    "start_time": "2023-10-24T14:47:12.546Z"
   },
   {
    "duration": 6,
    "start_time": "2023-10-24T14:47:12.571Z"
   },
   {
    "duration": 13,
    "start_time": "2023-10-24T14:47:12.578Z"
   },
   {
    "duration": 36,
    "start_time": "2023-10-24T14:47:12.595Z"
   },
   {
    "duration": 19,
    "start_time": "2023-10-24T14:47:12.633Z"
   },
   {
    "duration": 37,
    "start_time": "2023-10-24T14:47:12.654Z"
   },
   {
    "duration": 51,
    "start_time": "2023-10-24T14:47:12.693Z"
   },
   {
    "duration": 6,
    "start_time": "2023-10-24T14:47:12.746Z"
   },
   {
    "duration": 24,
    "start_time": "2023-10-24T14:47:12.754Z"
   },
   {
    "duration": 37,
    "start_time": "2023-10-24T14:47:12.780Z"
   },
   {
    "duration": 19,
    "start_time": "2023-10-24T14:47:12.819Z"
   },
   {
    "duration": 199,
    "start_time": "2023-10-24T14:47:12.839Z"
   },
   {
    "duration": 6,
    "start_time": "2023-10-24T14:47:13.040Z"
   },
   {
    "duration": 51,
    "start_time": "2023-10-24T14:47:13.048Z"
   },
   {
    "duration": 114,
    "start_time": "2023-10-24T14:47:13.100Z"
   },
   {
    "duration": 169,
    "start_time": "2023-10-24T14:47:13.215Z"
   },
   {
    "duration": 200,
    "start_time": "2023-10-24T14:47:13.385Z"
   },
   {
    "duration": 197,
    "start_time": "2023-10-24T14:47:13.587Z"
   },
   {
    "duration": 41,
    "start_time": "2023-10-24T14:47:13.787Z"
   },
   {
    "duration": 38,
    "start_time": "2023-10-24T14:47:13.830Z"
   },
   {
    "duration": 39,
    "start_time": "2023-10-24T14:47:13.870Z"
   },
   {
    "duration": 260,
    "start_time": "2023-10-24T14:47:13.912Z"
   },
   {
    "duration": 261,
    "start_time": "2023-10-24T14:47:14.174Z"
   },
   {
    "duration": 339,
    "start_time": "2023-10-24T14:47:14.437Z"
   },
   {
    "duration": 262,
    "start_time": "2023-10-24T14:47:14.777Z"
   },
   {
    "duration": 102,
    "start_time": "2023-10-24T14:47:15.041Z"
   },
   {
    "duration": 0,
    "start_time": "2023-10-24T14:47:15.144Z"
   },
   {
    "duration": 0,
    "start_time": "2023-10-24T14:47:15.145Z"
   },
   {
    "duration": 0,
    "start_time": "2023-10-24T14:47:15.146Z"
   },
   {
    "duration": 0,
    "start_time": "2023-10-24T14:47:15.147Z"
   },
   {
    "duration": 0,
    "start_time": "2023-10-24T14:47:15.148Z"
   },
   {
    "duration": 846,
    "start_time": "2023-10-24T14:47:34.178Z"
   },
   {
    "duration": 4,
    "start_time": "2023-10-24T14:47:35.407Z"
   },
   {
    "duration": 16617,
    "start_time": "2023-10-24T14:47:38.839Z"
   },
   {
    "duration": 0,
    "start_time": "2023-10-24T14:47:55.458Z"
   },
   {
    "duration": 1298,
    "start_time": "2023-10-24T17:13:23.691Z"
   },
   {
    "duration": 0,
    "start_time": "2023-10-24T17:13:24.991Z"
   },
   {
    "duration": 0,
    "start_time": "2023-10-24T17:13:24.993Z"
   },
   {
    "duration": 22,
    "start_time": "2023-10-24T17:13:41.318Z"
   },
   {
    "duration": 1282,
    "start_time": "2023-10-24T17:13:55.307Z"
   },
   {
    "duration": 20,
    "start_time": "2023-10-24T17:13:56.646Z"
   },
   {
    "duration": 18,
    "start_time": "2023-10-24T17:14:06.097Z"
   },
   {
    "duration": 14,
    "start_time": "2023-10-24T17:15:02.062Z"
   },
   {
    "duration": 17,
    "start_time": "2023-10-24T17:15:02.452Z"
   },
   {
    "duration": 18,
    "start_time": "2023-10-24T17:15:03.022Z"
   },
   {
    "duration": 6,
    "start_time": "2023-10-24T17:37:41.202Z"
   },
   {
    "duration": 4,
    "start_time": "2023-10-24T17:38:11.710Z"
   },
   {
    "duration": 6,
    "start_time": "2023-10-24T17:39:15.774Z"
   },
   {
    "duration": 6,
    "start_time": "2023-10-24T17:40:34.584Z"
   },
   {
    "duration": 6,
    "start_time": "2023-10-24T17:40:42.176Z"
   },
   {
    "duration": 33,
    "start_time": "2023-10-24T17:47:43.334Z"
   },
   {
    "duration": 36,
    "start_time": "2023-10-24T17:47:45.233Z"
   },
   {
    "duration": 55,
    "start_time": "2023-10-24T17:47:58.099Z"
   },
   {
    "duration": 28,
    "start_time": "2023-10-24T17:48:12.979Z"
   },
   {
    "duration": 31,
    "start_time": "2023-10-24T17:48:16.230Z"
   },
   {
    "duration": 30,
    "start_time": "2023-10-24T17:48:16.997Z"
   },
   {
    "duration": 11,
    "start_time": "2023-10-24T17:48:34.836Z"
   },
   {
    "duration": 9,
    "start_time": "2023-10-24T17:49:04.915Z"
   },
   {
    "duration": 6,
    "start_time": "2023-10-24T17:49:07.791Z"
   },
   {
    "duration": 8,
    "start_time": "2023-10-24T17:49:08.759Z"
   },
   {
    "duration": 8,
    "start_time": "2023-10-24T17:49:15.912Z"
   },
   {
    "duration": 52,
    "start_time": "2023-10-25T09:19:26.179Z"
   },
   {
    "duration": 7,
    "start_time": "2023-10-25T09:20:08.933Z"
   },
   {
    "duration": 6,
    "start_time": "2023-10-25T09:21:22.543Z"
   },
   {
    "duration": 1402,
    "start_time": "2023-10-25T09:21:30.107Z"
   },
   {
    "duration": 309,
    "start_time": "2023-10-25T09:21:31.511Z"
   },
   {
    "duration": 23,
    "start_time": "2023-10-25T09:21:31.824Z"
   },
   {
    "duration": 68,
    "start_time": "2023-10-25T09:21:31.849Z"
   },
   {
    "duration": 43,
    "start_time": "2023-10-25T09:21:31.919Z"
   },
   {
    "duration": 25,
    "start_time": "2023-10-25T09:21:31.964Z"
   },
   {
    "duration": 48,
    "start_time": "2023-10-25T09:21:31.990Z"
   },
   {
    "duration": 62,
    "start_time": "2023-10-25T09:21:32.040Z"
   },
   {
    "duration": 26,
    "start_time": "2023-10-25T09:21:32.103Z"
   },
   {
    "duration": 41,
    "start_time": "2023-10-25T09:21:32.130Z"
   },
   {
    "duration": 31,
    "start_time": "2023-10-25T09:21:32.173Z"
   },
   {
    "duration": 49,
    "start_time": "2023-10-25T09:21:32.206Z"
   },
   {
    "duration": 44,
    "start_time": "2023-10-25T09:21:32.258Z"
   },
   {
    "duration": 65,
    "start_time": "2023-10-25T09:21:32.306Z"
   },
   {
    "duration": 53,
    "start_time": "2023-10-25T09:21:32.373Z"
   },
   {
    "duration": 41,
    "start_time": "2023-10-25T09:21:32.428Z"
   },
   {
    "duration": 56,
    "start_time": "2023-10-25T09:21:32.470Z"
   },
   {
    "duration": 196,
    "start_time": "2023-10-25T09:21:32.527Z"
   },
   {
    "duration": 6,
    "start_time": "2023-10-25T09:21:32.724Z"
   },
   {
    "duration": 40,
    "start_time": "2023-10-25T09:21:32.731Z"
   },
   {
    "duration": 137,
    "start_time": "2023-10-25T09:21:32.773Z"
   },
   {
    "duration": 178,
    "start_time": "2023-10-25T09:21:32.912Z"
   },
   {
    "duration": 209,
    "start_time": "2023-10-25T09:21:33.092Z"
   },
   {
    "duration": 206,
    "start_time": "2023-10-25T09:21:33.303Z"
   },
   {
    "duration": 36,
    "start_time": "2023-10-25T09:21:33.511Z"
   },
   {
    "duration": 36,
    "start_time": "2023-10-25T09:21:33.548Z"
   },
   {
    "duration": 12,
    "start_time": "2023-10-25T09:21:33.585Z"
   },
   {
    "duration": 283,
    "start_time": "2023-10-25T09:21:33.598Z"
   },
   {
    "duration": 315,
    "start_time": "2023-10-25T09:21:33.883Z"
   },
   {
    "duration": 358,
    "start_time": "2023-10-25T09:21:34.200Z"
   },
   {
    "duration": 277,
    "start_time": "2023-10-25T09:21:34.560Z"
   },
   {
    "duration": 3,
    "start_time": "2023-10-25T09:21:34.839Z"
   },
   {
    "duration": 901,
    "start_time": "2023-10-25T09:21:34.844Z"
   },
   {
    "duration": 13,
    "start_time": "2023-10-25T09:21:35.747Z"
   },
   {
    "duration": 28,
    "start_time": "2023-10-25T09:21:35.761Z"
   },
   {
    "duration": 32,
    "start_time": "2023-10-25T09:21:35.791Z"
   },
   {
    "duration": 36,
    "start_time": "2023-10-25T09:21:35.825Z"
   },
   {
    "duration": 32,
    "start_time": "2023-10-25T09:21:35.863Z"
   },
   {
    "duration": 18,
    "start_time": "2023-10-25T09:21:35.897Z"
   },
   {
    "duration": 24,
    "start_time": "2023-10-25T09:21:35.916Z"
   },
   {
    "duration": 8,
    "start_time": "2023-10-25T09:23:59.967Z"
   },
   {
    "duration": 6,
    "start_time": "2023-10-25T09:24:34.307Z"
   },
   {
    "duration": 8,
    "start_time": "2023-10-25T09:24:35.259Z"
   },
   {
    "duration": 95,
    "start_time": "2023-10-25T09:29:10.785Z"
   },
   {
    "duration": 10,
    "start_time": "2023-10-25T09:29:58.067Z"
   },
   {
    "duration": 116,
    "start_time": "2023-10-25T09:33:09.708Z"
   },
   {
    "duration": 10,
    "start_time": "2023-10-25T09:33:40.530Z"
   },
   {
    "duration": 10,
    "start_time": "2023-10-25T09:33:55.686Z"
   },
   {
    "duration": 17,
    "start_time": "2023-10-25T09:37:18.359Z"
   },
   {
    "duration": 24,
    "start_time": "2023-10-25T09:37:18.916Z"
   },
   {
    "duration": 101,
    "start_time": "2023-10-25T09:37:42.990Z"
   },
   {
    "duration": 19,
    "start_time": "2023-10-25T09:37:43.656Z"
   },
   {
    "duration": 1192,
    "start_time": "2023-10-25T09:38:53.994Z"
   },
   {
    "duration": 72,
    "start_time": "2023-10-25T09:38:55.188Z"
   },
   {
    "duration": 26,
    "start_time": "2023-10-25T09:38:55.261Z"
   },
   {
    "duration": 19,
    "start_time": "2023-10-25T09:38:55.288Z"
   },
   {
    "duration": 39,
    "start_time": "2023-10-25T09:38:55.310Z"
   },
   {
    "duration": 32,
    "start_time": "2023-10-25T09:38:55.350Z"
   },
   {
    "duration": 32,
    "start_time": "2023-10-25T09:38:55.383Z"
   },
   {
    "duration": 15,
    "start_time": "2023-10-25T09:38:55.416Z"
   },
   {
    "duration": 27,
    "start_time": "2023-10-25T09:38:55.433Z"
   },
   {
    "duration": 18,
    "start_time": "2023-10-25T09:38:55.461Z"
   },
   {
    "duration": 32,
    "start_time": "2023-10-25T09:38:55.480Z"
   },
   {
    "duration": 39,
    "start_time": "2023-10-25T09:38:55.514Z"
   },
   {
    "duration": 18,
    "start_time": "2023-10-25T09:38:55.555Z"
   },
   {
    "duration": 46,
    "start_time": "2023-10-25T09:38:55.576Z"
   },
   {
    "duration": 63,
    "start_time": "2023-10-25T09:38:55.624Z"
   },
   {
    "duration": 57,
    "start_time": "2023-10-25T09:38:55.689Z"
   },
   {
    "duration": 37,
    "start_time": "2023-10-25T09:38:55.751Z"
   },
   {
    "duration": 201,
    "start_time": "2023-10-25T09:38:55.789Z"
   },
   {
    "duration": 6,
    "start_time": "2023-10-25T09:38:55.991Z"
   },
   {
    "duration": 68,
    "start_time": "2023-10-25T09:38:55.998Z"
   },
   {
    "duration": 135,
    "start_time": "2023-10-25T09:38:56.067Z"
   },
   {
    "duration": 179,
    "start_time": "2023-10-25T09:38:56.203Z"
   },
   {
    "duration": 226,
    "start_time": "2023-10-25T09:38:56.384Z"
   },
   {
    "duration": 205,
    "start_time": "2023-10-25T09:38:56.612Z"
   },
   {
    "duration": 37,
    "start_time": "2023-10-25T09:38:56.818Z"
   },
   {
    "duration": 37,
    "start_time": "2023-10-25T09:38:56.857Z"
   },
   {
    "duration": 14,
    "start_time": "2023-10-25T09:38:56.896Z"
   },
   {
    "duration": 301,
    "start_time": "2023-10-25T09:38:56.912Z"
   },
   {
    "duration": 283,
    "start_time": "2023-10-25T09:38:57.214Z"
   },
   {
    "duration": 367,
    "start_time": "2023-10-25T09:38:57.499Z"
   },
   {
    "duration": 290,
    "start_time": "2023-10-25T09:38:57.868Z"
   },
   {
    "duration": 3,
    "start_time": "2023-10-25T09:38:58.160Z"
   },
   {
    "duration": 984,
    "start_time": "2023-10-25T09:38:58.164Z"
   },
   {
    "duration": 12,
    "start_time": "2023-10-25T09:38:59.150Z"
   },
   {
    "duration": 16,
    "start_time": "2023-10-25T09:38:59.164Z"
   },
   {
    "duration": 17,
    "start_time": "2023-10-25T09:38:59.181Z"
   },
   {
    "duration": 5,
    "start_time": "2023-10-25T09:38:59.200Z"
   },
   {
    "duration": 40,
    "start_time": "2023-10-25T09:38:59.207Z"
   },
   {
    "duration": 9,
    "start_time": "2023-10-25T09:38:59.249Z"
   },
   {
    "duration": 17,
    "start_time": "2023-10-25T09:38:59.259Z"
   },
   {
    "duration": 9,
    "start_time": "2023-10-25T09:38:59.280Z"
   },
   {
    "duration": 14,
    "start_time": "2023-10-25T09:38:59.291Z"
   },
   {
    "duration": 44,
    "start_time": "2023-10-25T09:38:59.307Z"
   },
   {
    "duration": 13,
    "start_time": "2023-10-25T09:39:43.392Z"
   },
   {
    "duration": 9,
    "start_time": "2023-10-25T09:39:55.730Z"
   },
   {
    "duration": 12,
    "start_time": "2023-10-25T09:39:56.252Z"
   },
   {
    "duration": 9,
    "start_time": "2023-10-25T09:39:56.904Z"
   },
   {
    "duration": 6,
    "start_time": "2023-10-25T09:48:26.626Z"
   },
   {
    "duration": 5,
    "start_time": "2023-10-25T09:51:40.160Z"
   },
   {
    "duration": 154,
    "start_time": "2023-10-25T09:58:19.011Z"
   },
   {
    "duration": 14,
    "start_time": "2023-10-25T09:58:28.704Z"
   },
   {
    "duration": 15,
    "start_time": "2023-10-25T09:58:44.023Z"
   },
   {
    "duration": 6,
    "start_time": "2023-10-25T10:02:58.901Z"
   },
   {
    "duration": 6,
    "start_time": "2023-10-25T10:09:10.478Z"
   },
   {
    "duration": 7,
    "start_time": "2023-10-25T10:10:33.545Z"
   },
   {
    "duration": 9,
    "start_time": "2023-10-25T10:10:34.434Z"
   },
   {
    "duration": 13,
    "start_time": "2023-10-25T10:21:01.344Z"
   },
   {
    "duration": 12,
    "start_time": "2023-10-25T10:22:13.651Z"
   },
   {
    "duration": 9,
    "start_time": "2023-10-25T10:22:30.085Z"
   },
   {
    "duration": 17,
    "start_time": "2023-10-25T10:23:03.951Z"
   },
   {
    "duration": 10,
    "start_time": "2023-10-25T10:23:09.664Z"
   },
   {
    "duration": 10,
    "start_time": "2023-10-25T10:23:38.464Z"
   },
   {
    "duration": 47,
    "start_time": "2023-10-25T12:58:32.126Z"
   },
   {
    "duration": 1106,
    "start_time": "2023-10-25T12:58:38.871Z"
   },
   {
    "duration": 69,
    "start_time": "2023-10-25T12:58:39.979Z"
   },
   {
    "duration": 22,
    "start_time": "2023-10-25T12:58:40.050Z"
   },
   {
    "duration": 19,
    "start_time": "2023-10-25T12:58:40.075Z"
   },
   {
    "duration": 13,
    "start_time": "2023-10-25T12:58:40.095Z"
   },
   {
    "duration": 8,
    "start_time": "2023-10-25T12:58:40.124Z"
   },
   {
    "duration": 22,
    "start_time": "2023-10-25T12:58:40.134Z"
   },
   {
    "duration": 6,
    "start_time": "2023-10-25T12:58:40.158Z"
   },
   {
    "duration": 10,
    "start_time": "2023-10-25T12:58:40.166Z"
   },
   {
    "duration": 5,
    "start_time": "2023-10-25T12:58:40.179Z"
   },
   {
    "duration": 16,
    "start_time": "2023-10-25T12:58:40.186Z"
   },
   {
    "duration": 29,
    "start_time": "2023-10-25T12:58:40.203Z"
   },
   {
    "duration": 8,
    "start_time": "2023-10-25T12:58:40.233Z"
   },
   {
    "duration": 14,
    "start_time": "2023-10-25T12:58:40.243Z"
   },
   {
    "duration": 17,
    "start_time": "2023-10-25T12:58:40.258Z"
   },
   {
    "duration": 24,
    "start_time": "2023-10-25T12:58:40.276Z"
   },
   {
    "duration": 22,
    "start_time": "2023-10-25T12:58:40.325Z"
   },
   {
    "duration": 180,
    "start_time": "2023-10-25T12:58:40.349Z"
   },
   {
    "duration": 6,
    "start_time": "2023-10-25T12:58:40.531Z"
   },
   {
    "duration": 22,
    "start_time": "2023-10-25T12:58:40.538Z"
   },
   {
    "duration": 118,
    "start_time": "2023-10-25T12:58:40.561Z"
   },
   {
    "duration": 179,
    "start_time": "2023-10-25T12:58:40.681Z"
   },
   {
    "duration": 221,
    "start_time": "2023-10-25T12:58:40.861Z"
   },
   {
    "duration": 196,
    "start_time": "2023-10-25T12:58:41.083Z"
   },
   {
    "duration": 23,
    "start_time": "2023-10-25T12:58:41.280Z"
   },
   {
    "duration": 48,
    "start_time": "2023-10-25T12:58:41.305Z"
   },
   {
    "duration": 10,
    "start_time": "2023-10-25T12:58:41.355Z"
   },
   {
    "duration": 261,
    "start_time": "2023-10-25T12:58:41.368Z"
   },
   {
    "duration": 252,
    "start_time": "2023-10-25T12:58:41.631Z"
   },
   {
    "duration": 349,
    "start_time": "2023-10-25T12:58:41.884Z"
   },
   {
    "duration": 272,
    "start_time": "2023-10-25T12:58:42.235Z"
   },
   {
    "duration": 5,
    "start_time": "2023-10-25T12:58:42.509Z"
   },
   {
    "duration": 772,
    "start_time": "2023-10-25T12:58:42.524Z"
   },
   {
    "duration": 26,
    "start_time": "2023-10-25T12:58:43.298Z"
   },
   {
    "duration": 15,
    "start_time": "2023-10-25T12:58:43.326Z"
   },
   {
    "duration": 17,
    "start_time": "2023-10-25T12:58:43.343Z"
   },
   {
    "duration": 4,
    "start_time": "2023-10-25T12:58:43.362Z"
   },
   {
    "duration": 6,
    "start_time": "2023-10-25T12:58:43.368Z"
   },
   {
    "duration": 10,
    "start_time": "2023-10-25T12:58:43.375Z"
   },
   {
    "duration": 7,
    "start_time": "2023-10-25T12:58:43.386Z"
   },
   {
    "duration": 5,
    "start_time": "2023-10-25T12:58:43.425Z"
   },
   {
    "duration": 12,
    "start_time": "2023-10-25T12:58:43.432Z"
   },
   {
    "duration": 15,
    "start_time": "2023-10-25T12:58:43.446Z"
   },
   {
    "duration": 15,
    "start_time": "2023-10-25T12:58:43.464Z"
   },
   {
    "duration": 11,
    "start_time": "2023-10-25T12:58:43.481Z"
   },
   {
    "duration": 1102,
    "start_time": "2023-10-25T13:20:34.474Z"
   },
   {
    "duration": 70,
    "start_time": "2023-10-25T13:20:35.578Z"
   },
   {
    "duration": 23,
    "start_time": "2023-10-25T13:20:35.649Z"
   },
   {
    "duration": 27,
    "start_time": "2023-10-25T13:20:35.673Z"
   },
   {
    "duration": 22,
    "start_time": "2023-10-25T13:20:35.703Z"
   },
   {
    "duration": 26,
    "start_time": "2023-10-25T13:20:35.727Z"
   },
   {
    "duration": 15,
    "start_time": "2023-10-25T13:20:35.755Z"
   },
   {
    "duration": 6,
    "start_time": "2023-10-25T13:20:35.772Z"
   },
   {
    "duration": 10,
    "start_time": "2023-10-25T13:20:35.780Z"
   },
   {
    "duration": 6,
    "start_time": "2023-10-25T13:20:35.792Z"
   },
   {
    "duration": 26,
    "start_time": "2023-10-25T13:20:35.800Z"
   },
   {
    "duration": 20,
    "start_time": "2023-10-25T13:20:35.828Z"
   },
   {
    "duration": 10,
    "start_time": "2023-10-25T13:20:35.850Z"
   },
   {
    "duration": 9,
    "start_time": "2023-10-25T13:20:35.864Z"
   },
   {
    "duration": 51,
    "start_time": "2023-10-25T13:20:35.875Z"
   },
   {
    "duration": 27,
    "start_time": "2023-10-25T13:20:35.928Z"
   },
   {
    "duration": 42,
    "start_time": "2023-10-25T13:20:35.956Z"
   },
   {
    "duration": 174,
    "start_time": "2023-10-25T13:20:36.000Z"
   },
   {
    "duration": 5,
    "start_time": "2023-10-25T13:20:36.176Z"
   },
   {
    "duration": 16,
    "start_time": "2023-10-25T13:20:36.183Z"
   },
   {
    "duration": 127,
    "start_time": "2023-10-25T13:20:36.200Z"
   },
   {
    "duration": 174,
    "start_time": "2023-10-25T13:20:36.329Z"
   },
   {
    "duration": 202,
    "start_time": "2023-10-25T13:20:36.504Z"
   },
   {
    "duration": 197,
    "start_time": "2023-10-25T13:20:36.708Z"
   },
   {
    "duration": 40,
    "start_time": "2023-10-25T13:20:36.908Z"
   },
   {
    "duration": 159,
    "start_time": "2023-10-25T13:20:36.950Z"
   },
   {
    "duration": 94,
    "start_time": "2023-10-25T13:20:37.111Z"
   },
   {
    "duration": 252,
    "start_time": "2023-10-25T13:20:37.207Z"
   },
   {
    "duration": 270,
    "start_time": "2023-10-25T13:20:37.461Z"
   },
   {
    "duration": 337,
    "start_time": "2023-10-25T13:20:37.733Z"
   },
   {
    "duration": 258,
    "start_time": "2023-10-25T13:20:38.072Z"
   },
   {
    "duration": 4,
    "start_time": "2023-10-25T13:20:38.333Z"
   },
   {
    "duration": 1004,
    "start_time": "2023-10-25T13:20:38.338Z"
   },
   {
    "duration": 13,
    "start_time": "2023-10-25T13:20:39.344Z"
   },
   {
    "duration": 14,
    "start_time": "2023-10-25T13:20:39.358Z"
   },
   {
    "duration": 16,
    "start_time": "2023-10-25T13:20:39.374Z"
   },
   {
    "duration": 33,
    "start_time": "2023-10-25T13:20:39.392Z"
   },
   {
    "duration": 7,
    "start_time": "2023-10-25T13:20:39.427Z"
   },
   {
    "duration": 9,
    "start_time": "2023-10-25T13:20:39.436Z"
   },
   {
    "duration": 19,
    "start_time": "2023-10-25T13:20:39.447Z"
   },
   {
    "duration": 10,
    "start_time": "2023-10-25T13:20:39.470Z"
   },
   {
    "duration": 19,
    "start_time": "2023-10-25T13:20:39.482Z"
   },
   {
    "duration": 26,
    "start_time": "2023-10-25T13:20:39.502Z"
   },
   {
    "duration": 16,
    "start_time": "2023-10-25T13:20:39.530Z"
   },
   {
    "duration": 10,
    "start_time": "2023-10-25T13:20:39.548Z"
   },
   {
    "duration": 5,
    "start_time": "2023-10-25T13:23:12.204Z"
   },
   {
    "duration": 1148,
    "start_time": "2023-10-25T13:25:31.928Z"
   },
   {
    "duration": 75,
    "start_time": "2023-10-25T13:25:33.078Z"
   },
   {
    "duration": 322,
    "start_time": "2023-10-25T13:25:33.155Z"
   },
   {
    "duration": 325,
    "start_time": "2023-10-25T13:25:33.478Z"
   },
   {
    "duration": 321,
    "start_time": "2023-10-25T13:25:33.806Z"
   },
   {
    "duration": 61,
    "start_time": "2023-10-25T13:25:34.129Z"
   },
   {
    "duration": 21,
    "start_time": "2023-10-25T13:25:34.192Z"
   },
   {
    "duration": 6,
    "start_time": "2023-10-25T13:25:34.215Z"
   },
   {
    "duration": 24,
    "start_time": "2023-10-25T13:25:34.223Z"
   },
   {
    "duration": 18,
    "start_time": "2023-10-25T13:25:34.250Z"
   },
   {
    "duration": 11,
    "start_time": "2023-10-25T13:25:34.270Z"
   },
   {
    "duration": 17,
    "start_time": "2023-10-25T13:25:34.283Z"
   },
   {
    "duration": 22,
    "start_time": "2023-10-25T13:25:34.302Z"
   },
   {
    "duration": 5,
    "start_time": "2023-10-25T13:25:34.327Z"
   },
   {
    "duration": 27,
    "start_time": "2023-10-25T13:25:34.334Z"
   },
   {
    "duration": 52,
    "start_time": "2023-10-25T13:25:34.363Z"
   },
   {
    "duration": 16,
    "start_time": "2023-10-25T13:25:34.417Z"
   },
   {
    "duration": 179,
    "start_time": "2023-10-25T13:25:34.434Z"
   },
   {
    "duration": 9,
    "start_time": "2023-10-25T13:25:34.616Z"
   },
   {
    "duration": 14,
    "start_time": "2023-10-25T13:25:34.627Z"
   },
   {
    "duration": 128,
    "start_time": "2023-10-25T13:25:34.642Z"
   },
   {
    "duration": 173,
    "start_time": "2023-10-25T13:25:34.772Z"
   },
   {
    "duration": 201,
    "start_time": "2023-10-25T13:25:34.947Z"
   },
   {
    "duration": 189,
    "start_time": "2023-10-25T13:25:35.150Z"
   },
   {
    "duration": 23,
    "start_time": "2023-10-25T13:25:35.341Z"
   },
   {
    "duration": 35,
    "start_time": "2023-10-25T13:25:35.366Z"
   },
   {
    "duration": 32,
    "start_time": "2023-10-25T13:25:35.402Z"
   },
   {
    "duration": 260,
    "start_time": "2023-10-25T13:25:35.436Z"
   },
   {
    "duration": 334,
    "start_time": "2023-10-25T13:25:35.698Z"
   },
   {
    "duration": 343,
    "start_time": "2023-10-25T13:25:36.034Z"
   },
   {
    "duration": 258,
    "start_time": "2023-10-25T13:25:36.379Z"
   },
   {
    "duration": 3,
    "start_time": "2023-10-25T13:25:36.639Z"
   },
   {
    "duration": 859,
    "start_time": "2023-10-25T13:25:36.643Z"
   },
   {
    "duration": 12,
    "start_time": "2023-10-25T13:25:37.504Z"
   },
   {
    "duration": 20,
    "start_time": "2023-10-25T13:25:37.524Z"
   },
   {
    "duration": 18,
    "start_time": "2023-10-25T13:25:37.546Z"
   },
   {
    "duration": 6,
    "start_time": "2023-10-25T13:25:37.565Z"
   },
   {
    "duration": 6,
    "start_time": "2023-10-25T13:25:37.572Z"
   },
   {
    "duration": 20,
    "start_time": "2023-10-25T13:25:37.579Z"
   },
   {
    "duration": 24,
    "start_time": "2023-10-25T13:25:37.601Z"
   },
   {
    "duration": 5,
    "start_time": "2023-10-25T13:25:37.629Z"
   },
   {
    "duration": 16,
    "start_time": "2023-10-25T13:25:37.635Z"
   },
   {
    "duration": 10,
    "start_time": "2023-10-25T13:25:37.653Z"
   },
   {
    "duration": 16,
    "start_time": "2023-10-25T13:25:37.664Z"
   },
   {
    "duration": 9,
    "start_time": "2023-10-25T13:25:37.682Z"
   },
   {
    "duration": 20,
    "start_time": "2023-10-25T13:25:37.693Z"
   },
   {
    "duration": 58,
    "start_time": "2023-10-25T16:01:44.198Z"
   },
   {
    "duration": 1433,
    "start_time": "2023-10-25T16:03:01.789Z"
   },
   {
    "duration": 550,
    "start_time": "2023-10-25T16:03:03.223Z"
   },
   {
    "duration": 6,
    "start_time": "2023-10-25T16:08:33.648Z"
   },
   {
    "duration": 4,
    "start_time": "2023-10-25T16:08:52.786Z"
   },
   {
    "duration": 48,
    "start_time": "2023-10-27T08:52:31.260Z"
   },
   {
    "duration": 5,
    "start_time": "2023-10-27T08:53:12.145Z"
   },
   {
    "duration": 7,
    "start_time": "2023-10-27T08:53:19.064Z"
   },
   {
    "duration": 1379,
    "start_time": "2023-10-27T08:53:29.999Z"
   },
   {
    "duration": 209,
    "start_time": "2023-10-27T08:53:31.380Z"
   },
   {
    "duration": 28,
    "start_time": "2023-10-27T08:53:31.590Z"
   },
   {
    "duration": 32,
    "start_time": "2023-10-27T08:53:31.620Z"
   },
   {
    "duration": 18,
    "start_time": "2023-10-27T08:53:31.654Z"
   },
   {
    "duration": 44,
    "start_time": "2023-10-27T08:53:31.674Z"
   },
   {
    "duration": 60,
    "start_time": "2023-10-27T08:53:31.720Z"
   },
   {
    "duration": 40,
    "start_time": "2023-10-27T08:53:31.782Z"
   },
   {
    "duration": 40,
    "start_time": "2023-10-27T08:53:31.823Z"
   },
   {
    "duration": 30,
    "start_time": "2023-10-27T08:53:31.865Z"
   },
   {
    "duration": 29,
    "start_time": "2023-10-27T08:53:31.897Z"
   },
   {
    "duration": 25,
    "start_time": "2023-10-27T08:53:31.928Z"
   },
   {
    "duration": 34,
    "start_time": "2023-10-27T08:53:31.955Z"
   },
   {
    "duration": 28,
    "start_time": "2023-10-27T08:53:31.990Z"
   },
   {
    "duration": 9,
    "start_time": "2023-10-27T08:53:32.021Z"
   },
   {
    "duration": 10,
    "start_time": "2023-10-27T08:53:32.032Z"
   },
   {
    "duration": 36,
    "start_time": "2023-10-27T08:53:32.044Z"
   },
   {
    "duration": 22,
    "start_time": "2023-10-27T08:53:32.084Z"
   },
   {
    "duration": 23,
    "start_time": "2023-10-27T08:53:32.108Z"
   },
   {
    "duration": 167,
    "start_time": "2023-10-27T08:53:32.132Z"
   },
   {
    "duration": 6,
    "start_time": "2023-10-27T08:53:32.301Z"
   },
   {
    "duration": 51,
    "start_time": "2023-10-27T08:53:32.309Z"
   },
   {
    "duration": 29,
    "start_time": "2023-10-27T08:53:32.362Z"
   },
   {
    "duration": 125,
    "start_time": "2023-10-27T08:53:32.393Z"
   },
   {
    "duration": 177,
    "start_time": "2023-10-27T08:53:32.523Z"
   },
   {
    "duration": 204,
    "start_time": "2023-10-27T08:53:32.702Z"
   },
   {
    "duration": 197,
    "start_time": "2023-10-27T08:53:32.907Z"
   },
   {
    "duration": 38,
    "start_time": "2023-10-27T08:53:33.109Z"
   },
   {
    "duration": 39,
    "start_time": "2023-10-27T08:53:33.149Z"
   },
   {
    "duration": 41,
    "start_time": "2023-10-27T08:53:33.191Z"
   },
   {
    "duration": 301,
    "start_time": "2023-10-27T08:53:33.234Z"
   },
   {
    "duration": 347,
    "start_time": "2023-10-27T08:53:33.536Z"
   },
   {
    "duration": 275,
    "start_time": "2023-10-27T08:53:33.884Z"
   },
   {
    "duration": 258,
    "start_time": "2023-10-27T08:53:34.160Z"
   },
   {
    "duration": 6,
    "start_time": "2023-10-27T08:53:34.419Z"
   },
   {
    "duration": 886,
    "start_time": "2023-10-27T08:53:34.427Z"
   },
   {
    "duration": 17,
    "start_time": "2023-10-27T08:53:35.315Z"
   },
   {
    "duration": 13,
    "start_time": "2023-10-27T08:53:35.333Z"
   },
   {
    "duration": 17,
    "start_time": "2023-10-27T08:53:35.347Z"
   },
   {
    "duration": 30,
    "start_time": "2023-10-27T08:53:35.365Z"
   },
   {
    "duration": 6,
    "start_time": "2023-10-27T08:53:35.397Z"
   },
   {
    "duration": 9,
    "start_time": "2023-10-27T08:53:35.405Z"
   },
   {
    "duration": 8,
    "start_time": "2023-10-27T08:53:35.424Z"
   },
   {
    "duration": 9,
    "start_time": "2023-10-27T08:53:35.434Z"
   },
   {
    "duration": 20,
    "start_time": "2023-10-27T08:53:35.445Z"
   },
   {
    "duration": 9,
    "start_time": "2023-10-27T08:53:35.467Z"
   },
   {
    "duration": 11,
    "start_time": "2023-10-27T08:53:35.478Z"
   },
   {
    "duration": 9,
    "start_time": "2023-10-27T08:53:35.490Z"
   },
   {
    "duration": 5,
    "start_time": "2023-10-27T08:53:35.524Z"
   },
   {
    "duration": 4,
    "start_time": "2023-10-27T08:58:05.634Z"
   },
   {
    "duration": 9,
    "start_time": "2023-10-27T08:58:13.376Z"
   },
   {
    "duration": 116,
    "start_time": "2023-10-27T08:59:14.780Z"
   },
   {
    "duration": 10,
    "start_time": "2023-10-27T09:00:53.709Z"
   },
   {
    "duration": 9,
    "start_time": "2023-10-27T09:01:09.132Z"
   },
   {
    "duration": 9,
    "start_time": "2023-10-27T09:01:29.660Z"
   },
   {
    "duration": 9,
    "start_time": "2023-10-27T09:02:34.531Z"
   },
   {
    "duration": 118,
    "start_time": "2023-10-27T09:02:59.995Z"
   },
   {
    "duration": 9,
    "start_time": "2023-10-27T09:04:34.420Z"
   },
   {
    "duration": 10,
    "start_time": "2023-10-27T09:04:50.083Z"
   },
   {
    "duration": 10,
    "start_time": "2023-10-27T09:04:58.611Z"
   },
   {
    "duration": 8,
    "start_time": "2023-10-27T09:05:27.803Z"
   },
   {
    "duration": 88,
    "start_time": "2023-10-27T09:05:34.711Z"
   },
   {
    "duration": 9,
    "start_time": "2023-10-27T09:05:39.359Z"
   },
   {
    "duration": 134,
    "start_time": "2023-10-27T09:05:47.259Z"
   },
   {
    "duration": 124,
    "start_time": "2023-10-27T09:05:52.413Z"
   },
   {
    "duration": 10,
    "start_time": "2023-10-27T09:06:08.801Z"
   },
   {
    "duration": 89,
    "start_time": "2023-10-27T09:07:56.885Z"
   },
   {
    "duration": 88,
    "start_time": "2023-10-27T09:08:27.882Z"
   },
   {
    "duration": 10,
    "start_time": "2023-10-27T09:09:08.425Z"
   },
   {
    "duration": 7,
    "start_time": "2023-10-27T09:10:56.224Z"
   },
   {
    "duration": 10,
    "start_time": "2023-10-27T09:11:04.661Z"
   },
   {
    "duration": 10,
    "start_time": "2023-10-27T09:11:11.385Z"
   },
   {
    "duration": 10,
    "start_time": "2023-10-27T09:11:49.544Z"
   },
   {
    "duration": 10,
    "start_time": "2023-10-27T09:12:01.655Z"
   },
   {
    "duration": 11,
    "start_time": "2023-10-27T09:12:10.821Z"
   },
   {
    "duration": 186,
    "start_time": "2023-10-27T09:14:05.331Z"
   },
   {
    "duration": 70,
    "start_time": "2023-10-27T09:17:25.664Z"
   },
   {
    "duration": 75,
    "start_time": "2023-10-27T09:18:17.511Z"
   },
   {
    "duration": 269,
    "start_time": "2023-10-27T09:18:54.473Z"
   },
   {
    "duration": 193,
    "start_time": "2023-10-27T09:24:20.688Z"
   },
   {
    "duration": 68,
    "start_time": "2023-10-27T09:24:28.896Z"
   },
   {
    "duration": 162,
    "start_time": "2023-10-27T09:24:38.295Z"
   },
   {
    "duration": 158,
    "start_time": "2023-10-27T09:24:49.801Z"
   },
   {
    "duration": 148,
    "start_time": "2023-10-27T09:24:55.404Z"
   },
   {
    "duration": 64,
    "start_time": "2023-10-27T09:25:03.972Z"
   },
   {
    "duration": 66,
    "start_time": "2023-10-27T09:25:08.873Z"
   },
   {
    "duration": 4,
    "start_time": "2023-10-27T09:35:23.995Z"
   },
   {
    "duration": 8,
    "start_time": "2023-10-27T09:35:42.614Z"
   },
   {
    "duration": 4,
    "start_time": "2023-10-27T09:35:45.460Z"
   },
   {
    "duration": 4,
    "start_time": "2023-10-27T09:35:57.339Z"
   },
   {
    "duration": 8,
    "start_time": "2023-10-27T09:51:43.248Z"
   },
   {
    "duration": 8,
    "start_time": "2023-10-27T09:51:53.691Z"
   },
   {
    "duration": 6,
    "start_time": "2023-10-27T09:52:21.409Z"
   },
   {
    "duration": 8,
    "start_time": "2023-10-27T09:52:27.897Z"
   },
   {
    "duration": 4,
    "start_time": "2023-10-27T09:52:57.915Z"
   },
   {
    "duration": 5,
    "start_time": "2023-10-27T09:53:08.923Z"
   },
   {
    "duration": 9,
    "start_time": "2023-10-27T09:53:27.008Z"
   },
   {
    "duration": 5,
    "start_time": "2023-10-27T09:53:42.706Z"
   },
   {
    "duration": 4,
    "start_time": "2023-10-27T09:53:59.386Z"
   },
   {
    "duration": 8,
    "start_time": "2023-10-27T09:54:10.304Z"
   },
   {
    "duration": 4,
    "start_time": "2023-10-27T09:54:18.010Z"
   },
   {
    "duration": 6,
    "start_time": "2023-10-27T09:54:24.587Z"
   },
   {
    "duration": 8,
    "start_time": "2023-10-27T09:54:38.654Z"
   },
   {
    "duration": 9,
    "start_time": "2023-10-27T09:56:03.973Z"
   },
   {
    "duration": 4,
    "start_time": "2023-10-27T09:56:10.018Z"
   },
   {
    "duration": 5,
    "start_time": "2023-10-27T09:56:13.414Z"
   },
   {
    "duration": 6,
    "start_time": "2023-10-27T09:56:17.048Z"
   },
   {
    "duration": 8,
    "start_time": "2023-10-27T09:56:37.204Z"
   },
   {
    "duration": 8,
    "start_time": "2023-10-27T09:56:42.545Z"
   },
   {
    "duration": 9,
    "start_time": "2023-10-27T09:56:44.770Z"
   },
   {
    "duration": 9,
    "start_time": "2023-10-27T09:56:49.623Z"
   },
   {
    "duration": 10,
    "start_time": "2023-10-27T09:57:15.667Z"
   },
   {
    "duration": 7,
    "start_time": "2023-10-27T09:57:37.731Z"
   },
   {
    "duration": 4,
    "start_time": "2023-10-27T09:58:01.706Z"
   },
   {
    "duration": 10,
    "start_time": "2023-10-27T09:58:17.161Z"
   },
   {
    "duration": 3,
    "start_time": "2023-10-27T10:01:25.132Z"
   },
   {
    "duration": 9,
    "start_time": "2023-10-27T10:01:39.103Z"
   },
   {
    "duration": 4,
    "start_time": "2023-10-27T10:02:25.228Z"
   },
   {
    "duration": 12,
    "start_time": "2023-10-27T10:02:35.039Z"
   },
   {
    "duration": 12,
    "start_time": "2023-10-27T10:02:56.572Z"
   },
   {
    "duration": 3,
    "start_time": "2023-10-27T10:03:09.021Z"
   },
   {
    "duration": 3,
    "start_time": "2023-10-27T10:03:11.312Z"
   },
   {
    "duration": 5,
    "start_time": "2023-10-27T10:03:14.395Z"
   },
   {
    "duration": 107,
    "start_time": "2023-10-27T10:03:50.431Z"
   },
   {
    "duration": 121,
    "start_time": "2023-10-27T10:03:55.743Z"
   },
   {
    "duration": 142,
    "start_time": "2023-10-27T10:04:02.574Z"
   },
   {
    "duration": 25,
    "start_time": "2023-10-27T10:04:06.814Z"
   },
   {
    "duration": 9,
    "start_time": "2023-10-27T10:04:17.109Z"
   },
   {
    "duration": 10,
    "start_time": "2023-10-27T10:05:04.479Z"
   },
   {
    "duration": 19,
    "start_time": "2023-10-27T10:05:15.504Z"
   },
   {
    "duration": 4,
    "start_time": "2023-10-27T10:07:03.880Z"
   },
   {
    "duration": 4,
    "start_time": "2023-10-27T10:07:13.653Z"
   },
   {
    "duration": 11,
    "start_time": "2023-10-27T10:07:42.582Z"
   },
   {
    "duration": 4,
    "start_time": "2023-10-27T10:10:14.514Z"
   },
   {
    "duration": 4,
    "start_time": "2023-10-27T10:10:30.795Z"
   },
   {
    "duration": 3,
    "start_time": "2023-10-27T10:10:42.560Z"
   },
   {
    "duration": 4,
    "start_time": "2023-10-27T10:11:14.078Z"
   },
   {
    "duration": 5,
    "start_time": "2023-10-27T10:11:21.470Z"
   },
   {
    "duration": 8,
    "start_time": "2023-10-27T10:12:01.497Z"
   },
   {
    "duration": 8,
    "start_time": "2023-10-27T10:12:23.770Z"
   },
   {
    "duration": 9,
    "start_time": "2023-10-27T10:12:27.567Z"
   },
   {
    "duration": 363,
    "start_time": "2023-10-27T10:32:53.242Z"
   },
   {
    "duration": 357,
    "start_time": "2023-10-27T10:33:03.791Z"
   },
   {
    "duration": 519,
    "start_time": "2023-10-27T10:36:42.569Z"
   },
   {
    "duration": 600,
    "start_time": "2023-10-27T10:37:08.151Z"
   },
   {
    "duration": 701,
    "start_time": "2023-10-27T10:37:14.501Z"
   },
   {
    "duration": 519,
    "start_time": "2023-10-27T10:37:20.668Z"
   },
   {
    "duration": 553,
    "start_time": "2023-10-27T10:37:28.540Z"
   },
   {
    "duration": 779,
    "start_time": "2023-10-27T10:37:38.327Z"
   },
   {
    "duration": 552,
    "start_time": "2023-10-27T10:37:47.520Z"
   },
   {
    "duration": 655,
    "start_time": "2023-10-27T10:39:47.110Z"
   },
   {
    "duration": 785,
    "start_time": "2023-10-27T10:41:04.810Z"
   },
   {
    "duration": 566,
    "start_time": "2023-10-27T10:41:11.653Z"
   },
   {
    "duration": 530,
    "start_time": "2023-10-27T10:46:10.822Z"
   },
   {
    "duration": 724,
    "start_time": "2023-10-27T10:46:34.902Z"
   },
   {
    "duration": 116,
    "start_time": "2023-10-27T10:50:49.282Z"
   },
   {
    "duration": 9,
    "start_time": "2023-10-27T10:50:53.261Z"
   },
   {
    "duration": 8,
    "start_time": "2023-10-27T10:51:14.052Z"
   },
   {
    "duration": 8,
    "start_time": "2023-10-27T10:51:33.534Z"
   },
   {
    "duration": 9,
    "start_time": "2023-10-27T10:51:45.660Z"
   },
   {
    "duration": 1028,
    "start_time": "2023-10-27T10:52:45.325Z"
   },
   {
    "duration": 7,
    "start_time": "2023-10-27T10:53:14.015Z"
   },
   {
    "duration": 5,
    "start_time": "2023-10-27T10:57:53.115Z"
   },
   {
    "duration": 7,
    "start_time": "2023-10-27T10:58:15.607Z"
   },
   {
    "duration": 174,
    "start_time": "2023-10-27T10:58:55.508Z"
   },
   {
    "duration": 6,
    "start_time": "2023-10-27T11:01:55.322Z"
   },
   {
    "duration": 6,
    "start_time": "2023-10-27T11:10:54.175Z"
   },
   {
    "duration": 9,
    "start_time": "2023-10-27T11:12:13.527Z"
   },
   {
    "duration": 12,
    "start_time": "2023-10-27T11:12:19.952Z"
   },
   {
    "duration": 6,
    "start_time": "2023-10-27T11:12:38.910Z"
   },
   {
    "duration": 6,
    "start_time": "2023-10-27T11:13:36.961Z"
   },
   {
    "duration": 8,
    "start_time": "2023-10-27T11:14:08.086Z"
   },
   {
    "duration": 5,
    "start_time": "2023-10-27T11:16:09.642Z"
   },
   {
    "duration": 7,
    "start_time": "2023-10-27T11:16:43.239Z"
   },
   {
    "duration": 5,
    "start_time": "2023-10-27T11:18:17.013Z"
   },
   {
    "duration": 5,
    "start_time": "2023-10-27T11:19:44.822Z"
   },
   {
    "duration": 7,
    "start_time": "2023-10-27T11:19:50.370Z"
   },
   {
    "duration": 6,
    "start_time": "2023-10-27T11:28:00.611Z"
   },
   {
    "duration": 2663,
    "start_time": "2023-10-27T11:30:09.041Z"
   },
   {
    "duration": 2090,
    "start_time": "2023-10-27T11:30:40.376Z"
   },
   {
    "duration": 10,
    "start_time": "2023-10-27T11:32:58.947Z"
   },
   {
    "duration": 2683,
    "start_time": "2023-10-27T11:33:42.965Z"
   },
   {
    "duration": 1101,
    "start_time": "2023-10-27T11:34:34.762Z"
   },
   {
    "duration": 81,
    "start_time": "2023-10-27T11:34:35.866Z"
   },
   {
    "duration": 31,
    "start_time": "2023-10-27T11:34:35.949Z"
   },
   {
    "duration": 23,
    "start_time": "2023-10-27T11:34:35.983Z"
   },
   {
    "duration": 33,
    "start_time": "2023-10-27T11:34:36.007Z"
   },
   {
    "duration": 15,
    "start_time": "2023-10-27T11:34:36.042Z"
   },
   {
    "duration": 21,
    "start_time": "2023-10-27T11:34:36.059Z"
   },
   {
    "duration": 5,
    "start_time": "2023-10-27T11:34:36.082Z"
   },
   {
    "duration": 36,
    "start_time": "2023-10-27T11:34:36.089Z"
   },
   {
    "duration": 6,
    "start_time": "2023-10-27T11:34:36.128Z"
   },
   {
    "duration": 9,
    "start_time": "2023-10-27T11:34:36.135Z"
   },
   {
    "duration": 6,
    "start_time": "2023-10-27T11:34:36.146Z"
   },
   {
    "duration": 7,
    "start_time": "2023-10-27T11:34:36.154Z"
   },
   {
    "duration": 15,
    "start_time": "2023-10-27T11:34:36.163Z"
   },
   {
    "duration": 45,
    "start_time": "2023-10-27T11:34:36.180Z"
   },
   {
    "duration": 6,
    "start_time": "2023-10-27T11:34:36.227Z"
   },
   {
    "duration": 16,
    "start_time": "2023-10-27T11:34:36.235Z"
   },
   {
    "duration": 26,
    "start_time": "2023-10-27T11:34:36.253Z"
   },
   {
    "duration": 47,
    "start_time": "2023-10-27T11:34:36.281Z"
   },
   {
    "duration": 176,
    "start_time": "2023-10-27T11:34:36.330Z"
   },
   {
    "duration": 22,
    "start_time": "2023-10-27T11:34:36.508Z"
   },
   {
    "duration": 6,
    "start_time": "2023-10-27T11:34:36.532Z"
   },
   {
    "duration": 28,
    "start_time": "2023-10-27T11:34:36.539Z"
   },
   {
    "duration": 79,
    "start_time": "2023-10-27T11:34:36.569Z"
   },
   {
    "duration": 181,
    "start_time": "2023-10-27T11:34:36.650Z"
   },
   {
    "duration": 193,
    "start_time": "2023-10-27T11:34:36.833Z"
   },
   {
    "duration": 196,
    "start_time": "2023-10-27T11:34:37.027Z"
   },
   {
    "duration": 24,
    "start_time": "2023-10-27T11:34:37.229Z"
   },
   {
    "duration": 40,
    "start_time": "2023-10-27T11:34:37.255Z"
   },
   {
    "duration": 27,
    "start_time": "2023-10-27T11:34:37.297Z"
   },
   {
    "duration": 3,
    "start_time": "2023-10-27T11:34:37.326Z"
   },
   {
    "duration": 26,
    "start_time": "2023-10-27T11:34:37.331Z"
   },
   {
    "duration": 33,
    "start_time": "2023-10-27T11:34:37.358Z"
   },
   {
    "duration": 13,
    "start_time": "2023-10-27T11:34:37.393Z"
   },
   {
    "duration": 11,
    "start_time": "2023-10-27T11:34:37.407Z"
   },
   {
    "duration": 14,
    "start_time": "2023-10-27T11:34:37.419Z"
   },
   {
    "duration": 18,
    "start_time": "2023-10-27T11:34:37.435Z"
   },
   {
    "duration": 25,
    "start_time": "2023-10-27T11:34:37.455Z"
   },
   {
    "duration": 20,
    "start_time": "2023-10-27T11:34:37.482Z"
   },
   {
    "duration": 581,
    "start_time": "2023-10-27T11:34:37.504Z"
   },
   {
    "duration": 10,
    "start_time": "2023-10-27T11:34:38.087Z"
   },
   {
    "duration": 29,
    "start_time": "2023-10-27T11:34:38.099Z"
   },
   {
    "duration": 506,
    "start_time": "2023-10-27T11:34:38.130Z"
   },
   {
    "duration": 9,
    "start_time": "2023-10-27T11:34:38.638Z"
   },
   {
    "duration": 12,
    "start_time": "2023-10-27T11:34:38.648Z"
   },
   {
    "duration": 4,
    "start_time": "2023-10-27T11:34:38.662Z"
   },
   {
    "duration": 793,
    "start_time": "2023-10-27T11:34:38.667Z"
   },
   {
    "duration": 7,
    "start_time": "2023-10-27T11:34:39.462Z"
   },
   {
    "duration": 13,
    "start_time": "2023-10-27T11:34:39.471Z"
   },
   {
    "duration": 14,
    "start_time": "2023-10-27T11:34:39.485Z"
   },
   {
    "duration": 40,
    "start_time": "2023-10-27T11:34:39.500Z"
   },
   {
    "duration": 24,
    "start_time": "2023-10-27T11:34:39.541Z"
   },
   {
    "duration": 11,
    "start_time": "2023-10-27T11:34:39.567Z"
   },
   {
    "duration": 9,
    "start_time": "2023-10-27T11:34:39.579Z"
   },
   {
    "duration": 7,
    "start_time": "2023-10-27T11:34:39.590Z"
   },
   {
    "duration": 20,
    "start_time": "2023-10-27T11:34:39.598Z"
   },
   {
    "duration": 8,
    "start_time": "2023-10-27T11:34:39.620Z"
   },
   {
    "duration": 10,
    "start_time": "2023-10-27T11:34:39.629Z"
   },
   {
    "duration": 9,
    "start_time": "2023-10-27T11:34:39.640Z"
   },
   {
    "duration": 9,
    "start_time": "2023-10-27T11:34:39.651Z"
   },
   {
    "duration": 9,
    "start_time": "2023-10-27T11:34:39.662Z"
   },
   {
    "duration": 10,
    "start_time": "2023-10-27T11:35:30.327Z"
   },
   {
    "duration": 3,
    "start_time": "2023-10-27T11:43:18.261Z"
   },
   {
    "duration": 105,
    "start_time": "2023-10-27T11:43:56.419Z"
   },
   {
    "duration": 138,
    "start_time": "2023-10-27T11:44:11.329Z"
   },
   {
    "duration": 17,
    "start_time": "2023-10-27T11:44:12.629Z"
   },
   {
    "duration": 5,
    "start_time": "2023-10-27T11:44:26.799Z"
   },
   {
    "duration": 124,
    "start_time": "2023-10-27T11:45:12.109Z"
   },
   {
    "duration": 18,
    "start_time": "2023-10-27T11:45:12.604Z"
   },
   {
    "duration": 4,
    "start_time": "2023-10-27T11:45:14.149Z"
   },
   {
    "duration": 1089,
    "start_time": "2023-10-27T11:45:23.576Z"
   },
   {
    "duration": 74,
    "start_time": "2023-10-27T11:45:24.666Z"
   },
   {
    "duration": 23,
    "start_time": "2023-10-27T11:45:24.742Z"
   },
   {
    "duration": 30,
    "start_time": "2023-10-27T11:45:24.767Z"
   },
   {
    "duration": 13,
    "start_time": "2023-10-27T11:45:24.799Z"
   },
   {
    "duration": 35,
    "start_time": "2023-10-27T11:45:24.814Z"
   },
   {
    "duration": 35,
    "start_time": "2023-10-27T11:45:24.851Z"
   },
   {
    "duration": 4,
    "start_time": "2023-10-27T11:45:24.888Z"
   },
   {
    "duration": 23,
    "start_time": "2023-10-27T11:45:24.894Z"
   },
   {
    "duration": 7,
    "start_time": "2023-10-27T11:45:24.920Z"
   },
   {
    "duration": 21,
    "start_time": "2023-10-27T11:45:24.929Z"
   },
   {
    "duration": 12,
    "start_time": "2023-10-27T11:45:24.951Z"
   },
   {
    "duration": 14,
    "start_time": "2023-10-27T11:45:24.965Z"
   },
   {
    "duration": 20,
    "start_time": "2023-10-27T11:45:24.980Z"
   },
   {
    "duration": 8,
    "start_time": "2023-10-27T11:45:25.002Z"
   },
   {
    "duration": 9,
    "start_time": "2023-10-27T11:45:25.012Z"
   },
   {
    "duration": 18,
    "start_time": "2023-10-27T11:45:25.024Z"
   },
   {
    "duration": 22,
    "start_time": "2023-10-27T11:45:25.044Z"
   },
   {
    "duration": 17,
    "start_time": "2023-10-27T11:45:25.068Z"
   },
   {
    "duration": 188,
    "start_time": "2023-10-27T11:45:25.087Z"
   },
   {
    "duration": 11,
    "start_time": "2023-10-27T11:45:25.277Z"
   },
   {
    "duration": 9,
    "start_time": "2023-10-27T11:45:25.289Z"
   },
   {
    "duration": 25,
    "start_time": "2023-10-27T11:45:25.299Z"
   },
   {
    "duration": 67,
    "start_time": "2023-10-27T11:45:25.326Z"
   },
   {
    "duration": 164,
    "start_time": "2023-10-27T11:45:25.394Z"
   },
   {
    "duration": 186,
    "start_time": "2023-10-27T11:45:25.560Z"
   },
   {
    "duration": 251,
    "start_time": "2023-10-27T11:45:25.747Z"
   },
   {
    "duration": 39,
    "start_time": "2023-10-27T11:45:26.003Z"
   },
   {
    "duration": 143,
    "start_time": "2023-10-27T11:45:26.043Z"
   },
   {
    "duration": 14,
    "start_time": "2023-10-27T11:45:26.188Z"
   },
   {
    "duration": 154,
    "start_time": "2023-10-27T11:45:26.204Z"
   },
   {
    "duration": 42,
    "start_time": "2023-10-27T11:45:26.359Z"
   },
   {
    "duration": 16,
    "start_time": "2023-10-27T11:45:26.402Z"
   },
   {
    "duration": 3,
    "start_time": "2023-10-27T11:45:26.420Z"
   },
   {
    "duration": 16,
    "start_time": "2023-10-27T11:45:26.425Z"
   },
   {
    "duration": 7,
    "start_time": "2023-10-27T11:45:26.443Z"
   },
   {
    "duration": 7,
    "start_time": "2023-10-27T11:45:26.451Z"
   },
   {
    "duration": 11,
    "start_time": "2023-10-27T11:45:26.459Z"
   },
   {
    "duration": 28,
    "start_time": "2023-10-27T11:45:26.471Z"
   },
   {
    "duration": 581,
    "start_time": "2023-10-27T11:45:26.500Z"
   },
   {
    "duration": 8,
    "start_time": "2023-10-27T11:45:27.083Z"
   },
   {
    "duration": 13,
    "start_time": "2023-10-27T11:45:27.092Z"
   },
   {
    "duration": 498,
    "start_time": "2023-10-27T11:45:27.107Z"
   },
   {
    "duration": 8,
    "start_time": "2023-10-27T11:45:27.606Z"
   },
   {
    "duration": 14,
    "start_time": "2023-10-27T11:45:27.624Z"
   },
   {
    "duration": 6,
    "start_time": "2023-10-27T11:45:27.639Z"
   },
   {
    "duration": 805,
    "start_time": "2023-10-27T11:45:27.647Z"
   },
   {
    "duration": 6,
    "start_time": "2023-10-27T11:45:28.454Z"
   },
   {
    "duration": 8,
    "start_time": "2023-10-27T11:45:28.462Z"
   },
   {
    "duration": 5,
    "start_time": "2023-10-27T11:45:28.472Z"
   },
   {
    "duration": 5,
    "start_time": "2023-10-27T11:45:28.478Z"
   },
   {
    "duration": 148,
    "start_time": "2023-10-27T11:45:28.485Z"
   },
   {
    "duration": 18,
    "start_time": "2023-10-27T11:45:28.635Z"
   },
   {
    "duration": 7,
    "start_time": "2023-10-27T11:45:28.654Z"
   },
   {
    "duration": 18,
    "start_time": "2023-10-27T11:45:28.663Z"
   },
   {
    "duration": 19,
    "start_time": "2023-10-27T11:45:28.682Z"
   },
   {
    "duration": 13,
    "start_time": "2023-10-27T11:45:28.703Z"
   },
   {
    "duration": 9,
    "start_time": "2023-10-27T11:45:28.717Z"
   },
   {
    "duration": 25,
    "start_time": "2023-10-27T11:45:28.728Z"
   },
   {
    "duration": 18,
    "start_time": "2023-10-27T11:45:28.755Z"
   },
   {
    "duration": 20,
    "start_time": "2023-10-27T11:45:28.775Z"
   },
   {
    "duration": 24,
    "start_time": "2023-10-27T11:45:28.797Z"
   },
   {
    "duration": 8,
    "start_time": "2023-10-27T11:45:28.822Z"
   },
   {
    "duration": 98,
    "start_time": "2023-10-27T11:57:12.829Z"
   },
   {
    "duration": 92,
    "start_time": "2023-10-27T11:58:10.665Z"
   },
   {
    "duration": 83,
    "start_time": "2023-10-27T11:58:38.503Z"
   },
   {
    "duration": 87,
    "start_time": "2023-10-27T11:58:53.956Z"
   },
   {
    "duration": 87,
    "start_time": "2023-10-27T11:58:59.718Z"
   },
   {
    "duration": 1491,
    "start_time": "2023-10-28T10:41:45.999Z"
   },
   {
    "duration": 205,
    "start_time": "2023-10-28T10:41:47.492Z"
   },
   {
    "duration": 24,
    "start_time": "2023-10-28T10:41:47.699Z"
   },
   {
    "duration": 19,
    "start_time": "2023-10-28T10:41:47.725Z"
   },
   {
    "duration": 15,
    "start_time": "2023-10-28T10:41:47.745Z"
   },
   {
    "duration": 14,
    "start_time": "2023-10-28T10:41:47.762Z"
   },
   {
    "duration": 42,
    "start_time": "2023-10-28T10:41:47.778Z"
   },
   {
    "duration": 3,
    "start_time": "2023-10-28T10:41:47.822Z"
   },
   {
    "duration": 7,
    "start_time": "2023-10-28T10:41:47.827Z"
   },
   {
    "duration": 30,
    "start_time": "2023-10-28T10:41:47.836Z"
   },
   {
    "duration": 15,
    "start_time": "2023-10-28T10:41:47.867Z"
   },
   {
    "duration": 13,
    "start_time": "2023-10-28T10:41:47.883Z"
   },
   {
    "duration": 12,
    "start_time": "2023-10-28T10:41:47.897Z"
   },
   {
    "duration": 17,
    "start_time": "2023-10-28T10:41:47.910Z"
   },
   {
    "duration": 9,
    "start_time": "2023-10-28T10:41:47.928Z"
   },
   {
    "duration": 4,
    "start_time": "2023-10-28T10:41:47.939Z"
   },
   {
    "duration": 20,
    "start_time": "2023-10-28T10:41:47.945Z"
   },
   {
    "duration": 52,
    "start_time": "2023-10-28T10:41:47.967Z"
   },
   {
    "duration": 20,
    "start_time": "2023-10-28T10:41:48.021Z"
   },
   {
    "duration": 192,
    "start_time": "2023-10-28T10:41:48.042Z"
   },
   {
    "duration": 11,
    "start_time": "2023-10-28T10:41:48.235Z"
   },
   {
    "duration": 6,
    "start_time": "2023-10-28T10:41:48.247Z"
   },
   {
    "duration": 14,
    "start_time": "2023-10-28T10:41:48.254Z"
   },
   {
    "duration": 103,
    "start_time": "2023-10-28T10:41:48.271Z"
   },
   {
    "duration": 159,
    "start_time": "2023-10-28T10:41:48.375Z"
   },
   {
    "duration": 190,
    "start_time": "2023-10-28T10:41:48.536Z"
   },
   {
    "duration": 180,
    "start_time": "2023-10-28T10:41:48.728Z"
   },
   {
    "duration": 25,
    "start_time": "2023-10-28T10:41:48.911Z"
   },
   {
    "duration": 32,
    "start_time": "2023-10-28T10:41:48.937Z"
   },
   {
    "duration": 4,
    "start_time": "2023-10-28T10:41:48.970Z"
   },
   {
    "duration": 32,
    "start_time": "2023-10-28T10:41:48.976Z"
   },
   {
    "duration": 11,
    "start_time": "2023-10-28T10:41:49.009Z"
   },
   {
    "duration": 13,
    "start_time": "2023-10-28T10:41:49.021Z"
   },
   {
    "duration": 4,
    "start_time": "2023-10-28T10:41:49.036Z"
   },
   {
    "duration": 17,
    "start_time": "2023-10-28T10:41:49.041Z"
   },
   {
    "duration": 4,
    "start_time": "2023-10-28T10:41:49.060Z"
   },
   {
    "duration": 8,
    "start_time": "2023-10-28T10:41:49.066Z"
   },
   {
    "duration": 37,
    "start_time": "2023-10-28T10:41:49.075Z"
   },
   {
    "duration": 7,
    "start_time": "2023-10-28T10:41:49.114Z"
   },
   {
    "duration": 603,
    "start_time": "2023-10-28T10:41:49.123Z"
   },
   {
    "duration": 8,
    "start_time": "2023-10-28T10:41:49.728Z"
   },
   {
    "duration": 54,
    "start_time": "2023-10-28T10:41:49.737Z"
   },
   {
    "duration": 527,
    "start_time": "2023-10-28T10:41:49.793Z"
   },
   {
    "duration": 8,
    "start_time": "2023-10-28T10:41:50.322Z"
   },
   {
    "duration": 17,
    "start_time": "2023-10-28T10:41:50.332Z"
   },
   {
    "duration": 8,
    "start_time": "2023-10-28T10:41:50.350Z"
   },
   {
    "duration": 850,
    "start_time": "2023-10-28T10:41:50.360Z"
   },
   {
    "duration": 6,
    "start_time": "2023-10-28T10:41:51.212Z"
   },
   {
    "duration": 4,
    "start_time": "2023-10-28T10:41:51.220Z"
   },
   {
    "duration": 6,
    "start_time": "2023-10-28T10:41:51.226Z"
   },
   {
    "duration": 12,
    "start_time": "2023-10-28T10:41:51.233Z"
   },
   {
    "duration": 152,
    "start_time": "2023-10-28T10:41:51.247Z"
   },
   {
    "duration": 23,
    "start_time": "2023-10-28T10:41:51.401Z"
   },
   {
    "duration": 5,
    "start_time": "2023-10-28T10:41:51.426Z"
   },
   {
    "duration": 7,
    "start_time": "2023-10-28T10:41:51.433Z"
   },
   {
    "duration": 18,
    "start_time": "2023-10-28T10:41:51.442Z"
   },
   {
    "duration": 13,
    "start_time": "2023-10-28T10:41:51.461Z"
   },
   {
    "duration": 4,
    "start_time": "2023-10-28T10:41:51.476Z"
   },
   {
    "duration": 8,
    "start_time": "2023-10-28T10:41:51.507Z"
   },
   {
    "duration": 9,
    "start_time": "2023-10-28T10:41:51.516Z"
   },
   {
    "duration": 9,
    "start_time": "2023-10-28T10:41:51.526Z"
   },
   {
    "duration": 11,
    "start_time": "2023-10-28T10:41:51.536Z"
   },
   {
    "duration": 29,
    "start_time": "2023-10-28T10:41:51.548Z"
   },
   {
    "duration": 1294,
    "start_time": "2023-10-28T11:10:23.491Z"
   },
   {
    "duration": 78,
    "start_time": "2023-10-28T11:10:24.787Z"
   },
   {
    "duration": 33,
    "start_time": "2023-10-28T11:10:24.867Z"
   },
   {
    "duration": 19,
    "start_time": "2023-10-28T11:10:24.903Z"
   },
   {
    "duration": 23,
    "start_time": "2023-10-28T11:10:24.923Z"
   },
   {
    "duration": 21,
    "start_time": "2023-10-28T11:10:24.948Z"
   },
   {
    "duration": 52,
    "start_time": "2023-10-28T11:10:24.972Z"
   },
   {
    "duration": 8,
    "start_time": "2023-10-28T11:10:25.027Z"
   },
   {
    "duration": 15,
    "start_time": "2023-10-28T11:10:25.037Z"
   },
   {
    "duration": 8,
    "start_time": "2023-10-28T11:10:25.058Z"
   },
   {
    "duration": 15,
    "start_time": "2023-10-28T11:10:25.067Z"
   },
   {
    "duration": 39,
    "start_time": "2023-10-28T11:10:25.083Z"
   },
   {
    "duration": 34,
    "start_time": "2023-10-28T11:10:25.124Z"
   },
   {
    "duration": 15,
    "start_time": "2023-10-28T11:10:25.160Z"
   },
   {
    "duration": 15,
    "start_time": "2023-10-28T11:10:25.176Z"
   },
   {
    "duration": 23,
    "start_time": "2023-10-28T11:10:25.193Z"
   },
   {
    "duration": 24,
    "start_time": "2023-10-28T11:10:25.219Z"
   },
   {
    "duration": 30,
    "start_time": "2023-10-28T11:10:25.245Z"
   },
   {
    "duration": 35,
    "start_time": "2023-10-28T11:10:25.278Z"
   },
   {
    "duration": 186,
    "start_time": "2023-10-28T11:10:25.315Z"
   },
   {
    "duration": 11,
    "start_time": "2023-10-28T11:10:25.506Z"
   },
   {
    "duration": 8,
    "start_time": "2023-10-28T11:10:25.519Z"
   },
   {
    "duration": 10,
    "start_time": "2023-10-28T11:10:25.529Z"
   },
   {
    "duration": 127,
    "start_time": "2023-10-28T11:10:25.541Z"
   },
   {
    "duration": 173,
    "start_time": "2023-10-28T11:10:25.670Z"
   },
   {
    "duration": 216,
    "start_time": "2023-10-28T11:10:25.845Z"
   },
   {
    "duration": 244,
    "start_time": "2023-10-28T11:10:26.064Z"
   },
   {
    "duration": 31,
    "start_time": "2023-10-28T11:10:26.312Z"
   },
   {
    "duration": 47,
    "start_time": "2023-10-28T11:10:26.345Z"
   },
   {
    "duration": 14,
    "start_time": "2023-10-28T11:10:26.394Z"
   },
   {
    "duration": 5,
    "start_time": "2023-10-28T11:10:26.409Z"
   },
   {
    "duration": 25,
    "start_time": "2023-10-28T11:10:26.416Z"
   },
   {
    "duration": 13,
    "start_time": "2023-10-28T11:10:26.443Z"
   },
   {
    "duration": 24,
    "start_time": "2023-10-28T11:10:26.458Z"
   },
   {
    "duration": 20,
    "start_time": "2023-10-28T11:10:26.483Z"
   },
   {
    "duration": 23,
    "start_time": "2023-10-28T11:10:26.505Z"
   },
   {
    "duration": 13,
    "start_time": "2023-10-28T11:10:26.529Z"
   },
   {
    "duration": 17,
    "start_time": "2023-10-28T11:10:26.544Z"
   },
   {
    "duration": 33,
    "start_time": "2023-10-28T11:10:26.563Z"
   },
   {
    "duration": 601,
    "start_time": "2023-10-28T11:10:26.597Z"
   },
   {
    "duration": 12,
    "start_time": "2023-10-28T11:10:27.200Z"
   },
   {
    "duration": 17,
    "start_time": "2023-10-28T11:10:27.214Z"
   },
   {
    "duration": 523,
    "start_time": "2023-10-28T11:10:27.234Z"
   },
   {
    "duration": 8,
    "start_time": "2023-10-28T11:10:27.759Z"
   },
   {
    "duration": 33,
    "start_time": "2023-10-28T11:10:27.770Z"
   },
   {
    "duration": 26,
    "start_time": "2023-10-28T11:10:27.805Z"
   },
   {
    "duration": 870,
    "start_time": "2023-10-28T11:10:27.833Z"
   },
   {
    "duration": 10,
    "start_time": "2023-10-28T11:10:28.705Z"
   },
   {
    "duration": 127,
    "start_time": "2023-10-28T11:10:28.718Z"
   },
   {
    "duration": 42,
    "start_time": "2023-10-28T11:10:28.847Z"
   },
   {
    "duration": 4,
    "start_time": "2023-10-28T11:10:28.892Z"
   },
   {
    "duration": 136,
    "start_time": "2023-10-28T11:10:28.898Z"
   },
   {
    "duration": 19,
    "start_time": "2023-10-28T11:10:29.036Z"
   },
   {
    "duration": 4,
    "start_time": "2023-10-28T11:10:29.057Z"
   },
   {
    "duration": 9,
    "start_time": "2023-10-28T11:10:29.062Z"
   },
   {
    "duration": 9,
    "start_time": "2023-10-28T11:10:29.073Z"
   },
   {
    "duration": 8,
    "start_time": "2023-10-28T11:10:29.108Z"
   },
   {
    "duration": 6,
    "start_time": "2023-10-28T11:10:29.117Z"
   },
   {
    "duration": 11,
    "start_time": "2023-10-28T11:10:29.125Z"
   },
   {
    "duration": 10,
    "start_time": "2023-10-28T11:10:29.138Z"
   },
   {
    "duration": 16,
    "start_time": "2023-10-28T11:10:29.149Z"
   },
   {
    "duration": 45,
    "start_time": "2023-10-28T11:10:29.166Z"
   },
   {
    "duration": 6,
    "start_time": "2023-10-28T11:10:29.213Z"
   },
   {
    "duration": 5,
    "start_time": "2023-10-28T11:10:35.590Z"
   },
   {
    "duration": 49,
    "start_time": "2023-10-28T11:31:03.290Z"
   },
   {
    "duration": 7,
    "start_time": "2023-10-28T11:31:40.211Z"
   },
   {
    "duration": 1646,
    "start_time": "2023-10-28T11:31:46.354Z"
   },
   {
    "duration": 297,
    "start_time": "2023-10-28T11:31:48.002Z"
   },
   {
    "duration": 24,
    "start_time": "2023-10-28T11:31:48.300Z"
   },
   {
    "duration": 47,
    "start_time": "2023-10-28T11:31:48.326Z"
   },
   {
    "duration": 13,
    "start_time": "2023-10-28T11:31:48.375Z"
   },
   {
    "duration": 14,
    "start_time": "2023-10-28T11:31:48.390Z"
   },
   {
    "duration": 14,
    "start_time": "2023-10-28T11:31:48.406Z"
   },
   {
    "duration": 15,
    "start_time": "2023-10-28T11:31:48.422Z"
   },
   {
    "duration": 21,
    "start_time": "2023-10-28T11:31:48.439Z"
   },
   {
    "duration": 22,
    "start_time": "2023-10-28T11:31:48.464Z"
   },
   {
    "duration": 14,
    "start_time": "2023-10-28T11:31:48.488Z"
   },
   {
    "duration": 6,
    "start_time": "2023-10-28T11:31:48.503Z"
   },
   {
    "duration": 11,
    "start_time": "2023-10-28T11:31:48.510Z"
   },
   {
    "duration": 20,
    "start_time": "2023-10-28T11:31:48.522Z"
   },
   {
    "duration": 17,
    "start_time": "2023-10-28T11:31:48.543Z"
   },
   {
    "duration": 37,
    "start_time": "2023-10-28T11:31:48.562Z"
   },
   {
    "duration": 50,
    "start_time": "2023-10-28T11:31:48.601Z"
   },
   {
    "duration": 73,
    "start_time": "2023-10-28T11:31:48.655Z"
   },
   {
    "duration": 37,
    "start_time": "2023-10-28T11:31:48.730Z"
   },
   {
    "duration": 187,
    "start_time": "2023-10-28T11:31:48.769Z"
   },
   {
    "duration": 11,
    "start_time": "2023-10-28T11:31:48.958Z"
   },
   {
    "duration": 14,
    "start_time": "2023-10-28T11:31:48.971Z"
   },
   {
    "duration": 10,
    "start_time": "2023-10-28T11:31:48.987Z"
   },
   {
    "duration": 110,
    "start_time": "2023-10-28T11:31:48.999Z"
   },
   {
    "duration": 169,
    "start_time": "2023-10-28T11:31:49.110Z"
   },
   {
    "duration": 196,
    "start_time": "2023-10-28T11:31:49.281Z"
   },
   {
    "duration": 196,
    "start_time": "2023-10-28T11:31:49.478Z"
   },
   {
    "duration": 23,
    "start_time": "2023-10-28T11:31:49.677Z"
   },
   {
    "duration": 49,
    "start_time": "2023-10-28T11:31:49.701Z"
   },
   {
    "duration": 4,
    "start_time": "2023-10-28T11:31:49.752Z"
   },
   {
    "duration": 32,
    "start_time": "2023-10-28T11:31:49.758Z"
   },
   {
    "duration": 46,
    "start_time": "2023-10-28T11:31:49.792Z"
   },
   {
    "duration": 31,
    "start_time": "2023-10-28T11:31:49.840Z"
   },
   {
    "duration": 4,
    "start_time": "2023-10-28T11:31:49.873Z"
   },
   {
    "duration": 27,
    "start_time": "2023-10-28T11:31:49.879Z"
   },
   {
    "duration": 22,
    "start_time": "2023-10-28T11:31:49.908Z"
   },
   {
    "duration": 24,
    "start_time": "2023-10-28T11:31:49.932Z"
   },
   {
    "duration": 31,
    "start_time": "2023-10-28T11:31:49.958Z"
   },
   {
    "duration": 64,
    "start_time": "2023-10-28T11:31:49.991Z"
   },
   {
    "duration": 579,
    "start_time": "2023-10-28T11:31:50.058Z"
   },
   {
    "duration": 12,
    "start_time": "2023-10-28T11:31:50.638Z"
   },
   {
    "duration": 21,
    "start_time": "2023-10-28T11:31:50.652Z"
   },
   {
    "duration": 526,
    "start_time": "2023-10-28T11:31:50.674Z"
   },
   {
    "duration": 7,
    "start_time": "2023-10-28T11:31:51.202Z"
   },
   {
    "duration": 26,
    "start_time": "2023-10-28T11:31:51.210Z"
   },
   {
    "duration": 8,
    "start_time": "2023-10-28T11:31:51.237Z"
   },
   {
    "duration": 884,
    "start_time": "2023-10-28T11:31:51.247Z"
   },
   {
    "duration": 21,
    "start_time": "2023-10-28T11:31:52.132Z"
   },
   {
    "duration": 26,
    "start_time": "2023-10-28T11:31:52.155Z"
   },
   {
    "duration": 24,
    "start_time": "2023-10-28T11:31:52.182Z"
   },
   {
    "duration": 21,
    "start_time": "2023-10-28T11:31:52.207Z"
   },
   {
    "duration": 165,
    "start_time": "2023-10-28T11:31:52.230Z"
   },
   {
    "duration": 18,
    "start_time": "2023-10-28T11:31:52.397Z"
   },
   {
    "duration": 40,
    "start_time": "2023-10-28T11:31:52.417Z"
   },
   {
    "duration": 15,
    "start_time": "2023-10-28T11:31:52.460Z"
   },
   {
    "duration": 33,
    "start_time": "2023-10-28T11:31:52.477Z"
   },
   {
    "duration": 22,
    "start_time": "2023-10-28T11:31:52.512Z"
   },
   {
    "duration": 28,
    "start_time": "2023-10-28T11:31:52.536Z"
   },
   {
    "duration": 37,
    "start_time": "2023-10-28T11:31:52.566Z"
   },
   {
    "duration": 22,
    "start_time": "2023-10-28T11:31:52.604Z"
   },
   {
    "duration": 24,
    "start_time": "2023-10-28T11:31:52.628Z"
   },
   {
    "duration": 34,
    "start_time": "2023-10-28T11:31:52.654Z"
   },
   {
    "duration": 19,
    "start_time": "2023-10-28T11:31:52.690Z"
   },
   {
    "duration": 4,
    "start_time": "2023-10-28T11:50:50.331Z"
   },
   {
    "duration": 133,
    "start_time": "2023-10-28T11:50:52.460Z"
   },
   {
    "duration": 16,
    "start_time": "2023-10-28T11:50:53.507Z"
   },
   {
    "duration": 3,
    "start_time": "2023-10-28T11:52:25.377Z"
   },
   {
    "duration": 135,
    "start_time": "2023-10-28T11:52:26.509Z"
   },
   {
    "duration": 19,
    "start_time": "2023-10-28T11:52:27.234Z"
   },
   {
    "duration": 16,
    "start_time": "2023-10-28T11:58:01.505Z"
   },
   {
    "duration": 6,
    "start_time": "2023-10-28T11:58:34.684Z"
   },
   {
    "duration": 5,
    "start_time": "2023-10-28T11:58:35.192Z"
   },
   {
    "duration": 6,
    "start_time": "2023-10-28T11:58:36.414Z"
   },
   {
    "duration": 6,
    "start_time": "2023-10-28T11:58:37.011Z"
   },
   {
    "duration": 30,
    "start_time": "2023-10-28T11:58:37.650Z"
   },
   {
    "duration": 3,
    "start_time": "2023-10-28T12:00:15.238Z"
   },
   {
    "duration": 181,
    "start_time": "2023-10-28T12:00:16.787Z"
   },
   {
    "duration": 19,
    "start_time": "2023-10-28T12:00:18.490Z"
   },
   {
    "duration": 5,
    "start_time": "2023-10-28T13:17:55.770Z"
   },
   {
    "duration": 107,
    "start_time": "2023-10-28T13:18:13.365Z"
   },
   {
    "duration": 7,
    "start_time": "2023-10-28T13:18:16.748Z"
   },
   {
    "duration": 6,
    "start_time": "2023-10-28T13:18:59.780Z"
   },
   {
    "duration": 15,
    "start_time": "2023-10-28T13:19:22.572Z"
   },
   {
    "duration": 6,
    "start_time": "2023-10-28T13:19:34.019Z"
   },
   {
    "duration": 10,
    "start_time": "2023-10-28T13:19:41.854Z"
   },
   {
    "duration": 414,
    "start_time": "2023-10-28T13:52:17.677Z"
   },
   {
    "duration": 227,
    "start_time": "2023-10-28T13:59:40.738Z"
   },
   {
    "duration": 1224,
    "start_time": "2023-10-28T19:15:29.006Z"
   },
   {
    "duration": 203,
    "start_time": "2023-10-28T19:15:30.232Z"
   },
   {
    "duration": 25,
    "start_time": "2023-10-28T19:15:30.437Z"
   },
   {
    "duration": 108,
    "start_time": "2023-10-28T19:15:30.464Z"
   },
   {
    "duration": 72,
    "start_time": "2023-10-28T19:15:30.574Z"
   },
   {
    "duration": 46,
    "start_time": "2023-10-28T19:15:30.648Z"
   },
   {
    "duration": 77,
    "start_time": "2023-10-28T19:15:30.695Z"
   },
   {
    "duration": 93,
    "start_time": "2023-10-28T19:15:30.774Z"
   },
   {
    "duration": 48,
    "start_time": "2023-10-28T19:15:30.869Z"
   },
   {
    "duration": 88,
    "start_time": "2023-10-28T19:15:30.920Z"
   },
   {
    "duration": 42,
    "start_time": "2023-10-28T19:15:31.009Z"
   },
   {
    "duration": 100,
    "start_time": "2023-10-28T19:15:31.052Z"
   },
   {
    "duration": 107,
    "start_time": "2023-10-28T19:15:31.154Z"
   },
   {
    "duration": 141,
    "start_time": "2023-10-28T19:15:31.263Z"
   },
   {
    "duration": 47,
    "start_time": "2023-10-28T19:15:31.406Z"
   },
   {
    "duration": 24,
    "start_time": "2023-10-28T19:15:31.455Z"
   },
   {
    "duration": 72,
    "start_time": "2023-10-28T19:15:31.481Z"
   },
   {
    "duration": 48,
    "start_time": "2023-10-28T19:15:31.555Z"
   },
   {
    "duration": 30,
    "start_time": "2023-10-28T19:15:31.604Z"
   },
   {
    "duration": 210,
    "start_time": "2023-10-28T19:15:31.635Z"
   },
   {
    "duration": 12,
    "start_time": "2023-10-28T19:15:31.847Z"
   },
   {
    "duration": 172,
    "start_time": "2023-10-28T19:15:31.861Z"
   },
   {
    "duration": 85,
    "start_time": "2023-10-28T19:15:32.035Z"
   },
   {
    "duration": 179,
    "start_time": "2023-10-28T19:15:32.122Z"
   },
   {
    "duration": 182,
    "start_time": "2023-10-28T19:15:32.303Z"
   },
   {
    "duration": 219,
    "start_time": "2023-10-28T19:15:32.488Z"
   },
   {
    "duration": 211,
    "start_time": "2023-10-28T19:15:32.709Z"
   },
   {
    "duration": 36,
    "start_time": "2023-10-28T19:15:32.925Z"
   },
   {
    "duration": 217,
    "start_time": "2023-10-28T19:15:32.963Z"
   },
   {
    "duration": 4,
    "start_time": "2023-10-28T19:15:33.182Z"
   },
   {
    "duration": 61,
    "start_time": "2023-10-28T19:15:33.187Z"
   },
   {
    "duration": 38,
    "start_time": "2023-10-28T19:15:33.250Z"
   },
   {
    "duration": 57,
    "start_time": "2023-10-28T19:15:33.290Z"
   },
   {
    "duration": 5,
    "start_time": "2023-10-28T19:15:33.349Z"
   },
   {
    "duration": 18,
    "start_time": "2023-10-28T19:15:33.355Z"
   },
   {
    "duration": 20,
    "start_time": "2023-10-28T19:15:33.375Z"
   },
   {
    "duration": 53,
    "start_time": "2023-10-28T19:15:33.397Z"
   },
   {
    "duration": 81,
    "start_time": "2023-10-28T19:15:33.452Z"
   },
   {
    "duration": 49,
    "start_time": "2023-10-28T19:15:33.547Z"
   },
   {
    "duration": 1167,
    "start_time": "2023-10-28T19:15:33.598Z"
   },
   {
    "duration": 8,
    "start_time": "2023-10-28T19:15:34.766Z"
   },
   {
    "duration": 11,
    "start_time": "2023-10-28T19:15:34.776Z"
   },
   {
    "duration": 628,
    "start_time": "2023-10-28T19:15:34.789Z"
   },
   {
    "duration": 9,
    "start_time": "2023-10-28T19:15:35.418Z"
   },
   {
    "duration": 77,
    "start_time": "2023-10-28T19:15:35.429Z"
   },
   {
    "duration": 19,
    "start_time": "2023-10-28T19:15:35.508Z"
   },
   {
    "duration": 1329,
    "start_time": "2023-10-28T19:15:35.529Z"
   },
   {
    "duration": 6,
    "start_time": "2023-10-28T19:15:36.860Z"
   },
   {
    "duration": 16,
    "start_time": "2023-10-28T19:15:36.867Z"
   },
   {
    "duration": 9,
    "start_time": "2023-10-28T19:15:36.884Z"
   },
   {
    "duration": 53,
    "start_time": "2023-10-28T19:15:36.895Z"
   },
   {
    "duration": 6,
    "start_time": "2023-10-28T19:15:36.950Z"
   },
   {
    "duration": 37,
    "start_time": "2023-10-28T19:15:36.958Z"
   },
   {
    "duration": 51,
    "start_time": "2023-10-28T19:15:36.996Z"
   },
   {
    "duration": 412,
    "start_time": "2023-10-28T19:15:37.049Z"
   },
   {
    "duration": 21,
    "start_time": "2023-10-28T19:15:37.462Z"
   },
   {
    "duration": 5,
    "start_time": "2023-10-28T19:15:37.485Z"
   },
   {
    "duration": 61,
    "start_time": "2023-10-28T19:15:37.491Z"
   },
   {
    "duration": 9,
    "start_time": "2023-10-28T19:15:37.554Z"
   },
   {
    "duration": 8,
    "start_time": "2023-10-28T19:15:37.564Z"
   },
   {
    "duration": 5,
    "start_time": "2023-10-28T19:15:37.573Z"
   },
   {
    "duration": 68,
    "start_time": "2023-10-28T19:15:37.579Z"
   },
   {
    "duration": 10,
    "start_time": "2023-10-28T19:15:37.648Z"
   },
   {
    "duration": 14,
    "start_time": "2023-10-28T19:15:37.660Z"
   },
   {
    "duration": 10,
    "start_time": "2023-10-28T19:15:37.675Z"
   },
   {
    "duration": 7,
    "start_time": "2023-10-28T19:15:37.686Z"
   },
   {
    "duration": 1303,
    "start_time": "2023-10-28T19:23:03.672Z"
   },
   {
    "duration": 87,
    "start_time": "2023-10-28T19:23:04.978Z"
   },
   {
    "duration": 36,
    "start_time": "2023-10-28T19:23:05.067Z"
   },
   {
    "duration": 46,
    "start_time": "2023-10-28T19:23:05.105Z"
   },
   {
    "duration": 16,
    "start_time": "2023-10-28T19:23:05.154Z"
   },
   {
    "duration": 28,
    "start_time": "2023-10-28T19:23:05.171Z"
   },
   {
    "duration": 46,
    "start_time": "2023-10-28T19:23:05.201Z"
   },
   {
    "duration": 8,
    "start_time": "2023-10-28T19:23:05.249Z"
   },
   {
    "duration": 38,
    "start_time": "2023-10-28T19:23:05.260Z"
   },
   {
    "duration": 18,
    "start_time": "2023-10-28T19:23:05.300Z"
   },
   {
    "duration": 22,
    "start_time": "2023-10-28T19:23:05.323Z"
   },
   {
    "duration": 18,
    "start_time": "2023-10-28T19:23:05.348Z"
   },
   {
    "duration": 22,
    "start_time": "2023-10-28T19:23:05.369Z"
   },
   {
    "duration": 24,
    "start_time": "2023-10-28T19:23:05.396Z"
   },
   {
    "duration": 27,
    "start_time": "2023-10-28T19:23:05.422Z"
   },
   {
    "duration": 7,
    "start_time": "2023-10-28T19:23:05.451Z"
   },
   {
    "duration": 27,
    "start_time": "2023-10-28T19:23:05.460Z"
   },
   {
    "duration": 35,
    "start_time": "2023-10-28T19:23:05.490Z"
   },
   {
    "duration": 35,
    "start_time": "2023-10-28T19:23:05.527Z"
   },
   {
    "duration": 212,
    "start_time": "2023-10-28T19:23:05.564Z"
   },
   {
    "duration": 12,
    "start_time": "2023-10-28T19:23:05.778Z"
   },
   {
    "duration": 23,
    "start_time": "2023-10-28T19:23:05.792Z"
   },
   {
    "duration": 12,
    "start_time": "2023-10-28T19:23:05.817Z"
   },
   {
    "duration": 118,
    "start_time": "2023-10-28T19:23:05.831Z"
   },
   {
    "duration": 206,
    "start_time": "2023-10-28T19:23:05.951Z"
   },
   {
    "duration": 213,
    "start_time": "2023-10-28T19:23:06.159Z"
   },
   {
    "duration": 218,
    "start_time": "2023-10-28T19:23:06.375Z"
   },
   {
    "duration": 26,
    "start_time": "2023-10-28T19:23:06.595Z"
   },
   {
    "duration": 56,
    "start_time": "2023-10-28T19:23:06.622Z"
   },
   {
    "duration": 3,
    "start_time": "2023-10-28T19:23:06.680Z"
   },
   {
    "duration": 7,
    "start_time": "2023-10-28T19:23:06.685Z"
   },
   {
    "duration": 10,
    "start_time": "2023-10-28T19:23:06.693Z"
   },
   {
    "duration": 12,
    "start_time": "2023-10-28T19:23:06.704Z"
   },
   {
    "duration": 30,
    "start_time": "2023-10-28T19:23:06.718Z"
   },
   {
    "duration": 6,
    "start_time": "2023-10-28T19:23:06.750Z"
   },
   {
    "duration": 4,
    "start_time": "2023-10-28T19:23:06.758Z"
   },
   {
    "duration": 5,
    "start_time": "2023-10-28T19:23:06.764Z"
   },
   {
    "duration": 8,
    "start_time": "2023-10-28T19:23:06.771Z"
   },
   {
    "duration": 8,
    "start_time": "2023-10-28T19:23:06.781Z"
   },
   {
    "duration": 684,
    "start_time": "2023-10-28T19:23:06.791Z"
   },
   {
    "duration": 9,
    "start_time": "2023-10-28T19:23:07.480Z"
   },
   {
    "duration": 19,
    "start_time": "2023-10-28T19:23:07.490Z"
   },
   {
    "duration": 582,
    "start_time": "2023-10-28T19:23:07.511Z"
   },
   {
    "duration": 10,
    "start_time": "2023-10-28T19:23:08.095Z"
   },
   {
    "duration": 16,
    "start_time": "2023-10-28T19:23:08.107Z"
   },
   {
    "duration": 22,
    "start_time": "2023-10-28T19:23:08.125Z"
   },
   {
    "duration": 920,
    "start_time": "2023-10-28T19:23:08.149Z"
   },
   {
    "duration": 8,
    "start_time": "2023-10-28T19:23:09.071Z"
   },
   {
    "duration": 40,
    "start_time": "2023-10-28T19:23:09.081Z"
   },
   {
    "duration": 23,
    "start_time": "2023-10-28T19:23:09.123Z"
   },
   {
    "duration": 41,
    "start_time": "2023-10-28T19:23:09.147Z"
   },
   {
    "duration": 29,
    "start_time": "2023-10-28T19:23:09.190Z"
   },
   {
    "duration": 33,
    "start_time": "2023-10-28T19:23:09.221Z"
   },
   {
    "duration": 11,
    "start_time": "2023-10-28T19:23:09.257Z"
   },
   {
    "duration": 237,
    "start_time": "2023-10-28T19:23:09.270Z"
   },
   {
    "duration": 22,
    "start_time": "2023-10-28T19:23:09.509Z"
   },
   {
    "duration": 24,
    "start_time": "2023-10-28T19:23:09.533Z"
   },
   {
    "duration": 32,
    "start_time": "2023-10-28T19:23:09.559Z"
   },
   {
    "duration": 27,
    "start_time": "2023-10-28T19:23:09.593Z"
   },
   {
    "duration": 31,
    "start_time": "2023-10-28T19:23:09.622Z"
   },
   {
    "duration": 16,
    "start_time": "2023-10-28T19:23:09.655Z"
   },
   {
    "duration": 25,
    "start_time": "2023-10-28T19:23:09.674Z"
   },
   {
    "duration": 30,
    "start_time": "2023-10-28T19:23:09.700Z"
   },
   {
    "duration": 42,
    "start_time": "2023-10-28T19:23:09.732Z"
   },
   {
    "duration": 11,
    "start_time": "2023-10-28T19:23:09.775Z"
   },
   {
    "duration": 21,
    "start_time": "2023-10-28T19:23:09.788Z"
   },
   {
    "duration": 23,
    "start_time": "2023-10-28T19:23:09.811Z"
   },
   {
    "duration": 36,
    "start_time": "2023-10-28T19:23:09.836Z"
   },
   {
    "duration": 16,
    "start_time": "2023-10-28T19:23:09.874Z"
   },
   {
    "duration": 32,
    "start_time": "2023-10-28T19:23:09.891Z"
   },
   {
    "duration": 49,
    "start_time": "2023-10-28T19:23:09.925Z"
   }
  ],
  "kernelspec": {
   "display_name": "Python 3 (ipykernel)",
   "language": "python",
   "name": "python3"
  },
  "language_info": {
   "codemirror_mode": {
    "name": "ipython",
    "version": 3
   },
   "file_extension": ".py",
   "mimetype": "text/x-python",
   "name": "python",
   "nbconvert_exporter": "python",
   "pygments_lexer": "ipython3",
   "version": "3.9.5"
  },
  "toc": {
   "base_numbering": 1,
   "nav_menu": {},
   "number_sections": true,
   "sideBar": true,
   "skip_h1_title": true,
   "title_cell": "Table of Contents",
   "title_sidebar": "Contents",
   "toc_cell": false,
   "toc_position": {
    "height": "calc(100% - 180px)",
    "left": "10px",
    "top": "150px",
    "width": "263px"
   },
   "toc_section_display": true,
   "toc_window_display": true
  }
 },
 "nbformat": 4,
 "nbformat_minor": 5
}
