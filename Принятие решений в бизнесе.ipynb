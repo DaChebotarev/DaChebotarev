{
 "cells": [
  {
   "cell_type": "markdown",
   "metadata": {},
   "source": [
    "<div class=\"alert alert-success\">\n",
    "<b> Комментарий от ревьюера 3</b>\n",
    "\n",
    "Спасибо, что учла мои комментарии. Ты приложила много усилий, чтобы довести проект до конца, надеюсь, что эта работа помогла тебе лучше понять теорию. Я принимаю проект и желаю удачи в прохождении курса!\n",
    "\n",
    "</div>"
   ]
  },
  {
   "cell_type": "markdown",
   "metadata": {},
   "source": [
    "<div class=\"alert alert-success\">\n",
    "<b> Комментарий от ревьюера 2</b>\n",
    "\n",
    "Привет еще раз. Спасибо, что доделала работу. Поправить осталось немного, вот комментарии, которые я оставила в этот раз:\n",
    "    \n",
    "*[первый](#comm1)\n",
    "    \n",
    "*[второй](#comm2)\n",
    "\n",
    "</div>"
   ]
  },
  {
   "cell_type": "markdown",
   "metadata": {},
   "source": [
    "Привет, Мария.\n",
    "\n",
    "Меня зовут Людмила, и я буду проводить ревью твоего проекта. \n",
    "\n",
    "Предлагаю перейти на «ты», если не против)\n",
    "\n",
    "Но если это не удобно — дай знать, и мы перейдем на «вы». Моя главная задача — не находить сделанные тобою ошибки, а передать свой опыт и помочь тебе стать аналитиком данных.\n",
    "\n",
    "Мои комментарии будут в ячейках «Комментарий от ревьюера».\n",
    "\n",
    "---    \n",
    "<div class=\"alert alert-block alert-danger\">\n",
    "    \n",
    "Критическое замечание, которые следует исправить.\n",
    "</div> \n",
    "    \n",
    "<div class=\"alert alert-block alert-warning\">\n",
    "    \n",
    "Замечание\\совет на будущее.\n",
    "</div>\n",
    "    \n",
    "<div class=\"alert alert-block alert-success\">\n",
    "    \n",
    "Когда всё сделано правильно.\n",
    "</div>\n",
    "    \n",
    "---        \n",
    "    \n",
    "Если ты вносишь изменения в проект по моим рекомендациям, указывай, пожалуйста, это в своих комментариях. Будет удобно, если обозначишь свои комментарии заметным цветом или поместишь \n",
    "\n",
    "<div class=\"alert alert-info\">\n",
    "    \n",
    "в такую ячейку\n",
    "</div>\n",
    "\n",
    "Давай при работе с проектом мы будем общаться с тобой в диалоге, поэтому не удаляй и не перемещай мои комментарии, это поможет мне сделать повторную  проверку проекта быстрее.\n",
    "___"
   ]
  },
  {
   "cell_type": "markdown",
   "metadata": {},
   "source": [
    "# Принятие решений в бизнесе"
   ]
  },
  {
   "cell_type": "markdown",
   "metadata": {},
   "source": [
    "**КОНТЕКСТ** - Вы — аналитик крупного интернет-магазина. Вместе с отделом маркетинга вы подготовили список гипотез для увеличения выручки. Приоритизируйте гипотезы, запустите A/B-тест и проанализируйте результаты."
   ]
  },
  {
   "cell_type": "markdown",
   "metadata": {},
   "source": [
    "Задача проекта: подготовить список гипотез для увеличения выручки. Приоритизировать гипотезы, запустить A/B-тест и проанализировать результаты."
   ]
  },
  {
   "cell_type": "markdown",
   "metadata": {},
   "source": [
    "**План работы**\n",
    "- Загрузка данных и первичный анализ;\n",
    "- Предобработка данный;\n",
    "- Приоретизация гипотез;\n",
    "- Анализ А/B тестов;\n",
    "- Решение по результатам тестов."
   ]
  },
  {
   "cell_type": "markdown",
   "metadata": {},
   "source": [
    "<div class=\"alert alert-warning\">\n",
    "<b>Комментарий от ревьюера</b> \n",
    "    \n",
    "Вступление к проекту станет лучше, если ты добавишь заголовок и план работы.\n",
    "Тогда получатель исследования сможет быстрее его понять.\n",
    "\n",
    "</div>"
   ]
  },
  {
   "cell_type": "markdown",
   "metadata": {},
   "source": [
    "<div class=\"alert alert-info\">\n",
    "добавила\n",
    "</div>"
   ]
  },
  {
   "cell_type": "markdown",
   "metadata": {},
   "source": [
    "<div class=\"alert alert-success\">\n",
    "<b> Комментарий от ревьюера 2</b>\n",
    "\n",
    "Теперь вся вводная информация о проекте есть в одном месте. 👍\n",
    "\n",
    "</div>"
   ]
  },
  {
   "cell_type": "code",
   "execution_count": 1,
   "metadata": {},
   "outputs": [],
   "source": [
    "#импортируем необходимые библиотеки \n",
    "import pandas as pd\n",
    "import matplotlib.pyplot as plt\n",
    "import seaborn as sns\n",
    "from scipy import stats as st\n",
    "import math\n",
    "import numpy as np"
   ]
  },
  {
   "cell_type": "markdown",
   "metadata": {},
   "source": [
    "<div class=\"alert alert-block alert-success\">\n",
    "    \n",
    "<b>Комментарий от ревьюера</b> \n",
    "    \n",
    "Все нужные библиотеки загружены, отлично.\n",
    "</div>"
   ]
  },
  {
   "cell_type": "markdown",
   "metadata": {},
   "source": [
    "**Описание данных**\n",
    "\n",
    "Файл /datasets/hypothesis.csv:\n",
    "\n",
    "- Hypothesis — краткое описание гипотезы;\n",
    "- Reach — охват пользователей по 10-балльной шкале;\n",
    "- Impact — влияние на пользователей по 10-балльной шкале;\n",
    "- Confidence — уверенность в гипотезе по 10-балльной шкале;\n",
    "- Efforts — затраты ресурсов на проверку гипотезы по 10-балльной шкале. Чем больше значение Efforts, тем дороже проверка гипотезы.\n",
    "\n",
    "Файл /datasets/orders.csv:\n",
    "\n",
    "- transactionId — идентификатор заказа;\n",
    "- visitorId — идентификатор пользователя, совершившего заказ;\n",
    "- date — дата, когда был совершён заказ;\n",
    "- revenue — выручка заказа;\n",
    "- group — группа A/B-теста, в которую попал заказ.\n",
    "\n",
    "Файл /datasets/visitors.csv:\n",
    "\n",
    "- date — дата;\n",
    "- group — группа A/B-теста;\n",
    "- visitors — количество пользователей в указанную дату в указанной группе A/B-теста"
   ]
  },
  {
   "cell_type": "code",
   "execution_count": 2,
   "metadata": {},
   "outputs": [],
   "source": [
    "#загрузим данные \n",
    "hypothesis = pd.read_csv('/datasets/hypothesis.csv')\n",
    "orders = pd.read_csv('/datasets/orders.csv')\n",
    "visitors = pd.read_csv('/datasets/visitors.csv')"
   ]
  },
  {
   "cell_type": "markdown",
   "metadata": {},
   "source": [
    "Посмотрим на каждый датасет и информацию о нём"
   ]
  },
  {
   "cell_type": "code",
   "execution_count": 3,
   "metadata": {},
   "outputs": [
    {
     "name": "stdout",
     "output_type": "stream",
     "text": [
      "<class 'pandas.core.frame.DataFrame'>\n",
      "RangeIndex: 9 entries, 0 to 8\n",
      "Data columns (total 5 columns):\n",
      " #   Column      Non-Null Count  Dtype \n",
      "---  ------      --------------  ----- \n",
      " 0   Hypothesis  9 non-null      object\n",
      " 1   Reach       9 non-null      int64 \n",
      " 2   Impact      9 non-null      int64 \n",
      " 3   Confidence  9 non-null      int64 \n",
      " 4   Efforts     9 non-null      int64 \n",
      "dtypes: int64(4), object(1)\n",
      "memory usage: 488.0+ bytes\n"
     ]
    },
    {
     "data": {
      "text/html": [
       "<div>\n",
       "<style scoped>\n",
       "    .dataframe tbody tr th:only-of-type {\n",
       "        vertical-align: middle;\n",
       "    }\n",
       "\n",
       "    .dataframe tbody tr th {\n",
       "        vertical-align: top;\n",
       "    }\n",
       "\n",
       "    .dataframe thead th {\n",
       "        text-align: right;\n",
       "    }\n",
       "</style>\n",
       "<table border=\"1\" class=\"dataframe\">\n",
       "  <thead>\n",
       "    <tr style=\"text-align: right;\">\n",
       "      <th></th>\n",
       "      <th>Hypothesis</th>\n",
       "      <th>Reach</th>\n",
       "      <th>Impact</th>\n",
       "      <th>Confidence</th>\n",
       "      <th>Efforts</th>\n",
       "    </tr>\n",
       "  </thead>\n",
       "  <tbody>\n",
       "    <tr>\n",
       "      <th>0</th>\n",
       "      <td>Добавить два новых канала привлечения трафика,...</td>\n",
       "      <td>3</td>\n",
       "      <td>10</td>\n",
       "      <td>8</td>\n",
       "      <td>6</td>\n",
       "    </tr>\n",
       "    <tr>\n",
       "      <th>1</th>\n",
       "      <td>Запустить собственную службу доставки, что сок...</td>\n",
       "      <td>2</td>\n",
       "      <td>5</td>\n",
       "      <td>4</td>\n",
       "      <td>10</td>\n",
       "    </tr>\n",
       "    <tr>\n",
       "      <th>2</th>\n",
       "      <td>Добавить блоки рекомендаций товаров на сайт ин...</td>\n",
       "      <td>8</td>\n",
       "      <td>3</td>\n",
       "      <td>7</td>\n",
       "      <td>3</td>\n",
       "    </tr>\n",
       "    <tr>\n",
       "      <th>3</th>\n",
       "      <td>Изменить структура категорий, что увеличит кон...</td>\n",
       "      <td>8</td>\n",
       "      <td>3</td>\n",
       "      <td>3</td>\n",
       "      <td>8</td>\n",
       "    </tr>\n",
       "    <tr>\n",
       "      <th>4</th>\n",
       "      <td>Изменить цвет фона главной страницы, чтобы уве...</td>\n",
       "      <td>3</td>\n",
       "      <td>1</td>\n",
       "      <td>1</td>\n",
       "      <td>1</td>\n",
       "    </tr>\n",
       "    <tr>\n",
       "      <th>5</th>\n",
       "      <td>Добавить страницу отзывов клиентов о магазине,...</td>\n",
       "      <td>3</td>\n",
       "      <td>2</td>\n",
       "      <td>2</td>\n",
       "      <td>3</td>\n",
       "    </tr>\n",
       "    <tr>\n",
       "      <th>6</th>\n",
       "      <td>Показать на главной странице баннеры с актуаль...</td>\n",
       "      <td>5</td>\n",
       "      <td>3</td>\n",
       "      <td>8</td>\n",
       "      <td>3</td>\n",
       "    </tr>\n",
       "    <tr>\n",
       "      <th>7</th>\n",
       "      <td>Добавить форму подписки на все основные страни...</td>\n",
       "      <td>10</td>\n",
       "      <td>7</td>\n",
       "      <td>8</td>\n",
       "      <td>5</td>\n",
       "    </tr>\n",
       "    <tr>\n",
       "      <th>8</th>\n",
       "      <td>Запустить акцию, дающую скидку на товар в день...</td>\n",
       "      <td>1</td>\n",
       "      <td>9</td>\n",
       "      <td>9</td>\n",
       "      <td>5</td>\n",
       "    </tr>\n",
       "  </tbody>\n",
       "</table>\n",
       "</div>"
      ],
      "text/plain": [
       "                                          Hypothesis  Reach  Impact  \\\n",
       "0  Добавить два новых канала привлечения трафика,...      3      10   \n",
       "1  Запустить собственную службу доставки, что сок...      2       5   \n",
       "2  Добавить блоки рекомендаций товаров на сайт ин...      8       3   \n",
       "3  Изменить структура категорий, что увеличит кон...      8       3   \n",
       "4  Изменить цвет фона главной страницы, чтобы уве...      3       1   \n",
       "5  Добавить страницу отзывов клиентов о магазине,...      3       2   \n",
       "6  Показать на главной странице баннеры с актуаль...      5       3   \n",
       "7  Добавить форму подписки на все основные страни...     10       7   \n",
       "8  Запустить акцию, дающую скидку на товар в день...      1       9   \n",
       "\n",
       "   Confidence  Efforts  \n",
       "0           8        6  \n",
       "1           4       10  \n",
       "2           7        3  \n",
       "3           3        8  \n",
       "4           1        1  \n",
       "5           2        3  \n",
       "6           8        3  \n",
       "7           8        5  \n",
       "8           9        5  "
      ]
     },
     "metadata": {},
     "output_type": "display_data"
    },
    {
     "data": {
      "text/plain": [
       "None"
      ]
     },
     "metadata": {},
     "output_type": "display_data"
    }
   ],
   "source": [
    "display(hypothesis,hypothesis.info())"
   ]
  },
  {
   "cell_type": "markdown",
   "metadata": {},
   "source": [
    "Вывод: \n",
    " - 9 различных гипотез с оценками от 1 до 10 по 4м критериям.\n",
    " - некорректные названия столбцов (заглавные буквы)\n",
    " - пропуски и дубликаты отсутсвуют, типы данных корректны."
   ]
  },
  {
   "cell_type": "code",
   "execution_count": 4,
   "metadata": {},
   "outputs": [
    {
     "name": "stdout",
     "output_type": "stream",
     "text": [
      "<class 'pandas.core.frame.DataFrame'>\n",
      "RangeIndex: 1197 entries, 0 to 1196\n",
      "Data columns (total 5 columns):\n",
      " #   Column         Non-Null Count  Dtype \n",
      "---  ------         --------------  ----- \n",
      " 0   transactionId  1197 non-null   int64 \n",
      " 1   visitorId      1197 non-null   int64 \n",
      " 2   date           1197 non-null   object\n",
      " 3   revenue        1197 non-null   int64 \n",
      " 4   group          1197 non-null   object\n",
      "dtypes: int64(3), object(2)\n",
      "memory usage: 46.9+ KB\n"
     ]
    },
    {
     "data": {
      "text/html": [
       "<div>\n",
       "<style scoped>\n",
       "    .dataframe tbody tr th:only-of-type {\n",
       "        vertical-align: middle;\n",
       "    }\n",
       "\n",
       "    .dataframe tbody tr th {\n",
       "        vertical-align: top;\n",
       "    }\n",
       "\n",
       "    .dataframe thead th {\n",
       "        text-align: right;\n",
       "    }\n",
       "</style>\n",
       "<table border=\"1\" class=\"dataframe\">\n",
       "  <thead>\n",
       "    <tr style=\"text-align: right;\">\n",
       "      <th></th>\n",
       "      <th>transactionId</th>\n",
       "      <th>visitorId</th>\n",
       "      <th>date</th>\n",
       "      <th>revenue</th>\n",
       "      <th>group</th>\n",
       "    </tr>\n",
       "  </thead>\n",
       "  <tbody>\n",
       "    <tr>\n",
       "      <th>0</th>\n",
       "      <td>3667963787</td>\n",
       "      <td>3312258926</td>\n",
       "      <td>2019-08-15</td>\n",
       "      <td>1650</td>\n",
       "      <td>B</td>\n",
       "    </tr>\n",
       "    <tr>\n",
       "      <th>1</th>\n",
       "      <td>2804400009</td>\n",
       "      <td>3642806036</td>\n",
       "      <td>2019-08-15</td>\n",
       "      <td>730</td>\n",
       "      <td>B</td>\n",
       "    </tr>\n",
       "    <tr>\n",
       "      <th>2</th>\n",
       "      <td>2961555356</td>\n",
       "      <td>4069496402</td>\n",
       "      <td>2019-08-15</td>\n",
       "      <td>400</td>\n",
       "      <td>A</td>\n",
       "    </tr>\n",
       "    <tr>\n",
       "      <th>3</th>\n",
       "      <td>3797467345</td>\n",
       "      <td>1196621759</td>\n",
       "      <td>2019-08-15</td>\n",
       "      <td>9759</td>\n",
       "      <td>B</td>\n",
       "    </tr>\n",
       "    <tr>\n",
       "      <th>4</th>\n",
       "      <td>2282983706</td>\n",
       "      <td>2322279887</td>\n",
       "      <td>2019-08-15</td>\n",
       "      <td>2308</td>\n",
       "      <td>B</td>\n",
       "    </tr>\n",
       "    <tr>\n",
       "      <th>...</th>\n",
       "      <td>...</td>\n",
       "      <td>...</td>\n",
       "      <td>...</td>\n",
       "      <td>...</td>\n",
       "      <td>...</td>\n",
       "    </tr>\n",
       "    <tr>\n",
       "      <th>1192</th>\n",
       "      <td>2662137336</td>\n",
       "      <td>3733762160</td>\n",
       "      <td>2019-08-14</td>\n",
       "      <td>6490</td>\n",
       "      <td>B</td>\n",
       "    </tr>\n",
       "    <tr>\n",
       "      <th>1193</th>\n",
       "      <td>2203539145</td>\n",
       "      <td>370388673</td>\n",
       "      <td>2019-08-14</td>\n",
       "      <td>3190</td>\n",
       "      <td>A</td>\n",
       "    </tr>\n",
       "    <tr>\n",
       "      <th>1194</th>\n",
       "      <td>1807773912</td>\n",
       "      <td>573423106</td>\n",
       "      <td>2019-08-14</td>\n",
       "      <td>10550</td>\n",
       "      <td>A</td>\n",
       "    </tr>\n",
       "    <tr>\n",
       "      <th>1195</th>\n",
       "      <td>1947021204</td>\n",
       "      <td>1614305549</td>\n",
       "      <td>2019-08-14</td>\n",
       "      <td>100</td>\n",
       "      <td>A</td>\n",
       "    </tr>\n",
       "    <tr>\n",
       "      <th>1196</th>\n",
       "      <td>3936777065</td>\n",
       "      <td>2108080724</td>\n",
       "      <td>2019-08-15</td>\n",
       "      <td>202740</td>\n",
       "      <td>B</td>\n",
       "    </tr>\n",
       "  </tbody>\n",
       "</table>\n",
       "<p>1197 rows × 5 columns</p>\n",
       "</div>"
      ],
      "text/plain": [
       "      transactionId   visitorId        date  revenue group\n",
       "0        3667963787  3312258926  2019-08-15     1650     B\n",
       "1        2804400009  3642806036  2019-08-15      730     B\n",
       "2        2961555356  4069496402  2019-08-15      400     A\n",
       "3        3797467345  1196621759  2019-08-15     9759     B\n",
       "4        2282983706  2322279887  2019-08-15     2308     B\n",
       "...             ...         ...         ...      ...   ...\n",
       "1192     2662137336  3733762160  2019-08-14     6490     B\n",
       "1193     2203539145   370388673  2019-08-14     3190     A\n",
       "1194     1807773912   573423106  2019-08-14    10550     A\n",
       "1195     1947021204  1614305549  2019-08-14      100     A\n",
       "1196     3936777065  2108080724  2019-08-15   202740     B\n",
       "\n",
       "[1197 rows x 5 columns]"
      ]
     },
     "metadata": {},
     "output_type": "display_data"
    },
    {
     "data": {
      "text/plain": [
       "None"
      ]
     },
     "metadata": {},
     "output_type": "display_data"
    }
   ],
   "source": [
    "display(orders,orders.info())"
   ]
  },
  {
   "cell_type": "code",
   "execution_count": 5,
   "metadata": {},
   "outputs": [
    {
     "data": {
      "text/plain": [
       "0"
      ]
     },
     "execution_count": 5,
     "metadata": {},
     "output_type": "execute_result"
    }
   ],
   "source": [
    "# проверим наличие дубликатов \n",
    "orders.duplicated().sum()"
   ]
  },
  {
   "cell_type": "markdown",
   "metadata": {},
   "source": [
    "Вывод:\n",
    "- некорректные названия столбцов\n",
    "- некорреткный тип данных у столбца date\n",
    "- пропусков нет"
   ]
  },
  {
   "cell_type": "code",
   "execution_count": 6,
   "metadata": {},
   "outputs": [
    {
     "name": "stdout",
     "output_type": "stream",
     "text": [
      "<class 'pandas.core.frame.DataFrame'>\n",
      "RangeIndex: 62 entries, 0 to 61\n",
      "Data columns (total 3 columns):\n",
      " #   Column    Non-Null Count  Dtype \n",
      "---  ------    --------------  ----- \n",
      " 0   date      62 non-null     object\n",
      " 1   group     62 non-null     object\n",
      " 2   visitors  62 non-null     int64 \n",
      "dtypes: int64(1), object(2)\n",
      "memory usage: 1.6+ KB\n"
     ]
    },
    {
     "data": {
      "text/html": [
       "<div>\n",
       "<style scoped>\n",
       "    .dataframe tbody tr th:only-of-type {\n",
       "        vertical-align: middle;\n",
       "    }\n",
       "\n",
       "    .dataframe tbody tr th {\n",
       "        vertical-align: top;\n",
       "    }\n",
       "\n",
       "    .dataframe thead th {\n",
       "        text-align: right;\n",
       "    }\n",
       "</style>\n",
       "<table border=\"1\" class=\"dataframe\">\n",
       "  <thead>\n",
       "    <tr style=\"text-align: right;\">\n",
       "      <th></th>\n",
       "      <th>date</th>\n",
       "      <th>group</th>\n",
       "      <th>visitors</th>\n",
       "    </tr>\n",
       "  </thead>\n",
       "  <tbody>\n",
       "    <tr>\n",
       "      <th>0</th>\n",
       "      <td>2019-08-01</td>\n",
       "      <td>A</td>\n",
       "      <td>719</td>\n",
       "    </tr>\n",
       "    <tr>\n",
       "      <th>1</th>\n",
       "      <td>2019-08-02</td>\n",
       "      <td>A</td>\n",
       "      <td>619</td>\n",
       "    </tr>\n",
       "    <tr>\n",
       "      <th>2</th>\n",
       "      <td>2019-08-03</td>\n",
       "      <td>A</td>\n",
       "      <td>507</td>\n",
       "    </tr>\n",
       "    <tr>\n",
       "      <th>3</th>\n",
       "      <td>2019-08-04</td>\n",
       "      <td>A</td>\n",
       "      <td>717</td>\n",
       "    </tr>\n",
       "    <tr>\n",
       "      <th>4</th>\n",
       "      <td>2019-08-05</td>\n",
       "      <td>A</td>\n",
       "      <td>756</td>\n",
       "    </tr>\n",
       "    <tr>\n",
       "      <th>...</th>\n",
       "      <td>...</td>\n",
       "      <td>...</td>\n",
       "      <td>...</td>\n",
       "    </tr>\n",
       "    <tr>\n",
       "      <th>57</th>\n",
       "      <td>2019-08-27</td>\n",
       "      <td>B</td>\n",
       "      <td>720</td>\n",
       "    </tr>\n",
       "    <tr>\n",
       "      <th>58</th>\n",
       "      <td>2019-08-28</td>\n",
       "      <td>B</td>\n",
       "      <td>654</td>\n",
       "    </tr>\n",
       "    <tr>\n",
       "      <th>59</th>\n",
       "      <td>2019-08-29</td>\n",
       "      <td>B</td>\n",
       "      <td>531</td>\n",
       "    </tr>\n",
       "    <tr>\n",
       "      <th>60</th>\n",
       "      <td>2019-08-30</td>\n",
       "      <td>B</td>\n",
       "      <td>490</td>\n",
       "    </tr>\n",
       "    <tr>\n",
       "      <th>61</th>\n",
       "      <td>2019-08-31</td>\n",
       "      <td>B</td>\n",
       "      <td>718</td>\n",
       "    </tr>\n",
       "  </tbody>\n",
       "</table>\n",
       "<p>62 rows × 3 columns</p>\n",
       "</div>"
      ],
      "text/plain": [
       "          date group  visitors\n",
       "0   2019-08-01     A       719\n",
       "1   2019-08-02     A       619\n",
       "2   2019-08-03     A       507\n",
       "3   2019-08-04     A       717\n",
       "4   2019-08-05     A       756\n",
       "..         ...   ...       ...\n",
       "57  2019-08-27     B       720\n",
       "58  2019-08-28     B       654\n",
       "59  2019-08-29     B       531\n",
       "60  2019-08-30     B       490\n",
       "61  2019-08-31     B       718\n",
       "\n",
       "[62 rows x 3 columns]"
      ]
     },
     "metadata": {},
     "output_type": "display_data"
    },
    {
     "data": {
      "text/plain": [
       "None"
      ]
     },
     "metadata": {},
     "output_type": "display_data"
    }
   ],
   "source": [
    "display(visitors,visitors.info())"
   ]
  },
  {
   "cell_type": "code",
   "execution_count": 7,
   "metadata": {},
   "outputs": [
    {
     "data": {
      "text/plain": [
       "0"
      ]
     },
     "execution_count": 7,
     "metadata": {},
     "output_type": "execute_result"
    }
   ],
   "source": [
    "# проверим наличие дубликатов \n",
    "visitors.duplicated().sum()"
   ]
  },
  {
   "cell_type": "markdown",
   "metadata": {},
   "source": [
    "Вывод:\n",
    "- некорректный тип данных столбца date\n",
    "- пропусков нет\n",
    "- необходимо проверить на дубликаты "
   ]
  },
  {
   "cell_type": "markdown",
   "metadata": {},
   "source": [
    "**НЕОБХОДИМО:**\n",
    "- привести названия столбцов к нижнему регистру и к корректной форме записи\n",
    "- изменить тип данных в столбцах date"
   ]
  },
  {
   "cell_type": "markdown",
   "metadata": {},
   "source": [
    "<div class=\"alert alert-block alert-danger\">\n",
    "    \n",
    "**Комментарий от ревьюера**\n",
    "\n",
    "При знакомстве с данными нам нужно еще выполнить проверку на дубликаты.\n",
    "</div>"
   ]
  },
  {
   "cell_type": "markdown",
   "metadata": {},
   "source": [
    "<div class=\"alert alert-info\">\n",
    "    \n",
    "исправила\n",
    "</div>\n"
   ]
  },
  {
   "cell_type": "markdown",
   "metadata": {},
   "source": [
    "# Предобработка данных"
   ]
  },
  {
   "cell_type": "markdown",
   "metadata": {},
   "source": [
    "Приведем названия всех столбцов к нижнему регистру "
   ]
  },
  {
   "cell_type": "code",
   "execution_count": 8,
   "metadata": {},
   "outputs": [],
   "source": [
    "hypothesis.columns = [x.lower().replace(' ', '_') for x in hypothesis.columns.values]"
   ]
  },
  {
   "cell_type": "markdown",
   "metadata": {},
   "source": [
    "Корректно переименуем столбцы "
   ]
  },
  {
   "cell_type": "code",
   "execution_count": 9,
   "metadata": {},
   "outputs": [],
   "source": [
    "orders.columns = ['transaction_id','visitor_id', 'date','revenue','group']"
   ]
  },
  {
   "cell_type": "markdown",
   "metadata": {},
   "source": [
    "приведём столбцы с датами к нужному типу данных "
   ]
  },
  {
   "cell_type": "code",
   "execution_count": 10,
   "metadata": {},
   "outputs": [],
   "source": [
    "orders['date'] = pd.to_datetime(orders['date'])\n",
    "visitors['date'] = pd.to_datetime(visitors['date'])"
   ]
  },
  {
   "cell_type": "markdown",
   "metadata": {},
   "source": [
    "<div class=\"alert alert-block alert-success\">\n",
    "    \n",
    "**Комментарий от ревьюера**\n",
    "\n",
    "Да, здесь нужно поменять формат даты.\n",
    "</div>"
   ]
  },
  {
   "cell_type": "markdown",
   "metadata": {},
   "source": [
    "проверим на неочевидные дубликаты по группам А/В теста "
   ]
  },
  {
   "cell_type": "code",
   "execution_count": 11,
   "metadata": {},
   "outputs": [
    {
     "data": {
      "text/plain": [
       "array(['B', 'A'], dtype=object)"
      ]
     },
     "metadata": {},
     "output_type": "display_data"
    },
    {
     "data": {
      "text/plain": [
       "array(['A', 'B'], dtype=object)"
      ]
     },
     "metadata": {},
     "output_type": "display_data"
    }
   ],
   "source": [
    "#проверим на неочевидные дубликаты по группам А/В теста \n",
    "display(orders['group'].unique(),visitors['group'].unique())"
   ]
  },
  {
   "cell_type": "markdown",
   "metadata": {},
   "source": [
    "Посчитаем количество уникальных пользоваталей в A/B тесте"
   ]
  },
  {
   "cell_type": "code",
   "execution_count": 12,
   "metadata": {},
   "outputs": [
    {
     "data": {
      "text/plain": [
       "1031"
      ]
     },
     "execution_count": 12,
     "metadata": {},
     "output_type": "execute_result"
    }
   ],
   "source": [
    "len(orders['visitor_id'].unique())"
   ]
  },
  {
   "cell_type": "markdown",
   "metadata": {},
   "source": [
    "Посчитаем количество пользователей по группам "
   ]
  },
  {
   "cell_type": "code",
   "execution_count": 13,
   "metadata": {},
   "outputs": [
    {
     "data": {
      "text/plain": [
       "503"
      ]
     },
     "metadata": {},
     "output_type": "display_data"
    },
    {
     "data": {
      "text/plain": [
       "586"
      ]
     },
     "metadata": {},
     "output_type": "display_data"
    },
    {
     "data": {
      "text/plain": [
       "1089"
      ]
     },
     "metadata": {},
     "output_type": "display_data"
    }
   ],
   "source": [
    "group_a = orders.query('group == \"A\"')\n",
    "len(group_a['visitor_id'].unique())\n",
    "group_b = orders.query('group == \"B\"')\n",
    "len(group_b['visitor_id'].unique())\n",
    "group_user_cnt = len(group_a['visitor_id'].unique()) + len(group_b['visitor_id'].unique())\n",
    "display(len(group_a['visitor_id'].unique()),\n",
    "       len(group_b['visitor_id'].unique()),\n",
    "group_user_cnt)"
   ]
  },
  {
   "cell_type": "code",
   "execution_count": 14,
   "metadata": {},
   "outputs": [
    {
     "data": {
      "text/plain": [
       "58"
      ]
     },
     "execution_count": 14,
     "metadata": {},
     "output_type": "execute_result"
    }
   ],
   "source": [
    "union = group_a.merge(group_b,on = 'visitor_id')\n",
    "len(union['visitor_id'].unique())"
   ]
  },
  {
   "cell_type": "markdown",
   "metadata": {},
   "source": [
    "58 пользователей входят в обе группы, так как невозможно определить к какой группе они принадлежат, избавимся от этих данных"
   ]
  },
  {
   "cell_type": "code",
   "execution_count": 15,
   "metadata": {},
   "outputs": [
    {
     "data": {
      "text/plain": [
       "973"
      ]
     },
     "execution_count": 15,
     "metadata": {},
     "output_type": "execute_result"
    }
   ],
   "source": [
    "visitor_both_group = union['visitor_id'].to_list()\n",
    "orders = orders[~orders['visitor_id'].isin(visitor_both_group)]\n",
    "len(orders['visitor_id'].unique())"
   ]
  },
  {
   "cell_type": "markdown",
   "metadata": {},
   "source": [
    "<div class=\"alert alert-block alert-warning\">\n",
    "    \n",
    "**Комментарий от ревьюера**\n",
    "\n",
    "Молодец, что выполнила проверку! Тут нужно учитывать, что удаляем мы только тех пользователей, кто совершил заказы. Поскольку таблица с визитами у нас содержит уже агрегированные данные, то мы не сможем удалить из нее этих пользователей. В итоге оказывается, что выполняем не совсем корректные действия, которые будут снижать итоговое значение количества заказов на посетителя. Таких пользователей немного. Можно оставить их в тесте.\n",
    "    \n",
    "</div>"
   ]
  },
  {
   "cell_type": "code",
   "execution_count": 16,
   "metadata": {},
   "outputs": [
    {
     "data": {
      "text/html": [
       "<div>\n",
       "<style scoped>\n",
       "    .dataframe tbody tr th:only-of-type {\n",
       "        vertical-align: middle;\n",
       "    }\n",
       "\n",
       "    .dataframe tbody tr th {\n",
       "        vertical-align: top;\n",
       "    }\n",
       "\n",
       "    .dataframe thead th {\n",
       "        text-align: right;\n",
       "    }\n",
       "</style>\n",
       "<table border=\"1\" class=\"dataframe\">\n",
       "  <thead>\n",
       "    <tr style=\"text-align: right;\">\n",
       "      <th></th>\n",
       "      <th>hypothesis</th>\n",
       "      <th>reach</th>\n",
       "      <th>impact</th>\n",
       "      <th>confidence</th>\n",
       "      <th>efforts</th>\n",
       "    </tr>\n",
       "  </thead>\n",
       "  <tbody>\n",
       "    <tr>\n",
       "      <th>0</th>\n",
       "      <td>Добавить два новых канала привлечения трафика,...</td>\n",
       "      <td>3</td>\n",
       "      <td>10</td>\n",
       "      <td>8</td>\n",
       "      <td>6</td>\n",
       "    </tr>\n",
       "    <tr>\n",
       "      <th>1</th>\n",
       "      <td>Запустить собственную службу доставки, что сок...</td>\n",
       "      <td>2</td>\n",
       "      <td>5</td>\n",
       "      <td>4</td>\n",
       "      <td>10</td>\n",
       "    </tr>\n",
       "    <tr>\n",
       "      <th>2</th>\n",
       "      <td>Добавить блоки рекомендаций товаров на сайт ин...</td>\n",
       "      <td>8</td>\n",
       "      <td>3</td>\n",
       "      <td>7</td>\n",
       "      <td>3</td>\n",
       "    </tr>\n",
       "    <tr>\n",
       "      <th>3</th>\n",
       "      <td>Изменить структура категорий, что увеличит кон...</td>\n",
       "      <td>8</td>\n",
       "      <td>3</td>\n",
       "      <td>3</td>\n",
       "      <td>8</td>\n",
       "    </tr>\n",
       "    <tr>\n",
       "      <th>4</th>\n",
       "      <td>Изменить цвет фона главной страницы, чтобы уве...</td>\n",
       "      <td>3</td>\n",
       "      <td>1</td>\n",
       "      <td>1</td>\n",
       "      <td>1</td>\n",
       "    </tr>\n",
       "    <tr>\n",
       "      <th>5</th>\n",
       "      <td>Добавить страницу отзывов клиентов о магазине,...</td>\n",
       "      <td>3</td>\n",
       "      <td>2</td>\n",
       "      <td>2</td>\n",
       "      <td>3</td>\n",
       "    </tr>\n",
       "    <tr>\n",
       "      <th>6</th>\n",
       "      <td>Показать на главной странице баннеры с актуаль...</td>\n",
       "      <td>5</td>\n",
       "      <td>3</td>\n",
       "      <td>8</td>\n",
       "      <td>3</td>\n",
       "    </tr>\n",
       "    <tr>\n",
       "      <th>7</th>\n",
       "      <td>Добавить форму подписки на все основные страни...</td>\n",
       "      <td>10</td>\n",
       "      <td>7</td>\n",
       "      <td>8</td>\n",
       "      <td>5</td>\n",
       "    </tr>\n",
       "    <tr>\n",
       "      <th>8</th>\n",
       "      <td>Запустить акцию, дающую скидку на товар в день...</td>\n",
       "      <td>1</td>\n",
       "      <td>9</td>\n",
       "      <td>9</td>\n",
       "      <td>5</td>\n",
       "    </tr>\n",
       "  </tbody>\n",
       "</table>\n",
       "</div>"
      ],
      "text/plain": [
       "                                          hypothesis  reach  impact  \\\n",
       "0  Добавить два новых канала привлечения трафика,...      3      10   \n",
       "1  Запустить собственную службу доставки, что сок...      2       5   \n",
       "2  Добавить блоки рекомендаций товаров на сайт ин...      8       3   \n",
       "3  Изменить структура категорий, что увеличит кон...      8       3   \n",
       "4  Изменить цвет фона главной страницы, чтобы уве...      3       1   \n",
       "5  Добавить страницу отзывов клиентов о магазине,...      3       2   \n",
       "6  Показать на главной странице баннеры с актуаль...      5       3   \n",
       "7  Добавить форму подписки на все основные страни...     10       7   \n",
       "8  Запустить акцию, дающую скидку на товар в день...      1       9   \n",
       "\n",
       "   confidence  efforts  \n",
       "0           8        6  \n",
       "1           4       10  \n",
       "2           7        3  \n",
       "3           3        8  \n",
       "4           1        1  \n",
       "5           2        3  \n",
       "6           8        3  \n",
       "7           8        5  \n",
       "8           9        5  "
      ]
     },
     "metadata": {},
     "output_type": "display_data"
    },
    {
     "data": {
      "text/html": [
       "<div>\n",
       "<style scoped>\n",
       "    .dataframe tbody tr th:only-of-type {\n",
       "        vertical-align: middle;\n",
       "    }\n",
       "\n",
       "    .dataframe tbody tr th {\n",
       "        vertical-align: top;\n",
       "    }\n",
       "\n",
       "    .dataframe thead th {\n",
       "        text-align: right;\n",
       "    }\n",
       "</style>\n",
       "<table border=\"1\" class=\"dataframe\">\n",
       "  <thead>\n",
       "    <tr style=\"text-align: right;\">\n",
       "      <th></th>\n",
       "      <th>transaction_id</th>\n",
       "      <th>visitor_id</th>\n",
       "      <th>date</th>\n",
       "      <th>revenue</th>\n",
       "      <th>group</th>\n",
       "    </tr>\n",
       "  </thead>\n",
       "  <tbody>\n",
       "    <tr>\n",
       "      <th>0</th>\n",
       "      <td>3667963787</td>\n",
       "      <td>3312258926</td>\n",
       "      <td>2019-08-15</td>\n",
       "      <td>1650</td>\n",
       "      <td>B</td>\n",
       "    </tr>\n",
       "    <tr>\n",
       "      <th>1</th>\n",
       "      <td>2804400009</td>\n",
       "      <td>3642806036</td>\n",
       "      <td>2019-08-15</td>\n",
       "      <td>730</td>\n",
       "      <td>B</td>\n",
       "    </tr>\n",
       "    <tr>\n",
       "      <th>3</th>\n",
       "      <td>3797467345</td>\n",
       "      <td>1196621759</td>\n",
       "      <td>2019-08-15</td>\n",
       "      <td>9759</td>\n",
       "      <td>B</td>\n",
       "    </tr>\n",
       "    <tr>\n",
       "      <th>4</th>\n",
       "      <td>2282983706</td>\n",
       "      <td>2322279887</td>\n",
       "      <td>2019-08-15</td>\n",
       "      <td>2308</td>\n",
       "      <td>B</td>\n",
       "    </tr>\n",
       "    <tr>\n",
       "      <th>5</th>\n",
       "      <td>182168103</td>\n",
       "      <td>935554773</td>\n",
       "      <td>2019-08-15</td>\n",
       "      <td>2210</td>\n",
       "      <td>B</td>\n",
       "    </tr>\n",
       "    <tr>\n",
       "      <th>...</th>\n",
       "      <td>...</td>\n",
       "      <td>...</td>\n",
       "      <td>...</td>\n",
       "      <td>...</td>\n",
       "      <td>...</td>\n",
       "    </tr>\n",
       "    <tr>\n",
       "      <th>1191</th>\n",
       "      <td>3592955527</td>\n",
       "      <td>608641596</td>\n",
       "      <td>2019-08-14</td>\n",
       "      <td>16490</td>\n",
       "      <td>B</td>\n",
       "    </tr>\n",
       "    <tr>\n",
       "      <th>1192</th>\n",
       "      <td>2662137336</td>\n",
       "      <td>3733762160</td>\n",
       "      <td>2019-08-14</td>\n",
       "      <td>6490</td>\n",
       "      <td>B</td>\n",
       "    </tr>\n",
       "    <tr>\n",
       "      <th>1193</th>\n",
       "      <td>2203539145</td>\n",
       "      <td>370388673</td>\n",
       "      <td>2019-08-14</td>\n",
       "      <td>3190</td>\n",
       "      <td>A</td>\n",
       "    </tr>\n",
       "    <tr>\n",
       "      <th>1194</th>\n",
       "      <td>1807773912</td>\n",
       "      <td>573423106</td>\n",
       "      <td>2019-08-14</td>\n",
       "      <td>10550</td>\n",
       "      <td>A</td>\n",
       "    </tr>\n",
       "    <tr>\n",
       "      <th>1196</th>\n",
       "      <td>3936777065</td>\n",
       "      <td>2108080724</td>\n",
       "      <td>2019-08-15</td>\n",
       "      <td>202740</td>\n",
       "      <td>B</td>\n",
       "    </tr>\n",
       "  </tbody>\n",
       "</table>\n",
       "<p>1016 rows × 5 columns</p>\n",
       "</div>"
      ],
      "text/plain": [
       "      transaction_id  visitor_id       date  revenue group\n",
       "0         3667963787  3312258926 2019-08-15     1650     B\n",
       "1         2804400009  3642806036 2019-08-15      730     B\n",
       "3         3797467345  1196621759 2019-08-15     9759     B\n",
       "4         2282983706  2322279887 2019-08-15     2308     B\n",
       "5          182168103   935554773 2019-08-15     2210     B\n",
       "...              ...         ...        ...      ...   ...\n",
       "1191      3592955527   608641596 2019-08-14    16490     B\n",
       "1192      2662137336  3733762160 2019-08-14     6490     B\n",
       "1193      2203539145   370388673 2019-08-14     3190     A\n",
       "1194      1807773912   573423106 2019-08-14    10550     A\n",
       "1196      3936777065  2108080724 2019-08-15   202740     B\n",
       "\n",
       "[1016 rows x 5 columns]"
      ]
     },
     "metadata": {},
     "output_type": "display_data"
    },
    {
     "data": {
      "text/html": [
       "<div>\n",
       "<style scoped>\n",
       "    .dataframe tbody tr th:only-of-type {\n",
       "        vertical-align: middle;\n",
       "    }\n",
       "\n",
       "    .dataframe tbody tr th {\n",
       "        vertical-align: top;\n",
       "    }\n",
       "\n",
       "    .dataframe thead th {\n",
       "        text-align: right;\n",
       "    }\n",
       "</style>\n",
       "<table border=\"1\" class=\"dataframe\">\n",
       "  <thead>\n",
       "    <tr style=\"text-align: right;\">\n",
       "      <th></th>\n",
       "      <th>date</th>\n",
       "      <th>group</th>\n",
       "      <th>visitors</th>\n",
       "    </tr>\n",
       "  </thead>\n",
       "  <tbody>\n",
       "    <tr>\n",
       "      <th>0</th>\n",
       "      <td>2019-08-01</td>\n",
       "      <td>A</td>\n",
       "      <td>719</td>\n",
       "    </tr>\n",
       "    <tr>\n",
       "      <th>1</th>\n",
       "      <td>2019-08-02</td>\n",
       "      <td>A</td>\n",
       "      <td>619</td>\n",
       "    </tr>\n",
       "    <tr>\n",
       "      <th>2</th>\n",
       "      <td>2019-08-03</td>\n",
       "      <td>A</td>\n",
       "      <td>507</td>\n",
       "    </tr>\n",
       "    <tr>\n",
       "      <th>3</th>\n",
       "      <td>2019-08-04</td>\n",
       "      <td>A</td>\n",
       "      <td>717</td>\n",
       "    </tr>\n",
       "    <tr>\n",
       "      <th>4</th>\n",
       "      <td>2019-08-05</td>\n",
       "      <td>A</td>\n",
       "      <td>756</td>\n",
       "    </tr>\n",
       "    <tr>\n",
       "      <th>...</th>\n",
       "      <td>...</td>\n",
       "      <td>...</td>\n",
       "      <td>...</td>\n",
       "    </tr>\n",
       "    <tr>\n",
       "      <th>57</th>\n",
       "      <td>2019-08-27</td>\n",
       "      <td>B</td>\n",
       "      <td>720</td>\n",
       "    </tr>\n",
       "    <tr>\n",
       "      <th>58</th>\n",
       "      <td>2019-08-28</td>\n",
       "      <td>B</td>\n",
       "      <td>654</td>\n",
       "    </tr>\n",
       "    <tr>\n",
       "      <th>59</th>\n",
       "      <td>2019-08-29</td>\n",
       "      <td>B</td>\n",
       "      <td>531</td>\n",
       "    </tr>\n",
       "    <tr>\n",
       "      <th>60</th>\n",
       "      <td>2019-08-30</td>\n",
       "      <td>B</td>\n",
       "      <td>490</td>\n",
       "    </tr>\n",
       "    <tr>\n",
       "      <th>61</th>\n",
       "      <td>2019-08-31</td>\n",
       "      <td>B</td>\n",
       "      <td>718</td>\n",
       "    </tr>\n",
       "  </tbody>\n",
       "</table>\n",
       "<p>62 rows × 3 columns</p>\n",
       "</div>"
      ],
      "text/plain": [
       "         date group  visitors\n",
       "0  2019-08-01     A       719\n",
       "1  2019-08-02     A       619\n",
       "2  2019-08-03     A       507\n",
       "3  2019-08-04     A       717\n",
       "4  2019-08-05     A       756\n",
       "..        ...   ...       ...\n",
       "57 2019-08-27     B       720\n",
       "58 2019-08-28     B       654\n",
       "59 2019-08-29     B       531\n",
       "60 2019-08-30     B       490\n",
       "61 2019-08-31     B       718\n",
       "\n",
       "[62 rows x 3 columns]"
      ]
     },
     "metadata": {},
     "output_type": "display_data"
    }
   ],
   "source": [
    "display( hypothesis,orders,visitors)"
   ]
  },
  {
   "cell_type": "markdown",
   "metadata": {},
   "source": [
    "Выполнили предобработку данных, приевли названия столбцов к нижнему регистру, заменили тип данных в столбцах 'date', удалили данные о пользователях которые были в обеих группах (А,В)"
   ]
  },
  {
   "cell_type": "markdown",
   "metadata": {},
   "source": [
    "# Приоретизация гипотез"
   ]
  },
  {
   "cell_type": "markdown",
   "metadata": {},
   "source": [
    "ICE"
   ]
  },
  {
   "cell_type": "code",
   "execution_count": 17,
   "metadata": {},
   "outputs": [
    {
     "data": {
      "text/html": [
       "<div>\n",
       "<style scoped>\n",
       "    .dataframe tbody tr th:only-of-type {\n",
       "        vertical-align: middle;\n",
       "    }\n",
       "\n",
       "    .dataframe tbody tr th {\n",
       "        vertical-align: top;\n",
       "    }\n",
       "\n",
       "    .dataframe thead th {\n",
       "        text-align: right;\n",
       "    }\n",
       "</style>\n",
       "<table border=\"1\" class=\"dataframe\">\n",
       "  <thead>\n",
       "    <tr style=\"text-align: right;\">\n",
       "      <th></th>\n",
       "      <th>hypothesis</th>\n",
       "      <th>reach</th>\n",
       "      <th>impact</th>\n",
       "      <th>confidence</th>\n",
       "      <th>efforts</th>\n",
       "      <th>ice</th>\n",
       "    </tr>\n",
       "  </thead>\n",
       "  <tbody>\n",
       "    <tr>\n",
       "      <th>8</th>\n",
       "      <td>Запустить акцию, дающую скидку на товар в день...</td>\n",
       "      <td>1</td>\n",
       "      <td>9</td>\n",
       "      <td>9</td>\n",
       "      <td>5</td>\n",
       "      <td>16.200000</td>\n",
       "    </tr>\n",
       "    <tr>\n",
       "      <th>0</th>\n",
       "      <td>Добавить два новых канала привлечения трафика,...</td>\n",
       "      <td>3</td>\n",
       "      <td>10</td>\n",
       "      <td>8</td>\n",
       "      <td>6</td>\n",
       "      <td>13.333333</td>\n",
       "    </tr>\n",
       "    <tr>\n",
       "      <th>7</th>\n",
       "      <td>Добавить форму подписки на все основные страни...</td>\n",
       "      <td>10</td>\n",
       "      <td>7</td>\n",
       "      <td>8</td>\n",
       "      <td>5</td>\n",
       "      <td>11.200000</td>\n",
       "    </tr>\n",
       "    <tr>\n",
       "      <th>6</th>\n",
       "      <td>Показать на главной странице баннеры с актуаль...</td>\n",
       "      <td>5</td>\n",
       "      <td>3</td>\n",
       "      <td>8</td>\n",
       "      <td>3</td>\n",
       "      <td>8.000000</td>\n",
       "    </tr>\n",
       "    <tr>\n",
       "      <th>2</th>\n",
       "      <td>Добавить блоки рекомендаций товаров на сайт ин...</td>\n",
       "      <td>8</td>\n",
       "      <td>3</td>\n",
       "      <td>7</td>\n",
       "      <td>3</td>\n",
       "      <td>7.000000</td>\n",
       "    </tr>\n",
       "    <tr>\n",
       "      <th>1</th>\n",
       "      <td>Запустить собственную службу доставки, что сок...</td>\n",
       "      <td>2</td>\n",
       "      <td>5</td>\n",
       "      <td>4</td>\n",
       "      <td>10</td>\n",
       "      <td>2.000000</td>\n",
       "    </tr>\n",
       "    <tr>\n",
       "      <th>5</th>\n",
       "      <td>Добавить страницу отзывов клиентов о магазине,...</td>\n",
       "      <td>3</td>\n",
       "      <td>2</td>\n",
       "      <td>2</td>\n",
       "      <td>3</td>\n",
       "      <td>1.333333</td>\n",
       "    </tr>\n",
       "    <tr>\n",
       "      <th>3</th>\n",
       "      <td>Изменить структура категорий, что увеличит кон...</td>\n",
       "      <td>8</td>\n",
       "      <td>3</td>\n",
       "      <td>3</td>\n",
       "      <td>8</td>\n",
       "      <td>1.125000</td>\n",
       "    </tr>\n",
       "    <tr>\n",
       "      <th>4</th>\n",
       "      <td>Изменить цвет фона главной страницы, чтобы уве...</td>\n",
       "      <td>3</td>\n",
       "      <td>1</td>\n",
       "      <td>1</td>\n",
       "      <td>1</td>\n",
       "      <td>1.000000</td>\n",
       "    </tr>\n",
       "  </tbody>\n",
       "</table>\n",
       "</div>"
      ],
      "text/plain": [
       "                                          hypothesis  reach  impact  \\\n",
       "8  Запустить акцию, дающую скидку на товар в день...      1       9   \n",
       "0  Добавить два новых канала привлечения трафика,...      3      10   \n",
       "7  Добавить форму подписки на все основные страни...     10       7   \n",
       "6  Показать на главной странице баннеры с актуаль...      5       3   \n",
       "2  Добавить блоки рекомендаций товаров на сайт ин...      8       3   \n",
       "1  Запустить собственную службу доставки, что сок...      2       5   \n",
       "5  Добавить страницу отзывов клиентов о магазине,...      3       2   \n",
       "3  Изменить структура категорий, что увеличит кон...      8       3   \n",
       "4  Изменить цвет фона главной страницы, чтобы уве...      3       1   \n",
       "\n",
       "   confidence  efforts        ice  \n",
       "8           9        5  16.200000  \n",
       "0           8        6  13.333333  \n",
       "7           8        5  11.200000  \n",
       "6           8        3   8.000000  \n",
       "2           7        3   7.000000  \n",
       "1           4       10   2.000000  \n",
       "5           2        3   1.333333  \n",
       "3           3        8   1.125000  \n",
       "4           1        1   1.000000  "
      ]
     },
     "execution_count": 17,
     "metadata": {},
     "output_type": "execute_result"
    }
   ],
   "source": [
    "hypothesis['ice'] = hypothesis['impact'] * hypothesis['confidence'] / hypothesis['efforts']\n",
    "hypothesis.sort_values('ice', ascending=False)"
   ]
  },
  {
   "cell_type": "markdown",
   "metadata": {},
   "source": [
    "<div class=\"alert alert-block alert-warning\">\n",
    "    \n",
    "\n",
    "**Комментарий от ревьюера**\n",
    "\n",
    "Удобнее вывести названия гипотез целиком: `pd.set_option('max_colwidth', 200)` и округлить значения в колонке ICE до 2 знаков после запятой.\n",
    "    \n",
    "\n",
    "</div>"
   ]
  },
  {
   "cell_type": "markdown",
   "metadata": {},
   "source": [
    "Лидируют гипотезы: №8, №0, №7"
   ]
  },
  {
   "cell_type": "markdown",
   "metadata": {},
   "source": [
    "RICE"
   ]
  },
  {
   "cell_type": "code",
   "execution_count": 18,
   "metadata": {},
   "outputs": [
    {
     "data": {
      "text/html": [
       "<div>\n",
       "<style scoped>\n",
       "    .dataframe tbody tr th:only-of-type {\n",
       "        vertical-align: middle;\n",
       "    }\n",
       "\n",
       "    .dataframe tbody tr th {\n",
       "        vertical-align: top;\n",
       "    }\n",
       "\n",
       "    .dataframe thead th {\n",
       "        text-align: right;\n",
       "    }\n",
       "</style>\n",
       "<table border=\"1\" class=\"dataframe\">\n",
       "  <thead>\n",
       "    <tr style=\"text-align: right;\">\n",
       "      <th></th>\n",
       "      <th>hypothesis</th>\n",
       "      <th>reach</th>\n",
       "      <th>impact</th>\n",
       "      <th>confidence</th>\n",
       "      <th>efforts</th>\n",
       "      <th>ice</th>\n",
       "      <th>rice</th>\n",
       "    </tr>\n",
       "  </thead>\n",
       "  <tbody>\n",
       "    <tr>\n",
       "      <th>7</th>\n",
       "      <td>Добавить форму подписки на все основные страни...</td>\n",
       "      <td>10</td>\n",
       "      <td>7</td>\n",
       "      <td>8</td>\n",
       "      <td>5</td>\n",
       "      <td>11.200000</td>\n",
       "      <td>112.0</td>\n",
       "    </tr>\n",
       "    <tr>\n",
       "      <th>2</th>\n",
       "      <td>Добавить блоки рекомендаций товаров на сайт ин...</td>\n",
       "      <td>8</td>\n",
       "      <td>3</td>\n",
       "      <td>7</td>\n",
       "      <td>3</td>\n",
       "      <td>7.000000</td>\n",
       "      <td>56.0</td>\n",
       "    </tr>\n",
       "    <tr>\n",
       "      <th>0</th>\n",
       "      <td>Добавить два новых канала привлечения трафика,...</td>\n",
       "      <td>3</td>\n",
       "      <td>10</td>\n",
       "      <td>8</td>\n",
       "      <td>6</td>\n",
       "      <td>13.333333</td>\n",
       "      <td>40.0</td>\n",
       "    </tr>\n",
       "    <tr>\n",
       "      <th>6</th>\n",
       "      <td>Показать на главной странице баннеры с актуаль...</td>\n",
       "      <td>5</td>\n",
       "      <td>3</td>\n",
       "      <td>8</td>\n",
       "      <td>3</td>\n",
       "      <td>8.000000</td>\n",
       "      <td>40.0</td>\n",
       "    </tr>\n",
       "    <tr>\n",
       "      <th>8</th>\n",
       "      <td>Запустить акцию, дающую скидку на товар в день...</td>\n",
       "      <td>1</td>\n",
       "      <td>9</td>\n",
       "      <td>9</td>\n",
       "      <td>5</td>\n",
       "      <td>16.200000</td>\n",
       "      <td>16.2</td>\n",
       "    </tr>\n",
       "    <tr>\n",
       "      <th>3</th>\n",
       "      <td>Изменить структура категорий, что увеличит кон...</td>\n",
       "      <td>8</td>\n",
       "      <td>3</td>\n",
       "      <td>3</td>\n",
       "      <td>8</td>\n",
       "      <td>1.125000</td>\n",
       "      <td>9.0</td>\n",
       "    </tr>\n",
       "    <tr>\n",
       "      <th>1</th>\n",
       "      <td>Запустить собственную службу доставки, что сок...</td>\n",
       "      <td>2</td>\n",
       "      <td>5</td>\n",
       "      <td>4</td>\n",
       "      <td>10</td>\n",
       "      <td>2.000000</td>\n",
       "      <td>4.0</td>\n",
       "    </tr>\n",
       "    <tr>\n",
       "      <th>5</th>\n",
       "      <td>Добавить страницу отзывов клиентов о магазине,...</td>\n",
       "      <td>3</td>\n",
       "      <td>2</td>\n",
       "      <td>2</td>\n",
       "      <td>3</td>\n",
       "      <td>1.333333</td>\n",
       "      <td>4.0</td>\n",
       "    </tr>\n",
       "    <tr>\n",
       "      <th>4</th>\n",
       "      <td>Изменить цвет фона главной страницы, чтобы уве...</td>\n",
       "      <td>3</td>\n",
       "      <td>1</td>\n",
       "      <td>1</td>\n",
       "      <td>1</td>\n",
       "      <td>1.000000</td>\n",
       "      <td>3.0</td>\n",
       "    </tr>\n",
       "  </tbody>\n",
       "</table>\n",
       "</div>"
      ],
      "text/plain": [
       "                                          hypothesis  reach  impact  \\\n",
       "7  Добавить форму подписки на все основные страни...     10       7   \n",
       "2  Добавить блоки рекомендаций товаров на сайт ин...      8       3   \n",
       "0  Добавить два новых канала привлечения трафика,...      3      10   \n",
       "6  Показать на главной странице баннеры с актуаль...      5       3   \n",
       "8  Запустить акцию, дающую скидку на товар в день...      1       9   \n",
       "3  Изменить структура категорий, что увеличит кон...      8       3   \n",
       "1  Запустить собственную службу доставки, что сок...      2       5   \n",
       "5  Добавить страницу отзывов клиентов о магазине,...      3       2   \n",
       "4  Изменить цвет фона главной страницы, чтобы уве...      3       1   \n",
       "\n",
       "   confidence  efforts        ice   rice  \n",
       "7           8        5  11.200000  112.0  \n",
       "2           7        3   7.000000   56.0  \n",
       "0           8        6  13.333333   40.0  \n",
       "6           8        3   8.000000   40.0  \n",
       "8           9        5  16.200000   16.2  \n",
       "3           3        8   1.125000    9.0  \n",
       "1           4       10   2.000000    4.0  \n",
       "5           2        3   1.333333    4.0  \n",
       "4           1        1   1.000000    3.0  "
      ]
     },
     "execution_count": 18,
     "metadata": {},
     "output_type": "execute_result"
    }
   ],
   "source": [
    "hypothesis['rice'] = hypothesis['reach'] * hypothesis['impact'] * hypothesis['confidence'] / \\\n",
    "                    hypothesis['efforts']\n",
    "hypothesis.sort_values('rice', ascending=False)"
   ]
  },
  {
   "cell_type": "markdown",
   "metadata": {},
   "source": [
    "<div class=\"alert alert-block alert-success\">\n",
    "    \n",
    "**Комментарий от ревьюера**\n",
    "\n",
    "Молодец, что выводишь таблицу дважды, каждый раз с сортировкой по одному из фреймворков - так различия в их работе максимально наглядны.\n",
    "</div>"
   ]
  },
  {
   "cell_type": "markdown",
   "metadata": {},
   "source": [
    "Результаты несколько разнятся. Это связано с тем, что RICE учитывает оценку количества пользователей, которых затронут изменения и чем их больше, тем приоритет гипотезы выше. Для ICE этот критерий не учитывается.\n",
    "\n",
    "Стоит отметить, что в обоих случаях можно выделить приоритетными гипотезы под номерами 7, 0, 6. Несмотря на то, что их приоритет разнится при оценке разными фреймворками, в обоих случаях они вверху нашего \"рейтинга\". Гипотезы же 4, 5, 3, 1 в обоих случаях имеют низкий приоритет."
   ]
  },
  {
   "cell_type": "markdown",
   "metadata": {},
   "source": [
    "<div class=\"alert alert-block alert-danger\">\n",
    "    \n",
    "**Комментарий от ревьюера**\n",
    "\n",
    "Здесь стоит добавить чуть подробнее, в чем заключается различие формул, что обозначает охват пользователей, и какую гипотезу ты рекомендуешь тестировать первой. Так между частями проекта будет логическая связь.\n",
    "\n",
    "</div>"
   ]
  },
  {
   "cell_type": "markdown",
   "metadata": {},
   "source": [
    "<div class=\"alert alert-info\">\n",
    "    \n",
    "исправила\n",
    "</div>"
   ]
  },
  {
   "cell_type": "markdown",
   "metadata": {},
   "source": [
    "<div class=\"alert alert-block alert-success\">\n",
    "<b>Комментарий от ревьюера 2</b> \n",
    "    \n",
    "Здорово, теперь в выводе есть все что нужно.\n",
    "</div>"
   ]
  },
  {
   "cell_type": "markdown",
   "metadata": {},
   "source": [
    "# Анализ результатов A/B теста"
   ]
  },
  {
   "cell_type": "markdown",
   "metadata": {},
   "source": [
    "**1. Построим график кумулятивной выручки по группам.**"
   ]
  },
  {
   "attachments": {
    "image.png": {
     "image/png": "[encoded data removed]"
    }
   },
   "cell_type": "markdown",
   "metadata": {},
   "source": [
    "<div class=\"alert alert-warning\">\n",
    "<b>Комментарий от ревьюера</b> \n",
    "    \n",
    "Удобнее оформлять отдельные вопросы задания в виде заголовков markdown. Например вот так: \n",
    "\n",
    "![image.png](attachment:image.png)\n",
    "    \n",
    "Так ты сможешь быстро перейти в нужные пункты через оглавление тетрадки.\n",
    "    \n",
    "Подробнее о возможностях markdown сказано по ссылке:\n",
    "    \n",
    "https://github.com/sandino/Markdown-Cheatsheet\n",
    "\n",
    "</div>"
   ]
  },
  {
   "cell_type": "code",
   "execution_count": 19,
   "metadata": {},
   "outputs": [],
   "source": [
    "date_groups = orders[['date', 'group']].drop_duplicates().reset_index(drop=True)"
   ]
  },
  {
   "cell_type": "code",
   "execution_count": 20,
   "metadata": {},
   "outputs": [
    {
     "data": {
      "image/png": "[encoded data removed]",
      "text/plain": [
       "<Figure size 864x504 with 1 Axes>"
      ]
     },
     "metadata": {
      "needs_background": "light"
     },
     "output_type": "display_data"
    }
   ],
   "source": [
    "ordersAggregated = date_groups.apply(\n",
    "    lambda x: orders[\n",
    "        np.logical_and(\n",
    "            orders['date'] <= x['date'], orders['group'] == x['group']\n",
    "        )\n",
    "    ].agg(\n",
    "        {\n",
    "            'date': 'max',\n",
    "            'group': 'max',\n",
    "            'transaction_id' : 'nunique',\n",
    "            'visitor_id' : 'nunique',\n",
    "            'revenue': 'sum',\n",
    "        }\n",
    "    ),\n",
    "    axis=1,\n",
    ").sort_values(by=['date', 'group'])\n",
    "\n",
    "visitorsAggregated = date_groups.apply(\n",
    "    lambda x: visitors[\n",
    "        np.logical_and(\n",
    "            visitors['date'] <= x['date'], visitors['group'] == x['group']\n",
    "        )\n",
    "    ].agg({'date': 'max', 'group': 'max', 'visitors': 'sum'}),\n",
    "    axis=1,\n",
    ").sort_values(by=['date', 'group'])\n",
    "\n",
    "cumulativeData = ordersAggregated.merge(\n",
    "    visitorsAggregated, left_on=['date', 'group'], right_on=['date', 'group']\n",
    ")\n",
    "cumulativeData.columns = [\n",
    "    'date',\n",
    "    'group',\n",
    "    'orders',\n",
    "    'buyers',\n",
    "    'revenue',\n",
    "    'visitors',\n",
    "]\n",
    "\n",
    "cumulativeRevenueA = cumulativeData[cumulativeData['group']=='A'][['date','revenue', 'orders']]\n",
    "cumulativeRevenueB = cumulativeData[cumulativeData['group']=='B'][['date','revenue', 'orders']]\n",
    "\n",
    "plt.figure(figsize=(12, 7))\n",
    "plt.plot(cumulativeRevenueA['date'], cumulativeRevenueA['revenue'], label='A')\n",
    "plt.plot(cumulativeRevenueB['date'], cumulativeRevenueB['revenue'], label='B')\n",
    "plt.ylabel('Выручка')\n",
    "plt.xlabel('Дата')\n",
    "plt.title('График кумулятивной выручки по группам')\n",
    "plt.legend();"
   ]
  },
  {
   "cell_type": "markdown",
   "metadata": {},
   "source": [
    "Вывод: Выручка в обеих группах возрастает. В группе B выручка выше практически на протяжении всего месяца, в этой группе наблюдается резкий рост 19го августа, что может сигнализировать о всплесках числа заказов либо об очень дорогих заказах."
   ]
  },
  {
   "cell_type": "markdown",
   "metadata": {},
   "source": [
    "<div class=\"alert alert-block alert-success\">\n",
    "    \n",
    "**Комментарий от ревьюера**\n",
    "\n",
    "Верно, пока мы не знаем, с чем связан скачок в группе B: с резким увеличением количества заказов или с ростом стоимости.\n",
    "</div>"
   ]
  },
  {
   "cell_type": "markdown",
   "metadata": {},
   "source": [
    "**2. Построим график кумулятивного среднего чека по группам.**"
   ]
  },
  {
   "cell_type": "code",
   "execution_count": 21,
   "metadata": {},
   "outputs": [
    {
     "data": {
      "image/png": "[encoded data removed]",
      "text/plain": [
       "<Figure size 864x504 with 1 Axes>"
      ]
     },
     "metadata": {
      "needs_background": "light"
     },
     "output_type": "display_data"
    }
   ],
   "source": [
    "cumulativeRevenueA = cumulativeData[cumulativeData['group'] == 'A'][['date', 'revenue', 'orders']]\n",
    "cumulativeRevenueB = cumulativeData[cumulativeData['group'] == 'B'][['date', 'revenue', 'orders']]\n",
    "\n",
    "plt.figure(figsize=(12, 7))\n",
    "plt.plot(cumulativeRevenueA['date'], cumulativeRevenueA['revenue']/cumulativeRevenueA['orders'], label='A')\n",
    "plt.plot(cumulativeRevenueB['date'], cumulativeRevenueB['revenue']/cumulativeRevenueB['orders'], label='B')\n",
    "plt.ylabel('Кумулятивный cредний чек')\n",
    "plt.xlabel('Дата')\n",
    "plt.title('График кумулятивного среднего чека по группам')\n",
    "plt.legend();"
   ]
  },
  {
   "cell_type": "markdown",
   "metadata": {},
   "source": [
    "Вывод: К концу графика средний чек стабилизируется. Скорее всего, в группу B в середине теста попали крупные заказы (резкий всплеск на графике). Возможно нужно больше данных, чтобы прийти к реальному среднему чеку."
   ]
  },
  {
   "cell_type": "markdown",
   "metadata": {},
   "source": [
    "<div class=\"alert alert-block alert-success\">\n",
    "    \n",
    "**Комментарий от ревьюера**\n",
    "    \n",
    "Да, крупные заказы могли стать причиной резкого роста.\n",
    "</div>"
   ]
  },
  {
   "cell_type": "markdown",
   "metadata": {},
   "source": [
    "**3. Построим график относительного изменения кумулятивного среднего чека группы B к группе A.**"
   ]
  },
  {
   "cell_type": "code",
   "execution_count": 22,
   "metadata": {},
   "outputs": [
    {
     "data": {
      "image/png": "[encoded data removed]",
      "text/plain": [
       "<Figure size 864x504 with 1 Axes>"
      ]
     },
     "metadata": {
      "needs_background": "light"
     },
     "output_type": "display_data"
    }
   ],
   "source": [
    "cumulativeRevenueA = cumulativeData[cumulativeData['group'] == 'A'][['date', 'revenue', 'orders']]\n",
    "cumulativeRevenueB = cumulativeData[cumulativeData['group'] == 'B'][['date', 'revenue', 'orders']]\n",
    "\n",
    "plt.figure(figsize=(12, 7))\n",
    "mergedCumulativeRevenue = cumulativeRevenueA.merge(cumulativeRevenueB, left_on='date', right_on='date', how='left', suffixes=['A', 'B'])\n",
    "plt.plot(mergedCumulativeRevenue['date'], (mergedCumulativeRevenue['revenueB']/mergedCumulativeRevenue['ordersB'])/(mergedCumulativeRevenue['revenueA']/mergedCumulativeRevenue['ordersA'])-1)\n",
    "plt.ylabel('Различие в среднем чеке')\n",
    "plt.xlabel('Дата')\n",
    "plt.axhline(y=0, color='black', linestyle='--')\n",
    "plt.title('график относительного изменения кумулятивного среднего чека группы B к группе A');"
   ]
  },
  {
   "cell_type": "markdown",
   "metadata": {},
   "source": [
    "Вывод: 13.08 график опускается в низшую точку. Видны резкие перепады, особенно 18.08. Очевидно есть выбросы. Результаты теста резко менялись в некоторые даты, возможно тогда были сделаны анамальные заказы."
   ]
  },
  {
   "cell_type": "markdown",
   "metadata": {},
   "source": [
    "<div class=\"alert alert-block alert-success\">\n",
    "    \n",
    "**Комментарий от ревьюера**\n",
    "    \n",
    "Действительно, этот график не стабилизировался.\n",
    "</div>"
   ]
  },
  {
   "cell_type": "markdown",
   "metadata": {},
   "source": [
    "**4. Посторим график кумулятивного среднего количества заказов на посетителя по группам.**"
   ]
  },
  {
   "cell_type": "code",
   "execution_count": 23,
   "metadata": {},
   "outputs": [
    {
     "data": {
      "image/png": "[encoded data removed]",
      "text/plain": [
       "<Figure size 864x504 with 1 Axes>"
      ]
     },
     "metadata": {
      "needs_background": "light"
     },
     "output_type": "display_data"
    }
   ],
   "source": [
    "cumulativeData['conversion'] = cumulativeData['orders']/cumulativeData['visitors']\n",
    "cumulativeDataA = cumulativeData[cumulativeData['group']=='A']\n",
    "cumulativeDataB = cumulativeData[cumulativeData['group']=='B']\n",
    "plt.figure(figsize=(12, 7))\n",
    "plt.plot(cumulativeDataA['date'], cumulativeDataA['conversion'], label='A')\n",
    "plt.plot(cumulativeDataB['date'], cumulativeDataB['conversion'], label='B')\n",
    "plt.ylabel('Кумулятивное среднее количество заказов на посетителя ')\n",
    "plt.xlabel('Дата')\n",
    "plt.title('график кумулятивного среднего количества заказов на посетителя по группам');\n",
    "plt.legend();"
   ]
  },
  {
   "attachments": {
    "2023-11-28%2018%2056%2000.png": {
     "image/png": "[encoded data removed]"
    }
   },
   "cell_type": "markdown",
   "metadata": {},
   "source": [
    "<div class=\"alert alert-block alert-danger\">\n",
    "    \n",
    "**Комментарий от ревьюера**\n",
    "    \n",
    "Здесь и дальше ты называешь один и тот же показатель иногда \"конверсией\", а иногда \"средним количеством заказов на посетителя\". Вторая формулировка более корректная, так как для расчета конверсии в чистом виде, нам нужны id посетителей. Поправь, пожалуйста, формулировки, это можно сделать с помощью автозамены: в меню Edit ➡ Find and Replace. \n",
    "    \n",
    "Кнопка со скриншота ниже позволяет сделать замены сразу во всех ячейках:\n",
    "    \n",
    "![2023-11-28%2018%2056%2000.png](attachment:2023-11-28%2018%2056%2000.png)\n",
    "    \n",
    "</div>"
   ]
  },
  {
   "cell_type": "markdown",
   "metadata": {},
   "source": [
    "<div class=\"alert alert-info\">\n",
    "    \n",
    "исправила\n",
    "</div>"
   ]
  },
  {
   "cell_type": "markdown",
   "metadata": {},
   "source": [
    "<div class=\"alert alert-block alert-success\">\n",
    "<b>Комментарий от ревьюера 2</b> \n",
    "    \n",
    "Всё верно, формулировки совпадают.\n",
    "</div>"
   ]
  },
  {
   "cell_type": "markdown",
   "metadata": {},
   "source": [
    "Изначально среднее количество заказов на посетителя группы А было выше группы В, но после 7.08 среднее количество заказов на посетителя группы В начало возростать и зафиксировалось, а группы А уменьшилось и также зафиксировалась."
   ]
  },
  {
   "cell_type": "markdown",
   "metadata": {},
   "source": [
    "**5. Построим график относительного изменения кумулятивного среднего количества заказов на посетителя группы B к группе A.**"
   ]
  },
  {
   "cell_type": "code",
   "execution_count": 24,
   "metadata": {},
   "outputs": [
    {
     "data": {
      "image/png": "[encoded data removed]",
      "text/plain": [
       "<Figure size 864x504 with 1 Axes>"
      ]
     },
     "metadata": {
      "needs_background": "light"
     },
     "output_type": "display_data"
    }
   ],
   "source": [
    "cumulativeData['conversion'] = (cumulativeData['orders'] / cumulativeData['visitors'])\n",
    "cumulativeDataA = cumulativeData[cumulativeData['group'] == 'A']\n",
    "cumulativeDataB = cumulativeData[cumulativeData['group'] == 'B']\n",
    "\n",
    "mergedCumulativeConversions = cumulativeDataA[['date','conversion']].merge(cumulativeDataB[['date','conversion']], left_on='date', right_on='date', how='left', suffixes=['A', 'B'])\n",
    "plt.figure(figsize=(12, 7))\n",
    "plt.plot(mergedCumulativeConversions['date'], mergedCumulativeConversions['conversionB']/mergedCumulativeConversions['conversionA']-1, label=\"Относительный прирост среднего количества заказов на посетителя группы B относительно группы A\")\n",
    "plt.ylabel('Относительное различие кумулятивных среднего количества заказов на посетителя')\n",
    "plt.xlabel('Дата')\n",
    "plt.title('график кумулятивного среднего количества заказов на посетителя по группам')\n",
    "plt.legend();"
   ]
  },
  {
   "cell_type": "markdown",
   "metadata": {},
   "source": [
    "<div class=\"alert alert-block alert-warning\">\n",
    "    \n",
    "**Комментарий от ревьюера**\n",
    "\n",
    "Для удобства на график можно добавить линию на значение 0 и еще одну линию серым цветом на значение 0.15 по оси y, так как около этого значения намечается тенденция к стабилизации.\n",
    "    \n",
    "</div>"
   ]
  },
  {
   "cell_type": "markdown",
   "metadata": {},
   "source": [
    "Вывод: В начале теста группа B просела относительно группы A, затем резко выросла и стабилизировалась."
   ]
  },
  {
   "cell_type": "markdown",
   "metadata": {},
   "source": [
    "**6. Построим точечный график количества заказов по пользователям.**"
   ]
  },
  {
   "cell_type": "code",
   "execution_count": 25,
   "metadata": {},
   "outputs": [
    {
     "data": {
      "text/html": [
       "<div>\n",
       "<style scoped>\n",
       "    .dataframe tbody tr th:only-of-type {\n",
       "        vertical-align: middle;\n",
       "    }\n",
       "\n",
       "    .dataframe tbody tr th {\n",
       "        vertical-align: top;\n",
       "    }\n",
       "\n",
       "    .dataframe thead th {\n",
       "        text-align: right;\n",
       "    }\n",
       "</style>\n",
       "<table border=\"1\" class=\"dataframe\">\n",
       "  <thead>\n",
       "    <tr style=\"text-align: right;\">\n",
       "      <th></th>\n",
       "      <th>visitor_id</th>\n",
       "      <th>orders</th>\n",
       "    </tr>\n",
       "  </thead>\n",
       "  <tbody>\n",
       "    <tr>\n",
       "      <th>0</th>\n",
       "      <td>5114589</td>\n",
       "      <td>1</td>\n",
       "    </tr>\n",
       "    <tr>\n",
       "      <th>1</th>\n",
       "      <td>6958315</td>\n",
       "      <td>1</td>\n",
       "    </tr>\n",
       "    <tr>\n",
       "      <th>2</th>\n",
       "      <td>11685486</td>\n",
       "      <td>1</td>\n",
       "    </tr>\n",
       "    <tr>\n",
       "      <th>3</th>\n",
       "      <td>39475350</td>\n",
       "      <td>1</td>\n",
       "    </tr>\n",
       "    <tr>\n",
       "      <th>4</th>\n",
       "      <td>47206413</td>\n",
       "      <td>1</td>\n",
       "    </tr>\n",
       "    <tr>\n",
       "      <th>...</th>\n",
       "      <td>...</td>\n",
       "      <td>...</td>\n",
       "    </tr>\n",
       "    <tr>\n",
       "      <th>968</th>\n",
       "      <td>4259830713</td>\n",
       "      <td>1</td>\n",
       "    </tr>\n",
       "    <tr>\n",
       "      <th>969</th>\n",
       "      <td>4278982564</td>\n",
       "      <td>1</td>\n",
       "    </tr>\n",
       "    <tr>\n",
       "      <th>970</th>\n",
       "      <td>4279090005</td>\n",
       "      <td>1</td>\n",
       "    </tr>\n",
       "    <tr>\n",
       "      <th>971</th>\n",
       "      <td>4281247801</td>\n",
       "      <td>1</td>\n",
       "    </tr>\n",
       "    <tr>\n",
       "      <th>972</th>\n",
       "      <td>4283872382</td>\n",
       "      <td>1</td>\n",
       "    </tr>\n",
       "  </tbody>\n",
       "</table>\n",
       "<p>973 rows × 2 columns</p>\n",
       "</div>"
      ],
      "text/plain": [
       "     visitor_id  orders\n",
       "0       5114589       1\n",
       "1       6958315       1\n",
       "2      11685486       1\n",
       "3      39475350       1\n",
       "4      47206413       1\n",
       "..          ...     ...\n",
       "968  4259830713       1\n",
       "969  4278982564       1\n",
       "970  4279090005       1\n",
       "971  4281247801       1\n",
       "972  4283872382       1\n",
       "\n",
       "[973 rows x 2 columns]"
      ]
     },
     "execution_count": 25,
     "metadata": {},
     "output_type": "execute_result"
    }
   ],
   "source": [
    "ordersByUsers = orders.groupby('visitor_id', as_index=False).agg({'transaction_id' : pd.Series.nunique})\n",
    "ordersByUsers.columns = ['visitor_id','orders']\n",
    "ordersByUsers"
   ]
  },
  {
   "cell_type": "code",
   "execution_count": 26,
   "metadata": {},
   "outputs": [
    {
     "data": {
      "image/png": "[encoded data removed]",
      "text/plain": [
       "<Figure size 864x504 with 1 Axes>"
      ]
     },
     "metadata": {
      "needs_background": "light"
     },
     "output_type": "display_data"
    }
   ],
   "source": [
    "x_values = pd.Series(range(0,len(ordersByUsers)))\n",
    "\n",
    "plt.figure(figsize=(12, 7))\n",
    "plt.grid(True)\n",
    "plt.title('точечный график количества заказов по пользователям')\n",
    "ax = plt.gca()\n",
    "ax.set_xlabel('Пользователи')\n",
    "ax.set_ylabel('Количество заказов')\n",
    "plt.scatter(x_values, ordersByUsers['orders']);"
   ]
  },
  {
   "cell_type": "markdown",
   "metadata": {},
   "source": [
    "Вывод: Большинство покупателей выполняли заказ только 1 раз, также есть покупатели которые выполняли заказы 2 или 3 раза."
   ]
  },
  {
   "cell_type": "markdown",
   "metadata": {},
   "source": [
    "**7. Посчитаем 95-й и 99-й перцентили количества заказов на пользователя. Выберем границу для определения аномальных пользователей.**"
   ]
  },
  {
   "cell_type": "code",
   "execution_count": 27,
   "metadata": {},
   "outputs": [
    {
     "data": {
      "text/plain": [
       "array([1., 2.])"
      ]
     },
     "execution_count": 27,
     "metadata": {},
     "output_type": "execute_result"
    }
   ],
   "source": [
    "np.percentile(ordersByUsers['orders'], [95, 99])"
   ]
  },
  {
   "cell_type": "markdown",
   "metadata": {},
   "source": [
    "Вывод: Не более 5% пользователей оформляли больше одного заказа. И 1% пользователей заказывал более двух раз. Примем 2 заказа на одного пользователя за нижнюю границу числа заказов."
   ]
  },
  {
   "cell_type": "markdown",
   "metadata": {},
   "source": [
    "<div class=\"alert alert-block alert-success\">\n",
    "    \n",
    "**Комментарий от ревьюера**\n",
    "    \n",
    "Такое определение выбросов для количества заказов корректно.\n",
    "</div>"
   ]
  },
  {
   "cell_type": "markdown",
   "metadata": {},
   "source": [
    "**8. Построем точечный график стоимостей заказов.**"
   ]
  },
  {
   "cell_type": "code",
   "execution_count": 28,
   "metadata": {},
   "outputs": [
    {
     "data": {
      "image/png": "[encoded data removed]",
      "text/plain": [
       "<Figure size 864x504 with 1 Axes>"
      ]
     },
     "metadata": {
      "needs_background": "light"
     },
     "output_type": "display_data"
    }
   ],
   "source": [
    "x_values = pd.Series(range(0,len(orders['revenue'])))\n",
    "\n",
    "plt.figure(figsize=(12, 7))\n",
    "plt.grid(True)\n",
    "plt.title('Точечная диаграмма стоимостей заказов')\n",
    "ax = plt.gca()\n",
    "ax.set_xlabel('Пользователи')\n",
    "ax.set_ylabel('Стоимость заказа (до 100 000)')\n",
    "plt.ylim(0, 100000)\n",
    "plt.scatter(x_values, orders['revenue']);"
   ]
  },
  {
   "cell_type": "markdown",
   "metadata": {},
   "source": [
    "<div class=\"alert alert-block alert-warning\">\n",
    "    \n",
    "**Комментарий от ревьюера**\n",
    "\n",
    "Полезно добавить еще один график, без ограничения по оси Y. Так мы будем видеть и выбросы, и основную часть заказов.\n",
    "\n",
    "</div>"
   ]
  },
  {
   "cell_type": "markdown",
   "metadata": {},
   "source": [
    "Вывод: Большинство заказов не превышает 20 000, но есть выбросы около 100 000."
   ]
  },
  {
   "cell_type": "markdown",
   "metadata": {},
   "source": [
    "**9. Посчитаем 95-й и 99-й перцентили стоимости заказов. Выберем границу для определения аномальных заказов.**"
   ]
  },
  {
   "cell_type": "code",
   "execution_count": 29,
   "metadata": {},
   "outputs": [
    {
     "data": {
      "text/plain": [
       "array([26785., 53904.])"
      ]
     },
     "execution_count": 29,
     "metadata": {},
     "output_type": "execute_result"
    }
   ],
   "source": [
    "np.percentile(orders['revenue'], [95, 99])"
   ]
  },
  {
   "cell_type": "markdown",
   "metadata": {},
   "source": [
    "Вывод: Не более 5% заказов дороже 26 785 рублей. И только 1% заказов дороже 53 904 рублей. Определим 53 904 за нижнюю границу стоимости заказов."
   ]
  },
  {
   "cell_type": "markdown",
   "metadata": {},
   "source": [
    "<div class=\"alert alert-block alert-success\"> <b>Комментарий от ревьюера</b> \n",
    "    \n",
    "Молодец, что разобралась с аномалиями в данных и корректно освоила расчет кумулятивных метрик.\n",
    "</div>"
   ]
  },
  {
   "cell_type": "markdown",
   "metadata": {},
   "source": [
    "**10. Посчитаем статистическую значимость различий в среднем количестве заказов на посетителя между группами по «сырым» данным.**"
   ]
  },
  {
   "cell_type": "markdown",
   "metadata": {},
   "source": [
    "<div class=\"alert alert-block alert-danger\">\n",
    "    \n",
    "**Комментарий от ревьюера**\n",
    "    \n",
    "Нужно еще указать, какой метод будет использоваться для проверки гипотез и почему.\n",
    "</div>"
   ]
  },
  {
   "cell_type": "markdown",
   "metadata": {},
   "source": [
    "<div class=\"alert alert-info\">\n",
    "    \n",
    "не совсем поняла, что именно нужно здесь указать, буду очень благодарна за подсказку)\n",
    "</div>"
   ]
  },
  {
   "cell_type": "markdown",
   "metadata": {},
   "source": [
    "<a id=\"comm1\"></a>\n",
    "<div class=\"alert alert-block alert-danger\">\n",
    "    \n",
    "**Комментарий от ревьюера 2**\n",
    "    \n",
    "Мы используем метод Манна-Уитни. Надо сказать об этом и пояснить, почему он здесь подходит.\n",
    "</div>"
   ]
  },
  {
   "cell_type": "markdown",
   "metadata": {},
   "source": [
    "<div class=\"alert alert-info\">\n",
    "    \n",
    "сделала\n",
    "</div>"
   ]
  },
  {
   "cell_type": "markdown",
   "metadata": {},
   "source": [
    "<div class=\"alert alert-block alert-success\"> <b>Комментарий от ревьюера 2</b> \n",
    "    \n",
    "Молодец, что сделала дополнительную проверку.\n",
    "</div>"
   ]
  },
  {
   "cell_type": "markdown",
   "metadata": {},
   "source": [
    "Перед тестом Манна-Уитни проверим гипотезу о нормальном распределении с помощью критерия Шапиро-Уилка:\n",
    "\n",
    "- Нулевая гипотеза: среднее количество заказов на посетителя группы A распределено нормально \n",
    "- Альтернативная гипотеза: среднее количество заказов на посетителя группы A не распределено нормально\n",
    " \n",
    "α=5% критический уровень статистической значимости.\n",
    "\n",
    "**Аналогично для группы B.**"
   ]
  },
  {
   "cell_type": "code",
   "execution_count": 30,
   "metadata": {},
   "outputs": [
    {
     "name": "stdout",
     "output_type": "stream",
     "text": [
      "Shapiro-Wilk normality test, W-statistic: 0.132646, p-value: 0.000000\n",
      "Отклонить гипотезу о нормальности распределении группа А\n",
      "Shapiro-Wilk normality test, W-statistic: 0.150587, p-value: 0.000000\n",
      "Отклонить гипотезу о нормальности распределении группа В\n"
     ]
    },
    {
     "name": "stderr",
     "output_type": "stream",
     "text": [
      "/opt/conda/lib/python3.9/site-packages/scipy/stats/_morestats.py:1800: UserWarning: p-value may not be accurate for N > 5000.\n",
      "  warnings.warn(\"p-value may not be accurate for N > 5000.\")\n"
     ]
    }
   ],
   "source": [
    "visitorsADaily = visitors[visitors['group'] == 'A'][['date', 'visitors']]\n",
    "visitorsADaily.columns = ['date', 'visitorsPerDateA']\n",
    "\n",
    "visitorsACummulative = visitorsADaily.apply(\n",
    "    lambda x: visitorsADaily[visitorsADaily['date'] <= x['date']].agg(\n",
    "        {'date': 'max', 'visitorsPerDateA': 'sum'}\n",
    "    ),\n",
    "    axis=1,\n",
    ")\n",
    "visitorsACummulative.columns = ['date', 'visitorsCummulativeA']\n",
    "\n",
    "visitorsBDaily = visitors[visitors['group'] == 'B'][['date', 'visitors']]\n",
    "visitorsBDaily.columns = ['date', 'visitorsPerDateB']\n",
    "\n",
    "visitorsBCummulative = visitorsBDaily.apply(\n",
    "    lambda x: visitorsBDaily[visitorsBDaily['date'] <= x['date']].agg(\n",
    "        {'date': 'max', 'visitorsPerDateB': 'sum'}\n",
    "    ),\n",
    "    axis=1,\n",
    ")\n",
    "visitorsBCummulative.columns = ['date', 'visitorsCummulativeB']\n",
    "\n",
    "ordersADaily = (\n",
    "    orders[orders['group'] == 'A'][['date', 'transaction_id', 'visitor_id', 'revenue']]\n",
    "    .groupby('date', as_index=False)\n",
    "    .agg({'transaction_id': pd.Series.nunique, 'revenue': 'sum'})\n",
    ")\n",
    "ordersADaily.columns = ['date', 'ordersPerDateA', 'revenuePerDateA']\n",
    "\n",
    "ordersACummulative = ordersADaily.apply(\n",
    "    lambda x: ordersADaily[ordersADaily['date'] <= x['date']].agg(\n",
    "        {'date': 'max', 'ordersPerDateA': 'sum', 'revenuePerDateA': 'sum'}\n",
    "    ),\n",
    "    axis=1,\n",
    ").sort_values(by=['date'])\n",
    "ordersACummulative.columns = [\n",
    "    'date',\n",
    "    'ordersCummulativeA',\n",
    "    'revenueCummulativeA',\n",
    "]\n",
    "\n",
    "ordersBDaily = (\n",
    "    orders[orders['group'] == 'B'][['date', 'transaction_id', 'visitor_id', 'revenue']]\n",
    "    .groupby('date', as_index=False)\n",
    "    .agg({'transaction_id': pd.Series.nunique, 'revenue': 'sum'})\n",
    ")\n",
    "ordersBDaily.columns = ['date', 'ordersPerDateB', 'revenuePerDateB']\n",
    "\n",
    "ordersBCummulative = ordersBDaily.apply(\n",
    "    lambda x: ordersBDaily[ordersBDaily['date'] <= x['date']].agg(\n",
    "        {'date': 'max', 'ordersPerDateB': 'sum', 'revenuePerDateB': 'sum'}\n",
    "    ),\n",
    "    axis=1,\n",
    ").sort_values(by=['date'])\n",
    "ordersBCummulative.columns = [\n",
    "    'date',\n",
    "    'ordersCummulativeB',\n",
    "    'revenueCummulativeB',\n",
    "]\n",
    "\n",
    "data = (\n",
    "    ordersADaily.merge(\n",
    "        ordersBDaily, left_on='date', right_on='date', how='left'\n",
    "    )\n",
    "    .merge(ordersACummulative, left_on='date', right_on='date', how='left')\n",
    "    .merge(ordersBCummulative, left_on='date', right_on='date', how='left')\n",
    "    .merge(visitorsADaily, left_on='date', right_on='date', how='left')\n",
    "    .merge(visitorsBDaily, left_on='date', right_on='date', how='left')\n",
    "    .merge(visitorsACummulative, left_on='date', right_on='date', how='left')\n",
    "    .merge(visitorsBCummulative, left_on='date', right_on='date', how='left')\n",
    ")\n",
    "\n",
    "# для пользователей, совершивших хотя бы 1 заказ, будет указано число заказов\n",
    "ordersByUsersA = (\n",
    "    orders[orders['group'] == 'A']\n",
    "    .groupby('visitor_id', as_index=False)\n",
    "    .agg({'transaction_id': pd.Series.nunique})\n",
    ")\n",
    "ordersByUsersA.columns = ['userId', 'orders']\n",
    "\n",
    "ordersByUsersB = (\n",
    "    orders[orders['group'] == 'B']\n",
    "    .groupby('visitor_id', as_index=False)\n",
    "    .agg({'transaction_id': pd.Series.nunique})\n",
    ")\n",
    "ordersByUsersB.columns = ['user_id', 'orders'] \n",
    "\n",
    "# пользователям с заказами будет соответствовать число заказов пользователя, а пользователям без заказов — нули\n",
    "sampleA = pd.concat([ordersByUsersA['orders'],pd.Series(0, index=np.arange(data['visitorsPerDateA'].sum() - len(ordersByUsersA['orders'])), name='orders')],axis=0)\n",
    "\n",
    "sampleB = pd.concat([ordersByUsersB['orders'],pd.Series(0, index=np.arange(data['visitorsPerDateB'].sum() - len(ordersByUsersB['orders'])), name='orders')],axis=0)\n",
    "\n",
    "# зададим уровень значимости 5%\n",
    "alpha=0.05\n",
    "p=st.shapiro(sampleA)\n",
    "print(\"Shapiro-Wilk normality test, W-statistic: %f, p-value: %f\" % p)\n",
    "if p[1] > alpha:\n",
    "    print('Принять гипотезу о нормальности распределении группа А')\n",
    "else:\n",
    "    print('Отклонить гипотезу о нормальности распределении группа А')\n",
    "    \n",
    "p=st.shapiro(sampleB)\n",
    "print(\"Shapiro-Wilk normality test, W-statistic: %f, p-value: %f\" % p)\n",
    "if p[1] > alpha:\n",
    "    print('Принять гипотезу о нормальности распределении группа В')\n",
    "else:\n",
    "    print('Отклонить гипотезу о нормальности распределении группа В')"
   ]
  },
  {
   "cell_type": "markdown",
   "metadata": {},
   "source": [
    "Поскольку  в обеих группах данные не подходят под нормальное распределение - воспользуемся U-критерием Манна — Уитни"
   ]
  },
  {
   "cell_type": "markdown",
   "metadata": {},
   "source": [
    "Сформулируем гипотезы.\n",
    "\n",
    "- Нулевая: Cтатистически значимых различий в среднем количестве заказов на посетителя между группами нет.\n",
    "- Альтернативная: Cтатистически значимые различия в среднем количестве заказов на посетителя между группами есть.\n",
    "\n",
    "α=5% критический уровень статистической значимости."
   ]
  },
  {
   "cell_type": "code",
   "execution_count": 31,
   "metadata": {},
   "outputs": [],
   "source": [
    "visitorsADaily = visitors[visitors['group']=='A'][['date', 'visitors']]\n",
    "visitorsADaily.columns = ['date', 'visitorsPerDateA']\n",
    "\n",
    "visitorsACummulative = visitorsADaily.apply(lambda x: visitorsADaily[visitorsADaily['date'] <= x['date']]. \\\n",
    "                                            agg({'date' : 'max', 'visitorsPerDateA' : 'sum'}), axis=1)\n",
    "visitorsACummulative.columns = ['date', 'visitorsCummulativeA']\n",
    "\n",
    "visitorsBDaily = visitors[visitors['group']=='B'][['date', 'visitors']]\n",
    "visitorsBDaily.columns = ['date', 'visitorsPerDateB']\n",
    "\n",
    "visitorsBCummulative = visitorsBDaily.apply(lambda x: visitorsBDaily[visitorsBDaily['date'] <= x['date']]. \\\n",
    "                                            agg({'date' : 'max', 'visitorsPerDateB' : 'sum'}), axis=1)\n",
    "visitorsBCummulative.columns = ['date', 'visitorsCummulativeB']\n",
    "\n",
    "\n",
    "ordersADaily = orders[orders['group']=='A'][['date', 'transaction_id', 'visitor_id', 'revenue']]\\\n",
    "    .groupby('date', as_index=False)\\\n",
    "    .agg({'transaction_id' : pd.Series.nunique, 'revenue' : 'sum'})\n",
    "ordersADaily.columns = ['date', 'ordersPerDateA', 'revenuePerDateA']\n",
    "\n",
    "ordersACummulative = ordersADaily.apply(\n",
    "    lambda x: \\\n",
    "        ordersADaily[ordersADaily['date'] <= x['date']]\\\n",
    "            .agg({\n",
    "                'date' : 'max',\n",
    "                'ordersPerDateA' : 'sum',\n",
    "                'revenuePerDateA' : 'sum'}), axis=1).sort_values(by=['date'])\n",
    "ordersACummulative.columns = ['date', 'ordersCummulativeA', 'revenueCummulativeA']\n",
    "\n",
    "ordersBDaily = orders[orders['group']=='B'][['date', 'transaction_id', 'visitor_id', 'revenue']]\\\n",
    "    .groupby('date', as_index=False)\\\n",
    "    .agg({'transaction_id' : pd.Series.nunique, 'revenue' : 'sum'})\n",
    "ordersBDaily.columns = ['date', 'ordersPerDateB', 'revenuePerDateB']\n",
    "\n",
    "ordersBCummulative = ordersBDaily.apply(\n",
    "    lambda x: \\\n",
    "        ordersBDaily[ordersBDaily['date'] <= x['date']]\\\n",
    "            .agg({\n",
    "                'date' : 'max',\n",
    "                'ordersPerDateB' : 'sum',\n",
    "                'revenuePerDateB' : 'sum'}), axis=1).sort_values(by=['date'])\n",
    "ordersBCummulative.columns = ['date', 'ordersCummulativeB', 'revenueCummulativeB']"
   ]
  },
  {
   "cell_type": "code",
   "execution_count": 32,
   "metadata": {},
   "outputs": [],
   "source": [
    "data = ordersADaily.merge(ordersBDaily, left_on='date', right_on='date', how='left')\\\n",
    "    .merge(ordersACummulative, left_on='date', right_on='date', how='left')\\\n",
    "    .merge(ordersBCummulative, left_on='date', right_on='date', how='left')\\\n",
    "    .merge(visitorsADaily, left_on='date', right_on='date', how='left')\\\n",
    "    .merge(visitorsBDaily, left_on='date', right_on='date', how='left')\\\n",
    "    .merge(visitorsACummulative, left_on='date', right_on='date', how='left')\\\n",
    "    .merge(visitorsBCummulative, left_on='date', right_on='date', how='left')"
   ]
  },
  {
   "cell_type": "markdown",
   "metadata": {},
   "source": [
    "<div class=\"alert alert-block alert-warning\">\n",
    "    \n",
    "**Комментарий от ревьюера**\n",
    "\n",
    "Код в ячейках 28-29 можно сократить: нам не нужно собирать кумулятивные данные для проверки гипотез, потому что это уже сделано выше.\n",
    "\n",
    "</div>"
   ]
  },
  {
   "cell_type": "code",
   "execution_count": 33,
   "metadata": {},
   "outputs": [
    {
     "name": "stdout",
     "output_type": "stream",
     "text": [
      "p-значение: 0.011\n",
      "Отвергаем нулевую гипотезу: \"Cтатистически значимых различий в среднем количестве заказов на посетителя между группами нет\".\n",
      "Относительный прирост среднего количества заказов на посетителя группы B: 0.160\n"
     ]
    }
   ],
   "source": [
    "ordersByUsersA = orders[orders['group']=='A'].groupby('visitor_id', as_index=False).agg({'transaction_id' : pd.Series.nunique})\n",
    "ordersByUsersA.columns = ['userId', 'orders']\n",
    "\n",
    "ordersByUsersB = orders[orders['group']=='B'].groupby('visitor_id', as_index=False).agg({'transaction_id' : pd.Series.nunique})\n",
    "ordersByUsersB.columns = ['userId', 'orders']\n",
    "\n",
    "sampleA = pd.concat([ordersByUsersA['orders'],pd.Series(0, index=np.arange(data['visitorsPerDateA'].sum() - len(ordersByUsersA['orders'])), name='orders')],axis=0)\n",
    "\n",
    "sampleB = pd.concat([ordersByUsersB['orders'],pd.Series(0, index=np.arange(data['visitorsPerDateB'].sum() - len(ordersByUsersB['orders'])), name='orders')],axis=0)\n",
    "\n",
    "alpha = 0.05\n",
    "results=st.mannwhitneyu(sampleA, sampleB)\n",
    "print('p-значение: {:.3f}'.format(results.pvalue))\n",
    "if (results.pvalue < alpha):\n",
    "    print('Отвергаем нулевую гипотезу: \"Cтатистически значимых различий в среднем количестве заказов на посетителя между группами нет\".')\n",
    "else:\n",
    "    print('Не получилось отвергнуть нулевую гипотезу: \"Cтатистически значимых различий в среднем количестве заказов на посетителя между группами нет.\".')\n",
    "\n",
    "print(\"Относительный прирост среднего количества заказов на посетителя группы B: {0:.3f}\".format(sampleB.mean()/sampleA.mean()-1))"
   ]
  },
  {
   "cell_type": "markdown",
   "metadata": {},
   "source": [
    "<div class=\"alert alert-block alert-success\">\n",
    "    \n",
    "**Комментарий от ревьюера**\n",
    "\n",
    "Хорошо, что ты подписываешь выводимые числа. Так их нельзя перепутать.\n",
    "</div>"
   ]
  },
  {
   "cell_type": "markdown",
   "metadata": {},
   "source": [
    "Первое число — p-value = 0.011 меньше 0.05. Значит, нулевую гипотезу о том, что в сренем количество заказов равно и статистически значимых различий  между группами нет отвергаем. Среднее количество заказов различаются значимо.\n",
    "Относительный проигрыш группы A составляет 16%"
   ]
  },
  {
   "cell_type": "markdown",
   "metadata": {},
   "source": [
    "**11. Посчитаем статистическую значимость различий в среднем чеке заказа между группами по «сырым» данным.**"
   ]
  },
  {
   "cell_type": "markdown",
   "metadata": {},
   "source": [
    "- Нулевая гипотеза :Средние чеки групп A и B равны, статистически значимых отличий нет.\n",
    "- Альтернативная гипотеза :Средние чеки групп A и B различны, статистически значимые отличия есть.\n",
    "\n",
    "α=5% критический уровень статистической значимости."
   ]
  },
  {
   "cell_type": "code",
   "execution_count": 34,
   "metadata": {},
   "outputs": [
    {
     "name": "stdout",
     "output_type": "stream",
     "text": [
      "p-значение:  0.829\n",
      "Не получилось отвергнуть нулевую гипотезу, вывод о различии сделать нельзя\n",
      "0.287\n"
     ]
    }
   ],
   "source": [
    "results = st.mannwhitneyu(orders[orders['group']=='A']['revenue'], orders[orders['group']=='B']['revenue'])\n",
    "\n",
    "print('p-значение: ', \"{0:.3f}\".format(results.pvalue))\n",
    "\n",
    "if (results.pvalue < alpha):\n",
    "    print(\"Отвергаем нулевую гипотезу: разница статистически значима\")\n",
    "else:\n",
    "    print(\"Не получилось отвергнуть нулевую гипотезу, вывод о различии сделать нельзя\")\n",
    "\n",
    "print(\"{0:.3f}\".format(orders[orders['group']=='B']['revenue'].mean()/orders[orders['group']=='A']['revenue'].mean()-1))"
   ]
  },
  {
   "cell_type": "markdown",
   "metadata": {},
   "source": [
    "Вывод:\n",
    "- Первое число — p-value = 0.829 значительно больше 0.05. Значит, нулевую гипотезу о том, что средние чеки равны и статистически значимых различий между группами в размере среднего чека нет принимаем.\n",
    "- При этом средний чек группы B значительно выше чем у А, почти на 29%, но тут свою роль могли сыграть выбросы, проверим это далее на очищенных данных"
   ]
  },
  {
   "cell_type": "markdown",
   "metadata": {},
   "source": [
    "<div class=\"alert alert-block alert-success\">\n",
    "    \n",
    "**Комментарий от ревьюера**\n",
    "\n",
    "Да, по этому показателю между группами нет статистически значимых различий.\n",
    "</div>"
   ]
  },
  {
   "cell_type": "markdown",
   "metadata": {},
   "source": [
    "**12. Посчитаем статистическую значимость различий в среднем количестве заказов на посетителя между группами по «очищенным» данным.**"
   ]
  },
  {
   "cell_type": "markdown",
   "metadata": {},
   "source": [
    "- Нулевая гипотеза: В среднем количество заказов на посетителя групп A и B равны, статистически значимых отличий нет. \n",
    "- Альтернативная гипотеза: В среднем количество заказов на посетителя групп A и B различны, статистически значимые отличия есть \n",
    "\n",
    "α=5% критический уровень статистической значимости"
   ]
  },
  {
   "cell_type": "markdown",
   "metadata": {},
   "source": [
    "<div class=\"alert alert-block alert-danger\">\n",
    "    \n",
    "**Комментарий от ревьюера**\n",
    "\n",
    "Лучше избегать ручного ввода значений при фильтрации: можно использовать непосредственно результат расчета выбранного перцентиля. \n",
    "    \n",
    "Для этого вписанные вручную числа надо заменить на такие же расчеты, как ты использовала для границы определения аномальных заказов, только там ты указываешь список перцентилей, а здесь нам нужен один.\n",
    "\n",
    "</div>"
   ]
  },
  {
   "cell_type": "markdown",
   "metadata": {},
   "source": [
    "<div class=\"alert alert-info\">\n",
    "    \n",
    "исправила\n",
    "</div>"
   ]
  },
  {
   "cell_type": "markdown",
   "metadata": {},
   "source": [
    "<a id=\"comm2\"></a>\n",
    "<div class=\"alert alert-block alert-danger\">\n",
    "    \n",
    "**Комментарий от ревьюера 2**\n",
    "\n",
    "Если промотать ячейку вправо, там есть еще одно число 2 в первой строке. Замени его, пожалуйста, тоже.\n",
    "\n",
    "</div>"
   ]
  },
  {
   "cell_type": "markdown",
   "metadata": {},
   "source": [
    "<div class=\"alert alert-info\">\n",
    "    \n",
    "заменила\n",
    "</div>"
   ]
  },
  {
   "cell_type": "markdown",
   "metadata": {},
   "source": [
    "<div class=\"alert alert-block alert-success\">\n",
    "    \n",
    "**Комментарий от ревьюера 2**\n",
    "\n",
    "Так не придется менять вписанные вручную числа, если поменяются данные.\n",
    "</div>"
   ]
  },
  {
   "cell_type": "code",
   "execution_count": 35,
   "metadata": {},
   "outputs": [
    {
     "name": "stdout",
     "output_type": "stream",
     "text": [
      "p-значение:  0.007\n",
      "Отвергаем нулевую гипотезу: разница статистически значима\n",
      "0.189\n"
     ]
    }
   ],
   "source": [
    "usersWithManyOrders = pd.concat([ordersByUsersA[ordersByUsersA['orders'] > np.percentile(ordersByUsers['orders'], 99)]['userId'], ordersByUsersB[ordersByUsersB['orders'] > np.percentile(ordersByUsers['orders'], 99)]['userId']], axis = 0)\n",
    "usersWithExpensiveOrders = orders[orders['revenue'] > np.percentile(orders['revenue'], 99)]['visitor_id']\n",
    "abnormalUsers = pd.concat([usersWithManyOrders, usersWithExpensiveOrders], axis = 0).drop_duplicates().sort_values()\n",
    "sampleAFiltered = pd.concat([ordersByUsersA[np.logical_not(ordersByUsersA['userId'].isin(abnormalUsers))]['orders'], \\\n",
    "                             pd.Series(0, index=np.arange(data['visitorsPerDateA'].sum() - len(ordersByUsersA['orders'])), \\\n",
    "                                       name='orders')],axis=0)\n",
    "\n",
    "sampleBFiltered = pd.concat([ordersByUsersB[np.logical_not(ordersByUsersB['userId'].isin(abnormalUsers))]['orders'], \\\n",
    "                             pd.Series(0, index=np.arange(data['visitorsPerDateB'].sum() - len(ordersByUsersB['orders'])), \\\n",
    "                                       name='orders')],axis=0)\n",
    "results = st.mannwhitneyu(sampleAFiltered, sampleBFiltered)\n",
    "\n",
    "print('p-значение: ', \"{0:.3f}\".format(results.pvalue))\n",
    "\n",
    "if (results.pvalue < alpha):\n",
    "    print(\"Отвергаем нулевую гипотезу: разница статистически значима\")\n",
    "else:\n",
    "    print(\"Не получилось отвергнуть нулевую гипотезу, вывод о различии сделать нельзя\")\n",
    "\n",
    "print(\"{0:.3f}\".format(sampleBFiltered.mean()/sampleAFiltered.mean()-1))"
   ]
  },
  {
   "cell_type": "markdown",
   "metadata": {},
   "source": [
    "<div class=\"alert alert-block alert-success\">\n",
    "    \n",
    "**Комментарий от ревьюера**\n",
    "\n",
    "Верно, при анализе \"очищенных данных\" p-value стало еще меньше и все так же меньше 0.05, следовательно, между группами есть статистически значимые различия.\n",
    "</div>"
   ]
  },
  {
   "cell_type": "markdown",
   "metadata": {},
   "source": [
    "Вывод:\n",
    "Результаты по среднему количеству заказов на посетителя значимо не изменился. p-value стал чуть больше на 0,004, что никак не меняет наших выводов. Проигрыш группы A на очищенных данных немного увеличился 19% против 16% на сырых"
   ]
  },
  {
   "cell_type": "markdown",
   "metadata": {},
   "source": [
    "**13. Посчитаем статистическую значимость различий в среднем чеке заказа между группами по «очищенным» данным.**"
   ]
  },
  {
   "cell_type": "markdown",
   "metadata": {},
   "source": [
    "- Нулевая гипотеза: Средние чеки групп A и B равны, статистически значимых отличий нет.\n",
    "- Альтернативная гипотеза: Средние чеки групп A и B различны, статистически значимые отличия есть.\n",
    "\n",
    "α=5% критический уровень статистической значимости."
   ]
  },
  {
   "cell_type": "code",
   "execution_count": 36,
   "metadata": {},
   "outputs": [
    {
     "name": "stdout",
     "output_type": "stream",
     "text": [
      "Относительное изменение среднего чека в группе B по отношению группы A после очистки данных: -0.032\n",
      "P-value: \"0.788\"\n"
     ]
    }
   ],
   "source": [
    "print('Относительное изменение среднего чека в группе B по отношению группы A после очистки данных: {:.3f}'.format(\n",
    "orders[np.logical_and(orders['group']=='B', np.logical_not(orders['visitor_id'].isin(abnormalUsers)))]['revenue'].mean()\\\n",
    "/orders[np.logical_and(orders['group']=='A', np.logical_not(orders['visitor_id'].isin(abnormalUsers)))]['revenue'].mean()-1))\n",
    "       \n",
    "       \n",
    "results = st.mannwhitneyu(orders[np.logical_and(orders['group']=='A', np.logical_not(orders['visitor_id'].isin(abnormalUsers)))]['revenue'],\n",
    "                             orders[np.logical_and(orders['group']=='B', np.logical_not(orders['visitor_id'].isin(abnormalUsers)))]['revenue'])\n",
    "print('P-value: \"{0:.3f}\"'.format(results.pvalue))"
   ]
  },
  {
   "cell_type": "markdown",
   "metadata": {},
   "source": [
    "<div class=\"alert alert-block alert-danger\">\n",
    "    \n",
    "**Комментарий от ревьюера**\n",
    "\n",
    "Добавь здесь, пожалуйста, тоже, можем ли мы отвергнуть нулевую гипотезу.\n",
    "\n",
    "</div>"
   ]
  },
  {
   "cell_type": "markdown",
   "metadata": {},
   "source": [
    "<div class=\"alert alert-info\">\n",
    "    \n",
    "исправила\n",
    "</div>"
   ]
  },
  {
   "cell_type": "markdown",
   "metadata": {},
   "source": [
    "p-value = 0.788 значительно больше 0.05. Значит, нулевую гипотезу о том, что средние чеки равны и статистически значимых различий между группами в размере среднего чека нет принимаем."
   ]
  },
  {
   "cell_type": "markdown",
   "metadata": {},
   "source": [
    "<div class=\"alert alert-block alert-success\">\n",
    "    \n",
    "**Комментарий от ревьюера 2**\n",
    "\n",
    "Да, здесь мы снова не можем отвергнуть нулевую гипотезу.\n",
    "</div>"
   ]
  },
  {
   "cell_type": "markdown",
   "metadata": {},
   "source": [
    "Вывод:\n",
    "- p-value уменьшился почти на 0.05, но по прежнему значительно выше 0,05\n",
    "- обратим внимание на разницу между средним чеком. Она упала с 29% в пользу B до 3% в пользу A! Это еще раз заставляет убедиться, что статистически значимых различий по этой метрике между группами нет, а наблюдаемая на неочищенных данных разница как мы и предполагали была связана с выбросами."
   ]
  },
  {
   "cell_type": "markdown",
   "metadata": {},
   "source": [
    "Итоговый вывод:\n",
    "- есть статистически значимые различия по среднему количеству заказов на посетителя  между группами (как по сырым так и по очищенным данным), при этом преимущество у группы B порядка 19%;\n",
    "- нет статистически значимых различий по среднему чеку между группами (как по сырым так и по очищенным данным);\n",
    "- график различия среднего количества заказов на посетителя между группами показывает, что результаты группы B лучше группы A в конце исследования приблизительно на 13-17%, при этом есть тенденция к еще небольшому улучшению;\n",
    "- график различий кумулятивного среднего чека говорит нам о преимуществе группы B только из - за выброса, после чего метрика начинает снижаться к более естественному положению\n",
    "\n",
    "\n",
    "Исходя из обнаруженных фактов тест следует остановить и признать его успешным в части улучшения среднего количества заказов на посетителя в целевой группе B в части среднего чека нельзя утверждать, что какая - либо из групп имеет преимущество над другой. Оснований полагать, что при продолжении теста разница между группами в среднем количестве заказов на посетителя либо среднем чеке значимо изменятся нет, т.к. колебания в графиках носят затухающий характер."
   ]
  },
  {
   "cell_type": "markdown",
   "metadata": {},
   "source": [
    "<div class=\"alert alert-block alert-success\">\n",
    "    \n",
    "**Комментарий от ревьюера**\n",
    "    \n",
    "Верно, данных для принятия решения у нас уже достаточно. \n",
    "</div>"
   ]
  },
  {
   "cell_type": "markdown",
   "metadata": {},
   "source": [
    "<div class=\"alert alert-block alert-info\">\n",
    "\n",
    "<b>Итоговый комментарий от ревьюера</b>\n",
    "\n",
    "Благодарю тебя за выполнение проекта. Вижу ты постаралась, когда работала над ним. Однако, в проекте есть несколько замечаний, которые надо исправить:\n",
    "\n",
    "* добавить проверку на дубликаты;\n",
    "* дополнить вывод по приоритизации;\n",
    "* скорректировать формулировки;\n",
    "* дополнить описание статистических расчетов;\n",
    "* не использовать ручной ввод при фильтрации.\n",
    "       \n",
    "Жду проект после доработки. Уверена, ты справишься. 💪\n",
    "</div>"
   ]
  },
  {
   "cell_type": "markdown",
   "metadata": {},
   "source": [
    "<div class=\"alert alert-block alert-info\">\n",
    "\n",
    "<b>Итоговый комментарий от ревьюера 2</b>\n",
    "\n",
    "Замечания, которые осталось исправить:\n",
    "\n",
    "* дополнить описание статистических расчетов;\n",
    "* не использовать ручной ввод при фильтрации.\n",
    "       \n",
    "</div>"
   ]
  },
  {
   "cell_type": "code",
   "execution_count": null,
   "metadata": {},
   "outputs": [],
   "source": []
  }
 ],
 "metadata": {
  "ExecuteTimeLog": [
   {
    "duration": 1268,
    "start_time": "2024-01-11T11:23:22.446Z"
   },
   {
    "duration": 179,
    "start_time": "2024-01-11T11:23:53.277Z"
   },
   {
    "duration": 21,
    "start_time": "2024-01-11T11:24:15.490Z"
   },
   {
    "duration": 19,
    "start_time": "2024-01-11T11:40:02.214Z"
   },
   {
    "duration": 17,
    "start_time": "2024-01-11T11:40:16.533Z"
   },
   {
    "duration": 43,
    "start_time": "2024-01-11T13:44:41.549Z"
   },
   {
    "duration": 1232,
    "start_time": "2024-01-11T13:44:49.296Z"
   },
   {
    "duration": 184,
    "start_time": "2024-01-11T13:44:50.530Z"
   },
   {
    "duration": 19,
    "start_time": "2024-01-11T13:44:50.716Z"
   },
   {
    "duration": 18,
    "start_time": "2024-01-11T13:44:50.737Z"
   },
   {
    "duration": 17,
    "start_time": "2024-01-11T13:44:50.757Z"
   },
   {
    "duration": 20,
    "start_time": "2024-01-11T13:44:50.776Z"
   },
   {
    "duration": 3,
    "start_time": "2024-01-11T13:45:48.687Z"
   },
   {
    "duration": 9,
    "start_time": "2024-01-11T13:52:29.134Z"
   },
   {
    "duration": 1044,
    "start_time": "2024-01-11T13:57:53.808Z"
   },
   {
    "duration": 75,
    "start_time": "2024-01-11T13:57:54.853Z"
   },
   {
    "duration": 19,
    "start_time": "2024-01-11T13:57:54.929Z"
   },
   {
    "duration": 17,
    "start_time": "2024-01-11T13:57:54.950Z"
   },
   {
    "duration": 14,
    "start_time": "2024-01-11T13:57:54.969Z"
   },
   {
    "duration": 2,
    "start_time": "2024-01-11T13:57:54.985Z"
   },
   {
    "duration": 10,
    "start_time": "2024-01-11T13:57:54.988Z"
   },
   {
    "duration": 6,
    "start_time": "2024-01-11T14:01:08.795Z"
   },
   {
    "duration": 3,
    "start_time": "2024-01-11T14:01:15.687Z"
   },
   {
    "duration": 6,
    "start_time": "2024-01-11T14:01:16.622Z"
   },
   {
    "duration": 5,
    "start_time": "2024-01-11T14:10:21.404Z"
   },
   {
    "duration": 4,
    "start_time": "2024-01-11T14:11:16.240Z"
   },
   {
    "duration": 7,
    "start_time": "2024-01-11T14:14:02.210Z"
   },
   {
    "duration": 7,
    "start_time": "2024-01-11T14:20:05.426Z"
   },
   {
    "duration": 8,
    "start_time": "2024-01-11T14:21:16.039Z"
   },
   {
    "duration": 11,
    "start_time": "2024-01-11T14:22:07.085Z"
   },
   {
    "duration": 96,
    "start_time": "2024-01-11T14:22:44.371Z"
   },
   {
    "duration": 84,
    "start_time": "2024-01-11T14:22:50.950Z"
   },
   {
    "duration": 10,
    "start_time": "2024-01-11T14:22:58.437Z"
   },
   {
    "duration": 8,
    "start_time": "2024-01-11T14:25:09.296Z"
   },
   {
    "duration": 115,
    "start_time": "2024-01-11T14:26:49.381Z"
   },
   {
    "duration": 26,
    "start_time": "2024-01-11T14:27:05.515Z"
   },
   {
    "duration": 10,
    "start_time": "2024-01-11T14:38:26.090Z"
   },
   {
    "duration": 18,
    "start_time": "2024-01-11T14:38:35.185Z"
   },
   {
    "duration": 1072,
    "start_time": "2024-01-11T14:39:06.480Z"
   },
   {
    "duration": 72,
    "start_time": "2024-01-11T14:39:07.554Z"
   },
   {
    "duration": 17,
    "start_time": "2024-01-11T14:39:07.628Z"
   },
   {
    "duration": 20,
    "start_time": "2024-01-11T14:39:07.647Z"
   },
   {
    "duration": 29,
    "start_time": "2024-01-11T14:39:07.668Z"
   },
   {
    "duration": 10,
    "start_time": "2024-01-11T14:39:07.698Z"
   },
   {
    "duration": 21,
    "start_time": "2024-01-11T14:39:07.710Z"
   },
   {
    "duration": 26,
    "start_time": "2024-01-11T14:39:07.733Z"
   },
   {
    "duration": 32,
    "start_time": "2024-01-11T14:39:07.760Z"
   },
   {
    "duration": 24,
    "start_time": "2024-01-11T14:39:07.794Z"
   },
   {
    "duration": 22,
    "start_time": "2024-01-11T14:39:07.819Z"
   },
   {
    "duration": 27,
    "start_time": "2024-01-11T14:39:07.842Z"
   },
   {
    "duration": 25,
    "start_time": "2024-01-11T14:39:07.870Z"
   },
   {
    "duration": 22,
    "start_time": "2024-01-11T14:39:20.850Z"
   },
   {
    "duration": 71,
    "start_time": "2024-01-11T14:39:48.584Z"
   },
   {
    "duration": 1480,
    "start_time": "2024-01-11T14:42:12.322Z"
   },
   {
    "duration": 7,
    "start_time": "2024-01-11T14:42:30.526Z"
   },
   {
    "duration": 9,
    "start_time": "2024-01-11T14:42:36.942Z"
   },
   {
    "duration": 9,
    "start_time": "2024-01-11T14:43:26.792Z"
   },
   {
    "duration": 6,
    "start_time": "2024-01-11T14:44:07.186Z"
   },
   {
    "duration": 8,
    "start_time": "2024-01-11T14:44:13.476Z"
   },
   {
    "duration": 6,
    "start_time": "2024-01-11T14:44:19.505Z"
   },
   {
    "duration": 14,
    "start_time": "2024-01-11T14:44:25.649Z"
   },
   {
    "duration": 1073,
    "start_time": "2024-01-11T14:44:38.468Z"
   },
   {
    "duration": 76,
    "start_time": "2024-01-11T14:44:39.543Z"
   },
   {
    "duration": 20,
    "start_time": "2024-01-11T14:44:39.620Z"
   },
   {
    "duration": 29,
    "start_time": "2024-01-11T14:44:39.642Z"
   },
   {
    "duration": 41,
    "start_time": "2024-01-11T14:44:39.673Z"
   },
   {
    "duration": 7,
    "start_time": "2024-01-11T14:44:39.716Z"
   },
   {
    "duration": 21,
    "start_time": "2024-01-11T14:44:39.725Z"
   },
   {
    "duration": 12,
    "start_time": "2024-01-11T14:44:39.747Z"
   },
   {
    "duration": 35,
    "start_time": "2024-01-11T14:44:39.760Z"
   },
   {
    "duration": 24,
    "start_time": "2024-01-11T14:44:39.798Z"
   },
   {
    "duration": 15,
    "start_time": "2024-01-11T14:44:39.824Z"
   },
   {
    "duration": 19,
    "start_time": "2024-01-11T14:44:39.841Z"
   },
   {
    "duration": 16,
    "start_time": "2024-01-11T14:44:39.861Z"
   },
   {
    "duration": 94,
    "start_time": "2024-01-11T14:45:00.404Z"
   },
   {
    "duration": 11,
    "start_time": "2024-01-11T14:45:07.830Z"
   },
   {
    "duration": 7,
    "start_time": "2024-01-11T14:45:12.719Z"
   },
   {
    "duration": 9,
    "start_time": "2024-01-11T14:45:16.689Z"
   },
   {
    "duration": 13,
    "start_time": "2024-01-11T14:45:37.042Z"
   },
   {
    "duration": 11,
    "start_time": "2024-01-11T14:45:44.736Z"
   },
   {
    "duration": 12,
    "start_time": "2024-01-11T14:45:53.780Z"
   },
   {
    "duration": 11,
    "start_time": "2024-01-11T14:47:12.711Z"
   },
   {
    "duration": 13,
    "start_time": "2024-01-11T14:47:25.963Z"
   },
   {
    "duration": 1038,
    "start_time": "2024-01-11T14:47:58.897Z"
   },
   {
    "duration": 73,
    "start_time": "2024-01-11T14:47:59.937Z"
   },
   {
    "duration": 19,
    "start_time": "2024-01-11T14:48:00.012Z"
   },
   {
    "duration": 45,
    "start_time": "2024-01-11T14:48:00.033Z"
   },
   {
    "duration": 47,
    "start_time": "2024-01-11T14:48:00.080Z"
   },
   {
    "duration": 24,
    "start_time": "2024-01-11T14:48:00.129Z"
   },
   {
    "duration": 36,
    "start_time": "2024-01-11T14:48:00.154Z"
   },
   {
    "duration": 23,
    "start_time": "2024-01-11T14:48:00.192Z"
   },
   {
    "duration": 21,
    "start_time": "2024-01-11T14:48:00.216Z"
   },
   {
    "duration": 30,
    "start_time": "2024-01-11T14:48:00.238Z"
   },
   {
    "duration": 62,
    "start_time": "2024-01-11T14:48:00.269Z"
   },
   {
    "duration": 66,
    "start_time": "2024-01-11T14:48:00.333Z"
   },
   {
    "duration": 54,
    "start_time": "2024-01-11T14:48:00.400Z"
   },
   {
    "duration": 12,
    "start_time": "2024-01-11T14:49:17.577Z"
   },
   {
    "duration": 14,
    "start_time": "2024-01-11T14:49:28.761Z"
   },
   {
    "duration": 89,
    "start_time": "2024-01-11T14:49:59.505Z"
   },
   {
    "duration": 12,
    "start_time": "2024-01-11T14:50:20.754Z"
   },
   {
    "duration": 66,
    "start_time": "2024-01-12T09:45:00.950Z"
   },
   {
    "duration": 1339,
    "start_time": "2024-01-12T09:45:26.631Z"
   },
   {
    "duration": 184,
    "start_time": "2024-01-12T09:45:27.972Z"
   },
   {
    "duration": 22,
    "start_time": "2024-01-12T09:45:28.157Z"
   },
   {
    "duration": 23,
    "start_time": "2024-01-12T09:45:28.181Z"
   },
   {
    "duration": 26,
    "start_time": "2024-01-12T09:45:28.206Z"
   },
   {
    "duration": 7,
    "start_time": "2024-01-12T09:45:28.233Z"
   },
   {
    "duration": 5,
    "start_time": "2024-01-12T09:45:28.242Z"
   },
   {
    "duration": 42,
    "start_time": "2024-01-12T09:45:28.249Z"
   },
   {
    "duration": 9,
    "start_time": "2024-01-12T09:45:28.292Z"
   },
   {
    "duration": 5,
    "start_time": "2024-01-12T09:45:28.304Z"
   },
   {
    "duration": 27,
    "start_time": "2024-01-12T09:45:28.311Z"
   },
   {
    "duration": 135,
    "start_time": "2024-01-12T09:45:28.340Z"
   },
   {
    "duration": 0,
    "start_time": "2024-01-12T09:45:28.482Z"
   },
   {
    "duration": 10,
    "start_time": "2024-01-12T09:45:43.348Z"
   },
   {
    "duration": 8,
    "start_time": "2024-01-12T09:46:02.357Z"
   },
   {
    "duration": 7,
    "start_time": "2024-01-12T09:46:21.830Z"
   },
   {
    "duration": 12,
    "start_time": "2024-01-12T09:49:36.621Z"
   },
   {
    "duration": 14,
    "start_time": "2024-01-12T09:52:02.789Z"
   },
   {
    "duration": 20,
    "start_time": "2024-01-12T09:52:28.042Z"
   },
   {
    "duration": 39,
    "start_time": "2024-01-12T09:54:47.176Z"
   },
   {
    "duration": 7,
    "start_time": "2024-01-12T10:25:26.287Z"
   },
   {
    "duration": 74,
    "start_time": "2024-01-12T10:25:53.920Z"
   },
   {
    "duration": 24,
    "start_time": "2024-01-12T10:26:07.101Z"
   },
   {
    "duration": 5,
    "start_time": "2024-01-12T10:27:30.995Z"
   },
   {
    "duration": 11,
    "start_time": "2024-01-12T10:27:42.054Z"
   },
   {
    "duration": 11,
    "start_time": "2024-01-12T10:33:20.813Z"
   },
   {
    "duration": 17,
    "start_time": "2024-01-12T10:33:59.344Z"
   },
   {
    "duration": 22,
    "start_time": "2024-01-12T10:35:21.176Z"
   },
   {
    "duration": 17,
    "start_time": "2024-01-12T10:35:58.996Z"
   },
   {
    "duration": 4,
    "start_time": "2024-01-12T10:37:18.360Z"
   },
   {
    "duration": 1216,
    "start_time": "2024-01-12T10:37:26.996Z"
   },
   {
    "duration": 1222,
    "start_time": "2024-01-12T10:37:44.115Z"
   },
   {
    "duration": 81,
    "start_time": "2024-01-12T10:37:45.339Z"
   },
   {
    "duration": 20,
    "start_time": "2024-01-12T10:37:45.422Z"
   },
   {
    "duration": 19,
    "start_time": "2024-01-12T10:37:45.444Z"
   },
   {
    "duration": 17,
    "start_time": "2024-01-12T10:37:45.465Z"
   },
   {
    "duration": 33,
    "start_time": "2024-01-12T10:37:45.483Z"
   },
   {
    "duration": 11,
    "start_time": "2024-01-12T10:37:45.517Z"
   },
   {
    "duration": 6,
    "start_time": "2024-01-12T10:37:45.530Z"
   },
   {
    "duration": 11,
    "start_time": "2024-01-12T10:37:45.538Z"
   },
   {
    "duration": 13,
    "start_time": "2024-01-12T10:37:45.552Z"
   },
   {
    "duration": 13,
    "start_time": "2024-01-12T10:37:45.567Z"
   },
   {
    "duration": 12,
    "start_time": "2024-01-12T10:37:45.582Z"
   },
   {
    "duration": 9,
    "start_time": "2024-01-12T10:37:45.596Z"
   },
   {
    "duration": 49,
    "start_time": "2024-01-12T10:37:45.607Z"
   },
   {
    "duration": 24,
    "start_time": "2024-01-12T10:37:45.658Z"
   },
   {
    "duration": 21,
    "start_time": "2024-01-12T10:37:45.685Z"
   },
   {
    "duration": 18,
    "start_time": "2024-01-12T10:37:45.708Z"
   },
   {
    "duration": 14,
    "start_time": "2024-01-12T10:37:45.728Z"
   },
   {
    "duration": 16,
    "start_time": "2024-01-12T10:37:45.743Z"
   },
   {
    "duration": 25,
    "start_time": "2024-01-12T10:37:45.761Z"
   },
   {
    "duration": 1466,
    "start_time": "2024-01-12T10:37:45.787Z"
   },
   {
    "duration": 72,
    "start_time": "2024-01-12T10:38:54.500Z"
   },
   {
    "duration": 19,
    "start_time": "2024-01-12T10:39:03.807Z"
   },
   {
    "duration": 17,
    "start_time": "2024-01-12T10:39:06.141Z"
   },
   {
    "duration": 22,
    "start_time": "2024-01-12T10:39:07.088Z"
   },
   {
    "duration": 4,
    "start_time": "2024-01-12T10:39:07.558Z"
   },
   {
    "duration": 7,
    "start_time": "2024-01-12T10:39:08.101Z"
   },
   {
    "duration": 18,
    "start_time": "2024-01-12T10:39:28.959Z"
   },
   {
    "duration": 314,
    "start_time": "2024-01-12T10:41:38.642Z"
   },
   {
    "duration": 208,
    "start_time": "2024-01-12T10:43:13.105Z"
   },
   {
    "duration": 330,
    "start_time": "2024-01-12T10:44:29.737Z"
   },
   {
    "duration": 251,
    "start_time": "2024-01-12T10:44:53.012Z"
   },
   {
    "duration": 66,
    "start_time": "2024-01-12T10:44:58.438Z"
   },
   {
    "duration": 646,
    "start_time": "2024-01-12T10:45:02.807Z"
   },
   {
    "duration": 3634,
    "start_time": "2024-01-12T10:45:09.597Z"
   },
   {
    "duration": 329,
    "start_time": "2024-01-12T10:45:29.929Z"
   },
   {
    "duration": 257,
    "start_time": "2024-01-12T10:47:34.027Z"
   },
   {
    "duration": 342,
    "start_time": "2024-01-12T10:50:47.061Z"
   },
   {
    "duration": 213,
    "start_time": "2024-01-12T10:52:07.857Z"
   },
   {
    "duration": 234,
    "start_time": "2024-01-12T10:52:21.608Z"
   },
   {
    "duration": 348,
    "start_time": "2024-01-12T10:54:30.157Z"
   },
   {
    "duration": 12,
    "start_time": "2024-01-12T10:56:04.728Z"
   },
   {
    "duration": 154,
    "start_time": "2024-01-12T10:56:13.048Z"
   },
   {
    "duration": 6,
    "start_time": "2024-01-12T10:57:32.270Z"
   },
   {
    "duration": 5,
    "start_time": "2024-01-12T11:41:31.021Z"
   },
   {
    "duration": 124,
    "start_time": "2024-01-12T11:42:31.279Z"
   },
   {
    "duration": 155,
    "start_time": "2024-01-12T11:44:09.563Z"
   },
   {
    "duration": 5,
    "start_time": "2024-01-12T11:45:32.450Z"
   },
   {
    "duration": 10,
    "start_time": "2024-01-12T11:53:49.368Z"
   },
   {
    "duration": 15,
    "start_time": "2024-01-12T11:53:58.214Z"
   },
   {
    "duration": 7,
    "start_time": "2024-01-12T11:57:17.997Z"
   },
   {
    "duration": 26,
    "start_time": "2024-01-12T11:59:36.770Z"
   },
   {
    "duration": 6,
    "start_time": "2024-01-12T12:00:01.979Z"
   },
   {
    "duration": 6,
    "start_time": "2024-01-12T12:00:15.221Z"
   },
   {
    "duration": 46,
    "start_time": "2024-01-15T11:26:14.889Z"
   },
   {
    "duration": 1331,
    "start_time": "2024-01-15T11:26:33.600Z"
   },
   {
    "duration": 181,
    "start_time": "2024-01-15T11:26:34.933Z"
   },
   {
    "duration": 24,
    "start_time": "2024-01-15T11:26:35.116Z"
   },
   {
    "duration": 27,
    "start_time": "2024-01-15T11:26:35.142Z"
   },
   {
    "duration": 21,
    "start_time": "2024-01-15T11:26:35.171Z"
   },
   {
    "duration": 10,
    "start_time": "2024-01-15T11:26:35.194Z"
   },
   {
    "duration": 9,
    "start_time": "2024-01-15T11:26:35.205Z"
   },
   {
    "duration": 16,
    "start_time": "2024-01-15T11:26:35.215Z"
   },
   {
    "duration": 29,
    "start_time": "2024-01-15T11:26:35.233Z"
   },
   {
    "duration": 6,
    "start_time": "2024-01-15T11:26:35.264Z"
   },
   {
    "duration": 13,
    "start_time": "2024-01-15T11:26:35.272Z"
   },
   {
    "duration": 7,
    "start_time": "2024-01-15T11:26:35.287Z"
   },
   {
    "duration": 7,
    "start_time": "2024-01-15T11:26:35.296Z"
   },
   {
    "duration": 64,
    "start_time": "2024-01-15T11:26:35.305Z"
   },
   {
    "duration": 12,
    "start_time": "2024-01-15T11:26:35.371Z"
   },
   {
    "duration": 23,
    "start_time": "2024-01-15T11:26:35.385Z"
   },
   {
    "duration": 7,
    "start_time": "2024-01-15T11:26:35.409Z"
   },
   {
    "duration": 103,
    "start_time": "2024-01-15T11:27:45.441Z"
   },
   {
    "duration": 1159,
    "start_time": "2024-01-15T11:28:01.882Z"
   },
   {
    "duration": 72,
    "start_time": "2024-01-15T11:28:03.043Z"
   },
   {
    "duration": 20,
    "start_time": "2024-01-15T11:28:03.116Z"
   },
   {
    "duration": 26,
    "start_time": "2024-01-15T11:28:03.138Z"
   },
   {
    "duration": 16,
    "start_time": "2024-01-15T11:28:03.166Z"
   },
   {
    "duration": 90,
    "start_time": "2024-01-15T11:28:03.184Z"
   },
   {
    "duration": 21,
    "start_time": "2024-01-15T11:28:03.275Z"
   },
   {
    "duration": 19,
    "start_time": "2024-01-15T11:28:03.298Z"
   },
   {
    "duration": 19,
    "start_time": "2024-01-15T11:28:03.318Z"
   },
   {
    "duration": 41,
    "start_time": "2024-01-15T11:28:03.339Z"
   },
   {
    "duration": 12,
    "start_time": "2024-01-15T11:28:03.382Z"
   },
   {
    "duration": 9,
    "start_time": "2024-01-15T11:28:03.396Z"
   },
   {
    "duration": 15,
    "start_time": "2024-01-15T11:28:03.406Z"
   },
   {
    "duration": 21,
    "start_time": "2024-01-15T11:28:03.424Z"
   },
   {
    "duration": 14,
    "start_time": "2024-01-15T11:28:03.446Z"
   },
   {
    "duration": 11,
    "start_time": "2024-01-15T11:28:03.461Z"
   },
   {
    "duration": 7,
    "start_time": "2024-01-15T11:28:03.473Z"
   },
   {
    "duration": 547,
    "start_time": "2024-01-15T11:28:03.482Z"
   },
   {
    "duration": 206,
    "start_time": "2024-01-15T11:30:44.296Z"
   },
   {
    "duration": 294,
    "start_time": "2024-01-15T11:31:59.581Z"
   },
   {
    "duration": 219,
    "start_time": "2024-01-15T11:34:37.189Z"
   },
   {
    "duration": 203,
    "start_time": "2024-01-15T11:37:06.604Z"
   },
   {
    "duration": 71,
    "start_time": "2024-01-15T11:37:28.354Z"
   },
   {
    "duration": 180,
    "start_time": "2024-01-15T11:38:47.912Z"
   },
   {
    "duration": 171,
    "start_time": "2024-01-15T11:39:05.280Z"
   },
   {
    "duration": 156,
    "start_time": "2024-01-15T11:39:57.317Z"
   },
   {
    "duration": 154,
    "start_time": "2024-01-15T11:40:37.497Z"
   },
   {
    "duration": 5,
    "start_time": "2024-01-15T11:42:32.452Z"
   },
   {
    "duration": 222,
    "start_time": "2024-01-15T11:45:55.124Z"
   },
   {
    "duration": 163,
    "start_time": "2024-01-15T11:47:17.820Z"
   },
   {
    "duration": 188,
    "start_time": "2024-01-15T11:47:25.058Z"
   },
   {
    "duration": 6,
    "start_time": "2024-01-15T11:48:10.275Z"
   },
   {
    "duration": 183,
    "start_time": "2024-01-15T11:54:16.450Z"
   },
   {
    "duration": 25,
    "start_time": "2024-01-15T11:54:33.985Z"
   },
   {
    "duration": 162,
    "start_time": "2024-01-15T11:54:54.714Z"
   },
   {
    "duration": 20,
    "start_time": "2024-01-15T12:15:46.090Z"
   },
   {
    "duration": 95,
    "start_time": "2024-01-15T12:16:27.830Z"
   },
   {
    "duration": 12,
    "start_time": "2024-01-15T12:16:53.632Z"
   },
   {
    "duration": 152,
    "start_time": "2024-01-15T13:05:40.956Z"
   },
   {
    "duration": 34,
    "start_time": "2024-01-15T13:11:07.540Z"
   },
   {
    "duration": 11,
    "start_time": "2024-01-15T13:17:31.665Z"
   },
   {
    "duration": 14,
    "start_time": "2024-01-15T13:17:45.256Z"
   },
   {
    "duration": 12,
    "start_time": "2024-01-15T13:19:38.186Z"
   },
   {
    "duration": 1304,
    "start_time": "2024-01-15T13:36:10.723Z"
   },
   {
    "duration": 205,
    "start_time": "2024-01-15T13:36:12.029Z"
   },
   {
    "duration": 21,
    "start_time": "2024-01-15T13:36:12.236Z"
   },
   {
    "duration": 20,
    "start_time": "2024-01-15T13:36:12.259Z"
   },
   {
    "duration": 17,
    "start_time": "2024-01-15T13:36:12.281Z"
   },
   {
    "duration": 4,
    "start_time": "2024-01-15T13:36:12.300Z"
   },
   {
    "duration": 9,
    "start_time": "2024-01-15T13:36:12.305Z"
   },
   {
    "duration": 19,
    "start_time": "2024-01-15T13:36:12.315Z"
   },
   {
    "duration": 13,
    "start_time": "2024-01-15T13:36:12.336Z"
   },
   {
    "duration": 5,
    "start_time": "2024-01-15T13:36:12.352Z"
   },
   {
    "duration": 14,
    "start_time": "2024-01-15T13:36:12.373Z"
   },
   {
    "duration": 24,
    "start_time": "2024-01-15T13:36:12.388Z"
   },
   {
    "duration": 7,
    "start_time": "2024-01-15T13:36:12.414Z"
   },
   {
    "duration": 35,
    "start_time": "2024-01-15T13:36:12.423Z"
   },
   {
    "duration": 23,
    "start_time": "2024-01-15T13:36:12.459Z"
   },
   {
    "duration": 21,
    "start_time": "2024-01-15T13:36:12.484Z"
   },
   {
    "duration": 13,
    "start_time": "2024-01-15T13:36:12.506Z"
   },
   {
    "duration": 580,
    "start_time": "2024-01-15T13:36:12.520Z"
   },
   {
    "duration": 232,
    "start_time": "2024-01-15T13:36:13.102Z"
   },
   {
    "duration": 398,
    "start_time": "2024-01-15T13:36:13.336Z"
   },
   {
    "duration": 239,
    "start_time": "2024-01-15T13:36:13.736Z"
   },
   {
    "duration": 251,
    "start_time": "2024-01-15T13:36:13.977Z"
   },
   {
    "duration": 134,
    "start_time": "2024-01-15T13:36:14.230Z"
   },
   {
    "duration": 183,
    "start_time": "2024-01-15T13:36:14.373Z"
   },
   {
    "duration": 6,
    "start_time": "2024-01-15T13:36:14.557Z"
   },
   {
    "duration": 200,
    "start_time": "2024-01-15T13:36:14.564Z"
   },
   {
    "duration": 8,
    "start_time": "2024-01-15T13:36:14.765Z"
   },
   {
    "duration": 279,
    "start_time": "2024-01-15T13:36:14.776Z"
   },
   {
    "duration": 29,
    "start_time": "2024-01-15T13:36:15.056Z"
   },
   {
    "duration": 146,
    "start_time": "2024-01-15T13:36:15.086Z"
   },
   {
    "duration": 12,
    "start_time": "2024-01-15T13:36:15.234Z"
   },
   {
    "duration": 67,
    "start_time": "2024-01-15T13:36:15.247Z"
   },
   {
    "duration": 25,
    "start_time": "2024-01-15T13:36:15.316Z"
   },
   {
    "duration": 57,
    "start_time": "2024-01-16T10:29:48.072Z"
   },
   {
    "duration": 1423,
    "start_time": "2024-01-16T10:30:27.537Z"
   },
   {
    "duration": 229,
    "start_time": "2024-01-16T10:30:28.962Z"
   },
   {
    "duration": 32,
    "start_time": "2024-01-16T10:30:29.193Z"
   },
   {
    "duration": 23,
    "start_time": "2024-01-16T10:30:29.228Z"
   },
   {
    "duration": 54,
    "start_time": "2024-01-16T10:30:29.252Z"
   },
   {
    "duration": 8,
    "start_time": "2024-01-16T10:30:29.308Z"
   },
   {
    "duration": 12,
    "start_time": "2024-01-16T10:30:29.318Z"
   },
   {
    "duration": 14,
    "start_time": "2024-01-16T10:30:29.332Z"
   },
   {
    "duration": 8,
    "start_time": "2024-01-16T10:30:29.348Z"
   },
   {
    "duration": 8,
    "start_time": "2024-01-16T10:30:29.359Z"
   },
   {
    "duration": 20,
    "start_time": "2024-01-16T10:30:29.369Z"
   },
   {
    "duration": 24,
    "start_time": "2024-01-16T10:30:29.392Z"
   },
   {
    "duration": 9,
    "start_time": "2024-01-16T10:30:29.418Z"
   },
   {
    "duration": 6,
    "start_time": "2024-01-16T10:30:29.429Z"
   },
   {
    "duration": 64,
    "start_time": "2024-01-16T10:30:29.436Z"
   },
   {
    "duration": 15,
    "start_time": "2024-01-16T10:30:29.502Z"
   },
   {
    "duration": 13,
    "start_time": "2024-01-16T10:30:29.518Z"
   },
   {
    "duration": 12,
    "start_time": "2024-01-16T10:30:29.532Z"
   },
   {
    "duration": 629,
    "start_time": "2024-01-16T10:30:29.546Z"
   },
   {
    "duration": 258,
    "start_time": "2024-01-16T10:30:30.177Z"
   },
   {
    "duration": 390,
    "start_time": "2024-01-16T10:30:30.437Z"
   },
   {
    "duration": 268,
    "start_time": "2024-01-16T10:30:30.829Z"
   },
   {
    "duration": 247,
    "start_time": "2024-01-16T10:30:31.099Z"
   },
   {
    "duration": 160,
    "start_time": "2024-01-16T10:30:31.348Z"
   },
   {
    "duration": 207,
    "start_time": "2024-01-16T10:30:31.510Z"
   },
   {
    "duration": 5,
    "start_time": "2024-01-16T10:30:31.719Z"
   },
   {
    "duration": 236,
    "start_time": "2024-01-16T10:30:31.726Z"
   },
   {
    "duration": 6,
    "start_time": "2024-01-16T10:30:31.965Z"
   },
   {
    "duration": 333,
    "start_time": "2024-01-16T10:30:31.972Z"
   },
   {
    "duration": 24,
    "start_time": "2024-01-16T10:30:32.306Z"
   },
   {
    "duration": 233,
    "start_time": "2024-01-16T10:30:32.331Z"
   },
   {
    "duration": 87,
    "start_time": "2024-01-16T10:30:32.566Z"
   },
   {
    "duration": 73,
    "start_time": "2024-01-16T10:30:32.655Z"
   },
   {
    "duration": 107,
    "start_time": "2024-01-16T10:30:32.730Z"
   },
   {
    "duration": 6,
    "start_time": "2024-01-16T10:31:02.622Z"
   },
   {
    "duration": 1210,
    "start_time": "2024-01-16T10:50:52.922Z"
   },
   {
    "duration": 74,
    "start_time": "2024-01-16T10:50:54.134Z"
   },
   {
    "duration": 19,
    "start_time": "2024-01-16T10:50:54.210Z"
   },
   {
    "duration": 19,
    "start_time": "2024-01-16T10:50:54.232Z"
   },
   {
    "duration": 10,
    "start_time": "2024-01-16T10:50:54.252Z"
   },
   {
    "duration": 29,
    "start_time": "2024-01-16T10:50:54.263Z"
   },
   {
    "duration": 6,
    "start_time": "2024-01-16T10:50:54.294Z"
   },
   {
    "duration": 3,
    "start_time": "2024-01-16T10:50:54.301Z"
   },
   {
    "duration": 14,
    "start_time": "2024-01-16T10:50:54.306Z"
   },
   {
    "duration": 7,
    "start_time": "2024-01-16T10:50:54.323Z"
   },
   {
    "duration": 9,
    "start_time": "2024-01-16T10:50:54.331Z"
   },
   {
    "duration": 5,
    "start_time": "2024-01-16T10:50:54.341Z"
   },
   {
    "duration": 21,
    "start_time": "2024-01-16T10:50:54.347Z"
   },
   {
    "duration": 29,
    "start_time": "2024-01-16T10:50:54.369Z"
   },
   {
    "duration": 11,
    "start_time": "2024-01-16T10:50:54.400Z"
   },
   {
    "duration": 34,
    "start_time": "2024-01-16T10:50:54.412Z"
   },
   {
    "duration": 11,
    "start_time": "2024-01-16T10:50:54.447Z"
   },
   {
    "duration": 13,
    "start_time": "2024-01-16T10:50:54.460Z"
   },
   {
    "duration": 21,
    "start_time": "2024-01-16T10:50:54.475Z"
   },
   {
    "duration": 626,
    "start_time": "2024-01-16T10:50:54.498Z"
   },
   {
    "duration": 239,
    "start_time": "2024-01-16T10:50:55.126Z"
   },
   {
    "duration": 344,
    "start_time": "2024-01-16T10:50:55.366Z"
   },
   {
    "duration": 240,
    "start_time": "2024-01-16T10:50:55.712Z"
   },
   {
    "duration": 243,
    "start_time": "2024-01-16T10:50:55.953Z"
   },
   {
    "duration": 153,
    "start_time": "2024-01-16T10:50:56.197Z"
   },
   {
    "duration": 210,
    "start_time": "2024-01-16T10:50:56.351Z"
   },
   {
    "duration": 10,
    "start_time": "2024-01-16T10:50:56.562Z"
   },
   {
    "duration": 199,
    "start_time": "2024-01-16T10:50:56.576Z"
   },
   {
    "duration": 4,
    "start_time": "2024-01-16T10:50:56.777Z"
   },
   {
    "duration": 296,
    "start_time": "2024-01-16T10:50:56.783Z"
   },
   {
    "duration": 28,
    "start_time": "2024-01-16T10:50:57.081Z"
   },
   {
    "duration": 163,
    "start_time": "2024-01-16T10:50:57.111Z"
   },
   {
    "duration": 22,
    "start_time": "2024-01-16T10:50:57.276Z"
   },
   {
    "duration": 36,
    "start_time": "2024-01-16T10:50:57.300Z"
   },
   {
    "duration": 14,
    "start_time": "2024-01-16T10:50:57.337Z"
   },
   {
    "duration": 127,
    "start_time": "2024-01-16T11:02:00.438Z"
   },
   {
    "duration": 43,
    "start_time": "2024-01-16T11:02:38.313Z"
   },
   {
    "duration": 70,
    "start_time": "2024-01-16T11:03:36.375Z"
   },
   {
    "duration": 64,
    "start_time": "2024-01-16T11:03:51.750Z"
   },
   {
    "duration": 68,
    "start_time": "2024-01-16T11:04:06.710Z"
   },
   {
    "duration": 65,
    "start_time": "2024-01-16T11:04:27.560Z"
   },
   {
    "duration": 6,
    "start_time": "2024-01-16T11:07:19.917Z"
   },
   {
    "duration": 5,
    "start_time": "2024-01-16T11:07:30.002Z"
   },
   {
    "duration": 9,
    "start_time": "2024-01-16T11:07:39.205Z"
   },
   {
    "duration": 4,
    "start_time": "2024-01-16T11:07:43.730Z"
   },
   {
    "duration": 96,
    "start_time": "2024-01-16T11:08:08.021Z"
   },
   {
    "duration": 72,
    "start_time": "2024-01-16T11:10:07.127Z"
   },
   {
    "duration": 6,
    "start_time": "2024-01-16T11:10:58.704Z"
   },
   {
    "duration": 23,
    "start_time": "2024-01-16T11:11:12.107Z"
   },
   {
    "duration": 22,
    "start_time": "2024-01-16T11:12:30.702Z"
   },
   {
    "duration": 38,
    "start_time": "2024-01-16T11:13:32.116Z"
   },
   {
    "duration": 4,
    "start_time": "2024-01-16T11:14:42.964Z"
   },
   {
    "duration": 38,
    "start_time": "2024-01-16T11:15:17.372Z"
   },
   {
    "duration": 1213,
    "start_time": "2024-01-16T11:19:41.779Z"
   },
   {
    "duration": 74,
    "start_time": "2024-01-16T11:19:42.994Z"
   },
   {
    "duration": 21,
    "start_time": "2024-01-16T11:19:43.070Z"
   },
   {
    "duration": 19,
    "start_time": "2024-01-16T11:19:43.093Z"
   },
   {
    "duration": 5,
    "start_time": "2024-01-16T11:19:43.114Z"
   },
   {
    "duration": 16,
    "start_time": "2024-01-16T11:19:43.121Z"
   },
   {
    "duration": 5,
    "start_time": "2024-01-16T11:19:43.139Z"
   },
   {
    "duration": 4,
    "start_time": "2024-01-16T11:19:43.145Z"
   },
   {
    "duration": 4,
    "start_time": "2024-01-16T11:19:43.151Z"
   },
   {
    "duration": 7,
    "start_time": "2024-01-16T11:19:43.191Z"
   },
   {
    "duration": 7,
    "start_time": "2024-01-16T11:19:43.199Z"
   },
   {
    "duration": 6,
    "start_time": "2024-01-16T11:19:43.207Z"
   },
   {
    "duration": 13,
    "start_time": "2024-01-16T11:19:43.214Z"
   },
   {
    "duration": 9,
    "start_time": "2024-01-16T11:19:43.229Z"
   },
   {
    "duration": 16,
    "start_time": "2024-01-16T11:19:43.240Z"
   },
   {
    "duration": 48,
    "start_time": "2024-01-16T11:19:43.258Z"
   },
   {
    "duration": 11,
    "start_time": "2024-01-16T11:19:43.308Z"
   },
   {
    "duration": 15,
    "start_time": "2024-01-16T11:19:43.320Z"
   },
   {
    "duration": 12,
    "start_time": "2024-01-16T11:19:43.336Z"
   },
   {
    "duration": 601,
    "start_time": "2024-01-16T11:19:43.349Z"
   },
   {
    "duration": 257,
    "start_time": "2024-01-16T11:19:43.952Z"
   },
   {
    "duration": 317,
    "start_time": "2024-01-16T11:19:44.211Z"
   },
   {
    "duration": 236,
    "start_time": "2024-01-16T11:19:44.530Z"
   },
   {
    "duration": 244,
    "start_time": "2024-01-16T11:19:44.768Z"
   },
   {
    "duration": 132,
    "start_time": "2024-01-16T11:19:45.014Z"
   },
   {
    "duration": 200,
    "start_time": "2024-01-16T11:19:45.149Z"
   },
   {
    "duration": 5,
    "start_time": "2024-01-16T11:19:45.350Z"
   },
   {
    "duration": 17,
    "start_time": "2024-01-16T11:19:45.359Z"
   },
   {
    "duration": 184,
    "start_time": "2024-01-16T11:19:45.378Z"
   },
   {
    "duration": 7,
    "start_time": "2024-01-16T11:19:45.564Z"
   },
   {
    "duration": 280,
    "start_time": "2024-01-16T11:19:45.573Z"
   },
   {
    "duration": 22,
    "start_time": "2024-01-16T11:19:45.855Z"
   },
   {
    "duration": 155,
    "start_time": "2024-01-16T11:19:45.879Z"
   },
   {
    "duration": 11,
    "start_time": "2024-01-16T11:19:46.036Z"
   },
   {
    "duration": 49,
    "start_time": "2024-01-16T11:19:46.049Z"
   },
   {
    "duration": 34,
    "start_time": "2024-01-16T11:19:46.099Z"
   },
   {
    "duration": 1464,
    "start_time": "2024-01-16T12:16:11.138Z"
   },
   {
    "duration": 188,
    "start_time": "2024-01-16T12:16:12.604Z"
   },
   {
    "duration": 24,
    "start_time": "2024-01-16T12:16:12.794Z"
   },
   {
    "duration": 23,
    "start_time": "2024-01-16T12:16:12.821Z"
   },
   {
    "duration": 7,
    "start_time": "2024-01-16T12:16:12.846Z"
   },
   {
    "duration": 33,
    "start_time": "2024-01-16T12:16:12.856Z"
   },
   {
    "duration": 5,
    "start_time": "2024-01-16T12:16:12.891Z"
   },
   {
    "duration": 26,
    "start_time": "2024-01-16T12:16:12.898Z"
   },
   {
    "duration": 5,
    "start_time": "2024-01-16T12:16:12.926Z"
   },
   {
    "duration": 7,
    "start_time": "2024-01-16T12:16:12.934Z"
   },
   {
    "duration": 14,
    "start_time": "2024-01-16T12:16:12.943Z"
   },
   {
    "duration": 10,
    "start_time": "2024-01-16T12:16:12.959Z"
   },
   {
    "duration": 39,
    "start_time": "2024-01-16T12:16:12.972Z"
   },
   {
    "duration": 11,
    "start_time": "2024-01-16T12:16:13.023Z"
   },
   {
    "duration": 7,
    "start_time": "2024-01-16T12:16:13.036Z"
   },
   {
    "duration": 47,
    "start_time": "2024-01-16T12:16:13.044Z"
   },
   {
    "duration": 31,
    "start_time": "2024-01-16T12:16:13.093Z"
   },
   {
    "duration": 19,
    "start_time": "2024-01-16T12:16:13.126Z"
   },
   {
    "duration": 19,
    "start_time": "2024-01-16T12:16:13.147Z"
   },
   {
    "duration": 691,
    "start_time": "2024-01-16T12:16:13.168Z"
   },
   {
    "duration": 269,
    "start_time": "2024-01-16T12:16:13.861Z"
   },
   {
    "duration": 424,
    "start_time": "2024-01-16T12:16:14.132Z"
   },
   {
    "duration": 275,
    "start_time": "2024-01-16T12:16:14.559Z"
   },
   {
    "duration": 288,
    "start_time": "2024-01-16T12:16:14.841Z"
   },
   {
    "duration": 159,
    "start_time": "2024-01-16T12:16:15.131Z"
   },
   {
    "duration": 215,
    "start_time": "2024-01-16T12:16:15.292Z"
   },
   {
    "duration": 14,
    "start_time": "2024-01-16T12:16:15.509Z"
   },
   {
    "duration": 16,
    "start_time": "2024-01-16T12:16:15.528Z"
   },
   {
    "duration": 239,
    "start_time": "2024-01-16T12:16:15.546Z"
   },
   {
    "duration": 6,
    "start_time": "2024-01-16T12:16:15.786Z"
   },
   {
    "duration": 309,
    "start_time": "2024-01-16T12:16:15.793Z"
   },
   {
    "duration": 27,
    "start_time": "2024-01-16T12:16:16.104Z"
   },
   {
    "duration": 210,
    "start_time": "2024-01-16T12:16:16.133Z"
   },
   {
    "duration": 14,
    "start_time": "2024-01-16T12:16:16.345Z"
   },
   {
    "duration": 66,
    "start_time": "2024-01-16T12:16:16.361Z"
   },
   {
    "duration": 19,
    "start_time": "2024-01-16T12:16:16.429Z"
   },
   {
    "duration": 50,
    "start_time": "2024-01-16T16:48:37.986Z"
   },
   {
    "duration": 10,
    "start_time": "2024-01-16T16:48:50.843Z"
   },
   {
    "duration": 1234,
    "start_time": "2024-01-16T16:49:57.699Z"
   },
   {
    "duration": 189,
    "start_time": "2024-01-16T16:49:58.935Z"
   },
   {
    "duration": 19,
    "start_time": "2024-01-16T16:49:59.125Z"
   },
   {
    "duration": 35,
    "start_time": "2024-01-16T16:49:59.146Z"
   },
   {
    "duration": 27,
    "start_time": "2024-01-16T16:49:59.182Z"
   },
   {
    "duration": 48,
    "start_time": "2024-01-16T16:49:59.210Z"
   },
   {
    "duration": 36,
    "start_time": "2024-01-16T16:49:59.260Z"
   },
   {
    "duration": 28,
    "start_time": "2024-01-16T16:49:59.297Z"
   },
   {
    "duration": 67,
    "start_time": "2024-01-16T16:49:59.326Z"
   },
   {
    "duration": 48,
    "start_time": "2024-01-16T16:49:59.395Z"
   },
   {
    "duration": 28,
    "start_time": "2024-01-16T16:49:59.444Z"
   },
   {
    "duration": 18,
    "start_time": "2024-01-16T16:49:59.473Z"
   },
   {
    "duration": 52,
    "start_time": "2024-01-16T16:49:59.493Z"
   },
   {
    "duration": 19,
    "start_time": "2024-01-16T16:49:59.546Z"
   },
   {
    "duration": 26,
    "start_time": "2024-01-16T16:49:59.567Z"
   },
   {
    "duration": 54,
    "start_time": "2024-01-16T16:49:59.594Z"
   },
   {
    "duration": 48,
    "start_time": "2024-01-16T16:49:59.649Z"
   },
   {
    "duration": 30,
    "start_time": "2024-01-16T16:49:59.698Z"
   },
   {
    "duration": 33,
    "start_time": "2024-01-16T16:49:59.729Z"
   },
   {
    "duration": 521,
    "start_time": "2024-01-16T16:49:59.764Z"
   },
   {
    "duration": 212,
    "start_time": "2024-01-16T16:50:00.286Z"
   },
   {
    "duration": 364,
    "start_time": "2024-01-16T16:50:00.500Z"
   },
   {
    "duration": 209,
    "start_time": "2024-01-16T16:50:00.866Z"
   },
   {
    "duration": 224,
    "start_time": "2024-01-16T16:50:01.076Z"
   },
   {
    "duration": 129,
    "start_time": "2024-01-16T16:50:01.302Z"
   },
   {
    "duration": 286,
    "start_time": "2024-01-16T16:50:01.433Z"
   },
   {
    "duration": 4,
    "start_time": "2024-01-16T16:50:01.721Z"
   },
   {
    "duration": 184,
    "start_time": "2024-01-16T16:50:01.728Z"
   },
   {
    "duration": 5,
    "start_time": "2024-01-16T16:50:01.913Z"
   },
   {
    "duration": 304,
    "start_time": "2024-01-16T16:50:01.919Z"
   },
   {
    "duration": 139,
    "start_time": "2024-01-16T16:50:02.225Z"
   },
   {
    "duration": 202,
    "start_time": "2024-01-16T16:50:02.365Z"
   },
   {
    "duration": 11,
    "start_time": "2024-01-16T16:50:02.568Z"
   },
   {
    "duration": 73,
    "start_time": "2024-01-16T16:50:02.580Z"
   },
   {
    "duration": 13,
    "start_time": "2024-01-16T16:50:02.654Z"
   },
   {
    "duration": 178,
    "start_time": "2024-01-16T17:07:09.916Z"
   },
   {
    "duration": 303,
    "start_time": "2024-01-16T17:08:55.039Z"
   },
   {
    "duration": 1038,
    "start_time": "2024-01-16T17:12:04.584Z"
   },
   {
    "duration": 75,
    "start_time": "2024-01-16T17:12:05.624Z"
   },
   {
    "duration": 806,
    "start_time": "2024-01-16T17:12:05.700Z"
   },
   {
    "duration": 17,
    "start_time": "2024-01-16T17:12:06.507Z"
   },
   {
    "duration": 5,
    "start_time": "2024-01-16T17:12:06.525Z"
   },
   {
    "duration": 15,
    "start_time": "2024-01-16T17:12:06.531Z"
   },
   {
    "duration": 4,
    "start_time": "2024-01-16T17:12:06.547Z"
   },
   {
    "duration": 11,
    "start_time": "2024-01-16T17:12:06.552Z"
   },
   {
    "duration": 6,
    "start_time": "2024-01-16T17:12:06.564Z"
   },
   {
    "duration": 18,
    "start_time": "2024-01-16T17:12:06.572Z"
   },
   {
    "duration": 9,
    "start_time": "2024-01-16T17:12:06.591Z"
   },
   {
    "duration": 5,
    "start_time": "2024-01-16T17:12:06.601Z"
   },
   {
    "duration": 12,
    "start_time": "2024-01-16T17:12:06.607Z"
   },
   {
    "duration": 7,
    "start_time": "2024-01-16T17:12:06.621Z"
   },
   {
    "duration": 16,
    "start_time": "2024-01-16T17:12:06.630Z"
   },
   {
    "duration": 26,
    "start_time": "2024-01-16T17:12:06.647Z"
   },
   {
    "duration": 10,
    "start_time": "2024-01-16T17:12:06.674Z"
   },
   {
    "duration": 10,
    "start_time": "2024-01-16T17:12:06.686Z"
   },
   {
    "duration": 8,
    "start_time": "2024-01-16T17:12:06.697Z"
   },
   {
    "duration": 531,
    "start_time": "2024-01-16T17:12:06.707Z"
   },
   {
    "duration": 220,
    "start_time": "2024-01-16T17:12:07.240Z"
   },
   {
    "duration": 303,
    "start_time": "2024-01-16T17:12:07.462Z"
   },
   {
    "duration": 281,
    "start_time": "2024-01-16T17:12:07.767Z"
   },
   {
    "duration": 215,
    "start_time": "2024-01-16T17:12:08.050Z"
   },
   {
    "duration": 123,
    "start_time": "2024-01-16T17:12:08.266Z"
   },
   {
    "duration": 164,
    "start_time": "2024-01-16T17:12:08.390Z"
   },
   {
    "duration": 5,
    "start_time": "2024-01-16T17:12:08.555Z"
   },
   {
    "duration": 167,
    "start_time": "2024-01-16T17:12:08.562Z"
   },
   {
    "duration": 5,
    "start_time": "2024-01-16T17:12:08.730Z"
   },
   {
    "duration": 377,
    "start_time": "2024-01-16T17:12:08.736Z"
   },
   {
    "duration": 179,
    "start_time": "2024-01-16T17:12:09.114Z"
   },
   {
    "duration": 17,
    "start_time": "2024-01-16T17:12:09.294Z"
   },
   {
    "duration": 153,
    "start_time": "2024-01-16T17:12:09.313Z"
   },
   {
    "duration": 10,
    "start_time": "2024-01-16T17:12:09.468Z"
   },
   {
    "duration": 34,
    "start_time": "2024-01-16T17:12:09.480Z"
   },
   {
    "duration": 12,
    "start_time": "2024-01-16T17:12:09.515Z"
   },
   {
    "duration": 1165,
    "start_time": "2024-01-16T17:25:40.242Z"
   },
   {
    "duration": 202,
    "start_time": "2024-01-16T17:25:41.409Z"
   },
   {
    "duration": 20,
    "start_time": "2024-01-16T17:25:41.613Z"
   },
   {
    "duration": 24,
    "start_time": "2024-01-16T17:25:41.635Z"
   },
   {
    "duration": 6,
    "start_time": "2024-01-16T17:25:41.661Z"
   },
   {
    "duration": 26,
    "start_time": "2024-01-16T17:25:41.668Z"
   },
   {
    "duration": 4,
    "start_time": "2024-01-16T17:25:41.695Z"
   },
   {
    "duration": 4,
    "start_time": "2024-01-16T17:25:41.701Z"
   },
   {
    "duration": 5,
    "start_time": "2024-01-16T17:25:41.706Z"
   },
   {
    "duration": 7,
    "start_time": "2024-01-16T17:25:41.713Z"
   },
   {
    "duration": 6,
    "start_time": "2024-01-16T17:25:41.722Z"
   },
   {
    "duration": 4,
    "start_time": "2024-01-16T17:25:41.729Z"
   },
   {
    "duration": 48,
    "start_time": "2024-01-16T17:25:41.734Z"
   },
   {
    "duration": 8,
    "start_time": "2024-01-16T17:25:41.784Z"
   },
   {
    "duration": 6,
    "start_time": "2024-01-16T17:25:41.793Z"
   },
   {
    "duration": 23,
    "start_time": "2024-01-16T17:25:41.800Z"
   },
   {
    "duration": 11,
    "start_time": "2024-01-16T17:25:41.824Z"
   },
   {
    "duration": 44,
    "start_time": "2024-01-16T17:25:41.836Z"
   },
   {
    "duration": 6,
    "start_time": "2024-01-16T17:25:41.881Z"
   },
   {
    "duration": 559,
    "start_time": "2024-01-16T17:25:41.888Z"
   },
   {
    "duration": 236,
    "start_time": "2024-01-16T17:25:42.449Z"
   },
   {
    "duration": 305,
    "start_time": "2024-01-16T17:25:42.686Z"
   },
   {
    "duration": 226,
    "start_time": "2024-01-16T17:25:42.992Z"
   },
   {
    "duration": 240,
    "start_time": "2024-01-16T17:25:43.220Z"
   },
   {
    "duration": 144,
    "start_time": "2024-01-16T17:25:43.462Z"
   },
   {
    "duration": 178,
    "start_time": "2024-01-16T17:25:43.607Z"
   },
   {
    "duration": 5,
    "start_time": "2024-01-16T17:25:43.787Z"
   },
   {
    "duration": 186,
    "start_time": "2024-01-16T17:25:43.795Z"
   },
   {
    "duration": 6,
    "start_time": "2024-01-16T17:25:43.982Z"
   },
   {
    "duration": 390,
    "start_time": "2024-01-16T17:25:43.989Z"
   },
   {
    "duration": 200,
    "start_time": "2024-01-16T17:25:44.381Z"
   },
   {
    "duration": 18,
    "start_time": "2024-01-16T17:25:44.582Z"
   },
   {
    "duration": 157,
    "start_time": "2024-01-16T17:25:44.601Z"
   },
   {
    "duration": 19,
    "start_time": "2024-01-16T17:25:44.774Z"
   },
   {
    "duration": 54,
    "start_time": "2024-01-16T17:25:44.795Z"
   },
   {
    "duration": 33,
    "start_time": "2024-01-16T17:25:44.850Z"
   }
  ],
  "kernelspec": {
   "display_name": "Python 3 (ipykernel)",
   "language": "python",
   "name": "python3"
  },
  "language_info": {
   "codemirror_mode": {
    "name": "ipython",
    "version": 3
   },
   "file_extension": ".py",
   "mimetype": "text/x-python",
   "name": "python",
   "nbconvert_exporter": "python",
   "pygments_lexer": "ipython3",
   "version": "3.9.5"
  },
  "toc": {
   "base_numbering": 1,
   "nav_menu": {},
   "number_sections": true,
   "sideBar": true,
   "skip_h1_title": true,
   "title_cell": "Table of Contents",
   "title_sidebar": "Contents",
   "toc_cell": false,
   "toc_position": {},
   "toc_section_display": true,
   "toc_window_display": false
  }
 },
 "nbformat": 4,
 "nbformat_minor": 2
}
