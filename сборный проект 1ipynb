{
 "cells": [
  {
   "cell_type": "markdown",
   "metadata": {},
   "source": [
    "## **Комментарий ревьюера**\n",
    "\n",
    "Привет👋\n",
    "\n",
    "Меня зовут Валентин, и я буду проверять твой проект. Предлагаю сразу договориться общаться на «ты», если для тебя это не уместно, то дай, пожалуйста, знать, будем общаться на «вы».\n",
    "\n",
    "### **Краткое резюме по ревью**\n",
    "\n",
    "<div style=\"border-radius: 15px; box-shadow: 2px 2px 4px; border: 1px solid; background:Gainsboro; padding: 20px\">\n",
    "\n",
    "Видны твои старания при работе над данным проектом. Большинство основных этапов в работе сделано хорошо:\n",
    "- есть много сильных и интересных алгоритмов 🤩\n",
    "- здорово проведен статистический анализ\n",
    "- качественно исследованы данные\n",
    "- построено много интересных графиков\n",
    "- здорово отпределены нулевая и альтернативная гипотезы\n",
    "- сделано много верных промежуточных выводов, основанных на полученных данных\n",
    "\n",
    "Твоего внимания требует:\n",
    "- дополнение предобработки данных\n",
    "- небольшое исправление графиков\n",
    "- переопределение года для исследования\n",
    "- пересмотр выводов\n",
    "\n",
    "Я описал замечания в комментариях, которые помечены цветом(красным, желтым), после их доработки я смогу принять работу.\n",
    "    \n",
    "Спасибо тебе за твой труд! Я на все 100% уверен, что у тебя все получится, и с нетерпением буду ждать твою работу на повторное ревью 😉\n",
    "\n",
    "</div>\n",
    "\n",
    "### **PS:**\n",
    "\n",
    "Хочу поделиться дополнительным материалом, он бесплатный, но объемный(может уйти несколько месяцев):\n",
    "- У Тимофея Хирьянова есть [Плей-лист по алгоритмам на python](https://www.youtube.com/playlist?list=PLRDzFCPr95fK7tr47883DFUbm4GeOjjc0), это вроде просто видео-лекции, но в описании есть ссылка на лекции и практику, не стесняйся смотреть, преподаватель очень наглядно объясняет материал. На первых уроках задания могут показаться сложными, так как требует знания геометрии, не стесняйся проходить далее, будет проще)\n",
    "\n",
    "И вот доп ссылки на статьи по корреляции:\n",
    "- [Корреляционный анализ](https://mylektsii.su/12-8768.html), тут есть табличка по тому, как интерпретировать корреляцию\n",
    "- [Линейный коэффициент корреляции Пирсона](https://statanaliz.info/statistica/korrelyaciya-i-regressiya/linejnyj-koefficient-korrelyacii-pirsona/)\n",
    "- [Корреляция и регрессия](https://stepik.org/lesson/8086/step/1?unit=1365), это небольшой курс на степике, в котором можно пройти только нужные тебе блоки\n",
    "- [Корреляция и каузальность](https://pikabu.ru/story/korrelyatsiya_i_kauzalnost_5956601)\n",
    "\n",
    "### **Правила оформления:**\n",
    "\n",
    "По ходу тетрадки ты найдешь комментарии к проекту, они будут в отдельных ячейках Markdown с заголовком «Комментарий ревьюера». Постарайся учесть эти комментарии для дальнейших проектов. Я использую заголовки в комментариях, они изменят твое оглавление. Но тебе будет удобно перемещаться от комментария к комментарию. А перед перемещением проекта в портфолио просто уберешь данные комментарии.\n",
    "\n",
    "Пожалуйста, **не перемещай, не изменяй и не удаляй мои комментарии**. Всё это поможет выполнить повторную проверку твоего проекта быстрее.\n",
    "\n",
    "Я буду красить комментарии цветом:\n",
    "\n",
    "<div class=\"alert alert-danger\"; style=\"border-left: 7px solid FireBrick\">\n",
    "<h4> ❌ <font color=\"FireBrick\">Комментарий ревьюера (красный)</font></h4>\n",
    "\n",
    "Такой комментарий нужно исправить обязательно, он критически влияет на удачное выполнение проекта.\n",
    "\n",
    "Также жду от тебя комментарии, где вкратце опишешь изменения, которые были внесены.\n",
    "</div>\n",
    "\n",
    "<div class=\"alert alert-warning\"; style=\"border-left: 7px solid Gold\">\n",
    "<h4> ⚠️ <font color=\"DarkGoldenRod\">Комментарий ревьюера (желтый)</font></h4>\n",
    "\n",
    "Такой комментарий является рекомендацией или советом. Можешь использовать их на своё усмотрение.\n",
    "    \n",
    "В случае изменений кода, опиши, пожалуйста, вкратце то, что изменилось. Если изменений не было, то просто опиши свои мысли на эту тему.\n",
    "</div>\n",
    "\n",
    "<div class=\"alert alert-success\"; style=\"border-left: 7px solid green\">\n",
    "<h4> ✔️ <font color=\"green\">Комментарий ревьюера (зеленый)</font></h4>\n",
    "\n",
    "Такой комментарий говорит о том, что было сделано что-то качественное и правильное 😃\n",
    "    \n",
    "Я не буду ждать твоего комментария, но буду ему очень рад 🤗\n",
    "</div>\n",
    "\n",
    "Чтобы мы были на одной волне, рекомендую общаться в том же стиле 😊 Твои ответы на мои комментарии будут подкрашиваться в синий цвет.\n",
    "\n",
    "Ниже я оформил образец для твоего удобства, тебе остается только добавить после моего комментария ячейку с типом **Markdown**, скопировать туда код(чтобы увидеть код дважды, кликни на ячейку) из образца и написать свои мысли по поводу комментария."
   ]
  },
  {
   "cell_type": "markdown",
   "metadata": {},
   "source": [
    "<div class=\"alert alert-info\"; style=\"border-left: 7px solid SteelBlue\">\n",
    "<h5>🎓 <font color=\"SteelBlue\">Комментарий от студента (синий)</font></h5>    \n",
    "\n",
    "Большое спасибо за крутое ревью, очень приятно было совершенствовать проект благодаря советам и качественным замечаниям, особенное спасибо, за подсказки где найти инфу чтобы сделать правки и за доп. материалы)\n",
    "\n",
    "</div>"
   ]
  },
  {
   "cell_type": "markdown",
   "metadata": {},
   "source": [
    "## **Комментарий ревьюера v2**\n",
    "\n",
    "### **Краткое резюме по ревью**\n",
    "<div style=\"border-radius: 15px; box-shadow: 2px 2px 4px; border: 1px solid; background:Gainsboro; padding: 20px\">\n",
    "\n",
    "Молодец, исправлено:\n",
    "- дополнение предобработки данных\n",
    "- небольшое исправление графиков\n",
    "- переопределение года для исследования\n",
    "- пересмотр выводов\n",
    "\n",
    "Спасибо тебе за твой труд! Я готов принять работу. Успехов в дальнейшем обучении!\n",
    "\n",
    "</div>"
   ]
  },
  {
   "cell_type": "markdown",
   "metadata": {},
   "source": [
    "**Выявление определяющих успешность игры закономерностей по данным интернет-магазина \"Стричик\"**"
   ]
  },
  {
   "cell_type": "markdown",
   "metadata": {},
   "source": [
    "- **Краткое описание:**\n",
    "анализируем данные винтернет-магазина «Стримчик», который продаёт по всему миру компьютерные игры. Из открытых источников доступны исторические данные о продажах игр, оценки пользователей и экспертов, жанры и платформы (например, Xbox или PlayStation). Необходимо выявить определяющие успешность игры закономерности. Это позволит сделать ставку на потенциально популярный продукт и спланировать рекламные кампании.\n",
    "Перед нами данные до 2016 года. Работа проводится для планирования кампании на 2017 год\n",
    "-**Цель проекта:**\n",
    "Выявление определяющих успешность игры закономерностей по данным интернет-магазина \"Стричик\"\n",
    "- **Описание данных:**\n",
    "- Name — название игры\n",
    "- Platform — платформа\n",
    "- Year_of_Release — год выпуска\n",
    "- Genre — жанр игры\n",
    "- NA_sales — продажи в Северной Америке (миллионы долларов)\n",
    "- EU_sales — продажи в Европе (миллионы долларов)\n",
    "- JP_sales — продажи в Японии (миллионы долларов)\n",
    "- Other_sales — продажи в других странах (миллионы долларов)\n",
    "- Critic_Score — оценка критиков (максимум 100)\n",
    "- User_Score — оценка пользователей (максимум 10)\n",
    "- Rating — рейтинг от организации ESRB (англ. Entertainment Software Rating Board). Эта ассоциация определяет рейтинг компьютерных игр и присваивает им подходящую возрастную категорию.\n",
    "- **План работы:**\n",
    "- Считаем файл /datasets/games.csv\n",
    "- Подготовим и предобработаем данные\n",
    "- Проведем исследовательский анализ данных\n",
    "- Составим портрет пользователя каждого региона\n",
    "- Проверим гипотезы\n",
    "- Напишем общий вывод"
   ]
  },
  {
   "cell_type": "markdown",
   "metadata": {},
   "source": [
    "<div class=\"alert alert-danger\"; style=\"border-left: 7px solid FireBrick\">\n",
    "<h5> ❌ <font color=\"FireBrick\">Комментарий ревьюера (красный)</font></h5>\n",
    "\n",
    "Спасибо, что есть оглавление в плагине toc. Теперь по проекту удобно перемещаться.\n",
    "    \n",
    "Здорово, что во вступлении к твоему проекту есть\n",
    "\n",
    "- заголовок\n",
    "\n",
    "Вступление станет лучше, если ты добавишь в него:\n",
    "\n",
    "- краткое описание проекта,\n",
    "\n",
    "- цель проекта,\n",
    "\n",
    "- описание данных,\n",
    "\n",
    "- план работы\n",
    "\n",
    "Тогда получатель отчета сможет быстрей его понять.\n",
    "\n",
    "</div>"
   ]
  },
  {
   "cell_type": "markdown",
   "metadata": {},
   "source": [
    "<div class=\"alert alert-info\"; style=\"border-left: 7px solid SteelBlue\">\n",
    "<h5>🎓 <font color=\"SteelBlue\">Комментарий от студента (синий)</font></h5>    \n",
    "\n",
    "добавила все пункты\n",
    "\n",
    "</div>"
   ]
  },
  {
   "cell_type": "markdown",
   "metadata": {},
   "source": [
    "<div class=\"alert alert-success\"; style=\"border-left: 7px solid green\">\n",
    "<h5> ✔️ <font color=\"green\">v2 Комментарий ревьюера (зеленый)</font></h5>\n",
    "\n",
    "✅ Спасибо за допонение вступления 👍\n",
    " \n",
    "</div>"
   ]
  },
  {
   "cell_type": "markdown",
   "metadata": {},
   "source": [
    "**Импортирование библиотек**"
   ]
  },
  {
   "cell_type": "code",
   "execution_count": 1,
   "metadata": {},
   "outputs": [],
   "source": [
    "import pandas as pd\n",
    "from scipy import stats as st\n",
    "import matplotlib.pyplot as plt\n",
    "import seaborn as sns\n",
    "import numpy as np"
   ]
  },
  {
   "cell_type": "markdown",
   "metadata": {},
   "source": [
    "<div class=\"alert alert-success\"; style=\"border-left: 7px solid green\">\n",
    "<h5> ✔️ <font color=\"green\">Комментарий ревьюера (зеленый)</font></h5>\n",
    "\n",
    "Молодец, что загружаешь все библиотеки в начале проекта. Так сложней случайно удалить ячейку с загрузкой нужной библиотеки и сделать код не работающим. А получатель отчета сразу поймет, какие библиотеки ты используешь и какие ему нужно установить для запуска проекта.\n",
    "\n",
    "</div>"
   ]
  },
  {
   "cell_type": "markdown",
   "metadata": {},
   "source": [
    "**Загрузка данных**"
   ]
  },
  {
   "cell_type": "code",
   "execution_count": 2,
   "metadata": {},
   "outputs": [],
   "source": [
    "data = pd.read_csv('/datasets/games.csv')"
   ]
  },
  {
   "cell_type": "code",
   "execution_count": 3,
   "metadata": {},
   "outputs": [
    {
     "name": "stdout",
     "output_type": "stream",
     "text": [
      "<class 'pandas.core.frame.DataFrame'>\n",
      "RangeIndex: 16715 entries, 0 to 16714\n",
      "Data columns (total 11 columns):\n",
      " #   Column           Non-Null Count  Dtype  \n",
      "---  ------           --------------  -----  \n",
      " 0   Name             16713 non-null  object \n",
      " 1   Platform         16715 non-null  object \n",
      " 2   Year_of_Release  16446 non-null  float64\n",
      " 3   Genre            16713 non-null  object \n",
      " 4   NA_sales         16715 non-null  float64\n",
      " 5   EU_sales         16715 non-null  float64\n",
      " 6   JP_sales         16715 non-null  float64\n",
      " 7   Other_sales      16715 non-null  float64\n",
      " 8   Critic_Score     8137 non-null   float64\n",
      " 9   User_Score       10014 non-null  object \n",
      " 10  Rating           9949 non-null   object \n",
      "dtypes: float64(6), object(5)\n",
      "memory usage: 1.4+ MB\n"
     ]
    }
   ],
   "source": [
    "data.info()"
   ]
  },
  {
   "cell_type": "code",
   "execution_count": 4,
   "metadata": {},
   "outputs": [
    {
     "data": {
      "text/html": [
       "<div>\n",
       "<style scoped>\n",
       "    .dataframe tbody tr th:only-of-type {\n",
       "        vertical-align: middle;\n",
       "    }\n",
       "\n",
       "    .dataframe tbody tr th {\n",
       "        vertical-align: top;\n",
       "    }\n",
       "\n",
       "    .dataframe thead th {\n",
       "        text-align: right;\n",
       "    }\n",
       "</style>\n",
       "<table border=\"1\" class=\"dataframe\">\n",
       "  <thead>\n",
       "    <tr style=\"text-align: right;\">\n",
       "      <th></th>\n",
       "      <th>Name</th>\n",
       "      <th>Platform</th>\n",
       "      <th>Year_of_Release</th>\n",
       "      <th>Genre</th>\n",
       "      <th>NA_sales</th>\n",
       "      <th>EU_sales</th>\n",
       "      <th>JP_sales</th>\n",
       "      <th>Other_sales</th>\n",
       "      <th>Critic_Score</th>\n",
       "      <th>User_Score</th>\n",
       "      <th>Rating</th>\n",
       "    </tr>\n",
       "  </thead>\n",
       "  <tbody>\n",
       "    <tr>\n",
       "      <th>0</th>\n",
       "      <td>Wii Sports</td>\n",
       "      <td>Wii</td>\n",
       "      <td>2006.0</td>\n",
       "      <td>Sports</td>\n",
       "      <td>41.36</td>\n",
       "      <td>28.96</td>\n",
       "      <td>3.77</td>\n",
       "      <td>8.45</td>\n",
       "      <td>76.0</td>\n",
       "      <td>8</td>\n",
       "      <td>E</td>\n",
       "    </tr>\n",
       "    <tr>\n",
       "      <th>1</th>\n",
       "      <td>Super Mario Bros.</td>\n",
       "      <td>NES</td>\n",
       "      <td>1985.0</td>\n",
       "      <td>Platform</td>\n",
       "      <td>29.08</td>\n",
       "      <td>3.58</td>\n",
       "      <td>6.81</td>\n",
       "      <td>0.77</td>\n",
       "      <td>NaN</td>\n",
       "      <td>NaN</td>\n",
       "      <td>NaN</td>\n",
       "    </tr>\n",
       "    <tr>\n",
       "      <th>2</th>\n",
       "      <td>Mario Kart Wii</td>\n",
       "      <td>Wii</td>\n",
       "      <td>2008.0</td>\n",
       "      <td>Racing</td>\n",
       "      <td>15.68</td>\n",
       "      <td>12.76</td>\n",
       "      <td>3.79</td>\n",
       "      <td>3.29</td>\n",
       "      <td>82.0</td>\n",
       "      <td>8.3</td>\n",
       "      <td>E</td>\n",
       "    </tr>\n",
       "    <tr>\n",
       "      <th>3</th>\n",
       "      <td>Wii Sports Resort</td>\n",
       "      <td>Wii</td>\n",
       "      <td>2009.0</td>\n",
       "      <td>Sports</td>\n",
       "      <td>15.61</td>\n",
       "      <td>10.93</td>\n",
       "      <td>3.28</td>\n",
       "      <td>2.95</td>\n",
       "      <td>80.0</td>\n",
       "      <td>8</td>\n",
       "      <td>E</td>\n",
       "    </tr>\n",
       "    <tr>\n",
       "      <th>4</th>\n",
       "      <td>Pokemon Red/Pokemon Blue</td>\n",
       "      <td>GB</td>\n",
       "      <td>1996.0</td>\n",
       "      <td>Role-Playing</td>\n",
       "      <td>11.27</td>\n",
       "      <td>8.89</td>\n",
       "      <td>10.22</td>\n",
       "      <td>1.00</td>\n",
       "      <td>NaN</td>\n",
       "      <td>NaN</td>\n",
       "      <td>NaN</td>\n",
       "    </tr>\n",
       "    <tr>\n",
       "      <th>...</th>\n",
       "      <td>...</td>\n",
       "      <td>...</td>\n",
       "      <td>...</td>\n",
       "      <td>...</td>\n",
       "      <td>...</td>\n",
       "      <td>...</td>\n",
       "      <td>...</td>\n",
       "      <td>...</td>\n",
       "      <td>...</td>\n",
       "      <td>...</td>\n",
       "      <td>...</td>\n",
       "    </tr>\n",
       "    <tr>\n",
       "      <th>16710</th>\n",
       "      <td>Samurai Warriors: Sanada Maru</td>\n",
       "      <td>PS3</td>\n",
       "      <td>2016.0</td>\n",
       "      <td>Action</td>\n",
       "      <td>0.00</td>\n",
       "      <td>0.00</td>\n",
       "      <td>0.01</td>\n",
       "      <td>0.00</td>\n",
       "      <td>NaN</td>\n",
       "      <td>NaN</td>\n",
       "      <td>NaN</td>\n",
       "    </tr>\n",
       "    <tr>\n",
       "      <th>16711</th>\n",
       "      <td>LMA Manager 2007</td>\n",
       "      <td>X360</td>\n",
       "      <td>2006.0</td>\n",
       "      <td>Sports</td>\n",
       "      <td>0.00</td>\n",
       "      <td>0.01</td>\n",
       "      <td>0.00</td>\n",
       "      <td>0.00</td>\n",
       "      <td>NaN</td>\n",
       "      <td>NaN</td>\n",
       "      <td>NaN</td>\n",
       "    </tr>\n",
       "    <tr>\n",
       "      <th>16712</th>\n",
       "      <td>Haitaka no Psychedelica</td>\n",
       "      <td>PSV</td>\n",
       "      <td>2016.0</td>\n",
       "      <td>Adventure</td>\n",
       "      <td>0.00</td>\n",
       "      <td>0.00</td>\n",
       "      <td>0.01</td>\n",
       "      <td>0.00</td>\n",
       "      <td>NaN</td>\n",
       "      <td>NaN</td>\n",
       "      <td>NaN</td>\n",
       "    </tr>\n",
       "    <tr>\n",
       "      <th>16713</th>\n",
       "      <td>Spirits &amp; Spells</td>\n",
       "      <td>GBA</td>\n",
       "      <td>2003.0</td>\n",
       "      <td>Platform</td>\n",
       "      <td>0.01</td>\n",
       "      <td>0.00</td>\n",
       "      <td>0.00</td>\n",
       "      <td>0.00</td>\n",
       "      <td>NaN</td>\n",
       "      <td>NaN</td>\n",
       "      <td>NaN</td>\n",
       "    </tr>\n",
       "    <tr>\n",
       "      <th>16714</th>\n",
       "      <td>Winning Post 8 2016</td>\n",
       "      <td>PSV</td>\n",
       "      <td>2016.0</td>\n",
       "      <td>Simulation</td>\n",
       "      <td>0.00</td>\n",
       "      <td>0.00</td>\n",
       "      <td>0.01</td>\n",
       "      <td>0.00</td>\n",
       "      <td>NaN</td>\n",
       "      <td>NaN</td>\n",
       "      <td>NaN</td>\n",
       "    </tr>\n",
       "  </tbody>\n",
       "</table>\n",
       "<p>16715 rows × 11 columns</p>\n",
       "</div>"
      ],
      "text/plain": [
       "                                Name Platform  Year_of_Release         Genre  \\\n",
       "0                         Wii Sports      Wii           2006.0        Sports   \n",
       "1                  Super Mario Bros.      NES           1985.0      Platform   \n",
       "2                     Mario Kart Wii      Wii           2008.0        Racing   \n",
       "3                  Wii Sports Resort      Wii           2009.0        Sports   \n",
       "4           Pokemon Red/Pokemon Blue       GB           1996.0  Role-Playing   \n",
       "...                              ...      ...              ...           ...   \n",
       "16710  Samurai Warriors: Sanada Maru      PS3           2016.0        Action   \n",
       "16711               LMA Manager 2007     X360           2006.0        Sports   \n",
       "16712        Haitaka no Psychedelica      PSV           2016.0     Adventure   \n",
       "16713               Spirits & Spells      GBA           2003.0      Platform   \n",
       "16714            Winning Post 8 2016      PSV           2016.0    Simulation   \n",
       "\n",
       "       NA_sales  EU_sales  JP_sales  Other_sales  Critic_Score User_Score  \\\n",
       "0         41.36     28.96      3.77         8.45          76.0          8   \n",
       "1         29.08      3.58      6.81         0.77           NaN        NaN   \n",
       "2         15.68     12.76      3.79         3.29          82.0        8.3   \n",
       "3         15.61     10.93      3.28         2.95          80.0          8   \n",
       "4         11.27      8.89     10.22         1.00           NaN        NaN   \n",
       "...         ...       ...       ...          ...           ...        ...   \n",
       "16710      0.00      0.00      0.01         0.00           NaN        NaN   \n",
       "16711      0.00      0.01      0.00         0.00           NaN        NaN   \n",
       "16712      0.00      0.00      0.01         0.00           NaN        NaN   \n",
       "16713      0.01      0.00      0.00         0.00           NaN        NaN   \n",
       "16714      0.00      0.00      0.01         0.00           NaN        NaN   \n",
       "\n",
       "      Rating  \n",
       "0          E  \n",
       "1        NaN  \n",
       "2          E  \n",
       "3          E  \n",
       "4        NaN  \n",
       "...      ...  \n",
       "16710    NaN  \n",
       "16711    NaN  \n",
       "16712    NaN  \n",
       "16713    NaN  \n",
       "16714    NaN  \n",
       "\n",
       "[16715 rows x 11 columns]"
      ]
     },
     "execution_count": 4,
     "metadata": {},
     "output_type": "execute_result"
    }
   ],
   "source": [
    "data"
   ]
  },
  {
   "cell_type": "markdown",
   "metadata": {},
   "source": [
    "В датафрейме есть пропуски с столбцах: 'name', 'Year_of_Release', 'Genre', 'Critic_Score', 'User_Score', 'Rating'. \n",
    "Есть несоответствие типов данных в столбцах 'year_of_release' и 'user_score'"
   ]
  },
  {
   "cell_type": "markdown",
   "metadata": {},
   "source": [
    "<div class=\"alert alert-success\"; style=\"border-left: 7px solid green\">\n",
    "<h5> ✔️ <font color=\"green\">Комментарий ревьюера (зеленый)</font></h5>\n",
    "\n",
    "Хороший промежуточный вывод, сразу понятно, что будет далее в предобработке.\n",
    "\n",
    "</div>"
   ]
  },
  {
   "cell_type": "markdown",
   "metadata": {},
   "source": [
    "**Предобработка данных**"
   ]
  },
  {
   "cell_type": "code",
   "execution_count": 5,
   "metadata": {},
   "outputs": [],
   "source": [
    "#Заменим названия столбцов (приведем к нижнему регистру)\n",
    "data.columns = data.columns.str.lower()"
   ]
  },
  {
   "cell_type": "markdown",
   "metadata": {},
   "source": [
    "<div class=\"alert alert-success\"; style=\"border-left: 7px solid green\">\n",
    "<h5> ✔️ <font color=\"green\">Комментарий ревьюера (зеленый)</font></h5>\n",
    "\n",
    "Хорошо преобразованы названия столбцов красивым методом 😃\n",
    "\n",
    "</div>"
   ]
  },
  {
   "cell_type": "code",
   "execution_count": 6,
   "metadata": {},
   "outputs": [],
   "source": [
    "#Заменим тип данных в столбце year_of_release\n",
    "data['year_of_release'] = data['year_of_release'].astype('Int64')"
   ]
  },
  {
   "cell_type": "markdown",
   "metadata": {},
   "source": [
    "<div class=\"alert alert-warning\"; style=\"border-left: 7px solid Gold\">\n",
    "<h5> ⚠️ <font color=\"DarkGoldenRod\">Комментарий ревьюера (желтый)</font></h5>\n",
    "\n",
    "Приведение к типу данных лучше вынести в отдельный блок, чтобы были видны преобразования сразу по всем колонкам в одном месте.\n",
    "\n",
    "</div>"
   ]
  },
  {
   "cell_type": "markdown",
   "metadata": {},
   "source": [
    "Необходимо заменить данные в столбце user_score, в этом столбце встречается обревеатура 'tbd' - это означает, что решения по оценки еще нет, значит это можно прировнять к пропуску. Заменим эти значения на NaN и сменим тип данных"
   ]
  },
  {
   "cell_type": "code",
   "execution_count": 7,
   "metadata": {},
   "outputs": [],
   "source": [
    "data.loc[data['user_score'] == 'tbd','user_score'] = np.nan\n",
    "data['user_score'] = data['user_score'].astype('float64')"
   ]
  },
  {
   "cell_type": "markdown",
   "metadata": {},
   "source": [
    "<div class=\"alert alert-success\"; style=\"border-left: 7px solid green\">\n",
    "<h5> ✔️ <font color=\"green\">Комментарий ревьюера (зеленый)</font></h5>\n",
    "\n",
    "Да, верно, тут стоит заменить tbd на пропуски.\n",
    "\n",
    "</div>"
   ]
  },
  {
   "cell_type": "markdown",
   "metadata": {},
   "source": [
    "Проверим датасет на дубликаты "
   ]
  },
  {
   "cell_type": "code",
   "execution_count": 8,
   "metadata": {},
   "outputs": [
    {
     "data": {
      "text/plain": [
       "0"
      ]
     },
     "execution_count": 8,
     "metadata": {},
     "output_type": "execute_result"
    }
   ],
   "source": [
    "data.duplicated().sum()"
   ]
  },
  {
   "cell_type": "markdown",
   "metadata": {},
   "source": [
    "дубликатов нет"
   ]
  },
  {
   "cell_type": "markdown",
   "metadata": {},
   "source": [
    "<div class=\"alert alert-warning\"; style=\"border-left: 7px solid Gold\">\n",
    "<h5> ⚠️ <font color=\"DarkGoldenRod\">Комментарий ревьюера (желтый)</font></h5>\n",
    "\n",
    "Можно проверить есть ли в таблицах не полные дубликаты, например, полностью повторяются значения в 3-х, 4-х столбцах, где они повторяться не могут.\n",
    "\n",
    "</div>"
   ]
  },
  {
   "cell_type": "markdown",
   "metadata": {},
   "source": [
    "<div class=\"alert alert-info\"; style=\"border-left: 7px solid SteelBlue\">\n",
    "<h5>🎓 <font color=\"SteelBlue\">Комментарий от студента (синий)</font></h5>    \n",
    "\n",
    "Если честно, я понимаю, что это важно и нужно сделать, но не могу понять как(((\n",
    "\n",
    "</div>"
   ]
  },
  {
   "cell_type": "markdown",
   "metadata": {},
   "source": [
    "<div class=\"alert alert-warning\"; style=\"border-left: 7px solid Gold\">\n",
    "<h5> ⚠️ <font color=\"DarkGoldenRod\">v2 Комментарий ревьюера (желтый)</font></h5>\n",
    "\n",
    "Ниже показал пример.\n",
    "\n",
    "</div>"
   ]
  },
  {
   "cell_type": "code",
   "execution_count": 9,
   "metadata": {},
   "outputs": [
    {
     "data": {
      "text/html": [
       "<div>\n",
       "<style scoped>\n",
       "    .dataframe tbody tr th:only-of-type {\n",
       "        vertical-align: middle;\n",
       "    }\n",
       "\n",
       "    .dataframe tbody tr th {\n",
       "        vertical-align: top;\n",
       "    }\n",
       "\n",
       "    .dataframe thead th {\n",
       "        text-align: right;\n",
       "    }\n",
       "</style>\n",
       "<table border=\"1\" class=\"dataframe\">\n",
       "  <thead>\n",
       "    <tr style=\"text-align: right;\">\n",
       "      <th></th>\n",
       "      <th>name</th>\n",
       "      <th>platform</th>\n",
       "      <th>year_of_release</th>\n",
       "      <th>genre</th>\n",
       "      <th>na_sales</th>\n",
       "      <th>eu_sales</th>\n",
       "      <th>jp_sales</th>\n",
       "      <th>other_sales</th>\n",
       "      <th>critic_score</th>\n",
       "      <th>user_score</th>\n",
       "      <th>rating</th>\n",
       "    </tr>\n",
       "  </thead>\n",
       "  <tbody>\n",
       "    <tr>\n",
       "      <th>14244</th>\n",
       "      <td>NaN</td>\n",
       "      <td>GEN</td>\n",
       "      <td>1993</td>\n",
       "      <td>NaN</td>\n",
       "      <td>0.0</td>\n",
       "      <td>0.00</td>\n",
       "      <td>0.03</td>\n",
       "      <td>0.0</td>\n",
       "      <td>NaN</td>\n",
       "      <td>NaN</td>\n",
       "      <td>NaN</td>\n",
       "    </tr>\n",
       "    <tr>\n",
       "      <th>16230</th>\n",
       "      <td>Madden NFL 13</td>\n",
       "      <td>PS3</td>\n",
       "      <td>2012</td>\n",
       "      <td>Sports</td>\n",
       "      <td>0.0</td>\n",
       "      <td>0.01</td>\n",
       "      <td>0.00</td>\n",
       "      <td>0.0</td>\n",
       "      <td>83.0</td>\n",
       "      <td>5.5</td>\n",
       "      <td>E</td>\n",
       "    </tr>\n",
       "  </tbody>\n",
       "</table>\n",
       "</div>"
      ],
      "text/plain": [
       "                name platform  year_of_release   genre  na_sales  eu_sales  \\\n",
       "14244            NaN      GEN             1993     NaN       0.0      0.00   \n",
       "16230  Madden NFL 13      PS3             2012  Sports       0.0      0.01   \n",
       "\n",
       "       jp_sales  other_sales  critic_score  user_score rating  \n",
       "14244      0.03          0.0           NaN         NaN    NaN  \n",
       "16230      0.00          0.0          83.0         5.5      E  "
      ]
     },
     "execution_count": 9,
     "metadata": {},
     "output_type": "execute_result"
    }
   ],
   "source": [
    "# Код ревьюера\n",
    "\n",
    "data[data[['name', 'platform', 'year_of_release']].duplicated()]"
   ]
  },
  {
   "cell_type": "markdown",
   "metadata": {},
   "source": [
    "Ознакомимся с пропусками в датасете"
   ]
  },
  {
   "cell_type": "code",
   "execution_count": 10,
   "metadata": {},
   "outputs": [
    {
     "data": {
      "text/plain": [
       "user_score         9125\n",
       "critic_score       8578\n",
       "rating             6766\n",
       "year_of_release     269\n",
       "name                  2\n",
       "genre                 2\n",
       "platform              0\n",
       "na_sales              0\n",
       "eu_sales              0\n",
       "jp_sales              0\n",
       "other_sales           0\n",
       "dtype: int64"
      ]
     },
     "execution_count": 10,
     "metadata": {},
     "output_type": "execute_result"
    }
   ],
   "source": [
    "data.isna().sum().sort_values(ascending=False)"
   ]
  },
  {
   "cell_type": "code",
   "execution_count": 11,
   "metadata": {},
   "outputs": [
    {
     "data": {
      "text/html": [
       "<div>\n",
       "<style scoped>\n",
       "    .dataframe tbody tr th:only-of-type {\n",
       "        vertical-align: middle;\n",
       "    }\n",
       "\n",
       "    .dataframe tbody tr th {\n",
       "        vertical-align: top;\n",
       "    }\n",
       "\n",
       "    .dataframe thead th {\n",
       "        text-align: right;\n",
       "    }\n",
       "</style>\n",
       "<table border=\"1\" class=\"dataframe\">\n",
       "  <thead>\n",
       "    <tr style=\"text-align: right;\">\n",
       "      <th></th>\n",
       "      <th>0</th>\n",
       "    </tr>\n",
       "  </thead>\n",
       "  <tbody>\n",
       "    <tr>\n",
       "      <th>user_score</th>\n",
       "      <td>54.6</td>\n",
       "    </tr>\n",
       "    <tr>\n",
       "      <th>critic_score</th>\n",
       "      <td>51.3</td>\n",
       "    </tr>\n",
       "    <tr>\n",
       "      <th>rating</th>\n",
       "      <td>40.5</td>\n",
       "    </tr>\n",
       "    <tr>\n",
       "      <th>year_of_release</th>\n",
       "      <td>1.6</td>\n",
       "    </tr>\n",
       "    <tr>\n",
       "      <th>name</th>\n",
       "      <td>0.0</td>\n",
       "    </tr>\n",
       "    <tr>\n",
       "      <th>platform</th>\n",
       "      <td>0.0</td>\n",
       "    </tr>\n",
       "    <tr>\n",
       "      <th>genre</th>\n",
       "      <td>0.0</td>\n",
       "    </tr>\n",
       "    <tr>\n",
       "      <th>na_sales</th>\n",
       "      <td>0.0</td>\n",
       "    </tr>\n",
       "    <tr>\n",
       "      <th>eu_sales</th>\n",
       "      <td>0.0</td>\n",
       "    </tr>\n",
       "    <tr>\n",
       "      <th>jp_sales</th>\n",
       "      <td>0.0</td>\n",
       "    </tr>\n",
       "    <tr>\n",
       "      <th>other_sales</th>\n",
       "      <td>0.0</td>\n",
       "    </tr>\n",
       "  </tbody>\n",
       "</table>\n",
       "</div>"
      ],
      "text/plain": [
       "                    0\n",
       "user_score       54.6\n",
       "critic_score     51.3\n",
       "rating           40.5\n",
       "year_of_release   1.6\n",
       "name              0.0\n",
       "platform          0.0\n",
       "genre             0.0\n",
       "na_sales          0.0\n",
       "eu_sales          0.0\n",
       "jp_sales          0.0\n",
       "other_sales       0.0"
      ]
     },
     "execution_count": 11,
     "metadata": {},
     "output_type": "execute_result"
    }
   ],
   "source": [
    "#выведем на экран долю пропусков по каждому столбцу в процентах \n",
    "pd.DataFrame(round(data.isna().mean()*100,1).sort_values(ascending=False))"
   ]
  },
  {
   "cell_type": "markdown",
   "metadata": {},
   "source": [
    "<div class=\"alert alert-warning\"; style=\"border-left: 7px solid Gold\">\n",
    "<h5> ⚠️ <font color=\"DarkGoldenRod\">Комментарий ревьюера (желтый)</font></h5>\n",
    "\n",
    "Хорошо, что ты задумываешься о том, сколько данных отбрасываешься, но еще лучше считать конкретные цифры в процентах перед удалением данных. 10% — считается приемлимым, больше — плохо.\n",
    "\n",
    "</div>"
   ]
  },
  {
   "cell_type": "markdown",
   "metadata": {},
   "source": [
    "<div class=\"alert alert-info\"; style=\"border-left: 7px solid SteelBlue\">\n",
    "<h5>🎓 <font color=\"SteelBlue\">Комментарий от студента (синий)</font></h5>    \n",
    "\n",
    "добавила долю пропусков в процентах выше)\n",
    "\n",
    "</div>"
   ]
  },
  {
   "cell_type": "markdown",
   "metadata": {},
   "source": [
    "<div class=\"alert alert-success\"; style=\"border-left: 7px solid green\">\n",
    "<h5> ✔️ <font color=\"green\">v2 Комментарий ревьюера (зеленый)</font></h5>\n",
    "\n",
    "✅ Хорошо, что изучено соотношение пропущенных данных, это отличная практика 👍\n",
    " \n",
    "</div>"
   ]
  },
  {
   "cell_type": "markdown",
   "metadata": {},
   "source": [
    "Больше всего пропусков в столбцах \n",
    "**'user_score' \n",
    "'critic_score' \n",
    "'rating'**\n",
    "Пропуски в этих столбцах мы трогать не будем, заменять их на средние или медианные значения мы не можем, поскольку оценки и рейтинг для каждой игры индивидуальны, заменять пропуски на \"0\" тоже нельзя, потому что такие оценки существуют. "
   ]
  },
  {
   "cell_type": "code",
   "execution_count": 12,
   "metadata": {},
   "outputs": [
    {
     "data": {
      "text/plain": [
       "269"
      ]
     },
     "execution_count": 12,
     "metadata": {},
     "output_type": "execute_result"
    }
   ],
   "source": [
    "data['year_of_release'].isna().sum()"
   ]
  },
  {
   "cell_type": "code",
   "execution_count": 13,
   "metadata": {},
   "outputs": [
    {
     "data": {
      "text/html": [
       "<div>\n",
       "<style scoped>\n",
       "    .dataframe tbody tr th:only-of-type {\n",
       "        vertical-align: middle;\n",
       "    }\n",
       "\n",
       "    .dataframe tbody tr th {\n",
       "        vertical-align: top;\n",
       "    }\n",
       "\n",
       "    .dataframe thead th {\n",
       "        text-align: right;\n",
       "    }\n",
       "</style>\n",
       "<table border=\"1\" class=\"dataframe\">\n",
       "  <thead>\n",
       "    <tr style=\"text-align: right;\">\n",
       "      <th></th>\n",
       "      <th>name</th>\n",
       "      <th>platform</th>\n",
       "      <th>year_of_release</th>\n",
       "      <th>genre</th>\n",
       "      <th>na_sales</th>\n",
       "      <th>eu_sales</th>\n",
       "      <th>jp_sales</th>\n",
       "      <th>other_sales</th>\n",
       "      <th>critic_score</th>\n",
       "      <th>user_score</th>\n",
       "      <th>rating</th>\n",
       "    </tr>\n",
       "  </thead>\n",
       "  <tbody>\n",
       "    <tr>\n",
       "      <th>183</th>\n",
       "      <td>Madden NFL 2004</td>\n",
       "      <td>PS2</td>\n",
       "      <td>&lt;NA&gt;</td>\n",
       "      <td>Sports</td>\n",
       "      <td>4.26</td>\n",
       "      <td>0.26</td>\n",
       "      <td>0.01</td>\n",
       "      <td>0.71</td>\n",
       "      <td>94.0</td>\n",
       "      <td>8.5</td>\n",
       "      <td>E</td>\n",
       "    </tr>\n",
       "    <tr>\n",
       "      <th>377</th>\n",
       "      <td>FIFA Soccer 2004</td>\n",
       "      <td>PS2</td>\n",
       "      <td>&lt;NA&gt;</td>\n",
       "      <td>Sports</td>\n",
       "      <td>0.59</td>\n",
       "      <td>2.36</td>\n",
       "      <td>0.04</td>\n",
       "      <td>0.51</td>\n",
       "      <td>84.0</td>\n",
       "      <td>6.4</td>\n",
       "      <td>E</td>\n",
       "    </tr>\n",
       "    <tr>\n",
       "      <th>456</th>\n",
       "      <td>LEGO Batman: The Videogame</td>\n",
       "      <td>Wii</td>\n",
       "      <td>&lt;NA&gt;</td>\n",
       "      <td>Action</td>\n",
       "      <td>1.80</td>\n",
       "      <td>0.97</td>\n",
       "      <td>0.00</td>\n",
       "      <td>0.29</td>\n",
       "      <td>74.0</td>\n",
       "      <td>7.9</td>\n",
       "      <td>E10+</td>\n",
       "    </tr>\n",
       "    <tr>\n",
       "      <th>475</th>\n",
       "      <td>wwe Smackdown vs. Raw 2006</td>\n",
       "      <td>PS2</td>\n",
       "      <td>&lt;NA&gt;</td>\n",
       "      <td>Fighting</td>\n",
       "      <td>1.57</td>\n",
       "      <td>1.02</td>\n",
       "      <td>0.00</td>\n",
       "      <td>0.41</td>\n",
       "      <td>NaN</td>\n",
       "      <td>NaN</td>\n",
       "      <td>NaN</td>\n",
       "    </tr>\n",
       "    <tr>\n",
       "      <th>609</th>\n",
       "      <td>Space Invaders</td>\n",
       "      <td>2600</td>\n",
       "      <td>&lt;NA&gt;</td>\n",
       "      <td>Shooter</td>\n",
       "      <td>2.36</td>\n",
       "      <td>0.14</td>\n",
       "      <td>0.00</td>\n",
       "      <td>0.03</td>\n",
       "      <td>NaN</td>\n",
       "      <td>NaN</td>\n",
       "      <td>NaN</td>\n",
       "    </tr>\n",
       "    <tr>\n",
       "      <th>...</th>\n",
       "      <td>...</td>\n",
       "      <td>...</td>\n",
       "      <td>...</td>\n",
       "      <td>...</td>\n",
       "      <td>...</td>\n",
       "      <td>...</td>\n",
       "      <td>...</td>\n",
       "      <td>...</td>\n",
       "      <td>...</td>\n",
       "      <td>...</td>\n",
       "      <td>...</td>\n",
       "    </tr>\n",
       "    <tr>\n",
       "      <th>16373</th>\n",
       "      <td>PDC World Championship Darts 2008</td>\n",
       "      <td>PSP</td>\n",
       "      <td>&lt;NA&gt;</td>\n",
       "      <td>Sports</td>\n",
       "      <td>0.01</td>\n",
       "      <td>0.00</td>\n",
       "      <td>0.00</td>\n",
       "      <td>0.00</td>\n",
       "      <td>43.0</td>\n",
       "      <td>NaN</td>\n",
       "      <td>E10+</td>\n",
       "    </tr>\n",
       "    <tr>\n",
       "      <th>16405</th>\n",
       "      <td>Freaky Flyers</td>\n",
       "      <td>GC</td>\n",
       "      <td>&lt;NA&gt;</td>\n",
       "      <td>Racing</td>\n",
       "      <td>0.01</td>\n",
       "      <td>0.00</td>\n",
       "      <td>0.00</td>\n",
       "      <td>0.00</td>\n",
       "      <td>69.0</td>\n",
       "      <td>6.5</td>\n",
       "      <td>T</td>\n",
       "    </tr>\n",
       "    <tr>\n",
       "      <th>16448</th>\n",
       "      <td>Inversion</td>\n",
       "      <td>PC</td>\n",
       "      <td>&lt;NA&gt;</td>\n",
       "      <td>Shooter</td>\n",
       "      <td>0.01</td>\n",
       "      <td>0.00</td>\n",
       "      <td>0.00</td>\n",
       "      <td>0.00</td>\n",
       "      <td>59.0</td>\n",
       "      <td>6.7</td>\n",
       "      <td>M</td>\n",
       "    </tr>\n",
       "    <tr>\n",
       "      <th>16458</th>\n",
       "      <td>Hakuouki: Shinsengumi Kitan</td>\n",
       "      <td>PS3</td>\n",
       "      <td>&lt;NA&gt;</td>\n",
       "      <td>Adventure</td>\n",
       "      <td>0.01</td>\n",
       "      <td>0.00</td>\n",
       "      <td>0.00</td>\n",
       "      <td>0.00</td>\n",
       "      <td>NaN</td>\n",
       "      <td>NaN</td>\n",
       "      <td>NaN</td>\n",
       "    </tr>\n",
       "    <tr>\n",
       "      <th>16522</th>\n",
       "      <td>Virtua Quest</td>\n",
       "      <td>GC</td>\n",
       "      <td>&lt;NA&gt;</td>\n",
       "      <td>Role-Playing</td>\n",
       "      <td>0.01</td>\n",
       "      <td>0.00</td>\n",
       "      <td>0.00</td>\n",
       "      <td>0.00</td>\n",
       "      <td>55.0</td>\n",
       "      <td>5.5</td>\n",
       "      <td>T</td>\n",
       "    </tr>\n",
       "  </tbody>\n",
       "</table>\n",
       "<p>269 rows × 11 columns</p>\n",
       "</div>"
      ],
      "text/plain": [
       "                                    name platform  year_of_release  \\\n",
       "183                      Madden NFL 2004      PS2             <NA>   \n",
       "377                     FIFA Soccer 2004      PS2             <NA>   \n",
       "456           LEGO Batman: The Videogame      Wii             <NA>   \n",
       "475           wwe Smackdown vs. Raw 2006      PS2             <NA>   \n",
       "609                       Space Invaders     2600             <NA>   \n",
       "...                                  ...      ...              ...   \n",
       "16373  PDC World Championship Darts 2008      PSP             <NA>   \n",
       "16405                      Freaky Flyers       GC             <NA>   \n",
       "16448                          Inversion       PC             <NA>   \n",
       "16458        Hakuouki: Shinsengumi Kitan      PS3             <NA>   \n",
       "16522                       Virtua Quest       GC             <NA>   \n",
       "\n",
       "              genre  na_sales  eu_sales  jp_sales  other_sales  critic_score  \\\n",
       "183          Sports      4.26      0.26      0.01         0.71          94.0   \n",
       "377          Sports      0.59      2.36      0.04         0.51          84.0   \n",
       "456          Action      1.80      0.97      0.00         0.29          74.0   \n",
       "475        Fighting      1.57      1.02      0.00         0.41           NaN   \n",
       "609         Shooter      2.36      0.14      0.00         0.03           NaN   \n",
       "...             ...       ...       ...       ...          ...           ...   \n",
       "16373        Sports      0.01      0.00      0.00         0.00          43.0   \n",
       "16405        Racing      0.01      0.00      0.00         0.00          69.0   \n",
       "16448       Shooter      0.01      0.00      0.00         0.00          59.0   \n",
       "16458     Adventure      0.01      0.00      0.00         0.00           NaN   \n",
       "16522  Role-Playing      0.01      0.00      0.00         0.00          55.0   \n",
       "\n",
       "       user_score rating  \n",
       "183           8.5      E  \n",
       "377           6.4      E  \n",
       "456           7.9   E10+  \n",
       "475           NaN    NaN  \n",
       "609           NaN    NaN  \n",
       "...           ...    ...  \n",
       "16373         NaN   E10+  \n",
       "16405         6.5      T  \n",
       "16448         6.7      M  \n",
       "16458         NaN    NaN  \n",
       "16522         5.5      T  \n",
       "\n",
       "[269 rows x 11 columns]"
      ]
     },
     "execution_count": 13,
     "metadata": {},
     "output_type": "execute_result"
    }
   ],
   "source": [
    "#Рассмотри пропуски в столбце year_of_release\n",
    "data[data.year_of_release.isna()]"
   ]
  },
  {
   "cell_type": "markdown",
   "metadata": {},
   "source": [
    "Никаких явных закономерностей между играми с пропущенным годом выпуска нет "
   ]
  },
  {
   "cell_type": "markdown",
   "metadata": {},
   "source": [
    "Проверим игры с пропущенным годоп выпуска, возможно они выпувкаись еще на других платформах"
   ]
  },
  {
   "cell_type": "code",
   "execution_count": 14,
   "metadata": {},
   "outputs": [
    {
     "data": {
      "text/html": [
       "<div>\n",
       "<style scoped>\n",
       "    .dataframe tbody tr th:only-of-type {\n",
       "        vertical-align: middle;\n",
       "    }\n",
       "\n",
       "    .dataframe tbody tr th {\n",
       "        vertical-align: top;\n",
       "    }\n",
       "\n",
       "    .dataframe thead th {\n",
       "        text-align: right;\n",
       "    }\n",
       "</style>\n",
       "<table border=\"1\" class=\"dataframe\">\n",
       "  <thead>\n",
       "    <tr style=\"text-align: right;\">\n",
       "      <th></th>\n",
       "      <th>name</th>\n",
       "      <th>platform</th>\n",
       "      <th>year_of_release</th>\n",
       "      <th>genre</th>\n",
       "      <th>na_sales</th>\n",
       "      <th>eu_sales</th>\n",
       "      <th>jp_sales</th>\n",
       "      <th>other_sales</th>\n",
       "      <th>critic_score</th>\n",
       "      <th>user_score</th>\n",
       "      <th>rating</th>\n",
       "    </tr>\n",
       "  </thead>\n",
       "  <tbody>\n",
       "    <tr>\n",
       "      <th>183</th>\n",
       "      <td>Madden NFL 2004</td>\n",
       "      <td>PS2</td>\n",
       "      <td>&lt;NA&gt;</td>\n",
       "      <td>Sports</td>\n",
       "      <td>4.26</td>\n",
       "      <td>0.26</td>\n",
       "      <td>0.01</td>\n",
       "      <td>0.71</td>\n",
       "      <td>94.0</td>\n",
       "      <td>8.5</td>\n",
       "      <td>E</td>\n",
       "    </tr>\n",
       "    <tr>\n",
       "      <th>1881</th>\n",
       "      <td>Madden NFL 2004</td>\n",
       "      <td>XB</td>\n",
       "      <td>2003</td>\n",
       "      <td>Sports</td>\n",
       "      <td>1.02</td>\n",
       "      <td>0.02</td>\n",
       "      <td>0.00</td>\n",
       "      <td>0.05</td>\n",
       "      <td>92.0</td>\n",
       "      <td>8.3</td>\n",
       "      <td>E</td>\n",
       "    </tr>\n",
       "    <tr>\n",
       "      <th>3889</th>\n",
       "      <td>Madden NFL 2004</td>\n",
       "      <td>GC</td>\n",
       "      <td>2003</td>\n",
       "      <td>Sports</td>\n",
       "      <td>0.40</td>\n",
       "      <td>0.10</td>\n",
       "      <td>0.00</td>\n",
       "      <td>0.01</td>\n",
       "      <td>94.0</td>\n",
       "      <td>7.7</td>\n",
       "      <td>E</td>\n",
       "    </tr>\n",
       "    <tr>\n",
       "      <th>5708</th>\n",
       "      <td>Madden NFL 2004</td>\n",
       "      <td>GBA</td>\n",
       "      <td>2003</td>\n",
       "      <td>Sports</td>\n",
       "      <td>0.22</td>\n",
       "      <td>0.08</td>\n",
       "      <td>0.00</td>\n",
       "      <td>0.01</td>\n",
       "      <td>70.0</td>\n",
       "      <td>6.6</td>\n",
       "      <td>E</td>\n",
       "    </tr>\n",
       "  </tbody>\n",
       "</table>\n",
       "</div>"
      ],
      "text/plain": [
       "                 name platform  year_of_release   genre  na_sales  eu_sales  \\\n",
       "183   Madden NFL 2004      PS2             <NA>  Sports      4.26      0.26   \n",
       "1881  Madden NFL 2004       XB             2003  Sports      1.02      0.02   \n",
       "3889  Madden NFL 2004       GC             2003  Sports      0.40      0.10   \n",
       "5708  Madden NFL 2004      GBA             2003  Sports      0.22      0.08   \n",
       "\n",
       "      jp_sales  other_sales  critic_score  user_score rating  \n",
       "183       0.01         0.71          94.0         8.5      E  \n",
       "1881      0.00         0.05          92.0         8.3      E  \n",
       "3889      0.00         0.01          94.0         7.7      E  \n",
       "5708      0.00         0.01          70.0         6.6      E  "
      ]
     },
     "execution_count": 14,
     "metadata": {},
     "output_type": "execute_result"
    }
   ],
   "source": [
    "data.query('name == \"Madden NFL 2004\"')"
   ]
  },
  {
   "cell_type": "markdown",
   "metadata": {},
   "source": [
    "Заменим пропуски на значения года выпуска этой же игры на другой платформе"
   ]
  },
  {
   "cell_type": "code",
   "execution_count": 15,
   "metadata": {},
   "outputs": [],
   "source": [
    "for i in data[data['year_of_release'].isnull() == True].index:  \n",
    "    data['year_of_release'][i] = data.loc[data['name'] == data['name'][i], 'year_of_release'].max()"
   ]
  },
  {
   "cell_type": "code",
   "execution_count": 16,
   "metadata": {},
   "outputs": [
    {
     "data": {
      "text/plain": [
       "146"
      ]
     },
     "execution_count": 16,
     "metadata": {},
     "output_type": "execute_result"
    }
   ],
   "source": [
    "#Посмотрим сколько пропусков получилось заполнить\n",
    "data['year_of_release'].isna().sum()"
   ]
  },
  {
   "cell_type": "markdown",
   "metadata": {},
   "source": [
    "Сократили количество пропусков почти вдвое"
   ]
  },
  {
   "cell_type": "code",
   "execution_count": 17,
   "metadata": {},
   "outputs": [
    {
     "data": {
      "text/html": [
       "<div>\n",
       "<style scoped>\n",
       "    .dataframe tbody tr th:only-of-type {\n",
       "        vertical-align: middle;\n",
       "    }\n",
       "\n",
       "    .dataframe tbody tr th {\n",
       "        vertical-align: top;\n",
       "    }\n",
       "\n",
       "    .dataframe thead th {\n",
       "        text-align: right;\n",
       "    }\n",
       "</style>\n",
       "<table border=\"1\" class=\"dataframe\">\n",
       "  <thead>\n",
       "    <tr style=\"text-align: right;\">\n",
       "      <th></th>\n",
       "      <th>name</th>\n",
       "      <th>platform</th>\n",
       "      <th>year_of_release</th>\n",
       "      <th>genre</th>\n",
       "      <th>na_sales</th>\n",
       "      <th>eu_sales</th>\n",
       "      <th>jp_sales</th>\n",
       "      <th>other_sales</th>\n",
       "      <th>critic_score</th>\n",
       "      <th>user_score</th>\n",
       "      <th>rating</th>\n",
       "    </tr>\n",
       "  </thead>\n",
       "  <tbody>\n",
       "    <tr>\n",
       "      <th>659</th>\n",
       "      <td>NaN</td>\n",
       "      <td>GEN</td>\n",
       "      <td>1993</td>\n",
       "      <td>NaN</td>\n",
       "      <td>1.78</td>\n",
       "      <td>0.53</td>\n",
       "      <td>0.00</td>\n",
       "      <td>0.08</td>\n",
       "      <td>NaN</td>\n",
       "      <td>NaN</td>\n",
       "      <td>NaN</td>\n",
       "    </tr>\n",
       "    <tr>\n",
       "      <th>14244</th>\n",
       "      <td>NaN</td>\n",
       "      <td>GEN</td>\n",
       "      <td>1993</td>\n",
       "      <td>NaN</td>\n",
       "      <td>0.00</td>\n",
       "      <td>0.00</td>\n",
       "      <td>0.03</td>\n",
       "      <td>0.00</td>\n",
       "      <td>NaN</td>\n",
       "      <td>NaN</td>\n",
       "      <td>NaN</td>\n",
       "    </tr>\n",
       "  </tbody>\n",
       "</table>\n",
       "</div>"
      ],
      "text/plain": [
       "      name platform  year_of_release genre  na_sales  eu_sales  jp_sales  \\\n",
       "659    NaN      GEN             1993   NaN      1.78      0.53      0.00   \n",
       "14244  NaN      GEN             1993   NaN      0.00      0.00      0.03   \n",
       "\n",
       "       other_sales  critic_score  user_score rating  \n",
       "659           0.08           NaN         NaN    NaN  \n",
       "14244         0.00           NaN         NaN    NaN  "
      ]
     },
     "execution_count": 17,
     "metadata": {},
     "output_type": "execute_result"
    }
   ],
   "source": [
    "#Рассмотри пропуски в столбце name и genre\n",
    "data[data.genre.isna()]"
   ]
  },
  {
   "cell_type": "code",
   "execution_count": 18,
   "metadata": {},
   "outputs": [
    {
     "data": {
      "text/html": [
       "<div>\n",
       "<style scoped>\n",
       "    .dataframe tbody tr th:only-of-type {\n",
       "        vertical-align: middle;\n",
       "    }\n",
       "\n",
       "    .dataframe tbody tr th {\n",
       "        vertical-align: top;\n",
       "    }\n",
       "\n",
       "    .dataframe thead th {\n",
       "        text-align: right;\n",
       "    }\n",
       "</style>\n",
       "<table border=\"1\" class=\"dataframe\">\n",
       "  <thead>\n",
       "    <tr style=\"text-align: right;\">\n",
       "      <th></th>\n",
       "      <th>name</th>\n",
       "      <th>platform</th>\n",
       "      <th>year_of_release</th>\n",
       "      <th>genre</th>\n",
       "      <th>na_sales</th>\n",
       "      <th>eu_sales</th>\n",
       "      <th>jp_sales</th>\n",
       "      <th>other_sales</th>\n",
       "      <th>critic_score</th>\n",
       "      <th>user_score</th>\n",
       "      <th>rating</th>\n",
       "    </tr>\n",
       "  </thead>\n",
       "  <tbody>\n",
       "    <tr>\n",
       "      <th>659</th>\n",
       "      <td>NaN</td>\n",
       "      <td>GEN</td>\n",
       "      <td>1993</td>\n",
       "      <td>NaN</td>\n",
       "      <td>1.78</td>\n",
       "      <td>0.53</td>\n",
       "      <td>0.00</td>\n",
       "      <td>0.08</td>\n",
       "      <td>NaN</td>\n",
       "      <td>NaN</td>\n",
       "      <td>NaN</td>\n",
       "    </tr>\n",
       "    <tr>\n",
       "      <th>14244</th>\n",
       "      <td>NaN</td>\n",
       "      <td>GEN</td>\n",
       "      <td>1993</td>\n",
       "      <td>NaN</td>\n",
       "      <td>0.00</td>\n",
       "      <td>0.00</td>\n",
       "      <td>0.03</td>\n",
       "      <td>0.00</td>\n",
       "      <td>NaN</td>\n",
       "      <td>NaN</td>\n",
       "      <td>NaN</td>\n",
       "    </tr>\n",
       "  </tbody>\n",
       "</table>\n",
       "</div>"
      ],
      "text/plain": [
       "      name platform  year_of_release genre  na_sales  eu_sales  jp_sales  \\\n",
       "659    NaN      GEN             1993   NaN      1.78      0.53      0.00   \n",
       "14244  NaN      GEN             1993   NaN      0.00      0.00      0.03   \n",
       "\n",
       "       other_sales  critic_score  user_score rating  \n",
       "659           0.08           NaN         NaN    NaN  \n",
       "14244         0.00           NaN         NaN    NaN  "
      ]
     },
     "execution_count": 18,
     "metadata": {},
     "output_type": "execute_result"
    }
   ],
   "source": [
    "data[data.name.isna()]"
   ]
  },
  {
   "cell_type": "markdown",
   "metadata": {},
   "source": [
    "пропущенные значения жанра и назыания игры относятся к одинаковым строка, их всего 2, поэтому можно удалить их"
   ]
  },
  {
   "cell_type": "code",
   "execution_count": 19,
   "metadata": {},
   "outputs": [],
   "source": [
    "data= data.dropna(subset = ['name'])"
   ]
  },
  {
   "cell_type": "code",
   "execution_count": 20,
   "metadata": {},
   "outputs": [
    {
     "data": {
      "text/plain": [
       "0"
      ]
     },
     "execution_count": 20,
     "metadata": {},
     "output_type": "execute_result"
    }
   ],
   "source": [
    "data['name'].isna().sum()"
   ]
  },
  {
   "cell_type": "markdown",
   "metadata": {},
   "source": [
    "Так как мы не можем удалить и заменить на корректные значения пропуски в параметре 'raiting' - в данном случае пустые значения заменим на 'undefined'"
   ]
  },
  {
   "cell_type": "code",
   "execution_count": 21,
   "metadata": {},
   "outputs": [
    {
     "name": "stderr",
     "output_type": "stream",
     "text": [
      "/tmp/ipykernel_118/1466405809.py:1: SettingWithCopyWarning: \n",
      "A value is trying to be set on a copy of a slice from a DataFrame.\n",
      "Try using .loc[row_indexer,col_indexer] = value instead\n",
      "\n",
      "See the caveats in the documentation: https://pandas.pydata.org/pandas-docs/stable/user_guide/indexing.html#returning-a-view-versus-a-copy\n",
      "  data['rating'] = data['rating'].fillna('undefined')\n"
     ]
    },
    {
     "data": {
      "text/plain": [
       "undefined    6764\n",
       "E            3990\n",
       "T            2961\n",
       "M            1563\n",
       "E10+         1420\n",
       "EC              8\n",
       "RP              3\n",
       "K-A             3\n",
       "AO              1\n",
       "Name: rating, dtype: int64"
      ]
     },
     "execution_count": 21,
     "metadata": {},
     "output_type": "execute_result"
    }
   ],
   "source": [
    "data['rating'] = data['rating'].fillna('undefined')\n",
    "data.rating.value_counts()"
   ]
  },
  {
   "cell_type": "code",
   "execution_count": 22,
   "metadata": {},
   "outputs": [
    {
     "data": {
      "text/plain": [
       "user_score         9123\n",
       "critic_score       8576\n",
       "year_of_release     146\n",
       "name                  0\n",
       "platform              0\n",
       "genre                 0\n",
       "na_sales              0\n",
       "eu_sales              0\n",
       "jp_sales              0\n",
       "other_sales           0\n",
       "rating                0\n",
       "dtype: int64"
      ]
     },
     "execution_count": 22,
     "metadata": {},
     "output_type": "execute_result"
    }
   ],
   "source": [
    "data.isna().sum().sort_values(ascending=False)"
   ]
  },
  {
   "cell_type": "markdown",
   "metadata": {},
   "source": [
    "Итог нашей обработки по устранению пропусков"
   ]
  },
  {
   "cell_type": "markdown",
   "metadata": {},
   "source": [
    "<div class=\"alert alert-danger\"; style=\"border-left: 7px solid FireBrick\">\n",
    "<h5> ❌ <font color=\"FireBrick\">Комментарий ревьюера (красный)</font></h5>\n",
    "\n",
    "Далее по проекту требуется провести исследование по полю `rating`, поэтому пропуски важно обработать.\n",
    "\n",
    "</div>"
   ]
  },
  {
   "cell_type": "markdown",
   "metadata": {},
   "source": [
    "<div class=\"alert alert-info\"; style=\"border-left: 7px solid SteelBlue\">\n",
    "<h5>🎓 <font color=\"SteelBlue\">Комментарий от студента (синий)</font></h5>    \n",
    "\n",
    "обработала пропуски , заменив их на 'undefined', если есть какое-то более правильное решение - буду благоарна за совет \n",
    "\n",
    "</div>"
   ]
  },
  {
   "cell_type": "markdown",
   "metadata": {},
   "source": [
    "<div class=\"alert alert-success\"; style=\"border-left: 7px solid green\">\n",
    "<h5> ✔️ <font color=\"green\">v2 Комментарий ревьюера (зеленый)</font></h5>\n",
    "\n",
    "✅ Да, верно, тут лучше заменить «заглушкой». 👍\n",
    " \n",
    "</div>"
   ]
  },
  {
   "cell_type": "markdown",
   "metadata": {},
   "source": [
    "Посчитаем суммарные продажи во всех регионах и запишите их в отдельный столбец"
   ]
  },
  {
   "cell_type": "code",
   "execution_count": 23,
   "metadata": {},
   "outputs": [
    {
     "name": "stderr",
     "output_type": "stream",
     "text": [
      "/tmp/ipykernel_118/1217879315.py:1: SettingWithCopyWarning: \n",
      "A value is trying to be set on a copy of a slice from a DataFrame.\n",
      "Try using .loc[row_indexer,col_indexer] = value instead\n",
      "\n",
      "See the caveats in the documentation: https://pandas.pydata.org/pandas-docs/stable/user_guide/indexing.html#returning-a-view-versus-a-copy\n",
      "  data['total_sales'] = data['na_sales'] + data['eu_sales'] + data['jp_sales'] + data['other_sales']\n"
     ]
    }
   ],
   "source": [
    "data['total_sales'] = data['na_sales'] + data['eu_sales'] + data['jp_sales'] + data['other_sales']"
   ]
  },
  {
   "cell_type": "markdown",
   "metadata": {},
   "source": [
    "<div class=\"alert alert-warning\"; style=\"border-left: 7px solid Gold\">\n",
    "<h5> ⚠️ <font color=\"DarkGoldenRod\">Комментарий ревьюера (желтый)</font></h5>\n",
    "\n",
    "Правильно, можно было использовать метод `sum`:\n",
    "\n",
    "`games[['na_sales','eu_sales','jp_sales', 'other_sales']].sum(axis = 1)`\n",
    "\n",
    "</div>"
   ]
  },
  {
   "cell_type": "markdown",
   "metadata": {},
   "source": [
    "<div class=\"alert alert-info\"; style=\"border-left: 7px solid SteelBlue\">\n",
    "<h5>🎓 <font color=\"SteelBlue\">Комментарий от студента (синий)</font></h5>    \n",
    "\n",
    "спасибо, да, это решение действительно гораздо лучше (я про него не подумала...)\n",
    "\n",
    "</div>"
   ]
  },
  {
   "cell_type": "code",
   "execution_count": 24,
   "metadata": {},
   "outputs": [
    {
     "data": {
      "text/html": [
       "<div>\n",
       "<style scoped>\n",
       "    .dataframe tbody tr th:only-of-type {\n",
       "        vertical-align: middle;\n",
       "    }\n",
       "\n",
       "    .dataframe tbody tr th {\n",
       "        vertical-align: top;\n",
       "    }\n",
       "\n",
       "    .dataframe thead th {\n",
       "        text-align: right;\n",
       "    }\n",
       "</style>\n",
       "<table border=\"1\" class=\"dataframe\">\n",
       "  <thead>\n",
       "    <tr style=\"text-align: right;\">\n",
       "      <th></th>\n",
       "      <th>name</th>\n",
       "      <th>platform</th>\n",
       "      <th>year_of_release</th>\n",
       "      <th>genre</th>\n",
       "      <th>na_sales</th>\n",
       "      <th>eu_sales</th>\n",
       "      <th>jp_sales</th>\n",
       "      <th>other_sales</th>\n",
       "      <th>critic_score</th>\n",
       "      <th>user_score</th>\n",
       "      <th>rating</th>\n",
       "      <th>total_sales</th>\n",
       "    </tr>\n",
       "  </thead>\n",
       "  <tbody>\n",
       "    <tr>\n",
       "      <th>0</th>\n",
       "      <td>Wii Sports</td>\n",
       "      <td>Wii</td>\n",
       "      <td>2006</td>\n",
       "      <td>Sports</td>\n",
       "      <td>41.36</td>\n",
       "      <td>28.96</td>\n",
       "      <td>3.77</td>\n",
       "      <td>8.45</td>\n",
       "      <td>76.0</td>\n",
       "      <td>8.0</td>\n",
       "      <td>E</td>\n",
       "      <td>82.54</td>\n",
       "    </tr>\n",
       "    <tr>\n",
       "      <th>1</th>\n",
       "      <td>Super Mario Bros.</td>\n",
       "      <td>NES</td>\n",
       "      <td>1985</td>\n",
       "      <td>Platform</td>\n",
       "      <td>29.08</td>\n",
       "      <td>3.58</td>\n",
       "      <td>6.81</td>\n",
       "      <td>0.77</td>\n",
       "      <td>NaN</td>\n",
       "      <td>NaN</td>\n",
       "      <td>undefined</td>\n",
       "      <td>40.24</td>\n",
       "    </tr>\n",
       "    <tr>\n",
       "      <th>2</th>\n",
       "      <td>Mario Kart Wii</td>\n",
       "      <td>Wii</td>\n",
       "      <td>2008</td>\n",
       "      <td>Racing</td>\n",
       "      <td>15.68</td>\n",
       "      <td>12.76</td>\n",
       "      <td>3.79</td>\n",
       "      <td>3.29</td>\n",
       "      <td>82.0</td>\n",
       "      <td>8.3</td>\n",
       "      <td>E</td>\n",
       "      <td>35.52</td>\n",
       "    </tr>\n",
       "    <tr>\n",
       "      <th>3</th>\n",
       "      <td>Wii Sports Resort</td>\n",
       "      <td>Wii</td>\n",
       "      <td>2009</td>\n",
       "      <td>Sports</td>\n",
       "      <td>15.61</td>\n",
       "      <td>10.93</td>\n",
       "      <td>3.28</td>\n",
       "      <td>2.95</td>\n",
       "      <td>80.0</td>\n",
       "      <td>8.0</td>\n",
       "      <td>E</td>\n",
       "      <td>32.77</td>\n",
       "    </tr>\n",
       "    <tr>\n",
       "      <th>4</th>\n",
       "      <td>Pokemon Red/Pokemon Blue</td>\n",
       "      <td>GB</td>\n",
       "      <td>1996</td>\n",
       "      <td>Role-Playing</td>\n",
       "      <td>11.27</td>\n",
       "      <td>8.89</td>\n",
       "      <td>10.22</td>\n",
       "      <td>1.00</td>\n",
       "      <td>NaN</td>\n",
       "      <td>NaN</td>\n",
       "      <td>undefined</td>\n",
       "      <td>31.38</td>\n",
       "    </tr>\n",
       "    <tr>\n",
       "      <th>...</th>\n",
       "      <td>...</td>\n",
       "      <td>...</td>\n",
       "      <td>...</td>\n",
       "      <td>...</td>\n",
       "      <td>...</td>\n",
       "      <td>...</td>\n",
       "      <td>...</td>\n",
       "      <td>...</td>\n",
       "      <td>...</td>\n",
       "      <td>...</td>\n",
       "      <td>...</td>\n",
       "      <td>...</td>\n",
       "    </tr>\n",
       "    <tr>\n",
       "      <th>16710</th>\n",
       "      <td>Samurai Warriors: Sanada Maru</td>\n",
       "      <td>PS3</td>\n",
       "      <td>2016</td>\n",
       "      <td>Action</td>\n",
       "      <td>0.00</td>\n",
       "      <td>0.00</td>\n",
       "      <td>0.01</td>\n",
       "      <td>0.00</td>\n",
       "      <td>NaN</td>\n",
       "      <td>NaN</td>\n",
       "      <td>undefined</td>\n",
       "      <td>0.01</td>\n",
       "    </tr>\n",
       "    <tr>\n",
       "      <th>16711</th>\n",
       "      <td>LMA Manager 2007</td>\n",
       "      <td>X360</td>\n",
       "      <td>2006</td>\n",
       "      <td>Sports</td>\n",
       "      <td>0.00</td>\n",
       "      <td>0.01</td>\n",
       "      <td>0.00</td>\n",
       "      <td>0.00</td>\n",
       "      <td>NaN</td>\n",
       "      <td>NaN</td>\n",
       "      <td>undefined</td>\n",
       "      <td>0.01</td>\n",
       "    </tr>\n",
       "    <tr>\n",
       "      <th>16712</th>\n",
       "      <td>Haitaka no Psychedelica</td>\n",
       "      <td>PSV</td>\n",
       "      <td>2016</td>\n",
       "      <td>Adventure</td>\n",
       "      <td>0.00</td>\n",
       "      <td>0.00</td>\n",
       "      <td>0.01</td>\n",
       "      <td>0.00</td>\n",
       "      <td>NaN</td>\n",
       "      <td>NaN</td>\n",
       "      <td>undefined</td>\n",
       "      <td>0.01</td>\n",
       "    </tr>\n",
       "    <tr>\n",
       "      <th>16713</th>\n",
       "      <td>Spirits &amp; Spells</td>\n",
       "      <td>GBA</td>\n",
       "      <td>2003</td>\n",
       "      <td>Platform</td>\n",
       "      <td>0.01</td>\n",
       "      <td>0.00</td>\n",
       "      <td>0.00</td>\n",
       "      <td>0.00</td>\n",
       "      <td>NaN</td>\n",
       "      <td>NaN</td>\n",
       "      <td>undefined</td>\n",
       "      <td>0.01</td>\n",
       "    </tr>\n",
       "    <tr>\n",
       "      <th>16714</th>\n",
       "      <td>Winning Post 8 2016</td>\n",
       "      <td>PSV</td>\n",
       "      <td>2016</td>\n",
       "      <td>Simulation</td>\n",
       "      <td>0.00</td>\n",
       "      <td>0.00</td>\n",
       "      <td>0.01</td>\n",
       "      <td>0.00</td>\n",
       "      <td>NaN</td>\n",
       "      <td>NaN</td>\n",
       "      <td>undefined</td>\n",
       "      <td>0.01</td>\n",
       "    </tr>\n",
       "  </tbody>\n",
       "</table>\n",
       "<p>16713 rows × 12 columns</p>\n",
       "</div>"
      ],
      "text/plain": [
       "                                name platform  year_of_release         genre  \\\n",
       "0                         Wii Sports      Wii             2006        Sports   \n",
       "1                  Super Mario Bros.      NES             1985      Platform   \n",
       "2                     Mario Kart Wii      Wii             2008        Racing   \n",
       "3                  Wii Sports Resort      Wii             2009        Sports   \n",
       "4           Pokemon Red/Pokemon Blue       GB             1996  Role-Playing   \n",
       "...                              ...      ...              ...           ...   \n",
       "16710  Samurai Warriors: Sanada Maru      PS3             2016        Action   \n",
       "16711               LMA Manager 2007     X360             2006        Sports   \n",
       "16712        Haitaka no Psychedelica      PSV             2016     Adventure   \n",
       "16713               Spirits & Spells      GBA             2003      Platform   \n",
       "16714            Winning Post 8 2016      PSV             2016    Simulation   \n",
       "\n",
       "       na_sales  eu_sales  jp_sales  other_sales  critic_score  user_score  \\\n",
       "0         41.36     28.96      3.77         8.45          76.0         8.0   \n",
       "1         29.08      3.58      6.81         0.77           NaN         NaN   \n",
       "2         15.68     12.76      3.79         3.29          82.0         8.3   \n",
       "3         15.61     10.93      3.28         2.95          80.0         8.0   \n",
       "4         11.27      8.89     10.22         1.00           NaN         NaN   \n",
       "...         ...       ...       ...          ...           ...         ...   \n",
       "16710      0.00      0.00      0.01         0.00           NaN         NaN   \n",
       "16711      0.00      0.01      0.00         0.00           NaN         NaN   \n",
       "16712      0.00      0.00      0.01         0.00           NaN         NaN   \n",
       "16713      0.01      0.00      0.00         0.00           NaN         NaN   \n",
       "16714      0.00      0.00      0.01         0.00           NaN         NaN   \n",
       "\n",
       "          rating  total_sales  \n",
       "0              E        82.54  \n",
       "1      undefined        40.24  \n",
       "2              E        35.52  \n",
       "3              E        32.77  \n",
       "4      undefined        31.38  \n",
       "...          ...          ...  \n",
       "16710  undefined         0.01  \n",
       "16711  undefined         0.01  \n",
       "16712  undefined         0.01  \n",
       "16713  undefined         0.01  \n",
       "16714  undefined         0.01  \n",
       "\n",
       "[16713 rows x 12 columns]"
      ]
     },
     "execution_count": 24,
     "metadata": {},
     "output_type": "execute_result"
    }
   ],
   "source": [
    "data"
   ]
  },
  {
   "cell_type": "markdown",
   "metadata": {},
   "source": [
    "**Вывод**\n",
    "В ходе предобработки данных мы:\n",
    "\n",
    "- Привели названия столбцов к нижнему регистру\n",
    "- Удалили пропуски в столбцах name и genre\n",
    "- Преобразовали данные столбца year_of_release к типу int и сократили количество пропусков вдвое\n",
    "- Преобразовали данные столбца user_score к типу float и обработали пропуски\n",
    "- Заменили пропуски в столбце raiting на 'undefined'\n",
    "- Посчитали и Добавили суммарные продажи во всех регионах в отдельный столбец"
   ]
  },
  {
   "cell_type": "markdown",
   "metadata": {},
   "source": [
    "<div class=\"alert alert-success\"; style=\"border-left: 7px solid green\">\n",
    "<h5> ✔️ <font color=\"green\">Комментарий ревьюера (зеленый)</font></h5>\n",
    "\n",
    "Очень качественно подготовлены данные для дальнейшего исследования. В выводе очень подробные промежуточные выводы.\n",
    "\n",
    "</div>"
   ]
  },
  {
   "cell_type": "markdown",
   "metadata": {},
   "source": [
    "**3. Исследовательский анализ**"
   ]
  },
  {
   "cell_type": "markdown",
   "metadata": {},
   "source": [
    "Посмотри количество выпущенных игр по годам "
   ]
  },
  {
   "cell_type": "code",
   "execution_count": 25,
   "metadata": {},
   "outputs": [
    {
     "data": {
      "image/png": "[encoded data removed]",
      "text/plain": [
       "<Figure size 720x360 with 1 Axes>"
      ]
     },
     "metadata": {
      "needs_background": "light"
     },
     "output_type": "display_data"
    }
   ],
   "source": [
    "count_for_year = data.pivot_table(index='year_of_release', values='name', aggfunc='count')\n",
    "plt.figure(figsize=(10,5))\n",
    "sns.lineplot(data=count_for_year)\n",
    "plt.title(\"Количество игр по годам\")\n",
    "plt.xlabel(\"Год выпуска\")\n",
    "plt.ylabel(\"Количество выпущенных игр\")\n",
    "plt.legend('');"
   ]
  },
  {
   "cell_type": "code",
   "execution_count": 26,
   "metadata": {},
   "outputs": [
    {
     "data": {
      "text/html": [
       "<div>\n",
       "<style scoped>\n",
       "    .dataframe tbody tr th:only-of-type {\n",
       "        vertical-align: middle;\n",
       "    }\n",
       "\n",
       "    .dataframe tbody tr th {\n",
       "        vertical-align: top;\n",
       "    }\n",
       "\n",
       "    .dataframe thead th {\n",
       "        text-align: right;\n",
       "    }\n",
       "</style>\n",
       "<table border=\"1\" class=\"dataframe\">\n",
       "  <thead>\n",
       "    <tr style=\"text-align: right;\">\n",
       "      <th></th>\n",
       "      <th>name</th>\n",
       "    </tr>\n",
       "    <tr>\n",
       "      <th>year_of_release</th>\n",
       "      <th></th>\n",
       "    </tr>\n",
       "  </thead>\n",
       "  <tbody>\n",
       "    <tr>\n",
       "      <th>1980</th>\n",
       "      <td>9</td>\n",
       "    </tr>\n",
       "    <tr>\n",
       "      <th>1981</th>\n",
       "      <td>46</td>\n",
       "    </tr>\n",
       "    <tr>\n",
       "      <th>1982</th>\n",
       "      <td>36</td>\n",
       "    </tr>\n",
       "    <tr>\n",
       "      <th>1983</th>\n",
       "      <td>17</td>\n",
       "    </tr>\n",
       "    <tr>\n",
       "      <th>1984</th>\n",
       "      <td>14</td>\n",
       "    </tr>\n",
       "    <tr>\n",
       "      <th>1985</th>\n",
       "      <td>14</td>\n",
       "    </tr>\n",
       "    <tr>\n",
       "      <th>1986</th>\n",
       "      <td>21</td>\n",
       "    </tr>\n",
       "    <tr>\n",
       "      <th>1987</th>\n",
       "      <td>16</td>\n",
       "    </tr>\n",
       "    <tr>\n",
       "      <th>1988</th>\n",
       "      <td>15</td>\n",
       "    </tr>\n",
       "    <tr>\n",
       "      <th>1989</th>\n",
       "      <td>17</td>\n",
       "    </tr>\n",
       "    <tr>\n",
       "      <th>1990</th>\n",
       "      <td>16</td>\n",
       "    </tr>\n",
       "    <tr>\n",
       "      <th>1991</th>\n",
       "      <td>41</td>\n",
       "    </tr>\n",
       "    <tr>\n",
       "      <th>1992</th>\n",
       "      <td>43</td>\n",
       "    </tr>\n",
       "    <tr>\n",
       "      <th>1993</th>\n",
       "      <td>60</td>\n",
       "    </tr>\n",
       "    <tr>\n",
       "      <th>1994</th>\n",
       "      <td>121</td>\n",
       "    </tr>\n",
       "    <tr>\n",
       "      <th>1995</th>\n",
       "      <td>219</td>\n",
       "    </tr>\n",
       "    <tr>\n",
       "      <th>1996</th>\n",
       "      <td>263</td>\n",
       "    </tr>\n",
       "    <tr>\n",
       "      <th>1997</th>\n",
       "      <td>289</td>\n",
       "    </tr>\n",
       "    <tr>\n",
       "      <th>1998</th>\n",
       "      <td>379</td>\n",
       "    </tr>\n",
       "    <tr>\n",
       "      <th>1999</th>\n",
       "      <td>339</td>\n",
       "    </tr>\n",
       "    <tr>\n",
       "      <th>2000</th>\n",
       "      <td>350</td>\n",
       "    </tr>\n",
       "    <tr>\n",
       "      <th>2001</th>\n",
       "      <td>484</td>\n",
       "    </tr>\n",
       "    <tr>\n",
       "      <th>2002</th>\n",
       "      <td>845</td>\n",
       "    </tr>\n",
       "    <tr>\n",
       "      <th>2003</th>\n",
       "      <td>785</td>\n",
       "    </tr>\n",
       "    <tr>\n",
       "      <th>2004</th>\n",
       "      <td>765</td>\n",
       "    </tr>\n",
       "    <tr>\n",
       "      <th>2005</th>\n",
       "      <td>947</td>\n",
       "    </tr>\n",
       "    <tr>\n",
       "      <th>2006</th>\n",
       "      <td>1020</td>\n",
       "    </tr>\n",
       "    <tr>\n",
       "      <th>2007</th>\n",
       "      <td>1202</td>\n",
       "    </tr>\n",
       "    <tr>\n",
       "      <th>2008</th>\n",
       "      <td>1440</td>\n",
       "    </tr>\n",
       "    <tr>\n",
       "      <th>2009</th>\n",
       "      <td>1431</td>\n",
       "    </tr>\n",
       "    <tr>\n",
       "      <th>2010</th>\n",
       "      <td>1271</td>\n",
       "    </tr>\n",
       "    <tr>\n",
       "      <th>2011</th>\n",
       "      <td>1153</td>\n",
       "    </tr>\n",
       "    <tr>\n",
       "      <th>2012</th>\n",
       "      <td>662</td>\n",
       "    </tr>\n",
       "    <tr>\n",
       "      <th>2013</th>\n",
       "      <td>547</td>\n",
       "    </tr>\n",
       "    <tr>\n",
       "      <th>2014</th>\n",
       "      <td>582</td>\n",
       "    </tr>\n",
       "    <tr>\n",
       "      <th>2015</th>\n",
       "      <td>606</td>\n",
       "    </tr>\n",
       "    <tr>\n",
       "      <th>2016</th>\n",
       "      <td>502</td>\n",
       "    </tr>\n",
       "  </tbody>\n",
       "</table>\n",
       "</div>"
      ],
      "text/plain": [
       "                 name\n",
       "year_of_release      \n",
       "1980                9\n",
       "1981               46\n",
       "1982               36\n",
       "1983               17\n",
       "1984               14\n",
       "1985               14\n",
       "1986               21\n",
       "1987               16\n",
       "1988               15\n",
       "1989               17\n",
       "1990               16\n",
       "1991               41\n",
       "1992               43\n",
       "1993               60\n",
       "1994              121\n",
       "1995              219\n",
       "1996              263\n",
       "1997              289\n",
       "1998              379\n",
       "1999              339\n",
       "2000              350\n",
       "2001              484\n",
       "2002              845\n",
       "2003              785\n",
       "2004              765\n",
       "2005              947\n",
       "2006             1020\n",
       "2007             1202\n",
       "2008             1440\n",
       "2009             1431\n",
       "2010             1271\n",
       "2011             1153\n",
       "2012              662\n",
       "2013              547\n",
       "2014              582\n",
       "2015              606\n",
       "2016              502"
      ]
     },
     "execution_count": 26,
     "metadata": {},
     "output_type": "execute_result"
    }
   ],
   "source": [
    "count_for_year"
   ]
  },
  {
   "cell_type": "markdown",
   "metadata": {},
   "source": [
    "<div class=\"alert alert-success\"; style=\"border-left: 7px solid green\">\n",
    "<h5> ✔️ <font color=\"green\">Комментарий ревьюера (зеленый)</font></h5>\n",
    "\n",
    "Спасибо за интересные наблюдения 😃\n",
    "\n",
    "</div>"
   ]
  },
  {
   "cell_type": "markdown",
   "metadata": {},
   "source": [
    "По графику видно, что с 1980го по 1990 год количество выпускаемых видеоигр в год было примерно одинаковым 50 игр в год. Стремительный рост начался с 1990 года, это связано с развитием индустрии видеоигр и интеграцией ПК в жизнь каждого человека. С 2009 по 2016 год мы наблюдаем резкий спад количества выпускаемых видеоигр в год, скорее всего это связано с появлением смартфонов и платформ для игр на мобильных устройствах, разработчики ушли в другую отрасль разработки и выпуска игр для смартфонах."
   ]
  },
  {
   "cell_type": "markdown",
   "metadata": {},
   "source": [
    "Посмотрим, как менялись продажи по платформам"
   ]
  },
  {
   "cell_type": "code",
   "execution_count": 27,
   "metadata": {},
   "outputs": [
    {
     "data": {
      "text/html": [
       "<div>\n",
       "<style scoped>\n",
       "    .dataframe tbody tr th:only-of-type {\n",
       "        vertical-align: middle;\n",
       "    }\n",
       "\n",
       "    .dataframe tbody tr th {\n",
       "        vertical-align: top;\n",
       "    }\n",
       "\n",
       "    .dataframe thead th {\n",
       "        text-align: right;\n",
       "    }\n",
       "</style>\n",
       "<table border=\"1\" class=\"dataframe\">\n",
       "  <thead>\n",
       "    <tr style=\"text-align: right;\">\n",
       "      <th></th>\n",
       "      <th>total_sales</th>\n",
       "    </tr>\n",
       "    <tr>\n",
       "      <th>platform</th>\n",
       "      <th></th>\n",
       "    </tr>\n",
       "  </thead>\n",
       "  <tbody>\n",
       "    <tr>\n",
       "      <th>PS2</th>\n",
       "      <td>1255.77</td>\n",
       "    </tr>\n",
       "    <tr>\n",
       "      <th>X360</th>\n",
       "      <td>971.42</td>\n",
       "    </tr>\n",
       "    <tr>\n",
       "      <th>PS3</th>\n",
       "      <td>939.65</td>\n",
       "    </tr>\n",
       "    <tr>\n",
       "      <th>Wii</th>\n",
       "      <td>907.51</td>\n",
       "    </tr>\n",
       "    <tr>\n",
       "      <th>DS</th>\n",
       "      <td>806.12</td>\n",
       "    </tr>\n",
       "    <tr>\n",
       "      <th>PS</th>\n",
       "      <td>730.86</td>\n",
       "    </tr>\n",
       "    <tr>\n",
       "      <th>GBA</th>\n",
       "      <td>317.85</td>\n",
       "    </tr>\n",
       "    <tr>\n",
       "      <th>PS4</th>\n",
       "      <td>314.14</td>\n",
       "    </tr>\n",
       "    <tr>\n",
       "      <th>PSP</th>\n",
       "      <td>294.05</td>\n",
       "    </tr>\n",
       "    <tr>\n",
       "      <th>PC</th>\n",
       "      <td>259.52</td>\n",
       "    </tr>\n",
       "    <tr>\n",
       "      <th>3DS</th>\n",
       "      <td>259.00</td>\n",
       "    </tr>\n",
       "    <tr>\n",
       "      <th>XB</th>\n",
       "      <td>257.74</td>\n",
       "    </tr>\n",
       "    <tr>\n",
       "      <th>GB</th>\n",
       "      <td>255.46</td>\n",
       "    </tr>\n",
       "    <tr>\n",
       "      <th>NES</th>\n",
       "      <td>251.05</td>\n",
       "    </tr>\n",
       "    <tr>\n",
       "      <th>N64</th>\n",
       "      <td>218.68</td>\n",
       "    </tr>\n",
       "    <tr>\n",
       "      <th>SNES</th>\n",
       "      <td>200.04</td>\n",
       "    </tr>\n",
       "    <tr>\n",
       "      <th>GC</th>\n",
       "      <td>198.93</td>\n",
       "    </tr>\n",
       "    <tr>\n",
       "      <th>XOne</th>\n",
       "      <td>159.32</td>\n",
       "    </tr>\n",
       "    <tr>\n",
       "      <th>2600</th>\n",
       "      <td>96.98</td>\n",
       "    </tr>\n",
       "    <tr>\n",
       "      <th>WiiU</th>\n",
       "      <td>82.19</td>\n",
       "    </tr>\n",
       "    <tr>\n",
       "      <th>PSV</th>\n",
       "      <td>54.07</td>\n",
       "    </tr>\n",
       "    <tr>\n",
       "      <th>SAT</th>\n",
       "      <td>33.59</td>\n",
       "    </tr>\n",
       "    <tr>\n",
       "      <th>GEN</th>\n",
       "      <td>28.35</td>\n",
       "    </tr>\n",
       "    <tr>\n",
       "      <th>DC</th>\n",
       "      <td>15.95</td>\n",
       "    </tr>\n",
       "    <tr>\n",
       "      <th>SCD</th>\n",
       "      <td>1.86</td>\n",
       "    </tr>\n",
       "    <tr>\n",
       "      <th>NG</th>\n",
       "      <td>1.44</td>\n",
       "    </tr>\n",
       "    <tr>\n",
       "      <th>WS</th>\n",
       "      <td>1.42</td>\n",
       "    </tr>\n",
       "    <tr>\n",
       "      <th>TG16</th>\n",
       "      <td>0.16</td>\n",
       "    </tr>\n",
       "    <tr>\n",
       "      <th>3DO</th>\n",
       "      <td>0.10</td>\n",
       "    </tr>\n",
       "    <tr>\n",
       "      <th>GG</th>\n",
       "      <td>0.04</td>\n",
       "    </tr>\n",
       "    <tr>\n",
       "      <th>PCFX</th>\n",
       "      <td>0.03</td>\n",
       "    </tr>\n",
       "  </tbody>\n",
       "</table>\n",
       "</div>"
      ],
      "text/plain": [
       "          total_sales\n",
       "platform             \n",
       "PS2           1255.77\n",
       "X360           971.42\n",
       "PS3            939.65\n",
       "Wii            907.51\n",
       "DS             806.12\n",
       "PS             730.86\n",
       "GBA            317.85\n",
       "PS4            314.14\n",
       "PSP            294.05\n",
       "PC             259.52\n",
       "3DS            259.00\n",
       "XB             257.74\n",
       "GB             255.46\n",
       "NES            251.05\n",
       "N64            218.68\n",
       "SNES           200.04\n",
       "GC             198.93\n",
       "XOne           159.32\n",
       "2600            96.98\n",
       "WiiU            82.19\n",
       "PSV             54.07\n",
       "SAT             33.59\n",
       "GEN             28.35\n",
       "DC              15.95\n",
       "SCD              1.86\n",
       "NG               1.44\n",
       "WS               1.42\n",
       "TG16             0.16\n",
       "3DO              0.10\n",
       "GG               0.04\n",
       "PCFX             0.03"
      ]
     },
     "execution_count": 27,
     "metadata": {},
     "output_type": "execute_result"
    }
   ],
   "source": [
    "sales_on_platform = data.pivot_table(index='platform', values='total_sales', aggfunc='sum').sort_values(\n",
    "    by='total_sales', ascending=False)\n",
    "sales_on_platform"
   ]
  },
  {
   "cell_type": "code",
   "execution_count": 28,
   "metadata": {},
   "outputs": [
    {
     "data": {
      "image/png": "[encoded data removed]",
      "text/plain": [
       "<Figure size 936x288 with 1 Axes>"
      ]
     },
     "metadata": {
      "needs_background": "light"
     },
     "output_type": "display_data"
    }
   ],
   "source": [
    "sales_on_platform\n",
    "plt.figure(figsize=(13,4))\n",
    "sns.barplot(x=sales_on_platform.index,y=sales_on_platform['total_sales'])\n",
    "plt.title(\"Продажи по платформам за весь период\")\n",
    "plt.xlabel(\"Название платформы\")\n",
    "plt.ylabel(\"Количество продаж\");"
   ]
  },
  {
   "cell_type": "markdown",
   "metadata": {},
   "source": [
    "Из графика графика видно, что самыми крупными платформами являются платофрмы **PS2, X360, PS3, Wii, DS, PS** Возьмем для исследования первую десятку платформ в нашем графике"
   ]
  },
  {
   "cell_type": "code",
   "execution_count": 29,
   "metadata": {},
   "outputs": [
    {
     "data": {
      "text/html": [
       "<div>\n",
       "<style scoped>\n",
       "    .dataframe tbody tr th:only-of-type {\n",
       "        vertical-align: middle;\n",
       "    }\n",
       "\n",
       "    .dataframe tbody tr th {\n",
       "        vertical-align: top;\n",
       "    }\n",
       "\n",
       "    .dataframe thead th {\n",
       "        text-align: right;\n",
       "    }\n",
       "</style>\n",
       "<table border=\"1\" class=\"dataframe\">\n",
       "  <thead>\n",
       "    <tr style=\"text-align: right;\">\n",
       "      <th></th>\n",
       "      <th>name</th>\n",
       "      <th>platform</th>\n",
       "      <th>year_of_release</th>\n",
       "      <th>genre</th>\n",
       "      <th>na_sales</th>\n",
       "      <th>eu_sales</th>\n",
       "      <th>jp_sales</th>\n",
       "      <th>other_sales</th>\n",
       "      <th>critic_score</th>\n",
       "      <th>user_score</th>\n",
       "      <th>rating</th>\n",
       "      <th>total_sales</th>\n",
       "    </tr>\n",
       "  </thead>\n",
       "  <tbody>\n",
       "    <tr>\n",
       "      <th>0</th>\n",
       "      <td>Wii Sports</td>\n",
       "      <td>Wii</td>\n",
       "      <td>2006</td>\n",
       "      <td>Sports</td>\n",
       "      <td>41.36</td>\n",
       "      <td>28.96</td>\n",
       "      <td>3.77</td>\n",
       "      <td>8.45</td>\n",
       "      <td>76.0</td>\n",
       "      <td>8.0</td>\n",
       "      <td>E</td>\n",
       "      <td>82.54</td>\n",
       "    </tr>\n",
       "    <tr>\n",
       "      <th>2</th>\n",
       "      <td>Mario Kart Wii</td>\n",
       "      <td>Wii</td>\n",
       "      <td>2008</td>\n",
       "      <td>Racing</td>\n",
       "      <td>15.68</td>\n",
       "      <td>12.76</td>\n",
       "      <td>3.79</td>\n",
       "      <td>3.29</td>\n",
       "      <td>82.0</td>\n",
       "      <td>8.3</td>\n",
       "      <td>E</td>\n",
       "      <td>35.52</td>\n",
       "    </tr>\n",
       "    <tr>\n",
       "      <th>3</th>\n",
       "      <td>Wii Sports Resort</td>\n",
       "      <td>Wii</td>\n",
       "      <td>2009</td>\n",
       "      <td>Sports</td>\n",
       "      <td>15.61</td>\n",
       "      <td>10.93</td>\n",
       "      <td>3.28</td>\n",
       "      <td>2.95</td>\n",
       "      <td>80.0</td>\n",
       "      <td>8.0</td>\n",
       "      <td>E</td>\n",
       "      <td>32.77</td>\n",
       "    </tr>\n",
       "    <tr>\n",
       "      <th>6</th>\n",
       "      <td>New Super Mario Bros.</td>\n",
       "      <td>DS</td>\n",
       "      <td>2006</td>\n",
       "      <td>Platform</td>\n",
       "      <td>11.28</td>\n",
       "      <td>9.14</td>\n",
       "      <td>6.50</td>\n",
       "      <td>2.88</td>\n",
       "      <td>89.0</td>\n",
       "      <td>8.5</td>\n",
       "      <td>E</td>\n",
       "      <td>29.80</td>\n",
       "    </tr>\n",
       "    <tr>\n",
       "      <th>7</th>\n",
       "      <td>Wii Play</td>\n",
       "      <td>Wii</td>\n",
       "      <td>2006</td>\n",
       "      <td>Misc</td>\n",
       "      <td>13.96</td>\n",
       "      <td>9.18</td>\n",
       "      <td>2.93</td>\n",
       "      <td>2.84</td>\n",
       "      <td>58.0</td>\n",
       "      <td>6.6</td>\n",
       "      <td>E</td>\n",
       "      <td>28.91</td>\n",
       "    </tr>\n",
       "    <tr>\n",
       "      <th>...</th>\n",
       "      <td>...</td>\n",
       "      <td>...</td>\n",
       "      <td>...</td>\n",
       "      <td>...</td>\n",
       "      <td>...</td>\n",
       "      <td>...</td>\n",
       "      <td>...</td>\n",
       "      <td>...</td>\n",
       "      <td>...</td>\n",
       "      <td>...</td>\n",
       "      <td>...</td>\n",
       "      <td>...</td>\n",
       "    </tr>\n",
       "    <tr>\n",
       "      <th>16700</th>\n",
       "      <td>Mezase!! Tsuri Master DS</td>\n",
       "      <td>DS</td>\n",
       "      <td>2009</td>\n",
       "      <td>Sports</td>\n",
       "      <td>0.00</td>\n",
       "      <td>0.00</td>\n",
       "      <td>0.01</td>\n",
       "      <td>0.00</td>\n",
       "      <td>NaN</td>\n",
       "      <td>NaN</td>\n",
       "      <td>undefined</td>\n",
       "      <td>0.01</td>\n",
       "    </tr>\n",
       "    <tr>\n",
       "      <th>16704</th>\n",
       "      <td>Plushees</td>\n",
       "      <td>DS</td>\n",
       "      <td>2008</td>\n",
       "      <td>Simulation</td>\n",
       "      <td>0.01</td>\n",
       "      <td>0.00</td>\n",
       "      <td>0.00</td>\n",
       "      <td>0.00</td>\n",
       "      <td>NaN</td>\n",
       "      <td>NaN</td>\n",
       "      <td>E</td>\n",
       "      <td>0.01</td>\n",
       "    </tr>\n",
       "    <tr>\n",
       "      <th>16709</th>\n",
       "      <td>SCORE International Baja 1000: The Official Game</td>\n",
       "      <td>PS2</td>\n",
       "      <td>2008</td>\n",
       "      <td>Racing</td>\n",
       "      <td>0.00</td>\n",
       "      <td>0.00</td>\n",
       "      <td>0.00</td>\n",
       "      <td>0.00</td>\n",
       "      <td>NaN</td>\n",
       "      <td>NaN</td>\n",
       "      <td>undefined</td>\n",
       "      <td>0.00</td>\n",
       "    </tr>\n",
       "    <tr>\n",
       "      <th>16710</th>\n",
       "      <td>Samurai Warriors: Sanada Maru</td>\n",
       "      <td>PS3</td>\n",
       "      <td>2016</td>\n",
       "      <td>Action</td>\n",
       "      <td>0.00</td>\n",
       "      <td>0.00</td>\n",
       "      <td>0.01</td>\n",
       "      <td>0.00</td>\n",
       "      <td>NaN</td>\n",
       "      <td>NaN</td>\n",
       "      <td>undefined</td>\n",
       "      <td>0.01</td>\n",
       "    </tr>\n",
       "    <tr>\n",
       "      <th>16711</th>\n",
       "      <td>LMA Manager 2007</td>\n",
       "      <td>X360</td>\n",
       "      <td>2006</td>\n",
       "      <td>Sports</td>\n",
       "      <td>0.00</td>\n",
       "      <td>0.01</td>\n",
       "      <td>0.00</td>\n",
       "      <td>0.00</td>\n",
       "      <td>NaN</td>\n",
       "      <td>NaN</td>\n",
       "      <td>undefined</td>\n",
       "      <td>0.01</td>\n",
       "    </tr>\n",
       "  </tbody>\n",
       "</table>\n",
       "<p>9422 rows × 12 columns</p>\n",
       "</div>"
      ],
      "text/plain": [
       "                                                   name platform  \\\n",
       "0                                            Wii Sports      Wii   \n",
       "2                                        Mario Kart Wii      Wii   \n",
       "3                                     Wii Sports Resort      Wii   \n",
       "6                                 New Super Mario Bros.       DS   \n",
       "7                                              Wii Play      Wii   \n",
       "...                                                 ...      ...   \n",
       "16700                          Mezase!! Tsuri Master DS       DS   \n",
       "16704                                          Plushees       DS   \n",
       "16709  SCORE International Baja 1000: The Official Game      PS2   \n",
       "16710                     Samurai Warriors: Sanada Maru      PS3   \n",
       "16711                                  LMA Manager 2007     X360   \n",
       "\n",
       "       year_of_release       genre  na_sales  eu_sales  jp_sales  other_sales  \\\n",
       "0                 2006      Sports     41.36     28.96      3.77         8.45   \n",
       "2                 2008      Racing     15.68     12.76      3.79         3.29   \n",
       "3                 2009      Sports     15.61     10.93      3.28         2.95   \n",
       "6                 2006    Platform     11.28      9.14      6.50         2.88   \n",
       "7                 2006        Misc     13.96      9.18      2.93         2.84   \n",
       "...                ...         ...       ...       ...       ...          ...   \n",
       "16700             2009      Sports      0.00      0.00      0.01         0.00   \n",
       "16704             2008  Simulation      0.01      0.00      0.00         0.00   \n",
       "16709             2008      Racing      0.00      0.00      0.00         0.00   \n",
       "16710             2016      Action      0.00      0.00      0.01         0.00   \n",
       "16711             2006      Sports      0.00      0.01      0.00         0.00   \n",
       "\n",
       "       critic_score  user_score     rating  total_sales  \n",
       "0              76.0         8.0          E        82.54  \n",
       "2              82.0         8.3          E        35.52  \n",
       "3              80.0         8.0          E        32.77  \n",
       "6              89.0         8.5          E        29.80  \n",
       "7              58.0         6.6          E        28.91  \n",
       "...             ...         ...        ...          ...  \n",
       "16700           NaN         NaN  undefined         0.01  \n",
       "16704           NaN         NaN          E         0.01  \n",
       "16709           NaN         NaN  undefined         0.00  \n",
       "16710           NaN         NaN  undefined         0.01  \n",
       "16711           NaN         NaN  undefined         0.01  \n",
       "\n",
       "[9422 rows x 12 columns]"
      ]
     },
     "execution_count": 29,
     "metadata": {},
     "output_type": "execute_result"
    }
   ],
   "source": [
    "top_platform = data.query('platform == [\"PS2\",\"X360\",\"PS3\",\"Wii\",\"DS\",\"PS\"]')\n",
    "top_platform"
   ]
  },
  {
   "cell_type": "markdown",
   "metadata": {},
   "source": [
    "построим суммарное распределение продаж игр на платформах по годам "
   ]
  },
  {
   "cell_type": "code",
   "execution_count": 30,
   "metadata": {},
   "outputs": [
    {
     "data": {
      "text/html": [
       "<div>\n",
       "<style scoped>\n",
       "    .dataframe tbody tr th:only-of-type {\n",
       "        vertical-align: middle;\n",
       "    }\n",
       "\n",
       "    .dataframe tbody tr th {\n",
       "        vertical-align: top;\n",
       "    }\n",
       "\n",
       "    .dataframe thead th {\n",
       "        text-align: right;\n",
       "    }\n",
       "</style>\n",
       "<table border=\"1\" class=\"dataframe\">\n",
       "  <thead>\n",
       "    <tr style=\"text-align: right;\">\n",
       "      <th>platform</th>\n",
       "      <th>DS</th>\n",
       "      <th>PS</th>\n",
       "      <th>PS2</th>\n",
       "      <th>PS3</th>\n",
       "      <th>Wii</th>\n",
       "      <th>X360</th>\n",
       "    </tr>\n",
       "    <tr>\n",
       "      <th>year_of_release</th>\n",
       "      <th></th>\n",
       "      <th></th>\n",
       "      <th></th>\n",
       "      <th></th>\n",
       "      <th></th>\n",
       "      <th></th>\n",
       "    </tr>\n",
       "  </thead>\n",
       "  <tbody>\n",
       "    <tr>\n",
       "      <th>1985</th>\n",
       "      <td>0.02</td>\n",
       "      <td>NaN</td>\n",
       "      <td>NaN</td>\n",
       "      <td>NaN</td>\n",
       "      <td>NaN</td>\n",
       "      <td>NaN</td>\n",
       "    </tr>\n",
       "    <tr>\n",
       "      <th>1994</th>\n",
       "      <td>NaN</td>\n",
       "      <td>6.03</td>\n",
       "      <td>NaN</td>\n",
       "      <td>NaN</td>\n",
       "      <td>NaN</td>\n",
       "      <td>NaN</td>\n",
       "    </tr>\n",
       "    <tr>\n",
       "      <th>1995</th>\n",
       "      <td>NaN</td>\n",
       "      <td>35.96</td>\n",
       "      <td>NaN</td>\n",
       "      <td>NaN</td>\n",
       "      <td>NaN</td>\n",
       "      <td>NaN</td>\n",
       "    </tr>\n",
       "    <tr>\n",
       "      <th>1996</th>\n",
       "      <td>NaN</td>\n",
       "      <td>94.70</td>\n",
       "      <td>NaN</td>\n",
       "      <td>NaN</td>\n",
       "      <td>NaN</td>\n",
       "      <td>NaN</td>\n",
       "    </tr>\n",
       "    <tr>\n",
       "      <th>1997</th>\n",
       "      <td>NaN</td>\n",
       "      <td>136.17</td>\n",
       "      <td>NaN</td>\n",
       "      <td>NaN</td>\n",
       "      <td>NaN</td>\n",
       "      <td>NaN</td>\n",
       "    </tr>\n",
       "    <tr>\n",
       "      <th>1998</th>\n",
       "      <td>NaN</td>\n",
       "      <td>169.49</td>\n",
       "      <td>NaN</td>\n",
       "      <td>NaN</td>\n",
       "      <td>NaN</td>\n",
       "      <td>NaN</td>\n",
       "    </tr>\n",
       "    <tr>\n",
       "      <th>1999</th>\n",
       "      <td>NaN</td>\n",
       "      <td>144.53</td>\n",
       "      <td>NaN</td>\n",
       "      <td>NaN</td>\n",
       "      <td>NaN</td>\n",
       "      <td>NaN</td>\n",
       "    </tr>\n",
       "    <tr>\n",
       "      <th>2000</th>\n",
       "      <td>NaN</td>\n",
       "      <td>96.37</td>\n",
       "      <td>39.17</td>\n",
       "      <td>NaN</td>\n",
       "      <td>NaN</td>\n",
       "      <td>NaN</td>\n",
       "    </tr>\n",
       "    <tr>\n",
       "      <th>2001</th>\n",
       "      <td>NaN</td>\n",
       "      <td>35.59</td>\n",
       "      <td>166.43</td>\n",
       "      <td>NaN</td>\n",
       "      <td>NaN</td>\n",
       "      <td>NaN</td>\n",
       "    </tr>\n",
       "    <tr>\n",
       "      <th>2002</th>\n",
       "      <td>NaN</td>\n",
       "      <td>6.67</td>\n",
       "      <td>208.36</td>\n",
       "      <td>NaN</td>\n",
       "      <td>NaN</td>\n",
       "      <td>NaN</td>\n",
       "    </tr>\n",
       "    <tr>\n",
       "      <th>2003</th>\n",
       "      <td>NaN</td>\n",
       "      <td>2.07</td>\n",
       "      <td>193.05</td>\n",
       "      <td>NaN</td>\n",
       "      <td>NaN</td>\n",
       "      <td>NaN</td>\n",
       "    </tr>\n",
       "    <tr>\n",
       "      <th>2004</th>\n",
       "      <td>17.27</td>\n",
       "      <td>NaN</td>\n",
       "      <td>211.81</td>\n",
       "      <td>NaN</td>\n",
       "      <td>NaN</td>\n",
       "      <td>NaN</td>\n",
       "    </tr>\n",
       "    <tr>\n",
       "      <th>2005</th>\n",
       "      <td>130.14</td>\n",
       "      <td>NaN</td>\n",
       "      <td>160.66</td>\n",
       "      <td>0.19</td>\n",
       "      <td>NaN</td>\n",
       "      <td>9.22</td>\n",
       "    </tr>\n",
       "    <tr>\n",
       "      <th>2006</th>\n",
       "      <td>119.81</td>\n",
       "      <td>NaN</td>\n",
       "      <td>104.24</td>\n",
       "      <td>21.44</td>\n",
       "      <td>140.19</td>\n",
       "      <td>51.79</td>\n",
       "    </tr>\n",
       "    <tr>\n",
       "      <th>2007</th>\n",
       "      <td>147.23</td>\n",
       "      <td>NaN</td>\n",
       "      <td>76.10</td>\n",
       "      <td>73.19</td>\n",
       "      <td>153.41</td>\n",
       "      <td>95.41</td>\n",
       "    </tr>\n",
       "    <tr>\n",
       "      <th>2008</th>\n",
       "      <td>145.36</td>\n",
       "      <td>NaN</td>\n",
       "      <td>53.90</td>\n",
       "      <td>118.79</td>\n",
       "      <td>177.68</td>\n",
       "      <td>136.07</td>\n",
       "    </tr>\n",
       "    <tr>\n",
       "      <th>2009</th>\n",
       "      <td>119.56</td>\n",
       "      <td>NaN</td>\n",
       "      <td>26.40</td>\n",
       "      <td>130.93</td>\n",
       "      <td>206.97</td>\n",
       "      <td>120.82</td>\n",
       "    </tr>\n",
       "    <tr>\n",
       "      <th>2010</th>\n",
       "      <td>85.35</td>\n",
       "      <td>NaN</td>\n",
       "      <td>6.59</td>\n",
       "      <td>142.96</td>\n",
       "      <td>128.67</td>\n",
       "      <td>170.55</td>\n",
       "    </tr>\n",
       "    <tr>\n",
       "      <th>2011</th>\n",
       "      <td>26.33</td>\n",
       "      <td>NaN</td>\n",
       "      <td>0.45</td>\n",
       "      <td>157.98</td>\n",
       "      <td>59.79</td>\n",
       "      <td>145.23</td>\n",
       "    </tr>\n",
       "    <tr>\n",
       "      <th>2012</th>\n",
       "      <td>11.67</td>\n",
       "      <td>NaN</td>\n",
       "      <td>NaN</td>\n",
       "      <td>108.28</td>\n",
       "      <td>22.94</td>\n",
       "      <td>100.72</td>\n",
       "    </tr>\n",
       "    <tr>\n",
       "      <th>2013</th>\n",
       "      <td>1.54</td>\n",
       "      <td>NaN</td>\n",
       "      <td>NaN</td>\n",
       "      <td>113.25</td>\n",
       "      <td>8.59</td>\n",
       "      <td>88.58</td>\n",
       "    </tr>\n",
       "    <tr>\n",
       "      <th>2014</th>\n",
       "      <td>NaN</td>\n",
       "      <td>NaN</td>\n",
       "      <td>NaN</td>\n",
       "      <td>47.76</td>\n",
       "      <td>3.75</td>\n",
       "      <td>34.74</td>\n",
       "    </tr>\n",
       "    <tr>\n",
       "      <th>2015</th>\n",
       "      <td>NaN</td>\n",
       "      <td>NaN</td>\n",
       "      <td>NaN</td>\n",
       "      <td>16.82</td>\n",
       "      <td>1.14</td>\n",
       "      <td>11.96</td>\n",
       "    </tr>\n",
       "    <tr>\n",
       "      <th>2016</th>\n",
       "      <td>NaN</td>\n",
       "      <td>NaN</td>\n",
       "      <td>NaN</td>\n",
       "      <td>3.60</td>\n",
       "      <td>0.18</td>\n",
       "      <td>1.52</td>\n",
       "    </tr>\n",
       "  </tbody>\n",
       "</table>\n",
       "</div>"
      ],
      "text/plain": [
       "platform             DS      PS     PS2     PS3     Wii    X360\n",
       "year_of_release                                                \n",
       "1985               0.02     NaN     NaN     NaN     NaN     NaN\n",
       "1994                NaN    6.03     NaN     NaN     NaN     NaN\n",
       "1995                NaN   35.96     NaN     NaN     NaN     NaN\n",
       "1996                NaN   94.70     NaN     NaN     NaN     NaN\n",
       "1997                NaN  136.17     NaN     NaN     NaN     NaN\n",
       "1998                NaN  169.49     NaN     NaN     NaN     NaN\n",
       "1999                NaN  144.53     NaN     NaN     NaN     NaN\n",
       "2000                NaN   96.37   39.17     NaN     NaN     NaN\n",
       "2001                NaN   35.59  166.43     NaN     NaN     NaN\n",
       "2002                NaN    6.67  208.36     NaN     NaN     NaN\n",
       "2003                NaN    2.07  193.05     NaN     NaN     NaN\n",
       "2004              17.27     NaN  211.81     NaN     NaN     NaN\n",
       "2005             130.14     NaN  160.66    0.19     NaN    9.22\n",
       "2006             119.81     NaN  104.24   21.44  140.19   51.79\n",
       "2007             147.23     NaN   76.10   73.19  153.41   95.41\n",
       "2008             145.36     NaN   53.90  118.79  177.68  136.07\n",
       "2009             119.56     NaN   26.40  130.93  206.97  120.82\n",
       "2010              85.35     NaN    6.59  142.96  128.67  170.55\n",
       "2011              26.33     NaN    0.45  157.98   59.79  145.23\n",
       "2012              11.67     NaN     NaN  108.28   22.94  100.72\n",
       "2013               1.54     NaN     NaN  113.25    8.59   88.58\n",
       "2014                NaN     NaN     NaN   47.76    3.75   34.74\n",
       "2015                NaN     NaN     NaN   16.82    1.14   11.96\n",
       "2016                NaN     NaN     NaN    3.60    0.18    1.52"
      ]
     },
     "execution_count": 30,
     "metadata": {},
     "output_type": "execute_result"
    }
   ],
   "source": [
    "data_sales_per_year = top_platform.pivot_table\\\n",
    "(index='year_of_release', columns='platform', values='total_sales', aggfunc='sum')\n",
    "data_sales_per_year"
   ]
  },
  {
   "cell_type": "code",
   "execution_count": 31,
   "metadata": {},
   "outputs": [
    {
     "data": {
      "image/png": "[encoded data removed]",
      "text/plain": [
       "<Figure size 1080x576 with 1 Axes>"
      ]
     },
     "metadata": {
      "needs_background": "light"
     },
     "output_type": "display_data"
    }
   ],
   "source": [
    "data_sales_per_year.plot(figsize = (15,8))\n",
    "plt.title(\"Продажи по платформам за каждый год\")\n",
    "plt.xlabel(\"Год\")\n",
    "plt.ylabel(\"Количество проданных игр \");\n",
    "plt.show()"
   ]
  },
  {
   "cell_type": "markdown",
   "metadata": {},
   "source": [
    "<div class=\"alert alert-success\"; style=\"border-left: 7px solid green\">\n",
    "<h5> ✔️ <font color=\"green\">Комментарий ревьюера (зеленый)</font></h5>\n",
    "\n",
    "Красивое построение и выводы правильные, молодец 😃\n",
    "\n",
    "</div>"
   ]
  },
  {
   "cell_type": "markdown",
   "metadata": {},
   "source": [
    "По графику видно, что средняя продолжительность функционирования платформы равна 10 годам."
   ]
  },
  {
   "cell_type": "markdown",
   "metadata": {},
   "source": [
    "**Определим период, за который нужно взять данные для дальнейшего исследования**\n",
    "При рассмотрении выпуска игр по годам мы выявили три условных периода в индустрии видеоигр, рост до 2008 года, пик с 2008 по 2009 и резкий спад, начиная с 2009го года. Нашей главной задачей является построение прогноза на 2017 год, потому нам нужны толькл актуальные данные и реальная статистика, поэтому определим актуальные период начиная с 2012го года."
   ]
  },
  {
   "cell_type": "markdown",
   "metadata": {},
   "source": [
    "<div class=\"alert alert-danger\"; style=\"border-left: 7px solid FireBrick\">\n",
    "<h5> ❌ <font color=\"FireBrick\">Комментарий ревьюера (красный)</font></h5>\n",
    "\n",
    "Для целей прогнозирования продаж на следующий год даже в традиционных бизнесах редко берут данные более чем за 2-3 года. А в такой динамично меняющейся индустрии, как компьютерные игры и вовсе не стоит брать слишком большой временной интервал - иначе обязательно захватишь уже отжившие тренды.\n",
    "\n",
    "После пересмотра года актуализируй, пожалуйста, весь проект ниже.\n",
    "\n",
    "</div>"
   ]
  },
  {
   "cell_type": "markdown",
   "metadata": {},
   "source": [
    "<div class=\"alert alert-info\"; style=\"border-left: 7px solid SteelBlue\">\n",
    "<h5>🎓 <font color=\"SteelBlue\">Комментарий от студента (синий)</font></h5>    \n",
    "\n",
    "взяла в качестве актуального периода данные начиная с 2012 года\n",
    "\n",
    "</div>"
   ]
  },
  {
   "cell_type": "markdown",
   "metadata": {},
   "source": [
    "<div class=\"alert alert-success\"; style=\"border-left: 7px solid green\">\n",
    "<h5> ✔️ <font color=\"green\">v2 Комментарий ревьюера (зеленый)</font></h5>\n",
    "\n",
    "✅ Период выбран правильно! 👍\n",
    " \n",
    "</div>"
   ]
  },
  {
   "cell_type": "code",
   "execution_count": 32,
   "metadata": {},
   "outputs": [
    {
     "data": {
      "text/html": [
       "<div>\n",
       "<style scoped>\n",
       "    .dataframe tbody tr th:only-of-type {\n",
       "        vertical-align: middle;\n",
       "    }\n",
       "\n",
       "    .dataframe tbody tr th {\n",
       "        vertical-align: top;\n",
       "    }\n",
       "\n",
       "    .dataframe thead th {\n",
       "        text-align: right;\n",
       "    }\n",
       "</style>\n",
       "<table border=\"1\" class=\"dataframe\">\n",
       "  <thead>\n",
       "    <tr style=\"text-align: right;\">\n",
       "      <th></th>\n",
       "      <th>name</th>\n",
       "      <th>platform</th>\n",
       "      <th>year_of_release</th>\n",
       "      <th>genre</th>\n",
       "      <th>na_sales</th>\n",
       "      <th>eu_sales</th>\n",
       "      <th>jp_sales</th>\n",
       "      <th>other_sales</th>\n",
       "      <th>critic_score</th>\n",
       "      <th>user_score</th>\n",
       "      <th>rating</th>\n",
       "      <th>total_sales</th>\n",
       "    </tr>\n",
       "  </thead>\n",
       "  <tbody>\n",
       "    <tr>\n",
       "      <th>16</th>\n",
       "      <td>Grand Theft Auto V</td>\n",
       "      <td>PS3</td>\n",
       "      <td>2013</td>\n",
       "      <td>Action</td>\n",
       "      <td>7.02</td>\n",
       "      <td>9.09</td>\n",
       "      <td>0.98</td>\n",
       "      <td>3.96</td>\n",
       "      <td>97.0</td>\n",
       "      <td>8.2</td>\n",
       "      <td>M</td>\n",
       "      <td>21.05</td>\n",
       "    </tr>\n",
       "    <tr>\n",
       "      <th>23</th>\n",
       "      <td>Grand Theft Auto V</td>\n",
       "      <td>X360</td>\n",
       "      <td>2013</td>\n",
       "      <td>Action</td>\n",
       "      <td>9.66</td>\n",
       "      <td>5.14</td>\n",
       "      <td>0.06</td>\n",
       "      <td>1.41</td>\n",
       "      <td>97.0</td>\n",
       "      <td>8.1</td>\n",
       "      <td>M</td>\n",
       "      <td>16.27</td>\n",
       "    </tr>\n",
       "    <tr>\n",
       "      <th>31</th>\n",
       "      <td>Call of Duty: Black Ops 3</td>\n",
       "      <td>PS4</td>\n",
       "      <td>2015</td>\n",
       "      <td>Shooter</td>\n",
       "      <td>6.03</td>\n",
       "      <td>5.86</td>\n",
       "      <td>0.36</td>\n",
       "      <td>2.38</td>\n",
       "      <td>NaN</td>\n",
       "      <td>NaN</td>\n",
       "      <td>undefined</td>\n",
       "      <td>14.63</td>\n",
       "    </tr>\n",
       "    <tr>\n",
       "      <th>33</th>\n",
       "      <td>Pokemon X/Pokemon Y</td>\n",
       "      <td>3DS</td>\n",
       "      <td>2013</td>\n",
       "      <td>Role-Playing</td>\n",
       "      <td>5.28</td>\n",
       "      <td>4.19</td>\n",
       "      <td>4.35</td>\n",
       "      <td>0.78</td>\n",
       "      <td>NaN</td>\n",
       "      <td>NaN</td>\n",
       "      <td>undefined</td>\n",
       "      <td>14.60</td>\n",
       "    </tr>\n",
       "    <tr>\n",
       "      <th>34</th>\n",
       "      <td>Call of Duty: Black Ops II</td>\n",
       "      <td>PS3</td>\n",
       "      <td>2012</td>\n",
       "      <td>Shooter</td>\n",
       "      <td>4.99</td>\n",
       "      <td>5.73</td>\n",
       "      <td>0.65</td>\n",
       "      <td>2.42</td>\n",
       "      <td>83.0</td>\n",
       "      <td>5.3</td>\n",
       "      <td>M</td>\n",
       "      <td>13.79</td>\n",
       "    </tr>\n",
       "    <tr>\n",
       "      <th>...</th>\n",
       "      <td>...</td>\n",
       "      <td>...</td>\n",
       "      <td>...</td>\n",
       "      <td>...</td>\n",
       "      <td>...</td>\n",
       "      <td>...</td>\n",
       "      <td>...</td>\n",
       "      <td>...</td>\n",
       "      <td>...</td>\n",
       "      <td>...</td>\n",
       "      <td>...</td>\n",
       "      <td>...</td>\n",
       "    </tr>\n",
       "    <tr>\n",
       "      <th>16703</th>\n",
       "      <td>Strawberry Nauts</td>\n",
       "      <td>PSV</td>\n",
       "      <td>2016</td>\n",
       "      <td>Adventure</td>\n",
       "      <td>0.00</td>\n",
       "      <td>0.00</td>\n",
       "      <td>0.01</td>\n",
       "      <td>0.00</td>\n",
       "      <td>NaN</td>\n",
       "      <td>NaN</td>\n",
       "      <td>undefined</td>\n",
       "      <td>0.01</td>\n",
       "    </tr>\n",
       "    <tr>\n",
       "      <th>16707</th>\n",
       "      <td>Aiyoku no Eustia</td>\n",
       "      <td>PSV</td>\n",
       "      <td>2014</td>\n",
       "      <td>Misc</td>\n",
       "      <td>0.00</td>\n",
       "      <td>0.00</td>\n",
       "      <td>0.01</td>\n",
       "      <td>0.00</td>\n",
       "      <td>NaN</td>\n",
       "      <td>NaN</td>\n",
       "      <td>undefined</td>\n",
       "      <td>0.01</td>\n",
       "    </tr>\n",
       "    <tr>\n",
       "      <th>16710</th>\n",
       "      <td>Samurai Warriors: Sanada Maru</td>\n",
       "      <td>PS3</td>\n",
       "      <td>2016</td>\n",
       "      <td>Action</td>\n",
       "      <td>0.00</td>\n",
       "      <td>0.00</td>\n",
       "      <td>0.01</td>\n",
       "      <td>0.00</td>\n",
       "      <td>NaN</td>\n",
       "      <td>NaN</td>\n",
       "      <td>undefined</td>\n",
       "      <td>0.01</td>\n",
       "    </tr>\n",
       "    <tr>\n",
       "      <th>16712</th>\n",
       "      <td>Haitaka no Psychedelica</td>\n",
       "      <td>PSV</td>\n",
       "      <td>2016</td>\n",
       "      <td>Adventure</td>\n",
       "      <td>0.00</td>\n",
       "      <td>0.00</td>\n",
       "      <td>0.01</td>\n",
       "      <td>0.00</td>\n",
       "      <td>NaN</td>\n",
       "      <td>NaN</td>\n",
       "      <td>undefined</td>\n",
       "      <td>0.01</td>\n",
       "    </tr>\n",
       "    <tr>\n",
       "      <th>16714</th>\n",
       "      <td>Winning Post 8 2016</td>\n",
       "      <td>PSV</td>\n",
       "      <td>2016</td>\n",
       "      <td>Simulation</td>\n",
       "      <td>0.00</td>\n",
       "      <td>0.00</td>\n",
       "      <td>0.01</td>\n",
       "      <td>0.00</td>\n",
       "      <td>NaN</td>\n",
       "      <td>NaN</td>\n",
       "      <td>undefined</td>\n",
       "      <td>0.01</td>\n",
       "    </tr>\n",
       "  </tbody>\n",
       "</table>\n",
       "<p>2899 rows × 12 columns</p>\n",
       "</div>"
      ],
      "text/plain": [
       "                                name platform  year_of_release         genre  \\\n",
       "16                Grand Theft Auto V      PS3             2013        Action   \n",
       "23                Grand Theft Auto V     X360             2013        Action   \n",
       "31         Call of Duty: Black Ops 3      PS4             2015       Shooter   \n",
       "33               Pokemon X/Pokemon Y      3DS             2013  Role-Playing   \n",
       "34        Call of Duty: Black Ops II      PS3             2012       Shooter   \n",
       "...                              ...      ...              ...           ...   \n",
       "16703               Strawberry Nauts      PSV             2016     Adventure   \n",
       "16707               Aiyoku no Eustia      PSV             2014          Misc   \n",
       "16710  Samurai Warriors: Sanada Maru      PS3             2016        Action   \n",
       "16712        Haitaka no Psychedelica      PSV             2016     Adventure   \n",
       "16714            Winning Post 8 2016      PSV             2016    Simulation   \n",
       "\n",
       "       na_sales  eu_sales  jp_sales  other_sales  critic_score  user_score  \\\n",
       "16         7.02      9.09      0.98         3.96          97.0         8.2   \n",
       "23         9.66      5.14      0.06         1.41          97.0         8.1   \n",
       "31         6.03      5.86      0.36         2.38           NaN         NaN   \n",
       "33         5.28      4.19      4.35         0.78           NaN         NaN   \n",
       "34         4.99      5.73      0.65         2.42          83.0         5.3   \n",
       "...         ...       ...       ...          ...           ...         ...   \n",
       "16703      0.00      0.00      0.01         0.00           NaN         NaN   \n",
       "16707      0.00      0.00      0.01         0.00           NaN         NaN   \n",
       "16710      0.00      0.00      0.01         0.00           NaN         NaN   \n",
       "16712      0.00      0.00      0.01         0.00           NaN         NaN   \n",
       "16714      0.00      0.00      0.01         0.00           NaN         NaN   \n",
       "\n",
       "          rating  total_sales  \n",
       "16             M        21.05  \n",
       "23             M        16.27  \n",
       "31     undefined        14.63  \n",
       "33     undefined        14.60  \n",
       "34             M        13.79  \n",
       "...          ...          ...  \n",
       "16703  undefined         0.01  \n",
       "16707  undefined         0.01  \n",
       "16710  undefined         0.01  \n",
       "16712  undefined         0.01  \n",
       "16714  undefined         0.01  \n",
       "\n",
       "[2899 rows x 12 columns]"
      ]
     },
     "execution_count": 32,
     "metadata": {},
     "output_type": "execute_result"
    }
   ],
   "source": [
    "actual_data = data.query('year_of_release >=2012')\n",
    "actual_data"
   ]
  },
  {
   "cell_type": "markdown",
   "metadata": {},
   "source": [
    "Какие платформы лидируют по продажам, растут или падают? Выберем несколько потенциально прибыльных платформ"
   ]
  },
  {
   "cell_type": "code",
   "execution_count": 33,
   "metadata": {},
   "outputs": [
    {
     "data": {
      "text/html": [
       "<div>\n",
       "<style scoped>\n",
       "    .dataframe tbody tr th:only-of-type {\n",
       "        vertical-align: middle;\n",
       "    }\n",
       "\n",
       "    .dataframe tbody tr th {\n",
       "        vertical-align: top;\n",
       "    }\n",
       "\n",
       "    .dataframe thead tr th {\n",
       "        text-align: left;\n",
       "    }\n",
       "\n",
       "    .dataframe thead tr:last-of-type th {\n",
       "        text-align: right;\n",
       "    }\n",
       "</style>\n",
       "<table border=\"1\" class=\"dataframe\">\n",
       "  <thead>\n",
       "    <tr>\n",
       "      <th></th>\n",
       "      <th>sum</th>\n",
       "    </tr>\n",
       "    <tr>\n",
       "      <th></th>\n",
       "      <th>total_sales</th>\n",
       "    </tr>\n",
       "    <tr>\n",
       "      <th>platform</th>\n",
       "      <th></th>\n",
       "    </tr>\n",
       "  </thead>\n",
       "  <tbody>\n",
       "    <tr>\n",
       "      <th>PS4</th>\n",
       "      <td>314.14</td>\n",
       "    </tr>\n",
       "    <tr>\n",
       "      <th>PS3</th>\n",
       "      <td>289.71</td>\n",
       "    </tr>\n",
       "    <tr>\n",
       "      <th>X360</th>\n",
       "      <td>237.52</td>\n",
       "    </tr>\n",
       "    <tr>\n",
       "      <th>3DS</th>\n",
       "      <td>195.01</td>\n",
       "    </tr>\n",
       "    <tr>\n",
       "      <th>XOne</th>\n",
       "      <td>159.32</td>\n",
       "    </tr>\n",
       "    <tr>\n",
       "      <th>WiiU</th>\n",
       "      <td>82.19</td>\n",
       "    </tr>\n",
       "    <tr>\n",
       "      <th>PC</th>\n",
       "      <td>63.51</td>\n",
       "    </tr>\n",
       "    <tr>\n",
       "      <th>PSV</th>\n",
       "      <td>49.18</td>\n",
       "    </tr>\n",
       "    <tr>\n",
       "      <th>Wii</th>\n",
       "      <td>36.60</td>\n",
       "    </tr>\n",
       "    <tr>\n",
       "      <th>DS</th>\n",
       "      <td>13.21</td>\n",
       "    </tr>\n",
       "    <tr>\n",
       "      <th>PSP</th>\n",
       "      <td>11.69</td>\n",
       "    </tr>\n",
       "  </tbody>\n",
       "</table>\n",
       "</div>"
      ],
      "text/plain": [
       "                 sum\n",
       "         total_sales\n",
       "platform            \n",
       "PS4           314.14\n",
       "PS3           289.71\n",
       "X360          237.52\n",
       "3DS           195.01\n",
       "XOne          159.32\n",
       "WiiU           82.19\n",
       "PC             63.51\n",
       "PSV            49.18\n",
       "Wii            36.60\n",
       "DS             13.21\n",
       "PSP            11.69"
      ]
     },
     "execution_count": 33,
     "metadata": {},
     "output_type": "execute_result"
    }
   ],
   "source": [
    "sales_by_actual_platforms =actual_data.pivot_table(\n",
    "                                 index = ['platform'], \n",
    "                                 values = ['total_sales'],\n",
    "                                 aggfunc =  ['sum'])\n",
    "sales_by_actual_platforms.sort_values(('sum', 'total_sales'),ascending = False)"
   ]
  },
  {
   "cell_type": "code",
   "execution_count": 34,
   "metadata": {},
   "outputs": [
    {
     "data": {
      "image/png": "[encoded data removed]",
      "text/plain": [
       "<Figure size 1440x720 with 1 Axes>"
      ]
     },
     "metadata": {
      "needs_background": "light"
     },
     "output_type": "display_data"
    }
   ],
   "source": [
    "top_platforms_actual_data =actual_data.pivot_table(\n",
    "                                 index = ['year_of_release'], \\\n",
    "                                 columns = ['platform'],\n",
    "                                 values = ['total_sales'],\n",
    "                                 aggfunc =  ['sum'])\n",
    "top_platforms_actual_data.plot(figsize = (20,10))\n",
    "plt.title(\"Продажи по платформам за каждый год\")\n",
    "plt.xlabel(\"Год\")\n",
    "plt.ylabel(\"Количество проданных игр (млн. копий)\");\n",
    "plt.show()"
   ]
  },
  {
   "cell_type": "markdown",
   "metadata": {},
   "source": [
    "по графику видно, что в 2016 году продажи на большинстве платформах стремятся к низким значениям, но есть две самые молодые (XOne и PS4), которые вполне могут принест прибыль в 2017м году."
   ]
  },
  {
   "cell_type": "markdown",
   "metadata": {},
   "source": [
    "Построим график «ящик с усами» по глобальным продажам игр в разбивке по платформам"
   ]
  },
  {
   "cell_type": "code",
   "execution_count": 35,
   "metadata": {},
   "outputs": [
    {
     "data": {
      "image/png": "[encoded data removed]",
      "text/plain": [
       "<Figure size 1080x720 with 1 Axes>"
      ]
     },
     "metadata": {
      "needs_background": "light"
     },
     "output_type": "display_data"
    }
   ],
   "source": [
    "actual_data.boxplot(column = ['total_sales'],by = ['platform'],figsize=(15, 10));\n",
    "plt.xlabel(\"Платформа\")\n",
    "plt.ylabel(\"Глобальные продажи\");\n",
    "plt.ylim([0, 5]);"
   ]
  },
  {
   "cell_type": "markdown",
   "metadata": {},
   "source": [
    "<div class=\"alert alert-success\"; style=\"border-left: 7px solid green\">\n",
    "<h5> ✔️ <font color=\"green\">Комментарий ревьюера (зеленый)</font></h5>\n",
    "\n",
    "Красивый график, правильные выводы. Хорошо, что добавлен в график лимит для наглядности.\n",
    "\n",
    "</div>"
   ]
  },
  {
   "cell_type": "markdown",
   "metadata": {},
   "source": [
    "Медиана многих платформ проходит через значения очень близкие к нулю, но есть платформы, которые выделяются :\n",
    "- PS3\n",
    "- PS4\n",
    "- WiiU\n",
    "- X360\n",
    "- XOne"
   ]
  },
  {
   "cell_type": "markdown",
   "metadata": {},
   "source": [
    "Посмотрим, как влияют на продажи внутри одной популярной платформы отзывы пользователей и критиков"
   ]
  },
  {
   "cell_type": "code",
   "execution_count": 36,
   "metadata": {},
   "outputs": [],
   "source": [
    "data_ps4 = actual_data.query('platform ==\"PS4\"')"
   ]
  },
  {
   "cell_type": "code",
   "execution_count": 37,
   "metadata": {},
   "outputs": [
    {
     "data": {
      "image/png": "[encoded data removed]",
      "text/plain": [
       "<Figure size 864x432 with 1 Axes>"
      ]
     },
     "metadata": {
      "needs_background": "light"
     },
     "output_type": "display_data"
    }
   ],
   "source": [
    "#посмотрим диаграммы рассеяния влияния отзывов пользователей на продажи\n",
    "plt.figure(figsize=(12,6))\n",
    "sns.scatterplot(x='user_score', y='total_sales', data=data_ps4, alpha=0.5)\n",
    "plt.title('corr_ps4_users');"
   ]
  },
  {
   "cell_type": "markdown",
   "metadata": {},
   "source": [
    "<div class=\"alert alert-danger\"; style=\"border-left: 7px solid FireBrick\">\n",
    "<h5> ❌ <font color=\"FireBrick\">Комментарий ревьюера (красный)</font></h5>\n",
    "\n",
    "Обрати внимание на то, что на данном графике все точки слились в большое пятно.\n",
    "\n",
    "Повтори, пожалуйста, еще раз в спринт «Исследовательский анализ данных» тему «Взаимосвязь данных» урок «Корреляция» и попробуй добавить параметр прозрачности.\n",
    "\n",
    "</div>"
   ]
  },
  {
   "cell_type": "markdown",
   "metadata": {},
   "source": [
    "<div class=\"alert alert-info\"; style=\"border-left: 7px solid SteelBlue\">\n",
    "<h5>🎓 <font color=\"SteelBlue\">Комментарий от студента (синий)</font></h5>    \n",
    "\n",
    "добавила, большое спасибо, что сразу подсказал, где можно найти урок с добавлением этого параметра)\n",
    "\n",
    "</div>"
   ]
  },
  {
   "cell_type": "markdown",
   "metadata": {},
   "source": [
    "<div class=\"alert alert-success\"; style=\"border-left: 7px solid green\">\n",
    "<h5> ✔️ <font color=\"green\">v2 Комментарий ревьюера (зеленый)</font></h5>\n",
    "\n",
    "✅ График построен верно, спасибо, что добавлена прозрачность, так нагляднее. 👍\n",
    " \n",
    "</div>"
   ]
  },
  {
   "cell_type": "code",
   "execution_count": 38,
   "metadata": {
    "scrolled": true
   },
   "outputs": [
    {
     "data": {
      "text/plain": [
       "-0.031957110204556376"
      ]
     },
     "execution_count": 38,
     "metadata": {},
     "output_type": "execute_result"
    }
   ],
   "source": [
    "#посчитаем коэффициент корреляции\n",
    "data_ps4['user_score'].corr(data_ps4['total_sales'])"
   ]
  },
  {
   "cell_type": "markdown",
   "metadata": {},
   "source": [
    "оценки пользователей не влияют на продажи игр на платформе 'PS4'"
   ]
  },
  {
   "cell_type": "code",
   "execution_count": 39,
   "metadata": {},
   "outputs": [
    {
     "data": {
      "image/png": "[encoded data removed]",
      "text/plain": [
       "<Figure size 864x432 with 1 Axes>"
      ]
     },
     "metadata": {
      "needs_background": "light"
     },
     "output_type": "display_data"
    }
   ],
   "source": [
    "#посмотрим диаграммы рассеяния влияния отзывов критиков на продажи\n",
    "plt.figure(figsize=(12,6))\n",
    "sns.scatterplot(x='critic_score', y='total_sales', data=data_ps4,alpha=0.5 )\n",
    "plt.title('corr_ps4_users');"
   ]
  },
  {
   "cell_type": "code",
   "execution_count": 40,
   "metadata": {},
   "outputs": [
    {
     "data": {
      "text/plain": [
       "0.40656790206178095"
      ]
     },
     "execution_count": 40,
     "metadata": {},
     "output_type": "execute_result"
    }
   ],
   "source": [
    "#посчитаем коэффициент корреляции\n",
    "data_ps4['critic_score'].corr(data_ps4['total_sales'])"
   ]
  },
  {
   "cell_type": "markdown",
   "metadata": {},
   "source": [
    "<div class=\"alert alert-success\"; style=\"border-left: 7px solid green\">\n",
    "<h5> ✔️ <font color=\"green\">Комментарий ревьюера (зеленый)</font></h5>\n",
    "\n",
    "Полный вывод, правильно посчитана и интерпретирована корреляция.\n",
    "\n",
    "</div>"
   ]
  },
  {
   "cell_type": "markdown",
   "metadata": {},
   "source": [
    "Есть довольно заметная корреляция между оценкой критиков и продажами на платформе 'PS4'"
   ]
  },
  {
   "cell_type": "markdown",
   "metadata": {},
   "source": [
    "Рассмотри корреляцию между продажами внутри других плаформ и оценками критиков и пользователей"
   ]
  },
  {
   "cell_type": "code",
   "execution_count": 41,
   "metadata": {},
   "outputs": [],
   "source": [
    "data_x360 = actual_data.query('platform ==\"X360\"')"
   ]
  },
  {
   "cell_type": "code",
   "execution_count": 42,
   "metadata": {},
   "outputs": [
    {
     "data": {
      "image/png": "[encoded data removed]",
      "text/plain": [
       "<Figure size 864x432 with 1 Axes>"
      ]
     },
     "metadata": {
      "needs_background": "light"
     },
     "output_type": "display_data"
    }
   ],
   "source": [
    "#посмотрим диаграммы рассеяния влияния отзывов пользователей на продажи\n",
    "plt.figure(figsize=(12,6))\n",
    "sns.scatterplot(x='user_score', y='total_sales', data=data_x360, alpha=0.5)\n",
    "plt.title('corr_X360_users');"
   ]
  },
  {
   "cell_type": "code",
   "execution_count": 43,
   "metadata": {},
   "outputs": [
    {
     "data": {
      "text/plain": [
       "0.006314938203566999"
      ]
     },
     "execution_count": 43,
     "metadata": {},
     "output_type": "execute_result"
    }
   ],
   "source": [
    "#посчитаем коэффициент корреляции\n",
    "data_x360['user_score'].corr(data_x360['total_sales'])"
   ]
  },
  {
   "cell_type": "markdown",
   "metadata": {},
   "source": [
    "Коэффициент корреляции слишком низкий, зависимости между продажами на платформе Х369 и отзывами пользователей нет"
   ]
  },
  {
   "cell_type": "code",
   "execution_count": 44,
   "metadata": {},
   "outputs": [
    {
     "data": {
      "image/png": "[encoded data removed]",
      "text/plain": [
       "<Figure size 864x432 with 1 Axes>"
      ]
     },
     "metadata": {
      "needs_background": "light"
     },
     "output_type": "display_data"
    }
   ],
   "source": [
    "#посмотрим диаграммы рассеяния влияния отзывов критиков на продажи\n",
    "plt.figure(figsize=(12,6))\n",
    "sns.scatterplot(x='critic_score', y='total_sales', data=data_x360, alpha=0.5)\n",
    "plt.title('corr_X360_users');"
   ]
  },
  {
   "cell_type": "code",
   "execution_count": 45,
   "metadata": {},
   "outputs": [
    {
     "data": {
      "text/plain": [
       "0.3602659026138049"
      ]
     },
     "execution_count": 45,
     "metadata": {},
     "output_type": "execute_result"
    }
   ],
   "source": [
    "#посчитаем коэффициент корреляции\n",
    "data_x360['critic_score'].corr(data_x360['total_sales'])"
   ]
  },
  {
   "cell_type": "markdown",
   "metadata": {},
   "source": [
    "Коэффициент корреляции маловат, чтобы говорить о наличии прямой зависимости "
   ]
  },
  {
   "cell_type": "markdown",
   "metadata": {},
   "source": [
    "Сходя из анализа корреляции можно сказать, что пользователи не обращают внимание на оценки платформы от других пользователей при покупке игры и совсем немного прислушиваются к отзывам критиков, но и они незначительно влияют на продажи."
   ]
  },
  {
   "cell_type": "markdown",
   "metadata": {},
   "source": [
    "<div class=\"alert alert-success\"; style=\"border-left: 7px solid green\">\n",
    "<h5> ✔️ <font color=\"green\">Комментарий ревьюера (зеленый)</font></h5>\n",
    "\n",
    "Вывод верный, не зря игры раздают блогерам на обзор бесплатно😉\n",
    "\n",
    "</div>"
   ]
  },
  {
   "cell_type": "markdown",
   "metadata": {},
   "source": [
    "Посмотрим на общее распределение игр по жанрам"
   ]
  },
  {
   "cell_type": "code",
   "execution_count": 46,
   "metadata": {},
   "outputs": [
    {
     "data": {
      "text/html": [
       "<div>\n",
       "<style scoped>\n",
       "    .dataframe tbody tr th:only-of-type {\n",
       "        vertical-align: middle;\n",
       "    }\n",
       "\n",
       "    .dataframe tbody tr th {\n",
       "        vertical-align: top;\n",
       "    }\n",
       "\n",
       "    .dataframe thead tr th {\n",
       "        text-align: left;\n",
       "    }\n",
       "\n",
       "    .dataframe thead tr:last-of-type th {\n",
       "        text-align: right;\n",
       "    }\n",
       "</style>\n",
       "<table border=\"1\" class=\"dataframe\">\n",
       "  <thead>\n",
       "    <tr>\n",
       "      <th></th>\n",
       "      <th>sum</th>\n",
       "    </tr>\n",
       "    <tr>\n",
       "      <th></th>\n",
       "      <th>total_sales</th>\n",
       "    </tr>\n",
       "    <tr>\n",
       "      <th>genre</th>\n",
       "      <th></th>\n",
       "    </tr>\n",
       "  </thead>\n",
       "  <tbody>\n",
       "    <tr>\n",
       "      <th>Action</th>\n",
       "      <td>446.41</td>\n",
       "    </tr>\n",
       "    <tr>\n",
       "      <th>Shooter</th>\n",
       "      <td>304.75</td>\n",
       "    </tr>\n",
       "    <tr>\n",
       "      <th>Role-Playing</th>\n",
       "      <td>192.80</td>\n",
       "    </tr>\n",
       "    <tr>\n",
       "      <th>Sports</th>\n",
       "      <td>181.07</td>\n",
       "    </tr>\n",
       "    <tr>\n",
       "      <th>Misc</th>\n",
       "      <td>85.28</td>\n",
       "    </tr>\n",
       "    <tr>\n",
       "      <th>Platform</th>\n",
       "      <td>61.00</td>\n",
       "    </tr>\n",
       "    <tr>\n",
       "      <th>Racing</th>\n",
       "      <td>53.50</td>\n",
       "    </tr>\n",
       "    <tr>\n",
       "      <th>Fighting</th>\n",
       "      <td>44.49</td>\n",
       "    </tr>\n",
       "    <tr>\n",
       "      <th>Simulation</th>\n",
       "      <td>35.12</td>\n",
       "    </tr>\n",
       "    <tr>\n",
       "      <th>Adventure</th>\n",
       "      <td>29.43</td>\n",
       "    </tr>\n",
       "    <tr>\n",
       "      <th>Strategy</th>\n",
       "      <td>13.34</td>\n",
       "    </tr>\n",
       "    <tr>\n",
       "      <th>Puzzle</th>\n",
       "      <td>4.89</td>\n",
       "    </tr>\n",
       "  </tbody>\n",
       "</table>\n",
       "</div>"
      ],
      "text/plain": [
       "                     sum\n",
       "             total_sales\n",
       "genre                   \n",
       "Action            446.41\n",
       "Shooter           304.75\n",
       "Role-Playing      192.80\n",
       "Sports            181.07\n",
       "Misc               85.28\n",
       "Platform           61.00\n",
       "Racing             53.50\n",
       "Fighting           44.49\n",
       "Simulation         35.12\n",
       "Adventure          29.43\n",
       "Strategy           13.34\n",
       "Puzzle              4.89"
      ]
     },
     "execution_count": 46,
     "metadata": {},
     "output_type": "execute_result"
    }
   ],
   "source": [
    "data_genre = actual_data.pivot_table(index = ['genre'], values = ['total_sales'],aggfunc =  ['sum']).sort_values(\n",
    "    ('sum', 'total_sales'), ascending=False)\n",
    "data_genre"
   ]
  },
  {
   "cell_type": "code",
   "execution_count": 47,
   "metadata": {},
   "outputs": [
    {
     "data": {
      "image/png": "[encoded data removed]",
      "text/plain": [
       "<Figure size 864x576 with 1 Axes>"
      ]
     },
     "metadata": {
      "needs_background": "light"
     },
     "output_type": "display_data"
    }
   ],
   "source": [
    "actual_data.boxplot(column = ['total_sales'],by = ['genre'],figsize=(12, 8))\n",
    "plt.ylim([0, 6])\n",
    "plt.xlabel('Жанры игр')\n",
    "plt.ylabel('Продажи');"
   ]
  },
  {
   "cell_type": "markdown",
   "metadata": {},
   "source": [
    "<div class=\"alert alert-success\"; style=\"border-left: 7px solid green\">\n",
    "<h5> ✔️ <font color=\"green\">Комментарий ревьюера (зеленый)</font></h5>\n",
    "\n",
    "Верно, хороший и подробный вывод 😃\n",
    "\n",
    "</div>"
   ]
  },
  {
   "cell_type": "markdown",
   "metadata": {},
   "source": [
    "В жанре Action много выбросов (очень прибыльных игр)и из-за этого общая прибыль по жанру Action выше остальных. Но медианное значение продаж выше в жанре Shooter. Второе место по медианным продажам принадлежит Platform, а третье место делят и Sports и Fighting."
   ]
  },
  {
   "cell_type": "markdown",
   "metadata": {},
   "source": [
    "**Вывод по исследовательскому анализу**\n",
    "Количество игр на игровые приставки и компьютеры начало расти с большой скоростью с 90х годов до 2008 года. С 2008 года, после того как массово начали создавать мобильные приложения и мобильные игры, произошел резкий спад разработок игр на игровые платформы. По этой причине, мы выбрали актуальный период для исследования с 2009 года.\n",
    "Самые популярные игровые платформы за весь период : PS2, X360, PS3, Wii, DS, PS. \n",
    "В среднем продолжительно жизненного цикла игровой платформы равна 10 годам. Пик продаж наступает примерно через 5 лет после выхода приставки.\n",
    "В 2016 году продажи на большинстве платформах стремятся к низким значениям, но есть две самые молодые (XOne и PS4), на которых в настоящий момент хорошие показатели, хотя они и идут на спад.\n",
    "Больше всего за актуальный период было продано игр на Sony Playstation и Xbox 360.\n",
    "У анализируемых нами платформ наблюдается не сильная взаимосвязь между продажами и оценками критиков. Пользовательские же оценки почти не коррелируются с продажами. Это значит, что для людей мнение критиков важнее мнения других пользователей.\n",
    "Самый популярный жанр последних лет : 'Action'"
   ]
  },
  {
   "cell_type": "markdown",
   "metadata": {},
   "source": [
    "**Составим портрет пользователя каждого региона**"
   ]
  },
  {
   "cell_type": "markdown",
   "metadata": {},
   "source": [
    "Сгруппируем платформы по регионам пользования и выведем топ-5 самых популярных"
   ]
  },
  {
   "cell_type": "code",
   "execution_count": 48,
   "metadata": {},
   "outputs": [
    {
     "data": {
      "image/png": "[encoded data removed]",
      "text/plain": [
       "<Figure size 360x360 with 1 Axes>"
      ]
     },
     "metadata": {},
     "output_type": "display_data"
    },
    {
     "data": {
      "image/png": "[encoded data removed]",
      "text/plain": [
       "<Figure size 360x360 with 1 Axes>"
      ]
     },
     "metadata": {},
     "output_type": "display_data"
    },
    {
     "data": {
      "image/png": "[encoded data removed]",
      "text/plain": [
       "<Figure size 360x360 with 1 Axes>"
      ]
     },
     "metadata": {},
     "output_type": "display_data"
    }
   ],
   "source": [
    "data_jp_sales= actual_data.pivot_table(index= 'platform', values='jp_sales', aggfunc='sum')\\\n",
    ".sort_values(by='jp_sales', ascending=False).head(5)\n",
    "data_jp_sales.plot(y='jp_sales', kind='pie', figsize=(5, 5),\\\n",
    "                   title = 'топ-5 Популярных платформ в Японии', autopct = '%1.0f%%');\n",
    "data_jp_sales= actual_data.pivot_table(index= 'platform', values='eu_sales', aggfunc='sum')\\\n",
    ".sort_values(by='eu_sales', ascending=False).head(5)\n",
    "data_jp_sales.plot(y='eu_sales', kind='pie', figsize=(5, 5),\\\n",
    "                   title = 'топ-5 Популярных платформ в Европе', autopct = '%1.0f%%');\n",
    "data_jp_sales= actual_data.pivot_table(index= 'platform', values='na_sales', aggfunc='sum')\\\n",
    ".sort_values(by='na_sales', ascending=False).head(5)\n",
    "data_jp_sales.plot(y='na_sales', kind='pie', figsize=(5, 5),\\\n",
    "                   title = 'топ-5 Популярных платформ в США', autopct = '%1.0f%%');"
   ]
  },
  {
   "cell_type": "markdown",
   "metadata": {},
   "source": [
    "<div class=\"alert alert-danger\"; style=\"border-left: 7px solid FireBrick\">\n",
    "<h5> ❌ <font color=\"FireBrick\">Комментарий ревьюера (красный)</font></h5>\n",
    "\n",
    "1. Построй, пожалуйста, круговые диаграммы, чтобы было проще сравнивать доли в разных странах.\n",
    "\n",
    "2. (По желанию) можно выделить все, что не входит в топ-5 в категорию «Другие», чтобы было проще сравнивать.\n",
    "\n",
    "3. (По желанию) можно для наглядности построить графики рядом с помощью subplots.\n",
    "    \n",
    "Поправь, пожалуйста, тут и на всех подобных графиках ниже.\n",
    "\n",
    "</div>"
   ]
  },
  {
   "cell_type": "markdown",
   "metadata": {},
   "source": [
    "<div class=\"alert alert-info\"; style=\"border-left: 7px solid SteelBlue\">\n",
    "<h5>🎓 <font color=\"SteelBlue\">Комментарий от студента (синий)</font></h5>    \n",
    "\n",
    "Построила круговые диаграммы\n",
    "\n",
    "</div>"
   ]
  },
  {
   "cell_type": "markdown",
   "metadata": {},
   "source": [
    "<div class=\"alert alert-success\"; style=\"border-left: 7px solid green\">\n",
    "<h5> ✔️ <font color=\"green\">v2 Комментарий ревьюера (зеленый)</font></h5>\n",
    "\n",
    "✅ Красивые графики, сравнение верное, выводы соответствуют графикам. 👍\n",
    " \n",
    "</div>"
   ]
  },
  {
   "cell_type": "markdown",
   "metadata": {},
   "source": [
    "У пользователей Северной Америки и Европы предпочтение схожие - в топ-5 платформ попали X360, PS3,PS4, XOne и 3DS. В Японии самыми популярными оказались платформы Nintendo  3DS, PS3, PS4, PSV и WiiU"
   ]
  },
  {
   "cell_type": "markdown",
   "metadata": {},
   "source": [
    "Самые популярные жанры (топ-5)"
   ]
  },
  {
   "cell_type": "code",
   "execution_count": 49,
   "metadata": {},
   "outputs": [
    {
     "data": {
      "image/png": "[encoded data removed]",
      "text/plain": [
       "<Figure size 360x360 with 1 Axes>"
      ]
     },
     "metadata": {},
     "output_type": "display_data"
    },
    {
     "data": {
      "image/png": "[encoded data removed]",
      "text/plain": [
       "<Figure size 360x360 with 1 Axes>"
      ]
     },
     "metadata": {},
     "output_type": "display_data"
    },
    {
     "data": {
      "image/png": "[encoded data removed]",
      "text/plain": [
       "<Figure size 360x360 with 1 Axes>"
      ]
     },
     "metadata": {},
     "output_type": "display_data"
    }
   ],
   "source": [
    "data_jp_sales= actual_data.pivot_table(index= 'genre', values='jp_sales', aggfunc='sum')\\\n",
    ".sort_values(by='jp_sales', ascending=False).head(5)\n",
    "data_jp_sales.plot(y='jp_sales', kind='pie', figsize=(5, 5),\\\n",
    "                   title = 'топ-5 Популярных жанров в Японии', autopct = '%1.0f%%');\n",
    "data_jp_sales= actual_data.pivot_table(index= 'genre', values='eu_sales', aggfunc='sum')\\\n",
    ".sort_values(by='eu_sales', ascending=False).head(5)\n",
    "data_jp_sales.plot(y='eu_sales', kind='pie', figsize=(5, 5),\\\n",
    "                   title = 'топ-5 Популярных жанров в Европе', autopct = '%1.0f%%');\n",
    "data_jp_sales= actual_data.pivot_table(index= 'genre', values='na_sales', aggfunc='sum')\\\n",
    ".sort_values(by='na_sales', ascending=False).head(5)\n",
    "data_jp_sales.plot(y='na_sales', kind='pie', figsize=(5, 5),\\\n",
    "                   title = 'топ-5 Популярных жанров в США', autopct = '%1.0f%%');"
   ]
  },
  {
   "cell_type": "markdown",
   "metadata": {},
   "source": [
    "Вывод: Среди пользователей Северной Америки и Европы ситуация абсолютно идентична в плане популярности жанров, самый популярный жанр- Action далее Shooter, Sports, Role-Playint соответственно, отличается только 5е место в США это - Misc, а в Европе - Racing. В Японии ситуация иная, пользователи предпочитают больше жанр Role-PLaying, на втором месте Action, далее идут: Misc, Simulation, Fighting - соответсвенно. Первое и второе место в топе забирают на себя долю более 60% во всех сртанах."
   ]
  },
  {
   "cell_type": "markdown",
   "metadata": {},
   "source": [
    "Влияние рейтинга ESRB на продажи в отдельном регионе"
   ]
  },
  {
   "cell_type": "code",
   "execution_count": 50,
   "metadata": {},
   "outputs": [
    {
     "data": {
      "image/png": "[encoded data removed]",
      "text/plain": [
       "<Figure size 360x360 with 1 Axes>"
      ]
     },
     "metadata": {},
     "output_type": "display_data"
    },
    {
     "data": {
      "image/png": "[encoded data removed]",
      "text/plain": [
       "<Figure size 360x360 with 1 Axes>"
      ]
     },
     "metadata": {},
     "output_type": "display_data"
    },
    {
     "data": {
      "image/png": "[encoded data removed]",
      "text/plain": [
       "<Figure size 360x360 with 1 Axes>"
      ]
     },
     "metadata": {},
     "output_type": "display_data"
    }
   ],
   "source": [
    "data_jp_sales= actual_data.pivot_table(index= 'rating', values='jp_sales', aggfunc='sum')\\\n",
    ".sort_values(by='jp_sales', ascending=False).head(5)\n",
    "data_jp_sales.plot(y='jp_sales', kind='pie', figsize=(5, 5),\\\n",
    "                   title = 'Рейтинг в Японии', autopct = '%1.0f%%');\n",
    "data_jp_sales= actual_data.pivot_table(index= 'rating', values='eu_sales', aggfunc='sum')\\\n",
    ".sort_values(by='eu_sales', ascending=False).head(5)\n",
    "data_jp_sales.plot(y='eu_sales', kind='pie', figsize=(5, 5),\\\n",
    "                   title = 'Рейтинг в Европе', autopct = '%1.0f%%');\n",
    "data_jp_sales= actual_data.pivot_table(index= 'rating', values='na_sales', aggfunc='sum')\\\n",
    ".sort_values(by='na_sales', ascending=False).head(5)\n",
    "data_jp_sales.plot(y='na_sales', kind='pie', figsize=(5, 5),\\\n",
    "                   title = 'Рейтинг в США', autopct = '%1.0f%%');"
   ]
  },
  {
   "cell_type": "markdown",
   "metadata": {},
   "source": [
    "<div class=\"alert alert-danger\"; style=\"border-left: 7px solid FireBrick\">\n",
    "<h5> ❌ <font color=\"FireBrick\">Комментарий ревьюера (красный)</font></h5>\n",
    "\n",
    "При данном способе подсчета игры без рейтинга оказываются полностью исключенными из анализа. Но продажи именно этих игр могут указать на ключевое различие в регионах.\n",
    "\n",
    "</div>"
   ]
  },
  {
   "cell_type": "markdown",
   "metadata": {},
   "source": [
    "<div class=\"alert alert-info\"; style=\"border-left: 7px solid SteelBlue\">\n",
    "<h5>🎓 <font color=\"SteelBlue\">Комментарий от студента (синий)</font></h5>    \n",
    "\n",
    "выше в проекте заменила пропуски в 'raiting', теперь игры без рейтинга учтены при анализе, картина и правда изменилась\n",
    "\n",
    "</div>"
   ]
  },
  {
   "cell_type": "markdown",
   "metadata": {},
   "source": [
    "<div class=\"alert alert-success\"; style=\"border-left: 7px solid green\">\n",
    "<h5> ✔️ <font color=\"green\">v2 Комментарий ревьюера (зеленый)</font></h5>\n",
    "\n",
    "✅ Очень красивое и наглядное сравнение 👍\n",
    " \n",
    "</div>"
   ]
  },
  {
   "cell_type": "markdown",
   "metadata": {},
   "source": [
    "Среди пользователей Северной Америки и Европы - самый популярный рейтинг М, то есть \"для взрослых\", далее по популярности рейтинг Е\"для всех\". В Японии ситуация иная, здесь самые популярные игры без рейтинга, возможно это связато с тем, что система рейтинга ESRB не оценивает игры японского производства, а как раз они большего всего пользуются спросом в этой стране."
   ]
  },
  {
   "cell_type": "markdown",
   "metadata": {},
   "source": [
    "**Проверка гипотез**"
   ]
  },
  {
   "cell_type": "markdown",
   "metadata": {},
   "source": [
    "Средние пользовательские рейтинги платформ Xbox One и PC одинаковые\n",
    "- Н0: Средний пользовательский рейтинг платформ Xbox One и PC одинаковый\n",
    "- H1: Средний пользовательский рейтинг платформ Xbox One и PC различается"
   ]
  },
  {
   "cell_type": "markdown",
   "metadata": {},
   "source": [
    "\n",
    "Так как наши выборки независимы между собой будем использовать t-критерий Стьюдента"
   ]
  },
  {
   "cell_type": "markdown",
   "metadata": {},
   "source": [
    "<div class=\"alert alert-success\"; style=\"border-left: 7px solid green\">\n",
    "<h5> ✔️ <font color=\"green\">Комментарий ревьюера (зеленый)</font></h5>\n",
    "\n",
    "Верно определена нулевая и альтернативная гипотезы, выбран правильный метод для проведения теста.\n",
    "\n",
    "</div>"
   ]
  },
  {
   "cell_type": "code",
   "execution_count": 51,
   "metadata": {},
   "outputs": [
    {
     "name": "stdout",
     "output_type": "stream",
     "text": [
      "p-значение: 0.6252774522173157\n",
      "Не получилось отвергнуть нулевую гипотезу\n",
      "Средний пользовательский рейтинг платформ Xbox One 6.52\n",
      "Средний пользовательский рейтинг платформ PC 6.45\n",
      "\n"
     ]
    }
   ],
   "source": [
    "alpha = 0.05\n",
    "results = st.ttest_ind(actual_data[(actual_data['platform'] == 'XOne')\\\n",
    "                                   & (actual_data['user_score'] > 0)]['user_score'],\\\n",
    "             actual_data[(actual_data['platform'] == 'PC') & (actual_data['user_score'] > 0)]['user_score'])\n",
    "\n",
    "print('p-значение:', results.pvalue)\n",
    "\n",
    "if (results.pvalue < alpha):\n",
    "    print(\"Отвергаем нулевую гипотезу\")\n",
    "else:\n",
    "    print(\"Не получилось отвергнуть нулевую гипотезу\")\n",
    "print('Средний пользовательский рейтинг платформ Xbox One',\\\n",
    "      round(actual_data.query('platform == \"XOne\"')['user_score'].mean(),2))\n",
    "print('Средний пользовательский рейтинг платформ PC',\\\n",
    "      round(actual_data.query('platform == \"PC\"')['user_score'].mean(),2))\n",
    "print()"
   ]
  },
  {
   "cell_type": "markdown",
   "metadata": {},
   "source": [
    "<div class=\"alert alert-danger\"; style=\"border-left: 7px solid FireBrick\">\n",
    "<h5> ❌ <font color=\"FireBrick\">Комментарий ревьюера (красный)</font></h5>\n",
    "\n",
    "Выведи, пожалуйста, средние значения выборок, которые сравниваешь тут и ниже.\n",
    "\n",
    "</div>"
   ]
  },
  {
   "cell_type": "markdown",
   "metadata": {},
   "source": [
    "<div class=\"alert alert-info\"; style=\"border-left: 7px solid SteelBlue\">\n",
    "<h5>🎓 <font color=\"SteelBlue\">Комментарий от студента (синий)</font></h5>    \n",
    "\n",
    "сделано\n",
    "\n",
    "</div>"
   ]
  },
  {
   "cell_type": "markdown",
   "metadata": {},
   "source": [
    "<div class=\"alert alert-success\"; style=\"border-left: 7px solid green\">\n",
    "<h5> ✔️ <font color=\"green\">v2 Комментарий ревьюера (зеленый)</font></h5>\n",
    "\n",
    "✅ Супер, видны средние значения последовательностей, которые сравниваем 👍\n",
    " \n",
    "</div>"
   ]
  },
  {
   "cell_type": "markdown",
   "metadata": {},
   "source": [
    "Вывод: нулевая гипотеза не отвергнута, а значит  Средние пользовательские рейтинги платформ Xbox One и PC одинаковые"
   ]
  },
  {
   "cell_type": "markdown",
   "metadata": {},
   "source": [
    "Средние пользовательские рейтинги жанров Action (англ. «действие», экшен-игры) и Sports (англ. «спортивные соревнования») разные."
   ]
  },
  {
   "cell_type": "markdown",
   "metadata": {},
   "source": [
    "Сформулируем нулевую и альтернативную гипотезы:\n",
    "\n",
    "H0: Средние пользовательские рейтинги жанров Action и Sports равны\n",
    "H1: Средние пользовательские рейтинги жанров Action и Sports различаются"
   ]
  },
  {
   "cell_type": "markdown",
   "metadata": {},
   "source": [
    "\n",
    "Так как наши выборки независимы между собой будем использовать t-критерий Стьюдента"
   ]
  },
  {
   "cell_type": "markdown",
   "metadata": {},
   "source": [
    "<div class=\"alert alert-success\"; style=\"border-left: 7px solid green\">\n",
    "<h5> ✔️ <font color=\"green\">Комментарий ревьюера (зеленый)</font></h5>\n",
    "\n",
    "Хорошо, что убраны пустые значения.\n",
    "\n",
    "</div>"
   ]
  },
  {
   "cell_type": "code",
   "execution_count": 52,
   "metadata": {},
   "outputs": [
    {
     "name": "stdout",
     "output_type": "stream",
     "text": [
      "p-значение: 1.1405639632267916e-26\n",
      "Отвергаем нулевую гипотезу\n",
      "Средний пользовательский рейтинг жанра экшен 6.83\n",
      "Средний пользовательский рейтинг жанра спортивных игр 5.46\n",
      "\n"
     ]
    }
   ],
   "source": [
    "alpha = 0.05\n",
    "results = st.ttest_ind(actual_data[(actual_data['genre'] == 'Action') \\\n",
    "                                   &(actual_data['user_score'] > 0)]['user_score'], \\\n",
    "                       actual_data[(actual_data['genre'] == 'Sports') &(actual_data['user_score'] > 0)]['user_score'])\n",
    "\n",
    "print('p-значение:', results.pvalue)\n",
    "\n",
    "if (results.pvalue < alpha):\n",
    "    print(\"Отвергаем нулевую гипотезу\")\n",
    "else:\n",
    "    print(\"Не получилось отвергнуть нулевую гипотезу\")\n",
    "\n",
    "print('Средний пользовательский рейтинг жанра экшен',\\\n",
    "      round(actual_data.query('genre == \"Action\"')['user_score'].mean(),2))\n",
    "print('Средний пользовательский рейтинг жанра спортивных игр', \\\n",
    "      round(actual_data.query('genre == \"Sports\"')['user_score'].mean(),2))\n",
    "print()"
   ]
  },
  {
   "cell_type": "markdown",
   "metadata": {},
   "source": [
    "мы отвергли Нулевую гипотезу. Таким образом, у нас практически нет вероятности получить одинакове средние рейнтинги по двум жанрам."
   ]
  },
  {
   "cell_type": "markdown",
   "metadata": {},
   "source": [
    "**Общий вывод**\n",
    "\n",
    "В ходе предобработки данных мы:\n",
    "- Привели названия столбцов к нижнему регистру\n",
    "- Удалили пропуски в столбцах name и genre\n",
    "- Преобразовали данные столбца year_of_release к типу int и сократили количество пропусков вдвое\n",
    "- Преобразовали данные столбца user_score к типу float и обработали пропуски\n",
    "- В столбце rating заменили пропуски на 0\n",
    "- Посчитали и Добавили суммарные продажи во всех регионах в отдельный столбец\n",
    "\n",
    "В ходе исследования, мы определили, что с 1980 года по 1993 сфера игр и платформ особо не развивалась, но после 1990 года сфера начала стабильно набирать обороты, возможно были введены новые технологии или принципы. Также выяснили, что платформами с наибольшими суммарными продажами являются - PS2, X360, PS3, Wii, DS, PS, а жизненный цикл каждой равен примерно 10ти годам. Самые успешными платформами на период 2016 года являются  PS4 и XOne.\n",
    "\n",
    "Определили актуальный период для аналитики начиная с 2012 года.\n",
    "\n",
    "Исследуя зависимость продаж от оценок пользователей и критиков мы выяснили, что оценки пользователей не влияют на продажи, в отличие от оценок критиков, но и с оценками критиков корреляция не сильно большая. Самым прибыльным жанром является Action, но по медианным значениям, лидирующие позиции занимают жанры Shooter, затем Platform и третье место Sports.\n",
    "\n",
    "У пользователей Северной Америки и Европы предпочтение схожие - в топ-5 платформ попали X360, PS3,PS4, XOne и 3DS. В Японии самыми популярными оказались платформы Nintendo 3DS, PS3, PS4, PSV и WiiU. \n",
    "В хоже проекта мы составили портреты пользователей по предпочтениям в США, Японии и Европе.\n",
    "\n",
    "В плане популярности жанров среди пользователей Северной Америки и Европы ситуация абсолютно идентична , самый популярный жанр- Action далее Shooter, Sports, Role-Playint соответственно, отличается только 5е место в США это - Misc, а в Европе - Racing. В Японии ситуация иная, пользователи предпочитают больше жанр Role-PLaying, на втором месте Action, далее идут: Misc, Simulation, Fighting - соответсвенно. Первое и второе место в топе забирают на себя долю более 60% во всех сртанах.\n",
    "\n",
    "Самый популярный рейтинг среди пользователей Северной Америки и Европы -  М, то есть \"для взрослых\", далее по популярности рейтинг Е\"для всех\". В Японии ситуация иная, здесь самые популярные игры без рейтинга, возможно это связато с тем, что система рейтинга ESRB не оценивает игры японского производства, а как раз они большего всего пользуются спросом в этой стране.\n",
    "\n",
    "Исходя из составления портретов, можно сказать, что различие между рынокм США и Европейским - совсем не существенно, предпочтения на этих рынках пратически идентичны, выделяется только Японский рынок.\n",
    "Также в ходе исследования были проверены 2 гипотезы:\n",
    "- Средние пользовательские рейтинги платформ Xbox One и PC одинаковые- эту гипотезу у нас отвергнуть не получилось \n",
    "- Средние пользовательские рейтинги жанров Action и Sports разные- эту гипотезу мы отвергли, таким образом, у нас практически нет вероятности получить одинакове средние рейнтинги по двум жанрам.\n",
    "\n",
    "Рекомендации для бизнеса:\n",
    "- Если хотим успешных продаж в Европе и Америке - выбираем игры в жанре Action, Shooter, Sports с рейтингом М на платформах PS4 или XOne. В Японии не стоит избегать игр без рейтинга, они занимают самую большую долю их рынка. Самые перспективные платформы - PS4 и XOne."
   ]
  },
  {
   "cell_type": "markdown",
   "metadata": {},
   "source": [
    "<div class=\"alert alert-warning\"; style=\"border-left: 7px solid Gold\">\n",
    "<h5> ⚠️ <font color=\"DarkGoldenRod\">Комментарий ревьюера (желтый)</font></h5>\n",
    "\n",
    "Спасибо, очень хороший и подробный общий вывод, которые содержит все промежуточные результаты, добавлю несколько общих рекомендаций)\n",
    "    \n",
    "В общем выводе хочется тезисно видеть все промежуточные выводы с цифрами. Это очень важно, поскольку топ-менеджеры, в большинстве своем, смотрят сразу сюда и только сюда...\n",
    "\n",
    "Тут важно обратиться к целям, которые были озвучены в самом начале и ответить на все вопросы. Важно оформить все тезисно и с цифрами. Еще важно описать все промежуточные выводы, которых не прописано в целях.\n",
    "Вкратце структура такая:\n",
    "- как были предобработаны данные(тут важно написать про изменения, если заполнялись пропуски или преобразовывались строки)\n",
    "- пройдись по целям и ответь на вопросы\n",
    "- добавь промежуточные выводы, которые считаешь нужным отметить\n",
    "\n",
    "Еще очень важно помнить, для кого ты делаешь проект, в зависимости от этого нужно сделать определенные акценты. В данном случае проект учебный, поэтому нужно ориентироваться по описанию.\n",
    "\n",
    "Для красивого оформления можешь воспользоваться [Кратким руководством по Маркдауну](https://paulradzkov.com/2014/markdown_cheatsheet/).\n",
    "\n",
    "</div>"
   ]
  }
 ],
 "metadata": {
  "ExecuteTimeLog": [
   {
    "duration": 43,
    "start_time": "2023-10-29T15:11:49.925Z"
   },
   {
    "duration": 1244,
    "start_time": "2023-10-29T15:11:58.025Z"
   },
   {
    "duration": 96,
    "start_time": "2023-10-29T15:11:59.271Z"
   },
   {
    "duration": 22,
    "start_time": "2023-10-29T15:12:12.193Z"
   },
   {
    "duration": 16,
    "start_time": "2023-10-29T15:12:19.302Z"
   },
   {
    "duration": 126,
    "start_time": "2023-10-29T15:14:12.140Z"
   },
   {
    "duration": 8,
    "start_time": "2023-10-29T15:14:25.701Z"
   },
   {
    "duration": 10,
    "start_time": "2023-10-29T15:14:49.652Z"
   },
   {
    "duration": 4,
    "start_time": "2023-10-29T15:15:24.965Z"
   },
   {
    "duration": 23,
    "start_time": "2023-10-29T15:15:28.136Z"
   },
   {
    "duration": 36,
    "start_time": "2023-10-29T15:18:51.289Z"
   },
   {
    "duration": 82,
    "start_time": "2023-10-29T15:19:04.229Z"
   },
   {
    "duration": 1378,
    "start_time": "2023-10-29T15:24:41.418Z"
   },
   {
    "duration": 1307,
    "start_time": "2023-10-29T15:25:07.673Z"
   },
   {
    "duration": 1143,
    "start_time": "2023-10-29T15:25:22.053Z"
   },
   {
    "duration": 67,
    "start_time": "2023-10-29T15:25:23.197Z"
   },
   {
    "duration": 19,
    "start_time": "2023-10-29T15:25:23.265Z"
   },
   {
    "duration": 2,
    "start_time": "2023-10-29T15:25:23.285Z"
   },
   {
    "duration": 106,
    "start_time": "2023-10-29T15:25:23.289Z"
   },
   {
    "duration": 28,
    "start_time": "2023-10-29T15:25:29.675Z"
   },
   {
    "duration": 6,
    "start_time": "2023-10-29T15:26:30.169Z"
   },
   {
    "duration": 24,
    "start_time": "2023-10-29T15:26:43.390Z"
   },
   {
    "duration": 43,
    "start_time": "2023-10-29T15:27:04.027Z"
   },
   {
    "duration": 44,
    "start_time": "2023-10-29T15:27:09.119Z"
   },
   {
    "duration": 12,
    "start_time": "2023-10-29T15:29:19.778Z"
   },
   {
    "duration": 17,
    "start_time": "2023-10-29T15:30:01.885Z"
   },
   {
    "duration": 31,
    "start_time": "2023-10-29T15:32:28.139Z"
   },
   {
    "duration": 1072,
    "start_time": "2023-10-29T15:32:36.207Z"
   },
   {
    "duration": 70,
    "start_time": "2023-10-29T15:32:37.281Z"
   },
   {
    "duration": 20,
    "start_time": "2023-10-29T15:32:37.360Z"
   },
   {
    "duration": 3,
    "start_time": "2023-10-29T15:32:37.381Z"
   },
   {
    "duration": 21,
    "start_time": "2023-10-29T15:32:37.385Z"
   },
   {
    "duration": 18,
    "start_time": "2023-10-29T15:32:37.407Z"
   },
   {
    "duration": 4,
    "start_time": "2023-10-29T15:36:46.046Z"
   },
   {
    "duration": 16,
    "start_time": "2023-10-29T15:37:44.001Z"
   },
   {
    "duration": 112,
    "start_time": "2023-10-29T15:38:24.685Z"
   },
   {
    "duration": 1319,
    "start_time": "2023-10-30T09:26:58.198Z"
   },
   {
    "duration": 95,
    "start_time": "2023-10-30T09:26:59.519Z"
   },
   {
    "duration": 14,
    "start_time": "2023-10-30T09:26:59.616Z"
   },
   {
    "duration": 69,
    "start_time": "2023-10-30T09:26:59.632Z"
   },
   {
    "duration": 3,
    "start_time": "2023-10-30T09:26:59.702Z"
   },
   {
    "duration": 18,
    "start_time": "2023-10-30T09:26:59.707Z"
   },
   {
    "duration": 113,
    "start_time": "2023-10-30T09:26:59.727Z"
   },
   {
    "duration": 7,
    "start_time": "2023-10-30T09:35:10.237Z"
   },
   {
    "duration": 34,
    "start_time": "2023-10-30T09:43:53.979Z"
   },
   {
    "duration": 9,
    "start_time": "2023-10-30T09:44:58.665Z"
   },
   {
    "duration": 9,
    "start_time": "2023-10-30T09:45:24.940Z"
   },
   {
    "duration": 11,
    "start_time": "2023-10-30T09:45:55.541Z"
   },
   {
    "duration": 6,
    "start_time": "2023-10-30T10:05:31.316Z"
   },
   {
    "duration": 22,
    "start_time": "2023-10-30T10:07:33.108Z"
   },
   {
    "duration": 16,
    "start_time": "2023-10-30T10:12:00.139Z"
   },
   {
    "duration": 15,
    "start_time": "2023-10-30T10:12:54.013Z"
   },
   {
    "duration": 22,
    "start_time": "2023-10-30T10:12:57.381Z"
   },
   {
    "duration": 5,
    "start_time": "2023-10-30T10:15:43.602Z"
   },
   {
    "duration": 14,
    "start_time": "2023-10-30T10:16:55.525Z"
   },
   {
    "duration": 413,
    "start_time": "2023-10-30T10:17:06.208Z"
   },
   {
    "duration": 10,
    "start_time": "2023-10-30T10:17:35.333Z"
   },
   {
    "duration": 5,
    "start_time": "2023-10-30T10:17:39.871Z"
   },
   {
    "duration": 14,
    "start_time": "2023-10-30T10:20:07.410Z"
   },
   {
    "duration": 13,
    "start_time": "2023-10-30T10:20:52.662Z"
   },
   {
    "duration": 14,
    "start_time": "2023-10-30T10:21:06.424Z"
   },
   {
    "duration": 22,
    "start_time": "2023-10-30T10:21:17.168Z"
   },
   {
    "duration": 7,
    "start_time": "2023-10-30T10:24:22.527Z"
   },
   {
    "duration": 6,
    "start_time": "2023-10-30T10:26:39.062Z"
   },
   {
    "duration": 7,
    "start_time": "2023-10-30T10:26:59.485Z"
   },
   {
    "duration": 13,
    "start_time": "2023-10-30T10:27:04.887Z"
   },
   {
    "duration": 5,
    "start_time": "2023-10-30T10:27:07.026Z"
   },
   {
    "duration": 14,
    "start_time": "2023-10-30T10:27:15.056Z"
   },
   {
    "duration": 13,
    "start_time": "2023-10-30T10:27:28.275Z"
   },
   {
    "duration": 7,
    "start_time": "2023-10-30T10:31:56.491Z"
   },
   {
    "duration": 5,
    "start_time": "2023-10-30T10:32:25.535Z"
   },
   {
    "duration": 9,
    "start_time": "2023-10-30T10:32:52.663Z"
   },
   {
    "duration": 8,
    "start_time": "2023-10-30T10:36:56.466Z"
   },
   {
    "duration": 17,
    "start_time": "2023-10-30T10:37:00.411Z"
   },
   {
    "duration": 1153,
    "start_time": "2023-10-30T10:38:05.374Z"
   },
   {
    "duration": 58,
    "start_time": "2023-10-30T10:38:06.529Z"
   },
   {
    "duration": 15,
    "start_time": "2023-10-30T10:38:06.588Z"
   },
   {
    "duration": 30,
    "start_time": "2023-10-30T10:38:06.606Z"
   },
   {
    "duration": 9,
    "start_time": "2023-10-30T10:38:06.637Z"
   },
   {
    "duration": 36,
    "start_time": "2023-10-30T10:38:06.649Z"
   },
   {
    "duration": 26,
    "start_time": "2023-10-30T10:38:06.686Z"
   },
   {
    "duration": 21,
    "start_time": "2023-10-30T10:38:06.714Z"
   },
   {
    "duration": 31,
    "start_time": "2023-10-30T10:38:06.737Z"
   },
   {
    "duration": 16,
    "start_time": "2023-10-30T10:38:06.771Z"
   },
   {
    "duration": 35,
    "start_time": "2023-10-30T10:38:06.789Z"
   },
   {
    "duration": 15,
    "start_time": "2023-10-30T10:38:06.826Z"
   },
   {
    "duration": 425,
    "start_time": "2023-10-30T10:38:06.843Z"
   },
   {
    "duration": 5,
    "start_time": "2023-10-30T10:38:07.270Z"
   },
   {
    "duration": 31,
    "start_time": "2023-10-30T10:38:07.276Z"
   },
   {
    "duration": 59,
    "start_time": "2023-10-30T10:38:07.309Z"
   },
   {
    "duration": 20,
    "start_time": "2023-10-30T10:38:07.370Z"
   },
   {
    "duration": 15,
    "start_time": "2023-10-30T10:38:07.391Z"
   },
   {
    "duration": 27,
    "start_time": "2023-10-30T10:38:07.407Z"
   },
   {
    "duration": 21,
    "start_time": "2023-10-30T10:41:17.578Z"
   },
   {
    "duration": 6,
    "start_time": "2023-10-30T10:41:51.983Z"
   },
   {
    "duration": 4,
    "start_time": "2023-10-30T10:43:04.425Z"
   },
   {
    "duration": 15,
    "start_time": "2023-10-30T10:43:56.448Z"
   },
   {
    "duration": 5,
    "start_time": "2023-10-30T10:44:39.349Z"
   },
   {
    "duration": 1161,
    "start_time": "2023-10-30T10:44:45.518Z"
   },
   {
    "duration": 55,
    "start_time": "2023-10-30T10:44:46.680Z"
   },
   {
    "duration": 14,
    "start_time": "2023-10-30T10:44:46.737Z"
   },
   {
    "duration": 47,
    "start_time": "2023-10-30T10:44:46.753Z"
   },
   {
    "duration": 31,
    "start_time": "2023-10-30T10:44:46.802Z"
   },
   {
    "duration": 44,
    "start_time": "2023-10-30T10:44:46.835Z"
   },
   {
    "duration": 68,
    "start_time": "2023-10-30T10:44:46.881Z"
   },
   {
    "duration": 47,
    "start_time": "2023-10-30T10:44:46.951Z"
   },
   {
    "duration": 23,
    "start_time": "2023-10-30T10:44:47.000Z"
   },
   {
    "duration": 18,
    "start_time": "2023-10-30T10:44:47.026Z"
   },
   {
    "duration": 51,
    "start_time": "2023-10-30T10:44:47.046Z"
   },
   {
    "duration": 20,
    "start_time": "2023-10-30T10:44:47.098Z"
   },
   {
    "duration": 374,
    "start_time": "2023-10-30T10:44:47.119Z"
   },
   {
    "duration": 4,
    "start_time": "2023-10-30T10:44:47.495Z"
   },
   {
    "duration": 16,
    "start_time": "2023-10-30T10:44:47.500Z"
   },
   {
    "duration": 23,
    "start_time": "2023-10-30T10:44:47.518Z"
   },
   {
    "duration": 34,
    "start_time": "2023-10-30T10:44:47.543Z"
   },
   {
    "duration": 11,
    "start_time": "2023-10-30T10:44:47.579Z"
   },
   {
    "duration": 13,
    "start_time": "2023-10-30T10:44:47.592Z"
   },
   {
    "duration": 17,
    "start_time": "2023-10-30T10:44:47.607Z"
   },
   {
    "duration": 11,
    "start_time": "2023-10-30T10:44:47.626Z"
   },
   {
    "duration": 24,
    "start_time": "2023-10-30T10:44:53.732Z"
   },
   {
    "duration": 6,
    "start_time": "2023-10-30T11:15:45.667Z"
   },
   {
    "duration": 102,
    "start_time": "2023-10-30T11:32:39.884Z"
   },
   {
    "duration": 9,
    "start_time": "2023-10-30T11:32:47.762Z"
   },
   {
    "duration": 236,
    "start_time": "2023-10-30T11:33:33.648Z"
   },
   {
    "duration": 215,
    "start_time": "2023-10-30T11:33:40.131Z"
   },
   {
    "duration": 48,
    "start_time": "2023-10-30T14:45:17.737Z"
   },
   {
    "duration": 1449,
    "start_time": "2023-10-30T14:45:49.989Z"
   },
   {
    "duration": 101,
    "start_time": "2023-10-30T14:45:51.439Z"
   },
   {
    "duration": 17,
    "start_time": "2023-10-30T14:45:51.542Z"
   },
   {
    "duration": 31,
    "start_time": "2023-10-30T14:45:51.562Z"
   },
   {
    "duration": 23,
    "start_time": "2023-10-30T14:45:51.595Z"
   },
   {
    "duration": 13,
    "start_time": "2023-10-30T14:45:51.620Z"
   },
   {
    "duration": 15,
    "start_time": "2023-10-30T14:45:51.635Z"
   },
   {
    "duration": 25,
    "start_time": "2023-10-30T14:45:51.651Z"
   },
   {
    "duration": 10,
    "start_time": "2023-10-30T14:45:51.678Z"
   },
   {
    "duration": 12,
    "start_time": "2023-10-30T14:45:51.690Z"
   },
   {
    "duration": 43,
    "start_time": "2023-10-30T14:45:51.704Z"
   },
   {
    "duration": 18,
    "start_time": "2023-10-30T14:45:51.748Z"
   },
   {
    "duration": 379,
    "start_time": "2023-10-30T14:45:51.767Z"
   },
   {
    "duration": 4,
    "start_time": "2023-10-30T14:45:52.148Z"
   },
   {
    "duration": 28,
    "start_time": "2023-10-30T14:45:52.154Z"
   },
   {
    "duration": 60,
    "start_time": "2023-10-30T14:45:52.184Z"
   },
   {
    "duration": 34,
    "start_time": "2023-10-30T14:45:52.246Z"
   },
   {
    "duration": 10,
    "start_time": "2023-10-30T14:45:52.282Z"
   },
   {
    "duration": 25,
    "start_time": "2023-10-30T14:45:52.294Z"
   },
   {
    "duration": 17,
    "start_time": "2023-10-30T14:45:52.321Z"
   },
   {
    "duration": 52,
    "start_time": "2023-10-30T14:45:52.339Z"
   },
   {
    "duration": 35,
    "start_time": "2023-10-30T14:45:52.393Z"
   },
   {
    "duration": 224,
    "start_time": "2023-10-30T14:45:52.430Z"
   },
   {
    "duration": 7,
    "start_time": "2023-10-30T14:55:38.766Z"
   },
   {
    "duration": 228,
    "start_time": "2023-10-30T14:56:55.797Z"
   },
   {
    "duration": 104,
    "start_time": "2023-10-30T14:57:33.497Z"
   },
   {
    "duration": 10,
    "start_time": "2023-10-30T14:57:44.362Z"
   },
   {
    "duration": 15,
    "start_time": "2023-10-30T14:58:19.909Z"
   },
   {
    "duration": 12,
    "start_time": "2023-10-30T14:59:00.550Z"
   },
   {
    "duration": 8,
    "start_time": "2023-10-30T14:59:04.250Z"
   },
   {
    "duration": 368,
    "start_time": "2023-10-30T15:00:18.897Z"
   },
   {
    "duration": 359,
    "start_time": "2023-10-30T15:00:24.754Z"
   },
   {
    "duration": 18,
    "start_time": "2023-10-30T15:03:24.059Z"
   },
   {
    "duration": 391,
    "start_time": "2023-10-30T15:03:28.532Z"
   },
   {
    "duration": 20,
    "start_time": "2023-10-30T15:03:33.939Z"
   },
   {
    "duration": 468,
    "start_time": "2023-10-30T15:03:38.448Z"
   },
   {
    "duration": 7,
    "start_time": "2023-10-30T15:12:26.066Z"
   },
   {
    "duration": 634,
    "start_time": "2023-10-30T15:12:35.004Z"
   },
   {
    "duration": 6,
    "start_time": "2023-10-30T15:13:30.429Z"
   },
   {
    "duration": 10,
    "start_time": "2023-10-30T15:13:37.386Z"
   },
   {
    "duration": 11,
    "start_time": "2023-10-30T15:13:41.476Z"
   },
   {
    "duration": 1176,
    "start_time": "2023-10-30T15:14:10.493Z"
   },
   {
    "duration": 57,
    "start_time": "2023-10-30T15:14:11.670Z"
   },
   {
    "duration": 89,
    "start_time": "2023-10-30T15:14:11.729Z"
   },
   {
    "duration": 191,
    "start_time": "2023-10-30T15:14:11.820Z"
   },
   {
    "duration": 254,
    "start_time": "2023-10-30T15:14:12.013Z"
   },
   {
    "duration": 22,
    "start_time": "2023-10-30T15:14:12.269Z"
   },
   {
    "duration": 37,
    "start_time": "2023-10-30T15:14:12.292Z"
   },
   {
    "duration": 57,
    "start_time": "2023-10-30T15:14:12.330Z"
   },
   {
    "duration": 10,
    "start_time": "2023-10-30T15:14:12.389Z"
   },
   {
    "duration": 45,
    "start_time": "2023-10-30T15:14:12.401Z"
   },
   {
    "duration": 46,
    "start_time": "2023-10-30T15:14:12.448Z"
   },
   {
    "duration": 18,
    "start_time": "2023-10-30T15:14:12.495Z"
   },
   {
    "duration": 398,
    "start_time": "2023-10-30T15:14:12.515Z"
   },
   {
    "duration": 6,
    "start_time": "2023-10-30T15:14:12.915Z"
   },
   {
    "duration": 35,
    "start_time": "2023-10-30T15:14:12.923Z"
   },
   {
    "duration": 57,
    "start_time": "2023-10-30T15:14:12.960Z"
   },
   {
    "duration": 10,
    "start_time": "2023-10-30T15:14:13.018Z"
   },
   {
    "duration": 19,
    "start_time": "2023-10-30T15:14:13.030Z"
   },
   {
    "duration": 17,
    "start_time": "2023-10-30T15:14:13.051Z"
   },
   {
    "duration": 18,
    "start_time": "2023-10-30T15:14:13.070Z"
   },
   {
    "duration": 48,
    "start_time": "2023-10-30T15:14:13.090Z"
   },
   {
    "duration": 241,
    "start_time": "2023-10-30T15:14:13.140Z"
   },
   {
    "duration": 7,
    "start_time": "2023-10-30T15:14:13.383Z"
   },
   {
    "duration": 31,
    "start_time": "2023-10-30T15:14:13.391Z"
   },
   {
    "duration": 317,
    "start_time": "2023-10-30T15:14:13.423Z"
   },
   {
    "duration": 11,
    "start_time": "2023-10-30T15:14:13.742Z"
   },
   {
    "duration": 94,
    "start_time": "2023-10-30T15:15:30.363Z"
   },
   {
    "duration": 4,
    "start_time": "2023-10-30T15:15:37.692Z"
   },
   {
    "duration": 11,
    "start_time": "2023-10-30T15:15:44.439Z"
   },
   {
    "duration": 108,
    "start_time": "2023-10-30T15:17:32.709Z"
   },
   {
    "duration": 9,
    "start_time": "2023-10-30T15:17:37.182Z"
   },
   {
    "duration": 1171,
    "start_time": "2023-10-30T15:17:43.443Z"
   },
   {
    "duration": 62,
    "start_time": "2023-10-30T15:17:44.618Z"
   },
   {
    "duration": 20,
    "start_time": "2023-10-30T15:17:44.683Z"
   },
   {
    "duration": 61,
    "start_time": "2023-10-30T15:17:44.705Z"
   },
   {
    "duration": 65,
    "start_time": "2023-10-30T15:17:44.769Z"
   },
   {
    "duration": 90,
    "start_time": "2023-10-30T15:17:44.836Z"
   },
   {
    "duration": 85,
    "start_time": "2023-10-30T15:17:44.928Z"
   },
   {
    "duration": 50,
    "start_time": "2023-10-30T15:17:45.016Z"
   },
   {
    "duration": 56,
    "start_time": "2023-10-30T15:17:45.068Z"
   },
   {
    "duration": 90,
    "start_time": "2023-10-30T15:17:45.125Z"
   },
   {
    "duration": 59,
    "start_time": "2023-10-30T15:17:45.217Z"
   },
   {
    "duration": 27,
    "start_time": "2023-10-30T15:17:45.277Z"
   },
   {
    "duration": 397,
    "start_time": "2023-10-30T15:17:45.306Z"
   },
   {
    "duration": 5,
    "start_time": "2023-10-30T15:17:45.706Z"
   },
   {
    "duration": 68,
    "start_time": "2023-10-30T15:17:45.712Z"
   },
   {
    "duration": 33,
    "start_time": "2023-10-30T15:17:45.782Z"
   },
   {
    "duration": 37,
    "start_time": "2023-10-30T15:17:45.817Z"
   },
   {
    "duration": 56,
    "start_time": "2023-10-30T15:17:45.857Z"
   },
   {
    "duration": 28,
    "start_time": "2023-10-30T15:17:45.915Z"
   },
   {
    "duration": 38,
    "start_time": "2023-10-30T15:17:45.945Z"
   },
   {
    "duration": 38,
    "start_time": "2023-10-30T15:17:45.985Z"
   },
   {
    "duration": 218,
    "start_time": "2023-10-30T15:17:46.025Z"
   },
   {
    "duration": 8,
    "start_time": "2023-10-30T15:17:46.245Z"
   },
   {
    "duration": 32,
    "start_time": "2023-10-30T15:17:46.255Z"
   },
   {
    "duration": 333,
    "start_time": "2023-10-30T15:17:46.289Z"
   },
   {
    "duration": 10,
    "start_time": "2023-10-30T15:17:46.623Z"
   },
   {
    "duration": 11,
    "start_time": "2023-10-30T15:18:05.279Z"
   },
   {
    "duration": 28,
    "start_time": "2023-10-30T15:20:20.582Z"
   },
   {
    "duration": 117,
    "start_time": "2023-10-30T16:22:00.528Z"
   },
   {
    "duration": 1254,
    "start_time": "2023-10-30T16:22:20.260Z"
   },
   {
    "duration": 57,
    "start_time": "2023-10-30T16:22:21.515Z"
   },
   {
    "duration": 23,
    "start_time": "2023-10-30T16:22:21.574Z"
   },
   {
    "duration": 137,
    "start_time": "2023-10-30T16:22:21.599Z"
   },
   {
    "duration": 39,
    "start_time": "2023-10-30T16:22:21.738Z"
   },
   {
    "duration": 35,
    "start_time": "2023-10-30T16:22:21.779Z"
   },
   {
    "duration": 57,
    "start_time": "2023-10-30T16:22:21.816Z"
   },
   {
    "duration": 246,
    "start_time": "2023-10-30T16:22:21.874Z"
   },
   {
    "duration": 178,
    "start_time": "2023-10-30T16:22:22.122Z"
   },
   {
    "duration": 78,
    "start_time": "2023-10-30T16:22:22.303Z"
   },
   {
    "duration": 89,
    "start_time": "2023-10-30T16:22:22.383Z"
   },
   {
    "duration": 57,
    "start_time": "2023-10-30T16:22:22.474Z"
   },
   {
    "duration": 394,
    "start_time": "2023-10-30T16:22:22.533Z"
   },
   {
    "duration": 4,
    "start_time": "2023-10-30T16:22:22.929Z"
   },
   {
    "duration": 53,
    "start_time": "2023-10-30T16:22:22.934Z"
   },
   {
    "duration": 54,
    "start_time": "2023-10-30T16:22:22.989Z"
   },
   {
    "duration": 49,
    "start_time": "2023-10-30T16:22:23.044Z"
   },
   {
    "duration": 34,
    "start_time": "2023-10-30T16:22:23.095Z"
   },
   {
    "duration": 54,
    "start_time": "2023-10-30T16:22:23.131Z"
   },
   {
    "duration": 35,
    "start_time": "2023-10-30T16:22:23.187Z"
   },
   {
    "duration": 53,
    "start_time": "2023-10-30T16:22:23.224Z"
   },
   {
    "duration": 238,
    "start_time": "2023-10-30T16:22:23.279Z"
   },
   {
    "duration": 8,
    "start_time": "2023-10-30T16:22:23.518Z"
   },
   {
    "duration": 48,
    "start_time": "2023-10-30T16:22:23.528Z"
   },
   {
    "duration": 341,
    "start_time": "2023-10-30T16:22:23.578Z"
   },
   {
    "duration": 26,
    "start_time": "2023-10-30T16:22:23.921Z"
   },
   {
    "duration": 132,
    "start_time": "2023-10-30T16:22:23.950Z"
   },
   {
    "duration": 16,
    "start_time": "2023-10-30T16:23:26.390Z"
   },
   {
    "duration": 311,
    "start_time": "2023-10-30T16:24:22.716Z"
   },
   {
    "duration": 37,
    "start_time": "2023-10-30T16:35:32.708Z"
   },
   {
    "duration": 30,
    "start_time": "2023-10-30T16:35:43.010Z"
   },
   {
    "duration": 32,
    "start_time": "2023-10-30T16:36:18.732Z"
   },
   {
    "duration": 43,
    "start_time": "2023-10-30T16:36:24.563Z"
   },
   {
    "duration": 53,
    "start_time": "2023-10-30T16:36:37.243Z"
   },
   {
    "duration": 29,
    "start_time": "2023-10-30T16:37:04.122Z"
   },
   {
    "duration": 16,
    "start_time": "2023-10-30T16:37:07.249Z"
   },
   {
    "duration": 50,
    "start_time": "2023-10-30T16:37:48.005Z"
   },
   {
    "duration": 25,
    "start_time": "2023-10-30T16:39:34.242Z"
   },
   {
    "duration": 28,
    "start_time": "2023-10-30T16:39:43.953Z"
   },
   {
    "duration": 43,
    "start_time": "2023-10-30T16:40:03.488Z"
   },
   {
    "duration": 44,
    "start_time": "2023-10-30T16:40:50.081Z"
   },
   {
    "duration": 36,
    "start_time": "2023-10-30T16:40:55.194Z"
   },
   {
    "duration": 23,
    "start_time": "2023-10-30T16:41:47.916Z"
   },
   {
    "duration": 43,
    "start_time": "2023-10-30T16:41:52.575Z"
   },
   {
    "duration": 104,
    "start_time": "2023-10-30T16:42:08.165Z"
   },
   {
    "duration": 30,
    "start_time": "2023-10-30T16:42:13.644Z"
   },
   {
    "duration": 62,
    "start_time": "2023-10-30T16:43:11.142Z"
   },
   {
    "duration": 74,
    "start_time": "2023-10-30T16:43:22.829Z"
   },
   {
    "duration": 26,
    "start_time": "2023-10-30T16:43:43.548Z"
   },
   {
    "duration": 333,
    "start_time": "2023-10-30T16:44:31.383Z"
   },
   {
    "duration": 269,
    "start_time": "2023-10-30T16:44:38.778Z"
   },
   {
    "duration": 228,
    "start_time": "2023-10-30T16:44:44.821Z"
   },
   {
    "duration": 353,
    "start_time": "2023-10-30T16:44:59.908Z"
   },
   {
    "duration": 256,
    "start_time": "2023-10-30T16:50:56.645Z"
   },
   {
    "duration": 36,
    "start_time": "2023-10-30T16:55:21.485Z"
   },
   {
    "duration": 43,
    "start_time": "2023-10-30T16:55:23.104Z"
   },
   {
    "duration": 323,
    "start_time": "2023-10-30T16:55:24.023Z"
   },
   {
    "duration": 55,
    "start_time": "2023-10-31T09:29:07.243Z"
   },
   {
    "duration": 1296,
    "start_time": "2023-10-31T09:29:44.917Z"
   },
   {
    "duration": 100,
    "start_time": "2023-10-31T09:29:46.214Z"
   },
   {
    "duration": 17,
    "start_time": "2023-10-31T09:29:46.316Z"
   },
   {
    "duration": 26,
    "start_time": "2023-10-31T09:29:46.335Z"
   },
   {
    "duration": 3,
    "start_time": "2023-10-31T09:29:46.362Z"
   },
   {
    "duration": 11,
    "start_time": "2023-10-31T09:29:46.366Z"
   },
   {
    "duration": 8,
    "start_time": "2023-10-31T09:29:46.378Z"
   },
   {
    "duration": 23,
    "start_time": "2023-10-31T09:29:46.387Z"
   },
   {
    "duration": 7,
    "start_time": "2023-10-31T09:29:46.412Z"
   },
   {
    "duration": 4,
    "start_time": "2023-10-31T09:29:46.422Z"
   },
   {
    "duration": 31,
    "start_time": "2023-10-31T09:29:46.427Z"
   },
   {
    "duration": 14,
    "start_time": "2023-10-31T09:29:46.459Z"
   },
   {
    "duration": 313,
    "start_time": "2023-10-31T09:29:46.474Z"
   },
   {
    "duration": 4,
    "start_time": "2023-10-31T09:29:46.788Z"
   },
   {
    "duration": 17,
    "start_time": "2023-10-31T09:29:46.793Z"
   },
   {
    "duration": 12,
    "start_time": "2023-10-31T09:29:46.811Z"
   },
   {
    "duration": 18,
    "start_time": "2023-10-31T09:29:46.824Z"
   },
   {
    "duration": 4,
    "start_time": "2023-10-31T09:29:46.844Z"
   },
   {
    "duration": 8,
    "start_time": "2023-10-31T09:29:46.849Z"
   },
   {
    "duration": 4,
    "start_time": "2023-10-31T09:29:46.859Z"
   },
   {
    "duration": 23,
    "start_time": "2023-10-31T09:29:46.865Z"
   },
   {
    "duration": 202,
    "start_time": "2023-10-31T09:29:46.889Z"
   },
   {
    "duration": 7,
    "start_time": "2023-10-31T09:29:47.092Z"
   },
   {
    "duration": 27,
    "start_time": "2023-10-31T09:29:47.100Z"
   },
   {
    "duration": 277,
    "start_time": "2023-10-31T09:29:47.128Z"
   },
   {
    "duration": 21,
    "start_time": "2023-10-31T09:29:47.406Z"
   },
   {
    "duration": 33,
    "start_time": "2023-10-31T09:29:47.439Z"
   },
   {
    "duration": 275,
    "start_time": "2023-10-31T09:29:47.475Z"
   },
   {
    "duration": 4,
    "start_time": "2023-10-31T09:29:47.751Z"
   },
   {
    "duration": 21,
    "start_time": "2023-10-31T09:29:58.286Z"
   },
   {
    "duration": 97,
    "start_time": "2023-10-31T09:47:17.035Z"
   },
   {
    "duration": 4,
    "start_time": "2023-10-31T09:47:20.970Z"
   },
   {
    "duration": 21,
    "start_time": "2023-10-31T09:48:40.638Z"
   },
   {
    "duration": 4,
    "start_time": "2023-10-31T09:48:45.275Z"
   },
   {
    "duration": 72,
    "start_time": "2023-10-31T09:53:12.492Z"
   },
   {
    "duration": 75,
    "start_time": "2023-10-31T09:53:40.494Z"
   },
   {
    "duration": 84,
    "start_time": "2023-10-31T09:53:48.683Z"
   },
   {
    "duration": 77,
    "start_time": "2023-10-31T09:53:56.494Z"
   },
   {
    "duration": 621,
    "start_time": "2023-10-31T09:54:05.771Z"
   },
   {
    "duration": 73,
    "start_time": "2023-10-31T09:55:18.503Z"
   },
   {
    "duration": 5,
    "start_time": "2023-10-31T09:55:46.389Z"
   },
   {
    "duration": 9,
    "start_time": "2023-10-31T09:55:55.207Z"
   },
   {
    "duration": 569,
    "start_time": "2023-10-31T09:56:55.205Z"
   },
   {
    "duration": 32,
    "start_time": "2023-10-31T09:57:09.185Z"
   },
   {
    "duration": 14,
    "start_time": "2023-10-31T09:57:12.051Z"
   },
   {
    "duration": 1088,
    "start_time": "2023-10-31T10:00:37.398Z"
   },
   {
    "duration": 52,
    "start_time": "2023-10-31T10:00:38.488Z"
   },
   {
    "duration": 20,
    "start_time": "2023-10-31T10:00:38.542Z"
   },
   {
    "duration": 22,
    "start_time": "2023-10-31T10:00:38.565Z"
   },
   {
    "duration": 3,
    "start_time": "2023-10-31T10:00:38.588Z"
   },
   {
    "duration": 8,
    "start_time": "2023-10-31T10:00:38.592Z"
   },
   {
    "duration": 8,
    "start_time": "2023-10-31T10:00:38.601Z"
   },
   {
    "duration": 43,
    "start_time": "2023-10-31T10:00:38.610Z"
   },
   {
    "duration": 12,
    "start_time": "2023-10-31T10:00:38.655Z"
   },
   {
    "duration": 4,
    "start_time": "2023-10-31T10:00:38.669Z"
   },
   {
    "duration": 19,
    "start_time": "2023-10-31T10:00:38.674Z"
   },
   {
    "duration": 13,
    "start_time": "2023-10-31T10:00:38.695Z"
   },
   {
    "duration": 332,
    "start_time": "2023-10-31T10:00:38.709Z"
   },
   {
    "duration": 5,
    "start_time": "2023-10-31T10:00:39.043Z"
   },
   {
    "duration": 20,
    "start_time": "2023-10-31T10:00:39.050Z"
   },
   {
    "duration": 18,
    "start_time": "2023-10-31T10:00:39.071Z"
   },
   {
    "duration": 19,
    "start_time": "2023-10-31T10:00:39.090Z"
   },
   {
    "duration": 19,
    "start_time": "2023-10-31T10:00:39.110Z"
   },
   {
    "duration": 17,
    "start_time": "2023-10-31T10:00:39.130Z"
   },
   {
    "duration": 6,
    "start_time": "2023-10-31T10:00:39.149Z"
   },
   {
    "duration": 24,
    "start_time": "2023-10-31T10:00:39.157Z"
   },
   {
    "duration": 205,
    "start_time": "2023-10-31T10:00:39.182Z"
   },
   {
    "duration": 6,
    "start_time": "2023-10-31T10:00:39.388Z"
   },
   {
    "duration": 18,
    "start_time": "2023-10-31T10:00:39.396Z"
   },
   {
    "duration": 302,
    "start_time": "2023-10-31T10:00:39.415Z"
   },
   {
    "duration": 34,
    "start_time": "2023-10-31T10:00:39.719Z"
   },
   {
    "duration": 40,
    "start_time": "2023-10-31T10:00:39.754Z"
   },
   {
    "duration": 299,
    "start_time": "2023-10-31T10:00:39.798Z"
   },
   {
    "duration": 20,
    "start_time": "2023-10-31T10:00:40.099Z"
   },
   {
    "duration": 5,
    "start_time": "2023-10-31T10:00:40.121Z"
   },
   {
    "duration": 32,
    "start_time": "2023-10-31T10:00:40.128Z"
   },
   {
    "duration": 94,
    "start_time": "2023-10-31T10:02:14.950Z"
   },
   {
    "duration": 9,
    "start_time": "2023-10-31T10:02:43.498Z"
   },
   {
    "duration": 18,
    "start_time": "2023-10-31T10:02:58.638Z"
   },
   {
    "duration": 15,
    "start_time": "2023-10-31T10:03:02.847Z"
   },
   {
    "duration": 734,
    "start_time": "2023-10-31T10:03:20.801Z"
   },
   {
    "duration": 9,
    "start_time": "2023-10-31T10:03:30.205Z"
   },
   {
    "duration": 9,
    "start_time": "2023-10-31T10:03:47.796Z"
   },
   {
    "duration": 9,
    "start_time": "2023-10-31T10:05:10.578Z"
   },
   {
    "duration": 23,
    "start_time": "2023-10-31T10:05:30.053Z"
   },
   {
    "duration": 9,
    "start_time": "2023-10-31T10:05:30.849Z"
   },
   {
    "duration": 14,
    "start_time": "2023-10-31T10:05:32.235Z"
   },
   {
    "duration": 23,
    "start_time": "2023-10-31T10:05:55.357Z"
   },
   {
    "duration": 11,
    "start_time": "2023-10-31T10:06:13.661Z"
   },
   {
    "duration": 22,
    "start_time": "2023-10-31T10:06:19.616Z"
   },
   {
    "duration": 96,
    "start_time": "2023-10-31T11:28:51.802Z"
   },
   {
    "duration": 105,
    "start_time": "2023-10-31T11:29:20.436Z"
   },
   {
    "duration": 92,
    "start_time": "2023-10-31T11:29:32.150Z"
   },
   {
    "duration": 562,
    "start_time": "2023-10-31T11:41:29.315Z"
   },
   {
    "duration": 1058,
    "start_time": "2023-10-31T11:42:00.781Z"
   },
   {
    "duration": 53,
    "start_time": "2023-10-31T11:42:01.841Z"
   },
   {
    "duration": 27,
    "start_time": "2023-10-31T11:42:01.895Z"
   },
   {
    "duration": 29,
    "start_time": "2023-10-31T11:42:01.924Z"
   },
   {
    "duration": 3,
    "start_time": "2023-10-31T11:42:01.954Z"
   },
   {
    "duration": 6,
    "start_time": "2023-10-31T11:42:01.959Z"
   },
   {
    "duration": 32,
    "start_time": "2023-10-31T11:42:01.966Z"
   },
   {
    "duration": 25,
    "start_time": "2023-10-31T11:42:02.000Z"
   },
   {
    "duration": 8,
    "start_time": "2023-10-31T11:42:02.026Z"
   },
   {
    "duration": 10,
    "start_time": "2023-10-31T11:42:02.037Z"
   },
   {
    "duration": 25,
    "start_time": "2023-10-31T11:42:02.048Z"
   },
   {
    "duration": 14,
    "start_time": "2023-10-31T11:42:02.075Z"
   },
   {
    "duration": 306,
    "start_time": "2023-10-31T11:42:02.091Z"
   },
   {
    "duration": 4,
    "start_time": "2023-10-31T11:42:02.399Z"
   },
   {
    "duration": 20,
    "start_time": "2023-10-31T11:42:02.405Z"
   },
   {
    "duration": 34,
    "start_time": "2023-10-31T11:42:02.427Z"
   },
   {
    "duration": 25,
    "start_time": "2023-10-31T11:42:02.464Z"
   },
   {
    "duration": 49,
    "start_time": "2023-10-31T11:42:02.490Z"
   },
   {
    "duration": 26,
    "start_time": "2023-10-31T11:42:02.541Z"
   },
   {
    "duration": 21,
    "start_time": "2023-10-31T11:42:02.568Z"
   },
   {
    "duration": 24,
    "start_time": "2023-10-31T11:42:02.591Z"
   },
   {
    "duration": 182,
    "start_time": "2023-10-31T11:42:02.617Z"
   },
   {
    "duration": 6,
    "start_time": "2023-10-31T11:42:02.800Z"
   },
   {
    "duration": 33,
    "start_time": "2023-10-31T11:42:02.808Z"
   },
   {
    "duration": 265,
    "start_time": "2023-10-31T11:42:02.843Z"
   },
   {
    "duration": 30,
    "start_time": "2023-10-31T11:42:03.110Z"
   },
   {
    "duration": 29,
    "start_time": "2023-10-31T11:42:03.141Z"
   },
   {
    "duration": 272,
    "start_time": "2023-10-31T11:42:03.173Z"
   },
   {
    "duration": 19,
    "start_time": "2023-10-31T11:42:03.447Z"
   },
   {
    "duration": 4,
    "start_time": "2023-10-31T11:42:03.467Z"
   },
   {
    "duration": 1428,
    "start_time": "2023-10-31T11:42:03.472Z"
   },
   {
    "duration": 0,
    "start_time": "2023-10-31T11:42:04.901Z"
   },
   {
    "duration": 0,
    "start_time": "2023-10-31T11:42:04.902Z"
   },
   {
    "duration": 69,
    "start_time": "2023-10-31T11:43:12.249Z"
   },
   {
    "duration": 613,
    "start_time": "2023-10-31T11:43:17.595Z"
   },
   {
    "duration": 769,
    "start_time": "2023-10-31T11:44:06.426Z"
   },
   {
    "duration": 616,
    "start_time": "2023-10-31T12:05:11.215Z"
   },
   {
    "duration": 22,
    "start_time": "2023-10-31T12:07:38.494Z"
   },
   {
    "duration": 24,
    "start_time": "2023-10-31T12:11:35.507Z"
   },
   {
    "duration": 22,
    "start_time": "2023-10-31T12:19:33.424Z"
   },
   {
    "duration": 35,
    "start_time": "2023-10-31T12:19:56.327Z"
   },
   {
    "duration": 217,
    "start_time": "2023-10-31T12:20:01.775Z"
   },
   {
    "duration": 8,
    "start_time": "2023-10-31T12:30:13.401Z"
   },
   {
    "duration": 15,
    "start_time": "2023-10-31T12:30:28.499Z"
   },
   {
    "duration": 16,
    "start_time": "2023-10-31T12:31:25.722Z"
   },
   {
    "duration": 338,
    "start_time": "2023-10-31T12:31:36.093Z"
   },
   {
    "duration": 324,
    "start_time": "2023-10-31T12:34:28.166Z"
   },
   {
    "duration": 290,
    "start_time": "2023-10-31T12:38:09.152Z"
   },
   {
    "duration": 321,
    "start_time": "2023-10-31T12:38:24.314Z"
   },
   {
    "duration": 228,
    "start_time": "2023-10-31T12:39:01.671Z"
   },
   {
    "duration": 243,
    "start_time": "2023-10-31T12:39:10.675Z"
   },
   {
    "duration": 228,
    "start_time": "2023-10-31T12:39:18.639Z"
   },
   {
    "duration": 245,
    "start_time": "2023-10-31T12:39:23.616Z"
   },
   {
    "duration": 306,
    "start_time": "2023-10-31T12:39:31.529Z"
   },
   {
    "duration": 242,
    "start_time": "2023-10-31T12:43:16.921Z"
   },
   {
    "duration": 265,
    "start_time": "2023-10-31T12:44:26.169Z"
   },
   {
    "duration": 237,
    "start_time": "2023-10-31T12:44:38.843Z"
   },
   {
    "duration": 273,
    "start_time": "2023-10-31T12:44:50.949Z"
   },
   {
    "duration": 266,
    "start_time": "2023-10-31T12:47:31.815Z"
   },
   {
    "duration": 107,
    "start_time": "2023-10-31T15:00:43.445Z"
   },
   {
    "duration": 1519,
    "start_time": "2023-10-31T15:01:07.239Z"
   },
   {
    "duration": 118,
    "start_time": "2023-10-31T15:01:08.760Z"
   },
   {
    "duration": 20,
    "start_time": "2023-10-31T15:01:08.880Z"
   },
   {
    "duration": 49,
    "start_time": "2023-10-31T15:01:08.902Z"
   },
   {
    "duration": 4,
    "start_time": "2023-10-31T15:01:08.954Z"
   },
   {
    "duration": 30,
    "start_time": "2023-10-31T15:01:08.959Z"
   },
   {
    "duration": 41,
    "start_time": "2023-10-31T15:01:08.991Z"
   },
   {
    "duration": 22,
    "start_time": "2023-10-31T15:01:09.034Z"
   },
   {
    "duration": 21,
    "start_time": "2023-10-31T15:01:09.058Z"
   },
   {
    "duration": 5,
    "start_time": "2023-10-31T15:01:09.080Z"
   },
   {
    "duration": 43,
    "start_time": "2023-10-31T15:01:09.086Z"
   },
   {
    "duration": 35,
    "start_time": "2023-10-31T15:01:09.131Z"
   },
   {
    "duration": 437,
    "start_time": "2023-10-31T15:01:09.168Z"
   },
   {
    "duration": 12,
    "start_time": "2023-10-31T15:01:09.612Z"
   },
   {
    "duration": 43,
    "start_time": "2023-10-31T15:01:09.627Z"
   },
   {
    "duration": 29,
    "start_time": "2023-10-31T15:01:09.671Z"
   },
   {
    "duration": 43,
    "start_time": "2023-10-31T15:01:09.701Z"
   },
   {
    "duration": 13,
    "start_time": "2023-10-31T15:01:09.747Z"
   },
   {
    "duration": 21,
    "start_time": "2023-10-31T15:01:09.762Z"
   },
   {
    "duration": 24,
    "start_time": "2023-10-31T15:01:09.786Z"
   },
   {
    "duration": 48,
    "start_time": "2023-10-31T15:01:09.812Z"
   },
   {
    "duration": 230,
    "start_time": "2023-10-31T15:01:09.862Z"
   },
   {
    "duration": 8,
    "start_time": "2023-10-31T15:01:10.094Z"
   },
   {
    "duration": 27,
    "start_time": "2023-10-31T15:01:10.106Z"
   },
   {
    "duration": 357,
    "start_time": "2023-10-31T15:01:10.135Z"
   },
   {
    "duration": 45,
    "start_time": "2023-10-31T15:01:10.494Z"
   },
   {
    "duration": 24,
    "start_time": "2023-10-31T15:01:10.541Z"
   },
   {
    "duration": 297,
    "start_time": "2023-10-31T15:01:10.567Z"
   },
   {
    "duration": 23,
    "start_time": "2023-10-31T15:01:10.865Z"
   },
   {
    "duration": 16,
    "start_time": "2023-10-31T15:01:10.890Z"
   },
   {
    "duration": 388,
    "start_time": "2023-10-31T15:01:10.909Z"
   },
   {
    "duration": 358,
    "start_time": "2023-10-31T15:01:11.299Z"
   },
   {
    "duration": 5,
    "start_time": "2023-10-31T15:01:11.658Z"
   },
   {
    "duration": 23,
    "start_time": "2023-10-31T15:01:18.635Z"
   },
   {
    "duration": 6,
    "start_time": "2023-10-31T15:03:04.974Z"
   },
   {
    "duration": 10,
    "start_time": "2023-10-31T15:04:01.714Z"
   },
   {
    "duration": 7,
    "start_time": "2023-10-31T15:04:47.058Z"
   },
   {
    "duration": 26,
    "start_time": "2023-10-31T15:04:52.570Z"
   },
   {
    "duration": 5,
    "start_time": "2023-10-31T15:05:10.059Z"
   },
   {
    "duration": 172,
    "start_time": "2023-10-31T15:06:24.897Z"
   },
   {
    "duration": 166,
    "start_time": "2023-10-31T15:07:01.202Z"
   },
   {
    "duration": 6,
    "start_time": "2023-10-31T15:16:55.690Z"
   },
   {
    "duration": 262,
    "start_time": "2023-10-31T15:18:41.734Z"
   },
   {
    "duration": 4,
    "start_time": "2023-10-31T15:19:05.023Z"
   },
   {
    "duration": 6,
    "start_time": "2023-10-31T15:24:54.057Z"
   },
   {
    "duration": 25,
    "start_time": "2023-10-31T15:25:12.825Z"
   },
   {
    "duration": 5,
    "start_time": "2023-10-31T15:25:39.180Z"
   },
   {
    "duration": 142,
    "start_time": "2023-10-31T15:26:15.005Z"
   },
   {
    "duration": 6,
    "start_time": "2023-10-31T15:26:54.758Z"
   },
   {
    "duration": 214,
    "start_time": "2023-10-31T15:28:46.306Z"
   },
   {
    "duration": 5,
    "start_time": "2023-10-31T15:29:08.925Z"
   },
   {
    "duration": 16,
    "start_time": "2023-10-31T15:46:49.914Z"
   },
   {
    "duration": 34,
    "start_time": "2023-10-31T15:47:04.410Z"
   },
   {
    "duration": 16,
    "start_time": "2023-10-31T15:49:12.185Z"
   },
   {
    "duration": 99,
    "start_time": "2023-10-31T15:50:30.087Z"
   },
   {
    "duration": 83,
    "start_time": "2023-10-31T15:50:37.807Z"
   },
   {
    "duration": 113,
    "start_time": "2023-10-31T15:50:40.718Z"
   },
   {
    "duration": 1209,
    "start_time": "2023-10-31T15:50:55.018Z"
   },
   {
    "duration": 58,
    "start_time": "2023-10-31T15:50:56.229Z"
   },
   {
    "duration": 15,
    "start_time": "2023-10-31T15:50:56.288Z"
   },
   {
    "duration": 30,
    "start_time": "2023-10-31T15:50:56.305Z"
   },
   {
    "duration": 3,
    "start_time": "2023-10-31T15:50:56.337Z"
   },
   {
    "duration": 14,
    "start_time": "2023-10-31T15:50:56.342Z"
   },
   {
    "duration": 15,
    "start_time": "2023-10-31T15:50:56.357Z"
   },
   {
    "duration": 20,
    "start_time": "2023-10-31T15:50:56.374Z"
   },
   {
    "duration": 22,
    "start_time": "2023-10-31T15:50:56.395Z"
   },
   {
    "duration": 6,
    "start_time": "2023-10-31T15:50:56.419Z"
   },
   {
    "duration": 28,
    "start_time": "2023-10-31T15:50:56.426Z"
   },
   {
    "duration": 15,
    "start_time": "2023-10-31T15:50:56.455Z"
   },
   {
    "duration": 383,
    "start_time": "2023-10-31T15:50:56.472Z"
   },
   {
    "duration": 4,
    "start_time": "2023-10-31T15:50:56.857Z"
   },
   {
    "duration": 22,
    "start_time": "2023-10-31T15:50:56.863Z"
   },
   {
    "duration": 32,
    "start_time": "2023-10-31T15:50:56.887Z"
   },
   {
    "duration": 9,
    "start_time": "2023-10-31T15:50:56.921Z"
   },
   {
    "duration": 7,
    "start_time": "2023-10-31T15:50:56.931Z"
   },
   {
    "duration": 26,
    "start_time": "2023-10-31T15:50:56.940Z"
   },
   {
    "duration": 18,
    "start_time": "2023-10-31T15:50:56.968Z"
   },
   {
    "duration": 36,
    "start_time": "2023-10-31T15:50:56.987Z"
   },
   {
    "duration": 217,
    "start_time": "2023-10-31T15:50:57.025Z"
   },
   {
    "duration": 7,
    "start_time": "2023-10-31T15:50:57.244Z"
   },
   {
    "duration": 30,
    "start_time": "2023-10-31T15:50:57.253Z"
   },
   {
    "duration": 361,
    "start_time": "2023-10-31T15:50:57.285Z"
   },
   {
    "duration": 25,
    "start_time": "2023-10-31T15:50:57.647Z"
   },
   {
    "duration": 49,
    "start_time": "2023-10-31T15:50:57.674Z"
   },
   {
    "duration": 266,
    "start_time": "2023-10-31T15:50:57.728Z"
   },
   {
    "duration": 29,
    "start_time": "2023-10-31T15:50:57.996Z"
   },
   {
    "duration": 16,
    "start_time": "2023-10-31T15:50:58.027Z"
   },
   {
    "duration": 389,
    "start_time": "2023-10-31T15:50:58.045Z"
   },
   {
    "duration": 311,
    "start_time": "2023-10-31T15:50:58.436Z"
   },
   {
    "duration": 7,
    "start_time": "2023-10-31T15:50:58.749Z"
   },
   {
    "duration": 175,
    "start_time": "2023-10-31T15:50:58.758Z"
   },
   {
    "duration": 5,
    "start_time": "2023-10-31T15:50:58.935Z"
   },
   {
    "duration": 180,
    "start_time": "2023-10-31T15:50:58.942Z"
   },
   {
    "duration": 5,
    "start_time": "2023-10-31T15:50:59.124Z"
   },
   {
    "duration": 38,
    "start_time": "2023-10-31T15:50:59.130Z"
   },
   {
    "duration": 276,
    "start_time": "2023-10-31T15:50:59.170Z"
   },
   {
    "duration": 5,
    "start_time": "2023-10-31T15:50:59.449Z"
   },
   {
    "duration": 173,
    "start_time": "2023-10-31T15:50:59.455Z"
   },
   {
    "duration": 5,
    "start_time": "2023-10-31T15:50:59.630Z"
   },
   {
    "duration": 121,
    "start_time": "2023-10-31T15:50:59.636Z"
   },
   {
    "duration": 25,
    "start_time": "2023-10-31T15:51:20.901Z"
   },
   {
    "duration": 14,
    "start_time": "2023-10-31T15:51:27.557Z"
   },
   {
    "duration": 17,
    "start_time": "2023-10-31T15:51:30.638Z"
   },
   {
    "duration": 15,
    "start_time": "2023-10-31T15:52:10.070Z"
   },
   {
    "duration": 17,
    "start_time": "2023-10-31T15:52:28.272Z"
   },
   {
    "duration": 16,
    "start_time": "2023-10-31T15:52:41.942Z"
   },
   {
    "duration": 16,
    "start_time": "2023-10-31T15:52:58.118Z"
   },
   {
    "duration": 16,
    "start_time": "2023-10-31T15:53:13.981Z"
   },
   {
    "duration": 20,
    "start_time": "2023-10-31T15:53:28.646Z"
   },
   {
    "duration": 17,
    "start_time": "2023-10-31T15:53:53.748Z"
   },
   {
    "duration": 19,
    "start_time": "2023-10-31T15:54:37.464Z"
   },
   {
    "duration": 24,
    "start_time": "2023-10-31T15:54:46.599Z"
   },
   {
    "duration": 17,
    "start_time": "2023-10-31T15:55:27.749Z"
   },
   {
    "duration": 25,
    "start_time": "2023-10-31T15:55:39.193Z"
   },
   {
    "duration": 1179,
    "start_time": "2023-10-31T15:55:44.700Z"
   },
   {
    "duration": 60,
    "start_time": "2023-10-31T15:55:45.881Z"
   },
   {
    "duration": 15,
    "start_time": "2023-10-31T15:55:45.942Z"
   },
   {
    "duration": 34,
    "start_time": "2023-10-31T15:55:45.959Z"
   },
   {
    "duration": 9,
    "start_time": "2023-10-31T15:55:45.994Z"
   },
   {
    "duration": 23,
    "start_time": "2023-10-31T15:55:46.010Z"
   },
   {
    "duration": 22,
    "start_time": "2023-10-31T15:55:46.034Z"
   },
   {
    "duration": 32,
    "start_time": "2023-10-31T15:55:46.057Z"
   },
   {
    "duration": 34,
    "start_time": "2023-10-31T15:55:46.091Z"
   },
   {
    "duration": 21,
    "start_time": "2023-10-31T15:55:46.128Z"
   },
   {
    "duration": 40,
    "start_time": "2023-10-31T15:55:46.150Z"
   },
   {
    "duration": 31,
    "start_time": "2023-10-31T15:55:46.191Z"
   },
   {
    "duration": 464,
    "start_time": "2023-10-31T15:55:46.223Z"
   },
   {
    "duration": 3,
    "start_time": "2023-10-31T15:55:46.689Z"
   },
   {
    "duration": 56,
    "start_time": "2023-10-31T15:55:46.694Z"
   },
   {
    "duration": 29,
    "start_time": "2023-10-31T15:55:46.752Z"
   },
   {
    "duration": 37,
    "start_time": "2023-10-31T15:55:46.783Z"
   },
   {
    "duration": 16,
    "start_time": "2023-10-31T15:55:46.822Z"
   },
   {
    "duration": 32,
    "start_time": "2023-10-31T15:55:46.840Z"
   },
   {
    "duration": 35,
    "start_time": "2023-10-31T15:55:46.873Z"
   },
   {
    "duration": 49,
    "start_time": "2023-10-31T15:55:46.910Z"
   },
   {
    "duration": 212,
    "start_time": "2023-10-31T15:55:46.961Z"
   },
   {
    "duration": 7,
    "start_time": "2023-10-31T15:55:47.175Z"
   },
   {
    "duration": 36,
    "start_time": "2023-10-31T15:55:47.184Z"
   },
   {
    "duration": 349,
    "start_time": "2023-10-31T15:55:47.222Z"
   },
   {
    "duration": 25,
    "start_time": "2023-10-31T15:55:47.573Z"
   },
   {
    "duration": 49,
    "start_time": "2023-10-31T15:55:47.599Z"
   },
   {
    "duration": 274,
    "start_time": "2023-10-31T15:55:47.652Z"
   },
   {
    "duration": 23,
    "start_time": "2023-10-31T15:55:47.928Z"
   },
   {
    "duration": 15,
    "start_time": "2023-10-31T15:55:47.953Z"
   },
   {
    "duration": 391,
    "start_time": "2023-10-31T15:55:47.970Z"
   },
   {
    "duration": 310,
    "start_time": "2023-10-31T15:55:48.363Z"
   },
   {
    "duration": 5,
    "start_time": "2023-10-31T15:55:48.675Z"
   },
   {
    "duration": 169,
    "start_time": "2023-10-31T15:55:48.682Z"
   },
   {
    "duration": 4,
    "start_time": "2023-10-31T15:55:48.852Z"
   },
   {
    "duration": 177,
    "start_time": "2023-10-31T15:55:48.858Z"
   },
   {
    "duration": 4,
    "start_time": "2023-10-31T15:55:49.037Z"
   },
   {
    "duration": 32,
    "start_time": "2023-10-31T15:55:49.043Z"
   },
   {
    "duration": 242,
    "start_time": "2023-10-31T15:55:49.077Z"
   },
   {
    "duration": 6,
    "start_time": "2023-10-31T15:55:49.321Z"
   },
   {
    "duration": 169,
    "start_time": "2023-10-31T15:55:49.328Z"
   },
   {
    "duration": 13,
    "start_time": "2023-10-31T15:55:49.498Z"
   },
   {
    "duration": 133,
    "start_time": "2023-10-31T15:55:49.513Z"
   },
   {
    "duration": 109,
    "start_time": "2023-10-31T15:57:04.998Z"
   },
   {
    "duration": 1186,
    "start_time": "2023-10-31T15:57:31.202Z"
   },
   {
    "duration": 63,
    "start_time": "2023-10-31T15:57:32.390Z"
   },
   {
    "duration": 17,
    "start_time": "2023-10-31T15:57:32.455Z"
   },
   {
    "duration": 25,
    "start_time": "2023-10-31T15:57:32.474Z"
   },
   {
    "duration": 7,
    "start_time": "2023-10-31T15:57:32.501Z"
   },
   {
    "duration": 18,
    "start_time": "2023-10-31T15:57:32.515Z"
   },
   {
    "duration": 25,
    "start_time": "2023-10-31T15:57:32.535Z"
   },
   {
    "duration": 23,
    "start_time": "2023-10-31T15:57:32.562Z"
   },
   {
    "duration": 8,
    "start_time": "2023-10-31T15:57:32.588Z"
   },
   {
    "duration": 22,
    "start_time": "2023-10-31T15:57:32.599Z"
   },
   {
    "duration": 38,
    "start_time": "2023-10-31T15:57:32.622Z"
   },
   {
    "duration": 16,
    "start_time": "2023-10-31T15:57:32.661Z"
   },
   {
    "duration": 371,
    "start_time": "2023-10-31T15:57:32.679Z"
   },
   {
    "duration": 4,
    "start_time": "2023-10-31T15:57:33.051Z"
   },
   {
    "duration": 41,
    "start_time": "2023-10-31T15:57:33.057Z"
   },
   {
    "duration": 25,
    "start_time": "2023-10-31T15:57:33.100Z"
   },
   {
    "duration": 32,
    "start_time": "2023-10-31T15:57:33.127Z"
   },
   {
    "duration": 12,
    "start_time": "2023-10-31T15:57:33.161Z"
   },
   {
    "duration": 29,
    "start_time": "2023-10-31T15:57:33.174Z"
   },
   {
    "duration": 25,
    "start_time": "2023-10-31T15:57:33.205Z"
   },
   {
    "duration": 37,
    "start_time": "2023-10-31T15:57:33.232Z"
   },
   {
    "duration": 216,
    "start_time": "2023-10-31T15:57:33.271Z"
   },
   {
    "duration": 7,
    "start_time": "2023-10-31T15:57:33.489Z"
   },
   {
    "duration": 37,
    "start_time": "2023-10-31T15:57:33.506Z"
   },
   {
    "duration": 332,
    "start_time": "2023-10-31T15:57:33.545Z"
   },
   {
    "duration": 31,
    "start_time": "2023-10-31T15:57:33.879Z"
   },
   {
    "duration": 31,
    "start_time": "2023-10-31T15:57:33.912Z"
   },
   {
    "duration": 319,
    "start_time": "2023-10-31T15:57:33.947Z"
   },
   {
    "duration": 23,
    "start_time": "2023-10-31T15:57:34.268Z"
   },
   {
    "duration": 23,
    "start_time": "2023-10-31T15:57:34.293Z"
   },
   {
    "duration": 377,
    "start_time": "2023-10-31T15:57:34.321Z"
   },
   {
    "duration": 350,
    "start_time": "2023-10-31T15:57:34.706Z"
   },
   {
    "duration": 9,
    "start_time": "2023-10-31T15:57:35.058Z"
   },
   {
    "duration": 223,
    "start_time": "2023-10-31T15:57:35.069Z"
   },
   {
    "duration": 19,
    "start_time": "2023-10-31T15:57:35.293Z"
   },
   {
    "duration": 175,
    "start_time": "2023-10-31T15:57:35.321Z"
   },
   {
    "duration": 5,
    "start_time": "2023-10-31T15:57:35.498Z"
   },
   {
    "duration": 47,
    "start_time": "2023-10-31T15:57:35.506Z"
   },
   {
    "duration": 242,
    "start_time": "2023-10-31T15:57:35.555Z"
   },
   {
    "duration": 5,
    "start_time": "2023-10-31T15:57:35.798Z"
   },
   {
    "duration": 237,
    "start_time": "2023-10-31T15:57:35.807Z"
   },
   {
    "duration": 5,
    "start_time": "2023-10-31T15:57:36.047Z"
   },
   {
    "duration": 74,
    "start_time": "2023-10-31T15:57:36.054Z"
   },
   {
    "duration": 74,
    "start_time": "2023-10-31T15:57:51.177Z"
   },
   {
    "duration": 17,
    "start_time": "2023-10-31T15:58:08.914Z"
   },
   {
    "duration": 214,
    "start_time": "2023-10-31T16:08:42.342Z"
   },
   {
    "duration": 293,
    "start_time": "2023-10-31T16:10:00.111Z"
   },
   {
    "duration": 292,
    "start_time": "2023-10-31T16:10:15.685Z"
   },
   {
    "duration": 308,
    "start_time": "2023-10-31T16:10:27.269Z"
   },
   {
    "duration": 294,
    "start_time": "2023-10-31T16:10:40.344Z"
   },
   {
    "duration": 343,
    "start_time": "2023-10-31T16:10:57.835Z"
   },
   {
    "duration": 282,
    "start_time": "2023-10-31T16:12:41.906Z"
   },
   {
    "duration": 285,
    "start_time": "2023-10-31T16:13:00.434Z"
   },
   {
    "duration": 361,
    "start_time": "2023-10-31T16:32:12.011Z"
   },
   {
    "duration": 70,
    "start_time": "2023-10-31T16:33:53.427Z"
   },
   {
    "duration": 414,
    "start_time": "2023-10-31T16:34:07.234Z"
   },
   {
    "duration": 460,
    "start_time": "2023-10-31T16:34:40.986Z"
   },
   {
    "duration": 378,
    "start_time": "2023-10-31T16:36:33.658Z"
   },
   {
    "duration": 376,
    "start_time": "2023-10-31T16:37:53.577Z"
   },
   {
    "duration": 398,
    "start_time": "2023-10-31T16:52:50.217Z"
   },
   {
    "duration": 426,
    "start_time": "2023-10-31T16:54:30.757Z"
   },
   {
    "duration": 10,
    "start_time": "2023-10-31T17:02:04.296Z"
   },
   {
    "duration": 33,
    "start_time": "2023-10-31T17:02:12.629Z"
   },
   {
    "duration": 6,
    "start_time": "2023-10-31T17:02:42.048Z"
   },
   {
    "duration": 30,
    "start_time": "2023-10-31T17:02:57.580Z"
   },
   {
    "duration": 402,
    "start_time": "2023-10-31T17:16:44.269Z"
   },
   {
    "duration": 530,
    "start_time": "2023-10-31T17:17:48.917Z"
   },
   {
    "duration": 15,
    "start_time": "2023-10-31T17:50:49.344Z"
   },
   {
    "duration": 4,
    "start_time": "2023-10-31T17:52:00.126Z"
   },
   {
    "duration": 12,
    "start_time": "2023-10-31T17:52:05.026Z"
   },
   {
    "duration": 4,
    "start_time": "2023-10-31T17:52:26.446Z"
   },
   {
    "duration": 5,
    "start_time": "2023-10-31T17:52:55.495Z"
   },
   {
    "duration": 4,
    "start_time": "2023-10-31T17:53:52.063Z"
   },
   {
    "duration": 11,
    "start_time": "2023-10-31T17:54:21.892Z"
   },
   {
    "duration": 8,
    "start_time": "2023-10-31T17:54:35.369Z"
   },
   {
    "duration": 9,
    "start_time": "2023-10-31T17:58:12.978Z"
   },
   {
    "duration": 248,
    "start_time": "2023-10-31T18:05:21.367Z"
   },
   {
    "duration": 1250,
    "start_time": "2023-10-31T20:09:06.406Z"
   },
   {
    "duration": 97,
    "start_time": "2023-10-31T20:09:07.658Z"
   },
   {
    "duration": 16,
    "start_time": "2023-10-31T20:09:07.757Z"
   },
   {
    "duration": 25,
    "start_time": "2023-10-31T20:09:07.776Z"
   },
   {
    "duration": 3,
    "start_time": "2023-10-31T20:09:07.803Z"
   },
   {
    "duration": 15,
    "start_time": "2023-10-31T20:09:07.808Z"
   },
   {
    "duration": 26,
    "start_time": "2023-10-31T20:09:07.825Z"
   },
   {
    "duration": 37,
    "start_time": "2023-10-31T20:09:07.853Z"
   },
   {
    "duration": 10,
    "start_time": "2023-10-31T20:09:07.891Z"
   },
   {
    "duration": 26,
    "start_time": "2023-10-31T20:09:07.904Z"
   },
   {
    "duration": 44,
    "start_time": "2023-10-31T20:09:07.931Z"
   },
   {
    "duration": 18,
    "start_time": "2023-10-31T20:09:07.977Z"
   },
   {
    "duration": 414,
    "start_time": "2023-10-31T20:09:07.996Z"
   },
   {
    "duration": 4,
    "start_time": "2023-10-31T20:09:08.412Z"
   },
   {
    "duration": 30,
    "start_time": "2023-10-31T20:09:08.418Z"
   },
   {
    "duration": 15,
    "start_time": "2023-10-31T20:09:08.449Z"
   },
   {
    "duration": 10,
    "start_time": "2023-10-31T20:09:08.465Z"
   },
   {
    "duration": 5,
    "start_time": "2023-10-31T20:09:08.477Z"
   },
   {
    "duration": 14,
    "start_time": "2023-10-31T20:09:08.483Z"
   },
   {
    "duration": 5,
    "start_time": "2023-10-31T20:09:08.499Z"
   },
   {
    "duration": 25,
    "start_time": "2023-10-31T20:09:08.547Z"
   },
   {
    "duration": 237,
    "start_time": "2023-10-31T20:09:08.574Z"
   },
   {
    "duration": 11,
    "start_time": "2023-10-31T20:09:08.813Z"
   },
   {
    "duration": 32,
    "start_time": "2023-10-31T20:09:08.826Z"
   },
   {
    "duration": 363,
    "start_time": "2023-10-31T20:09:08.860Z"
   },
   {
    "duration": 42,
    "start_time": "2023-10-31T20:09:09.225Z"
   },
   {
    "duration": 27,
    "start_time": "2023-10-31T20:09:09.268Z"
   },
   {
    "duration": 279,
    "start_time": "2023-10-31T20:09:09.299Z"
   },
   {
    "duration": 28,
    "start_time": "2023-10-31T20:09:09.580Z"
   },
   {
    "duration": 39,
    "start_time": "2023-10-31T20:09:09.609Z"
   },
   {
    "duration": 401,
    "start_time": "2023-10-31T20:09:09.650Z"
   },
   {
    "duration": 535,
    "start_time": "2023-10-31T20:09:10.053Z"
   },
   {
    "duration": 57,
    "start_time": "2023-10-31T20:09:10.590Z"
   },
   {
    "duration": 404,
    "start_time": "2023-10-31T20:09:10.649Z"
   },
   {
    "duration": 5,
    "start_time": "2023-10-31T20:09:11.055Z"
   },
   {
    "duration": 332,
    "start_time": "2023-10-31T20:09:11.061Z"
   },
   {
    "duration": 5,
    "start_time": "2023-10-31T20:09:11.447Z"
   },
   {
    "duration": 31,
    "start_time": "2023-10-31T20:09:11.454Z"
   },
   {
    "duration": 488,
    "start_time": "2023-10-31T20:09:11.487Z"
   },
   {
    "duration": 4,
    "start_time": "2023-10-31T20:09:11.977Z"
   },
   {
    "duration": 269,
    "start_time": "2023-10-31T20:09:11.983Z"
   },
   {
    "duration": 6,
    "start_time": "2023-10-31T20:09:12.254Z"
   },
   {
    "duration": 18,
    "start_time": "2023-10-31T20:09:12.262Z"
   },
   {
    "duration": 331,
    "start_time": "2023-10-31T20:09:12.282Z"
   },
   {
    "duration": 543,
    "start_time": "2023-10-31T20:09:12.614Z"
   },
   {
    "duration": 888,
    "start_time": "2023-10-31T20:09:13.159Z"
   },
   {
    "duration": 843,
    "start_time": "2023-10-31T20:09:14.048Z"
   },
   {
    "duration": 9,
    "start_time": "2023-10-31T20:09:14.893Z"
   },
   {
    "duration": 44,
    "start_time": "2023-10-31T20:09:14.903Z"
   },
   {
    "duration": 47,
    "start_time": "2023-11-01T10:23:46.549Z"
   },
   {
    "duration": 1476,
    "start_time": "2023-11-01T10:29:24.115Z"
   },
   {
    "duration": 102,
    "start_time": "2023-11-01T10:29:25.593Z"
   },
   {
    "duration": 17,
    "start_time": "2023-11-01T10:29:25.698Z"
   },
   {
    "duration": 51,
    "start_time": "2023-11-01T10:29:25.716Z"
   },
   {
    "duration": 20,
    "start_time": "2023-11-01T10:29:25.769Z"
   },
   {
    "duration": 39,
    "start_time": "2023-11-01T10:29:25.791Z"
   },
   {
    "duration": 14,
    "start_time": "2023-11-01T10:29:25.832Z"
   },
   {
    "duration": 43,
    "start_time": "2023-11-01T10:29:25.848Z"
   },
   {
    "duration": 11,
    "start_time": "2023-11-01T10:29:25.894Z"
   },
   {
    "duration": 41,
    "start_time": "2023-11-01T10:29:25.908Z"
   },
   {
    "duration": 38,
    "start_time": "2023-11-01T10:29:25.951Z"
   },
   {
    "duration": 16,
    "start_time": "2023-11-01T10:29:25.992Z"
   },
   {
    "duration": 371,
    "start_time": "2023-11-01T10:29:26.009Z"
   },
   {
    "duration": 4,
    "start_time": "2023-11-01T10:29:26.382Z"
   },
   {
    "duration": 22,
    "start_time": "2023-11-01T10:29:26.388Z"
   },
   {
    "duration": 37,
    "start_time": "2023-11-01T10:29:26.412Z"
   },
   {
    "duration": 24,
    "start_time": "2023-11-01T10:29:26.451Z"
   },
   {
    "duration": 29,
    "start_time": "2023-11-01T10:29:26.477Z"
   },
   {
    "duration": 20,
    "start_time": "2023-11-01T10:29:26.508Z"
   },
   {
    "duration": 19,
    "start_time": "2023-11-01T10:29:26.530Z"
   },
   {
    "duration": 37,
    "start_time": "2023-11-01T10:29:26.551Z"
   },
   {
    "duration": 213,
    "start_time": "2023-11-01T10:29:26.590Z"
   },
   {
    "duration": 6,
    "start_time": "2023-11-01T10:29:26.805Z"
   },
   {
    "duration": 69,
    "start_time": "2023-11-01T10:29:26.813Z"
   },
   {
    "duration": 325,
    "start_time": "2023-11-01T10:29:26.884Z"
   },
   {
    "duration": 34,
    "start_time": "2023-11-01T10:29:27.211Z"
   },
   {
    "duration": 25,
    "start_time": "2023-11-01T10:29:27.247Z"
   },
   {
    "duration": 240,
    "start_time": "2023-11-01T10:29:27.275Z"
   },
   {
    "duration": 32,
    "start_time": "2023-11-01T10:29:27.516Z"
   },
   {
    "duration": 20,
    "start_time": "2023-11-01T10:29:27.550Z"
   },
   {
    "duration": 375,
    "start_time": "2023-11-01T10:29:27.571Z"
   },
   {
    "duration": 303,
    "start_time": "2023-11-01T10:29:27.948Z"
   },
   {
    "duration": 6,
    "start_time": "2023-11-01T10:29:28.253Z"
   },
   {
    "duration": 169,
    "start_time": "2023-11-01T10:29:28.260Z"
   },
   {
    "duration": 4,
    "start_time": "2023-11-01T10:29:28.431Z"
   },
   {
    "duration": 171,
    "start_time": "2023-11-01T10:29:28.437Z"
   },
   {
    "duration": 5,
    "start_time": "2023-11-01T10:29:28.610Z"
   },
   {
    "duration": 43,
    "start_time": "2023-11-01T10:29:28.617Z"
   },
   {
    "duration": 213,
    "start_time": "2023-11-01T10:29:28.662Z"
   },
   {
    "duration": 5,
    "start_time": "2023-11-01T10:29:28.876Z"
   },
   {
    "duration": 172,
    "start_time": "2023-11-01T10:29:28.882Z"
   },
   {
    "duration": 5,
    "start_time": "2023-11-01T10:29:29.055Z"
   },
   {
    "duration": 29,
    "start_time": "2023-11-01T10:29:29.062Z"
   },
   {
    "duration": 280,
    "start_time": "2023-11-01T10:29:29.092Z"
   },
   {
    "duration": 388,
    "start_time": "2023-11-01T10:29:29.373Z"
   },
   {
    "duration": 417,
    "start_time": "2023-11-01T10:29:29.762Z"
   },
   {
    "duration": 412,
    "start_time": "2023-11-01T10:29:30.182Z"
   },
   {
    "duration": 12,
    "start_time": "2023-11-01T10:29:30.597Z"
   },
   {
    "duration": 64,
    "start_time": "2023-11-01T10:29:30.611Z"
   },
   {
    "duration": 11,
    "start_time": "2023-11-01T10:35:44.795Z"
   },
   {
    "duration": 13,
    "start_time": "2023-11-01T10:37:08.544Z"
   },
   {
    "duration": 19,
    "start_time": "2023-11-01T10:37:24.534Z"
   },
   {
    "duration": 9,
    "start_time": "2023-11-01T10:41:48.792Z"
   },
   {
    "duration": 1109,
    "start_time": "2023-11-01T10:44:20.658Z"
   },
   {
    "duration": 54,
    "start_time": "2023-11-01T10:44:21.768Z"
   },
   {
    "duration": 17,
    "start_time": "2023-11-01T10:44:21.823Z"
   },
   {
    "duration": 23,
    "start_time": "2023-11-01T10:44:21.843Z"
   },
   {
    "duration": 3,
    "start_time": "2023-11-01T10:44:21.868Z"
   },
   {
    "duration": 11,
    "start_time": "2023-11-01T10:44:21.873Z"
   },
   {
    "duration": 22,
    "start_time": "2023-11-01T10:44:21.885Z"
   },
   {
    "duration": 18,
    "start_time": "2023-11-01T10:44:21.909Z"
   },
   {
    "duration": 23,
    "start_time": "2023-11-01T10:44:21.928Z"
   },
   {
    "duration": 14,
    "start_time": "2023-11-01T10:44:21.953Z"
   },
   {
    "duration": 4,
    "start_time": "2023-11-01T10:44:21.969Z"
   },
   {
    "duration": 31,
    "start_time": "2023-11-01T10:44:21.974Z"
   },
   {
    "duration": 42,
    "start_time": "2023-11-01T10:44:22.007Z"
   },
   {
    "duration": 380,
    "start_time": "2023-11-01T10:44:22.050Z"
   },
   {
    "duration": 5,
    "start_time": "2023-11-01T10:44:22.432Z"
   },
   {
    "duration": 19,
    "start_time": "2023-11-01T10:44:22.443Z"
   },
   {
    "duration": 22,
    "start_time": "2023-11-01T10:44:22.464Z"
   },
   {
    "duration": 21,
    "start_time": "2023-11-01T10:44:22.488Z"
   },
   {
    "duration": 7,
    "start_time": "2023-11-01T10:44:22.511Z"
   },
   {
    "duration": 30,
    "start_time": "2023-11-01T10:44:22.520Z"
   },
   {
    "duration": 8,
    "start_time": "2023-11-01T10:44:22.552Z"
   },
   {
    "duration": 8,
    "start_time": "2023-11-01T10:44:22.562Z"
   },
   {
    "duration": 26,
    "start_time": "2023-11-01T10:44:22.572Z"
   },
   {
    "duration": 206,
    "start_time": "2023-11-01T10:44:22.600Z"
   },
   {
    "duration": 7,
    "start_time": "2023-11-01T10:44:22.808Z"
   },
   {
    "duration": 59,
    "start_time": "2023-11-01T10:44:22.817Z"
   },
   {
    "duration": 301,
    "start_time": "2023-11-01T10:44:22.878Z"
   },
   {
    "duration": 28,
    "start_time": "2023-11-01T10:44:23.182Z"
   },
   {
    "duration": 42,
    "start_time": "2023-11-01T10:44:23.212Z"
   },
   {
    "duration": 249,
    "start_time": "2023-11-01T10:44:23.256Z"
   },
   {
    "duration": 24,
    "start_time": "2023-11-01T10:44:23.506Z"
   },
   {
    "duration": 15,
    "start_time": "2023-11-01T10:44:23.543Z"
   },
   {
    "duration": 412,
    "start_time": "2023-11-01T10:44:23.560Z"
   },
   {
    "duration": 310,
    "start_time": "2023-11-01T10:44:23.974Z"
   },
   {
    "duration": 7,
    "start_time": "2023-11-01T10:44:24.286Z"
   },
   {
    "duration": 204,
    "start_time": "2023-11-01T10:44:24.295Z"
   },
   {
    "duration": 8,
    "start_time": "2023-11-01T10:44:24.502Z"
   },
   {
    "duration": 216,
    "start_time": "2023-11-01T10:44:24.512Z"
   },
   {
    "duration": 15,
    "start_time": "2023-11-01T10:44:24.729Z"
   },
   {
    "duration": 16,
    "start_time": "2023-11-01T10:44:24.746Z"
   },
   {
    "duration": 227,
    "start_time": "2023-11-01T10:44:24.764Z"
   },
   {
    "duration": 5,
    "start_time": "2023-11-01T10:44:24.993Z"
   },
   {
    "duration": 167,
    "start_time": "2023-11-01T10:44:25.000Z"
   },
   {
    "duration": 5,
    "start_time": "2023-11-01T10:44:25.170Z"
   },
   {
    "duration": 62,
    "start_time": "2023-11-01T10:44:25.176Z"
   },
   {
    "duration": 281,
    "start_time": "2023-11-01T10:44:25.240Z"
   },
   {
    "duration": 402,
    "start_time": "2023-11-01T10:44:25.523Z"
   },
   {
    "duration": 388,
    "start_time": "2023-11-01T10:44:25.927Z"
   },
   {
    "duration": 433,
    "start_time": "2023-11-01T10:44:26.316Z"
   },
   {
    "duration": 10,
    "start_time": "2023-11-01T10:44:26.750Z"
   },
   {
    "duration": 21,
    "start_time": "2023-11-01T10:44:26.761Z"
   },
   {
    "duration": 25,
    "start_time": "2023-11-01T10:54:41.148Z"
   },
   {
    "duration": 1177,
    "start_time": "2023-11-01T10:57:20.217Z"
   },
   {
    "duration": 55,
    "start_time": "2023-11-01T10:57:21.396Z"
   },
   {
    "duration": 49,
    "start_time": "2023-11-01T10:57:21.453Z"
   },
   {
    "duration": 23,
    "start_time": "2023-11-01T10:57:21.505Z"
   },
   {
    "duration": 3,
    "start_time": "2023-11-01T10:57:21.530Z"
   },
   {
    "duration": 32,
    "start_time": "2023-11-01T10:57:21.535Z"
   },
   {
    "duration": 24,
    "start_time": "2023-11-01T10:57:21.569Z"
   },
   {
    "duration": 39,
    "start_time": "2023-11-01T10:57:21.595Z"
   },
   {
    "duration": 41,
    "start_time": "2023-11-01T10:57:21.636Z"
   },
   {
    "duration": 35,
    "start_time": "2023-11-01T10:57:21.681Z"
   },
   {
    "duration": 39,
    "start_time": "2023-11-01T10:57:21.718Z"
   },
   {
    "duration": 39,
    "start_time": "2023-11-01T10:57:21.759Z"
   },
   {
    "duration": 23,
    "start_time": "2023-11-01T10:57:21.800Z"
   },
   {
    "duration": 408,
    "start_time": "2023-11-01T10:57:21.825Z"
   },
   {
    "duration": 8,
    "start_time": "2023-11-01T10:57:22.235Z"
   },
   {
    "duration": 101,
    "start_time": "2023-11-01T10:57:22.245Z"
   },
   {
    "duration": 78,
    "start_time": "2023-11-01T10:57:22.348Z"
   },
   {
    "duration": 22,
    "start_time": "2023-11-01T10:57:22.428Z"
   },
   {
    "duration": 11,
    "start_time": "2023-11-01T10:57:22.452Z"
   },
   {
    "duration": 39,
    "start_time": "2023-11-01T10:57:22.465Z"
   },
   {
    "duration": 16,
    "start_time": "2023-11-01T10:57:22.506Z"
   },
   {
    "duration": 54,
    "start_time": "2023-11-01T10:57:22.523Z"
   },
   {
    "duration": 33,
    "start_time": "2023-11-01T10:57:22.579Z"
   },
   {
    "duration": 200,
    "start_time": "2023-11-01T10:57:22.613Z"
   },
   {
    "duration": 9,
    "start_time": "2023-11-01T10:57:22.815Z"
   },
   {
    "duration": 78,
    "start_time": "2023-11-01T10:57:22.826Z"
   },
   {
    "duration": 315,
    "start_time": "2023-11-01T10:57:22.905Z"
   },
   {
    "duration": 30,
    "start_time": "2023-11-01T10:57:23.223Z"
   },
   {
    "duration": 26,
    "start_time": "2023-11-01T10:57:23.254Z"
   },
   {
    "duration": 250,
    "start_time": "2023-11-01T10:57:23.282Z"
   },
   {
    "duration": 24,
    "start_time": "2023-11-01T10:57:23.543Z"
   },
   {
    "duration": 16,
    "start_time": "2023-11-01T10:57:23.569Z"
   },
   {
    "duration": 424,
    "start_time": "2023-11-01T10:57:23.587Z"
   },
   {
    "duration": 284,
    "start_time": "2023-11-01T10:57:24.013Z"
   },
   {
    "duration": 6,
    "start_time": "2023-11-01T10:57:24.299Z"
   },
   {
    "duration": 220,
    "start_time": "2023-11-01T10:57:24.307Z"
   },
   {
    "duration": 15,
    "start_time": "2023-11-01T10:57:24.529Z"
   },
   {
    "duration": 197,
    "start_time": "2023-11-01T10:57:24.546Z"
   },
   {
    "duration": 5,
    "start_time": "2023-11-01T10:57:24.745Z"
   },
   {
    "duration": 26,
    "start_time": "2023-11-01T10:57:24.751Z"
   },
   {
    "duration": 234,
    "start_time": "2023-11-01T10:57:24.779Z"
   },
   {
    "duration": 5,
    "start_time": "2023-11-01T10:57:25.015Z"
   },
   {
    "duration": 212,
    "start_time": "2023-11-01T10:57:25.021Z"
   },
   {
    "duration": 9,
    "start_time": "2023-11-01T10:57:25.235Z"
   },
   {
    "duration": 34,
    "start_time": "2023-11-01T10:57:25.246Z"
   },
   {
    "duration": 263,
    "start_time": "2023-11-01T10:57:25.281Z"
   },
   {
    "duration": 399,
    "start_time": "2023-11-01T10:57:25.546Z"
   },
   {
    "duration": 435,
    "start_time": "2023-11-01T10:57:25.947Z"
   },
   {
    "duration": 412,
    "start_time": "2023-11-01T10:57:26.384Z"
   },
   {
    "duration": 9,
    "start_time": "2023-11-01T10:57:26.798Z"
   },
   {
    "duration": 21,
    "start_time": "2023-11-01T10:57:26.808Z"
   },
   {
    "duration": 157,
    "start_time": "2023-11-01T11:05:32.672Z"
   },
   {
    "duration": 246,
    "start_time": "2023-11-01T11:05:38.885Z"
   },
   {
    "duration": 164,
    "start_time": "2023-11-01T11:07:08.559Z"
   },
   {
    "duration": 146,
    "start_time": "2023-11-01T11:07:25.722Z"
   },
   {
    "duration": 169,
    "start_time": "2023-11-01T11:07:35.183Z"
   },
   {
    "duration": 169,
    "start_time": "2023-11-01T11:07:43.815Z"
   },
   {
    "duration": 158,
    "start_time": "2023-11-01T11:07:49.432Z"
   },
   {
    "duration": 106,
    "start_time": "2023-11-01T11:08:57.407Z"
   },
   {
    "duration": 15,
    "start_time": "2023-11-01T11:09:27.887Z"
   },
   {
    "duration": 43,
    "start_time": "2023-11-02T09:45:15.111Z"
   },
   {
    "duration": 1259,
    "start_time": "2023-11-02T09:45:57.134Z"
   },
   {
    "duration": 93,
    "start_time": "2023-11-02T09:45:58.395Z"
   },
   {
    "duration": 13,
    "start_time": "2023-11-02T09:45:58.489Z"
   },
   {
    "duration": 20,
    "start_time": "2023-11-02T09:45:58.504Z"
   },
   {
    "duration": 9,
    "start_time": "2023-11-02T09:45:58.525Z"
   },
   {
    "duration": 19,
    "start_time": "2023-11-02T09:45:58.535Z"
   },
   {
    "duration": 19,
    "start_time": "2023-11-02T09:45:58.555Z"
   },
   {
    "duration": 29,
    "start_time": "2023-11-02T09:45:58.576Z"
   },
   {
    "duration": 9,
    "start_time": "2023-11-02T09:45:58.606Z"
   },
   {
    "duration": 10,
    "start_time": "2023-11-02T09:45:58.617Z"
   },
   {
    "duration": 4,
    "start_time": "2023-11-02T09:45:58.628Z"
   },
   {
    "duration": 22,
    "start_time": "2023-11-02T09:45:58.633Z"
   },
   {
    "duration": 13,
    "start_time": "2023-11-02T09:45:58.657Z"
   },
   {
    "duration": 297,
    "start_time": "2023-11-02T09:45:58.671Z"
   },
   {
    "duration": 3,
    "start_time": "2023-11-02T09:45:58.970Z"
   },
   {
    "duration": 14,
    "start_time": "2023-11-02T09:45:58.975Z"
   },
   {
    "duration": 12,
    "start_time": "2023-11-02T09:45:58.991Z"
   },
   {
    "duration": 6,
    "start_time": "2023-11-02T09:45:59.004Z"
   },
   {
    "duration": 29,
    "start_time": "2023-11-02T09:45:59.012Z"
   },
   {
    "duration": 8,
    "start_time": "2023-11-02T09:45:59.042Z"
   },
   {
    "duration": 15,
    "start_time": "2023-11-02T09:45:59.052Z"
   },
   {
    "duration": 5,
    "start_time": "2023-11-02T09:45:59.068Z"
   },
   {
    "duration": 21,
    "start_time": "2023-11-02T09:45:59.075Z"
   },
   {
    "duration": 209,
    "start_time": "2023-11-02T09:45:59.097Z"
   },
   {
    "duration": 7,
    "start_time": "2023-11-02T09:45:59.307Z"
   },
   {
    "duration": 30,
    "start_time": "2023-11-02T09:45:59.315Z"
   },
   {
    "duration": 274,
    "start_time": "2023-11-02T09:45:59.346Z"
   },
   {
    "duration": 30,
    "start_time": "2023-11-02T09:45:59.623Z"
   },
   {
    "duration": 23,
    "start_time": "2023-11-02T09:45:59.654Z"
   },
   {
    "duration": 255,
    "start_time": "2023-11-02T09:45:59.678Z"
   },
   {
    "duration": 21,
    "start_time": "2023-11-02T09:45:59.935Z"
   },
   {
    "duration": 15,
    "start_time": "2023-11-02T09:45:59.957Z"
   },
   {
    "duration": 358,
    "start_time": "2023-11-02T09:45:59.973Z"
   },
   {
    "duration": 262,
    "start_time": "2023-11-02T09:46:00.332Z"
   },
   {
    "duration": 5,
    "start_time": "2023-11-02T09:46:00.595Z"
   },
   {
    "duration": 176,
    "start_time": "2023-11-02T09:46:00.601Z"
   },
   {
    "duration": 4,
    "start_time": "2023-11-02T09:46:00.779Z"
   },
   {
    "duration": 166,
    "start_time": "2023-11-02T09:46:00.784Z"
   },
   {
    "duration": 4,
    "start_time": "2023-11-02T09:46:00.951Z"
   },
   {
    "duration": 46,
    "start_time": "2023-11-02T09:46:00.956Z"
   },
   {
    "duration": 249,
    "start_time": "2023-11-02T09:46:01.003Z"
   },
   {
    "duration": 4,
    "start_time": "2023-11-02T09:46:01.253Z"
   },
   {
    "duration": 201,
    "start_time": "2023-11-02T09:46:01.258Z"
   },
   {
    "duration": 4,
    "start_time": "2023-11-02T09:46:01.461Z"
   },
   {
    "duration": 28,
    "start_time": "2023-11-02T09:46:01.466Z"
   },
   {
    "duration": 262,
    "start_time": "2023-11-02T09:46:01.495Z"
   },
   {
    "duration": 9,
    "start_time": "2023-11-02T09:46:01.759Z"
   },
   {
    "duration": 417,
    "start_time": "2023-11-02T09:46:01.769Z"
   },
   {
    "duration": 380,
    "start_time": "2023-11-02T09:46:02.187Z"
   },
   {
    "duration": 7,
    "start_time": "2023-11-02T09:46:02.568Z"
   },
   {
    "duration": 6,
    "start_time": "2023-11-02T09:46:02.577Z"
   },
   {
    "duration": 1434,
    "start_time": "2023-11-02T09:46:42.997Z"
   },
   {
    "duration": 1220,
    "start_time": "2023-11-02T09:46:58.794Z"
   },
   {
    "duration": 299,
    "start_time": "2023-11-02T09:47:18.294Z"
   },
   {
    "duration": 296,
    "start_time": "2023-11-02T09:47:37.872Z"
   },
   {
    "duration": 56652,
    "start_time": "2023-11-02T09:47:53.167Z"
   },
   {
    "duration": 16,
    "start_time": "2023-11-02T09:49:26.421Z"
   },
   {
    "duration": 1084,
    "start_time": "2023-11-02T09:50:41.045Z"
   },
   {
    "duration": 51,
    "start_time": "2023-11-02T09:50:42.131Z"
   },
   {
    "duration": 13,
    "start_time": "2023-11-02T09:50:42.183Z"
   },
   {
    "duration": 23,
    "start_time": "2023-11-02T09:50:42.198Z"
   },
   {
    "duration": 2,
    "start_time": "2023-11-02T09:50:42.223Z"
   },
   {
    "duration": 5,
    "start_time": "2023-11-02T09:50:42.226Z"
   },
   {
    "duration": 12,
    "start_time": "2023-11-02T09:50:42.232Z"
   },
   {
    "duration": 19,
    "start_time": "2023-11-02T09:50:42.246Z"
   },
   {
    "duration": 8,
    "start_time": "2023-11-02T09:50:42.266Z"
   },
   {
    "duration": 11,
    "start_time": "2023-11-02T09:50:42.276Z"
   },
   {
    "duration": 4,
    "start_time": "2023-11-02T09:50:42.288Z"
   },
   {
    "duration": 23,
    "start_time": "2023-11-02T09:50:42.293Z"
   },
   {
    "duration": 31,
    "start_time": "2023-11-02T09:50:42.317Z"
   },
   {
    "duration": 318,
    "start_time": "2023-11-02T09:50:42.349Z"
   },
   {
    "duration": 4,
    "start_time": "2023-11-02T09:50:42.668Z"
   },
   {
    "duration": 16,
    "start_time": "2023-11-02T09:50:42.673Z"
   },
   {
    "duration": 14,
    "start_time": "2023-11-02T09:50:42.691Z"
   },
   {
    "duration": 15,
    "start_time": "2023-11-02T09:50:42.706Z"
   },
   {
    "duration": 10,
    "start_time": "2023-11-02T09:50:42.723Z"
   },
   {
    "duration": 12,
    "start_time": "2023-11-02T09:50:42.734Z"
   },
   {
    "duration": 15,
    "start_time": "2023-11-02T09:50:42.747Z"
   },
   {
    "duration": 4,
    "start_time": "2023-11-02T09:50:42.764Z"
   },
   {
    "duration": 25,
    "start_time": "2023-11-02T09:50:42.769Z"
   },
   {
    "duration": 186,
    "start_time": "2023-11-02T09:50:42.795Z"
   },
   {
    "duration": 7,
    "start_time": "2023-11-02T09:50:42.982Z"
   },
   {
    "duration": 19,
    "start_time": "2023-11-02T09:50:42.990Z"
   },
   {
    "duration": 269,
    "start_time": "2023-11-02T09:50:43.010Z"
   },
   {
    "duration": 22,
    "start_time": "2023-11-02T09:50:43.283Z"
   },
   {
    "duration": 34,
    "start_time": "2023-11-02T09:50:43.306Z"
   },
   {
    "duration": 235,
    "start_time": "2023-11-02T09:50:43.342Z"
   },
   {
    "duration": 21,
    "start_time": "2023-11-02T09:50:43.579Z"
   },
   {
    "duration": 13,
    "start_time": "2023-11-02T09:50:43.601Z"
   },
   {
    "duration": 352,
    "start_time": "2023-11-02T09:50:43.616Z"
   },
   {
    "duration": 259,
    "start_time": "2023-11-02T09:50:43.969Z"
   },
   {
    "duration": 5,
    "start_time": "2023-11-02T09:50:44.229Z"
   },
   {
    "duration": 141,
    "start_time": "2023-11-02T09:50:44.239Z"
   },
   {
    "duration": 4,
    "start_time": "2023-11-02T09:50:44.381Z"
   },
   {
    "duration": 153,
    "start_time": "2023-11-02T09:50:44.386Z"
   },
   {
    "duration": 3,
    "start_time": "2023-11-02T09:50:44.541Z"
   },
   {
    "duration": 15,
    "start_time": "2023-11-02T09:50:44.545Z"
   },
   {
    "duration": 196,
    "start_time": "2023-11-02T09:50:44.561Z"
   },
   {
    "duration": 3,
    "start_time": "2023-11-02T09:50:44.759Z"
   },
   {
    "duration": 156,
    "start_time": "2023-11-02T09:50:44.763Z"
   },
   {
    "duration": 4,
    "start_time": "2023-11-02T09:50:44.920Z"
   },
   {
    "duration": 26,
    "start_time": "2023-11-02T09:50:44.925Z"
   },
   {
    "duration": 254,
    "start_time": "2023-11-02T09:50:44.952Z"
   },
   {
    "duration": 11,
    "start_time": "2023-11-02T09:51:52.168Z"
   },
   {
    "duration": 1033,
    "start_time": "2023-11-02T09:51:58.487Z"
   },
   {
    "duration": 51,
    "start_time": "2023-11-02T09:51:59.522Z"
   },
   {
    "duration": 12,
    "start_time": "2023-11-02T09:51:59.574Z"
   },
   {
    "duration": 27,
    "start_time": "2023-11-02T09:51:59.588Z"
   },
   {
    "duration": 8,
    "start_time": "2023-11-02T09:51:59.616Z"
   },
   {
    "duration": 8,
    "start_time": "2023-11-02T09:51:59.625Z"
   },
   {
    "duration": 11,
    "start_time": "2023-11-02T09:51:59.634Z"
   },
   {
    "duration": 24,
    "start_time": "2023-11-02T09:51:59.646Z"
   },
   {
    "duration": 7,
    "start_time": "2023-11-02T09:51:59.671Z"
   },
   {
    "duration": 15,
    "start_time": "2023-11-02T09:51:59.680Z"
   },
   {
    "duration": 26,
    "start_time": "2023-11-02T09:51:59.697Z"
   },
   {
    "duration": 29,
    "start_time": "2023-11-02T09:51:59.725Z"
   },
   {
    "duration": 24,
    "start_time": "2023-11-02T09:51:59.756Z"
   },
   {
    "duration": 289,
    "start_time": "2023-11-02T09:51:59.782Z"
   },
   {
    "duration": 4,
    "start_time": "2023-11-02T09:52:00.073Z"
   },
   {
    "duration": 36,
    "start_time": "2023-11-02T09:52:00.079Z"
   },
   {
    "duration": 47,
    "start_time": "2023-11-02T09:52:00.116Z"
   },
   {
    "duration": 46,
    "start_time": "2023-11-02T09:52:00.164Z"
   },
   {
    "duration": 29,
    "start_time": "2023-11-02T09:52:00.211Z"
   },
   {
    "duration": 42,
    "start_time": "2023-11-02T09:52:00.241Z"
   },
   {
    "duration": 38,
    "start_time": "2023-11-02T09:52:00.285Z"
   },
   {
    "duration": 34,
    "start_time": "2023-11-02T09:52:00.324Z"
   },
   {
    "duration": 58,
    "start_time": "2023-11-02T09:52:00.359Z"
   },
   {
    "duration": 199,
    "start_time": "2023-11-02T09:52:00.419Z"
   },
   {
    "duration": 8,
    "start_time": "2023-11-02T09:52:00.620Z"
   },
   {
    "duration": 38,
    "start_time": "2023-11-02T09:52:00.639Z"
   },
   {
    "duration": 309,
    "start_time": "2023-11-02T09:52:00.679Z"
   },
   {
    "duration": 21,
    "start_time": "2023-11-02T09:52:00.992Z"
   },
   {
    "duration": 67,
    "start_time": "2023-11-02T09:52:01.014Z"
   },
   {
    "duration": 286,
    "start_time": "2023-11-02T09:52:01.083Z"
   },
   {
    "duration": 21,
    "start_time": "2023-11-02T09:52:01.371Z"
   },
   {
    "duration": 31,
    "start_time": "2023-11-02T09:52:01.393Z"
   },
   {
    "duration": 389,
    "start_time": "2023-11-02T09:52:01.426Z"
   },
   {
    "duration": 266,
    "start_time": "2023-11-02T09:52:01.817Z"
   },
   {
    "duration": 5,
    "start_time": "2023-11-02T09:52:02.085Z"
   },
   {
    "duration": 183,
    "start_time": "2023-11-02T09:52:02.091Z"
   },
   {
    "duration": 4,
    "start_time": "2023-11-02T09:52:02.275Z"
   },
   {
    "duration": 176,
    "start_time": "2023-11-02T09:52:02.280Z"
   },
   {
    "duration": 5,
    "start_time": "2023-11-02T09:52:02.458Z"
   },
   {
    "duration": 28,
    "start_time": "2023-11-02T09:52:02.465Z"
   },
   {
    "duration": 198,
    "start_time": "2023-11-02T09:52:02.494Z"
   },
   {
    "duration": 4,
    "start_time": "2023-11-02T09:52:02.693Z"
   },
   {
    "duration": 179,
    "start_time": "2023-11-02T09:52:02.698Z"
   },
   {
    "duration": 4,
    "start_time": "2023-11-02T09:52:02.878Z"
   },
   {
    "duration": 24,
    "start_time": "2023-11-02T09:52:02.884Z"
   },
   {
    "duration": 247,
    "start_time": "2023-11-02T09:52:02.910Z"
   },
   {
    "duration": 438,
    "start_time": "2023-11-02T09:53:00.089Z"
   },
   {
    "duration": 361,
    "start_time": "2023-11-02T09:53:00.529Z"
   },
   {
    "duration": 8,
    "start_time": "2023-11-02T09:53:00.891Z"
   },
   {
    "duration": 37,
    "start_time": "2023-11-02T09:53:00.900Z"
   },
   {
    "duration": 56701,
    "start_time": "2023-11-02T09:53:00.940Z"
   },
   {
    "duration": 285,
    "start_time": "2023-11-02T09:53:57.642Z"
   },
   {
    "duration": 16,
    "start_time": "2023-11-02T09:53:57.929Z"
   },
   {
    "duration": 104,
    "start_time": "2023-11-02T10:25:25.400Z"
   },
   {
    "duration": 18,
    "start_time": "2023-11-02T10:44:03.391Z"
   },
   {
    "duration": 8,
    "start_time": "2023-11-02T10:45:55.323Z"
   },
   {
    "duration": 13,
    "start_time": "2023-11-02T10:46:04.764Z"
   },
   {
    "duration": 19,
    "start_time": "2023-11-02T10:46:51.443Z"
   },
   {
    "duration": 1886,
    "start_time": "2023-11-02T10:46:59.224Z"
   },
   {
    "duration": 246,
    "start_time": "2023-11-02T10:47:10.252Z"
   },
   {
    "duration": 181,
    "start_time": "2023-11-02T10:48:28.034Z"
   },
   {
    "duration": 546,
    "start_time": "2023-11-02T10:48:47.824Z"
   },
   {
    "duration": 203,
    "start_time": "2023-11-02T10:48:58.587Z"
   },
   {
    "duration": 193,
    "start_time": "2023-11-02T10:49:07.444Z"
   },
   {
    "duration": 206,
    "start_time": "2023-11-02T10:49:31.897Z"
   },
   {
    "duration": 176,
    "start_time": "2023-11-02T10:49:50.069Z"
   },
   {
    "duration": 180,
    "start_time": "2023-11-02T10:50:26.534Z"
   },
   {
    "duration": 156,
    "start_time": "2023-11-02T10:50:40.290Z"
   },
   {
    "duration": 147,
    "start_time": "2023-11-02T10:50:44.783Z"
   },
   {
    "duration": 188,
    "start_time": "2023-11-02T10:50:51.518Z"
   },
   {
    "duration": 216,
    "start_time": "2023-11-02T10:51:02.581Z"
   },
   {
    "duration": 1110,
    "start_time": "2023-11-02T10:51:10.178Z"
   },
   {
    "duration": 57,
    "start_time": "2023-11-02T10:51:11.290Z"
   },
   {
    "duration": 21,
    "start_time": "2023-11-02T10:51:11.349Z"
   },
   {
    "duration": 22,
    "start_time": "2023-11-02T10:51:11.371Z"
   },
   {
    "duration": 3,
    "start_time": "2023-11-02T10:51:11.395Z"
   },
   {
    "duration": 18,
    "start_time": "2023-11-02T10:51:11.399Z"
   },
   {
    "duration": 20,
    "start_time": "2023-11-02T10:51:11.419Z"
   },
   {
    "duration": 27,
    "start_time": "2023-11-02T10:51:11.442Z"
   },
   {
    "duration": 9,
    "start_time": "2023-11-02T10:51:11.470Z"
   },
   {
    "duration": 15,
    "start_time": "2023-11-02T10:51:11.481Z"
   },
   {
    "duration": 15,
    "start_time": "2023-11-02T10:51:11.498Z"
   },
   {
    "duration": 35,
    "start_time": "2023-11-02T10:51:11.515Z"
   },
   {
    "duration": 15,
    "start_time": "2023-11-02T10:51:11.552Z"
   },
   {
    "duration": 330,
    "start_time": "2023-11-02T10:51:11.569Z"
   },
   {
    "duration": 5,
    "start_time": "2023-11-02T10:51:11.900Z"
   },
   {
    "duration": 14,
    "start_time": "2023-11-02T10:51:11.906Z"
   },
   {
    "duration": 28,
    "start_time": "2023-11-02T10:51:11.921Z"
   },
   {
    "duration": 11,
    "start_time": "2023-11-02T10:51:11.951Z"
   },
   {
    "duration": 7,
    "start_time": "2023-11-02T10:51:11.964Z"
   },
   {
    "duration": 8,
    "start_time": "2023-11-02T10:51:11.973Z"
   },
   {
    "duration": 8,
    "start_time": "2023-11-02T10:51:11.982Z"
   },
   {
    "duration": 4,
    "start_time": "2023-11-02T10:51:11.991Z"
   },
   {
    "duration": 59,
    "start_time": "2023-11-02T10:51:11.997Z"
   },
   {
    "duration": 219,
    "start_time": "2023-11-02T10:51:12.057Z"
   },
   {
    "duration": 7,
    "start_time": "2023-11-02T10:51:12.278Z"
   },
   {
    "duration": 19,
    "start_time": "2023-11-02T10:51:12.286Z"
   },
   {
    "duration": 360,
    "start_time": "2023-11-02T10:51:12.307Z"
   },
   {
    "duration": 29,
    "start_time": "2023-11-02T10:51:12.672Z"
   },
   {
    "duration": 43,
    "start_time": "2023-11-02T10:51:12.703Z"
   },
   {
    "duration": 277,
    "start_time": "2023-11-02T10:51:12.748Z"
   },
   {
    "duration": 30,
    "start_time": "2023-11-02T10:51:13.027Z"
   },
   {
    "duration": 16,
    "start_time": "2023-11-02T10:51:13.059Z"
   },
   {
    "duration": 415,
    "start_time": "2023-11-02T10:51:13.077Z"
   },
   {
    "duration": 289,
    "start_time": "2023-11-02T10:51:13.493Z"
   },
   {
    "duration": 4,
    "start_time": "2023-11-02T10:51:13.784Z"
   },
   {
    "duration": 158,
    "start_time": "2023-11-02T10:51:13.789Z"
   },
   {
    "duration": 4,
    "start_time": "2023-11-02T10:51:13.949Z"
   },
   {
    "duration": 170,
    "start_time": "2023-11-02T10:51:13.955Z"
   },
   {
    "duration": 4,
    "start_time": "2023-11-02T10:51:14.126Z"
   },
   {
    "duration": 19,
    "start_time": "2023-11-02T10:51:14.131Z"
   },
   {
    "duration": 245,
    "start_time": "2023-11-02T10:51:14.152Z"
   },
   {
    "duration": 4,
    "start_time": "2023-11-02T10:51:14.398Z"
   },
   {
    "duration": 171,
    "start_time": "2023-11-02T10:51:14.403Z"
   },
   {
    "duration": 4,
    "start_time": "2023-11-02T10:51:14.575Z"
   },
   {
    "duration": 16,
    "start_time": "2023-11-02T10:51:14.580Z"
   },
   {
    "duration": 267,
    "start_time": "2023-11-02T10:51:14.598Z"
   },
   {
    "duration": 20,
    "start_time": "2023-11-02T10:51:14.866Z"
   },
   {
    "duration": 193,
    "start_time": "2023-11-02T10:51:14.887Z"
   },
   {
    "duration": 414,
    "start_time": "2023-11-02T10:51:15.081Z"
   },
   {
    "duration": 392,
    "start_time": "2023-11-02T10:51:15.496Z"
   },
   {
    "duration": 7,
    "start_time": "2023-11-02T10:51:15.889Z"
   },
   {
    "duration": 9,
    "start_time": "2023-11-02T10:51:15.897Z"
   },
   {
    "duration": 8,
    "start_time": "2023-11-02T10:52:00.383Z"
   },
   {
    "duration": 269,
    "start_time": "2023-11-02T10:52:21.384Z"
   },
   {
    "duration": 8,
    "start_time": "2023-11-02T10:52:25.588Z"
   },
   {
    "duration": 106,
    "start_time": "2023-11-02T10:52:52.785Z"
   },
   {
    "duration": 180,
    "start_time": "2023-11-02T10:53:37.530Z"
   },
   {
    "duration": 235,
    "start_time": "2023-11-02T10:53:55.978Z"
   },
   {
    "duration": 182,
    "start_time": "2023-11-02T10:54:20.281Z"
   },
   {
    "duration": 168,
    "start_time": "2023-11-02T10:55:36.515Z"
   },
   {
    "duration": 182,
    "start_time": "2023-11-02T10:56:02.685Z"
   },
   {
    "duration": 183,
    "start_time": "2023-11-02T10:56:14.395Z"
   },
   {
    "duration": 180,
    "start_time": "2023-11-02T10:56:21.618Z"
   },
   {
    "duration": 180,
    "start_time": "2023-11-02T10:56:26.416Z"
   },
   {
    "duration": 175,
    "start_time": "2023-11-02T11:07:52.257Z"
   },
   {
    "duration": 159,
    "start_time": "2023-11-02T11:07:59.012Z"
   },
   {
    "duration": 168,
    "start_time": "2023-11-02T11:08:03.454Z"
   },
   {
    "duration": 181,
    "start_time": "2023-11-02T11:08:07.234Z"
   },
   {
    "duration": 327,
    "start_time": "2023-11-02T11:09:07.397Z"
   },
   {
    "duration": 531,
    "start_time": "2023-11-02T11:10:12.543Z"
   },
   {
    "duration": 536,
    "start_time": "2023-11-02T11:25:01.108Z"
   },
   {
    "duration": 16,
    "start_time": "2023-11-02T11:37:13.765Z"
   },
   {
    "duration": 478,
    "start_time": "2023-11-02T11:37:35.655Z"
   },
   {
    "duration": 1099,
    "start_time": "2023-11-02T11:39:45.671Z"
   },
   {
    "duration": 50,
    "start_time": "2023-11-02T11:39:46.772Z"
   },
   {
    "duration": 14,
    "start_time": "2023-11-02T11:39:46.823Z"
   },
   {
    "duration": 35,
    "start_time": "2023-11-02T11:39:46.838Z"
   },
   {
    "duration": 12,
    "start_time": "2023-11-02T11:39:46.874Z"
   },
   {
    "duration": 25,
    "start_time": "2023-11-02T11:39:46.887Z"
   },
   {
    "duration": 19,
    "start_time": "2023-11-02T11:39:46.913Z"
   },
   {
    "duration": 15,
    "start_time": "2023-11-02T11:39:46.933Z"
   },
   {
    "duration": 24,
    "start_time": "2023-11-02T11:39:46.949Z"
   },
   {
    "duration": 15,
    "start_time": "2023-11-02T11:39:46.976Z"
   },
   {
    "duration": 14,
    "start_time": "2023-11-02T11:39:46.992Z"
   },
   {
    "duration": 37,
    "start_time": "2023-11-02T11:39:47.008Z"
   },
   {
    "duration": 15,
    "start_time": "2023-11-02T11:39:47.046Z"
   },
   {
    "duration": 302,
    "start_time": "2023-11-02T11:39:47.063Z"
   },
   {
    "duration": 5,
    "start_time": "2023-11-02T11:39:47.366Z"
   },
   {
    "duration": 14,
    "start_time": "2023-11-02T11:39:47.373Z"
   },
   {
    "duration": 14,
    "start_time": "2023-11-02T11:39:47.388Z"
   },
   {
    "duration": 8,
    "start_time": "2023-11-02T11:39:47.404Z"
   },
   {
    "duration": 40,
    "start_time": "2023-11-02T11:39:47.413Z"
   },
   {
    "duration": 12,
    "start_time": "2023-11-02T11:39:47.456Z"
   },
   {
    "duration": 8,
    "start_time": "2023-11-02T11:39:47.470Z"
   },
   {
    "duration": 5,
    "start_time": "2023-11-02T11:39:47.479Z"
   },
   {
    "duration": 25,
    "start_time": "2023-11-02T11:39:47.485Z"
   },
   {
    "duration": 190,
    "start_time": "2023-11-02T11:39:47.512Z"
   },
   {
    "duration": 7,
    "start_time": "2023-11-02T11:39:47.704Z"
   },
   {
    "duration": 14,
    "start_time": "2023-11-02T11:39:47.713Z"
   },
   {
    "duration": 276,
    "start_time": "2023-11-02T11:39:47.739Z"
   },
   {
    "duration": 33,
    "start_time": "2023-11-02T11:39:48.018Z"
   },
   {
    "duration": 24,
    "start_time": "2023-11-02T11:39:48.052Z"
   },
   {
    "duration": 252,
    "start_time": "2023-11-02T11:39:48.077Z"
   },
   {
    "duration": 22,
    "start_time": "2023-11-02T11:39:48.331Z"
   },
   {
    "duration": 14,
    "start_time": "2023-11-02T11:39:48.354Z"
   },
   {
    "duration": 355,
    "start_time": "2023-11-02T11:39:48.370Z"
   },
   {
    "duration": 270,
    "start_time": "2023-11-02T11:39:48.726Z"
   },
   {
    "duration": 5,
    "start_time": "2023-11-02T11:39:48.997Z"
   },
   {
    "duration": 146,
    "start_time": "2023-11-02T11:39:49.003Z"
   },
   {
    "duration": 4,
    "start_time": "2023-11-02T11:39:49.150Z"
   },
   {
    "duration": 156,
    "start_time": "2023-11-02T11:39:49.156Z"
   },
   {
    "duration": 5,
    "start_time": "2023-11-02T11:39:49.313Z"
   },
   {
    "duration": 17,
    "start_time": "2023-11-02T11:39:49.319Z"
   },
   {
    "duration": 213,
    "start_time": "2023-11-02T11:39:49.338Z"
   },
   {
    "duration": 4,
    "start_time": "2023-11-02T11:39:49.553Z"
   },
   {
    "duration": 178,
    "start_time": "2023-11-02T11:39:49.559Z"
   },
   {
    "duration": 4,
    "start_time": "2023-11-02T11:39:49.739Z"
   },
   {
    "duration": 26,
    "start_time": "2023-11-02T11:39:49.744Z"
   },
   {
    "duration": 246,
    "start_time": "2023-11-02T11:39:49.772Z"
   },
   {
    "duration": 27,
    "start_time": "2023-11-02T11:39:50.019Z"
   },
   {
    "duration": 502,
    "start_time": "2023-11-02T11:39:50.048Z"
   },
   {
    "duration": 504,
    "start_time": "2023-11-02T11:39:50.552Z"
   },
   {
    "duration": 506,
    "start_time": "2023-11-02T11:39:51.057Z"
   },
   {
    "duration": 7,
    "start_time": "2023-11-02T11:39:51.565Z"
   },
   {
    "duration": 14,
    "start_time": "2023-11-02T11:39:51.574Z"
   },
   {
    "duration": 8,
    "start_time": "2023-11-02T11:43:05.845Z"
   },
   {
    "duration": 13,
    "start_time": "2023-11-02T11:44:39.006Z"
   },
   {
    "duration": 14,
    "start_time": "2023-11-02T11:44:57.109Z"
   },
   {
    "duration": 13,
    "start_time": "2023-11-02T11:45:07.174Z"
   },
   {
    "duration": 4,
    "start_time": "2023-11-02T11:45:49.869Z"
   },
   {
    "duration": 13,
    "start_time": "2023-11-02T11:46:01.965Z"
   },
   {
    "duration": 14,
    "start_time": "2023-11-02T11:46:10.632Z"
   },
   {
    "duration": 1127,
    "start_time": "2023-11-02T22:17:54.838Z"
   },
   {
    "duration": 53,
    "start_time": "2023-11-02T22:17:55.969Z"
   },
   {
    "duration": 14,
    "start_time": "2023-11-02T22:17:56.023Z"
   },
   {
    "duration": 35,
    "start_time": "2023-11-02T22:17:56.039Z"
   },
   {
    "duration": 3,
    "start_time": "2023-11-02T22:17:56.075Z"
   },
   {
    "duration": 10,
    "start_time": "2023-11-02T22:17:56.079Z"
   },
   {
    "duration": 12,
    "start_time": "2023-11-02T22:17:56.090Z"
   },
   {
    "duration": 16,
    "start_time": "2023-11-02T22:17:56.103Z"
   },
   {
    "duration": 105,
    "start_time": "2023-11-02T22:17:56.120Z"
   },
   {
    "duration": 15,
    "start_time": "2023-11-02T22:18:04.055Z"
   },
   {
    "duration": 20,
    "start_time": "2023-11-02T22:18:12.757Z"
   },
   {
    "duration": 1105,
    "start_time": "2023-11-02T22:21:55.223Z"
   },
   {
    "duration": 77,
    "start_time": "2023-11-02T22:21:56.330Z"
   },
   {
    "duration": 14,
    "start_time": "2023-11-02T22:21:56.409Z"
   },
   {
    "duration": 31,
    "start_time": "2023-11-02T22:21:56.425Z"
   },
   {
    "duration": 6,
    "start_time": "2023-11-02T22:21:56.458Z"
   },
   {
    "duration": 5,
    "start_time": "2023-11-02T22:21:56.465Z"
   },
   {
    "duration": 6,
    "start_time": "2023-11-02T22:21:56.471Z"
   },
   {
    "duration": 21,
    "start_time": "2023-11-02T22:21:56.478Z"
   },
   {
    "duration": 18,
    "start_time": "2023-11-02T22:21:56.500Z"
   },
   {
    "duration": 40,
    "start_time": "2023-11-02T22:21:56.520Z"
   },
   {
    "duration": 13,
    "start_time": "2023-11-02T22:21:56.561Z"
   },
   {
    "duration": 4,
    "start_time": "2023-11-02T22:21:56.576Z"
   },
   {
    "duration": 19,
    "start_time": "2023-11-02T22:21:56.582Z"
   },
   {
    "duration": 13,
    "start_time": "2023-11-02T22:21:56.605Z"
   },
   {
    "duration": 350,
    "start_time": "2023-11-02T22:21:56.620Z"
   },
   {
    "duration": 4,
    "start_time": "2023-11-02T22:21:56.971Z"
   },
   {
    "duration": 16,
    "start_time": "2023-11-02T22:21:56.976Z"
   },
   {
    "duration": 21,
    "start_time": "2023-11-02T22:21:56.993Z"
   },
   {
    "duration": 11,
    "start_time": "2023-11-02T22:21:57.015Z"
   },
   {
    "duration": 38,
    "start_time": "2023-11-02T22:21:57.027Z"
   },
   {
    "duration": 8,
    "start_time": "2023-11-02T22:21:57.067Z"
   },
   {
    "duration": 8,
    "start_time": "2023-11-02T22:21:57.076Z"
   },
   {
    "duration": 5,
    "start_time": "2023-11-02T22:21:57.085Z"
   },
   {
    "duration": 24,
    "start_time": "2023-11-02T22:21:57.091Z"
   },
   {
    "duration": 192,
    "start_time": "2023-11-02T22:21:57.116Z"
   },
   {
    "duration": 6,
    "start_time": "2023-11-02T22:21:57.309Z"
   },
   {
    "duration": 16,
    "start_time": "2023-11-02T22:21:57.317Z"
   },
   {
    "duration": 297,
    "start_time": "2023-11-02T22:21:57.339Z"
   },
   {
    "duration": 35,
    "start_time": "2023-11-02T22:21:57.637Z"
   },
   {
    "duration": 22,
    "start_time": "2023-11-02T22:21:57.673Z"
   },
   {
    "duration": 264,
    "start_time": "2023-11-02T22:21:57.696Z"
   },
   {
    "duration": 21,
    "start_time": "2023-11-02T22:21:57.965Z"
   },
   {
    "duration": 14,
    "start_time": "2023-11-02T22:21:57.987Z"
   },
   {
    "duration": 370,
    "start_time": "2023-11-02T22:21:58.002Z"
   },
   {
    "duration": 295,
    "start_time": "2023-11-02T22:21:58.373Z"
   },
   {
    "duration": 5,
    "start_time": "2023-11-02T22:21:58.669Z"
   },
   {
    "duration": 186,
    "start_time": "2023-11-02T22:21:58.675Z"
   },
   {
    "duration": 5,
    "start_time": "2023-11-02T22:21:58.862Z"
   },
   {
    "duration": 196,
    "start_time": "2023-11-02T22:21:58.869Z"
   },
   {
    "duration": 5,
    "start_time": "2023-11-02T22:21:59.066Z"
   },
   {
    "duration": 12,
    "start_time": "2023-11-02T22:21:59.076Z"
   },
   {
    "duration": 217,
    "start_time": "2023-11-02T22:21:59.090Z"
   },
   {
    "duration": 4,
    "start_time": "2023-11-02T22:21:59.308Z"
   },
   {
    "duration": 181,
    "start_time": "2023-11-02T22:21:59.313Z"
   },
   {
    "duration": 4,
    "start_time": "2023-11-02T22:21:59.496Z"
   },
   {
    "duration": 31,
    "start_time": "2023-11-02T22:21:59.502Z"
   },
   {
    "duration": 294,
    "start_time": "2023-11-02T22:21:59.535Z"
   },
   {
    "duration": 535,
    "start_time": "2023-11-02T22:21:59.831Z"
   },
   {
    "duration": 540,
    "start_time": "2023-11-02T22:22:00.368Z"
   },
   {
    "duration": 499,
    "start_time": "2023-11-02T22:22:00.910Z"
   },
   {
    "duration": 13,
    "start_time": "2023-11-02T22:22:01.410Z"
   },
   {
    "duration": 42,
    "start_time": "2023-11-02T22:22:01.424Z"
   }
  ],
  "kernelspec": {
   "display_name": "Python 3 (ipykernel)",
   "language": "python",
   "name": "python3"
  },
  "language_info": {
   "codemirror_mode": {
    "name": "ipython",
    "version": 3
   },
   "file_extension": ".py",
   "mimetype": "text/x-python",
   "name": "python",
   "nbconvert_exporter": "python",
   "pygments_lexer": "ipython3",
   "version": "3.9.5"
  },
  "toc": {
   "base_numbering": 1,
   "nav_menu": {},
   "number_sections": true,
   "sideBar": true,
   "skip_h1_title": true,
   "title_cell": "Table of Contents",
   "title_sidebar": "Contents",
   "toc_cell": false,
   "toc_position": {
    "height": "calc(100% - 180px)",
    "left": "10px",
    "top": "150px",
    "width": "355px"
   },
   "toc_section_display": true,
   "toc_window_display": false
  }
 },
 "nbformat": 4,
 "nbformat_minor": 2
}
